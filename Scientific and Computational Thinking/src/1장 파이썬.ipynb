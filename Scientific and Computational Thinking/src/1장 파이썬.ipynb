{
 "cells": [
  {
   "cell_type": "code",
   "execution_count": 1,
   "metadata": {},
   "outputs": [
    {
     "name": "stdout",
     "output_type": "stream",
     "text": [
      "hello world\n",
      "안녕 세상아!\n"
     ]
    }
   ],
   "source": [
    "print('hello world')\n",
    "print('안녕 세상아!')"
   ]
  },
  {
   "cell_type": "code",
   "execution_count": 2,
   "metadata": {},
   "outputs": [
    {
     "name": "stdout",
     "output_type": "stream",
     "text": [
      "hello world\n"
     ]
    }
   ],
   "source": [
    "school = 'hello world'\n",
    "print(school)"
   ]
  },
  {
   "cell_type": "code",
   "execution_count": 3,
   "metadata": {},
   "outputs": [
    {
     "name": "stdout",
     "output_type": "stream",
     "text": [
      "hi\n"
     ]
    }
   ],
   "source": [
    "x='hi'\n",
    "print(x)"
   ]
  },
  {
   "cell_type": "markdown",
   "metadata": {},
   "source": [
    "## 식별자의 잘못된 예\n",
    "\n",
    "#### 특수문자 사용불가\n",
    "a!b=10\n",
    "print(a!b)\n",
    "\n",
    "#### 특수문자, 문장부호, 공백문자 사용불가\n",
    "가&나=1\n",
    "print(가&나)\n",
    "\n",
    "#### 식별자의 첫글자는 숫자 사용불가\n",
    "20신입생=1\n",
    "print(20신입생)\n",
    "\n",
    "#### 예약어 사용불가\n",
    "print=2\n",
    "print(print)"
   ]
  },
  {
   "cell_type": "code",
   "execution_count": 4,
   "metadata": {},
   "outputs": [
    {
     "name": "stdout",
     "output_type": "stream",
     "text": [
      "Kookmin University\n",
      "hi\n"
     ]
    }
   ],
   "source": [
    "# 스네이트 케이스로 식별자 지정\n",
    "myNewSchool='Kookmin University'\n",
    "print(myNewSchool)\n",
    "\n",
    "abc_='hi'\n",
    "print(abc_)"
   ]
  },
  {
   "cell_type": "code",
   "execution_count": 5,
   "metadata": {},
   "outputs": [
    {
     "name": "stdout",
     "output_type": "stream",
     "text": [
      "['False', 'None', 'True', 'and', 'as', 'assert', 'async', 'await', 'break', 'class', 'continue', 'def', 'del', 'elif', 'else', 'except', 'finally', 'for', 'from', 'global', 'if', 'import', 'in', 'is', 'lambda', 'nonlocal', 'not', 'or', 'pass', 'raise', 'return', 'try', 'while', 'with', 'yield']\n"
     ]
    }
   ],
   "source": [
    "# 변수이름으로 사용불가\n",
    "import keyword\n",
    "print(keyword.kwlist)"
   ]
  },
  {
   "cell_type": "markdown",
   "metadata": {},
   "source": [
    "# Memory"
   ]
  },
  {
   "cell_type": "code",
   "execution_count": 6,
   "metadata": {},
   "outputs": [
    {
     "name": "stdout",
     "output_type": "stream",
     "text": [
      "국민대학교\n"
     ]
    }
   ],
   "source": [
    "school='국민대학교'\n",
    "print(school)"
   ]
  },
  {
   "cell_type": "code",
   "execution_count": 7,
   "metadata": {},
   "outputs": [
    {
     "name": "stdout",
     "output_type": "stream",
     "text": [
      "kookmin\n",
      "kookmin\n"
     ]
    }
   ],
   "source": [
    "myschool = 'kookmin'\n",
    "yourschool = myschool\n",
    "print(myschool)\n",
    "print(yourschool)"
   ]
  },
  {
   "cell_type": "code",
   "execution_count": 16,
   "metadata": {},
   "outputs": [
    {
     "name": "stdout",
     "output_type": "stream",
     "text": [
      "Teacher id= 2865371736624\n",
      "Teacher id= 2865371736048\n",
      "MyTeacher id= 2865371735984\n",
      "YourTeacher id= 2865371735984\n"
     ]
    }
   ],
   "source": [
    "Teacher = 'Mr. Morton'\n",
    "print(\"Teacher id=\", id(Teacher))\n",
    "Teacher = \"Ms. Senders\"\n",
    "print(\"Teacher id=\", id(Teacher))\n",
    "MyTeacher = \"Ms. Sanders\"\n",
    "YourTeacher = MyTeacher\n",
    "print(\"MyTeacher id=\", id(MyTeacher))\n",
    "print(\"YourTeacher id=\", id(YourTeacher))\n",
    "\n",
    "del YourTeacher\n",
    "del MyTeacher"
   ]
  },
  {
   "cell_type": "code",
   "execution_count": 10,
   "metadata": {},
   "outputs": [
    {
     "data": {
      "text/plain": [
       "140731823765280"
      ]
     },
     "execution_count": 10,
     "metadata": {},
     "output_type": "execute_result"
    }
   ],
   "source": [
    "id(1)"
   ]
  },
  {
   "cell_type": "code",
   "execution_count": 11,
   "metadata": {},
   "outputs": [
    {
     "data": {
      "text/plain": [
       "140731823765312"
      ]
     },
     "execution_count": 11,
     "metadata": {},
     "output_type": "execute_result"
    }
   ],
   "source": [
    "id(2)"
   ]
  },
  {
   "cell_type": "code",
   "execution_count": 12,
   "metadata": {},
   "outputs": [
    {
     "data": {
      "text/plain": [
       "140731823768448"
      ]
     },
     "execution_count": 12,
     "metadata": {},
     "output_type": "execute_result"
    }
   ],
   "source": [
    "id(100)"
   ]
  },
  {
   "cell_type": "code",
   "execution_count": 13,
   "metadata": {},
   "outputs": [
    {
     "data": {
      "text/plain": [
       "2865379054064"
      ]
     },
     "execution_count": 13,
     "metadata": {},
     "output_type": "execute_result"
    }
   ],
   "source": [
    "id(300)"
   ]
  },
  {
   "cell_type": "code",
   "execution_count": 14,
   "metadata": {},
   "outputs": [
    {
     "name": "stdout",
     "output_type": "stream",
     "text": [
      "2865283876656\n"
     ]
    }
   ],
   "source": [
    "print(id(\"p\"))"
   ]
  },
  {
   "cell_type": "markdown",
   "metadata": {},
   "source": [
    "#### 'p'는 string 객체\n",
    "\n",
    "\n",
    "#### print(id(p))\n",
    "#### -> NameError: name 'p' is not defined"
   ]
  },
  {
   "cell_type": "code",
   "execution_count": 17,
   "metadata": {},
   "outputs": [
    {
     "name": "stdout",
     "output_type": "stream",
     "text": [
      "hello world\n"
     ]
    }
   ],
   "source": [
    "print('hello world') # -> 출력만 하고 실행후에는 참조대상이 없기 때문에 garbage collecting의 대상"
   ]
  },
  {
   "cell_type": "code",
   "execution_count": 18,
   "metadata": {},
   "outputs": [
    {
     "name": "stdout",
     "output_type": "stream",
     "text": [
      "hello world\n"
     ]
    }
   ],
   "source": [
    "x = 'hello world'\n",
    "print(x)"
   ]
  },
  {
   "cell_type": "code",
   "execution_count": 19,
   "metadata": {},
   "outputs": [
    {
     "name": "stdout",
     "output_type": "stream",
     "text": [
      "hello world\n"
     ]
    }
   ],
   "source": [
    "print(x)"
   ]
  },
  {
   "cell_type": "markdown",
   "metadata": {},
   "source": [
    "# 자료형"
   ]
  },
  {
   "cell_type": "code",
   "execution_count": 20,
   "metadata": {},
   "outputs": [
    {
     "name": "stdout",
     "output_type": "stream",
     "text": [
      "10 3.14 cat\n"
     ]
    }
   ],
   "source": [
    "a=10\n",
    "b=3.14\n",
    "c='cat'\n",
    "print(a,b,c)"
   ]
  },
  {
   "cell_type": "code",
   "execution_count": 22,
   "metadata": {},
   "outputs": [
    {
     "name": "stdout",
     "output_type": "stream",
     "text": [
      "<class 'int'> <class 'float'> <class 'str'>\n"
     ]
    }
   ],
   "source": [
    "print(type(a),type(b),type(c))"
   ]
  },
  {
   "cell_type": "code",
   "execution_count": 26,
   "metadata": {},
   "outputs": [
    {
     "name": "stdout",
     "output_type": "stream",
     "text": [
      "345\n",
      "345\n"
     ]
    }
   ],
   "source": [
    "x='345'\n",
    "y=345\n",
    "print(x) # string 345 -> '345'\n",
    "print(int(x)) # int 345 -> 345"
   ]
  },
  {
   "cell_type": "code",
   "execution_count": 24,
   "metadata": {},
   "outputs": [
    {
     "name": "stdout",
     "output_type": "stream",
     "text": [
      "(3+2j)\n"
     ]
    }
   ],
   "source": [
    "z=3+2j\n",
    "print(z)"
   ]
  },
  {
   "cell_type": "code",
   "execution_count": 28,
   "metadata": {},
   "outputs": [
    {
     "name": "stdout",
     "output_type": "stream",
     "text": [
      "a+y= 355\n"
     ]
    }
   ],
   "source": [
    "print(\"a+y=\",a+y)"
   ]
  },
  {
   "cell_type": "markdown",
   "metadata": {},
   "source": [
    "#### TypeError: can only concatenate str (not \"int\") to str\n",
    "print(\"x+y=\",x+y)"
   ]
  },
  {
   "cell_type": "code",
   "execution_count": 30,
   "metadata": {},
   "outputs": [
    {
     "name": "stdout",
     "output_type": "stream",
     "text": [
      "x+x1= 345678\n"
     ]
    }
   ],
   "source": [
    "# 문자열끼리의 덧셈 -> 합치기\n",
    "x1='678'\n",
    "print(\"x+x1=\", x+x1)"
   ]
  },
  {
   "cell_type": "code",
   "execution_count": 31,
   "metadata": {},
   "outputs": [
    {
     "name": "stdout",
     "output_type": "stream",
     "text": [
      "False\n",
      "True\n",
      "False\n",
      "True\n",
      "False\n",
      "False\n"
     ]
    }
   ],
   "source": [
    "x=30\n",
    "y=40\n",
    "print(x>y)\n",
    "print(x<y)\n",
    "print(x==y)\n",
    "print((x<y) and (x==30))\n",
    "print(not (x==30))\n",
    "print(y!=40)"
   ]
  },
  {
   "cell_type": "code",
   "execution_count": 32,
   "metadata": {},
   "outputs": [
    {
     "name": "stdout",
     "output_type": "stream",
     "text": [
      "True\n"
     ]
    }
   ],
   "source": [
    "print(bool(x==30))"
   ]
  },
  {
   "cell_type": "markdown",
   "metadata": {},
   "source": [
    "### bool()\n",
    "### 0일때 False, 나머지 수는 True"
   ]
  },
  {
   "cell_type": "code",
   "execution_count": 33,
   "metadata": {},
   "outputs": [
    {
     "name": "stdout",
     "output_type": "stream",
     "text": [
      "hello world!\n",
      "3.14\n"
     ]
    }
   ],
   "source": [
    "x='hello world!'\n",
    "print(x)\n",
    "y='3.14'\n",
    "print(y)"
   ]
  },
  {
   "cell_type": "code",
   "execution_count": 34,
   "metadata": {},
   "outputs": [
    {
     "name": "stdout",
     "output_type": "stream",
     "text": [
      "이중 인용부호나, 단일 인용부호 3개를\n",
      "연달아 사용하여 양쪽으로 감쌀 경우,\n",
      "여러 줄의 문자열을 한 번에 표현 가능\n"
     ]
    }
   ],
   "source": [
    "z = \"\"\"이중 인용부호나, 단일 인용부호 3개를\n",
    "연달아 사용하여 양쪽으로 감쌀 경우,\n",
    "여러 줄의 문자열을 한 번에 표현 가능\"\"\"\n",
    "print(z)"
   ]
  },
  {
   "cell_type": "code",
   "execution_count": 36,
   "metadata": {},
   "outputs": [
    {
     "name": "stdout",
     "output_type": "stream",
     "text": [
      "hello world!3.14hello world!\n"
     ]
    }
   ],
   "source": [
    "print(x+y+x)"
   ]
  },
  {
   "cell_type": "code",
   "execution_count": 37,
   "metadata": {},
   "outputs": [
    {
     "name": "stdout",
     "output_type": "stream",
     "text": [
      "hello world!hello world!hello world!hello world!\n"
     ]
    }
   ],
   "source": [
    "print(4*x)"
   ]
  },
  {
   "cell_type": "markdown",
   "metadata": {},
   "source": [
    "#### TypeError: unsupported operand type(s) for +: 'int' and 'str'\n",
    "#### print(4+x)"
   ]
  },
  {
   "cell_type": "code",
   "execution_count": 40,
   "metadata": {},
   "outputs": [
    {
     "name": "stdout",
     "output_type": "stream",
     "text": [
      "4hello world!\n"
     ]
    }
   ],
   "source": [
    "z=\"4\"+x\n",
    "print(z)"
   ]
  },
  {
   "cell_type": "code",
   "execution_count": 41,
   "metadata": {},
   "outputs": [
    {
     "name": "stdout",
     "output_type": "stream",
     "text": [
      "4hello world!4hello world!4hello world!4hello world!\n"
     ]
    }
   ],
   "source": [
    "print(4*z)"
   ]
  },
  {
   "cell_type": "code",
   "execution_count": 42,
   "metadata": {},
   "outputs": [
    {
     "name": "stdout",
     "output_type": "stream",
     "text": [
      "abcdefg\n"
     ]
    }
   ],
   "source": [
    "s = 'abcdefg'\n",
    "print(s)"
   ]
  },
  {
   "cell_type": "code",
   "execution_count": 43,
   "metadata": {},
   "outputs": [
    {
     "name": "stdout",
     "output_type": "stream",
     "text": [
      "d\n"
     ]
    }
   ],
   "source": [
    "# (3+1) 번째\n",
    "print(s[3])"
   ]
  },
  {
   "cell_type": "code",
   "execution_count": 44,
   "metadata": {},
   "outputs": [
    {
     "name": "stdout",
     "output_type": "stream",
     "text": [
      "ab\n"
     ]
    }
   ],
   "source": [
    "# 0번째 부터 (2-1)번째 까지\n",
    "print(s[0:2])"
   ]
  },
  {
   "cell_type": "code",
   "execution_count": 45,
   "metadata": {},
   "outputs": [
    {
     "name": "stdout",
     "output_type": "stream",
     "text": [
      "abcde\n"
     ]
    }
   ],
   "source": [
    "# 0번째 부터 (5-1)번째 까지\n",
    "print(s[0:5])"
   ]
  },
  {
   "cell_type": "code",
   "execution_count": 46,
   "metadata": {},
   "outputs": [
    {
     "name": "stdout",
     "output_type": "stream",
     "text": [
      "abcdefg\n"
     ]
    }
   ],
   "source": [
    "print(s[:])"
   ]
  },
  {
   "cell_type": "code",
   "execution_count": 47,
   "metadata": {},
   "outputs": [
    {
     "name": "stdout",
     "output_type": "stream",
     "text": [
      "f\n"
     ]
    }
   ],
   "source": [
    "# -2는 뒤에서 두번째 = 5\n",
    "print(s[-2:6])"
   ]
  },
  {
   "cell_type": "markdown",
   "metadata": {},
   "source": [
    "#### (3+1)번째 문자 변경시도 -> 에러발생 -> 중간의 값은 변경할 수 없으므로 전체를 변경해야함\n",
    "#### s[3] = 'z'\n",
    "#### -> TypeError: 'str' object does not support item assignment"
   ]
  },
  {
   "cell_type": "code",
   "execution_count": 50,
   "metadata": {},
   "outputs": [
    {
     "name": "stdout",
     "output_type": "stream",
     "text": [
      "7\n"
     ]
    }
   ],
   "source": [
    "s = 'abcdefg'\n",
    "l = len(s)\n",
    "print(l)"
   ]
  },
  {
   "cell_type": "code",
   "execution_count": 51,
   "metadata": {},
   "outputs": [
    {
     "name": "stdout",
     "output_type": "stream",
     "text": [
      "5\n"
     ]
    }
   ],
   "source": [
    "print(len('안녕하세요'))"
   ]
  },
  {
   "cell_type": "code",
   "execution_count": 53,
   "metadata": {},
   "outputs": [
    {
     "name": "stdout",
     "output_type": "stream",
     "text": [
      "13\n"
     ]
    }
   ],
   "source": [
    "print(len('010-7777-7777'))"
   ]
  },
  {
   "cell_type": "code",
   "execution_count": 54,
   "metadata": {},
   "outputs": [
    {
     "name": "stdout",
     "output_type": "stream",
     "text": [
      "3414\n"
     ]
    }
   ],
   "source": [
    "print(str(3414))"
   ]
  },
  {
   "cell_type": "code",
   "execution_count": 55,
   "metadata": {},
   "outputs": [
    {
     "name": "stdout",
     "output_type": "stream",
     "text": [
      "(3+4j)\n"
     ]
    }
   ],
   "source": [
    "x=3+4j\n",
    "s=str(x)\n",
    "print(s)"
   ]
  },
  {
   "cell_type": "code",
   "execution_count": 56,
   "metadata": {},
   "outputs": [
    {
     "name": "stdout",
     "output_type": "stream",
     "text": [
      "3\n"
     ]
    }
   ],
   "source": [
    "print(s[1])"
   ]
  },
  {
   "cell_type": "code",
   "execution_count": 59,
   "metadata": {},
   "outputs": [
    {
     "name": "stdout",
     "output_type": "stream",
     "text": [
      "1\n",
      "14\n"
     ]
    }
   ],
   "source": [
    "p=3.14\n",
    "s=str(p)\n",
    "print(s[2])\n",
    "print(s[2:4])\n",
    "# 부분으로 이루어진 string -> substring"
   ]
  },
  {
   "cell_type": "code",
   "execution_count": 60,
   "metadata": {},
   "outputs": [
    {
     "name": "stdout",
     "output_type": "stream",
     "text": [
      "65\n",
      "B\n",
      "C\n"
     ]
    }
   ],
   "source": [
    "print(ord('A'))\n",
    "print(chr(ord('A')+1))\n",
    "print(chr(ord('A')+2))"
   ]
  },
  {
   "cell_type": "code",
   "execution_count": 61,
   "metadata": {},
   "outputs": [
    {
     "name": "stdout",
     "output_type": "stream",
     "text": [
      "None\n"
     ]
    }
   ],
   "source": [
    "x = None\n",
    "print(x)"
   ]
  },
  {
   "cell_type": "code",
   "execution_count": 62,
   "metadata": {},
   "outputs": [
    {
     "name": "stdout",
     "output_type": "stream",
     "text": [
      "<class 'int'>\n",
      "<class 'float'>\n",
      "<class 'complex'>\n",
      "<class 'bool'>\n",
      "<class 'str'>\n",
      "<class 'NoneType'>\n"
     ]
    }
   ],
   "source": [
    "a=1\n",
    "b=1.0\n",
    "c=1+0j\n",
    "d=True\n",
    "e='a'\n",
    "f=None\n",
    "\n",
    "print(type(a))\n",
    "print(type(b))\n",
    "print(type(c))\n",
    "print(type(d))\n",
    "print(type(e))\n",
    "print(type(f))"
   ]
  },
  {
   "cell_type": "markdown",
   "metadata": {},
   "source": [
    "# 연산자"
   ]
  },
  {
   "cell_type": "code",
   "execution_count": 64,
   "metadata": {},
   "outputs": [
    {
     "name": "stdout",
     "output_type": "stream",
     "text": [
      "13\n",
      "5\n",
      "36\n",
      "2.25\n",
      "2\n",
      "1\n"
     ]
    }
   ],
   "source": [
    "x=9\n",
    "y=4\n",
    "print(x+y)\n",
    "print(x-y)\n",
    "print(x*y)\n",
    "print(x/y)\n",
    "print(x//y)\n",
    "print(x%y) # 나머지는 주기성 때문에 많이 사용됨"
   ]
  },
  {
   "cell_type": "code",
   "execution_count": 65,
   "metadata": {},
   "outputs": [
    {
     "name": "stdout",
     "output_type": "stream",
     "text": [
      "6561\n"
     ]
    }
   ],
   "source": [
    "print(x**y)"
   ]
  },
  {
   "cell_type": "code",
   "execution_count": 69,
   "metadata": {},
   "outputs": [
    {
     "name": "stdout",
     "output_type": "stream",
     "text": [
      "123000000\n",
      "1.230000e+08\n"
     ]
    }
   ],
   "source": [
    "x=123000000\n",
    "print(x)\n",
    "print('%e' %x)"
   ]
  },
  {
   "cell_type": "code",
   "execution_count": 70,
   "metadata": {},
   "outputs": [
    {
     "name": "stdout",
     "output_type": "stream",
     "text": [
      "1.23e-06\n"
     ]
    }
   ],
   "source": [
    "y=0.00000123\n",
    "print(y)"
   ]
  },
  {
   "cell_type": "code",
   "execution_count": 71,
   "metadata": {},
   "outputs": [
    {
     "name": "stdout",
     "output_type": "stream",
     "text": [
      "19\n"
     ]
    }
   ],
   "source": [
    "x = 9\n",
    "x += 10 # -> x=x+10\n",
    "print(x)"
   ]
  },
  {
   "cell_type": "code",
   "execution_count": 72,
   "metadata": {},
   "outputs": [
    {
     "name": "stdout",
     "output_type": "stream",
     "text": [
      "False\n",
      "True\n",
      "True\n"
     ]
    }
   ],
   "source": [
    "x=3\n",
    "y=4\n",
    "print(x==y)\n",
    "print(10==10)\n",
    "print(x!=4)"
   ]
  },
  {
   "cell_type": "code",
   "execution_count": 73,
   "metadata": {},
   "outputs": [
    {
     "name": "stdout",
     "output_type": "stream",
     "text": [
      "False\n",
      "True\n",
      "False\n"
     ]
    }
   ],
   "source": [
    "print(True and False)\n",
    "print(True or False)\n",
    "print(not True)"
   ]
  },
  {
   "cell_type": "code",
   "execution_count": 74,
   "metadata": {},
   "outputs": [
    {
     "name": "stdout",
     "output_type": "stream",
     "text": [
      "a & b = 5  Binary = 0b101\n",
      "a | b = 23  Binary = 0b10111\n",
      "a ^ b = 18  Binary = 0b10010\n",
      "~b = -6  Binary = 0b11111111111111111111111111111010\n"
     ]
    }
   ],
   "source": [
    "a = 16 + 4 + 2 + 1 # 23 \n",
    "b = 0 + 4 + 0 + 1 # 5\n",
    "print(\"a & b =\", a & b, \" Binary =\", bin(a & b)) # 같은 위치에 있는 모두 1이면 1 하나라도 0이면 0\n",
    "print(\"a | b =\", a | b, \" Binary =\", bin(a | b))\n",
    "print(\"a ^ b =\", a ^ b, \" Binary =\", bin(a ^ b))\n",
    "print(\"~b =\", ~b, \" Binary =\", bin(~b & 0xFFFFFFFF))"
   ]
  },
  {
   "cell_type": "code",
   "execution_count": 75,
   "metadata": {},
   "outputs": [
    {
     "name": "stdout",
     "output_type": "stream",
     "text": [
      "9\n",
      "9\n"
     ]
    }
   ],
   "source": [
    "print(2+4+3)\n",
    "print((2+4)+3)"
   ]
  },
  {
   "cell_type": "code",
   "execution_count": 76,
   "metadata": {},
   "outputs": [
    {
     "name": "stdout",
     "output_type": "stream",
     "text": [
      "hello 20\n"
     ]
    }
   ],
   "source": [
    "a='hello'\n",
    "x=20\n",
    "print('%s %d' %(a,x))"
   ]
  },
  {
   "cell_type": "code",
   "execution_count": 77,
   "metadata": {},
   "outputs": [
    {
     "name": "stdout",
     "output_type": "stream",
     "text": [
      "20173301 is 0b1001100111101000111110101 in binary\n",
      "20173301 is 0o114750765 in octal\n",
      "20173301 is 0x133d1f5 in hexadecimal\n"
     ]
    }
   ],
   "source": [
    "x = 20173301\n",
    "print(\"%d is %s in binary\"%(x, bin(x)))\n",
    "print(\"%d is %s in octal\"%(x, oct(x)))\n",
    "print(\"%d is %s in hexadecimal\"%(x, hex(x)))"
   ]
  },
  {
   "cell_type": "code",
   "execution_count": 78,
   "metadata": {},
   "outputs": [
    {
     "name": "stdout",
     "output_type": "stream",
     "text": [
      "1001100111101000111110101 is 20173301 in decimal\n",
      "114750765 is 20173301 in decimal\n",
      "133D1F5 is 20173301 in decimal\n"
     ]
    }
   ],
   "source": [
    "xb = \"1001100111101000111110101\"\n",
    "print(\"%s is %d in decimal\"%(xb, int(xb, 2)))\n",
    "xo = \"114750765\"\n",
    "print(\"%s is %d in decimal\"%(xo, int(xo, 8)))\n",
    "xh = \"133D1F5\"\n",
    "print(\"%s is %d in decimal\"%(xh, int(xh, 16)))"
   ]
  },
  {
   "cell_type": "markdown",
   "metadata": {},
   "source": [
    "# 숙제"
   ]
  },
  {
   "cell_type": "code",
   "execution_count": 79,
   "metadata": {},
   "outputs": [
    {
     "name": "stdout",
     "output_type": "stream",
     "text": [
      "2\n"
     ]
    }
   ],
   "source": [
    "print(100%7) # -> 오늘이 일요일 일때, 100일 후는 화요일"
   ]
  },
  {
   "cell_type": "code",
   "execution_count": 1,
   "metadata": {},
   "outputs": [
    {
     "name": "stdout",
     "output_type": "stream",
     "text": [
      "2\n"
     ]
    }
   ],
   "source": [
    "print(100000000%7)# -> 오늘이 일요일 일때, 100000000일 후는 화요일"
   ]
  },
  {
   "cell_type": "markdown",
   "metadata": {},
   "source": [
    "# 입력과 출력"
   ]
  },
  {
   "cell_type": "code",
   "execution_count": 4,
   "metadata": {},
   "outputs": [
    {
     "name": "stdout",
     "output_type": "stream",
     "text": [
      "입력하세요: 지윤혁\n",
      "hello\n",
      "지윤혁\n"
     ]
    }
   ],
   "source": [
    "name = input(\"입력하세요: \")\n",
    "print(\"hello\")\n",
    "print(name)"
   ]
  },
  {
   "cell_type": "code",
   "execution_count": 5,
   "metadata": {},
   "outputs": [
    {
     "name": "stdout",
     "output_type": "stream",
     "text": [
      "첫번째 숫자를 입력하세요: 123\n",
      "두번째 숫자를 입력하세요: 456\n",
      "123456\n"
     ]
    }
   ],
   "source": [
    "num1 = input(\"첫번째 숫자를 입력하세요: \")\n",
    "num2 = input(\"두번째 숫자를 입력하세요: \")\n",
    "print(num1+num2)"
   ]
  },
  {
   "cell_type": "code",
   "execution_count": 6,
   "metadata": {},
   "outputs": [
    {
     "name": "stdout",
     "output_type": "stream",
     "text": [
      "첫번째 숫자를 입력하세요: 123\n",
      "두번째 숫자를 입력하세요: 564\n",
      "687\n"
     ]
    }
   ],
   "source": [
    "num1 = int(input(\"첫번째 숫자를 입력하세요: \"))\n",
    "num2 = int(input(\"두번째 숫자를 입력하세요: \"))\n",
    "print(num1+num2)"
   ]
  },
  {
   "cell_type": "code",
   "execution_count": 7,
   "metadata": {},
   "outputs": [
    {
     "name": "stdout",
     "output_type": "stream",
     "text": [
      "hello\n",
      "world\n"
     ]
    }
   ],
   "source": [
    "print(\"hello\\nworld\")"
   ]
  },
  {
   "cell_type": "code",
   "execution_count": 8,
   "metadata": {},
   "outputs": [
    {
     "name": "stdout",
     "output_type": "stream",
     "text": [
      "/\\_____/\\\n",
      "/ o o \\\n",
      "( == ^ == )\n",
      ") (\n",
      "( )\n",
      "( ( ) ( ) )\n",
      "(__(__)___(__)__)\n",
      "\n"
     ]
    }
   ],
   "source": [
    "print(\"\"\"\\\n",
    "    /\\\\_____/\\\\\n",
    "   / o o \\\\\n",
    "  ( == ^ == )\n",
    "   )       (\n",
    "   ( )\n",
    "( ( ) ( ) )\n",
    "(__(__)___(__)__)\n",
    "\"\"\")"
   ]
  },
  {
   "cell_type": "code",
   "execution_count": 9,
   "metadata": {},
   "outputs": [
    {
     "name": "stdout",
     "output_type": "stream",
     "text": [
      "|\\ _,,,---,,_\n",
      "ZZZzz /,`.-'`' -. ;-;;,_\n",
      "|,4- ) )-,_. ,\\ ( `'-'\n",
      "'---''(_/--' `-'\\_)\n",
      "\n"
     ]
    }
   ],
   "source": [
    "print(\"\"\"\\\n",
    "|\\\\ _,,,---,,_\n",
    "ZZZzz /,`.-'`' -. ;-;;,_\n",
    "|,4- ) )-,_. ,\\\\ ( `'-'\n",
    "'---''(_/--' `-'\\\\_)\n",
    "\"\"\")"
   ]
  },
  {
   "cell_type": "markdown",
   "metadata": {},
   "source": [
    "# 주석"
   ]
  },
  {
   "cell_type": "code",
   "execution_count": 10,
   "metadata": {},
   "outputs": [
    {
     "name": "stdout",
     "output_type": "stream",
     "text": [
      "I love pizza!\n",
      "pizza pizza \n",
      "yum yum yum yum \n",
      "I'm full.\n"
     ]
    }
   ],
   "source": [
    "print (\"I love pizza!\")\n",
    "print (\"pizza \" * 2)\n",
    "print (\"yum \" * 4)\n",
    "print (\"I'm full.\") # No print"
   ]
  },
  {
   "cell_type": "code",
   "execution_count": 11,
   "metadata": {},
   "outputs": [],
   "source": [
    "# Listing_1-1.py\n",
    "# Copyright Warren Sande, 2009\n",
    "# Released under MIT license"
   ]
  },
  {
   "cell_type": "code",
   "execution_count": 13,
   "metadata": {},
   "outputs": [
    {
     "data": {
      "text/plain": [
       "' Listing_1-1.py\\nCopyright Warren Sande, 2009\\nReleased under MIT license\\n'"
      ]
     },
     "execution_count": 13,
     "metadata": {},
     "output_type": "execute_result"
    }
   ],
   "source": [
    "\"\"\" Listing_1-1.py\n",
    "Copyright Warren Sande, 2009\n",
    "Released under MIT license\n",
    "\"\"\" # 정확히 말하면 주석이 아니라 문자열로 처리하여 주석의 기능을 하게 만든 것임."
   ]
  },
  {
   "cell_type": "markdown",
   "metadata": {},
   "source": [
    "# Random 모듈"
   ]
  },
  {
   "cell_type": "code",
   "execution_count": 16,
   "metadata": {},
   "outputs": [
    {
     "name": "stdout",
     "output_type": "stream",
     "text": [
      "1\n"
     ]
    }
   ],
   "source": [
    "import random\n",
    "\n",
    "x = random.randint(0,1)\n",
    "print(x)"
   ]
  },
  {
   "cell_type": "code",
   "execution_count": 17,
   "metadata": {},
   "outputs": [
    {
     "name": "stdout",
     "output_type": "stream",
     "text": [
      "Random #1: 6\n",
      "Random #2: 1\n",
      "Random #3: 5\n",
      "Random #4: 5\n",
      "Random #5: 3\n"
     ]
    }
   ],
   "source": [
    "i = 1\n",
    "print(\"Random #%d: %d\" %(i, random.randint(1, 6)))\n",
    "i += 1\n",
    "print(\"Random #%d: %d\" %(i, random.randint(1, 6)))\n",
    "i += 1\n",
    "print(\"Random #%d: %d\" %(i, random.randint(1, 6)))\n",
    "i += 1\n",
    "print(\"Random #%d: %d\" %(i, random.randint(1, 6)))\n",
    "i += 1\n",
    "print(\"Random #%d: %d\" %(i, random.randint(1, 6)))"
   ]
  },
  {
   "cell_type": "markdown",
   "metadata": {},
   "source": [
    "# Turtle 모듈"
   ]
  },
  {
   "cell_type": "code",
   "execution_count": 1,
   "metadata": {},
   "outputs": [],
   "source": [
    "import turtle\n",
    "s = turtle.Screen()\n",
    "\n",
    "t = turtle.Turtle()\n",
    "\n",
    "t.forward(100)\n",
    "t.left(90)\n",
    "\n",
    "u = turtle.Turtle()\n",
    "\n",
    "u.left(90)\n",
    "u.forward(100)\n",
    "\n",
    "t.forward(100)\n",
    "\n",
    "u.right(45)\n",
    "\n",
    "turtle.exitonclick()"
   ]
  }
 ],
 "metadata": {
  "kernelspec": {
   "display_name": "Python 3 (ipykernel)",
   "language": "python",
   "name": "python3"
  },
  "language_info": {
   "codemirror_mode": {
    "name": "ipython",
    "version": 3
   },
   "file_extension": ".py",
   "mimetype": "text/x-python",
   "name": "python",
   "nbconvert_exporter": "python",
   "pygments_lexer": "ipython3",
   "version": "3.8.8"
  }
 },
 "nbformat": 4,
 "nbformat_minor": 4
}
