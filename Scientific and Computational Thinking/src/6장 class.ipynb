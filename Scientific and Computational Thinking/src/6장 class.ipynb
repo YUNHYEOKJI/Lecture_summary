{
 "cells": [
  {
   "cell_type": "code",
   "execution_count": 19,
   "metadata": {},
   "outputs": [],
   "source": [
    "class Studnet:\n",
    "    pass\n",
    "\n",
    "student = Student()"
   ]
  },
  {
   "cell_type": "code",
   "execution_count": 20,
   "metadata": {},
   "outputs": [
    {
     "name": "stdout",
     "output_type": "stream",
     "text": [
      "생성자가 실행되었습니다.\n",
      "김영재\n",
      "20153160\n"
     ]
    }
   ],
   "source": [
    "class Student:\n",
    "    def __init__(self, name, id):\n",
    "        print(\"생성자가 실행되었습니다.\")\n",
    "        self.name = name\n",
    "        self.id = id\n",
    "        \n",
    "student = Student(\"김영재\", 20153160)\n",
    "\n",
    "print(student.name)\n",
    "print(student.id)"
   ]
  },
  {
   "cell_type": "code",
   "execution_count": 21,
   "metadata": {},
   "outputs": [
    {
     "name": "stdout",
     "output_type": "stream",
     "text": [
      "생성자가 실행되었습니다.\n",
      "김영재\n",
      "20153160\n"
     ]
    }
   ],
   "source": [
    "class Student:\n",
    "    def __init__(self, name, id):\n",
    "        print(\"생성자가 실행되었습니다.\")\n",
    "        self.name = name\n",
    "        self.id = id\n",
    "    def __del__(self):\n",
    "        print(\"소멸자가 실행되었습니다.\")\n",
    "        \n",
    "student = Student(\"김영재\", 20153160)\n",
    "\n",
    "print(student.name)\n",
    "print(student.id)"
   ]
  },
  {
   "cell_type": "code",
   "execution_count": 22,
   "metadata": {},
   "outputs": [
    {
     "name": "stdout",
     "output_type": "stream",
     "text": [
      "소멸자가 실행되었습니다.\n",
      "안녕하세요.\n",
      "20153160 김영재입니다.\n",
      "만나서 반갑습니다.\n"
     ]
    }
   ],
   "source": [
    "class Student:\n",
    "    def __init__(self, name, id):\n",
    "        self.name = name\n",
    "        self.id = id       \n",
    "        \n",
    "    def self_introduce(self):\n",
    "        print(\"안녕하세요.\")\n",
    "        print(\"{} {}입니다.\" .format(self.id, self.name))\n",
    "        print(\"만나서 반갑습니다.\")\n",
    "        \n",
    "student = Student(\"김영재\", 20153160)\n",
    "student.self_introduce()"
   ]
  },
  {
   "cell_type": "code",
   "execution_count": 18,
   "metadata": {},
   "outputs": [
    {
     "name": "stdout",
     "output_type": "stream",
     "text": [
      "u + v : (2,1) (2,1)\n",
      "u - v : (-2,1) (-2,1)\n"
     ]
    }
   ],
   "source": [
    "class Vector2D:\n",
    "    def __init__(self, x, y):\n",
    "        self.x = x\n",
    "        self.y = y\n",
    "    def __add__(self, other):\n",
    "        return Vector2D(self.x + other.x, self.y + other.y)\n",
    "    def __sub__(self, other):\n",
    "        return Vector2D(self.x - other.x, self.y - other.y)\n",
    "    def __eq__(self, other):\n",
    "        return self.x == other.x and self.y == other.y\n",
    "    def __ne__(self, other):\n",
    "        print(\"호출\")\n",
    "        return self.x != other.x or self.y != other.y\n",
    "    def __str__(self):\n",
    "        return \"({},{})\" .format(self.x, self.y)\n",
    "    \n",
    "u = Vector2D(0,1)\n",
    "v = Vector2D(2,0)\n",
    "print(\"u + v :\", u + v, u.__add__(v))\n",
    "print(\"u - v :\", u - v, u.__sub__(v))"
   ]
  },
  {
   "cell_type": "code",
   "execution_count": 25,
   "metadata": {},
   "outputs": [
    {
     "name": "stdout",
     "output_type": "stream",
     "text": [
      "20220001학번 윤상건\n"
     ]
    }
   ],
   "source": [
    "class Student:\n",
    "    def __init__(self, name, id):\n",
    "        self.name = name\n",
    "        self.id = id\n",
    "    def __str__(self):\n",
    "        return \"{}학번 {}\" .format(self.id, self.name)\n",
    "    \n",
    "student = Student(\"윤상건\", 20191632)\n",
    "student.id = 20220001\n",
    "print(student)"
   ]
  },
  {
   "cell_type": "code",
   "execution_count": 26,
   "metadata": {},
   "outputs": [
    {
     "name": "stdout",
     "output_type": "stream",
     "text": [
      "0학번 윤상건\n",
      "20191632학번 윤상건\n"
     ]
    }
   ],
   "source": [
    "class Student:\n",
    "    def __init__(self, name, id):\n",
    "        self.name = name\n",
    "        self.__id = id\n",
    "    def set_id(self, id):\n",
    "        if id > 0:\n",
    "            self.__id = id\n",
    "    def get_id(self):\n",
    "        return self.__id\n",
    "    def __str__(self):\n",
    "        return \"{}학번 {}\" .format(self.__id, self.name)\n",
    "    \n",
    "student = Student(\"윤상건\", 0)\n",
    "student.__id = 20191632\n",
    "print(student)\n",
    "student.set_id(20191632)\n",
    "print(student)"
   ]
  },
  {
   "cell_type": "code",
   "execution_count": 29,
   "metadata": {
    "scrolled": true
   },
   "outputs": [
    {
     "name": "stdout",
     "output_type": "stream",
     "text": [
      "20191632\n",
      "-20\n"
     ]
    }
   ],
   "source": [
    "student = Student(\"윤상건\", 20191632)\n",
    "student.__id = -20\n",
    "print(student._Student__id)\n",
    "print(student.__id)"
   ]
  },
  {
   "cell_type": "code",
   "execution_count": 31,
   "metadata": {},
   "outputs": [],
   "source": [
    "class Vehicle :\n",
    "    _ACCELERATION = 5\n",
    "    \n",
    "    def __init__(self):\n",
    "        self._speed = 0\n",
    "    def speed_up(self):\n",
    "        if self._speed + self._ACCELERATION <= 240 :\n",
    "            self._speed += self._ACCELERATION\n",
    "            \n",
    "    def __str__(self):\n",
    "        return \"현재 속도는 {}입니다.\" .format(self._speed)"
   ]
  },
  {
   "cell_type": "code",
   "execution_count": 34,
   "metadata": {},
   "outputs": [],
   "source": [
    "class AutonomousVehicle(Vehicle):\n",
    "    def __init__(self):\n",
    "        super().__init__()\n",
    "        self.__autonomous_mode = False\n",
    "        \n",
    "    def activate_autonomous_mode(self):\n",
    "        self.__autonomous_mode = True\n",
    "        \n",
    "    def deactivate_autonomous_mode(self):\n",
    "        self.__autonomous_mode = False\n",
    "    \n",
    "    def __str__(self):\n",
    "        if self.__autonomous_mode:\n",
    "            return \"자율 주행 모드:현재 속도는 {}입니다.\" .format(self._speed)\n",
    "        else:\n",
    "            return \"수동 주행 모드:현재 속도는 {}입니다.\" .format(self._speed)"
   ]
  },
  {
   "cell_type": "code",
   "execution_count": 36,
   "metadata": {},
   "outputs": [
    {
     "name": "stdout",
     "output_type": "stream",
     "text": [
      "수동 주행 모드:현재 속도는 120입니다.\n",
      "현재 속도는 120입니다.\n",
      "자율 주행 모드:현재 속도는 120입니다.\n",
      "현재 속도는 120입니다.\n"
     ]
    }
   ],
   "source": [
    "vehicle = Vehicle()\n",
    "autonomous_vehicle = AutonomousVehicle()\n",
    "for i in range(1,25):\n",
    "    autonomous_vehicle.speed_up()\n",
    "    vehicle.speed_up()\n",
    "    \n",
    "print(autonomous_vehicle)\n",
    "print(vehicle)\n",
    "autonomous_vehicle.activate_autonomous_mode()\n",
    "print(autonomous_vehicle)\n",
    "print(vehicle)"
   ]
  }
 ],
 "metadata": {
  "kernelspec": {
   "display_name": "Python 3",
   "language": "python",
   "name": "python3"
  },
  "language_info": {
   "codemirror_mode": {
    "name": "ipython",
    "version": 3
   },
   "file_extension": ".py",
   "mimetype": "text/x-python",
   "name": "python",
   "nbconvert_exporter": "python",
   "pygments_lexer": "ipython3",
   "version": "3.8.3"
  }
 },
 "nbformat": 4,
 "nbformat_minor": 4
}
