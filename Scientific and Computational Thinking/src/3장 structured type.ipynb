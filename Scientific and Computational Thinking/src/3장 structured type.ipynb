{
 "cells": [
  {
   "cell_type": "code",
   "execution_count": 1,
   "metadata": {},
   "outputs": [
    {
     "name": "stdout",
     "output_type": "stream",
     "text": [
      "['엄마', '아빠', '형', '동생']\n"
     ]
    }
   ],
   "source": [
    "family = ['엄마', '아빠', '형', '동생']\n",
    "print(family)"
   ]
  },
  {
   "cell_type": "code",
   "execution_count": 5,
   "metadata": {},
   "outputs": [
    {
     "name": "stdout",
     "output_type": "stream",
     "text": [
      "[5, 10, 21, 23, 'Hello', ['a', 'b', 'c'], ['에이', '비', '씨']]\n"
     ]
    }
   ],
   "source": [
    "x = ['a', 'b', 'c']\n",
    "your_list = ['에이','비','씨']\n",
    "my_list = [5, 10, 21, 23,'Hello', x, your_list]\n",
    "print(my_list)"
   ]
  },
  {
   "cell_type": "code",
   "execution_count": 6,
   "metadata": {},
   "outputs": [
    {
     "name": "stdout",
     "output_type": "stream",
     "text": [
      "['김성규', '장동우', '남우현', '이성열', '엘', '이성종']\n"
     ]
    }
   ],
   "source": [
    "infinite_members = ['김성규', '장동우', '남우현', '이성열', '엘', '이성종']\n",
    "print(infinite_members)"
   ]
  },
  {
   "cell_type": "code",
   "execution_count": 7,
   "metadata": {},
   "outputs": [
    {
     "name": "stdout",
     "output_type": "stream",
     "text": [
      "['Alice', 'Bob', 'Carole']\n"
     ]
    }
   ],
   "source": [
    "myList = []\n",
    "myList.append('Alice')\n",
    "myList.append('Bob')\n",
    "myList.append('Carole')\n",
    "print(myList)"
   ]
  },
  {
   "cell_type": "code",
   "execution_count": 8,
   "metadata": {},
   "outputs": [
    {
     "data": {
      "text/plain": [
       "['__add__',\n",
       " '__class__',\n",
       " '__contains__',\n",
       " '__delattr__',\n",
       " '__delitem__',\n",
       " '__dir__',\n",
       " '__doc__',\n",
       " '__eq__',\n",
       " '__format__',\n",
       " '__ge__',\n",
       " '__getattribute__',\n",
       " '__getitem__',\n",
       " '__gt__',\n",
       " '__hash__',\n",
       " '__iadd__',\n",
       " '__imul__',\n",
       " '__init__',\n",
       " '__init_subclass__',\n",
       " '__iter__',\n",
       " '__le__',\n",
       " '__len__',\n",
       " '__lt__',\n",
       " '__mul__',\n",
       " '__ne__',\n",
       " '__new__',\n",
       " '__reduce__',\n",
       " '__reduce_ex__',\n",
       " '__repr__',\n",
       " '__reversed__',\n",
       " '__rmul__',\n",
       " '__setattr__',\n",
       " '__setitem__',\n",
       " '__sizeof__',\n",
       " '__str__',\n",
       " '__subclasshook__',\n",
       " 'append',\n",
       " 'clear',\n",
       " 'copy',\n",
       " 'count',\n",
       " 'extend',\n",
       " 'index',\n",
       " 'insert',\n",
       " 'pop',\n",
       " 'remove',\n",
       " 'reverse',\n",
       " 'sort']"
      ]
     },
     "execution_count": 8,
     "metadata": {},
     "output_type": "execute_result"
    }
   ],
   "source": [
    "a = [1,2,3]\n",
    "dir(a)"
   ]
  },
  {
   "cell_type": "code",
   "execution_count": 10,
   "metadata": {},
   "outputs": [
    {
     "name": "stdout",
     "output_type": "stream",
     "text": [
      "Alice\n",
      "Bob\n",
      "Carole\n",
      "7\n",
      "7\n",
      "5\n"
     ]
    }
   ],
   "source": [
    "myList = []\n",
    "myList.append('Alice')\n",
    "myList.append('Bob')\n",
    "myList.append('Carole')\n",
    "print(myList[0])\n",
    "print(myList[1])\n",
    "print(myList[2])\n",
    "\n",
    "numbers = [1,3,5,7] # 맨 뒤에서부터 -1\n",
    "print(numbers[3])\n",
    "print(numbers[-1])\n",
    "print(numbers[-2])"
   ]
  },
  {
   "cell_type": "code",
   "execution_count": 11,
   "metadata": {},
   "outputs": [
    {
     "name": "stdout",
     "output_type": "stream",
     "text": [
      "['Alice', 'Bob']\n",
      "[3, 5, 7]\n"
     ]
    }
   ],
   "source": [
    "myList = ['Alice', 'Bob', 'Carole']\n",
    "print(myList[0:2]) # 0(첫번째)부터 2(3번째)하나 전까지 \n",
    "\n",
    "numbers = [1,3,5,7,9,11]\n",
    "print(numbers[1:4]) # 1~3까지 인덱스상으로는 2~4까지"
   ]
  },
  {
   "cell_type": "code",
   "execution_count": 14,
   "metadata": {},
   "outputs": [
    {
     "name": "stdout",
     "output_type": "stream",
     "text": [
      "3\n",
      "<class 'int'>\n",
      "[3, 5, 7]\n",
      "<class 'list'>\n"
     ]
    }
   ],
   "source": [
    "numbers = [1,3,5,7,9,11]\n",
    "print(numbers[1])\n",
    "print(type(numbers[1]))\n",
    "print(numbers[1:4])\n",
    "print(type(numbers[1:4]))"
   ]
  },
  {
   "cell_type": "code",
   "execution_count": 18,
   "metadata": {},
   "outputs": [
    {
     "name": "stdout",
     "output_type": "stream",
     "text": [
      "['Alice']\n",
      "[1, 7, 13]\n"
     ]
    }
   ],
   "source": [
    "myList = ['Alice', 'Bob', 'Carole']\n",
    "print(myList[0:2:2])\n",
    "\n",
    "numbers = [1,3,5,7,9,11,13]\n",
    "print(numbers[0:7:3])"
   ]
  },
  {
   "cell_type": "code",
   "execution_count": 19,
   "metadata": {},
   "outputs": [
    {
     "name": "stdout",
     "output_type": "stream",
     "text": [
      "<class 'int'>\n",
      "<class 'list'>\n"
     ]
    }
   ],
   "source": [
    "numbers = [1,3,5,7,9,11]\n",
    "print(type(numbers[1]))\n",
    "print(type(numbers[0:5:3]))"
   ]
  },
  {
   "cell_type": "code",
   "execution_count": 22,
   "metadata": {},
   "outputs": [
    {
     "name": "stdout",
     "output_type": "stream",
     "text": [
      "['Jeong', 'Lee', 'Kim', 'Yeongjae', 'Myeong', 'Han']\n",
      "['Jeong', 'Lee', 'Kim', 'Jeong', 'Lee', 'Kim']\n",
      "['Yeongjae', 'Myeong', 'Han', 'Yeongjae', 'Myeong', 'Han']\n"
     ]
    }
   ],
   "source": [
    "graduate = ['Jeong', 'Lee', 'Kim']\n",
    "undergraduate = ['Yeongjae', 'Myeong', 'Han']\n",
    "\n",
    "all_lab_members = graduate + undergraduate\n",
    "print(all_lab_members)\n",
    "print(graduate*2)\n",
    "print(undergraduate*2) # 2번씩 반복"
   ]
  },
  {
   "cell_type": "code",
   "execution_count": 23,
   "metadata": {},
   "outputs": [
    {
     "name": "stdout",
     "output_type": "stream",
     "text": [
      "인원 수: 3\n"
     ]
    }
   ],
   "source": [
    "graduate = ['Jeong', 'Lee', 'Kim']\n",
    "print(\"인원 수:\", len(graduate))"
   ]
  },
  {
   "cell_type": "code",
   "execution_count": 24,
   "metadata": {},
   "outputs": [
    {
     "name": "stdout",
     "output_type": "stream",
     "text": [
      "[1, 3, 13, 7, 9, 11]\n",
      "['a', 'z', 'c', 'd']\n"
     ]
    }
   ],
   "source": [
    "numbers = [1,3,5,7,9,11]\n",
    "numbers[2] = 13\n",
    "print(numbers)\n",
    "\n",
    "alphabet = ['a', 'b', 'c', 'd']\n",
    "alphabet[1] = 'z'\n",
    "print(alphabet)"
   ]
  },
  {
   "cell_type": "code",
   "execution_count": 25,
   "metadata": {},
   "outputs": [
    {
     "name": "stdout",
     "output_type": "stream",
     "text": [
      "['a', 'z', 'b', 'c', 'd', 'e', 'f', 'g', 'h']\n"
     ]
    }
   ],
   "source": [
    "alphabet = ['a', 'b', 'c', 'd']\n",
    "alphabet.append('e')\n",
    "alphabet.insert(1, 'z') # 인덱스 1의 위치에 z를 추가 (수정과는 다른 개념)\n",
    "alphabet.extend(['f','g','h'])\n",
    "print(alphabet)"
   ]
  },
  {
   "cell_type": "code",
   "execution_count": 27,
   "metadata": {},
   "outputs": [
    {
     "name": "stdout",
     "output_type": "stream",
     "text": [
      "['a', 'd']\n",
      "e\n"
     ]
    }
   ],
   "source": [
    "alphabet = ['a','b','c','d','e']\n",
    "alphabet.remove('c') # 특정값을 제거, 종복시에 제일 먼저값 제거\n",
    "del alphabet[1] # 특정 인덱스에 있는 요소 제거\n",
    "x = alphabet.pop()\n",
    "print(alphabet)\n",
    "print(x)"
   ]
  },
  {
   "cell_type": "code",
   "execution_count": 31,
   "metadata": {},
   "outputs": [
    {
     "name": "stdout",
     "output_type": "stream",
     "text": [
      "['Jeong', 'Jeong', 'Lee', 'Kim', 'Yeonjae', 'Myeong', 'Han']\n",
      "['Jeong', 'Lee', 'Kim', 'Yeonjae', 'Myeong', 'Han']\n",
      "['Jeong', 'Lee', 'Kim', 'Yeonjae', 'Myeong']\n"
     ]
    }
   ],
   "source": [
    "lab_members = [\"Jeong\",\"Jeong\",\"Lee\",\"Kim\",\n",
    "              \"Yeonjae\", \"Myeong\", \"Han\"]\n",
    "print(lab_members)\n",
    "\n",
    "del lab_members[0]\n",
    "print(lab_members)\n",
    "\n",
    "lab_members.pop(5) # 인덱스 5번째 제거하고 반환\n",
    "print(lab_members)"
   ]
  },
  {
   "cell_type": "code",
   "execution_count": 33,
   "metadata": {},
   "outputs": [
    {
     "name": "stdout",
     "output_type": "stream",
     "text": [
      "Before : [1, 1, 2, 3, 1, 2, 3, 1, 1, 1]\n",
      "After : [1, 1, 3, 1, 2, 3, 1, 1, 1]\n"
     ]
    }
   ],
   "source": [
    "ant_series = [1,1,2,3,1,2,3,1,1,1]\n",
    "\n",
    "print(\"Before :\", ant_series)\n",
    "ant_series.remove(2) # 2라는 값을 제거(제일 앞에 있는 숫자)\n",
    "print(\"After :\", ant_series)"
   ]
  },
  {
   "cell_type": "code",
   "execution_count": 34,
   "metadata": {},
   "outputs": [
    {
     "name": "stdout",
     "output_type": "stream",
     "text": [
      "True\n",
      "There is 'a'\n"
     ]
    }
   ],
   "source": [
    "alphabet = ['a', 'b', 'c', 'd', 'e']\n",
    "print('b' in alphabet)\n",
    "if 'a' in alphabet:\n",
    "    print(\"There is 'a'\")\n",
    "else:\n",
    "    print(\"There is not 'a'\")"
   ]
  },
  {
   "cell_type": "code",
   "execution_count": 36,
   "metadata": {},
   "outputs": [
    {
     "name": "stdout",
     "output_type": "stream",
     "text": [
      "2\n",
      "The index of 'c' is 2\n"
     ]
    }
   ],
   "source": [
    "alphabet = ['a', 'b', 'c', 'd', 'e']\n",
    "print(alphabet.index('c'))\n",
    "if 'c' in alphabet:\n",
    "    print(\"The index of 'c' is\", alphabet.index('c'))"
   ]
  },
  {
   "cell_type": "code",
   "execution_count": 40,
   "metadata": {},
   "outputs": [
    {
     "name": "stdout",
     "output_type": "stream",
     "text": [
      "이름 >김성규\n",
      "김성규는 인피니트의 0번째 멤버입니다.\n"
     ]
    }
   ],
   "source": [
    "infinite_members = ['김성규', '장동우', '남우현', '이성열', '엘', '이성종']\n",
    "name = input(\"이름 >\")\n",
    "if name in infinite_members :\n",
    "    idx = infinite_members.index(name)\n",
    "    print(\"{}는 인피니트의 {}번째 멤버입니다.\".format(name, idx))\n",
    "else :\n",
    "    print(\"{}는 인피니트의 멤버가 아닙니다.\".format(name))"
   ]
  },
  {
   "cell_type": "code",
   "execution_count": 41,
   "metadata": {},
   "outputs": [
    {
     "name": "stdout",
     "output_type": "stream",
     "text": [
      "It's number 0\n",
      "It's number 1\n",
      "It's number 2\n",
      "It's number 3\n",
      "It's number 4\n",
      "It's number 5\n",
      "It's number 6\n",
      "It's number 7\n",
      "It's number 8\n",
      "It's number 9\n",
      "done\n",
      "[0, 1, 2, 3, 4, 5, 6, 7, 8, 9]\n"
     ]
    }
   ],
   "source": [
    "for i in range(10):\n",
    "    print(\"It's number\", i)\n",
    "print(\"done\")\n",
    "print(list(range(10)))"
   ]
  },
  {
   "cell_type": "code",
   "execution_count": 42,
   "metadata": {},
   "outputs": [
    {
     "name": "stdout",
     "output_type": "stream",
     "text": [
      "a\n",
      "b\n",
      "c\n",
      "d\n",
      "e\n"
     ]
    }
   ],
   "source": [
    "alphabet = ['a','b','c','d','e']\n",
    "for ch in alphabet:\n",
    "    print(ch)"
   ]
  },
  {
   "cell_type": "code",
   "execution_count": 44,
   "metadata": {},
   "outputs": [
    {
     "name": "stdout",
     "output_type": "stream",
     "text": [
      "[3, 6, 9, 12]\n"
     ]
    }
   ],
   "source": [
    "a = [1,2,3,4]\n",
    "result = []\n",
    "for num in a:\n",
    "    result.append(num*3)\n",
    "print(result)"
   ]
  },
  {
   "cell_type": "code",
   "execution_count": 45,
   "metadata": {},
   "outputs": [
    {
     "name": "stdout",
     "output_type": "stream",
     "text": [
      "[3, 6, 9, 12]\n"
     ]
    }
   ],
   "source": [
    "a = [1,2,3,4]\n",
    "result = [num*3 for num in a]\n",
    "print(result)"
   ]
  },
  {
   "cell_type": "code",
   "execution_count": 46,
   "metadata": {},
   "outputs": [
    {
     "name": "stdout",
     "output_type": "stream",
     "text": [
      "[6, 12]\n"
     ]
    }
   ],
   "source": [
    "a = [1,2,3,4]\n",
    "result = [num*3 for num in a if num % 2 == 0]\n",
    "print(result)"
   ]
  },
  {
   "cell_type": "code",
   "execution_count": 8,
   "metadata": {},
   "outputs": [
    {
     "name": "stdout",
     "output_type": "stream",
     "text": [
      "['c', 'd', 'a', 'b', 'e']\n",
      "['a', 'b', 'c', 'd', 'e']\n",
      "['Alice', 'Bob', 'Carole']\n"
     ]
    }
   ],
   "source": [
    "alphabet = ['c', 'd', 'a', 'b', 'e']\n",
    "print(alphabet)\n",
    "alphabet.sort()\n",
    "print(alphabet)\n",
    "\n",
    "friends = ['Alice', 'Carole', 'Bob']\n",
    "friends.sort()\n",
    "print(friends)"
   ]
  },
  {
   "cell_type": "code",
   "execution_count": 9,
   "metadata": {},
   "outputs": [
    {
     "name": "stdout",
     "output_type": "stream",
     "text": [
      "['Alice', 'Bob', 'Carole']\n",
      "['Alice', 'Carole', 'Bob']\n"
     ]
    }
   ],
   "source": [
    "friends = ['Alice', 'Carole', 'Bob']\n",
    "friends_copy = friends[:]\n",
    "friends_copy.sort()\n",
    "print(friends_copy)\n",
    "print(friends)"
   ]
  },
  {
   "cell_type": "code",
   "execution_count": 10,
   "metadata": {},
   "outputs": [
    {
     "name": "stdout",
     "output_type": "stream",
     "text": [
      "['Alice', 'Bob', 'Carole']\n",
      "['Alice', 'Carole', 'Bob']\n"
     ]
    }
   ],
   "source": [
    "friends = ['Alice', 'Carole', 'Bob']\n",
    "friends_copy = sorted(friends) # 알파벳 순서로 정렬\n",
    "print(friends_copy)\n",
    "print(friends)"
   ]
  },
  {
   "cell_type": "code",
   "execution_count": 11,
   "metadata": {},
   "outputs": [
    {
     "name": "stdout",
     "output_type": "stream",
     "text": [
      "140714672997248 140714672997248\n",
      "140714672997248 140714673000448\n"
     ]
    }
   ],
   "source": [
    "x = 100\n",
    "y = 100\n",
    "print(id(x), id(y))\n",
    "y = 200\n",
    "print(id(x), id(y))"
   ]
  },
  {
   "cell_type": "code",
   "execution_count": 13,
   "metadata": {},
   "outputs": [
    {
     "name": "stdout",
     "output_type": "stream",
     "text": [
      "2633170652672 2633170652672\n",
      "2633170652672 2633170652672\n",
      "['a', 'b', 'c', 'd', 'e']\n",
      "['a', 'b', 'c', 'd', 'e']\n"
     ]
    }
   ],
   "source": [
    "alphabet = ['c', 'd', 'a', 'b', 'e']\n",
    "myAlpha = alphabet # 얕은 복사: 정렬시 모두 정렬\n",
    "print(id(alphabet), id(myAlpha))\n",
    "alphabet.sort()\n",
    "print(id(alphabet), id(myAlpha))\n",
    "print(alphabet)\n",
    "print(myAlpha)"
   ]
  },
  {
   "cell_type": "code",
   "execution_count": 17,
   "metadata": {},
   "outputs": [
    {
     "name": "stdout",
     "output_type": "stream",
     "text": [
      "2633171517248 2633170612928\n",
      "2633171517248 2633170612928\n",
      "['c', 'd', 'a', 'b', 'e']\n",
      "['a', 'b', 'c', 'd', 'e']\n"
     ]
    }
   ],
   "source": [
    "import copy\n",
    "\n",
    "alphabet = ['c', 'd', 'a', 'b', 'e']\n",
    "alpha_copy = copy.deepcopy(alphabet) # 깊은 복사: 정렬시 해당 변수에 대한 것만 정렬\n",
    "print(id(alphabet), id(alpha_copy))\n",
    "alpha_copy.sort()\n",
    "print(id(alphabet), id(alpha_copy))\n",
    "print(alphabet)\n",
    "print(alpha_copy)"
   ]
  },
  {
   "cell_type": "code",
   "execution_count": 19,
   "metadata": {},
   "outputs": [
    {
     "name": "stdout",
     "output_type": "stream",
     "text": [
      "[[80, 70, 90, 60], [90, 60, 80, 75], [95, 90, 95, 90]]\n",
      "80\n",
      "80\n"
     ]
    }
   ],
   "source": [
    "BobScore = [80, 70, 90, 60]\n",
    "AliceScore = [90, 60, 80, 75]\n",
    "CaroleScore = [95, 90, 95, 90]\n",
    "AllScore = [BobScore, AliceScore, CaroleScore]\n",
    "print(AllScore)\n",
    "print(AliceScore[2])\n",
    "print(AllScore[1][2])"
   ]
  },
  {
   "cell_type": "code",
   "execution_count": 20,
   "metadata": {},
   "outputs": [
    {
     "name": "stdout",
     "output_type": "stream",
     "text": [
      "4\n"
     ]
    }
   ],
   "source": [
    "a = [8, 4, 9, 5]\n",
    "small = a[0]\n",
    "for i in range(1, len(a)):\n",
    "    if small > a[i]:\n",
    "        small = a[i]\n",
    "print(small)"
   ]
  },
  {
   "cell_type": "code",
   "execution_count": 22,
   "metadata": {},
   "outputs": [
    {
     "name": "stdout",
     "output_type": "stream",
     "text": [
      "['__add__', '__class__', '__contains__', '__delattr__', '__delitem__', '__dir__', '__doc__', '__eq__', '__format__', '__ge__', '__getattribute__', '__getitem__', '__gt__', '__hash__', '__iadd__', '__imul__', '__init__', '__init_subclass__', '__iter__', '__le__', '__len__', '__lt__', '__mul__', '__ne__', '__new__', '__reduce__', '__reduce_ex__', '__repr__', '__reversed__', '__rmul__', '__setattr__', '__setitem__', '__sizeof__', '__str__', '__subclasshook__', 'append', 'clear', 'copy', 'count', 'extend', 'index', 'insert', 'pop', 'remove', 'reverse', 'sort']\n",
      "7\n",
      "[1, 10, 9, 7, 5, 2, 5]\n",
      "39\n",
      "[1, 10, 9, 7, 5, 2, 5]\n"
     ]
    }
   ],
   "source": [
    "a = [5, 2, 5, 7, 9, 10, 1]\n",
    "print(dir(a))\n",
    "print(len(a))\n",
    "a.reverse()\n",
    "print(a)\n",
    "print(sum(a))"
   ]
  },
  {
   "cell_type": "code",
   "execution_count": 23,
   "metadata": {},
   "outputs": [
    {
     "name": "stdout",
     "output_type": "stream",
     "text": [
      "[2, 3, 4, 5, 6, 7, 8, 9, 10, 11, 12, 13, 14, 15, 16, 17, 18, 19, 20, 21, 22, 23, 24, 25, 26, 27, 28, 29, 30, 31, 32, 33, 34, 35, 36, 37, 38, 39, 40, 41, 42, 43, 44, 45, 46, 47, 48, 49, 50, 51, 52, 53, 54, 55, 56, 57, 58, 59, 60, 61, 62, 63, 64]\n"
     ]
    }
   ],
   "source": [
    "eratosthenes = []\n",
    "for i in range(2, 65):\n",
    "    eratosthenes.append(i)\n",
    "print(eratosthenes)"
   ]
  },
  {
   "cell_type": "code",
   "execution_count": 28,
   "metadata": {},
   "outputs": [
    {
     "name": "stdout",
     "output_type": "stream",
     "text": [
      "[2, 3, 4, 5, 6, 7, 8, 9, 10, 11, 12, 13, 14, 15, 16, 17, 18, 19, 20, 21, 22, 23, 24, 25, 26, 27, 28, 29, 30, 31, 32, 33, 34, 35, 36, 37, 38, 39, 40, 41, 42, 43, 44, 45, 46, 47, 48, 49, 50, 51, 52, 53, 54, 55, 56, 57, 58, 59, 60, 61, 62, 63, 64]\n",
      "2를 제외한 2의배수 제거: [2, 3, 5, 7, 9, 11, 13, 15, 17, 19, 21, 23, 25, 27, 29, 31, 33, 35, 37, 39, 41, 43, 45, 47, 49, 51, 53, 55, 57, 59, 61, 63]\n"
     ]
    }
   ],
   "source": [
    "eratosthenes = []\n",
    "for i in range(2, 65):\n",
    "    eratosthenes.append(i)\n",
    "print(eratosthenes)\n",
    "      \n",
    "for i in eratosthenes:\n",
    "    if i>2 and i%2==0:\n",
    "        eratosthenes.remove(i)\n",
    "print(\"2를 제외한 2의배수 제거:\",eratosthenes)"
   ]
  },
  {
   "cell_type": "code",
   "execution_count": 30,
   "metadata": {},
   "outputs": [
    {
     "name": "stdout",
     "output_type": "stream",
     "text": [
      "[2, 3, 4, 5, 6, 7, 8, 9, 10, 11, 12, 13, 14, 15, 16, 17, 18, 19, 20, 21, 22, 23, 24, 25, 26, 27, 28, 29, 30, 31, 32, 33, 34, 35, 36, 37, 38, 39, 40, 41, 42, 43, 44, 45, 46, 47, 48, 49, 50, 51, 52, 53, 54, 55, 56, 57, 58, 59, 60, 61, 62, 63, 64]\n",
      "3을 제외한 3의배수 추가제거: [2, 3, 5, 7, 11, 13, 17, 19, 23, 25, 29, 31, 35, 37, 41, 43, 47, 49, 53, 55, 59, 61]\n"
     ]
    }
   ],
   "source": [
    "eratosthenes = []\n",
    "for i in range(2, 65):\n",
    "    eratosthenes.append(i)\n",
    "print(eratosthenes)\n",
    "      \n",
    "for i in range(2,4):\n",
    "    for j in eratosthenes:\n",
    "        if j>i and j%i==0:\n",
    "            eratosthenes.remove(j)\n",
    "print(\"3을 제외한 3의배수 추가제거:\",eratosthenes)"
   ]
  },
  {
   "cell_type": "code",
   "execution_count": 33,
   "metadata": {},
   "outputs": [
    {
     "name": "stdout",
     "output_type": "stream",
     "text": [
      "[2, 3, 4, 5, 6, 7, 8, 9, 10, 11, 12, 13, 14, 15, 16, 17, 18, 19, 20, 21, 22, 23, 24, 25, 26, 27, 28, 29, 30, 31, 32, 33, 34, 35, 36, 37, 38, 39, 40, 41, 42, 43, 44, 45, 46, 47, 48, 49, 50, 51, 52, 53, 54, 55, 56, 57, 58, 59, 60, 61, 62, 63, 64]\n",
      "소수: [2, 3, 5, 7, 11, 13, 17, 19, 23, 29, 31, 37, 41, 43, 47, 53, 59, 61]\n"
     ]
    }
   ],
   "source": [
    "eratosthenes = []\n",
    "\n",
    "for i in range(2, 65):\n",
    "    eratosthenes.append(i)\n",
    "print(eratosthenes)\n",
    "\n",
    "for i in eratosthenes:\n",
    "    for j in eratosthenes:\n",
    "        if j>i and j%i==0:\n",
    "            eratosthenes.remove(j)\n",
    "print(\"소수:\",eratosthenes)"
   ]
  },
  {
   "cell_type": "code",
   "execution_count": 34,
   "metadata": {},
   "outputs": [
    {
     "name": "stdout",
     "output_type": "stream",
     "text": [
      "0\n",
      "1\n",
      "3\n",
      "7\n",
      "31\n",
      "127\n",
      "8191\n",
      "131071\n",
      "524287\n",
      "2147483647\n"
     ]
    }
   ],
   "source": [
    "import math\n",
    "\n",
    "for n in range(51):\n",
    "    m = 2**n - 1\n",
    "    for j in range(2, int(math.sqrt(m)) + 1):\n",
    "        if m % j == 0:\n",
    "            break\n",
    "    else:\n",
    "        print(m)"
   ]
  },
  {
   "cell_type": "code",
   "execution_count": 1,
   "metadata": {},
   "outputs": [
    {
     "name": "stdout",
     "output_type": "stream",
     "text": [
      "3\n",
      "7\n",
      "31\n",
      "127\n",
      "8191\n",
      "131071\n",
      "524287\n",
      "2147483647\n"
     ]
    }
   ],
   "source": [
    "import math\n",
    "N = 50\n",
    "sieve = [n for n in range(2, N+1)]\n",
    "for i in sieve:\n",
    "    for j in sieve:\n",
    "        if j>i and j%i==0:\n",
    "            sieve.remove(j)\n",
    "\n",
    "for p in sieve:\n",
    "    m = 2**p - 1\n",
    "    for j in range(2, int(math.sqrt(m))+1):\n",
    "        if m%j==0:\n",
    "            break\n",
    "    else:\n",
    "        print(m)"
   ]
  },
  {
   "cell_type": "code",
   "execution_count": 29,
   "metadata": {},
   "outputs": [
    {
     "name": "stdout",
     "output_type": "stream",
     "text": [
      "[4, 5, 8, 9]\n"
     ]
    }
   ],
   "source": [
    "a = [8,4,9,5]\n",
    "\n",
    "def bubble_sort(data):\n",
    "    for i in range(len(data)):\n",
    "        for j in range(len(data)-1):\n",
    "            if data[j] > data[j+1]:\n",
    "                data[j], data[j+1] = data[j+1], data[j]\n",
    "            else:\n",
    "                pass\n",
    "    return data\n",
    "\n",
    "print(bubble_sort(a))"
   ]
  },
  {
   "cell_type": "code",
   "execution_count": 2,
   "metadata": {},
   "outputs": [
    {
     "name": "stdout",
     "output_type": "stream",
     "text": [
      "Running sort(100000) takes 0.016236066818237305\n"
     ]
    }
   ],
   "source": [
    "import time\n",
    "import random\n",
    "low = 0\n",
    "high = 1000000\n",
    "\n",
    "iter = 100000\n",
    "a = []\n",
    "for i in range(iter):\n",
    "    a.append(random.randint(low, high))\n",
    "\n",
    "start = time.time()\n",
    "a.sort()\n",
    "end = time.time()\n",
    "print(\"Running sort(%d) takes %s\" %(iter, end - start))"
   ]
  },
  {
   "cell_type": "code",
   "execution_count": null,
   "metadata": {},
   "outputs": [],
   "source": [
    "################ 버블정렬과 sort함수 간의 비교 ###################### (일단보류)\n",
    "low = 0\n",
    "high = 1000000\n",
    "\n",
    "iter = 100000\n",
    "a = []\n",
    "for i in range(iter):\n",
    "    a.append(random.randint(low, high))\n",
    "    \n",
    "def bubble_sort(data):\n",
    "    for i in range(len(data)):\n",
    "        for j in range(len(data)-1):\n",
    "            if data[j] > data[j+1]:\n",
    "                data[j], data[j+1] = data[j+1], data[j]\n",
    "            else:\n",
    "                pass\n",
    "    return data\n",
    "\n",
    "start = time.time()\n",
    "bubble_sort(a)\n",
    "end = time.time()\n",
    "print(\"Running bubble_sort(%d) takes %s\" %(iter, end - start))"
   ]
  },
  {
   "cell_type": "code",
   "execution_count": 2,
   "metadata": {},
   "outputs": [
    {
     "name": "stdout",
     "output_type": "stream",
     "text": [
      "(80, 70, 90, 60)\n",
      "70\n"
     ]
    },
    {
     "ename": "TypeError",
     "evalue": "'tuple' object does not support item assignment",
     "output_type": "error",
     "traceback": [
      "\u001b[1;31m---------------------------------------------------------------------------\u001b[0m",
      "\u001b[1;31mTypeError\u001b[0m                                 Traceback (most recent call last)",
      "\u001b[1;32m<ipython-input-2-61d604bc2762>\u001b[0m in \u001b[0;36m<module>\u001b[1;34m\u001b[0m\n\u001b[0;32m      2\u001b[0m \u001b[0mprint\u001b[0m\u001b[1;33m(\u001b[0m\u001b[0mscore\u001b[0m\u001b[1;33m)\u001b[0m\u001b[1;33m\u001b[0m\u001b[1;33m\u001b[0m\u001b[0m\n\u001b[0;32m      3\u001b[0m \u001b[0mprint\u001b[0m\u001b[1;33m(\u001b[0m\u001b[0mscore\u001b[0m\u001b[1;33m[\u001b[0m\u001b[1;36m1\u001b[0m\u001b[1;33m]\u001b[0m\u001b[1;33m)\u001b[0m\u001b[1;33m\u001b[0m\u001b[1;33m\u001b[0m\u001b[0m\n\u001b[1;32m----> 4\u001b[1;33m \u001b[0mscore\u001b[0m\u001b[1;33m[\u001b[0m\u001b[1;36m1\u001b[0m\u001b[1;33m]\u001b[0m \u001b[1;33m=\u001b[0m \u001b[1;36m100\u001b[0m\u001b[1;33m\u001b[0m\u001b[1;33m\u001b[0m\u001b[0m\n\u001b[0m",
      "\u001b[1;31mTypeError\u001b[0m: 'tuple' object does not support item assignment"
     ]
    }
   ],
   "source": [
    "score = (80, 70, 90, 60)\n",
    "print(score)\n",
    "print(score[1])\n",
    "score[1] = 100 # 튜플은 추가, 수정, 삭제 불가 하지만 리스트보다 속도가 빠르다"
   ]
  },
  {
   "cell_type": "code",
   "execution_count": 3,
   "metadata": {},
   "outputs": [
    {
     "name": "stdout",
     "output_type": "stream",
     "text": [
      "20153360\n",
      "김영재\n",
      "23\n"
     ]
    }
   ],
   "source": [
    "student = (20153360, '김영재', 23)\n",
    "\n",
    "id, name, age = student\n",
    "\n",
    "print(id)\n",
    "print(name)\n",
    "print(age)"
   ]
  },
  {
   "cell_type": "code",
   "execution_count": 5,
   "metadata": {},
   "outputs": [
    {
     "name": "stdout",
     "output_type": "stream",
     "text": [
      "{2015123: 'Alice', 2015200: 'Bob', 'KMU': 'JeongReung', 2015300: 'Carole', 2015400: 'Dave', 2015500: 'Eve'}\n"
     ]
    }
   ],
   "source": [
    "dic = {2015123: 'Alice', 2015200: 'Bob', \"KMU\": 'JeongReung'}\n",
    "dic[2015300] = 'Carole'\n",
    "dic.update({2015400: 'Dave', 2015500: 'Eve'})\n",
    "print(dic)"
   ]
  },
  {
   "cell_type": "code",
   "execution_count": 7,
   "metadata": {},
   "outputs": [
    {
     "name": "stdout",
     "output_type": "stream",
     "text": [
      "{2015123: 'Alice', 2015200: 'Bob', 'KMU': 'JeongReung', 2015300: 'Carole', 2015400: 'Dave', 2015500: 'Eve'}\n",
      "JeongReung\n",
      "Bob\n"
     ]
    }
   ],
   "source": [
    "dic = {2015123: 'Alice', 2015200: 'Bob', \"KMU\": 'JeongReung'}\n",
    "dic[2015300] = 'Carole'\n",
    "dic.update({2015400: 'Dave', 2015500: 'Eve'})\n",
    "print(dic)\n",
    "print(dic[\"KMU\"])\n",
    "print(dic[2015200])\n",
    "# print(dic[\"Alice\"])는 키값이 아니라 value값이기 때문에 출력에 오류가 발생한다."
   ]
  },
  {
   "cell_type": "code",
   "execution_count": 8,
   "metadata": {},
   "outputs": [
    {
     "name": "stdout",
     "output_type": "stream",
     "text": [
      "{2015200: 'Bob', 'KMU': 'JeongReung'}\n",
      "{2015200: 'Bob'}\n",
      "JeongReung\n"
     ]
    }
   ],
   "source": [
    "dic = {2015123: 'Alice', 2015200: 'Bob', \"KMU\": 'JeongReung'}\n",
    "https://wikidocs.net/book/1\n",
    "del dic[2015123]\n",
    "print(dic)\n",
    "\n",
    "x = dic.pop(\"KMU\") # KMU에 해당하는 값을 제거하고 반환\n",
    "print(dic)\n",
    "print(x)"
   ]
  },
  {
   "cell_type": "code",
   "execution_count": 9,
   "metadata": {},
   "outputs": [
    {
     "name": "stdout",
     "output_type": "stream",
     "text": [
      "2015123 's value is  Alice\n",
      "2015200 's value is  Bob\n",
      "KMU 's value is  JeongReung\n",
      "\n",
      "2015123 's value is Alice\n",
      "2015200 's value is Bob\n",
      "KMU 's value is JeongReung\n"
     ]
    }
   ],
   "source": [
    "dic = {2015123: 'Alice', 2015200: 'Bob', \"KMU\": 'JeongReung'}\n",
    "for key in dic:\n",
    "    print(key, \"'s value is \", dic[key])\n",
    "print()\n",
    "for key, value in dic.items():\n",
    "    print(key, \"'s value is\", value)"
   ]
  },
  {
   "cell_type": "code",
   "execution_count": 11,
   "metadata": {},
   "outputs": [
    {
     "name": "stdout",
     "output_type": "stream",
     "text": [
      "2015123 's value is  Alice\n",
      "2015200 's value is  Bob\n",
      "KMU 's value is  JeongReung\n",
      "\n",
      "2015123 's value is  Alice\n",
      "2015200 's value is  Bob\n",
      "KMU 's value is  JeongReung\n"
     ]
    },
    {
     "ename": "KeyError",
     "evalue": "2017100",
     "output_type": "error",
     "traceback": [
      "\u001b[1;31m---------------------------------------------------------------------------\u001b[0m",
      "\u001b[1;31mKeyError\u001b[0m                                  Traceback (most recent call last)",
      "\u001b[1;32m<ipython-input-11-95997ccc5965>\u001b[0m in \u001b[0;36m<module>\u001b[1;34m\u001b[0m\n\u001b[0;32m      6\u001b[0m     \u001b[0mprint\u001b[0m\u001b[1;33m(\u001b[0m\u001b[0mkey\u001b[0m\u001b[1;33m,\u001b[0m \u001b[1;34m\"'s value is \"\u001b[0m\u001b[1;33m,\u001b[0m \u001b[0mvalue\u001b[0m\u001b[1;33m)\u001b[0m\u001b[1;33m\u001b[0m\u001b[1;33m\u001b[0m\u001b[0m\n\u001b[0;32m      7\u001b[0m \u001b[1;33m\u001b[0m\u001b[0m\n\u001b[1;32m----> 8\u001b[1;33m \u001b[0mprint\u001b[0m\u001b[1;33m(\u001b[0m\u001b[0mdic\u001b[0m\u001b[1;33m[\u001b[0m\u001b[1;36m2017100\u001b[0m\u001b[1;33m]\u001b[0m\u001b[1;33m)\u001b[0m\u001b[1;33m\u001b[0m\u001b[1;33m\u001b[0m\u001b[0m\n\u001b[0m",
      "\u001b[1;31mKeyError\u001b[0m: 2017100"
     ]
    }
   ],
   "source": [
    "dic = {2015123: \"Alice\", 2015200: \"Bob\", \"KMU\": \"JeongReung\"}\n",
    "for key in dic:\n",
    "    print(key, \"'s value is \", dic[key])\n",
    "print()\n",
    "for key, value in dic.items():\n",
    "    print(key, \"'s value is \", value)\n",
    "\n",
    "print(dic[2017100])"
   ]
  },
  {
   "cell_type": "code",
   "execution_count": 13,
   "metadata": {},
   "outputs": [
    {
     "name": "stdout",
     "output_type": "stream",
     "text": [
      "2015123 's value is  Alice\n",
      "2015200 's value is  Bob\n",
      "KMU 's value is  JeongReung\n",
      "\n",
      "2015123 's value is  Alice\n",
      "2015200 's value is  Bob\n",
      "KMU 's value is  JeongReung\n",
      "\n",
      "key error\n"
     ]
    }
   ],
   "source": [
    "dic = {2015123: \"Alice\", 2015200: \"Bob\", \"KMU\": \"JeongReung\"}\n",
    "for key in dic:\n",
    "    print(key, \"'s value is \", dic[key])\n",
    "print()\n",
    "for key, value in dic.items():\n",
    "    print(key, \"'s value is \", value)\n",
    "print()\n",
    "if 2017100 in dic:\n",
    "    print(dic[2017100])\n",
    "else:\n",
    "    print(\"key error\")"
   ]
  },
  {
   "cell_type": "code",
   "execution_count": 14,
   "metadata": {},
   "outputs": [
    {
     "name": "stdout",
     "output_type": "stream",
     "text": [
      "2015123 's value is  Alice\n",
      "2015200 's value is  Bob\n",
      "KMU 's value is  JeongReung\n",
      "\n",
      "2015123 's value is  Alice\n",
      "2015200 's value is  Bob\n",
      "KMU 's value is  JeongReung\n",
      "\n",
      "ID: None\n"
     ]
    }
   ],
   "source": [
    "dic = {2015123: \"Alice\", 2015200: \"Bob\", \"KMU\": \"JeongReung\"}\n",
    "for key in dic:\n",
    "    print(key, \"'s value is \", dic[key])\n",
    "print()\n",
    "for key, value in dic.items():\n",
    "    print(key, \"'s value is \", value)\n",
    "print()\n",
    "\n",
    "id = dic.get(2017100)\n",
    "print(\"ID:\", id)"
   ]
  },
  {
   "cell_type": "code",
   "execution_count": 15,
   "metadata": {},
   "outputs": [
    {
     "name": "stdout",
     "output_type": "stream",
     "text": [
      "A = {1, 2, 'b', 'a', 'c'}\n",
      "B = {3, 4, 'd', 'a', 'c'}\n",
      "A union B = {1, 2, 3, 4, 'b', 'd', 'a', 'c'}\n",
      "A intersect B = {'a', 'c'}\n",
      "A minus B = {1, 2, 'b'}\n",
      "A symmetric difference B = {1, 2, 3, 4, 'b', 'd'}\n"
     ]
    }
   ],
   "source": [
    "A = {\"a\", \"b\", \"c\", 1, 2}\n",
    "B = {\"a\", \"c\", \"d\", 3, 4}\n",
    "print(\"A =\", A)\n",
    "print(\"B =\", B)\n",
    "print(\"A union B =\", A | B)\n",
    "print(\"A intersect B =\", A & B)\n",
    "print(\"A minus B =\", A - B)\n",
    "print(\"A symmetric difference B =\", A ^ B) # 대칭차집합 : 합집합 - 교집합"
   ]
  },
  {
   "cell_type": "code",
   "execution_count": 17,
   "metadata": {},
   "outputs": [
    {
     "name": "stdout",
     "output_type": "stream",
     "text": [
      "추가 전 : {2, 3, 5, 7}\n",
      "11 추가 후 : {2, 3, 5, 7, 11}\n",
      "[13, 17, 19] 추가 후 : {2, 3, 5, 7, 11, 13, 17, 19}\n"
     ]
    }
   ],
   "source": [
    "prime_numbers = {2, 3, 5, 7}\n",
    "\n",
    "print(\"추가 전 :\", prime_numbers)\n",
    "\n",
    "prime_numbers.add(11)\n",
    "print(\"11 추가 후 :\", prime_numbers) # 한개의 원소 추가시 add 사용\n",
    "\n",
    "prime_numbers.update([13, 17, 19])\n",
    "print(\"[13, 17, 19] 추가 후 :\", prime_numbers) # 여러개의 원소 추가시 update 사용"
   ]
  },
  {
   "cell_type": "code",
   "execution_count": 19,
   "metadata": {},
   "outputs": [
    {
     "name": "stdout",
     "output_type": "stream",
     "text": [
      "원소 삭제 전 : {2, 3, 5, 7, 9, 11, 13, 15, 17, 19}\n",
      "9 삭제 후 : {2, 3, 5, 7, 11, 13, 15, 17, 19}\n",
      "15 삭제 후 : {2, 3, 5, 7, 11, 13, 17, 19}\n"
     ]
    }
   ],
   "source": [
    "prime_numbers = {2, 3, 5, 7, 9, 11, 13, 15, 17, 19}\n",
    "\n",
    "print(\"원소 삭제 전 :\", prime_numbers)\n",
    "prime_numbers.discard(9) # 원소가 집합에 있으면 삭제\n",
    "print(\"9 삭제 후 :\", prime_numbers)\n",
    "prime_numbers.remove(15) # 원소가 집합에 있으면 삭제, 없으면 에러를 발생\n",
    "print(\"15 삭제 후 :\", prime_numbers)"
   ]
  },
  {
   "cell_type": "code",
   "execution_count": 21,
   "metadata": {},
   "outputs": [
    {
     "name": "stdout",
     "output_type": "stream",
     "text": [
      "4\n",
      "0.36363636363636365\n",
      "0.07692307692307693\n",
      "0.0\n",
      "0.375\n",
      "0.16666666666666666\n",
      "0.3\n"
     ]
    }
   ],
   "source": [
    "allSet = [{1,2,3,4,5,6,7,8,9}, {1,3,5,7,12,15},\n",
    "         {3,12,15,18,20}, {12,13,14,15,16,17,18,19}]\n",
    "print(len(allSet))\n",
    "\n",
    "for i in range(0, len(allSet) - 1):\n",
    "    for j in range(i+1, len(allSet)):\n",
    "        print(len(allSet[i] & allSet[j]) / len(allSet[i] | allSet[j]))"
   ]
  },
  {
   "cell_type": "code",
   "execution_count": 22,
   "metadata": {},
   "outputs": [
    {
     "name": "stdout",
     "output_type": "stream",
     "text": [
      "[(1, 2), (1, 3), (1, 4), (2, 3), (2, 4), (3, 4)]\n",
      "[(1, 2, 3), (1, 2, 4), (1, 3, 4), (2, 3, 4)]\n"
     ]
    }
   ],
   "source": [
    "from itertools import combinations\n",
    "s = {1,2,3,4}\n",
    "print(list(combinations(s,2)))\n",
    "print(list(combinations(s,3)))"
   ]
  },
  {
   "cell_type": "code",
   "execution_count": 23,
   "metadata": {},
   "outputs": [
    {
     "name": "stdout",
     "output_type": "stream",
     "text": [
      "(5, -3, -2)\n",
      "true\n"
     ]
    }
   ],
   "source": [
    "from itertools import combinations\n",
    "A = {-7, -3, -2, 5, 8}\n",
    "ans = False\n",
    "for i in range(1, len(A) + 1):\n",
    "    pos = list(combinations(A,i))\n",
    "    for j in pos:\n",
    "        if sum(j) == 0:\n",
    "            ans = True\n",
    "            print(j)\n",
    "            break\n",
    "    if ans:\n",
    "        break\n",
    "if ans:\n",
    "    print(\"true\")\n",
    "else:\n",
    "    print(\"false\")"
   ]
  },
  {
   "cell_type": "code",
   "execution_count": 24,
   "metadata": {},
   "outputs": [
    {
     "name": "stdout",
     "output_type": "stream",
     "text": [
      "<class 'str'>\n",
      "<class 'str'>\n",
      "<class 'int'>\n",
      "<class 'str'>\n"
     ]
    }
   ],
   "source": [
    "print(type(\"Hello 과소사\"))\n",
    "print(type(\"!@#$%^&*\"))\n",
    "print(type(123456789))\n",
    "print(type(\"123456789\"))"
   ]
  },
  {
   "cell_type": "code",
   "execution_count": 25,
   "metadata": {},
   "outputs": [
    {
     "name": "stdout",
     "output_type": "stream",
     "text": [
      "<class 'str'>\n",
      "<class 'str'>\n",
      "123456789 <class 'str'>\n"
     ]
    }
   ],
   "source": [
    "a = \"큰따옴표\"\n",
    "b = '작은따옴표'\n",
    "\n",
    "print(type(a))\n",
    "print(type(b))\n",
    "\n",
    "c = 123456789\n",
    "d = str(c)\n",
    "print(d, type(d))"
   ]
  },
  {
   "cell_type": "code",
   "execution_count": 5,
   "metadata": {},
   "outputs": [
    {
     "name": "stdout",
     "output_type": "stream",
     "text": [
      "['곰', '세', '마리가', '한', '집에', '있어,', '아빠곰,', '엄마곰,', '애기곰']\n",
      "['곰 세 마리가 한 집에 있어', ' 아빠곰, 엄마곰, 애기곰']\n",
      "['곰 세 마리가 한 집에 있어', ' 아빠곰, 엄마곰, 애기곰']\n",
      "['', ' 세 마리가 한 집에 있어, 아빠', ', 엄마', ', 애기', '']\n"
     ]
    }
   ],
   "source": [
    "a = \"곰 세 마리가 한 집에 있어, 아빠곰, 엄마곰, 애기곰\"\n",
    "print(a.split(sep = \" \"))\n",
    "print(a.split(sep = ',', maxsplit = 1)) # 쉼표를 기준으로 나누되, 한번만 쪼갠다.\n",
    "print(a.split(\",\",1))\n",
    "print(a.split(sep = '곰'))"
   ]
  },
  {
   "cell_type": "code",
   "execution_count": 7,
   "metadata": {},
   "outputs": [
    {
     "name": "stdout",
     "output_type": "stream",
     "text": [
      "['간', ' 공', ' 공', '', '은 강 공', '', '이고 된', ' 공', ' 공', '', '은 공 공', '', '이다.']\n",
      "['사람들은', '햇콩', '단콩', '콩죽', '깨죽', '죽먹기를 싫어하더라']\n",
      "['내가 ', ' 그림은 긴 기린 ', ' 그림이고 네가 ', ' 기린 그림은 안 긴 기린 그림이다']\n",
      "['', '합', '화점 옆에 ', '화', '화점이 있고 백화백화점 옆에 백합백화점이 있다.']\n"
     ]
    }
   ],
   "source": [
    "a = '간장 공장 공장장은 강 공장장이고 된장 공장 공장장은 공 공장장이다.'\n",
    "print(a.split(sep = '장'))\n",
    "b = '사람들은 햇콩 단콩 콩죽 깨죽 죽먹기를 싫어하더라'\n",
    "print(b.split(sep = ' ', maxsplit = 5))\n",
    "c = '내가 그린 그림은 긴 기린 그린 그림이고 네가 그린 기린 그림은 안 긴 기린 그림이다.'\n",
    "print(c.split('그린'))\n",
    "d = '백합백화점 옆에 백화백화점이 있고 백화백화점 옆에 백합백화점이 있다.'\n",
    "print(d.split('백', 4))"
   ]
  },
  {
   "cell_type": "code",
   "execution_count": 13,
   "metadata": {},
   "outputs": [
    {
     "name": "stdout",
     "output_type": "stream",
     "text": [
      "red and green and blue and yellow and violet\n",
      "['국어', '수학', '영어', '물리', '화학', '생명과학', '지구과학', '한국사', '대학수학능력시험']\n",
      "국어영역 수학영역 영어영역 물리영역 화학영역 생명과학영역 지구과학영역 한국사영역 대학수학능력시험\n",
      "['뽀로로', ' 에디', ' 루피', ' 포비', ' 패티', ' 해리', ' 크롱']\n",
      "뽀로로와 에디와 루피와 포비와 패티와 해리와 크롱\n"
     ]
    }
   ],
   "source": [
    "color = ('red', 'green', 'blue', 'yellow', 'violet')\n",
    "print(' and '.join(color))\n",
    "\n",
    "subject = \"국어 수학 영어 물리 화학 생명과학 지구과학 한국사 대학수학능력시험\"\n",
    "print(subject.split())\n",
    "print(\"영역 \".join(subject.split()))\n",
    "\n",
    "character = \"뽀로로, 에디, 루피, 포비, 패티, 해리, 크롱\"\n",
    "print(character.split(sep=','))\n",
    "print(\"와\".join(character.split(sep=',')))"
   ]
  },
  {
   "cell_type": "code",
   "execution_count": 14,
   "metadata": {},
   "outputs": [
    {
     "name": "stdout",
     "output_type": "stream",
     "text": [
      "국민대학교 소프트웨어학부\n"
     ]
    }
   ],
   "source": [
    "formatting1 = '국민대학교 %s' % '소프트웨어학부'\n",
    "print(formatting1)"
   ]
  },
  {
   "cell_type": "code",
   "execution_count": 15,
   "metadata": {},
   "outputs": [
    {
     "name": "stdout",
     "output_type": "stream",
     "text": [
      "내가 그린 그림은 긴 기린 그린 그림이고 네가 그린 기린 그림은 안 긴 기린 그림이다.\n",
      "내가 그린 그림은 긴 기린 그린 그림이고 네가 그린 기린 그림은 안 긴 기린 그림이다.\n"
     ]
    }
   ],
   "source": [
    "c = '내가 그린 그림은 긴 기린 그린 그림이고 네가 그린 기린 그림은 안 긴 기린 그림이다.'\n",
    "pa = '그림'\n",
    "gr = '기린'\n",
    "result = ('내가 그린 %s은 긴 %s 그린 %s이고 네가 그린 %s %s은 안 긴 %s %s이다.' %(pa,gr,pa,gr,pa,gr,pa))\n",
    "print(c)\n",
    "print(result)"
   ]
  },
  {
   "cell_type": "code",
   "execution_count": 16,
   "metadata": {},
   "outputs": [
    {
     "name": "stdout",
     "output_type": "stream",
     "text": [
      "국민대학교 소프트웨어학부\n"
     ]
    }
   ],
   "source": [
    "formatting2 = '국민대학교 {}'.format('소프트웨어학부')\n",
    "print(formatting2)"
   ]
  },
  {
   "cell_type": "code",
   "execution_count": 2,
   "metadata": {},
   "outputs": [
    {
     "name": "stdout",
     "output_type": "stream",
     "text": [
      "My school is Kookmin Univ.\n"
     ]
    }
   ],
   "source": [
    "school = 'Kookmin Univ.'\n",
    "introduce = f'My school is {school}'\n",
    "print(introduce)"
   ]
  },
  {
   "cell_type": "code",
   "execution_count": 19,
   "metadata": {},
   "outputs": [
    {
     "name": "stdout",
     "output_type": "stream",
     "text": [
      "빠삐코 CM송 모두 {}글자이다. 141\n",
      "빠삐코를 앞에서부터 찾으면 14, 뒤에서부터 찾으면 137이다.\n",
      "삼강은 38에서 처음 나온다. 그러나 이제는 롯데다.\n",
      "빠는 몇 번이나 나왔을까?  18번이나 나왔네!\n"
     ]
    }
   ],
   "source": [
    "song = \"\"\"빠빠라 빠빠라 빠 삐삐리 빠삐코, (헤이!)\n",
    "  더울수록 시원한 맛 삼강 빠삐코\n",
    "  하늘 보고~ 땅을 보고~\n",
    "  손이 시려워! 입이 시려!\n",
    "  올 여름 더위는 빠삐코에 맡겨다오, 다오, 다오, 다오!\n",
    "  빠빠라 빠빠라 빠삐코, 삼강 빠빠 빠빠라 빠삐코!\"\"\"\n",
    "\n",
    "print(\"빠삐코 CM송 모두 {}글자이다.\",format(len(song)))\n",
    "print(\"빠삐코를 앞에서부터 찾으면 {}, 뒤에서부터 찾으면 {}이다.\".format(song.find(\"빠삐코\"), song.rfind(\"빠삐코\")))\n",
    "print(\"삼강은 {}에서 처음 나온다. 그러나 이제는 롯데다.\".format(song.index(\"삼강\")))\n",
    "print(\"빠는 몇 번이나 나왔을까?  {}번이나 나왔네!\".format(song.count('빠')))"
   ]
  },
  {
   "cell_type": "code",
   "execution_count": 20,
   "metadata": {},
   "outputs": [
    {
     "name": "stdout",
     "output_type": "stream",
     "text": [
      "I thought I saw you out there crying\n",
      "\n",
      "I thought I heard you out there crying\n"
     ]
    }
   ],
   "source": [
    "beginagain = [\n",
    "    \"I thought I saw you out there crying\",\n",
    "    \"I thought I heard you call my name\",\n",
    "    \"I thought I heard you out there crying\"\n",
    "]\n",
    "\n",
    "for i in beginagain:\n",
    "    if i.startswith(\"I\") and i.endswith(\"ing\"):\n",
    "        print(i)\n",
    "    else:\n",
    "        print(\"\")"
   ]
  },
  {
   "cell_type": "code",
   "execution_count": 2,
   "metadata": {},
   "outputs": [
    {
     "name": "stdout",
     "output_type": "stream",
     "text": [
      "핸드폰 번호를 입력합니다. 하나씩 차근차근 입력해주세요.\n",
      "0\n",
      "1\n",
      "0\n",
      "5\n",
      "1\n",
      "7\n",
      "6\n",
      "7\n",
      "6\n",
      "7\n",
      "3\n",
      "010-5176-7673\n"
     ]
    }
   ],
   "source": [
    "print(\"핸드폰 번호를 입력합니다. 하나씩 차근차근 입력해주세요.\")\n",
    "phonenumber = \"\"\n",
    "for j in range(11):\n",
    "    phone = input(\"\")\n",
    "    if phone.isdecimal():\n",
    "        phonenumber += phone\n",
    "        if j == 2 or j == 6:\n",
    "            phonenumber += \"-\"\n",
    "    else:\n",
    "        print(\"숫자가 입력되지 않았습니다. 실행을 중지합니다.\")\n",
    "        exit()\n",
    "if len(phonenumber) == 13:\n",
    "    print(phonenumber)"
   ]
  },
  {
   "cell_type": "code",
   "execution_count": 4,
   "metadata": {},
   "outputs": [
    {
     "name": "stdout",
     "output_type": "stream",
     "text": [
      "   I'll be your 1UP Gir   l    \n",
      "I'll be your 1UP Gir   l\n"
     ]
    },
    {
     "data": {
      "text/plain": [
       "\"END END END ENDIEND'ENDlENDlEND ENDbENDeEND ENDyENDoENDuENDrEND END1ENDUENDPEND ENDGENDiENDrEND END END ENDlEND END END END END\""
      ]
     },
     "execution_count": 4,
     "metadata": {},
     "output_type": "execute_result"
    }
   ],
   "source": [
    "example = \"   I'll be your 1UP Gir   l    \"\n",
    "print(example)\n",
    "print(example.strip())\n",
    "example.replace(\"\",\"END\")"
   ]
  },
  {
   "cell_type": "code",
   "execution_count": null,
   "metadata": {},
   "outputs": [],
   "source": []
  }
 ],
 "metadata": {
  "kernelspec": {
   "display_name": "Python 3",
   "language": "python",
   "name": "python3"
  },
  "language_info": {
   "codemirror_mode": {
    "name": "ipython",
    "version": 3
   },
   "file_extension": ".py",
   "mimetype": "text/x-python",
   "name": "python",
   "nbconvert_exporter": "python",
   "pygments_lexer": "ipython3",
   "version": "3.8.3"
  }
 },
 "nbformat": 4,
 "nbformat_minor": 4
}
