{
 "cells": [
  {
   "cell_type": "code",
   "execution_count": 1,
   "metadata": {},
   "outputs": [
    {
     "name": "stdout",
     "output_type": "stream",
     "text": [
      "My name is Han.\n",
      "I am 22 years old.\n",
      "Nice to meet you.\n"
     ]
    }
   ],
   "source": [
    "def print_my_info():\n",
    "    print(\"My name is Han.\")\n",
    "    print(\"I am 22 years old.\")\n",
    "    print(\"Nice to meet you.\")\n",
    "\n",
    "print_my_info()"
   ]
  },
  {
   "cell_type": "code",
   "execution_count": 3,
   "metadata": {},
   "outputs": [
    {
     "name": "stdout",
     "output_type": "stream",
     "text": [
      "Program starts\n",
      "function starts\n",
      "M Yoon\n",
      "717 Building #7, Kookmin Univ.\n",
      "JungReung-Dong, SungBuk-Gu\n",
      "Seoul\n",
      "South Korea\n",
      "\n",
      "function done\n",
      "Program done\n"
     ]
    }
   ],
   "source": [
    "def printMyAddress():\n",
    "    print(\"function starts\")\n",
    "    print(\"M Yoon\")\n",
    "    print(\"717 Building #7, Kookmin Univ.\")\n",
    "    print(\"JungReung-Dong, SungBuk-Gu\")\n",
    "    print(\"Seoul\")\n",
    "    print(\"South Korea\")\n",
    "    print()\n",
    "    print(\"function done\")\n",
    "    \n",
    "print(\"Program starts\")\n",
    "printMyAddress()\n",
    "print(\"Program done\")"
   ]
  },
  {
   "cell_type": "code",
   "execution_count": 4,
   "metadata": {},
   "outputs": [
    {
     "name": "stdout",
     "output_type": "stream",
     "text": [
      "A >5\n",
      "B >9\n",
      "5 부터 9 까지의 합은 35 입니다.\n"
     ]
    }
   ],
   "source": [
    "def get_sum(start, end):\n",
    "    ret = 0\n",
    "    for num in range(start, end+1):\n",
    "        ret += num\n",
    "    return ret\n",
    "\n",
    "a = int(input(\"A >\"))\n",
    "b = int(input(\"B >\"))\n",
    "\n",
    "print(\"{} 부터 {} 까지의 합은 {} 입니다.\".format(a,b,get_sum(a,b)))"
   ]
  },
  {
   "cell_type": "code",
   "execution_count": 5,
   "metadata": {},
   "outputs": [
    {
     "name": "stdout",
     "output_type": "stream",
     "text": [
      "10\n"
     ]
    }
   ],
   "source": [
    "def combi(n,r):\n",
    "    res1 = 1\n",
    "    res2 = 1\n",
    "    if n>1:\n",
    "        for i in range(r):\n",
    "            res1 *= n\n",
    "            res2 *= r\n",
    "            n, r = n-1, r-1\n",
    "        return res1//res2 # 몫\n",
    "    else:\n",
    "        return \"자연수를 입력해주세요.\"\n",
    "    \n",
    "print(combi(5,2))"
   ]
  },
  {
   "cell_type": "code",
   "execution_count": 12,
   "metadata": {},
   "outputs": [
    {
     "data": {
      "text/plain": [
       "1125751"
      ]
     },
     "execution_count": 12,
     "metadata": {},
     "output_type": "execute_result"
    }
   ],
   "source": [
    "def cake(n):\n",
    "    sum = 1\n",
    "    for i in range(n+1):\n",
    "        sum += i\n",
    "    return sum\n",
    "\n",
    "cake(1500)"
   ]
  },
  {
   "cell_type": "code",
   "execution_count": 1,
   "metadata": {},
   "outputs": [
    {
     "name": "stdout",
     "output_type": "stream",
     "text": [
      "45\n"
     ]
    }
   ],
   "source": [
    "def get_sum(*args):\n",
    "    ret = 0\n",
    "    for each in args:\n",
    "        ret += each\n",
    "    return ret\n",
    "\n",
    "print(get_sum(1,2,3,4,5,6,7,8,9))"
   ]
  },
  {
   "cell_type": "code",
   "execution_count": 2,
   "metadata": {},
   "outputs": [
    {
     "name": "stdout",
     "output_type": "stream",
     "text": [
      "My namwe is Kim\n",
      "--구분선--\n",
      "My namwe is Kim\n",
      "My namwe is Kim\n",
      "My namwe is Kim\n"
     ]
    }
   ],
   "source": [
    "def print_my_info(n=1):\n",
    "    for i in range(n):\n",
    "        print(\"My namwe is Kim\")\n",
    "        \n",
    "print_my_info()\n",
    "print(\"--구분선--\")\n",
    "print_my_info(3)"
   ]
  },
  {
   "cell_type": "code",
   "execution_count": 3,
   "metadata": {},
   "outputs": [
    {
     "name": "stdout",
     "output_type": "stream",
     "text": [
      "Program starts\n",
      "f1 starts\n",
      "f2 starts\n",
      "f3 starts\n",
      "f3 ends\n",
      "f2 ends\n",
      "f1 ends\n",
      "Program ends\n"
     ]
    }
   ],
   "source": [
    "def f1():\n",
    "    print(\"f1 starts\")\n",
    "    f2()\n",
    "    print(\"f1 ends\")\n",
    "    \n",
    "def f2():\n",
    "    print(\"f2 starts\")\n",
    "    f3()\n",
    "    print(\"f2 ends\")\n",
    "    \n",
    "def f3():\n",
    "    print(\"f3 starts\")\n",
    "    print(\"f3 ends\")\n",
    "    \n",
    "print(\"Program starts\")\n",
    "f1()\n",
    "print(\"Program ends\")"
   ]
  },
  {
   "cell_type": "code",
   "execution_count": 6,
   "metadata": {},
   "outputs": [
    {
     "name": "stdout",
     "output_type": "stream",
     "text": [
      "M Yoon\n",
      "Room # 616\n",
      "Kookmin Univ., South Korea\n",
      "S Yoon\n",
      "Room # 717\n",
      "Kookmin Univ., South Korea\n",
      "K Hong\n",
      "Room # 777\n",
      "Kookmin Univ., South Korea\n"
     ]
    }
   ],
   "source": [
    "def printMyAddress(firstName, lastName, roomNum):\n",
    "    print(firstName, lastName)\n",
    "    print(\"Room #\", roomNum)\n",
    "    print(\"Kookmin Univ., South Korea\")\n",
    "    \n",
    "printMyAddress(\"M\", \"Yoon\", 616)\n",
    "printMyAddress(\"S\", \"Yoon\", 717)\n",
    "printMyAddress(\"K\", \"Hong\", 777)\n"
   ]
  },
  {
   "cell_type": "code",
   "execution_count": 8,
   "metadata": {},
   "outputs": [
    {
     "name": "stdout",
     "output_type": "stream",
     "text": [
      "Before the func. M Yoon 616\n",
      "In the func.: S Lee 618\n",
      "After the func. M Yoon 616\n"
     ]
    }
   ],
   "source": [
    "def printPerson(name, num):\n",
    "    name = \"S Lee\"\n",
    "    num = 618\n",
    "    print(\"In the func.:\", name, num)\n",
    "    \n",
    "pName = \"M Yoon\"\n",
    "pNum = 616\n",
    "print(\"Before the func.\", pName, pNum)\n",
    "printPerson(pName, pNum)\n",
    "print(\"After the func.\", pName, pNum)"
   ]
  },
  {
   "cell_type": "code",
   "execution_count": 11,
   "metadata": {},
   "outputs": [
    {
     "name": "stdout",
     "output_type": "stream",
     "text": [
      "Before the func.: ['Dave', 'Alice']\n",
      "['Dave', 'Alice']\n",
      "In the func.: ['Alice', 'Bob', 'Dave']\n",
      "['Alice', 'Bob', 'Dave']\n",
      "After the func.: ['Alice', 'Bob', 'Dave']\n"
     ]
    }
   ],
   "source": [
    "def mutableArgument(names):\n",
    "    names.append(\"Bob\")\n",
    "    names.sort()\n",
    "    print(\"In the func.:\", names)\n",
    "\n",
    "pNames = [\"Dave\", \"Alice\"]\n",
    "print(\"Before the func.:\", pNames)\n",
    "print(pNames)\n",
    "mutableArgument(pNames)\n",
    "print(pNames)\n",
    "print(\"After the func.:\", pNames)"
   ]
  },
  {
   "cell_type": "code",
   "execution_count": 12,
   "metadata": {},
   "outputs": [
    {
     "name": "stdout",
     "output_type": "stream",
     "text": [
      "5 25\n",
      "5 125\n"
     ]
    }
   ],
   "source": [
    "def exp(g, m):\n",
    "    return (g(m))\n",
    "\n",
    "def f1(x):\n",
    "    return x*x\n",
    "\n",
    "def f2(x):\n",
    "    return x*x*x\n",
    "\n",
    "n=5\n",
    "print(n, exp(f1, n))\n",
    "print(n, exp(f2, n))"
   ]
  },
  {
   "cell_type": "code",
   "execution_count": 13,
   "metadata": {},
   "outputs": [
    {
     "name": "stdout",
     "output_type": "stream",
     "text": [
      "10\n"
     ]
    }
   ],
   "source": [
    "def combi(n,r):\n",
    "    res1 = 1\n",
    "    res2 = 1\n",
    "    if n>1:\n",
    "        for i in range(r):\n",
    "            res1 *= n\n",
    "            res2 *= r\n",
    "            n, r = n-1, r-1\n",
    "        return res1//res2 # 몫\n",
    "    else:\n",
    "        return \"자연수를 입력해주세요.\"\n",
    "    \n",
    "print(combi(5,2))"
   ]
  },
  {
   "cell_type": "code",
   "execution_count": 14,
   "metadata": {},
   "outputs": [
    {
     "name": "stdout",
     "output_type": "stream",
     "text": [
      "15\n"
     ]
    }
   ],
   "source": [
    "def combi(n,r):\n",
    "    res1 = 1\n",
    "    res2 = 1\n",
    "    if n>1:\n",
    "        for i in range(r):\n",
    "            res1 *= n\n",
    "            res2 *= r\n",
    "            n, r = n-1, r-1\n",
    "        return res1//res2 # 몫\n",
    "    else:\n",
    "        return \"자연수를 입력해주세요.\"\n",
    "\n",
    "def recombi(n, r):\n",
    "    return combi(r+(n-1), r)\n",
    "\n",
    "print(recombi(3,4))"
   ]
  },
  {
   "cell_type": "code",
   "execution_count": 15,
   "metadata": {},
   "outputs": [
    {
     "name": "stdout",
     "output_type": "stream",
     "text": [
      "Enter a price: 500\n",
      "price =  500.0  Total price =  530.0\n"
     ]
    }
   ],
   "source": [
    "def calculate_tax(price, tax_rate):\n",
    "    total = price+(price*tax_rate)\n",
    "    return total\n",
    "\n",
    "my_price = float(input(\"Enter a price: \"))\n",
    "\n",
    "total_price = calculate_tax(my_price, 0.06)\n",
    "\n",
    "print(\"price = \", my_price, \" Total price = \",total_price)"
   ]
  },
  {
   "cell_type": "code",
   "execution_count": 16,
   "metadata": {},
   "outputs": [
    {
     "name": "stdout",
     "output_type": "stream",
     "text": [
      "Enter a price: 100\n",
      "price =  300.0  Total price =  106.0\n"
     ]
    }
   ],
   "source": [
    "def calculate_tax(price, tax_rate):\n",
    "    total = price+(price*tax_rate)\n",
    "    global my_price\n",
    "    my_price += 200\n",
    "    return total\n",
    "\n",
    "my_price = float(input(\"Enter a price: \"))\n",
    "\n",
    "total_price = calculate_tax(my_price, 0.06)\n",
    "\n",
    "print(\"price = \", my_price, \" Total price = \",total_price)"
   ]
  },
  {
   "cell_type": "code",
   "execution_count": 20,
   "metadata": {},
   "outputs": [
    {
     "name": "stdout",
     "output_type": "stream",
     "text": [
      "Call outer function\n",
      "Call inner function\n"
     ]
    }
   ],
   "source": [
    "def outer_func():\n",
    "    print(\"Call outer function\")\n",
    "    \n",
    "    def inner_func():\n",
    "        print(\"Call inner function\")\n",
    "        \n",
    "    return inner_func()\n",
    "\n",
    "outer_func()"
   ]
  },
  {
   "cell_type": "code",
   "execution_count": 21,
   "metadata": {},
   "outputs": [
    {
     "name": "stdout",
     "output_type": "stream",
     "text": [
      "Enter your name: yun\n",
      "Hello, yun\n"
     ]
    }
   ],
   "source": [
    "def outer_func(name):\n",
    "    \n",
    "    def inner_func():\n",
    "        msg = \"Hello, \" + name\n",
    "        print(msg)\n",
    "    return inner_func()\n",
    "\n",
    "my_name = input(\"Enter your name: \")\n",
    "outer_func(my_name)"
   ]
  },
  {
   "cell_type": "code",
   "execution_count": 25,
   "metadata": {},
   "outputs": [
    {
     "name": "stdout",
     "output_type": "stream",
     "text": [
      "Enter your name: yun\n",
      "Hello, Studentyun\n"
     ]
    }
   ],
   "source": [
    "def outer_func(name):\n",
    "    \n",
    "    def inner_func():\n",
    "        nonlocal name  # 바깥함수의 변수를 변경하려면 nonlocal을 표시\n",
    "        name = \"Student\" + name\n",
    "        msg = \"Hello, \" + name\n",
    "        print(msg)\n",
    "    return inner_func()\n",
    "\n",
    "my_name = input(\"Enter your name: \")\n",
    "outer_func(my_name)"
   ]
  },
  {
   "cell_type": "code",
   "execution_count": 26,
   "metadata": {},
   "outputs": [
    {
     "name": "stdout",
     "output_type": "stream",
     "text": [
      "3\n"
     ]
    }
   ],
   "source": [
    "get_sum = lambda x, y: x+y\n",
    "print(get_sum(1,2))"
   ]
  },
  {
   "cell_type": "code",
   "execution_count": 28,
   "metadata": {},
   "outputs": [
    {
     "name": "stdout",
     "output_type": "stream",
     "text": [
      "5 25\n",
      "5 125\n",
      "5 25\n",
      "5 125\n"
     ]
    }
   ],
   "source": [
    "def exp(g,m):\n",
    "    return (g(m))\n",
    "\n",
    "f1 = lambda x: x*x\n",
    "f2 = lambda x: x*x*x\n",
    "\n",
    "n=5\n",
    "\n",
    "print(n, f1(n))\n",
    "print(n, f2(n))\n",
    "print(n, exp(f1, n))\n",
    "print(n, exp(f2, n))"
   ]
  },
  {
   "cell_type": "code",
   "execution_count": 31,
   "metadata": {},
   "outputs": [
    {
     "name": "stdout",
     "output_type": "stream",
     "text": [
      "[('Lim', 2004), ('Lee', 2006), ('Yoon', 2010)]\n"
     ]
    }
   ],
   "source": [
    "a = [(\"Yoon\", 2010), (\"Lee\", 2006), (\"Lim\", 2004)]\n",
    "a.sort(key = lambda x: x[1]) # 튜플의 두번째 값으로 정렬\n",
    "print(a)"
   ]
  },
  {
   "cell_type": "code",
   "execution_count": 32,
   "metadata": {},
   "outputs": [
    {
     "name": "stdout",
     "output_type": "stream",
     "text": [
      "3\n",
      "5.0\n"
     ]
    }
   ],
   "source": [
    "print(abs(-3))\n",
    "print(abs(4+3j)) # 복소수인 경우 sqrt(x*x+y*y) 값으로 반환"
   ]
  },
  {
   "cell_type": "code",
   "execution_count": 33,
   "metadata": {},
   "outputs": [
    {
     "name": "stdout",
     "output_type": "stream",
     "text": [
      "MAX :  96\n",
      "MIN :  1\n"
     ]
    }
   ],
   "source": [
    "numbers = [91,7,1,18,29,66,89,41,96,32]\n",
    "\n",
    "print(\"MAX : \", max(numbers))\n",
    "print(\"MIN : \", min(numbers))"
   ]
  },
  {
   "cell_type": "code",
   "execution_count": 36,
   "metadata": {},
   "outputs": [
    {
     "name": "stdout",
     "output_type": "stream",
     "text": [
      "1 번째 맴버 : 김성규\n",
      "2 번째 맴버 : 장동우\n",
      "3 번째 맴버 : 남우현\n",
      "4 번째 맴버 : 이성열\n",
      "5 번째 맴버 : 엘\n",
      "6 번째 맴버 : 이성종\n"
     ]
    }
   ],
   "source": [
    "members = ['김성규', '장동우', '남우현', '이성열', '엘', '이성종']\n",
    "\n",
    "for number, name in enumerate(members, start=1): # 첫번째 요소로 인덱스, 두번째 요소로 인덱스에 해당하는 값\n",
    "    print(\"{} 번째 맴버 : {}\" .format(number, name))"
   ]
  },
  {
   "cell_type": "code",
   "execution_count": 37,
   "metadata": {},
   "outputs": [
    {
     "name": "stdout",
     "output_type": "stream",
     "text": [
      "55\n"
     ]
    }
   ],
   "source": [
    "number_list = [1,2,3,4,5,6,7,8,9,10]\n",
    "\n",
    "print(sum(number_list))"
   ]
  },
  {
   "cell_type": "code",
   "execution_count": 39,
   "metadata": {},
   "outputs": [
    {
     "name": "stdout",
     "output_type": "stream",
     "text": [
      "number_list : [91, 7, 1, 18, 29, 66, 89, 41, 96, 32]\n",
      "sorted_number_list : [1, 7, 18, 29, 32, 41, 66, 89, 91, 96]\n"
     ]
    }
   ],
   "source": [
    "number_list = [91,7,1,18,29,66,89,41,96,32]\n",
    "\n",
    "sorted_number_list = sorted(number_list)\n",
    "\n",
    "print(\"number_list :\", number_list)\n",
    "print(\"sorted_number_list :\", sorted_number_list)"
   ]
  },
  {
   "cell_type": "code",
   "execution_count": 42,
   "metadata": {},
   "outputs": [
    {
     "name": "stdout",
     "output_type": "stream",
     "text": [
      "Before sorted : [('허준녕', 20153253, 4.2), ('김영재', 20153180, 3.7), ('한채연', 20153250, 4.5)]\n",
      "Sort by id : [('김영재', 20153180, 3.7), ('한채연', 20153250, 4.5), ('허준녕', 20153253, 4.2)]\n",
      "Sort by grade : [('한채연', 20153250, 4.5), ('허준녕', 20153253, 4.2), ('김영재', 20153180, 3.7)]\n"
     ]
    }
   ],
   "source": [
    "student = [\n",
    "    (\"허준녕\", 20153253, 4.2),\n",
    "    (\"김영재\", 20153180, 3.7),\n",
    "    (\"한채연\", 20153250, 4.5)\n",
    "]\n",
    "\n",
    "print(\"Before sorted :\", student)\n",
    "sort_by_id = sorted(student, key = lambda x: x[1])\n",
    "print(\"Sort by id :\", sort_by_id)\n",
    "sort_by_grade = sorted(student, key = lambda x: x[2], reverse = True)\n",
    "print(\"Sort by grade :\", sort_by_grade)"
   ]
  },
  {
   "cell_type": "code",
   "execution_count": 44,
   "metadata": {},
   "outputs": [
    {
     "name": "stdout",
     "output_type": "stream",
     "text": [
      "20153250 : 4.5\n",
      "20153253 : 4.2\n",
      "20153180 : 3.7\n"
     ]
    }
   ],
   "source": [
    "student = {\n",
    "    20153180 : 3.7,\n",
    "    20153250 : 4.5,\n",
    "    20153253 : 4.2\n",
    "}\n",
    "\n",
    "for key, value in sorted(student.items(), key = lambda x: x[1], reverse = True):\n",
    "    print(key, \":\", value)"
   ]
  },
  {
   "cell_type": "code",
   "execution_count": 49,
   "metadata": {},
   "outputs": [
    {
     "name": "stdout",
     "output_type": "stream",
     "text": [
      "['Kookmin', 'Univ.', 'is', 'leading', 'the', 'computer', 'science']\n",
      "['Kookmin', 'Univ.', 'computer', 'is', 'leading', 'science', 'the']\n",
      "['computer', 'is', 'Kookmin', 'leading', 'science', 'the', 'Univ.']\n",
      "['Univ.', 'the', 'science', 'leading', 'Kookmin', 'is', 'computer']\n"
     ]
    }
   ],
   "source": [
    "a = \"Kookmin Univ. is leading the computer science\".split()\n",
    "print(a)\n",
    "a.sort()\n",
    "print(a) # 대문자 알파벳 순서대로 먼저 정렬 후 소문자 알파벳 순서대로 정렬\n",
    "a.sort(key = str.upper)\n",
    "print(a)\n",
    "a.sort(key = str.upper, reverse = True)\n",
    "print(a)"
   ]
  },
  {
   "cell_type": "code",
   "execution_count": 50,
   "metadata": {},
   "outputs": [
    {
     "name": "stdout",
     "output_type": "stream",
     "text": [
      "['123', '34', '7']\n",
      "['7', '34', '123']\n"
     ]
    }
   ],
   "source": [
    "b = [\"34\", \"123\", \"7\"]\n",
    "b.sort()\n",
    "print(b)\n",
    "b.sort(key = int) # 스트링을 정수로 변경하여 정렬\n",
    "print(b)"
   ]
  },
  {
   "cell_type": "code",
   "execution_count": 51,
   "metadata": {},
   "outputs": [
    {
     "name": "stdout",
     "output_type": "stream",
     "text": [
      "10 55\n"
     ]
    }
   ],
   "source": [
    "n = 10\n",
    "sum = 0\n",
    "for i in range(1, n+1):\n",
    "    sum = sum + i\n",
    "print(n, sum)"
   ]
  },
  {
   "cell_type": "code",
   "execution_count": 53,
   "metadata": {},
   "outputs": [
    {
     "name": "stdout",
     "output_type": "stream",
     "text": [
      "10 55\n"
     ]
    }
   ],
   "source": [
    "def sigma(n):\n",
    "    if n == 1:\n",
    "        return n\n",
    "    else:\n",
    "        return n + sigma(n-1)\n",
    "    \n",
    "n = 10\n",
    "print(n, sigma(n))"
   ]
  },
  {
   "cell_type": "code",
   "execution_count": 54,
   "metadata": {},
   "outputs": [
    {
     "name": "stdout",
     "output_type": "stream",
     "text": [
      "N >5\n",
      "5! = 120\n"
     ]
    }
   ],
   "source": [
    "def facto(n):\n",
    "    if n == 0:\n",
    "        return 1\n",
    "    else:\n",
    "        return n*facto(n-1)\n",
    "    \n",
    "n = int(input(\"N >\"))\n",
    "print(\"{}! = {}\" .format(n, facto(n)))"
   ]
  },
  {
   "cell_type": "code",
   "execution_count": 56,
   "metadata": {},
   "outputs": [
    {
     "name": "stdout",
     "output_type": "stream",
     "text": [
      "a >128\n",
      "b >64\n",
      "128 와 64의 최대공약수는 64입니다.\n"
     ]
    }
   ],
   "source": [
    "def gcd(a, b):\n",
    "    if b == 0:\n",
    "        return a\n",
    "    else:\n",
    "        return gcd(b, a%b)\n",
    "    \n",
    "a = int(input(\"a >\"))\n",
    "b = int(input(\"b >\"))\n",
    "\n",
    "print(\"{} 와 {}의 최대공약수는 {}입니다.\" .format(a, b, gcd(a, b)))"
   ]
  },
  {
   "cell_type": "code",
   "execution_count": 57,
   "metadata": {},
   "outputs": [
    {
     "name": "stdout",
     "output_type": "stream",
     "text": [
      "n >8\n",
      "8번째 피보나치 수 : 21\n"
     ]
    }
   ],
   "source": [
    "def fibo(n):\n",
    "    if n == 0:\n",
    "        return 0\n",
    "    elif n == 1:\n",
    "        return 1\n",
    "    else:\n",
    "        return fibo(n-1) + fibo(n-2)\n",
    "    \n",
    "n = int(input(\"n >\"))\n",
    "print(\"{}번째 피보나치 수 : {}\" .format(n, fibo(n)))"
   ]
  },
  {
   "cell_type": "code",
   "execution_count": 58,
   "metadata": {},
   "outputs": [
    {
     "name": "stdout",
     "output_type": "stream",
     "text": [
      "n >8\n",
      "8번째 피보나치 수 : 21\n",
      "총 67번 연산을 하였습니다.\n"
     ]
    }
   ],
   "source": [
    "counter = 0\n",
    "\n",
    "def fibo(n):\n",
    "    global counter\n",
    "    counter += 1\n",
    "    if n == 0:\n",
    "        return 0\n",
    "    elif n == 1:\n",
    "        return 1\n",
    "    else:\n",
    "        return fibo(n-1) + fibo(n-2)\n",
    "    \n",
    "n = int(input(\"n >\"))\n",
    "print(\"{}번째 피보나치 수 : {}\" .format(n, fibo(n)))\n",
    "print(\"총 {}번 연산을 하였습니다.\" .format(counter))"
   ]
  },
  {
   "cell_type": "code",
   "execution_count": 3,
   "metadata": {},
   "outputs": [
    {
     "name": "stdout",
     "output_type": "stream",
     "text": [
      "20\n",
      "20번째 피보나치 수 : 6765\n",
      "소요된 시간: 0.0030422210693359375\n"
     ]
    }
   ],
   "source": [
    "import time\n",
    "\n",
    "def fibo(n):\n",
    "    if n == 0:\n",
    "        return 0\n",
    "    elif n == 1:\n",
    "        return 1\n",
    "    else:\n",
    "        return fibo(n-1) + fibo(n-2)\n",
    "    \n",
    "n = int(input())\n",
    "start = time.time()\n",
    "print(\"{}번째 피보나치 수 : {}\" .format(n, fibo(n)))\n",
    "print(\"소요된 시간: {}\" .format(time.time() - start))"
   ]
  },
  {
   "cell_type": "code",
   "execution_count": 4,
   "metadata": {},
   "outputs": [
    {
     "name": "stdout",
     "output_type": "stream",
     "text": [
      "20\n",
      "20번째 피보나치 수 : 6765\n",
      "소요된 시간: 0.0\n"
     ]
    }
   ],
   "source": [
    "import time\n",
    "\n",
    "def fibo_loop(n):\n",
    "    a, b = 1, 1\n",
    "    if n == 1 or n == 2:\n",
    "        return 1\n",
    "    \n",
    "    for i in range(1,n):\n",
    "        a, b = b, a+b\n",
    "        \n",
    "    return a\n",
    "\n",
    "n = int(input())\n",
    "start = time.time()\n",
    "print(\"{}번째 피보나치 수 : {}\" .format(n, fibo_loop(n)))\n",
    "print(\"소요된 시간: {}\" .format(time.time() - start))"
   ]
  },
  {
   "cell_type": "code",
   "execution_count": 5,
   "metadata": {},
   "outputs": [
    {
     "name": "stdout",
     "output_type": "stream",
     "text": [
      "20\n",
      "20번째 피보나치 수 : 6765\n",
      "소요된 시간: 0.0019941329956054688\n"
     ]
    }
   ],
   "source": [
    "import time\n",
    "\n",
    "fib = lambda n: 1 if n<=2 else fib(n-1) + fib(n-2)\n",
    "\n",
    "n = int(input())\n",
    "start = time.time()\n",
    "print(\"{}번째 피보나치 수 : {}\" .format(n, fib(n)))\n",
    "print(\"소요된 시간: {}\" .format(time.time() - start))"
   ]
  },
  {
   "cell_type": "code",
   "execution_count": 6,
   "metadata": {},
   "outputs": [
    {
     "name": "stdout",
     "output_type": "stream",
     "text": [
      "20\n",
      "20번째 피보나치 수 : 6765\n",
      "소요된 시간: 0.0\n"
     ]
    }
   ],
   "source": [
    "import time\n",
    "\n",
    "\n",
    "fib = lambda n, a=0, b=1 : a if n<=0 else fib(n-1,b, a+b)\n",
    "\n",
    "n = int(input())\n",
    "start = time.time()\n",
    "print(\"{}번째 피보나치 수 : {}\" .format(n, fib(n)))\n",
    "print(\"소요된 시간: {}\" .format(time.time() - start))"
   ]
  },
  {
   "cell_type": "code",
   "execution_count": 15,
   "metadata": {},
   "outputs": [
    {
     "name": "stdout",
     "output_type": "stream",
     "text": [
      "n >5\n",
      "5번째 피보나치 수 : 5\n",
      "총 9번 연산을 하였습니다.\n"
     ]
    }
   ],
   "source": [
    "counter = 0\n",
    "\n",
    "memo = {}\n",
    "\n",
    "def fibo(n):\n",
    "    global counter\n",
    "    counter += 1\n",
    "    if n in memo:\n",
    "        return memo[n]\n",
    "    if n == 0:\n",
    "        memo[n] = 0\n",
    "    elif n == 1:\n",
    "        memo[n] = 1\n",
    "    else:\n",
    "        memo[n] = fibo(n-1) + fibo(n-2)\n",
    "    return memo[n]\n",
    "\n",
    "n = int(input(\"n >\"))\n",
    "print(\"{}번째 피보나치 수 : {}\" .format(n,fibo(n)))\n",
    "print(\"총 {}번 연산을 하였습니다.\" .format(counter))"
   ]
  },
  {
   "cell_type": "code",
   "execution_count": 18,
   "metadata": {},
   "outputs": [],
   "source": [
    "import turtle\n",
    "\n",
    "s = turtle.Screen()\n",
    "t = turtle.Turtle()\n",
    "angle = 30\n",
    "\n",
    "def draw_tree(t, line_length):\n",
    "    if line_length > 0:\n",
    "        t.forward(line_length)\n",
    "        t.left(angle)\n",
    "        draw_tree(t, line_length - 10)\n",
    "        t.right(angle)\n",
    "        t.right(angle)\n",
    "        draw_tree(t, line_length - 10)\n",
    "        t.left(angle)\n",
    "        t.backward(line_length)\n",
    "        \n",
    "    \n",
    "if __name__ == \"__main__\":\n",
    "    line_length = 60\n",
    "    t.left(90)\n",
    "    draw_tree(t, line_length)"
   ]
  },
  {
   "cell_type": "code",
   "execution_count": 2,
   "metadata": {},
   "outputs": [
    {
     "name": "stdout",
     "output_type": "stream",
     "text": [
      "N : 5\n",
      "1 : A -> C\n",
      "2 : A -> B\n",
      "1 : C -> B\n",
      "3 : A -> C\n",
      "1 : B -> A\n",
      "2 : B -> C\n",
      "1 : A -> C\n",
      "4 : A -> B\n",
      "1 : C -> B\n",
      "2 : C -> A\n",
      "1 : B -> A\n",
      "3 : C -> B\n",
      "1 : A -> C\n",
      "2 : A -> B\n",
      "1 : C -> B\n",
      "5 : A -> C\n",
      "1 : B -> A\n",
      "2 : B -> C\n",
      "1 : A -> C\n",
      "3 : B -> A\n",
      "1 : C -> B\n",
      "2 : C -> A\n",
      "1 : B -> A\n",
      "4 : B -> C\n",
      "1 : A -> C\n",
      "2 : A -> B\n",
      "1 : C -> B\n",
      "3 : A -> C\n",
      "1 : B -> A\n",
      "2 : B -> C\n",
      "1 : A -> C\n"
     ]
    }
   ],
   "source": [
    "def hanoi(n, start, mid, end):\n",
    "    if n==1:\n",
    "        print(\"%d : %c -> %c\" %(n, start, end))\n",
    "    else:\n",
    "        hanoi(n-1, start, end, mid)\n",
    "        print(\"%d : %c -> %c\" %(n, start, end))\n",
    "        hanoi(n-1, mid, start, end)\n",
    "if __name__ == \"__main__\":\n",
    "    n = int(input(\"N : \"))\n",
    "    hanoi(n,\"A\", \"B\", \"C\")"
   ]
  },
  {
   "cell_type": "code",
   "execution_count": 3,
   "metadata": {},
   "outputs": [
    {
     "name": "stdout",
     "output_type": "stream",
     "text": [
      "12\n",
      "15\n",
      "21\n",
      "24\n",
      "30\n",
      "33\n",
      "39\n",
      "51\n",
      "57\n",
      "69\n",
      "84\n",
      "96\n",
      "111\n",
      "114\n",
      "120\n",
      "123\n",
      "129\n",
      "141\n",
      "147\n",
      "159\n",
      "174\n",
      "186\n",
      "201\n",
      "204\n",
      "210\n",
      "213\n",
      "219\n",
      "231\n",
      "237\n",
      "249\n",
      "264\n",
      "276\n",
      "291\n",
      "303\n",
      "309\n",
      "321\n",
      "327\n",
      "339\n",
      "354\n",
      "366\n",
      "381\n",
      "393\n",
      "408\n",
      "420\n",
      "426\n",
      "438\n",
      "453\n",
      "465\n",
      "480\n",
      "492\n",
      "507\n",
      "519\n",
      "534\n",
      "546\n",
      "561\n",
      "573\n",
      "588\n",
      "609\n",
      "624\n",
      "636\n",
      "651\n",
      "663\n",
      "678\n",
      "699\n",
      "723\n",
      "735\n",
      "750\n",
      "762\n",
      "777\n",
      "798\n",
      "822\n",
      "834\n",
      "849\n",
      "870\n",
      "885\n",
      "906\n",
      "921\n",
      "933\n",
      "948\n",
      "969\n",
      "993\n"
     ]
    }
   ],
   "source": [
    "MAXN = 1000\n",
    "\n",
    "n = int(input())\n",
    "ans = []\n",
    "\n",
    "def d(num):\n",
    "    ret = num\n",
    "    while num:\n",
    "        ret += num % 10\n",
    "        num //= 10\n",
    "    \n",
    "    if ret > MAXN:\n",
    "        return\n",
    "    ans.append(ret)\n",
    "    d(ret)\n",
    "d(n)\n",
    "for i in ans:\n",
    "    print(i)"
   ]
  },
  {
   "cell_type": "code",
   "execution_count": null,
   "metadata": {},
   "outputs": [],
   "source": []
  }
 ],
 "metadata": {
  "kernelspec": {
   "display_name": "Python 3",
   "language": "python",
   "name": "python3"
  },
  "language_info": {
   "codemirror_mode": {
    "name": "ipython",
    "version": 3
   },
   "file_extension": ".py",
   "mimetype": "text/x-python",
   "name": "python",
   "nbconvert_exporter": "python",
   "pygments_lexer": "ipython3",
   "version": "3.8.8"
  }
 },
 "nbformat": 4,
 "nbformat_minor": 4
}
