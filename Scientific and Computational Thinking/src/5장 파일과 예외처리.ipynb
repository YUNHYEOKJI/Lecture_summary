{
 "cells": [
  {
   "cell_type": "code",
   "execution_count": 29,
   "metadata": {},
   "outputs": [
    {
     "ename": "FileNotFoundError",
     "evalue": "[Errno 2] No such file or directory: 'test.py'",
     "output_type": "error",
     "traceback": [
      "\u001b[1;31m---------------------------------------------------------------------------\u001b[0m",
      "\u001b[1;31mFileNotFoundError\u001b[0m                         Traceback (most recent call last)",
      "\u001b[1;32m<ipython-input-29-3463c5ed0762>\u001b[0m in \u001b[0;36m<module>\u001b[1;34m\u001b[0m\n\u001b[1;32m----> 1\u001b[1;33m \u001b[0mf\u001b[0m \u001b[1;33m=\u001b[0m \u001b[0mopen\u001b[0m\u001b[1;33m(\u001b[0m\u001b[1;34m\"test.py\"\u001b[0m\u001b[1;33m,\u001b[0m \u001b[1;34m\"r\"\u001b[0m\u001b[1;33m)\u001b[0m\u001b[1;33m\u001b[0m\u001b[1;33m\u001b[0m\u001b[0m\n\u001b[0m\u001b[0;32m      2\u001b[0m \u001b[0mprint\u001b[0m\u001b[1;33m(\u001b[0m\u001b[1;34m\"file open\"\u001b[0m\u001b[1;33m)\u001b[0m\u001b[1;33m\u001b[0m\u001b[1;33m\u001b[0m\u001b[0m\n\u001b[0;32m      3\u001b[0m \u001b[0mf\u001b[0m\u001b[1;33m.\u001b[0m\u001b[0mclose\u001b[0m\u001b[1;33m(\u001b[0m\u001b[1;33m)\u001b[0m\u001b[1;33m\u001b[0m\u001b[1;33m\u001b[0m\u001b[0m\n\u001b[0;32m      4\u001b[0m \u001b[1;33m\u001b[0m\u001b[0m\n\u001b[0;32m      5\u001b[0m \u001b[0mf\u001b[0m \u001b[1;33m=\u001b[0m \u001b[0mopen\u001b[0m\u001b[1;33m(\u001b[0m\u001b[1;34m\"tttt.py\"\u001b[0m\u001b[1;33m,\u001b[0m \u001b[1;34m\"r\"\u001b[0m\u001b[1;33m)\u001b[0m\u001b[1;33m\u001b[0m\u001b[1;33m\u001b[0m\u001b[0m\n",
      "\u001b[1;31mFileNotFoundError\u001b[0m: [Errno 2] No such file or directory: 'test.py'"
     ]
    }
   ],
   "source": [
    "f = open(\"test.py\", \"r\")\n",
    "print(\"file open\")\n",
    "f.close()\n",
    "\n",
    "f = open(\"tttt.py\", \"r\")\n",
    "print(\"file open\")\n",
    "f.close()"
   ]
  },
  {
   "cell_type": "code",
   "execution_count": 30,
   "metadata": {},
   "outputs": [
    {
     "name": "stdout",
     "output_type": "stream",
     "text": [
      "file open\n"
     ]
    }
   ],
   "source": [
    "f = open(\"test.py\", \"w\")\n",
    "print(\"file open\")\n",
    "f.close()"
   ]
  },
  {
   "cell_type": "code",
   "execution_count": 31,
   "metadata": {},
   "outputs": [
    {
     "name": "stdout",
     "output_type": "stream",
     "text": [
      "\n"
     ]
    }
   ],
   "source": [
    "f = open(\"test.py\", \"r\")\n",
    "line = f.read()\n",
    "print(line)\n",
    "f.close()"
   ]
  },
  {
   "cell_type": "code",
   "execution_count": 32,
   "metadata": {},
   "outputs": [
    {
     "name": "stdout",
     "output_type": "stream",
     "text": [
      "endend"
     ]
    }
   ],
   "source": [
    "f = open(\"test.py\", \"r\")\n",
    "line1 = f.readline()\n",
    "line2 = f.readline()\n",
    "print(line1.strip(), end = \"end\")\n",
    "print(line2, end = \"end\")\n",
    "f.close()"
   ]
  },
  {
   "cell_type": "code",
   "execution_count": 33,
   "metadata": {},
   "outputs": [
    {
     "name": "stdout",
     "output_type": "stream",
     "text": [
      "[]\n"
     ]
    }
   ],
   "source": [
    "f = open(\"test.py\", \"r\")\n",
    "lines = f.readlines()\n",
    "print(lines)\n",
    "f.close()"
   ]
  },
  {
   "cell_type": "code",
   "execution_count": 34,
   "metadata": {},
   "outputs": [
    {
     "name": "stdout",
     "output_type": "stream",
     "text": [
      "\n",
      "\n",
      "\n"
     ]
    }
   ],
   "source": [
    "f = open(\"test.py\", \"r\")\n",
    "line1 = f.readline()\n",
    "line2 = f.readline()\n",
    "f.seek(0)\n",
    "line3 = f.readline()\n",
    "print(line1)\n",
    "print(line2)\n",
    "print(line3)\n",
    "f.close()"
   ]
  },
  {
   "cell_type": "code",
   "execution_count": 35,
   "metadata": {},
   "outputs": [],
   "source": [
    "f = open(\"writeTest.txt\", \"w\")\n",
    "name = \"Yoon\"\n",
    "num = \"2010100\"\n",
    "score = 95\n",
    "\n",
    "f.write(name + \"\\n\")\n",
    "f.write(num + \"\\n\")\n",
    "f.write(str(score) + \"\\n\")\n",
    "\n",
    "f.close()"
   ]
  },
  {
   "cell_type": "code",
   "execution_count": 36,
   "metadata": {},
   "outputs": [],
   "source": [
    "f = open(\"writeTest.txt\", \"a\")\n",
    "name = \"Lee\"\n",
    "num = \"2010200\"\n",
    "score = 90\n",
    "\n",
    "f.write(name + \"\\n\")\n",
    "f.write(num + \"\\n\")\n",
    "f.write(str(score) + \"\\n\")\n",
    "\n",
    "f.close()"
   ]
  },
  {
   "cell_type": "code",
   "execution_count": 41,
   "metadata": {},
   "outputs": [
    {
     "name": "stdout",
     "output_type": "stream",
     "text": [
      "['Yoon\\n', '2010100\\n', '95\\n', 'Lee\\n', '2010200\\n', '90\\n']\n"
     ]
    }
   ],
   "source": [
    "f = open(\"writeTest.txt\", \"r\")\n",
    "print(f.readlines())\n",
    "f.close()"
   ]
  },
  {
   "cell_type": "code",
   "execution_count": 42,
   "metadata": {},
   "outputs": [],
   "source": [
    "import pickle\n",
    "\n",
    "my_list = [\"Yoon\", \"2010100\", 95]\n",
    "f = open(\"testpickle.dat\", \"wb\")\n",
    "pickle.dump(my_list, f)\n",
    "f.close()"
   ]
  },
  {
   "cell_type": "code",
   "execution_count": 43,
   "metadata": {},
   "outputs": [
    {
     "name": "stdout",
     "output_type": "stream",
     "text": [
      "['Yoon', '2010100', 95]\n"
     ]
    }
   ],
   "source": [
    "import pickle\n",
    "\n",
    "f = open(\"testpickle.dat\", \"rb\")\n",
    "my_list = pickle.load(f)\n",
    "print(my_list)\n",
    "f.close()"
   ]
  },
  {
   "cell_type": "code",
   "execution_count": 44,
   "metadata": {},
   "outputs": [
    {
     "name": "stdout",
     "output_type": "stream",
     "text": [
      "{'waiver': '권리 포기, 면제', 'tuition': '수업료', 'insurance': '보험'}\n"
     ]
    },
    {
     "data": {
      "text/plain": [
       "<function BufferedReader.close>"
      ]
     },
     "execution_count": 44,
     "metadata": {},
     "output_type": "execute_result"
    }
   ],
   "source": [
    "import pickle\n",
    "\n",
    "f = open(\"myDic.dat\", \"wb\")\n",
    "pickle.dump({\"waiver\":\"권리 포기, 면제\", \"tuition\": \"수업료\", \"insurance\": \"보험\"},f)\n",
    "f.close()\n",
    "\n",
    "f = open(\"myDic.dat\", \"rb\")\n",
    "dic = pickle.load(f)\n",
    "print(dic)\n",
    "f.close"
   ]
  },
  {
   "cell_type": "code",
   "execution_count": null,
   "metadata": {},
   "outputs": [],
   "source": []
  },
  {
   "cell_type": "code",
   "execution_count": 48,
   "metadata": {},
   "outputs": [
    {
     "name": "stdout",
     "output_type": "stream",
     "text": [
      "n >25\n",
      "4\n"
     ]
    }
   ],
   "source": [
    "try:\n",
    "    n = int(input(\"n >\"))\n",
    "    print(100//n)\n",
    "except ValueError:\n",
    "    print(\"정수를 입력하시오.\")\n",
    "except ZeroDivisionError:\n",
    "    print(\"0으로 나누는 것은 불가능합니다.\")"
   ]
  },
  {
   "cell_type": "code",
   "execution_count": 49,
   "metadata": {},
   "outputs": [
    {
     "name": "stdout",
     "output_type": "stream",
     "text": [
      "n >25.3\n",
      "invalid literal for int() with base 10: '25.3'\n"
     ]
    }
   ],
   "source": [
    "try:\n",
    "    n = int(input(\"n >\"))\n",
    "    print(100//n)\n",
    "except ValueError as e1:\n",
    "    print(e1)\n",
    "except ZeroDivisionError as e2:\n",
    "    print(e2)"
   ]
  },
  {
   "cell_type": "code",
   "execution_count": 50,
   "metadata": {},
   "outputs": [
    {
     "name": "stdout",
     "output_type": "stream",
     "text": [
      "n >2.3\n",
      "에러를 발생하였습니다.\n"
     ]
    }
   ],
   "source": [
    "try:\n",
    "    n = int(input(\"n >\"))\n",
    "    print(100//n)\n",
    "except:\n",
    "    print(\"에러를 발생하였습니다.\")"
   ]
  },
  {
   "cell_type": "code",
   "execution_count": 51,
   "metadata": {},
   "outputs": [
    {
     "name": "stdout",
     "output_type": "stream",
     "text": [
      "n >0\n",
      "integer division or modulo by zero\n"
     ]
    }
   ],
   "source": [
    "try:\n",
    "    n = int(input(\"n >\"))\n",
    "    print(100//n)\n",
    "except Exception as e:\n",
    "    print(e)"
   ]
  },
  {
   "cell_type": "code",
   "execution_count": 53,
   "metadata": {},
   "outputs": [
    {
     "name": "stdout",
     "output_type": "stream",
     "text": [
      "n >25\n",
      "4\n",
      "나눗셈 연산을 수행하였습니다.\n",
      "프로그램을 종료합니다.\n"
     ]
    }
   ],
   "source": [
    "try:\n",
    "    n = int(input(\"n >\"))\n",
    "    print(100//n)\n",
    "except ValueError:\n",
    "    print(\"정수를 입력하시오.\")\n",
    "except ZeroDivisionError:\n",
    "    print(\"0으로 나누는 것은 불가능합니다.\")\n",
    "except Expection as e:\n",
    "    print(e)\n",
    "    \n",
    "else:\n",
    "    print(\"나눗셈 연산을 수행하였습니다.\")\n",
    "    \n",
    "finally:\n",
    "    print(\"프로그램을 종료합니다.\")"
   ]
  },
  {
   "cell_type": "code",
   "execution_count": 54,
   "metadata": {},
   "outputs": [
    {
     "name": "stdout",
     "output_type": "stream",
     "text": [
      "메뉴판 -> ['짜장면', '짬뽕']\n",
      "주문 도와드리겠습니다.\n",
      "굴비\n",
      "굴비은(는) 메뉴판에 없습니다, 손님.\n"
     ]
    }
   ],
   "source": [
    "def menu(m, all_menu):\n",
    "    if m not in all_menu:\n",
    "        raise NameError(\"{}은(는) 메뉴판에 없습니다, 손님.\" .format(m))\n",
    "    else:\n",
    "        print(\"{} 주문받았습니다.\" .format(m))\n",
    "        \n",
    "menulist = [\"짜장면\", \"짬뽕\"]\n",
    "print(\"메뉴판 ->\", menulist)\n",
    "question = input(\"주문 도와드리겠습니다.\\n\")\n",
    "\n",
    "try:\n",
    "    menu(question, menulist)\n",
    "except NameError as e:\n",
    "    print(e)"
   ]
  },
  {
   "cell_type": "code",
   "execution_count": null,
   "metadata": {},
   "outputs": [],
   "source": []
  }
 ],
 "metadata": {
  "kernelspec": {
   "display_name": "Python 3",
   "language": "python",
   "name": "python3"
  },
  "language_info": {
   "codemirror_mode": {
    "name": "ipython",
    "version": 3
   },
   "file_extension": ".py",
   "mimetype": "text/x-python",
   "name": "python",
   "nbconvert_exporter": "python",
   "pygments_lexer": "ipython3",
   "version": "3.8.3"
  }
 },
 "nbformat": 4,
 "nbformat_minor": 4
}
