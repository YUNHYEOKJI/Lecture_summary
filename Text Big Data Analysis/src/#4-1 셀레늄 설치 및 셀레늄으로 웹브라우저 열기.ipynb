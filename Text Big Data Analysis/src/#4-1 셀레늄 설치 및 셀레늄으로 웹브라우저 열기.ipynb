{
 "cells": [
  {
   "cell_type": "markdown",
   "id": "golden-salvation",
   "metadata": {},
   "source": [
    "# 셀레늄 설치"
   ]
  },
  {
   "cell_type": "markdown",
   "id": "productive-review",
   "metadata": {},
   "source": [
    "- selenium 라이브러리는 pip 명령어로 설치 가능하다."
   ]
  },
  {
   "cell_type": "code",
   "execution_count": 1,
   "id": "killing-canon",
   "metadata": {},
   "outputs": [
    {
     "name": "stdout",
     "output_type": "stream",
     "text": [
      "Collecting selenium\n",
      "  Downloading selenium-3.141.0-py2.py3-none-any.whl (904 kB)\n",
      "Requirement already satisfied: urllib3 in c:\\users\\msi\\anaconda3\\lib\\site-packages (from selenium) (1.26.3)\n",
      "Installing collected packages: selenium\n",
      "Successfully installed selenium-3.141.0\n"
     ]
    }
   ],
   "source": [
    "!pip install selenium"
   ]
  },
  {
   "cell_type": "markdown",
   "id": "greatest-camera",
   "metadata": {},
   "source": [
    "# 웹 드라이버"
   ]
  },
  {
   "cell_type": "markdown",
   "id": "coated-throw",
   "metadata": {},
   "source": [
    "- 크롬, 인터넷 익스플로러, 파이어폭스, 사파리 등 브라우저용 웹 드라이버가 필요하다.\n",
    "- 여기서는 크롬(Chrome) 브라우저를 사용한다.\n",
    "- 1.크롬이 없으면, 먼저 크롬을 설치한다. 설치링크\n",
    "- 2.설치된 크롬의 버전을 확인한다.\n",
    "- 3.크롬 웹드라이버 링크를 다운로드 받는다.\n",
    "- 4.다운받은 압축 파일을 풀어 chromedriver.exe를 현재 주피터 노트북이 실행 중인 폴더에 복사한다."
   ]
  },
  {
   "cell_type": "markdown",
   "id": "public-tsunami",
   "metadata": {},
   "source": [
    "# 현재 작업 폴더 확인"
   ]
  },
  {
   "cell_type": "markdown",
   "id": "organizational-conservative",
   "metadata": {},
   "source": [
    "- os.getcwd() 함수로 현재 작업 폴더를 확인한다."
   ]
  },
  {
   "cell_type": "code",
   "execution_count": 1,
   "id": "frozen-closure",
   "metadata": {},
   "outputs": [
    {
     "name": "stdout",
     "output_type": "stream",
     "text": [
      "C:\\Users\\msi\\윤혁이의 개인노트\\2021년 1학기\\텍스트데이터분석\n"
     ]
    }
   ],
   "source": [
    "import os\n",
    "print(os.getcwd())"
   ]
  },
  {
   "cell_type": "markdown",
   "id": "laden-intervention",
   "metadata": {},
   "source": [
    "- 탐색기 주소창에 출력된 폴더 주소를 복사하면 해당 폴더로 이동할 수 있다."
   ]
  },
  {
   "cell_type": "code",
   "execution_count": 2,
   "id": "auburn-injury",
   "metadata": {},
   "outputs": [
    {
     "data": {
      "text/plain": [
       "['#2-1 TDM 실습.ipynb',\n",
       " '#2-2 단어구름.ipynb',\n",
       " '#2-3 TF-IDF 실습.ipynb',\n",
       " '#2-4 형태소 분석과 표제어 추출.ipynb',\n",
       " '#3-1 웹 스크랩 기초.ipynb',\n",
       " '#3-2 다음 뉴스.ipynb',\n",
       " '#3-3 인코딩 실습.ipynb',\n",
       " '#3-4 User Agent.ipynb',\n",
       " '#3-5 상대주소와 절대주소.ipynb',\n",
       " '#4-1 셀레늄 설치 및 셀레늄으로 웹브라우저 열기.ipynb',\n",
       " '.ipynb_checkpoints',\n",
       " '2주차 수업과제.ipynb',\n",
       " 'chromedriver.exe',\n",
       " 'cloud.png',\n",
       " 'imdb.xlsx',\n",
       " 'word_count.csv',\n",
       " '기사.csv',\n",
       " '기사.xlsx',\n",
       " '패키지 설치.ipynb']"
      ]
     },
     "execution_count": 2,
     "metadata": {},
     "output_type": "execute_result"
    }
   ],
   "source": [
    "os.listdir()"
   ]
  },
  {
   "cell_type": "markdown",
   "id": "ideal-amber",
   "metadata": {},
   "source": [
    "# 셀레늄으로 웹브라우저 열기"
   ]
  },
  {
   "cell_type": "markdown",
   "id": "union-clause",
   "metadata": {},
   "source": [
    "- 셀레늄에서 Chrome을 임포트한다."
   ]
  },
  {
   "cell_type": "code",
   "execution_count": 3,
   "id": "awful-flood",
   "metadata": {},
   "outputs": [],
   "source": [
    "from selenium.webdriver import Chrome\n",
    "import os"
   ]
  },
  {
   "cell_type": "markdown",
   "id": "accurate-alloy",
   "metadata": {},
   "source": [
    "- 윈도와 맥에서 브라우저를 여는 방법에 차이가 있다.\n",
    "- 윈도에서는 현재 작업 폴더에 chromedriver.exe 파일이 있다면 다음과 같이 열 수 있다."
   ]
  },
  {
   "cell_type": "code",
   "execution_count": 4,
   "id": "competitive-pasta",
   "metadata": {},
   "outputs": [],
   "source": [
    "browser = Chrome()"
   ]
  },
  {
   "cell_type": "markdown",
   "id": "incoming-supplier",
   "metadata": {},
   "source": [
    "- 셀레늄 모듈이 정상작동하는 경우, 새로운 크롬이 뜨면서 Chrome이 자동화된 테스트 소프트웨어에 의해 제어되고 있습니다. 라고 표시된다.\n",
    "- 만약 'chromedriver' executable needs to be in PATH.와 같은 오류가 날 경우, 이는 chromedriver.exe 파일이 현재 작업 폴더에 없거나, 위치를 잘못 지정한 것이므로 이를 수정한다.\n",
    "- 셀레늄을 통해 브라우저를 열어도 일반 브라우저와 동일하게 사용할 수 있다. 이를 통해 수작업이 필요한 경우 직접 브라우저를 제어할 수 있다.\n",
    "- 셀레늄에서 특정 주소로 브라우저를 이동시키려면 다음과 같이 .get 메소드를 사용한다."
   ]
  },
  {
   "cell_type": "code",
   "execution_count": 5,
   "id": "worst-guyana",
   "metadata": {},
   "outputs": [],
   "source": [
    "browser.get('https://naver.com')"
   ]
  }
 ],
 "metadata": {
  "kernelspec": {
   "display_name": "Python3.8_DL",
   "language": "python",
   "name": "dl"
  },
  "language_info": {
   "codemirror_mode": {
    "name": "ipython",
    "version": 3
   },
   "file_extension": ".py",
   "mimetype": "text/x-python",
   "name": "python",
   "nbconvert_exporter": "python",
   "pygments_lexer": "ipython3",
   "version": "3.8.8"
  }
 },
 "nbformat": 4,
 "nbformat_minor": 5
}
