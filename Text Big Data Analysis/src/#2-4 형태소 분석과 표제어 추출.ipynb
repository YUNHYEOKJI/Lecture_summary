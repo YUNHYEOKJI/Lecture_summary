{
 "cells": [
  {
   "cell_type": "markdown",
   "id": "protecting-wholesale",
   "metadata": {},
   "source": [
    "# 형태소 분석과 표제어 추출"
   ]
  },
  {
   "cell_type": "code",
   "execution_count": 1,
   "id": "japanese-spectacular",
   "metadata": {},
   "outputs": [],
   "source": [
    "import spacy"
   ]
  },
  {
   "cell_type": "code",
   "execution_count": 2,
   "id": "transsexual-contrast",
   "metadata": {},
   "outputs": [],
   "source": [
    "nlp = spacy.load(\"en_core_web_sm\")"
   ]
  },
  {
   "cell_type": "code",
   "execution_count": 3,
   "id": "broad-boston",
   "metadata": {},
   "outputs": [],
   "source": [
    "text = \"Wikipedia is maintained by volunteers.\"\n",
    "doc = nlp(text)"
   ]
  },
  {
   "cell_type": "code",
   "execution_count": 4,
   "id": "potential-small",
   "metadata": {},
   "outputs": [
    {
     "name": "stdout",
     "output_type": "stream",
     "text": [
      "Wikipedia Wikipedia PROPN NNP nsubjpass False\n",
      "is be AUX VBZ auxpass True\n",
      "maintained maintain VERB VBN ROOT False\n",
      "by by ADP IN agent True\n",
      "volunteers volunteer NOUN NNS pobj False\n",
      ". . PUNCT . punct False\n"
     ]
    }
   ],
   "source": [
    "for token in doc:\n",
    "    print(token.text, \n",
    "          token.lemma_,  # 표제어\n",
    "          token.pos_,    # 단어의 품사(간략)\n",
    "          token.tag_,    # 자세한 품사(상세)\n",
    "          token.dep_,    # 문법적 의존 관계\n",
    "          token.is_stop) # 불용어 여부"
   ]
  },
  {
   "cell_type": "markdown",
   "id": "ecological-coverage",
   "metadata": {},
   "source": [
    "# 용어"
   ]
  },
  {
   "cell_type": "code",
   "execution_count": 5,
   "id": "lyric-intensity",
   "metadata": {},
   "outputs": [
    {
     "data": {
      "text/plain": [
       "'proper noun'"
      ]
     },
     "execution_count": 5,
     "metadata": {},
     "output_type": "execute_result"
    }
   ],
   "source": [
    "spacy.explain('PROPN')"
   ]
  },
  {
   "cell_type": "markdown",
   "id": "complete-interference",
   "metadata": {},
   "source": [
    "### 품사: https://universaldependencies.org/u/pos/all.html\n",
    "### 자세한 영어 품사: https://www.clips.uantwerpen.be/pages/mbsp-tags\n",
    "### 의존관계: https://universaldependencies.org/u/dep/index.html"
   ]
  },
  {
   "cell_type": "markdown",
   "id": "pacific-apparatus",
   "metadata": {},
   "source": [
    "# 명사와 동사의 표제어로(특정품사로) 단어 문서 행렬 만들기"
   ]
  },
  {
   "cell_type": "code",
   "execution_count": 6,
   "id": "wooden-cornwall",
   "metadata": {},
   "outputs": [],
   "source": [
    "words = []"
   ]
  },
  {
   "cell_type": "code",
   "execution_count": 7,
   "id": "unusual-magnitude",
   "metadata": {},
   "outputs": [],
   "source": [
    "for token in doc:\n",
    "    if token.tag_[0] == 'N' or token.tag_[0] == 'V':\n",
    "        words.append(token.lemma_)"
   ]
  },
  {
   "cell_type": "code",
   "execution_count": 8,
   "id": "expressed-reason",
   "metadata": {},
   "outputs": [
    {
     "data": {
      "text/plain": [
       "['Wikipedia', 'be', 'maintain', 'volunteer']"
      ]
     },
     "execution_count": 8,
     "metadata": {},
     "output_type": "execute_result"
    }
   ],
   "source": [
    "words"
   ]
  },
  {
   "cell_type": "code",
   "execution_count": 9,
   "id": "bound-latex",
   "metadata": {},
   "outputs": [],
   "source": [
    "words1 = []\n",
    "for token in doc:\n",
    "    if token.tag_[0] in 'NV':\n",
    "        words1.append(token.lemma_.lower())"
   ]
  },
  {
   "cell_type": "code",
   "execution_count": 10,
   "id": "violent-disclosure",
   "metadata": {},
   "outputs": [
    {
     "data": {
      "text/plain": [
       "['wikipedia', 'be', 'maintain', 'volunteer']"
      ]
     },
     "execution_count": 10,
     "metadata": {},
     "output_type": "execute_result"
    }
   ],
   "source": [
    "words1"
   ]
  },
  {
   "cell_type": "markdown",
   "id": "mature-violation",
   "metadata": {},
   "source": [
    "### 명사와 동사의 표제어만 추출하는 함수를 생성"
   ]
  },
  {
   "cell_type": "code",
   "execution_count": 11,
   "id": "pacific-camcorder",
   "metadata": {},
   "outputs": [],
   "source": [
    "def extract_nv(text):\n",
    "    doc = nlp(text)\n",
    "    words = []\n",
    "    for token in doc:\n",
    "        if token.tag_[0] in 'NV':\n",
    "            words.append(token.lemma_.lower()) # 표제어를 소문자로 추출\n",
    "    return words"
   ]
  },
  {
   "cell_type": "code",
   "execution_count": 12,
   "id": "freelance-windsor",
   "metadata": {},
   "outputs": [
    {
     "data": {
      "text/plain": [
       "['apple', 'be', 'company']"
      ]
     },
     "execution_count": 12,
     "metadata": {},
     "output_type": "execute_result"
    }
   ],
   "source": [
    "extract_nv('Apple is a company')"
   ]
  },
  {
   "cell_type": "markdown",
   "id": "announced-advantage",
   "metadata": {},
   "source": [
    "### CountVectorizer를 초기화"
   ]
  },
  {
   "cell_type": "markdown",
   "id": "suited-inside",
   "metadata": {},
   "source": [
    "### 기본적으로 CountVectorizer 빈칸단위로 단어를 끊어서 토근화\n",
    "### tokenizer=extract_nv 함수를 이용해서 토근을 추출"
   ]
  },
  {
   "cell_type": "code",
   "execution_count": 13,
   "id": "potential-commercial",
   "metadata": {},
   "outputs": [],
   "source": [
    "from sklearn.feature_extraction.text import CountVectorizer\n",
    "cv = CountVectorizer(max_features=500, tokenizer=extract_nv) "
   ]
  },
  {
   "cell_type": "markdown",
   "id": "attractive-handy",
   "metadata": {},
   "source": [
    "### 데이터를 불러온다."
   ]
  },
  {
   "cell_type": "code",
   "execution_count": 14,
   "id": "fatty-pantyhose",
   "metadata": {},
   "outputs": [
    {
     "data": {
      "text/html": [
       "<div>\n",
       "<style scoped>\n",
       "    .dataframe tbody tr th:only-of-type {\n",
       "        vertical-align: middle;\n",
       "    }\n",
       "\n",
       "    .dataframe tbody tr th {\n",
       "        vertical-align: top;\n",
       "    }\n",
       "\n",
       "    .dataframe thead th {\n",
       "        text-align: right;\n",
       "    }\n",
       "</style>\n",
       "<table border=\"1\" class=\"dataframe\">\n",
       "  <thead>\n",
       "    <tr style=\"text-align: right;\">\n",
       "      <th></th>\n",
       "      <th>review</th>\n",
       "      <th>sentiment</th>\n",
       "    </tr>\n",
       "  </thead>\n",
       "  <tbody>\n",
       "    <tr>\n",
       "      <th>0</th>\n",
       "      <td>A very, very, very slow-moving, aimless movie ...</td>\n",
       "      <td>0</td>\n",
       "    </tr>\n",
       "    <tr>\n",
       "      <th>1</th>\n",
       "      <td>Not sure who was more lost - the flat characte...</td>\n",
       "      <td>0</td>\n",
       "    </tr>\n",
       "    <tr>\n",
       "      <th>2</th>\n",
       "      <td>Attempting artiness with black &amp; white and cle...</td>\n",
       "      <td>0</td>\n",
       "    </tr>\n",
       "    <tr>\n",
       "      <th>3</th>\n",
       "      <td>Very little music or anything to speak of.</td>\n",
       "      <td>0</td>\n",
       "    </tr>\n",
       "    <tr>\n",
       "      <th>4</th>\n",
       "      <td>The best scene in the movie was when Gerardo i...</td>\n",
       "      <td>1</td>\n",
       "    </tr>\n",
       "  </tbody>\n",
       "</table>\n",
       "</div>"
      ],
      "text/plain": [
       "                                              review  sentiment\n",
       "0  A very, very, very slow-moving, aimless movie ...          0\n",
       "1  Not sure who was more lost - the flat characte...          0\n",
       "2  Attempting artiness with black & white and cle...          0\n",
       "3       Very little music or anything to speak of.            0\n",
       "4  The best scene in the movie was when Gerardo i...          1"
      ]
     },
     "execution_count": 14,
     "metadata": {},
     "output_type": "execute_result"
    }
   ],
   "source": [
    "import pandas as pd\n",
    "df = pd.read_excel('../data/imdb.xlsx', index_col=0)\n",
    "df.head()"
   ]
  },
  {
   "cell_type": "markdown",
   "id": "delayed-water",
   "metadata": {},
   "source": [
    "### TDM을 만든다."
   ]
  },
  {
   "cell_type": "code",
   "execution_count": 15,
   "id": "detailed-edwards",
   "metadata": {},
   "outputs": [],
   "source": [
    "# 동사와 명사의 표제어만 추출하여 빈도를 계산\n",
    "tdm = cv.fit_transform(df['review']) # 빈칸단위로 끊을 때보다는 시간이 오래 걸림."
   ]
  },
  {
   "cell_type": "markdown",
   "id": "arbitrary-flesh",
   "metadata": {},
   "source": [
    "### 빈도 순으로 정렬한다."
   ]
  },
  {
   "cell_type": "code",
   "execution_count": 16,
   "id": "individual-craft",
   "metadata": {},
   "outputs": [],
   "source": [
    "wc = pd.DataFrame({\n",
    "    '단어': cv.get_feature_names(),\n",
    "    '빈도': tdm.sum(axis=0).flat\n",
    "})"
   ]
  },
  {
   "cell_type": "code",
   "execution_count": 17,
   "id": "monetary-blend",
   "metadata": {},
   "outputs": [
    {
     "data": {
      "text/html": [
       "<div>\n",
       "<style scoped>\n",
       "    .dataframe tbody tr th:only-of-type {\n",
       "        vertical-align: middle;\n",
       "    }\n",
       "\n",
       "    .dataframe tbody tr th {\n",
       "        vertical-align: top;\n",
       "    }\n",
       "\n",
       "    .dataframe thead th {\n",
       "        text-align: right;\n",
       "    }\n",
       "</style>\n",
       "<table border=\"1\" class=\"dataframe\">\n",
       "  <thead>\n",
       "    <tr style=\"text-align: right;\">\n",
       "      <th></th>\n",
       "      <th>단어</th>\n",
       "      <th>빈도</th>\n",
       "    </tr>\n",
       "  </thead>\n",
       "  <tbody>\n",
       "    <tr>\n",
       "      <th>49</th>\n",
       "      <td>be</td>\n",
       "      <td>843</td>\n",
       "    </tr>\n",
       "    <tr>\n",
       "      <th>281</th>\n",
       "      <td>movie</td>\n",
       "      <td>211</td>\n",
       "    </tr>\n",
       "    <tr>\n",
       "      <th>158</th>\n",
       "      <td>film</td>\n",
       "      <td>189</td>\n",
       "    </tr>\n",
       "    <tr>\n",
       "      <th>193</th>\n",
       "      <td>have</td>\n",
       "      <td>119</td>\n",
       "    </tr>\n",
       "    <tr>\n",
       "      <th>119</th>\n",
       "      <td>do</td>\n",
       "      <td>112</td>\n",
       "    </tr>\n",
       "  </tbody>\n",
       "</table>\n",
       "</div>"
      ],
      "text/plain": [
       "        단어   빈도\n",
       "49      be  843\n",
       "281  movie  211\n",
       "158   film  189\n",
       "193   have  119\n",
       "119     do  112"
      ]
     },
     "execution_count": 17,
     "metadata": {},
     "output_type": "execute_result"
    }
   ],
   "source": [
    "wc.sort_values('빈도', ascending=False).head()"
   ]
  }
 ],
 "metadata": {
  "kernelspec": {
   "display_name": "Python3.8_DL",
   "language": "python",
   "name": "dl"
  },
  "language_info": {
   "codemirror_mode": {
    "name": "ipython",
    "version": 3
   },
   "file_extension": ".py",
   "mimetype": "text/x-python",
   "name": "python",
   "nbconvert_exporter": "python",
   "pygments_lexer": "ipython3",
   "version": "3.8.8"
  }
 },
 "nbformat": 4,
 "nbformat_minor": 5
}
