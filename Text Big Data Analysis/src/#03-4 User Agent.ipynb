{
 "cells": [
  {
   "cell_type": "markdown",
   "id": "italic-click",
   "metadata": {},
   "source": [
    "# User Agent"
   ]
  },
  {
   "cell_type": "markdown",
   "id": "quiet-amount",
   "metadata": {},
   "source": [
    "#### User-Agent란 직역하자면 '사용자의 대리인', 즉 웹 브라우저(크롬, 파이어폭스 등)를 의미한다. \n",
    "#### 브라우저는 웹 사이트에 접속할 때 브라우저의 종류, 버전 등을 User-Agent라는 이름으로 전달한다."
   ]
  },
  {
   "cell_type": "markdown",
   "id": "elect-start",
   "metadata": {},
   "source": [
    "#### 일부 웹사이트에서는 기존의 웹 브라우저가 아닌 경우 접속을 차단하는 경우가 있다. \n",
    "#### 이때는 기존 웹 브라우저의 User-Agent 정보를 전달하면 된다."
   ]
  },
  {
   "cell_type": "code",
   "execution_count": 1,
   "id": "macro-sheep",
   "metadata": {},
   "outputs": [],
   "source": [
    "import requests\n",
    "import lxml.html"
   ]
  },
  {
   "cell_type": "markdown",
   "id": "under-novelty",
   "metadata": {},
   "source": [
    "#### onoffmix.com에 접속을 시도하면 상태 코드가 500이 발생한다."
   ]
  },
  {
   "cell_type": "code",
   "execution_count": 2,
   "id": "empty-liverpool",
   "metadata": {},
   "outputs": [
    {
     "data": {
      "text/plain": [
       "<Response [500]>"
      ]
     },
     "execution_count": 2,
     "metadata": {},
     "output_type": "execute_result"
    }
   ],
   "source": [
    "requests.get('https://onoffmix.com')"
   ]
  },
  {
   "cell_type": "markdown",
   "id": "thermal-abortion",
   "metadata": {},
   "source": [
    "#### 상태 코드 500의 의미는 \"내부 서버 오류\"를 나타낸다. \n",
    "#### 웹 브라우저로는 정상 접근이 가능하므로 실제로는 서버 오류가 아닌 것을 짐작할 수 있다.\n",
    "#### 이를 해결하기 위해 일반 웹 브라우저의 User-Agent를 전달해본다. \n",
    "#### User-Agent 정보는 구글에서 my user agent를 검색하면 알 수 있다."
   ]
  },
  {
   "cell_type": "code",
   "execution_count": 3,
   "id": "irish-radio",
   "metadata": {},
   "outputs": [],
   "source": [
    "ua = 'Mozilla/5.0 (Windows NT 10.0; Win64; x64) AppleWebKit/537.36 (KHTML, like Gecko) Chrome/86.0.4240.198 Whale/2.9.115.16 Safari/537.36'"
   ]
  },
  {
   "cell_type": "code",
   "execution_count": 4,
   "id": "metric-relationship",
   "metadata": {},
   "outputs": [
    {
     "data": {
      "text/plain": [
       "<Response [200]>"
      ]
     },
     "execution_count": 4,
     "metadata": {},
     "output_type": "execute_result"
    }
   ],
   "source": [
    "requests.get('https://onoffmix.com', headers={'User-Agent': ua})"
   ]
  }
 ],
 "metadata": {
  "kernelspec": {
   "display_name": "Python3.8_DL",
   "language": "python",
   "name": "dl"
  },
  "language_info": {
   "codemirror_mode": {
    "name": "ipython",
    "version": 3
   },
   "file_extension": ".py",
   "mimetype": "text/x-python",
   "name": "python",
   "nbconvert_exporter": "python",
   "pygments_lexer": "ipython3",
   "version": "3.8.8"
  }
 },
 "nbformat": 4,
 "nbformat_minor": 5
}
