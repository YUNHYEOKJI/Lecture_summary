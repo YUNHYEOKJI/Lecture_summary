{
 "cells": [
  {
   "cell_type": "markdown",
   "id": "located-passion",
   "metadata": {},
   "source": [
    "# 무작위 탐색을 통한 하이퍼파라미터 튜닝"
   ]
  },
  {
   "cell_type": "markdown",
   "id": "spare-force",
   "metadata": {},
   "source": [
    "## 데이터 만들기"
   ]
  },
  {
   "cell_type": "code",
   "execution_count": 18,
   "id": "aboriginal-groove",
   "metadata": {},
   "outputs": [],
   "source": [
    "import tensorflow as tf\n",
    "import numpy as np"
   ]
  },
  {
   "cell_type": "code",
   "execution_count": 19,
   "id": "applied-violence",
   "metadata": {},
   "outputs": [],
   "source": [
    "x = np.random.normal(size=(1000, 20))"
   ]
  },
  {
   "cell_type": "code",
   "execution_count": 20,
   "id": "innovative-place",
   "metadata": {},
   "outputs": [
    {
     "data": {
      "text/plain": [
       "(1000, 20)"
      ]
     },
     "execution_count": 20,
     "metadata": {},
     "output_type": "execute_result"
    }
   ],
   "source": [
    "x.shape"
   ]
  },
  {
   "cell_type": "code",
   "execution_count": 21,
   "id": "returning-freight",
   "metadata": {},
   "outputs": [],
   "source": [
    "y = np.where(np.abs(x.sum(axis=1)) > 1, 1, 0)"
   ]
  },
  {
   "cell_type": "markdown",
   "id": "electrical-attraction",
   "metadata": {},
   "source": [
    "## 데이터 분할"
   ]
  },
  {
   "cell_type": "code",
   "execution_count": 22,
   "id": "loose-basic",
   "metadata": {},
   "outputs": [],
   "source": [
    "from sklearn.model_selection import train_test_split\n",
    "x_train, x_test, y_train, y_test = train_test_split(x, y, test_size=0.2, random_state=1234)\n"
   ]
  },
  {
   "cell_type": "code",
   "execution_count": 23,
   "id": "consistent-socket",
   "metadata": {},
   "outputs": [],
   "source": [
    "model = tf.keras.Sequential()\n",
    "model.add(tf.keras.layers.Dense(16, activation = 'relu')) # 은닉층\n",
    "model.add(tf.keras.layers.Dense(1, activation = 'sigmoid'))"
   ]
  },
  {
   "cell_type": "code",
   "execution_count": 24,
   "id": "smaller-retail",
   "metadata": {},
   "outputs": [],
   "source": [
    "model.compile(optimizer = tf.keras.optimizers.Adam(learning_rate=0.001), loss = 'binary_crossentropy', metrics = ['accuracy'])\n"
   ]
  },
  {
   "cell_type": "code",
   "execution_count": 26,
   "id": "modular-toyota",
   "metadata": {},
   "outputs": [
    {
     "name": "stdout",
     "output_type": "stream",
     "text": [
      "Epoch 1/10\n",
      "20/20 [==============================] - 2s 36ms/step - loss: 0.6150 - accuracy: 0.6741 - val_loss: 0.5490 - val_accuracy: 0.7625\n",
      "INFO:tensorflow:Assets written to: model\\assets\n",
      "Epoch 2/10\n",
      "20/20 [==============================] - 0s 15ms/step - loss: 0.5493 - accuracy: 0.7585 - val_loss: 0.5173 - val_accuracy: 0.7812\n",
      "INFO:tensorflow:Assets written to: model\\assets\n",
      "Epoch 3/10\n",
      "20/20 [==============================] - 0s 12ms/step - loss: 0.5247 - accuracy: 0.7883 - val_loss: 0.4976 - val_accuracy: 0.8000\n",
      "INFO:tensorflow:Assets written to: model\\assets\n",
      "Epoch 4/10\n",
      "20/20 [==============================] - 0s 16ms/step - loss: 0.5034 - accuracy: 0.8154 - val_loss: 0.4831 - val_accuracy: 0.8250\n",
      "INFO:tensorflow:Assets written to: model\\assets\n",
      "Epoch 5/10\n",
      "20/20 [==============================] - 0s 15ms/step - loss: 0.4900 - accuracy: 0.8151 - val_loss: 0.4762 - val_accuracy: 0.8250\n",
      "Epoch 6/10\n",
      "20/20 [==============================] - 0s 16ms/step - loss: 0.4521 - accuracy: 0.8398 - val_loss: 0.4712 - val_accuracy: 0.8250\n",
      "Epoch 7/10\n",
      "20/20 [==============================] - 0s 14ms/step - loss: 0.4813 - accuracy: 0.8118 - val_loss: 0.4689 - val_accuracy: 0.8250\n",
      "Epoch 8/10\n",
      "20/20 [==============================] - 0s 14ms/step - loss: 0.4466 - accuracy: 0.8227 - val_loss: 0.4671 - val_accuracy: 0.8250\n",
      "Epoch 9/10\n",
      "20/20 [==============================] - 0s 15ms/step - loss: 0.4855 - accuracy: 0.8047 - val_loss: 0.4660 - val_accuracy: 0.8250\n",
      "Epoch 10/10\n",
      "20/20 [==============================] - 0s 13ms/step - loss: 0.4490 - accuracy: 0.8277 - val_loss: 0.4653 - val_accuracy: 0.8250\n"
     ]
    }
   ],
   "source": [
    "checkpoint = tf.keras.callbacks.ModelCheckpoint(filepath='model', monitor='val_accuracy', save_best_only=True)\n",
    "history = model.fit(x_train, y_train, epochs=10, validation_split=0.2, callbacks=[checkpoint])\n"
   ]
  },
  {
   "cell_type": "code",
   "execution_count": 27,
   "id": "exterior-ancient",
   "metadata": {},
   "outputs": [
    {
     "data": {
      "text/plain": [
       "0.824999988079071"
      ]
     },
     "execution_count": 27,
     "metadata": {},
     "output_type": "execute_result"
    }
   ],
   "source": [
    "max(history.history['val_accuracy'])"
   ]
  },
  {
   "cell_type": "markdown",
   "id": "usual-greece",
   "metadata": {},
   "source": [
    "## 모형"
   ]
  },
  {
   "cell_type": "markdown",
   "id": "tough-volunteer",
   "metadata": {},
   "source": [
    "- 모형을 만들고 학습시키는 과정을 함수로 작성"
   ]
  },
  {
   "cell_type": "markdown",
   "id": "coordinated-running",
   "metadata": {},
   "source": [
    "- f'model{i:02d}': 항상 두자리가 되도록 00, 01, 02"
   ]
  },
  {
   "cell_type": "code",
   "execution_count": 34,
   "id": "relevant-liverpool",
   "metadata": {},
   "outputs": [],
   "source": [
    "def experiment(i, h_size, num_hidden, activation, lr):\n",
    "    model = tf.keras.Sequential()\n",
    "    for _ in range(num_hidden):\n",
    "        model.add(tf.keras.layers.Dense(h_size, activation=activation))\n",
    "    model.add(tf.keras.layers.Dense(1, activation='sigmoid'))\n",
    "\n",
    "    model.compile(optimizer=tf.keras.optimizers.Adam(learning_rate=lr), loss='binary_crossentropy', metrics=['accuracy'])\n",
    "    \n",
    "    checkpoint = tf.keras.callbacks.ModelCheckpoint(filepath=f'model{i:02d}', monitor='val_accuracy', save_best_only=True)\n",
    "    history = model.fit(x_train, y_train, epochs=10, validation_split=0.2, callbacks=[checkpoint]) # , verbose=0\n",
    "    \n",
    "    return max(history.history['val_accuracy'])\n",
    "\n"
   ]
  },
  {
   "cell_type": "markdown",
   "id": "radical-sodium",
   "metadata": {},
   "source": [
    "## 랜덤 탐색"
   ]
  },
  {
   "cell_type": "code",
   "execution_count": 35,
   "id": "quarterly-segment",
   "metadata": {},
   "outputs": [
    {
     "name": "stdout",
     "output_type": "stream",
     "text": [
      "Epoch 1/10\n",
      "20/20 [==============================] - 1s 22ms/step - loss: 0.5629 - accuracy: 0.7367 - val_loss: 0.4784 - val_accuracy: 0.8250\n",
      "INFO:tensorflow:Assets written to: model00\\assets\n",
      "Epoch 2/10\n",
      "20/20 [==============================] - 0s 11ms/step - loss: 0.4648 - accuracy: 0.8237 - val_loss: 0.4896 - val_accuracy: 0.8250\n",
      "Epoch 3/10\n",
      "20/20 [==============================] - 0s 11ms/step - loss: 0.4600 - accuracy: 0.8216 - val_loss: 0.4925 - val_accuracy: 0.8250\n",
      "Epoch 4/10\n",
      "20/20 [==============================] - 0s 12ms/step - loss: 0.4173 - accuracy: 0.8487 - val_loss: 0.4972 - val_accuracy: 0.8250\n",
      "Epoch 5/10\n",
      "20/20 [==============================] - 0s 10ms/step - loss: 0.4229 - accuracy: 0.8398 - val_loss: 0.5167 - val_accuracy: 0.8250\n",
      "Epoch 6/10\n",
      "20/20 [==============================] - 0s 9ms/step - loss: 0.4374 - accuracy: 0.8238 - val_loss: 0.5396 - val_accuracy: 0.8250\n",
      "Epoch 7/10\n",
      "20/20 [==============================] - 0s 9ms/step - loss: 0.4069 - accuracy: 0.8151 - val_loss: 0.5089 - val_accuracy: 0.8250\n",
      "Epoch 8/10\n",
      "20/20 [==============================] - 0s 11ms/step - loss: 0.4068 - accuracy: 0.8216 - val_loss: 0.5396 - val_accuracy: 0.7750\n",
      "Epoch 9/10\n",
      "20/20 [==============================] - 0s 14ms/step - loss: 0.3989 - accuracy: 0.8126 - val_loss: 0.4876 - val_accuracy: 0.8250\n",
      "Epoch 10/10\n",
      "20/20 [==============================] - 0s 13ms/step - loss: 0.3809 - accuracy: 0.8225 - val_loss: 0.4974 - val_accuracy: 0.7937\n",
      "Epoch 1/10\n",
      "20/20 [==============================] - 1s 21ms/step - loss: 0.6709 - accuracy: 0.6512 - val_loss: 0.4586 - val_accuracy: 0.8250\n",
      "INFO:tensorflow:Assets written to: model01\\assets\n",
      "Epoch 2/10\n",
      "20/20 [==============================] - 0s 9ms/step - loss: 0.4408 - accuracy: 0.8363 - val_loss: 0.4561 - val_accuracy: 0.8250\n",
      "Epoch 3/10\n",
      "20/20 [==============================] - 0s 10ms/step - loss: 0.3849 - accuracy: 0.8348 - val_loss: 0.4313 - val_accuracy: 0.8125\n",
      "Epoch 4/10\n",
      "20/20 [==============================] - 0s 10ms/step - loss: 0.3506 - accuracy: 0.8297 - val_loss: 0.2952 - val_accuracy: 0.8188\n",
      "Epoch 5/10\n",
      "20/20 [==============================] - 0s 12ms/step - loss: 0.2641 - accuracy: 0.8462 - val_loss: 0.2550 - val_accuracy: 0.8562\n",
      "INFO:tensorflow:Assets written to: model01\\assets\n",
      "Epoch 6/10\n",
      "20/20 [==============================] - 0s 12ms/step - loss: 0.2110 - accuracy: 0.9053 - val_loss: 0.2281 - val_accuracy: 0.8750\n",
      "INFO:tensorflow:Assets written to: model01\\assets\n",
      "Epoch 7/10\n",
      "20/20 [==============================] - 0s 12ms/step - loss: 0.1962 - accuracy: 0.9163 - val_loss: 0.2429 - val_accuracy: 0.8750\n",
      "Epoch 8/10\n",
      "20/20 [==============================] - 0s 11ms/step - loss: 0.1909 - accuracy: 0.9105 - val_loss: 0.1954 - val_accuracy: 0.9125\n",
      "INFO:tensorflow:Assets written to: model01\\assets\n",
      "Epoch 9/10\n",
      "20/20 [==============================] - 0s 12ms/step - loss: 0.1854 - accuracy: 0.9358 - val_loss: 0.1598 - val_accuracy: 0.9312\n",
      "INFO:tensorflow:Assets written to: model01\\assets\n",
      "Epoch 10/10\n",
      "20/20 [==============================] - 0s 12ms/step - loss: 0.1491 - accuracy: 0.9407 - val_loss: 0.1690 - val_accuracy: 0.9250\n",
      "Epoch 1/10\n",
      "20/20 [==============================] - 1s 28ms/step - loss: 0.5273 - accuracy: 0.7740 - val_loss: 0.5179 - val_accuracy: 0.8125\n",
      "INFO:tensorflow:Assets written to: model02\\assets\n",
      "Epoch 2/10\n",
      "20/20 [==============================] - 0s 12ms/step - loss: 0.5255 - accuracy: 0.8031 - val_loss: 0.5077 - val_accuracy: 0.8062\n",
      "Epoch 3/10\n",
      "20/20 [==============================] - 0s 13ms/step - loss: 0.5244 - accuracy: 0.7906 - val_loss: 0.4999 - val_accuracy: 0.8125\n",
      "Epoch 4/10\n",
      "20/20 [==============================] - 0s 12ms/step - loss: 0.4892 - accuracy: 0.8220 - val_loss: 0.4940 - val_accuracy: 0.8188\n",
      "INFO:tensorflow:Assets written to: model02\\assets\n",
      "Epoch 5/10\n",
      "20/20 [==============================] - 0s 12ms/step - loss: 0.5017 - accuracy: 0.8196 - val_loss: 0.4893 - val_accuracy: 0.8188\n",
      "Epoch 6/10\n",
      "20/20 [==============================] - 0s 12ms/step - loss: 0.4730 - accuracy: 0.8423 - val_loss: 0.4849 - val_accuracy: 0.8188\n",
      "Epoch 7/10\n",
      "20/20 [==============================] - 0s 11ms/step - loss: 0.4956 - accuracy: 0.8230 - val_loss: 0.4821 - val_accuracy: 0.8188\n",
      "Epoch 8/10\n",
      "20/20 [==============================] - 0s 12ms/step - loss: 0.4655 - accuracy: 0.8266 - val_loss: 0.4793 - val_accuracy: 0.8188\n",
      "Epoch 9/10\n",
      "20/20 [==============================] - 0s 13ms/step - loss: 0.4823 - accuracy: 0.8173 - val_loss: 0.4768 - val_accuracy: 0.8188\n",
      "Epoch 10/10\n",
      "20/20 [==============================] - 0s 13ms/step - loss: 0.4752 - accuracy: 0.8122 - val_loss: 0.4742 - val_accuracy: 0.8250\n",
      "INFO:tensorflow:Assets written to: model02\\assets\n"
     ]
    }
   ],
   "source": [
    "results = []\n",
    "for i in range(3):\n",
    "    h_sizes = [2, 4, 8, 16]\n",
    "    h_size = np.random.choice(h_sizes)\n",
    "    num_hidden = np.random.randint(0, 3)\n",
    "    activation = np.random.choice(['relu', 'tanh'])\n",
    "    lr = 10 ** np.random.randint(-5, 0)\n",
    "\n",
    "    val_accuracy = experiment(i, h_size, num_hidden, activation, lr)\n",
    "    results.append({\n",
    "        'val_accuracy': val_accuracy,\n",
    "        'h_size': h_size,\n",
    "        'num_hidden': num_hidden,\n",
    "        'activation': activation,\n",
    "        'lr': lr\n",
    "    })"
   ]
  },
  {
   "cell_type": "code",
   "execution_count": 36,
   "id": "mental-heath",
   "metadata": {},
   "outputs": [
    {
     "data": {
      "text/plain": [
       "[{'val_accuracy': 0.824999988079071,\n",
       "  'h_size': 4,\n",
       "  'num_hidden': 2,\n",
       "  'activation': 'tanh',\n",
       "  'lr': 0.1},\n",
       " {'val_accuracy': 0.9312499761581421,\n",
       "  'h_size': 4,\n",
       "  'num_hidden': 1,\n",
       "  'activation': 'relu',\n",
       "  'lr': 0.1},\n",
       " {'val_accuracy': 0.824999988079071,\n",
       "  'h_size': 8,\n",
       "  'num_hidden': 1,\n",
       "  'activation': 'relu',\n",
       "  'lr': 0.001}]"
      ]
     },
     "execution_count": 36,
     "metadata": {},
     "output_type": "execute_result"
    }
   ],
   "source": [
    "results"
   ]
  },
  {
   "cell_type": "markdown",
   "id": "failing-dayton",
   "metadata": {},
   "source": [
    "## 가장 좋은 모형 불러오기"
   ]
  },
  {
   "cell_type": "code",
   "execution_count": 37,
   "id": "least-stability",
   "metadata": {},
   "outputs": [],
   "source": [
    "model = tf.keras.models.load_model('model02')"
   ]
  },
  {
   "cell_type": "markdown",
   "id": "wired-techno",
   "metadata": {},
   "source": [
    "## 테스트"
   ]
  },
  {
   "cell_type": "code",
   "execution_count": 38,
   "id": "alpine-slovak",
   "metadata": {},
   "outputs": [
    {
     "name": "stdout",
     "output_type": "stream",
     "text": [
      "7/7 [==============================] - 0s 6ms/step - loss: 0.4902 - accuracy: 0.8400\n"
     ]
    },
    {
     "data": {
      "text/plain": [
       "[0.49019360542297363, 0.8399999737739563]"
      ]
     },
     "execution_count": 38,
     "metadata": {},
     "output_type": "execute_result"
    }
   ],
   "source": [
    "model.evaluate(x_test, y_test)"
   ]
  },
  {
   "cell_type": "markdown",
   "id": "prepared-headquarters",
   "metadata": {},
   "source": [
    "# TF에서 레이블 스무딩"
   ]
  },
  {
   "cell_type": "markdown",
   "id": "aggregate-receipt",
   "metadata": {},
   "source": [
    "- 레이블 스무딩을 하려면 먼저 y_test는 one-hot encoding이 되어 있어야 한다. 그 후에 다음 2가지 방법 중에 하나를 사용한다.\n",
    "\n",
    "- 직접 계산\n",
    "- CategoricalCrossentropy에 옵션 설정"
   ]
  },
  {
   "cell_type": "markdown",
   "id": "awful-probe",
   "metadata": {},
   "source": [
    "## 직접 계산"
   ]
  },
  {
   "cell_type": "markdown",
   "id": "transsexual-configuration",
   "metadata": {},
   "source": [
    "- 직접 계산을 하는 방법은 먼저 스무딩할 정도를 정한다."
   ]
  },
  {
   "cell_type": "code",
   "execution_count": 39,
   "id": "listed-terry",
   "metadata": {},
   "outputs": [],
   "source": [
    "e = 0.2"
   ]
  },
  {
   "cell_type": "markdown",
   "id": "invisible-panic",
   "metadata": {},
   "source": [
    "- 다음으로 카테고리의 수를 변수에 할당한다."
   ]
  },
  {
   "cell_type": "code",
   "execution_count": 40,
   "id": "charged-permission",
   "metadata": {},
   "outputs": [],
   "source": [
    "n = 20"
   ]
  },
  {
   "cell_type": "markdown",
   "id": "acceptable-humor",
   "metadata": {},
   "source": [
    "- 마지막으로 아래 공식에 따라 y를 직접 계산한다."
   ]
  },
  {
   "cell_type": "code",
   "execution_count": 41,
   "id": "beneficial-shakespeare",
   "metadata": {},
   "outputs": [],
   "source": [
    "y_smooth = y_train * (1 - e) + (e / n)"
   ]
  },
  {
   "cell_type": "markdown",
   "id": "former-seafood",
   "metadata": {},
   "source": [
    "학습을 할 때는 y_train 대신 y_smooth를 사용한다."
   ]
  },
  {
   "cell_type": "markdown",
   "id": "deadly-fourth",
   "metadata": {},
   "source": [
    "## 옵션 설정"
   ]
  },
  {
   "cell_type": "markdown",
   "id": "seeing-offer",
   "metadata": {},
   "source": [
    "model.compile에서 loss를 다음과 같이 설정한다."
   ]
  },
  {
   "cell_type": "code",
   "execution_count": 43,
   "id": "moving-dialogue",
   "metadata": {},
   "outputs": [
    {
     "ename": "SyntaxError",
     "evalue": "positional argument follows keyword argument (<ipython-input-43-fa8215f457f5>, line 3)",
     "output_type": "error",
     "traceback": [
      "\u001b[1;36m  File \u001b[1;32m\"<ipython-input-43-fa8215f457f5>\"\u001b[1;36m, line \u001b[1;32m3\u001b[0m\n\u001b[1;33m    ...)\u001b[0m\n\u001b[1;37m    ^\u001b[0m\n\u001b[1;31mSyntaxError\u001b[0m\u001b[1;31m:\u001b[0m positional argument follows keyword argument\n"
     ]
    }
   ],
   "source": [
    "model.compile(\n",
    "    loss=tf.keras.losses.CategoricalCrossentropy(label_smoothing=0.2),\n",
    "    ...)"
   ]
  },
  {
   "cell_type": "markdown",
   "id": "intended-skating",
   "metadata": {},
   "source": [
    "y_train으로 학습을 하면 손실을 계산할 때 레이블 스무딩이 적용된다."
   ]
  },
  {
   "cell_type": "markdown",
   "id": "collect-inspiration",
   "metadata": {},
   "source": [
    "# 다항분류 전처리"
   ]
  },
  {
   "cell_type": "markdown",
   "id": "strategic-separation",
   "metadata": {},
   "source": [
    "- 20newsgroups 데이터를 이용해 문서분류 실습을 진행한다. \n",
    "- 이 데이터는 20개의 뉴스그룹(일종의 주제별 게시판)의 글들을 모은 것이다."
   ]
  },
  {
   "cell_type": "markdown",
   "id": "straight-drive",
   "metadata": {},
   "source": [
    "## 데이터 불러들이기"
   ]
  },
  {
   "cell_type": "markdown",
   "id": "vanilla-yellow",
   "metadata": {},
   "source": [
    "- scikit-learn 패키지의 fetch_20newsgroups 함수를 이용해 데이터를 받을 수 있다. \n",
    "- 데이터는 미리 훈련용과 테스트용이 나뉘어져 있다."
   ]
  },
  {
   "cell_type": "code",
   "execution_count": 45,
   "id": "extensive-startup",
   "metadata": {},
   "outputs": [],
   "source": [
    "from sklearn.datasets import fetch_20newsgroups"
   ]
  },
  {
   "cell_type": "code",
   "execution_count": 46,
   "id": "impaired-dining",
   "metadata": {},
   "outputs": [],
   "source": [
    "train = fetch_20newsgroups(subset='train')\n",
    "test = fetch_20newsgroups(subset='test')"
   ]
  },
  {
   "cell_type": "markdown",
   "id": "intended-weapon",
   "metadata": {},
   "source": [
    "데이터를 확인한다."
   ]
  },
  {
   "cell_type": "code",
   "execution_count": 47,
   "id": "significant-paintball",
   "metadata": {},
   "outputs": [
    {
     "name": "stdout",
     "output_type": "stream",
     "text": [
      "From: lerxst@wam.umd.edu (where's my thing)\n",
      "Subject: WHAT car is this!?\n",
      "Nntp-Posting-Host: rac3.wam.umd.edu\n",
      "Organization: University of Maryland, College Park\n",
      "Lines: 15\n",
      "\n",
      " I was wondering if anyone out there could enlighten me on this car I saw\n",
      "the other day. It was a 2-door sports car, looked to be from the late 60s/\n",
      "early 70s. It was called a Bricklin. The doors were really small. In addition,\n",
      "the front bumper was separate from the rest of the body. This is \n",
      "all I know. If anyone can tellme a model name, engine specs, years\n",
      "of production, where this car is made, history, or whatever info you\n",
      "have on this funky looking car, please e-mail.\n",
      "\n",
      "Thanks,\n",
      "- IL\n",
      "   ---- brought to you by your neighborhood Lerxst ----\n",
      "\n",
      "\n",
      "\n",
      "\n",
      "\n"
     ]
    }
   ],
   "source": [
    "print(train.data[0])"
   ]
  },
  {
   "cell_type": "markdown",
   "id": "german-mechanism",
   "metadata": {},
   "source": [
    "레이블을 확인한다."
   ]
  },
  {
   "cell_type": "code",
   "execution_count": 48,
   "id": "incoming-budget",
   "metadata": {},
   "outputs": [
    {
     "data": {
      "text/plain": [
       "7"
      ]
     },
     "execution_count": 48,
     "metadata": {},
     "output_type": "execute_result"
    }
   ],
   "source": [
    "train.target[0]"
   ]
  },
  {
   "cell_type": "markdown",
   "id": "backed-christianity",
   "metadata": {},
   "source": [
    "레이블의 번호가 어떤 뉴스그룹을 가리키는지는 train.target_names에서 볼 수 있다."
   ]
  },
  {
   "cell_type": "code",
   "execution_count": 49,
   "id": "thick-throw",
   "metadata": {},
   "outputs": [
    {
     "data": {
      "text/plain": [
       "['alt.atheism',\n",
       " 'comp.graphics',\n",
       " 'comp.os.ms-windows.misc',\n",
       " 'comp.sys.ibm.pc.hardware',\n",
       " 'comp.sys.mac.hardware',\n",
       " 'comp.windows.x',\n",
       " 'misc.forsale',\n",
       " 'rec.autos',\n",
       " 'rec.motorcycles',\n",
       " 'rec.sport.baseball',\n",
       " 'rec.sport.hockey',\n",
       " 'sci.crypt',\n",
       " 'sci.electronics',\n",
       " 'sci.med',\n",
       " 'sci.space',\n",
       " 'soc.religion.christian',\n",
       " 'talk.politics.guns',\n",
       " 'talk.politics.mideast',\n",
       " 'talk.politics.misc',\n",
       " 'talk.religion.misc']"
      ]
     },
     "execution_count": 49,
     "metadata": {},
     "output_type": "execute_result"
    }
   ],
   "source": [
    "train.target_names"
   ]
  },
  {
   "cell_type": "markdown",
   "id": "simple-surrey",
   "metadata": {},
   "source": [
    "## TF-IDF"
   ]
  },
  {
   "cell_type": "markdown",
   "id": "overall-skirt",
   "metadata": {},
   "source": [
    "텍스트를 TF-IDF 단어문서행렬로 만든다."
   ]
  },
  {
   "cell_type": "code",
   "execution_count": 50,
   "id": "further-replacement",
   "metadata": {},
   "outputs": [],
   "source": [
    "from sklearn.feature_extraction.text import TfidfVectorizer"
   ]
  },
  {
   "cell_type": "code",
   "execution_count": 51,
   "id": "contrary-commons",
   "metadata": {},
   "outputs": [],
   "source": [
    "tfidf = TfidfVectorizer(stop_words='english', max_features=10000)"
   ]
  },
  {
   "cell_type": "code",
   "execution_count": 52,
   "id": "naval-vacation",
   "metadata": {},
   "outputs": [],
   "source": [
    "x_train = tfidf.fit_transform(train.data)"
   ]
  },
  {
   "cell_type": "markdown",
   "id": "respected-devices",
   "metadata": {},
   "source": [
    "데이터의 모양을 확인한다."
   ]
  },
  {
   "cell_type": "code",
   "execution_count": 53,
   "id": "valued-massage",
   "metadata": {},
   "outputs": [
    {
     "data": {
      "text/plain": [
       "(11314, 10000)"
      ]
     },
     "execution_count": 53,
     "metadata": {},
     "output_type": "execute_result"
    }
   ],
   "source": [
    "x_train.shape"
   ]
  },
  {
   "cell_type": "markdown",
   "id": "plastic-initial",
   "metadata": {},
   "source": [
    "train.target을 one-hot encoding한다."
   ]
  },
  {
   "cell_type": "code",
   "execution_count": 54,
   "id": "minor-burden",
   "metadata": {},
   "outputs": [],
   "source": [
    "from sklearn.preprocessing import LabelBinarizer\n",
    "lb = LabelBinarizer()\n",
    "y_train = lb.fit_transform(train.target) "
   ]
  },
  {
   "cell_type": "markdown",
   "id": "suspected-engineering",
   "metadata": {},
   "source": [
    "원래 값과 one-hot encoding된 결과를 비교해본다."
   ]
  },
  {
   "cell_type": "code",
   "execution_count": 55,
   "id": "affecting-induction",
   "metadata": {},
   "outputs": [
    {
     "data": {
      "text/plain": [
       "array([ 7,  4,  4,  1, 14])"
      ]
     },
     "execution_count": 55,
     "metadata": {},
     "output_type": "execute_result"
    }
   ],
   "source": [
    "train.target[:5]"
   ]
  },
  {
   "cell_type": "code",
   "execution_count": 56,
   "id": "painful-battlefield",
   "metadata": {},
   "outputs": [
    {
     "data": {
      "text/plain": [
       "array([[0, 0, 0, 0, 0, 0, 0, 1, 0, 0, 0, 0, 0, 0, 0, 0, 0, 0, 0, 0],\n",
       "       [0, 0, 0, 0, 1, 0, 0, 0, 0, 0, 0, 0, 0, 0, 0, 0, 0, 0, 0, 0],\n",
       "       [0, 0, 0, 0, 1, 0, 0, 0, 0, 0, 0, 0, 0, 0, 0, 0, 0, 0, 0, 0],\n",
       "       [0, 1, 0, 0, 0, 0, 0, 0, 0, 0, 0, 0, 0, 0, 0, 0, 0, 0, 0, 0],\n",
       "       [0, 0, 0, 0, 0, 0, 0, 0, 0, 0, 0, 0, 0, 0, 1, 0, 0, 0, 0, 0]])"
      ]
     },
     "execution_count": 56,
     "metadata": {},
     "output_type": "execute_result"
    }
   ],
   "source": [
    "y_train[:5] # 20개 중에 하나이므로, 19개가 0, 7번만 1"
   ]
  },
  {
   "cell_type": "markdown",
   "id": "south-bookmark",
   "metadata": {},
   "source": [
    "테스트 데이터에도 동일한 처리를 한다."
   ]
  },
  {
   "cell_type": "code",
   "execution_count": 57,
   "id": "baking-thickness",
   "metadata": {},
   "outputs": [],
   "source": [
    "x_test = tfidf.transform(test.data)\n",
    "y_test = lb.transform(test.target)"
   ]
  },
  {
   "cell_type": "markdown",
   "id": "respective-hungary",
   "metadata": {},
   "source": [
    "## 저장"
   ]
  },
  {
   "cell_type": "code",
   "execution_count": 58,
   "id": "drawn-logging",
   "metadata": {},
   "outputs": [
    {
     "data": {
      "text/plain": [
       "['newsgroup.pkl']"
      ]
     },
     "execution_count": 58,
     "metadata": {},
     "output_type": "execute_result"
    }
   ],
   "source": [
    "import joblib\n",
    "\n",
    "joblib.dump(\n",
    "    {\n",
    "        'tfidf': tfidf,\n",
    "        'target_names': train.target_names,\n",
    "        'x_train': x_train,\n",
    "        'y_train': y_train,    \n",
    "        'x_test': x_test,\n",
    "        'y_test': y_test,\n",
    "    },\n",
    "    'newsgroup.pkl')"
   ]
  },
  {
   "cell_type": "markdown",
   "id": "severe-france",
   "metadata": {},
   "source": [
    "# 다항분류 및 Dropout과 BN 실습"
   ]
  },
  {
   "cell_type": "code",
   "execution_count": 59,
   "id": "smart-wildlife",
   "metadata": {},
   "outputs": [],
   "source": [
    "import joblib\n",
    "data = joblib.load('newsgroup.pkl')\n",
    "locals().update(data)"
   ]
  },
  {
   "cell_type": "markdown",
   "id": "essential-subdivision",
   "metadata": {},
   "source": [
    "## 단층 신경망 모형"
   ]
  },
  {
   "cell_type": "code",
   "execution_count": 112,
   "id": "careful-portuguese",
   "metadata": {},
   "outputs": [],
   "source": [
    "import tensorflow as tf"
   ]
  },
  {
   "cell_type": "code",
   "execution_count": 113,
   "id": "comparative-forwarding",
   "metadata": {},
   "outputs": [],
   "source": [
    "model = tf.keras.models.Sequential([\n",
    "    tf.keras.layers.Dense(20, activation='softmax')\n",
    "]) # 뉴스그룹이 20개중 하나, activation은 softmax로\n",
    "# 입력의 형태가 정해지지 않았으므로, model.summary는 에러바생"
   ]
  },
  {
   "cell_type": "code",
   "execution_count": 114,
   "id": "skilled-robert",
   "metadata": {},
   "outputs": [],
   "source": [
    "model.compile(\n",
    "    loss='categorical_crossentropy',\n",
    "    optimizer=tf.keras.optimizers.Adam(lr=0.01),\n",
    "    metrics=['accuracy'])"
   ]
  },
  {
   "cell_type": "code",
   "execution_count": 115,
   "id": "boxed-tennis",
   "metadata": {},
   "outputs": [
    {
     "name": "stdout",
     "output_type": "stream",
     "text": [
      "Epoch 1/30\n",
      "319/319 [==============================] - 2s 7ms/step - loss: 2.2331 - accuracy: 0.6480 - val_loss: 0.9205 - val_accuracy: 0.8905\n",
      "Epoch 2/30\n",
      "319/319 [==============================] - 1s 4ms/step - loss: 0.5879 - accuracy: 0.9607 - val_loss: 0.5941 - val_accuracy: 0.9055\n",
      "Epoch 3/30\n",
      "319/319 [==============================] - 1s 4ms/step - loss: 0.2923 - accuracy: 0.9845 - val_loss: 0.4767 - val_accuracy: 0.9081\n",
      "Epoch 4/30\n",
      "319/319 [==============================] - 1s 4ms/step - loss: 0.1774 - accuracy: 0.9913 - val_loss: 0.4190 - val_accuracy: 0.9090\n",
      "Epoch 5/30\n",
      "319/319 [==============================] - 1s 4ms/step - loss: 0.1189 - accuracy: 0.9953 - val_loss: 0.3853 - val_accuracy: 0.9117\n",
      "Epoch 6/30\n",
      "319/319 [==============================] - 1s 4ms/step - loss: 0.0852 - accuracy: 0.9976 - val_loss: 0.3617 - val_accuracy: 0.9099\n"
     ]
    },
    {
     "data": {
      "text/plain": [
       "<tensorflow.python.keras.callbacks.History at 0x20f1327de50>"
      ]
     },
     "execution_count": 115,
     "metadata": {},
     "output_type": "execute_result"
    }
   ],
   "source": [
    "model.fit(\n",
    "    x_train.toarray(),\n",
    "    y_train,\n",
    "    epochs=30,\n",
    "    validation_split=.1,\n",
    "    callbacks=[tf.keras.callbacks.EarlyStopping(monitor='val_accuracy')],\n",
    ")"
   ]
  },
  {
   "cell_type": "code",
   "execution_count": 116,
   "id": "atmospheric-athletics",
   "metadata": {},
   "outputs": [
    {
     "name": "stdout",
     "output_type": "stream",
     "text": [
      "Model: \"sequential_25\"\n",
      "_________________________________________________________________\n",
      "Layer (type)                 Output Shape              Param #   \n",
      "=================================================================\n",
      "dense_57 (Dense)             (None, 20)                200020    \n",
      "=================================================================\n",
      "Total params: 200,020\n",
      "Trainable params: 200,020\n",
      "Non-trainable params: 0\n",
      "_________________________________________________________________\n"
     ]
    }
   ],
   "source": [
    "model.summary()"
   ]
  },
  {
   "cell_type": "markdown",
   "id": "realistic-oregon",
   "metadata": {},
   "source": [
    "## 계수"
   ]
  },
  {
   "cell_type": "code",
   "execution_count": 117,
   "id": "located-symphony",
   "metadata": {},
   "outputs": [],
   "source": [
    "import pandas as pd"
   ]
  },
  {
   "cell_type": "code",
   "execution_count": 118,
   "id": "manufactured-chemistry",
   "metadata": {},
   "outputs": [],
   "source": [
    "w, _ = model.weights"
   ]
  },
  {
   "cell_type": "code",
   "execution_count": 119,
   "id": "heavy-kingston",
   "metadata": {},
   "outputs": [
    {
     "data": {
      "text/plain": [
       "array([[-2.9104254 , -0.94404   , -1.1166897 , ..., -0.6063509 ,\n",
       "        -1.1134286 , -2.1443493 ],\n",
       "       [ 0.24162254, -1.2161368 , -0.49712718, ...,  0.3653656 ,\n",
       "         0.23280773, -0.6512136 ],\n",
       "       [-0.4498055 , -0.7232601 , -0.5132127 , ..., -0.5773479 ,\n",
       "        -0.6466029 , -0.5361678 ],\n",
       "       ...,\n",
       "       [-0.5223099 , -0.6723426 ,  0.18309747, ..., -0.60862654,\n",
       "        -0.5157819 , -0.571886  ],\n",
       "       [-1.119206  , -1.2560188 , -1.1056676 , ..., -0.94855416,\n",
       "        -1.1914417 , -1.0675484 ],\n",
       "       [-1.005452  , -0.93737483, -0.38409838, ..., -0.7879447 ,\n",
       "        -0.8972243 , -0.8602842 ]], dtype=float32)"
      ]
     },
     "execution_count": 119,
     "metadata": {},
     "output_type": "execute_result"
    }
   ],
   "source": [
    "w.numpy()"
   ]
  },
  {
   "cell_type": "code",
   "execution_count": 120,
   "id": "intense-version",
   "metadata": {},
   "outputs": [],
   "source": [
    "weights = pd.DataFrame(w.numpy(), columns=target_names, index=tfidf.get_feature_names())\n"
   ]
  },
  {
   "cell_type": "code",
   "execution_count": 121,
   "id": "silver-scheduling",
   "metadata": {},
   "outputs": [
    {
     "data": {
      "text/html": [
       "<div>\n",
       "<style scoped>\n",
       "    .dataframe tbody tr th:only-of-type {\n",
       "        vertical-align: middle;\n",
       "    }\n",
       "\n",
       "    .dataframe tbody tr th {\n",
       "        vertical-align: top;\n",
       "    }\n",
       "\n",
       "    .dataframe thead th {\n",
       "        text-align: right;\n",
       "    }\n",
       "</style>\n",
       "<table border=\"1\" class=\"dataframe\">\n",
       "  <thead>\n",
       "    <tr style=\"text-align: right;\">\n",
       "      <th></th>\n",
       "      <th>alt.atheism</th>\n",
       "      <th>comp.graphics</th>\n",
       "      <th>comp.os.ms-windows.misc</th>\n",
       "      <th>comp.sys.ibm.pc.hardware</th>\n",
       "      <th>comp.sys.mac.hardware</th>\n",
       "      <th>comp.windows.x</th>\n",
       "      <th>misc.forsale</th>\n",
       "      <th>rec.autos</th>\n",
       "      <th>rec.motorcycles</th>\n",
       "      <th>rec.sport.baseball</th>\n",
       "      <th>rec.sport.hockey</th>\n",
       "      <th>sci.crypt</th>\n",
       "      <th>sci.electronics</th>\n",
       "      <th>sci.med</th>\n",
       "      <th>sci.space</th>\n",
       "      <th>soc.religion.christian</th>\n",
       "      <th>talk.politics.guns</th>\n",
       "      <th>talk.politics.mideast</th>\n",
       "      <th>talk.politics.misc</th>\n",
       "      <th>talk.religion.misc</th>\n",
       "    </tr>\n",
       "  </thead>\n",
       "  <tbody>\n",
       "    <tr>\n",
       "      <th>00</th>\n",
       "      <td>-2.910425</td>\n",
       "      <td>-0.944040</td>\n",
       "      <td>-1.116690</td>\n",
       "      <td>-0.434633</td>\n",
       "      <td>-1.820769</td>\n",
       "      <td>0.067174</td>\n",
       "      <td>1.811589</td>\n",
       "      <td>-0.943654</td>\n",
       "      <td>-0.783432</td>\n",
       "      <td>0.596440</td>\n",
       "      <td>-0.280682</td>\n",
       "      <td>-1.944080</td>\n",
       "      <td>-0.973372</td>\n",
       "      <td>-1.693000</td>\n",
       "      <td>-1.059113</td>\n",
       "      <td>-0.425391</td>\n",
       "      <td>-0.278748</td>\n",
       "      <td>-0.606351</td>\n",
       "      <td>-1.113429</td>\n",
       "      <td>-2.144349</td>\n",
       "    </tr>\n",
       "    <tr>\n",
       "      <th>000</th>\n",
       "      <td>0.241623</td>\n",
       "      <td>-1.216137</td>\n",
       "      <td>-0.497127</td>\n",
       "      <td>-3.914483</td>\n",
       "      <td>-2.701800</td>\n",
       "      <td>-1.433206</td>\n",
       "      <td>0.630437</td>\n",
       "      <td>0.064944</td>\n",
       "      <td>-1.190411</td>\n",
       "      <td>0.629433</td>\n",
       "      <td>-1.295463</td>\n",
       "      <td>-1.224286</td>\n",
       "      <td>-0.207217</td>\n",
       "      <td>-1.461632</td>\n",
       "      <td>0.630078</td>\n",
       "      <td>-2.266793</td>\n",
       "      <td>0.354327</td>\n",
       "      <td>0.365366</td>\n",
       "      <td>0.232808</td>\n",
       "      <td>-0.651214</td>\n",
       "    </tr>\n",
       "    <tr>\n",
       "      <th>005</th>\n",
       "      <td>-0.449805</td>\n",
       "      <td>-0.723260</td>\n",
       "      <td>-0.513213</td>\n",
       "      <td>-0.566408</td>\n",
       "      <td>-0.578435</td>\n",
       "      <td>-0.378389</td>\n",
       "      <td>-0.535255</td>\n",
       "      <td>-0.491466</td>\n",
       "      <td>-0.693897</td>\n",
       "      <td>-0.740143</td>\n",
       "      <td>0.512901</td>\n",
       "      <td>-0.560832</td>\n",
       "      <td>0.284254</td>\n",
       "      <td>-0.785443</td>\n",
       "      <td>-0.768814</td>\n",
       "      <td>-0.702017</td>\n",
       "      <td>-0.397881</td>\n",
       "      <td>-0.577348</td>\n",
       "      <td>-0.646603</td>\n",
       "      <td>-0.536168</td>\n",
       "    </tr>\n",
       "    <tr>\n",
       "      <th>01</th>\n",
       "      <td>0.126227</td>\n",
       "      <td>0.359794</td>\n",
       "      <td>-3.075186</td>\n",
       "      <td>-0.047741</td>\n",
       "      <td>-0.319145</td>\n",
       "      <td>-1.551994</td>\n",
       "      <td>-0.899924</td>\n",
       "      <td>-1.057170</td>\n",
       "      <td>-0.994673</td>\n",
       "      <td>0.681395</td>\n",
       "      <td>-2.207180</td>\n",
       "      <td>0.631030</td>\n",
       "      <td>-0.951239</td>\n",
       "      <td>-1.231813</td>\n",
       "      <td>-0.769745</td>\n",
       "      <td>1.244427</td>\n",
       "      <td>-0.252249</td>\n",
       "      <td>-0.905358</td>\n",
       "      <td>-1.898649</td>\n",
       "      <td>-0.350859</td>\n",
       "    </tr>\n",
       "    <tr>\n",
       "      <th>02</th>\n",
       "      <td>0.033861</td>\n",
       "      <td>-1.590259</td>\n",
       "      <td>-0.151439</td>\n",
       "      <td>0.095330</td>\n",
       "      <td>-1.287629</td>\n",
       "      <td>0.087044</td>\n",
       "      <td>-0.504054</td>\n",
       "      <td>-0.416667</td>\n",
       "      <td>-0.860595</td>\n",
       "      <td>0.091072</td>\n",
       "      <td>-1.749259</td>\n",
       "      <td>-0.486391</td>\n",
       "      <td>0.467781</td>\n",
       "      <td>-0.852261</td>\n",
       "      <td>-0.134095</td>\n",
       "      <td>0.805853</td>\n",
       "      <td>-2.355234</td>\n",
       "      <td>-1.302598</td>\n",
       "      <td>0.126834</td>\n",
       "      <td>0.608218</td>\n",
       "    </tr>\n",
       "  </tbody>\n",
       "</table>\n",
       "</div>"
      ],
      "text/plain": [
       "     alt.atheism  comp.graphics  comp.os.ms-windows.misc  \\\n",
       "00     -2.910425      -0.944040                -1.116690   \n",
       "000     0.241623      -1.216137                -0.497127   \n",
       "005    -0.449805      -0.723260                -0.513213   \n",
       "01      0.126227       0.359794                -3.075186   \n",
       "02      0.033861      -1.590259                -0.151439   \n",
       "\n",
       "     comp.sys.ibm.pc.hardware  comp.sys.mac.hardware  comp.windows.x  \\\n",
       "00                  -0.434633              -1.820769        0.067174   \n",
       "000                 -3.914483              -2.701800       -1.433206   \n",
       "005                 -0.566408              -0.578435       -0.378389   \n",
       "01                  -0.047741              -0.319145       -1.551994   \n",
       "02                   0.095330              -1.287629        0.087044   \n",
       "\n",
       "     misc.forsale  rec.autos  rec.motorcycles  rec.sport.baseball  \\\n",
       "00       1.811589  -0.943654        -0.783432            0.596440   \n",
       "000      0.630437   0.064944        -1.190411            0.629433   \n",
       "005     -0.535255  -0.491466        -0.693897           -0.740143   \n",
       "01      -0.899924  -1.057170        -0.994673            0.681395   \n",
       "02      -0.504054  -0.416667        -0.860595            0.091072   \n",
       "\n",
       "     rec.sport.hockey  sci.crypt  sci.electronics   sci.med  sci.space  \\\n",
       "00          -0.280682  -1.944080        -0.973372 -1.693000  -1.059113   \n",
       "000         -1.295463  -1.224286        -0.207217 -1.461632   0.630078   \n",
       "005          0.512901  -0.560832         0.284254 -0.785443  -0.768814   \n",
       "01          -2.207180   0.631030        -0.951239 -1.231813  -0.769745   \n",
       "02          -1.749259  -0.486391         0.467781 -0.852261  -0.134095   \n",
       "\n",
       "     soc.religion.christian  talk.politics.guns  talk.politics.mideast  \\\n",
       "00                -0.425391           -0.278748              -0.606351   \n",
       "000               -2.266793            0.354327               0.365366   \n",
       "005               -0.702017           -0.397881              -0.577348   \n",
       "01                 1.244427           -0.252249              -0.905358   \n",
       "02                 0.805853           -2.355234              -1.302598   \n",
       "\n",
       "     talk.politics.misc  talk.religion.misc  \n",
       "00            -1.113429           -2.144349  \n",
       "000            0.232808           -0.651214  \n",
       "005           -0.646603           -0.536168  \n",
       "01            -1.898649           -0.350859  \n",
       "02             0.126834            0.608218  "
      ]
     },
     "execution_count": 121,
     "metadata": {},
     "output_type": "execute_result"
    }
   ],
   "source": [
    "weights.head() # +는 가능성이 크다, -는 가능성이 작다."
   ]
  },
  {
   "cell_type": "code",
   "execution_count": 122,
   "id": "hydraulic-costume",
   "metadata": {},
   "outputs": [
    {
     "data": {
      "text/plain": [
       "['alt.atheism',\n",
       " 'comp.graphics',\n",
       " 'comp.os.ms-windows.misc',\n",
       " 'comp.sys.ibm.pc.hardware',\n",
       " 'comp.sys.mac.hardware',\n",
       " 'comp.windows.x',\n",
       " 'misc.forsale',\n",
       " 'rec.autos',\n",
       " 'rec.motorcycles',\n",
       " 'rec.sport.baseball',\n",
       " 'rec.sport.hockey',\n",
       " 'sci.crypt',\n",
       " 'sci.electronics',\n",
       " 'sci.med',\n",
       " 'sci.space',\n",
       " 'soc.religion.christian',\n",
       " 'talk.politics.guns',\n",
       " 'talk.politics.mideast',\n",
       " 'talk.politics.misc',\n",
       " 'talk.religion.misc']"
      ]
     },
     "execution_count": 122,
     "metadata": {},
     "output_type": "execute_result"
    }
   ],
   "source": [
    "target_names"
   ]
  },
  {
   "cell_type": "code",
   "execution_count": 125,
   "id": "upper-guess",
   "metadata": {},
   "outputs": [
    {
     "data": {
      "text/html": [
       "<div>\n",
       "<style scoped>\n",
       "    .dataframe tbody tr th:only-of-type {\n",
       "        vertical-align: middle;\n",
       "    }\n",
       "\n",
       "    .dataframe tbody tr th {\n",
       "        vertical-align: top;\n",
       "    }\n",
       "\n",
       "    .dataframe thead th {\n",
       "        text-align: right;\n",
       "    }\n",
       "</style>\n",
       "<table border=\"1\" class=\"dataframe\">\n",
       "  <thead>\n",
       "    <tr style=\"text-align: right;\">\n",
       "      <th></th>\n",
       "      <th>sci.space</th>\n",
       "    </tr>\n",
       "  </thead>\n",
       "  <tbody>\n",
       "    <tr>\n",
       "      <th>nasa</th>\n",
       "      <td>1.811197</td>\n",
       "    </tr>\n",
       "    <tr>\n",
       "      <th>orbital</th>\n",
       "      <td>1.939048</td>\n",
       "    </tr>\n",
       "    <tr>\n",
       "      <th>prb</th>\n",
       "      <td>1.973615</td>\n",
       "    </tr>\n",
       "    <tr>\n",
       "      <th>shuttle</th>\n",
       "      <td>1.998683</td>\n",
       "    </tr>\n",
       "    <tr>\n",
       "      <th>launch</th>\n",
       "      <td>2.160031</td>\n",
       "    </tr>\n",
       "    <tr>\n",
       "      <th>moon</th>\n",
       "      <td>2.198860</td>\n",
       "    </tr>\n",
       "    <tr>\n",
       "      <th>sci</th>\n",
       "      <td>2.289251</td>\n",
       "    </tr>\n",
       "    <tr>\n",
       "      <th>earth</th>\n",
       "      <td>2.333266</td>\n",
       "    </tr>\n",
       "    <tr>\n",
       "      <th>orbit</th>\n",
       "      <td>2.769100</td>\n",
       "    </tr>\n",
       "    <tr>\n",
       "      <th>space</th>\n",
       "      <td>3.624901</td>\n",
       "    </tr>\n",
       "  </tbody>\n",
       "</table>\n",
       "</div>"
      ],
      "text/plain": [
       "         sci.space\n",
       "nasa      1.811197\n",
       "orbital   1.939048\n",
       "prb       1.973615\n",
       "shuttle   1.998683\n",
       "launch    2.160031\n",
       "moon      2.198860\n",
       "sci       2.289251\n",
       "earth     2.333266\n",
       "orbit     2.769100\n",
       "space     3.624901"
      ]
     },
     "execution_count": 125,
     "metadata": {},
     "output_type": "execute_result"
    }
   ],
   "source": [
    "column = 'sci.space' # 과학, 우주에 관련된 게시판\n",
    "weights.sort_values(column)[[column]].tail(10)"
   ]
  },
  {
   "cell_type": "code",
   "execution_count": 124,
   "id": "owned-demonstration",
   "metadata": {},
   "outputs": [
    {
     "data": {
      "text/html": [
       "<div>\n",
       "<style scoped>\n",
       "    .dataframe tbody tr th:only-of-type {\n",
       "        vertical-align: middle;\n",
       "    }\n",
       "\n",
       "    .dataframe tbody tr th {\n",
       "        vertical-align: top;\n",
       "    }\n",
       "\n",
       "    .dataframe thead th {\n",
       "        text-align: right;\n",
       "    }\n",
       "</style>\n",
       "<table border=\"1\" class=\"dataframe\">\n",
       "  <thead>\n",
       "    <tr style=\"text-align: right;\">\n",
       "      <th></th>\n",
       "      <th>sci.space</th>\n",
       "    </tr>\n",
       "  </thead>\n",
       "  <tbody>\n",
       "    <tr>\n",
       "      <th>space</th>\n",
       "      <td>3.624901</td>\n",
       "    </tr>\n",
       "    <tr>\n",
       "      <th>orbit</th>\n",
       "      <td>2.769100</td>\n",
       "    </tr>\n",
       "    <tr>\n",
       "      <th>earth</th>\n",
       "      <td>2.333266</td>\n",
       "    </tr>\n",
       "    <tr>\n",
       "      <th>sci</th>\n",
       "      <td>2.289251</td>\n",
       "    </tr>\n",
       "    <tr>\n",
       "      <th>moon</th>\n",
       "      <td>2.198860</td>\n",
       "    </tr>\n",
       "    <tr>\n",
       "      <th>...</th>\n",
       "      <td>...</td>\n",
       "    </tr>\n",
       "    <tr>\n",
       "      <th>cars</th>\n",
       "      <td>-3.734363</td>\n",
       "    </tr>\n",
       "    <tr>\n",
       "      <th>bought</th>\n",
       "      <td>-3.752234</td>\n",
       "    </tr>\n",
       "    <tr>\n",
       "      <th>hp</th>\n",
       "      <td>-3.838088</td>\n",
       "    </tr>\n",
       "    <tr>\n",
       "      <th>windows</th>\n",
       "      <td>-4.166755</td>\n",
       "    </tr>\n",
       "    <tr>\n",
       "      <th>sale</th>\n",
       "      <td>-4.584803</td>\n",
       "    </tr>\n",
       "  </tbody>\n",
       "</table>\n",
       "<p>10000 rows × 1 columns</p>\n",
       "</div>"
      ],
      "text/plain": [
       "         sci.space\n",
       "space     3.624901\n",
       "orbit     2.769100\n",
       "earth     2.333266\n",
       "sci       2.289251\n",
       "moon      2.198860\n",
       "...            ...\n",
       "cars     -3.734363\n",
       "bought   -3.752234\n",
       "hp       -3.838088\n",
       "windows  -4.166755\n",
       "sale     -4.584803\n",
       "\n",
       "[10000 rows x 1 columns]"
      ]
     },
     "execution_count": 124,
     "metadata": {},
     "output_type": "execute_result"
    }
   ],
   "source": [
    "weights.sort_values(column, ascending=False)[[column]]"
   ]
  },
  {
   "cell_type": "markdown",
   "id": "changed-hearing",
   "metadata": {},
   "source": [
    "## 다층 신경망 모형"
   ]
  },
  {
   "cell_type": "markdown",
   "id": "pediatric-worship",
   "metadata": {},
   "source": [
    "Dropout 레이어를 넣은 다층신경망 모형이다."
   ]
  },
  {
   "cell_type": "code",
   "execution_count": 126,
   "id": "reduced-greene",
   "metadata": {},
   "outputs": [],
   "source": [
    "model = tf.keras.models.Sequential([\n",
    "    tf.keras.layers.Dense(64, 'relu'), # 은닉층 64개의 출력을 받음\n",
    "    tf.keras.layers.Dropout(0.5),\n",
    "    tf.keras.layers.Dense(64, 'relu'),    \n",
    "    tf.keras.layers.Dropout(0.5),\n",
    "    tf.keras.layers.Dense(20, activation='softmax') # 최종 20개의 출력\n",
    "])"
   ]
  },
  {
   "cell_type": "markdown",
   "id": "reliable-sharing",
   "metadata": {},
   "source": [
    "Batch Normalization 레이어를 넣은 다층신경망 모형이다."
   ]
  },
  {
   "cell_type": "code",
   "execution_count": 127,
   "id": "loaded-spiritual",
   "metadata": {},
   "outputs": [],
   "source": [
    "model = tf.keras.models.Sequential([\n",
    "    tf.keras.layers.Dense(64, 'relu'),\n",
    "    tf.keras.layers.BatchNormalization(),\n",
    "    tf.keras.layers.Dense(64, 'relu'),\n",
    "    tf.keras.layers.BatchNormalization(),\n",
    "    tf.keras.layers.Dense(20, activation='softmax')\n",
    "])"
   ]
  },
  {
   "cell_type": "markdown",
   "id": "tamil-valley",
   "metadata": {},
   "source": [
    "만약 활성화 함수를 적용하기 전에 batch normalization을 적용하려면 다음과 같이 한다."
   ]
  },
  {
   "cell_type": "code",
   "execution_count": 97,
   "id": "original-composition",
   "metadata": {},
   "outputs": [],
   "source": [
    "model = tf.keras.models.Sequential([\n",
    "    tf.keras.layers.Dense(64),\n",
    "    tf.keras.layers.BatchNormalization(),\n",
    "    tf.keras.layers.Activation('relu'), # activation만 하는 layer\n",
    "    tf.keras.layers.Dense(64),\n",
    "    tf.keras.layers.BatchNormalization(),\n",
    "    tf.keras.layers.Activation('relu'),\n",
    "    tf.keras.layers.Dense(20, activation='softmax')\n",
    "])"
   ]
  },
  {
   "cell_type": "markdown",
   "id": "arbitrary-blowing",
   "metadata": {},
   "source": [
    "## sparse_categorical_crossentropy"
   ]
  },
  {
   "cell_type": "markdown",
   "id": "sharing-mexican",
   "metadata": {},
   "source": [
    "텐서플로에서는 원핫인코딩을 하지 않아도 다항분류를 할 수 있다. 먼저 원핫인코딩 되기 이전의 형태로 되돌린다."
   ]
  },
  {
   "cell_type": "code",
   "execution_count": 98,
   "id": "occupied-decrease",
   "metadata": {},
   "outputs": [],
   "source": [
    "import numpy as np"
   ]
  },
  {
   "cell_type": "markdown",
   "id": "fifth-happening",
   "metadata": {},
   "source": [
    "벡터 \n",
    "(\n",
    "0\n",
    ",\n",
    "1\n",
    ",\n",
    "2\n",
    ",\n",
    "⋯\n",
    ",\n",
    "18\n",
    ",\n",
    "19\n",
    ")\n",
    "를 곱하면 각 행에서 1이 있는 위치의 값만 남는다."
   ]
  },
  {
   "cell_type": "code",
   "execution_count": 99,
   "id": "changed-bloom",
   "metadata": {},
   "outputs": [],
   "source": [
    "train_target = y_train @ np.arange(20)"
   ]
  },
  {
   "cell_type": "markdown",
   "id": "official-strength",
   "metadata": {},
   "source": [
    "또는 각 행에서 가장 큰 값의 위치를 찾아도 된다."
   ]
  },
  {
   "cell_type": "code",
   "execution_count": 100,
   "id": "corporate-proposition",
   "metadata": {},
   "outputs": [],
   "source": [
    "train_target = np.argmax(y_train, axis=1)"
   ]
  },
  {
   "cell_type": "markdown",
   "id": "proprietary-transaction",
   "metadata": {},
   "source": [
    "원핫인코딩 이전의 형태로 되돌렸다."
   ]
  },
  {
   "cell_type": "code",
   "execution_count": 101,
   "id": "pending-handle",
   "metadata": {},
   "outputs": [
    {
     "data": {
      "text/plain": [
       "array([ 7,  4,  4,  1, 14], dtype=int64)"
      ]
     },
     "execution_count": 101,
     "metadata": {},
     "output_type": "execute_result"
    }
   ],
   "source": [
    "train_target[:5]"
   ]
  },
  {
   "cell_type": "markdown",
   "id": "smart-advance",
   "metadata": {},
   "source": [
    "손실 함수를 sparse_categorical_crossentropy로 바꾼다."
   ]
  },
  {
   "cell_type": "code",
   "execution_count": 102,
   "id": "cellular-episode",
   "metadata": {},
   "outputs": [],
   "source": [
    "model.compile(\n",
    "    loss='sparse_categorical_crossentropy',\n",
    "    optimizer=tf.keras.optimizers.Adam(lr=0.1),\n",
    "    metrics=['accuracy'])"
   ]
  },
  {
   "cell_type": "markdown",
   "id": "alike-timing",
   "metadata": {},
   "source": [
    "y_train 대신 train_target으로 학습을 진행한다."
   ]
  },
  {
   "cell_type": "code",
   "execution_count": 103,
   "id": "empty-welcome",
   "metadata": {},
   "outputs": [
    {
     "name": "stdout",
     "output_type": "stream",
     "text": [
      "Epoch 1/30\n",
      "319/319 [==============================] - 4s 9ms/step - loss: 1.6131 - accuracy: 0.5373 - val_loss: 0.8124 - val_accuracy: 0.7880\n",
      "Epoch 2/30\n",
      "319/319 [==============================] - 3s 9ms/step - loss: 0.4208 - accuracy: 0.8810 - val_loss: 0.7290 - val_accuracy: 0.8339\n",
      "Epoch 3/30\n",
      "319/319 [==============================] - 3s 8ms/step - loss: 0.2576 - accuracy: 0.9270 - val_loss: 0.8740 - val_accuracy: 0.8145\n"
     ]
    },
    {
     "data": {
      "text/plain": [
       "<tensorflow.python.keras.callbacks.History at 0x20f0d55e130>"
      ]
     },
     "execution_count": 103,
     "metadata": {},
     "output_type": "execute_result"
    }
   ],
   "source": [
    "model.fit(\n",
    "    x_train.toarray(),\n",
    "    train_target,\n",
    "    epochs=30,\n",
    "    validation_split=.1,\n",
    "    callbacks=[tf.keras.callbacks.EarlyStopping(monitor='val_accuracy')],\n",
    ")"
   ]
  },
  {
   "cell_type": "markdown",
   "id": "dominican-pastor",
   "metadata": {},
   "source": [
    "## label smoothing"
   ]
  },
  {
   "cell_type": "markdown",
   "id": "timely-loading",
   "metadata": {},
   "source": [
    "레이블 스무딩을 하는 방법에는 두 가지가 있다. 하나는 데이터를 스무딩된 형태로 바꾸는 것이다."
   ]
  },
  {
   "cell_type": "code",
   "execution_count": 104,
   "id": "applied-robinson",
   "metadata": {},
   "outputs": [],
   "source": [
    "e = 0.2"
   ]
  },
  {
   "cell_type": "code",
   "execution_count": 105,
   "id": "right-alert",
   "metadata": {},
   "outputs": [
    {
     "data": {
      "text/plain": [
       "array([[0.01, 0.01, 0.01, ..., 0.01, 0.01, 0.01],\n",
       "       [0.01, 0.01, 0.01, ..., 0.01, 0.01, 0.01],\n",
       "       [0.01, 0.01, 0.01, ..., 0.01, 0.01, 0.01],\n",
       "       ...,\n",
       "       [0.01, 0.01, 0.01, ..., 0.01, 0.01, 0.01],\n",
       "       [0.01, 0.81, 0.01, ..., 0.01, 0.01, 0.01],\n",
       "       [0.01, 0.01, 0.01, ..., 0.01, 0.01, 0.01]])"
      ]
     },
     "execution_count": 105,
     "metadata": {},
     "output_type": "execute_result"
    }
   ],
   "source": [
    "y_smooth = y_train * (1 - e) + (e / 20)\n",
    "y_smooth"
   ]
  },
  {
   "cell_type": "markdown",
   "id": "consistent-logan",
   "metadata": {},
   "source": [
    "학습을 시킬 때 y_train 대신 y_smooth를 사용하면 된다.\n",
    "\n",
    "또는 손실 함수 CategoricalCrossentropy에서 label_smoothing을 설정해주어도 된다."
   ]
  },
  {
   "cell_type": "code",
   "execution_count": 106,
   "id": "gothic-bangladesh",
   "metadata": {},
   "outputs": [],
   "source": [
    "model.compile(\n",
    "    loss=tf.keras.losses.CategoricalCrossentropy(label_smoothing=0.2),\n",
    "    optimizer='adam',\n",
    "    metrics=['accuracy'])"
   ]
  }
 ],
 "metadata": {
  "kernelspec": {
   "display_name": "Python 3 (ipykernel)",
   "language": "python",
   "name": "python3"
  },
  "language_info": {
   "codemirror_mode": {
    "name": "ipython",
    "version": 3
   },
   "file_extension": ".py",
   "mimetype": "text/x-python",
   "name": "python",
   "nbconvert_exporter": "python",
   "pygments_lexer": "ipython3",
   "version": "3.8.8"
  }
 },
 "nbformat": 4,
 "nbformat_minor": 5
}
