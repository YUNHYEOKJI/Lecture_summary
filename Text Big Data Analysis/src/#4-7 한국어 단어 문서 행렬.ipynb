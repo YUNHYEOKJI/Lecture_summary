{
 "cells": [
  {
   "cell_type": "markdown",
   "id": "arranged-duration",
   "metadata": {},
   "source": [
    "- 한국어 데이터로 단어문서행렬(TDM)을 만들어보자."
   ]
  },
  {
   "cell_type": "markdown",
   "id": "blocked-catch",
   "metadata": {},
   "source": [
    "# 데이터 다운로드"
   ]
  },
  {
   "cell_type": "markdown",
   "id": "revolutionary-newton",
   "metadata": {},
   "source": [
    "- Naver Sentiment Movie Corpus (네이버 영화평) 데이터를 다운로드한다."
   ]
  },
  {
   "cell_type": "code",
   "execution_count": 1,
   "id": "legitimate-spoke",
   "metadata": {},
   "outputs": [],
   "source": [
    "import requests\n",
    "\n",
    "res = requests.get('https://github.com/e9t/nsmc/raw/master/ratings_train.txt')\n",
    "\n",
    "with open('../data/nsmc_train.csv', 'wb') as f:\n",
    "    f.write(res.content)"
   ]
  },
  {
   "cell_type": "markdown",
   "id": "ordered-garden",
   "metadata": {},
   "source": [
    "# 데이터 불러오기"
   ]
  },
  {
   "cell_type": "markdown",
   "id": "subjective-projector",
   "metadata": {},
   "source": [
    "- 다운받은 데이터를 불러들인다."
   ]
  },
  {
   "cell_type": "code",
   "execution_count": 2,
   "id": "rental-physics",
   "metadata": {},
   "outputs": [],
   "source": [
    "import pandas as pd\n",
    "nsmc = pd.read_csv('../data/nsmc_train.csv', sep='\\t')"
   ]
  },
  {
   "cell_type": "markdown",
   "id": "after-uganda",
   "metadata": {},
   "source": [
    "- .head() 명령어로 데이터의 앞부분에 위치한 5개 영화평을 살펴봅니다."
   ]
  },
  {
   "cell_type": "code",
   "execution_count": 3,
   "id": "south-disclosure",
   "metadata": {},
   "outputs": [
    {
     "data": {
      "text/html": [
       "<div>\n",
       "<style scoped>\n",
       "    .dataframe tbody tr th:only-of-type {\n",
       "        vertical-align: middle;\n",
       "    }\n",
       "\n",
       "    .dataframe tbody tr th {\n",
       "        vertical-align: top;\n",
       "    }\n",
       "\n",
       "    .dataframe thead th {\n",
       "        text-align: right;\n",
       "    }\n",
       "</style>\n",
       "<table border=\"1\" class=\"dataframe\">\n",
       "  <thead>\n",
       "    <tr style=\"text-align: right;\">\n",
       "      <th></th>\n",
       "      <th>id</th>\n",
       "      <th>document</th>\n",
       "      <th>label</th>\n",
       "    </tr>\n",
       "  </thead>\n",
       "  <tbody>\n",
       "    <tr>\n",
       "      <th>0</th>\n",
       "      <td>9976970</td>\n",
       "      <td>아 더빙.. 진짜 짜증나네요 목소리</td>\n",
       "      <td>0</td>\n",
       "    </tr>\n",
       "    <tr>\n",
       "      <th>1</th>\n",
       "      <td>3819312</td>\n",
       "      <td>흠...포스터보고 초딩영화줄....오버연기조차 가볍지 않구나</td>\n",
       "      <td>1</td>\n",
       "    </tr>\n",
       "    <tr>\n",
       "      <th>2</th>\n",
       "      <td>10265843</td>\n",
       "      <td>너무재밓었다그래서보는것을추천한다</td>\n",
       "      <td>0</td>\n",
       "    </tr>\n",
       "    <tr>\n",
       "      <th>3</th>\n",
       "      <td>9045019</td>\n",
       "      <td>교도소 이야기구먼 ..솔직히 재미는 없다..평점 조정</td>\n",
       "      <td>0</td>\n",
       "    </tr>\n",
       "    <tr>\n",
       "      <th>4</th>\n",
       "      <td>6483659</td>\n",
       "      <td>사이몬페그의 익살스런 연기가 돋보였던 영화!스파이더맨에서 늙어보이기만 했던 커스틴 ...</td>\n",
       "      <td>1</td>\n",
       "    </tr>\n",
       "  </tbody>\n",
       "</table>\n",
       "</div>"
      ],
      "text/plain": [
       "         id                                           document  label\n",
       "0   9976970                                아 더빙.. 진짜 짜증나네요 목소리      0\n",
       "1   3819312                  흠...포스터보고 초딩영화줄....오버연기조차 가볍지 않구나      1\n",
       "2  10265843                                  너무재밓었다그래서보는것을추천한다      0\n",
       "3   9045019                      교도소 이야기구먼 ..솔직히 재미는 없다..평점 조정      0\n",
       "4   6483659  사이몬페그의 익살스런 연기가 돋보였던 영화!스파이더맨에서 늙어보이기만 했던 커스틴 ...      1"
      ]
     },
     "execution_count": 3,
     "metadata": {},
     "output_type": "execute_result"
    }
   ],
   "source": [
    "nsmc.head()"
   ]
  },
  {
   "cell_type": "markdown",
   "id": "committed-gilbert",
   "metadata": {},
   "source": [
    "# 명사 추출 함수"
   ]
  },
  {
   "cell_type": "markdown",
   "id": "traditional-intranet",
   "metadata": {},
   "source": [
    "- stanza로 이용해 명사만 추출하는 함수를 만든다."
   ]
  },
  {
   "cell_type": "code",
   "execution_count": 4,
   "id": "ambient-forty",
   "metadata": {},
   "outputs": [],
   "source": [
    "import stanza"
   ]
  },
  {
   "cell_type": "code",
   "execution_count": 5,
   "id": "motivated-framing",
   "metadata": {},
   "outputs": [
    {
     "name": "stderr",
     "output_type": "stream",
     "text": [
      "2021-03-26 11:37:05 INFO: Loading these models for language: ko (Korean):\n",
      "=======================\n",
      "| Processor | Package |\n",
      "-----------------------\n",
      "| tokenize  | kaist   |\n",
      "| pos       | kaist   |\n",
      "| lemma     | kaist   |\n",
      "| depparse  | kaist   |\n",
      "=======================\n",
      "\n",
      "2021-03-26 11:37:05 INFO: Use device: gpu\n",
      "2021-03-26 11:37:05 INFO: Loading: tokenize\n",
      "2021-03-26 11:37:09 INFO: Loading: pos\n",
      "2021-03-26 11:37:09 INFO: Loading: lemma\n",
      "2021-03-26 11:37:09 INFO: Loading: depparse\n",
      "2021-03-26 11:37:10 INFO: Done loading processors!\n"
     ]
    }
   ],
   "source": [
    "nlp = stanza.Pipeline('ko')"
   ]
  },
  {
   "cell_type": "code",
   "execution_count": 16,
   "id": "genuine-ministry",
   "metadata": {},
   "outputs": [],
   "source": [
    "text = '교도소 이야기구먼 ..솔직히 재미는 없다..평점 조정'"
   ]
  },
  {
   "cell_type": "code",
   "execution_count": 17,
   "id": "alone-commercial",
   "metadata": {},
   "outputs": [],
   "source": [
    "doc = nlp(text)"
   ]
  },
  {
   "cell_type": "code",
   "execution_count": 18,
   "id": "white-november",
   "metadata": {},
   "outputs": [
    {
     "name": "stdout",
     "output_type": "stream",
     "text": [
      "교도소\n",
      "이야기구먼\n",
      "..솔직히\n",
      "재미\n",
      ".평점\n",
      "조정\n"
     ]
    }
   ],
   "source": [
    "for sentence in doc.sentences:\n",
    "    for word in sentence.words:\n",
    "        lemma = word.lemma.split('+')\n",
    "        xpos = word.xpos.split('+')\n",
    "        for lem, pos in zip(lemma, xpos):\n",
    "            if pos.startswith('n'):\n",
    "                print(lem)"
   ]
  },
  {
   "cell_type": "code",
   "execution_count": 6,
   "id": "varying-utilization",
   "metadata": {},
   "outputs": [],
   "source": [
    "def extract_nouns(text):\n",
    "    doc = nlp(text)\n",
    "    for sentence in doc.sentences:\n",
    "        for word in sentence.words:\n",
    "            lemma = word.lemma.split('+')\n",
    "            xpos = word.xpos.split('+')\n",
    "            for lem, pos in zip(lemma, xpos):\n",
    "                if pos.startswith('n'):\n",
    "                    yield lem"
   ]
  },
  {
   "cell_type": "markdown",
   "id": "decreased-spencer",
   "metadata": {},
   "source": [
    "- nsmc의 3번 행, document 열의 내용을 확인한다."
   ]
  },
  {
   "cell_type": "code",
   "execution_count": 7,
   "id": "viral-thesis",
   "metadata": {},
   "outputs": [
    {
     "data": {
      "text/plain": [
       "'교도소 이야기구먼 ..솔직히 재미는 없다..평점 조정'"
      ]
     },
     "execution_count": 7,
     "metadata": {},
     "output_type": "execute_result"
    }
   ],
   "source": [
    "nsmc.loc[3, 'document']"
   ]
  },
  {
   "cell_type": "markdown",
   "id": "simple-aside",
   "metadata": {},
   "source": [
    "- 위에서 정의한 extract_nouns 함수로 문장에서 명사를 추출해본다."
   ]
  },
  {
   "cell_type": "code",
   "execution_count": 8,
   "id": "matched-basement",
   "metadata": {},
   "outputs": [
    {
     "data": {
      "text/plain": [
       "['교도소', '이야기구먼', '..솔직히', '재미', '.평점', '조정']"
      ]
     },
     "execution_count": 8,
     "metadata": {},
     "output_type": "execute_result"
    }
   ],
   "source": [
    "list(extract_nouns(nsmc.loc[3, 'document']))"
   ]
  },
  {
   "cell_type": "markdown",
   "id": "accredited-techno",
   "metadata": {},
   "source": [
    "# TDM 만들기"
   ]
  },
  {
   "cell_type": "code",
   "execution_count": 9,
   "id": "seeing-parameter",
   "metadata": {},
   "outputs": [],
   "source": [
    "from sklearn.feature_extraction.text import CountVectorizer"
   ]
  },
  {
   "cell_type": "markdown",
   "id": "seven-trademark",
   "metadata": {},
   "source": [
    "- max_features 추출할 단어의 개수는 100개로 설정한다. 이 경우, 빈도 순으로 최대 100 단어까지 포함하게 된다. \n",
    "- tokenizer에 extract_nouns함수를 지정하면, 한국어 명사만 추출하여 TDM을 만든다. 지정을 하지 않으면 빈칸 단위로 구분"
   ]
  },
  {
   "cell_type": "code",
   "execution_count": 10,
   "id": "improving-messaging",
   "metadata": {},
   "outputs": [],
   "source": [
    "cv = CountVectorizer(max_features=100, tokenizer=extract_nouns)"
   ]
  },
  {
   "cell_type": "markdown",
   "id": "coordinate-width",
   "metadata": {},
   "source": [
    "- 101개의 영화평을 대상으로 분석하고, 그 결과를 tdm에 저장한다."
   ]
  },
  {
   "cell_type": "code",
   "execution_count": 11,
   "id": "ignored-cyprus",
   "metadata": {},
   "outputs": [],
   "source": [
    "tdm = cv.fit_transform(nsmc.loc[0:100, 'document']) # loc에서는 100을 포함"
   ]
  },
  {
   "cell_type": "markdown",
   "id": "clinical-constitutional",
   "metadata": {},
   "source": [
    "- tdm.shape로 tdm 결과 형태를 확인한다."
   ]
  },
  {
   "cell_type": "code",
   "execution_count": 12,
   "id": "ignored-trauma",
   "metadata": {},
   "outputs": [
    {
     "data": {
      "text/plain": [
       "(101, 100)"
      ]
     },
     "execution_count": 12,
     "metadata": {},
     "output_type": "execute_result"
    }
   ],
   "source": [
    "tdm.shape"
   ]
  },
  {
   "cell_type": "markdown",
   "id": "exterior-presence",
   "metadata": {},
   "source": [
    "- 단어별 빈도를 표로 정리한다."
   ]
  },
  {
   "cell_type": "code",
   "execution_count": 13,
   "id": "facial-passport",
   "metadata": {},
   "outputs": [],
   "source": [
    "word_count = pd.DataFrame({\n",
    "    '단어': cv.get_feature_names(),\n",
    "    '빈도': tdm.sum(axis=0).flat\n",
    "})"
   ]
  },
  {
   "cell_type": "markdown",
   "id": "balanced-request",
   "metadata": {},
   "source": [
    "- 빈도순으로 정렬하여 확인한다."
   ]
  },
  {
   "cell_type": "code",
   "execution_count": 14,
   "id": "cross-fountain",
   "metadata": {},
   "outputs": [
    {
     "data": {
      "text/html": [
       "<div>\n",
       "<style scoped>\n",
       "    .dataframe tbody tr th:only-of-type {\n",
       "        vertical-align: middle;\n",
       "    }\n",
       "\n",
       "    .dataframe tbody tr th {\n",
       "        vertical-align: top;\n",
       "    }\n",
       "\n",
       "    .dataframe thead th {\n",
       "        text-align: right;\n",
       "    }\n",
       "</style>\n",
       "<table border=\"1\" class=\"dataframe\">\n",
       "  <thead>\n",
       "    <tr style=\"text-align: right;\">\n",
       "      <th></th>\n",
       "      <th>단어</th>\n",
       "      <th>빈도</th>\n",
       "    </tr>\n",
       "  </thead>\n",
       "  <tbody>\n",
       "    <tr>\n",
       "      <th>47</th>\n",
       "      <td>영화</td>\n",
       "      <td>19</td>\n",
       "    </tr>\n",
       "    <tr>\n",
       "      <th>46</th>\n",
       "      <td>연기</td>\n",
       "      <td>6</td>\n",
       "    </tr>\n",
       "    <tr>\n",
       "      <th>49</th>\n",
       "      <td>완전</td>\n",
       "      <td>6</td>\n",
       "    </tr>\n",
       "    <tr>\n",
       "      <th>9</th>\n",
       "      <td>내용</td>\n",
       "      <td>5</td>\n",
       "    </tr>\n",
       "    <tr>\n",
       "      <th>92</th>\n",
       "      <td>진짜</td>\n",
       "      <td>5</td>\n",
       "    </tr>\n",
       "  </tbody>\n",
       "</table>\n",
       "</div>"
      ],
      "text/plain": [
       "    단어  빈도\n",
       "47  영화  19\n",
       "46  연기   6\n",
       "49  완전   6\n",
       "9   내용   5\n",
       "92  진짜   5"
      ]
     },
     "execution_count": 14,
     "metadata": {},
     "output_type": "execute_result"
    }
   ],
   "source": [
    "word_count.sort_values('빈도', ascending=False).head()"
   ]
  },
  {
   "cell_type": "markdown",
   "id": "functional-shelf",
   "metadata": {},
   "source": [
    "- 빈도표를 저장한다."
   ]
  },
  {
   "cell_type": "code",
   "execution_count": 15,
   "id": "appropriate-salem",
   "metadata": {},
   "outputs": [],
   "source": [
    "word_count.to_excel('../data/nsmc-count.xlsx')"
   ]
  }
 ],
 "metadata": {
  "kernelspec": {
   "display_name": "Python3.8_DL",
   "language": "python",
   "name": "dl"
  },
  "language_info": {
   "codemirror_mode": {
    "name": "ipython",
    "version": 3
   },
   "file_extension": ".py",
   "mimetype": "text/x-python",
   "name": "python",
   "nbconvert_exporter": "python",
   "pygments_lexer": "ipython3",
   "version": "3.8.8"
  }
 },
 "nbformat": 4,
 "nbformat_minor": 5
}
