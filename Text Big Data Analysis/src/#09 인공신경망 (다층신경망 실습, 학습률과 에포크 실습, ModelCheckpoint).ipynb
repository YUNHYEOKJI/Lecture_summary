{
 "cells": [
  {
   "cell_type": "markdown",
   "id": "virgin-israel",
   "metadata": {},
   "source": [
    "# 다층신경망 실습"
   ]
  },
  {
   "cell_type": "markdown",
   "id": "naked-howard",
   "metadata": {},
   "source": [
    "## 데이터 열기"
   ]
  },
  {
   "cell_type": "code",
   "execution_count": 1,
   "id": "destroyed-southeast",
   "metadata": {},
   "outputs": [
    {
     "name": "stderr",
     "output_type": "stream",
     "text": [
      "--2021-05-04 16:35:04--  https://github.com/euphoris/datasets/raw/master/imdb.zip\n",
      "Resolving github.com (github.com)... 52.78.231.108\n",
      "Connecting to github.com (github.com)|52.78.231.108|:443... connected.\n",
      "HTTP request sent, awaiting response... 302 Found\n",
      "Location: https://raw.githubusercontent.com/euphoris/datasets/master/imdb.zip [following]\n",
      "--2021-05-04 16:35:05--  https://raw.githubusercontent.com/euphoris/datasets/master/imdb.zip\n",
      "Resolving raw.githubusercontent.com (raw.githubusercontent.com)... 185.199.108.133, 185.199.110.133, 185.199.109.133, ...\n",
      "Connecting to raw.githubusercontent.com (raw.githubusercontent.com)|185.199.108.133|:443... connected.\n",
      "HTTP request sent, awaiting response... 416 Range Not Satisfiable\n",
      "\n",
      "    The file is already fully retrieved; nothing to do.\n",
      "\n"
     ]
    }
   ],
   "source": [
    "!wget -c https://github.com/euphoris/datasets/raw/master/imdb.zip"
   ]
  },
  {
   "cell_type": "code",
   "execution_count": 2,
   "id": "important-comparison",
   "metadata": {},
   "outputs": [
    {
     "data": {
      "text/html": [
       "<div>\n",
       "<style scoped>\n",
       "    .dataframe tbody tr th:only-of-type {\n",
       "        vertical-align: middle;\n",
       "    }\n",
       "\n",
       "    .dataframe tbody tr th {\n",
       "        vertical-align: top;\n",
       "    }\n",
       "\n",
       "    .dataframe thead th {\n",
       "        text-align: right;\n",
       "    }\n",
       "</style>\n",
       "<table border=\"1\" class=\"dataframe\">\n",
       "  <thead>\n",
       "    <tr style=\"text-align: right;\">\n",
       "      <th></th>\n",
       "      <th>review</th>\n",
       "      <th>sentiment</th>\n",
       "    </tr>\n",
       "  </thead>\n",
       "  <tbody>\n",
       "    <tr>\n",
       "      <th>0</th>\n",
       "      <td>A very, very, very slow-moving, aimless movie ...</td>\n",
       "      <td>0</td>\n",
       "    </tr>\n",
       "    <tr>\n",
       "      <th>1</th>\n",
       "      <td>Not sure who was more lost - the flat characte...</td>\n",
       "      <td>0</td>\n",
       "    </tr>\n",
       "    <tr>\n",
       "      <th>2</th>\n",
       "      <td>Attempting artiness with black &amp; white and cle...</td>\n",
       "      <td>0</td>\n",
       "    </tr>\n",
       "    <tr>\n",
       "      <th>3</th>\n",
       "      <td>Very little music or anything to speak of.</td>\n",
       "      <td>0</td>\n",
       "    </tr>\n",
       "    <tr>\n",
       "      <th>4</th>\n",
       "      <td>The best scene in the movie was when Gerardo i...</td>\n",
       "      <td>1</td>\n",
       "    </tr>\n",
       "  </tbody>\n",
       "</table>\n",
       "</div>"
      ],
      "text/plain": [
       "                                              review  sentiment\n",
       "0  A very, very, very slow-moving, aimless movie ...          0\n",
       "1  Not sure who was more lost - the flat characte...          0\n",
       "2  Attempting artiness with black & white and cle...          0\n",
       "3         Very little music or anything to speak of.          0\n",
       "4  The best scene in the movie was when Gerardo i...          1"
      ]
     },
     "execution_count": 2,
     "metadata": {},
     "output_type": "execute_result"
    }
   ],
   "source": [
    "import pandas as pd\n",
    "df = pd.read_csv('../data/imdb.zip')\n",
    "df.head()"
   ]
  },
  {
   "cell_type": "markdown",
   "id": "honest-depression",
   "metadata": {},
   "source": [
    "## 전처리"
   ]
  },
  {
   "cell_type": "code",
   "execution_count": 3,
   "id": "cutting-contributor",
   "metadata": {},
   "outputs": [],
   "source": [
    "from sklearn.feature_extraction.text import TfidfVectorizer\n",
    "cv = TfidfVectorizer(max_features=2000, stop_words='english')\n",
    "m = cv.fit_transform(df.review)"
   ]
  },
  {
   "cell_type": "code",
   "execution_count": 4,
   "id": "empty-transformation",
   "metadata": {},
   "outputs": [
    {
     "data": {
      "text/plain": [
       "(1000, 2000)"
      ]
     },
     "execution_count": 4,
     "metadata": {},
     "output_type": "execute_result"
    }
   ],
   "source": [
    "m.shape"
   ]
  },
  {
   "cell_type": "markdown",
   "id": "induced-invite",
   "metadata": {},
   "source": [
    "## 모형 만들기"
   ]
  },
  {
   "cell_type": "code",
   "execution_count": 5,
   "id": "exact-lancaster",
   "metadata": {},
   "outputs": [],
   "source": [
    "import tensorflow as tf"
   ]
  },
  {
   "cell_type": "markdown",
   "id": "bulgarian-williams",
   "metadata": {},
   "source": [
    "activation에 들어갈 수 있는 값: sigmoid, tanh, relu 등"
   ]
  },
  {
   "cell_type": "code",
   "execution_count": 6,
   "id": "happy-doubt",
   "metadata": {},
   "outputs": [],
   "source": [
    "model = tf.keras.Sequential()\n",
    "model.add(tf.keras.layers.Dense(128, input_shape=(2000,), activation='relu'))  # 은닉층\n",
    "model.add(tf.keras.layers.Dense(1, activation='sigmoid')) # 출력층"
   ]
  },
  {
   "cell_type": "markdown",
   "id": "atmospheric-senegal",
   "metadata": {},
   "source": [
    "input_shape을 설정하면 모형 요약을 볼 수 있음"
   ]
  },
  {
   "cell_type": "code",
   "execution_count": 7,
   "id": "important-tuning",
   "metadata": {},
   "outputs": [
    {
     "name": "stdout",
     "output_type": "stream",
     "text": [
      "Model: \"sequential\"\n",
      "_________________________________________________________________\n",
      "Layer (type)                 Output Shape              Param #   \n",
      "=================================================================\n",
      "dense (Dense)                (None, 128)               256128    \n",
      "_________________________________________________________________\n",
      "dense_1 (Dense)              (None, 1)                 129       \n",
      "=================================================================\n",
      "Total params: 256,257\n",
      "Trainable params: 256,257\n",
      "Non-trainable params: 0\n",
      "_________________________________________________________________\n"
     ]
    }
   ],
   "source": [
    "model.summary()"
   ]
  },
  {
   "cell_type": "markdown",
   "id": "loved-puppy",
   "metadata": {},
   "source": [
    "파라미터 갯수: 입력의 갯수X출력의 갯수 - > 200X128+출력마다절편(128)"
   ]
  },
  {
   "cell_type": "markdown",
   "id": "close-whole",
   "metadata": {},
   "source": [
    "# 학습률과 에포크 실습"
   ]
  },
  {
   "cell_type": "markdown",
   "id": "swedish-impact",
   "metadata": {},
   "source": [
    "## 학습 설정"
   ]
  },
  {
   "cell_type": "code",
   "execution_count": 8,
   "id": "accompanied-customs",
   "metadata": {},
   "outputs": [],
   "source": [
    "model.compile(\n",
    "    optimizer=tf.keras.optimizers.Adam(learning_rate=0.001), # sgd\n",
    "    loss='binary_crossentropy', # 0아니면 1로 예측해야되기 때문\n",
    "    metrics=['accuracy']\n",
    ")"
   ]
  },
  {
   "cell_type": "markdown",
   "id": "medium-lancaster",
   "metadata": {},
   "source": [
    "## 학습"
   ]
  },
  {
   "cell_type": "code",
   "execution_count": 9,
   "id": "referenced-verse",
   "metadata": {},
   "outputs": [],
   "source": [
    "result = model.fit(\n",
    "    m.A, # 텍스트를 문서단어형태로 변환한 것을 압축해제해서 넣어줌\n",
    "    df.sentiment.values, # 예측하고자 하는 것, tensorflow에서 받아줄 수 있는 형태 -> values\n",
    "    epochs=30, \n",
    "    batch_size=32, # 배치사이즈가 작으면 불안정하나, 속도가 빠르다.\n",
    "    validation_split=0.2, # 데이터중 20%는 학습에서 제외하고 평가로 사용\n",
    "    verbose=0)"
   ]
  },
  {
   "cell_type": "code",
   "execution_count": 12,
   "id": "worst-brush",
   "metadata": {},
   "outputs": [
    {
     "data": {
      "text/plain": [
       "{'loss': [0.6882455348968506,\n",
       "  0.6465988755226135,\n",
       "  0.5808761715888977,\n",
       "  0.4817308187484741,\n",
       "  0.3697494566440582,\n",
       "  0.27567410469055176,\n",
       "  0.20836251974105835,\n",
       "  0.16270993649959564,\n",
       "  0.1318272203207016,\n",
       "  0.10860408842563629,\n",
       "  0.0919514074921608,\n",
       "  0.08019457757472992,\n",
       "  0.06976363807916641,\n",
       "  0.06223394721746445,\n",
       "  0.05598905682563782,\n",
       "  0.05054246261715889,\n",
       "  0.04635464772582054,\n",
       "  0.04261044040322304,\n",
       "  0.03942694514989853,\n",
       "  0.036628156900405884,\n",
       "  0.03400588408112526,\n",
       "  0.03204643353819847,\n",
       "  0.030321933329105377,\n",
       "  0.028607001528143883,\n",
       "  0.027378294616937637,\n",
       "  0.025809628888964653,\n",
       "  0.024528000503778458,\n",
       "  0.023740898817777634,\n",
       "  0.02280815877020359,\n",
       "  0.0217294804751873],\n",
       " 'accuracy': [0.5887500047683716,\n",
       "  0.8912500143051147,\n",
       "  0.9474999904632568,\n",
       "  0.9512500166893005,\n",
       "  0.9574999809265137,\n",
       "  0.9612500071525574,\n",
       "  0.9662500023841858,\n",
       "  0.9712499976158142,\n",
       "  0.9775000214576721,\n",
       "  0.9787499904632568,\n",
       "  0.9775000214576721,\n",
       "  0.981249988079071,\n",
       "  0.9850000143051147,\n",
       "  0.9850000143051147,\n",
       "  0.9862499833106995,\n",
       "  0.987500011920929,\n",
       "  0.9887499809265137,\n",
       "  0.9900000095367432,\n",
       "  0.9912499785423279,\n",
       "  0.9925000071525574,\n",
       "  0.9937499761581421,\n",
       "  0.9937499761581421,\n",
       "  0.9937499761581421,\n",
       "  0.9937499761581421,\n",
       "  0.9937499761581421,\n",
       "  0.9950000047683716,\n",
       "  0.9950000047683716,\n",
       "  0.9937499761581421,\n",
       "  0.9937499761581421,\n",
       "  0.9950000047683716],\n",
       " 'val_loss': [0.683826208114624,\n",
       "  0.662605881690979,\n",
       "  0.6238052845001221,\n",
       "  0.5627145171165466,\n",
       "  0.5144760012626648,\n",
       "  0.484275221824646,\n",
       "  0.4537663161754608,\n",
       "  0.45228055119514465,\n",
       "  0.44329315423965454,\n",
       "  0.4453043043613434,\n",
       "  0.44087228178977966,\n",
       "  0.44158434867858887,\n",
       "  0.45035773515701294,\n",
       "  0.44719263911247253,\n",
       "  0.4546198546886444,\n",
       "  0.46142876148223877,\n",
       "  0.4670286476612091,\n",
       "  0.4676116108894348,\n",
       "  0.46876010298728943,\n",
       "  0.48378121852874756,\n",
       "  0.47997719049453735,\n",
       "  0.4853664040565491,\n",
       "  0.4876350462436676,\n",
       "  0.4993152618408203,\n",
       "  0.5002104043960571,\n",
       "  0.5022872090339661,\n",
       "  0.5115491151809692,\n",
       "  0.5070992708206177,\n",
       "  0.5285942554473877,\n",
       "  0.5183480978012085],\n",
       " 'val_accuracy': [0.6000000238418579,\n",
       "  0.6800000071525574,\n",
       "  0.7250000238418579,\n",
       "  0.7900000214576721,\n",
       "  0.7699999809265137,\n",
       "  0.7649999856948853,\n",
       "  0.7850000262260437,\n",
       "  0.7649999856948853,\n",
       "  0.7799999713897705,\n",
       "  0.7749999761581421,\n",
       "  0.7799999713897705,\n",
       "  0.7850000262260437,\n",
       "  0.7799999713897705,\n",
       "  0.7950000166893005,\n",
       "  0.7900000214576721,\n",
       "  0.7900000214576721,\n",
       "  0.7850000262260437,\n",
       "  0.7950000166893005,\n",
       "  0.7900000214576721,\n",
       "  0.7699999809265137,\n",
       "  0.7900000214576721,\n",
       "  0.7799999713897705,\n",
       "  0.7900000214576721,\n",
       "  0.7799999713897705,\n",
       "  0.7799999713897705,\n",
       "  0.7900000214576721,\n",
       "  0.7850000262260437,\n",
       "  0.7900000214576721,\n",
       "  0.7799999713897705,\n",
       "  0.7950000166893005]}"
      ]
     },
     "execution_count": 12,
     "metadata": {},
     "output_type": "execute_result"
    }
   ],
   "source": [
    "result.history"
   ]
  },
  {
   "cell_type": "markdown",
   "id": "middle-simulation",
   "metadata": {},
   "source": [
    "## 에포크에 따른 변화"
   ]
  },
  {
   "cell_type": "markdown",
   "id": "owned-salvation",
   "metadata": {},
   "source": [
    "정확도"
   ]
  },
  {
   "cell_type": "code",
   "execution_count": 10,
   "id": "atmospheric-arnold",
   "metadata": {},
   "outputs": [
    {
     "data": {
      "text/plain": [
       "<matplotlib.legend.Legend at 0x237633a1ca0>"
      ]
     },
     "execution_count": 10,
     "metadata": {},
     "output_type": "execute_result"
    },
    {
     "data": {
      "image/png": "[encoded data removed]",
      "text/plain": [
       "<Figure size 432x288 with 1 Axes>"
      ]
     },
     "metadata": {
      "needs_background": "light"
     },
     "output_type": "display_data"
    }
   ],
   "source": [
    "import matplotlib.pyplot as plt\n",
    "plt.plot(result.history['accuracy'], 'b-', label='accuracy')\n",
    "plt.plot(result.history['val_accuracy'], 'r--', label='val_accuracy')\n",
    "plt.legend()"
   ]
  },
  {
   "cell_type": "markdown",
   "id": "cosmetic-novel",
   "metadata": {},
   "source": [
    "손실(교차 엔트로피)"
   ]
  },
  {
   "cell_type": "code",
   "execution_count": 11,
   "id": "sunrise-heath",
   "metadata": {},
   "outputs": [
    {
     "data": {
      "text/plain": [
       "<matplotlib.legend.Legend at 0x2376347f670>"
      ]
     },
     "execution_count": 11,
     "metadata": {},
     "output_type": "execute_result"
    },
    {
     "data": {
      "image/png": "[encoded data removed]",
      "text/plain": [
       "<Figure size 432x288 with 1 Axes>"
      ]
     },
     "metadata": {
      "needs_background": "light"
     },
     "output_type": "display_data"
    }
   ],
   "source": [
    "plt.plot(result.history['loss'], 'b-', label='loss')\n",
    "plt.plot(result.history['val_loss'], 'r--', label='val_loss')\n",
    "plt.legend()"
   ]
  },
  {
   "cell_type": "markdown",
   "id": "original-raising",
   "metadata": {},
   "source": [
    "# ModelCheckpoint"
   ]
  },
  {
   "cell_type": "markdown",
   "id": "frank-appraisal",
   "metadata": {},
   "source": [
    "체크포인트 설정"
   ]
  },
  {
   "cell_type": "code",
   "execution_count": 13,
   "id": "current-relay",
   "metadata": {},
   "outputs": [],
   "source": [
    "checkpoint = tf.keras.callbacks.ModelCheckpoint(\n",
    "    filepath='model-{epoch:02d}', # 두자리 수로 출력 ex) 01,02,03...\n",
    "    monitor='val_loss', # val_loss를 기준으로\n",
    "    save_best_only=True) # 가장 마지막에 저장된 것이 베스트"
   ]
  },
  {
   "cell_type": "markdown",
   "id": "spatial-giant",
   "metadata": {},
   "source": [
    "학습"
   ]
  },
  {
   "cell_type": "code",
   "execution_count": 14,
   "id": "through-spanish",
   "metadata": {},
   "outputs": [
    {
     "name": "stdout",
     "output_type": "stream",
     "text": [
      "Epoch 1/30\n",
      "25/25 [==============================] - 0s 10ms/step - loss: 0.0205 - accuracy: 0.9950 - val_loss: 0.5183 - val_accuracy: 0.7900\n",
      "INFO:tensorflow:Assets written to: model-01\\assets\n",
      "Epoch 2/30\n",
      "25/25 [==============================] - 0s 6ms/step - loss: 0.0199 - accuracy: 0.9950 - val_loss: 0.5312 - val_accuracy: 0.7950\n",
      "Epoch 3/30\n",
      "25/25 [==============================] - 0s 5ms/step - loss: 0.0194 - accuracy: 0.9950 - val_loss: 0.5377 - val_accuracy: 0.7950\n",
      "Epoch 4/30\n",
      "25/25 [==============================] - 0s 6ms/step - loss: 0.0183 - accuracy: 0.9962 - val_loss: 0.5384 - val_accuracy: 0.7950\n",
      "Epoch 5/30\n",
      "25/25 [==============================] - 0s 6ms/step - loss: 0.0179 - accuracy: 0.9962 - val_loss: 0.5387 - val_accuracy: 0.7950\n",
      "Epoch 6/30\n",
      "25/25 [==============================] - 0s 5ms/step - loss: 0.0175 - accuracy: 0.9962 - val_loss: 0.5594 - val_accuracy: 0.7800\n",
      "Epoch 7/30\n",
      "25/25 [==============================] - 0s 5ms/step - loss: 0.0168 - accuracy: 0.9962 - val_loss: 0.5450 - val_accuracy: 0.7950\n",
      "Epoch 8/30\n",
      "25/25 [==============================] - 0s 5ms/step - loss: 0.0162 - accuracy: 0.9962 - val_loss: 0.5486 - val_accuracy: 0.7950\n",
      "Epoch 9/30\n",
      "25/25 [==============================] - 0s 5ms/step - loss: 0.0159 - accuracy: 0.9950 - val_loss: 0.5608 - val_accuracy: 0.7900\n",
      "Epoch 10/30\n",
      "25/25 [==============================] - 0s 5ms/step - loss: 0.0152 - accuracy: 0.9962 - val_loss: 0.5581 - val_accuracy: 0.7950\n",
      "Epoch 11/30\n",
      "25/25 [==============================] - 0s 5ms/step - loss: 0.0150 - accuracy: 0.9962 - val_loss: 0.5649 - val_accuracy: 0.7900\n",
      "Epoch 12/30\n",
      "25/25 [==============================] - 0s 5ms/step - loss: 0.0149 - accuracy: 0.9950 - val_loss: 0.5702 - val_accuracy: 0.7900\n",
      "Epoch 13/30\n",
      "25/25 [==============================] - 0s 5ms/step - loss: 0.0141 - accuracy: 0.9950 - val_loss: 0.5687 - val_accuracy: 0.7900\n",
      "Epoch 14/30\n",
      "25/25 [==============================] - 0s 5ms/step - loss: 0.0139 - accuracy: 0.9962 - val_loss: 0.5710 - val_accuracy: 0.7900\n",
      "Epoch 15/30\n",
      "25/25 [==============================] - 0s 5ms/step - loss: 0.0136 - accuracy: 0.9950 - val_loss: 0.5857 - val_accuracy: 0.7900\n",
      "Epoch 16/30\n",
      "25/25 [==============================] - 0s 5ms/step - loss: 0.0131 - accuracy: 0.9962 - val_loss: 0.5808 - val_accuracy: 0.7900\n",
      "Epoch 17/30\n",
      "25/25 [==============================] - 0s 5ms/step - loss: 0.0127 - accuracy: 0.9962 - val_loss: 0.5932 - val_accuracy: 0.7850\n",
      "Epoch 18/30\n",
      "25/25 [==============================] - 0s 5ms/step - loss: 0.0127 - accuracy: 0.9962 - val_loss: 0.5886 - val_accuracy: 0.7900\n",
      "Epoch 19/30\n",
      "25/25 [==============================] - 0s 5ms/step - loss: 0.0125 - accuracy: 0.9950 - val_loss: 0.5938 - val_accuracy: 0.7850\n",
      "Epoch 20/30\n",
      "25/25 [==============================] - 0s 5ms/step - loss: 0.0123 - accuracy: 0.9962 - val_loss: 0.6065 - val_accuracy: 0.7850\n",
      "Epoch 21/30\n",
      "25/25 [==============================] - 0s 5ms/step - loss: 0.0118 - accuracy: 0.9950 - val_loss: 0.5946 - val_accuracy: 0.7900\n",
      "Epoch 22/30\n",
      "25/25 [==============================] - 0s 5ms/step - loss: 0.0117 - accuracy: 0.9950 - val_loss: 0.6094 - val_accuracy: 0.7800\n",
      "Epoch 23/30\n",
      "25/25 [==============================] - 0s 5ms/step - loss: 0.0116 - accuracy: 0.9962 - val_loss: 0.6177 - val_accuracy: 0.7800\n",
      "Epoch 24/30\n",
      "25/25 [==============================] - 0s 5ms/step - loss: 0.0113 - accuracy: 0.9962 - val_loss: 0.6109 - val_accuracy: 0.7800\n",
      "Epoch 25/30\n",
      "25/25 [==============================] - 0s 5ms/step - loss: 0.0111 - accuracy: 0.9950 - val_loss: 0.6166 - val_accuracy: 0.7800\n",
      "Epoch 26/30\n",
      "25/25 [==============================] - 0s 5ms/step - loss: 0.0107 - accuracy: 0.9962 - val_loss: 0.6229 - val_accuracy: 0.7800\n",
      "Epoch 27/30\n",
      "25/25 [==============================] - 0s 5ms/step - loss: 0.0106 - accuracy: 0.9950 - val_loss: 0.6257 - val_accuracy: 0.7800\n",
      "Epoch 28/30\n",
      "25/25 [==============================] - 0s 5ms/step - loss: 0.0104 - accuracy: 0.9962 - val_loss: 0.6277 - val_accuracy: 0.7800\n",
      "Epoch 29/30\n",
      "25/25 [==============================] - 0s 5ms/step - loss: 0.0103 - accuracy: 0.9962 - val_loss: 0.6298 - val_accuracy: 0.7800\n",
      "Epoch 30/30\n",
      "25/25 [==============================] - 0s 5ms/step - loss: 0.0103 - accuracy: 0.9950 - val_loss: 0.6381 - val_accuracy: 0.7800\n"
     ]
    },
    {
     "data": {
      "text/plain": [
       "<tensorflow.python.keras.callbacks.History at 0x2360bed75b0>"
      ]
     },
     "execution_count": 14,
     "metadata": {},
     "output_type": "execute_result"
    }
   ],
   "source": [
    "model.fit(\n",
    "    m.A, \n",
    "    df.sentiment.values, \n",
    "    epochs=30, \n",
    "    batch_size=32, \n",
    "    validation_split=0.2, \n",
    "    callbacks=[checkpoint])"
   ]
  },
  {
   "cell_type": "markdown",
   "id": "close-pottery",
   "metadata": {},
   "source": [
    "가장 마지막으로 저장된 버전"
   ]
  },
  {
   "cell_type": "code",
   "execution_count": 15,
   "id": "serious-argument",
   "metadata": {},
   "outputs": [],
   "source": [
    "import glob\n",
    "name = sorted(glob.glob('model-*'))[-1] # 제일 마지막으로 저장된 것이 좋은 것"
   ]
  },
  {
   "cell_type": "markdown",
   "id": "champion-nickel",
   "metadata": {},
   "source": [
    "모형 불러오기"
   ]
  },
  {
   "cell_type": "code",
   "execution_count": 16,
   "id": "banner-proxy",
   "metadata": {},
   "outputs": [],
   "source": [
    "model = tf.keras.models.load_model(name)"
   ]
  }
 ],
 "metadata": {
  "kernelspec": {
   "display_name": "Python3.8_DL",
   "language": "python",
   "name": "dl"
  },
  "language_info": {
   "codemirror_mode": {
    "name": "ipython",
    "version": 3
   },
   "file_extension": ".py",
   "mimetype": "text/x-python",
   "name": "python",
   "nbconvert_exporter": "python",
   "pygments_lexer": "ipython3",
   "version": "3.8.8"
  }
 },
 "nbformat": 4,
 "nbformat_minor": 5
}
