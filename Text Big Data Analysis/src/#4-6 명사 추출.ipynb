{
 "cells": [
  {
   "cell_type": "markdown",
   "id": "thermal-mixture",
   "metadata": {},
   "source": [
    "- 한국어 텍스트에서 명사만 추출해보자.\n",
    "- 형태소 분석을 해 볼 예시 문장은 다음과 같다."
   ]
  },
  {
   "cell_type": "code",
   "execution_count": 1,
   "id": "heated-chair",
   "metadata": {},
   "outputs": [],
   "source": [
    "import stanza"
   ]
  },
  {
   "cell_type": "code",
   "execution_count": 2,
   "id": "hungry-charm",
   "metadata": {},
   "outputs": [
    {
     "name": "stderr",
     "output_type": "stream",
     "text": [
      "2021-03-26 11:28:00 INFO: Loading these models for language: ko (Korean):\n",
      "=======================\n",
      "| Processor | Package |\n",
      "-----------------------\n",
      "| tokenize  | kaist   |\n",
      "| pos       | kaist   |\n",
      "| lemma     | kaist   |\n",
      "| depparse  | kaist   |\n",
      "=======================\n",
      "\n",
      "2021-03-26 11:28:00 INFO: Use device: gpu\n",
      "2021-03-26 11:28:00 INFO: Loading: tokenize\n",
      "2021-03-26 11:28:03 INFO: Loading: pos\n",
      "2021-03-26 11:28:04 INFO: Loading: lemma\n",
      "2021-03-26 11:28:04 INFO: Loading: depparse\n",
      "2021-03-26 11:28:04 INFO: Done loading processors!\n"
     ]
    }
   ],
   "source": [
    "nlp = stanza.Pipeline('ko')"
   ]
  },
  {
   "cell_type": "code",
   "execution_count": 3,
   "id": "floppy-civilization",
   "metadata": {},
   "outputs": [],
   "source": [
    "text = '오늘 커피를 마셨다.'"
   ]
  },
  {
   "cell_type": "code",
   "execution_count": 4,
   "id": "expanded-overhead",
   "metadata": {},
   "outputs": [],
   "source": [
    "doc = nlp(text)"
   ]
  },
  {
   "cell_type": "code",
   "execution_count": 6,
   "id": "dense-cassette",
   "metadata": {
    "scrolled": true
   },
   "outputs": [
    {
     "data": {
      "text/plain": [
       "[\n",
       "  [\n",
       "    {\n",
       "      \"id\": 1,\n",
       "      \"text\": \"오늘\",\n",
       "      \"lemma\": \"오늘\",\n",
       "      \"upos\": \"NOUN\",\n",
       "      \"xpos\": \"ncn\",\n",
       "      \"head\": 3,\n",
       "      \"deprel\": \"advmod\",\n",
       "      \"misc\": \"start_char=0|end_char=2\"\n",
       "    },\n",
       "    {\n",
       "      \"id\": 2,\n",
       "      \"text\": \"커피를\",\n",
       "      \"lemma\": \"커피+를\",\n",
       "      \"upos\": \"NOUN\",\n",
       "      \"xpos\": \"ncn+jco\",\n",
       "      \"head\": 3,\n",
       "      \"deprel\": \"obj\",\n",
       "      \"misc\": \"start_char=3|end_char=6\"\n",
       "    },\n",
       "    {\n",
       "      \"id\": 3,\n",
       "      \"text\": \"마셨다\",\n",
       "      \"lemma\": \"마시+었+다\",\n",
       "      \"upos\": \"VERB\",\n",
       "      \"xpos\": \"pvg+ep+ef\",\n",
       "      \"head\": 0,\n",
       "      \"deprel\": \"root\",\n",
       "      \"misc\": \"start_char=7|end_char=10\"\n",
       "    },\n",
       "    {\n",
       "      \"id\": 4,\n",
       "      \"text\": \".\",\n",
       "      \"lemma\": \".\",\n",
       "      \"upos\": \"PUNCT\",\n",
       "      \"xpos\": \"sf\",\n",
       "      \"head\": 3,\n",
       "      \"deprel\": \"punct\",\n",
       "      \"misc\": \"start_char=10|end_char=11\"\n",
       "    }\n",
       "  ]\n",
       "]"
      ]
     },
     "execution_count": 6,
     "metadata": {},
     "output_type": "execute_result"
    }
   ],
   "source": [
    "doc"
   ]
  },
  {
   "cell_type": "code",
   "execution_count": 10,
   "id": "charged-whole",
   "metadata": {},
   "outputs": [
    {
     "name": "stdout",
     "output_type": "stream",
     "text": [
      "오늘 ncn\n",
      "커피 ncn\n",
      "를 jco\n",
      "마시 pvg\n",
      "었 ep\n",
      "다 ef\n",
      ". sf\n"
     ]
    }
   ],
   "source": [
    "for sentence in doc.sentences:\n",
    "    for word in sentence.words:\n",
    "        lemma = word.lemma.split('+')\n",
    "        xpos = word.xpos.split('+')\n",
    "\n",
    "        for tok, pos in zip(lemma, xpos):\n",
    "                print(tok,pos)"
   ]
  },
  {
   "cell_type": "markdown",
   "id": "hired-voluntary",
   "metadata": {},
   "source": [
    "- 명사 표시는 n으로 시작하므로 해당하는 형태소만 출력한다."
   ]
  },
  {
   "cell_type": "code",
   "execution_count": 13,
   "id": "pharmaceutical-cleaner",
   "metadata": {},
   "outputs": [
    {
     "name": "stdout",
     "output_type": "stream",
     "text": [
      "오늘 ncn\n",
      "커피 ncn\n"
     ]
    }
   ],
   "source": [
    "for sentence in doc.sentences:\n",
    "    for word in sentence.words:\n",
    "        lemma = word.lemma.split('+')\n",
    "        xpos = word.xpos.split('+')\n",
    "\n",
    "        for tok, pos in zip(lemma, xpos):\n",
    "            if pos[0] == 'n':\n",
    "                print(tok,pos)"
   ]
  },
  {
   "cell_type": "code",
   "execution_count": 14,
   "id": "protective-segment",
   "metadata": {},
   "outputs": [
    {
     "name": "stdout",
     "output_type": "stream",
     "text": [
      "오늘\n",
      "커피\n"
     ]
    }
   ],
   "source": [
    "for word in doc.sentences[0].words:\n",
    "    lemma = word.lemma.split('+')\n",
    "    xpos = word.xpos.split('+')\n",
    "\n",
    "    for tok, pos in zip(lemma, xpos):\n",
    "        if pos.startswith('n'):\n",
    "            print(tok)"
   ]
  },
  {
   "cell_type": "markdown",
   "id": "efficient-matter",
   "metadata": {},
   "source": [
    "- 문장을 넣으면 명사를 추출하는 함수 extract_noun을 아래와 같이 정의합니다."
   ]
  },
  {
   "cell_type": "code",
   "execution_count": null,
   "id": "juvenile-findings",
   "metadata": {},
   "outputs": [],
   "source": [
    "def extract_noun(text):\n",
    "    doc = nlp(text)\n",
    "    nouns=[]\n",
    "    for sentence in doc.sentences:\n",
    "        for word in sentence.words:\n",
    "            lemma = word.lemma.split('+')\n",
    "            xpos = word.xpos.split('+')\n",
    "            for tok, pos in zip(lemma, xpos):\n",
    "                if pos.startswith('n'):\n",
    "                    nouns.append(tok)\n",
    "    return nouns"
   ]
  },
  {
   "cell_type": "code",
   "execution_count": 15,
   "id": "dying-power",
   "metadata": {},
   "outputs": [],
   "source": [
    "def extract_noun(text):\n",
    "    doc = nlp(text)\n",
    "    for sentence in doc.sentences:\n",
    "        for word in sentence.words:\n",
    "            lemma = word.lemma.split('+')\n",
    "            xpos = word.xpos.split('+')\n",
    "            for tok, pos in zip(lemma, xpos):\n",
    "                if pos.startswith('n'):\n",
    "                    yield tok"
   ]
  },
  {
   "cell_type": "markdown",
   "id": "finite-passion",
   "metadata": {},
   "source": [
    "- extract_noun 함수에 문장을 넣으면 명사가 추출됩니다. 여러 문장을 넣어서, 명사가 추출되는지 확인합니다."
   ]
  },
  {
   "cell_type": "code",
   "execution_count": 16,
   "id": "controlled-object",
   "metadata": {},
   "outputs": [
    {
     "data": {
      "text/plain": [
       "['편의점', '커피']"
      ]
     },
     "execution_count": 16,
     "metadata": {},
     "output_type": "execute_result"
    }
   ],
   "source": [
    "list(extract_noun('편의점에서 커피를 샀다.'))"
   ]
  },
  {
   "cell_type": "code",
   "execution_count": 17,
   "id": "serial-corpus",
   "metadata": {},
   "outputs": [
    {
     "data": {
      "text/plain": [
       "['토끼', '당근']"
      ]
     },
     "execution_count": 17,
     "metadata": {},
     "output_type": "execute_result"
    }
   ],
   "source": [
    "list(extract_noun('토끼는 당근을 좋아할까?'))"
   ]
  }
 ],
 "metadata": {
  "kernelspec": {
   "display_name": "Python3.8_DL",
   "language": "python",
   "name": "dl"
  },
  "language_info": {
   "codemirror_mode": {
    "name": "ipython",
    "version": 3
   },
   "file_extension": ".py",
   "mimetype": "text/x-python",
   "name": "python",
   "nbconvert_exporter": "python",
   "pygments_lexer": "ipython3",
   "version": "3.8.8"
  }
 },
 "nbformat": 4,
 "nbformat_minor": 5
}
