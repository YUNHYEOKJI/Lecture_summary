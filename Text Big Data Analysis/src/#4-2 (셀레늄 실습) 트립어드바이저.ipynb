{
 "cells": [
  {
   "cell_type": "markdown",
   "id": "referenced-label",
   "metadata": {},
   "source": [
    "- 셀레늄으로 트립어드바이저의 리뷰를 크롤링한다.\n",
    "\n",
    "- url 변수에 크롤링 대상이 되는 웹페이지 주소를 저장한다."
   ]
  },
  {
   "cell_type": "code",
   "execution_count": 1,
   "id": "south-genetics",
   "metadata": {},
   "outputs": [],
   "source": [
    "url = 'https://www.tripadvisor.co.kr/Restaurant_Review-g294197-d1371740-Reviews-Mugyodong_Bugeokukjib-Seoul.html'"
   ]
  },
  {
   "cell_type": "code",
   "execution_count": 2,
   "id": "advisory-young",
   "metadata": {},
   "outputs": [],
   "source": [
    "import requests\n",
    "import lxml.html"
   ]
  },
  {
   "cell_type": "code",
   "execution_count": 3,
   "id": "eleven-plasma",
   "metadata": {},
   "outputs": [],
   "source": [
    "res = requests.get(url)"
   ]
  },
  {
   "cell_type": "code",
   "execution_count": 4,
   "id": "rotary-stationery",
   "metadata": {},
   "outputs": [],
   "source": [
    "root = lxml.html.fromstring(res.text)"
   ]
  },
  {
   "cell_type": "code",
   "execution_count": 5,
   "id": "colored-paste",
   "metadata": {},
   "outputs": [
    {
     "name": "stdout",
     "output_type": "stream",
     "text": [
      "사골곰탕 같은 하얀 국물에 북어가 푸짐하게 들어 있네요. \n",
      "\n",
      "맛집으로  식사시간 ...때 항상 사람이 줄 서 있습니다. 서비스도 괜찮은데 식사시간  때는  피해야 할 것 같습니다.더 보기\n",
      "사람이 너무 많기 때문에 편하게 먹기는 불편하다 간단하게 식사하고  싶을때 찾으면... 될듯 너무 큰 기대는 하지 않음이 좋겠다더 보기\n",
      "서울의 중심가에 위치한 오래되고 전통적인 식당으로서 숙취 해소 및 겨울철에 얼은 ...몸을 녹여주는 진한 북어의 사골국과 같은 탕으로 최고지요^^더 보기\n",
      "뽀얀 북어국에 부추 듬북 넣고 밥 말아서 오이장아찌 무친것과 먹으면 해장 끝^^ ...더 이상 말이 필요 없다. 리뷰 볼것 없이 그냥 방문해도 엄지 척~더 보기\n",
      "언제나 왁자지껄 손님이 많지만 손님응대에 소홀함이 없는 단련된 홀서빙 아주머니와 ...아저씨들. 세월에 따른 맛의 변화가 없이 늘 같은 퀄리티를 보여주는 음식도 놀라움.더 보기\n",
      "담백하고 깔끔한 북어국의 맛을 느낄수 있는 곳입니다. 단일 메뉴라 자리에 앉으면 ...바로 음식을 내어주셔서 빠르게 식사를 할 수 있어 좋습니다. 점심시간엔 거의 자리가 없어서 살짝 피크시간을 피해서 가시면 더 좋지만 회전율이 빨라서 금방 자리가 나기는 합니다.더 보기\n",
      "원래도 인기가 많은 곳이었지만, 지금은 관광객도 많습니다. 다만 관광객분들이 북엇...국의 맛을 정말로 알고 오시는지는 잘 모르겠습니다. 전날 마신 술의 해장을 확실하게 할 수 있는 좋은 식당입니다.더 보기\n",
      "술 마신 다음날 숙취에는 최고입니다.\n",
      "\n",
      "부드러운 북어살과 푸짐한 계란에 고소한 북...어향, 참기름 향이 입맛을 돋구고 불편해진 속을 편항하게 다스려 줍니다.\n",
      "\n",
      "유명 음식점인데도 불구하고 매우 친절하면 고기나 국물도 무한 리필되어 인심도 후한 집입니다.더 보기\n",
      "50년 된 북어국집 기본적으로 긴줄은 거쳐야 먹을 수 있다 단 회전율이 좋아 오래... 기다리지는 않는다 맛있는 북어국을 먹을 수 있다더 보기\n",
      "음식 맛이 훌륭합니다. 리필도 해주고 밑반찬과 메인의 어울림이 좋습니다.\n",
      "줄을 서...는 사람들을 위해 뭔가 좀 더 케어가 있으면 좋을 것 같습니다.더 보기\n"
     ]
    }
   ],
   "source": [
    "for review in root.cssselect('.partial_entry'):\n",
    "    print(review.text_content()) \n",
    "# 이러한 방식으로는 더보기가 보이지 않음."
   ]
  },
  {
   "cell_type": "markdown",
   "id": "younger-blowing",
   "metadata": {},
   "source": [
    "- 셀레늄으로 웹 브라우저를 띄우고 주소로 이동한다."
   ]
  },
  {
   "cell_type": "code",
   "execution_count": 6,
   "id": "sacred-catholic",
   "metadata": {},
   "outputs": [],
   "source": [
    "from selenium.webdriver import Chrome\n",
    "\n",
    "browser = Chrome()\n",
    "browser.get(url)"
   ]
  },
  {
   "cell_type": "markdown",
   "id": "fluid-killing",
   "metadata": {},
   "source": [
    "# '더보기' 링크 찾기"
   ]
  },
  {
   "cell_type": "markdown",
   "id": "straight-owner",
   "metadata": {},
   "source": [
    "- find_elements_by_css_selector로 '더보기' 버튼에 해당하는 링크를 찾는다.\n",
    "- 여기서 매우 비슷한 이름의 메소드가 2개 있다. find_element_by_css_selector와 find_elements_by_css_selector이다. 전자는 선택자와 일치하는 첫번째 요소를 발견한다. 후자는 모든 요소를 발견한다.\n",
    "- 아래와 같이 더보기 버튼에 해당하는 모든 링크를 찾는다."
   ]
  },
  {
   "cell_type": "code",
   "execution_count": 7,
   "id": "significant-chart",
   "metadata": {},
   "outputs": [],
   "source": [
    "more_links = browser.find_elements_by_css_selector('.taLnk.ulBlueLinks')"
   ]
  },
  {
   "cell_type": "code",
   "execution_count": 8,
   "id": "premium-insulation",
   "metadata": {},
   "outputs": [
    {
     "data": {
      "text/plain": [
       "[<selenium.webdriver.remote.webelement.WebElement (session=\"14caf4cae3124e6cffda0a127b7f7ff2\", element=\"1aa417b3-66d4-49e1-88d7-049027e2db1d\")>,\n",
       " <selenium.webdriver.remote.webelement.WebElement (session=\"14caf4cae3124e6cffda0a127b7f7ff2\", element=\"f8538409-7800-4d08-a293-9e762f90df80\")>,\n",
       " <selenium.webdriver.remote.webelement.WebElement (session=\"14caf4cae3124e6cffda0a127b7f7ff2\", element=\"12955996-b63d-4278-93c6-7ca960612802\")>,\n",
       " <selenium.webdriver.remote.webelement.WebElement (session=\"14caf4cae3124e6cffda0a127b7f7ff2\", element=\"c11e347c-7e6c-4053-9bce-cdd770e277ec\")>,\n",
       " <selenium.webdriver.remote.webelement.WebElement (session=\"14caf4cae3124e6cffda0a127b7f7ff2\", element=\"5d245b0a-3c41-4ee6-bcc9-a5af1ddc45c6\")>,\n",
       " <selenium.webdriver.remote.webelement.WebElement (session=\"14caf4cae3124e6cffda0a127b7f7ff2\", element=\"18d2231a-80ad-438c-bf29-fed4bffb6395\")>,\n",
       " <selenium.webdriver.remote.webelement.WebElement (session=\"14caf4cae3124e6cffda0a127b7f7ff2\", element=\"c442ab0d-9ba4-454e-8fcf-51cc30c67747\")>,\n",
       " <selenium.webdriver.remote.webelement.WebElement (session=\"14caf4cae3124e6cffda0a127b7f7ff2\", element=\"991a505a-25fb-4cd3-b1cb-2b7d2c0b5d4c\")>,\n",
       " <selenium.webdriver.remote.webelement.WebElement (session=\"14caf4cae3124e6cffda0a127b7f7ff2\", element=\"a8d086fb-be58-47e9-acc0-0828755ee674\")>,\n",
       " <selenium.webdriver.remote.webelement.WebElement (session=\"14caf4cae3124e6cffda0a127b7f7ff2\", element=\"7588afa9-b9cf-4d77-94be-2bc96cf0a835\")>]"
      ]
     },
     "execution_count": 8,
     "metadata": {},
     "output_type": "execute_result"
    }
   ],
   "source": [
    "more_links # more_links[0] -> element"
   ]
  },
  {
   "cell_type": "markdown",
   "id": "rubber-ballet",
   "metadata": {},
   "source": [
    "# 클릭"
   ]
  },
  {
   "cell_type": "markdown",
   "id": "general-bobby",
   "metadata": {},
   "source": [
    "- .click 메소드로 요소를 클릭할 수 있다."
   ]
  },
  {
   "cell_type": "code",
   "execution_count": 9,
   "id": "recreational-hundred",
   "metadata": {},
   "outputs": [],
   "source": [
    "more_links[0].click()"
   ]
  },
  {
   "cell_type": "markdown",
   "id": "rental-objective",
   "metadata": {},
   "source": [
    "# 리뷰 텍스트 수집"
   ]
  },
  {
   "cell_type": "markdown",
   "id": "trying-declaration",
   "metadata": {},
   "source": [
    "- 리뷰 텍스트 요소를 선택한다."
   ]
  },
  {
   "cell_type": "code",
   "execution_count": 10,
   "id": "violent-ecuador",
   "metadata": {},
   "outputs": [],
   "source": [
    "reviews = browser.find_elements_by_css_selector('.partial_entry')"
   ]
  },
  {
   "cell_type": "markdown",
   "id": "elder-victor",
   "metadata": {},
   "source": [
    "- .text로 리뷰 텍스트를 확인합니다. 이는 lxml.html의 .text_content()와 동일합니다."
   ]
  },
  {
   "cell_type": "code",
   "execution_count": 11,
   "id": "bronze-acting",
   "metadata": {},
   "outputs": [
    {
     "name": "stdout",
     "output_type": "stream",
     "text": [
      "사골곰탕 같은 하얀 국물에 북어가 푸짐하게 들어 있네요.\n",
      "\n",
      "맛집으로 식사시간 때 항상 사람이 줄 서 있습니다. 서비스도 괜찮은데 식사시간 때는 피해야 할 것 같습니다.\n",
      "사람이 너무 많기 때문에 편하게 먹기는 불편하다 간단하게 식사하고 싶을때 찾으면 될듯 너무 큰 기대는 하지 않음이 좋겠다\n",
      "서울의 중심가에 위치한 오래되고 전통적인 식당으로서 숙취 해소 및 겨울철에 얼은 몸을 녹여주는 진한 북어의 사골국과 같은 탕으로 최고지요^^\n",
      "뽀얀 북어국에 부추 듬북 넣고 밥 말아서 오이장아찌 무친것과 먹으면 해장 끝^^ 더 이상 말이 필요 없다. 리뷰 볼것 없이 그냥 방문해도 엄지 척~\n",
      "언제나 왁자지껄 손님이 많지만 손님응대에 소홀함이 없는 단련된 홀서빙 아주머니와 아저씨들. 세월에 따른 맛의 변화가 없이 늘 같은 퀄리티를 보여주는 음식도 놀라움.\n",
      "담백하고 깔끔한 북어국의 맛을 느낄수 있는 곳입니다. 단일 메뉴라 자리에 앉으면 바로 음식을 내어주셔서 빠르게 식사를 할 수 있어 좋습니다. 점심시간엔 거의 자리가 없어서 살짝 피크시간을 피해서 가시면 더 좋지만 회전율이 빨라서 금방 자리가 나기는 합니다.\n",
      "원래도 인기가 많은 곳이었지만, 지금은 관광객도 많습니다. 다만 관광객분들이 북엇국의 맛을 정말로 알고 오시는지는 잘 모르겠습니다. 전날 마신 술의 해장을 확실하게 할 수 있는 좋은 식당입니다.\n",
      "술 마신 다음날 숙취에는 최고입니다.\n",
      "\n",
      "부드러운 북어살과 푸짐한 계란에 고소한 북어향, 참기름 향이 입맛을 돋구고 불편해진 속을 편항하게 다스려 줍니다.\n",
      "\n",
      "유명 음식점인데도 불구하고 매우 친절하면 고기나 국물도 무한 리필되어 인심도 후한 집입니다.\n",
      "50년 된 북어국집 기본적으로 긴줄은 거쳐야 먹을 수 있다 단 회전율이 좋아 오래 기다리지는 않는다 맛있는 북어국을 먹을 수 있다\n",
      "음식 맛이 훌륭합니다. 리필도 해주고 밑반찬과 메인의 어울림이 좋습니다.\n",
      "줄을 서는 사람들을 위해 뭔가 좀 더 케어가 있으면 좋을 것 같습니다.\n"
     ]
    }
   ],
   "source": [
    "for review in reviews:\n",
    "    print(review.text)"
   ]
  }
 ],
 "metadata": {
  "kernelspec": {
   "display_name": "Python3.8_DL",
   "language": "python",
   "name": "dl"
  },
  "language_info": {
   "codemirror_mode": {
    "name": "ipython",
    "version": 3
   },
   "file_extension": ".py",
   "mimetype": "text/x-python",
   "name": "python",
   "nbconvert_exporter": "python",
   "pygments_lexer": "ipython3",
   "version": "3.8.8"
  }
 },
 "nbformat": 4,
 "nbformat_minor": 5
}
