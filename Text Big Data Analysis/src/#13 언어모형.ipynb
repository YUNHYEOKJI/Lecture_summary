{
 "cells": [
  {
   "cell_type": "markdown",
   "id": "supreme-determination",
   "metadata": {},
   "source": [
    "# 신경망 언어모형 실습: Tokenizer"
   ]
  },
  {
   "cell_type": "markdown",
   "id": "macro-short",
   "metadata": {},
   "source": [
    "## 데이터 받기"
   ]
  },
  {
   "cell_type": "markdown",
   "id": "restricted-studio",
   "metadata": {},
   "source": [
    "imdb.zip을 다운로드 받는다."
   ]
  },
  {
   "cell_type": "code",
   "execution_count": 1,
   "id": "second-recognition",
   "metadata": {},
   "outputs": [],
   "source": [
    "import requests\n",
    "\n",
    "res = requests.get('https://github.com/euphoris/datasets/raw/master/imdb.zip')\n",
    "\n",
    "with open('../data/imdb.zip', 'wb') as f:\n",
    "    f.write(res.content)"
   ]
  },
  {
   "cell_type": "code",
   "execution_count": 1,
   "id": "opening-evaluation",
   "metadata": {},
   "outputs": [],
   "source": [
    "import pandas as pd\n",
    "df = pd.read_csv('../data/imdb.zip')"
   ]
  },
  {
   "cell_type": "code",
   "execution_count": 2,
   "id": "angry-remainder",
   "metadata": {},
   "outputs": [
    {
     "data": {
      "text/html": [
       "<div>\n",
       "<style scoped>\n",
       "    .dataframe tbody tr th:only-of-type {\n",
       "        vertical-align: middle;\n",
       "    }\n",
       "\n",
       "    .dataframe tbody tr th {\n",
       "        vertical-align: top;\n",
       "    }\n",
       "\n",
       "    .dataframe thead th {\n",
       "        text-align: right;\n",
       "    }\n",
       "</style>\n",
       "<table border=\"1\" class=\"dataframe\">\n",
       "  <thead>\n",
       "    <tr style=\"text-align: right;\">\n",
       "      <th></th>\n",
       "      <th>review</th>\n",
       "      <th>sentiment</th>\n",
       "    </tr>\n",
       "  </thead>\n",
       "  <tbody>\n",
       "    <tr>\n",
       "      <th>0</th>\n",
       "      <td>A very, very, very slow-moving, aimless movie ...</td>\n",
       "      <td>0</td>\n",
       "    </tr>\n",
       "    <tr>\n",
       "      <th>1</th>\n",
       "      <td>Not sure who was more lost - the flat characte...</td>\n",
       "      <td>0</td>\n",
       "    </tr>\n",
       "    <tr>\n",
       "      <th>2</th>\n",
       "      <td>Attempting artiness with black &amp; white and cle...</td>\n",
       "      <td>0</td>\n",
       "    </tr>\n",
       "    <tr>\n",
       "      <th>3</th>\n",
       "      <td>Very little music or anything to speak of.</td>\n",
       "      <td>0</td>\n",
       "    </tr>\n",
       "    <tr>\n",
       "      <th>4</th>\n",
       "      <td>The best scene in the movie was when Gerardo i...</td>\n",
       "      <td>1</td>\n",
       "    </tr>\n",
       "  </tbody>\n",
       "</table>\n",
       "</div>"
      ],
      "text/plain": [
       "                                              review  sentiment\n",
       "0  A very, very, very slow-moving, aimless movie ...          0\n",
       "1  Not sure who was more lost - the flat characte...          0\n",
       "2  Attempting artiness with black & white and cle...          0\n",
       "3         Very little music or anything to speak of.          0\n",
       "4  The best scene in the movie was when Gerardo i...          1"
      ]
     },
     "execution_count": 2,
     "metadata": {},
     "output_type": "execute_result"
    }
   ],
   "source": [
    "df.head()"
   ]
  },
  {
   "cell_type": "markdown",
   "id": "eight-concord",
   "metadata": {},
   "source": [
    "## 토큰화"
   ]
  },
  {
   "cell_type": "markdown",
   "id": "proof-interval",
   "metadata": {},
   "source": [
    "텐서플로의 Tokenizer를 사용한다."
   ]
  },
  {
   "cell_type": "code",
   "execution_count": 3,
   "id": "commercial-chemistry",
   "metadata": {},
   "outputs": [],
   "source": [
    "import tensorflow as tf"
   ]
  },
  {
   "cell_type": "markdown",
   "id": "absent-switch",
   "metadata": {},
   "source": [
    "상위 2000개의 단어까지만 번호로 변환하고 나머지는 unk로 취급한다."
   ]
  },
  {
   "cell_type": "code",
   "execution_count": 4,
   "id": "solar-longitude",
   "metadata": {},
   "outputs": [],
   "source": [
    "tk = tf.keras.preprocessing.text.Tokenizer(num_words=2000, oov_token='<unk>')"
   ]
  },
  {
   "cell_type": "markdown",
   "id": "variable-tattoo",
   "metadata": {},
   "source": [
    "단어에 번호를 붙인다."
   ]
  },
  {
   "cell_type": "code",
   "execution_count": 5,
   "id": "current-jonathan",
   "metadata": {},
   "outputs": [],
   "source": [
    "tk.fit_on_texts(df['review'])"
   ]
  },
  {
   "cell_type": "code",
   "execution_count": 6,
   "id": "indirect-boulder",
   "metadata": {},
   "outputs": [
    {
     "data": {
      "text/plain": [
       "{'<unk>': 1,\n",
       " 'the': 2,\n",
       " 'and': 3,\n",
       " 'a': 4,\n",
       " 'of': 5,\n",
       " 'is': 6,\n",
       " 'this': 7,\n",
       " 'i': 8,\n",
       " 'it': 9,\n",
       " 'to': 10,\n",
       " 'in': 11,\n",
       " 'was': 12,\n",
       " 'movie': 13,\n",
       " 'film': 14,\n",
       " 'that': 15,\n",
       " 'for': 16,\n",
       " 'as': 17,\n",
       " 'but': 18,\n",
       " 'with': 19,\n",
       " 'one': 20,\n",
       " 'on': 21,\n",
       " 'you': 22,\n",
       " 'are': 23,\n",
       " 'not': 24,\n",
       " 'bad': 25,\n",
       " \"it's\": 26,\n",
       " 'very': 27,\n",
       " 'all': 28,\n",
       " 'just': 29,\n",
       " 'so': 30,\n",
       " 'good': 31,\n",
       " 'at': 32,\n",
       " 'an': 33,\n",
       " 'be': 34,\n",
       " 'there': 35,\n",
       " 'about': 36,\n",
       " 'have': 37,\n",
       " 'by': 38,\n",
       " 'like': 39,\n",
       " 'from': 40,\n",
       " 'if': 41,\n",
       " 'acting': 42,\n",
       " 'time': 43,\n",
       " 'out': 44,\n",
       " 'his': 45,\n",
       " 'or': 46,\n",
       " 'really': 47,\n",
       " 'great': 48,\n",
       " 'even': 49,\n",
       " 'he': 50,\n",
       " 'who': 51,\n",
       " 'were': 52,\n",
       " 'has': 53,\n",
       " 'see': 54,\n",
       " 'my': 55,\n",
       " 'characters': 56,\n",
       " 'well': 57,\n",
       " 'most': 58,\n",
       " 'how': 59,\n",
       " 'more': 60,\n",
       " 'no': 61,\n",
       " 'only': 62,\n",
       " 'when': 63,\n",
       " 'ever': 64,\n",
       " '10': 65,\n",
       " 'movies': 66,\n",
       " 'plot': 67,\n",
       " 'story': 68,\n",
       " 'made': 69,\n",
       " 'some': 70,\n",
       " 'they': 71,\n",
       " 'best': 72,\n",
       " 'because': 73,\n",
       " 'your': 74,\n",
       " 'can': 75,\n",
       " 'also': 76,\n",
       " \"don't\": 77,\n",
       " 'films': 78,\n",
       " 'than': 79,\n",
       " 'its': 80,\n",
       " 'script': 81,\n",
       " 'other': 82,\n",
       " 'character': 83,\n",
       " 'would': 84,\n",
       " 'seen': 85,\n",
       " 'way': 86,\n",
       " 'love': 87,\n",
       " 'make': 88,\n",
       " \"didn't\": 89,\n",
       " 'do': 90,\n",
       " 'me': 91,\n",
       " 'watching': 92,\n",
       " 'her': 93,\n",
       " 'which': 94,\n",
       " 'what': 95,\n",
       " 'up': 96,\n",
       " 'any': 97,\n",
       " 'think': 98,\n",
       " 'real': 99,\n",
       " 'could': 100,\n",
       " 'will': 101,\n",
       " 'had': 102,\n",
       " 'every': 103,\n",
       " 'much': 104,\n",
       " 'work': 105,\n",
       " 'too': 106,\n",
       " 'look': 107,\n",
       " 'funny': 108,\n",
       " 'scenes': 109,\n",
       " 'actors': 110,\n",
       " 'better': 111,\n",
       " 'over': 112,\n",
       " 'cast': 113,\n",
       " 'never': 114,\n",
       " 'wonderful': 115,\n",
       " 'little': 116,\n",
       " 'them': 117,\n",
       " 'into': 118,\n",
       " 'watch': 119,\n",
       " 'show': 120,\n",
       " 'everything': 121,\n",
       " 'excellent': 122,\n",
       " 'anyone': 123,\n",
       " 'their': 124,\n",
       " 'totally': 125,\n",
       " 'both': 126,\n",
       " 'here': 127,\n",
       " 'music': 128,\n",
       " 'scene': 129,\n",
       " 'waste': 130,\n",
       " 'people': 131,\n",
       " 'screen': 132,\n",
       " 'go': 133,\n",
       " 'years': 134,\n",
       " 'nothing': 135,\n",
       " 'stupid': 136,\n",
       " 'awful': 137,\n",
       " 'get': 138,\n",
       " 'know': 139,\n",
       " 'still': 140,\n",
       " 'many': 141,\n",
       " 'man': 142,\n",
       " 'art': 143,\n",
       " 'two': 144,\n",
       " 'right': 145,\n",
       " 'say': 146,\n",
       " 'recommend': 147,\n",
       " 'dialogue': 148,\n",
       " 'worth': 149,\n",
       " 'writing': 150,\n",
       " 'pretty': 151,\n",
       " 'after': 152,\n",
       " 'thing': 153,\n",
       " 'again': 154,\n",
       " 'saw': 155,\n",
       " 'thought': 156,\n",
       " 'those': 157,\n",
       " 'life': 158,\n",
       " 'line': 159,\n",
       " \"doesn't\": 160,\n",
       " 'things': 161,\n",
       " 'interesting': 162,\n",
       " 'been': 163,\n",
       " 'such': 164,\n",
       " 'terrible': 165,\n",
       " 'performance': 166,\n",
       " 'being': 167,\n",
       " 'enough': 168,\n",
       " 'beautiful': 169,\n",
       " 'short': 170,\n",
       " 'part': 171,\n",
       " 'did': 172,\n",
       " 'give': 173,\n",
       " \"can't\": 174,\n",
       " 'worst': 175,\n",
       " \"i've\": 176,\n",
       " 'though': 177,\n",
       " 'first': 178,\n",
       " 'ending': 179,\n",
       " 'should': 180,\n",
       " 'end': 181,\n",
       " 'worse': 182,\n",
       " 'she': 183,\n",
       " 'camera': 184,\n",
       " 'find': 185,\n",
       " 'through': 186,\n",
       " 'predictable': 187,\n",
       " 'loved': 188,\n",
       " 'cinematography': 189,\n",
       " 'quite': 190,\n",
       " 'simply': 191,\n",
       " 'actually': 192,\n",
       " \"i'm\": 193,\n",
       " 'actor': 194,\n",
       " 'feeling': 195,\n",
       " 'now': 196,\n",
       " 'liked': 197,\n",
       " 'piece': 198,\n",
       " 'big': 199,\n",
       " 'going': 200,\n",
       " 'played': 201,\n",
       " 'boring': 202,\n",
       " 'however': 203,\n",
       " 'director': 204,\n",
       " 'between': 205,\n",
       " 'highly': 206,\n",
       " 'off': 207,\n",
       " 'drama': 208,\n",
       " 'black': 209,\n",
       " 'almost': 210,\n",
       " 'lot': 211,\n",
       " 'directing': 212,\n",
       " 'does': 213,\n",
       " 'game': 214,\n",
       " 'play': 215,\n",
       " 'least': 216,\n",
       " 'effects': 217,\n",
       " \"that's\": 218,\n",
       " 'enjoyed': 219,\n",
       " 'absolutely': 220,\n",
       " 'these': 221,\n",
       " 'amazing': 222,\n",
       " 'horror': 223,\n",
       " 'definitely': 224,\n",
       " 'understand': 225,\n",
       " 'watched': 226,\n",
       " 'truly': 227,\n",
       " 'job': 228,\n",
       " 'whole': 229,\n",
       " 'we': 230,\n",
       " 'am': 231,\n",
       " 'special': 232,\n",
       " 'white': 233,\n",
       " 'anything': 234,\n",
       " 'kids': 235,\n",
       " 'long': 236,\n",
       " 'cinema': 237,\n",
       " 'where': 238,\n",
       " 'certainly': 239,\n",
       " 'series': 240,\n",
       " 'kind': 241,\n",
       " 'tv': 242,\n",
       " 'found': 243,\n",
       " 'suspense': 244,\n",
       " 'especially': 245,\n",
       " 'myself': 246,\n",
       " 'then': 247,\n",
       " 'fact': 248,\n",
       " 'believe': 249,\n",
       " 'minutes': 250,\n",
       " \"there's\": 251,\n",
       " 'probably': 252,\n",
       " 'got': 253,\n",
       " 'used': 254,\n",
       " 'done': 255,\n",
       " 'old': 256,\n",
       " 'makes': 257,\n",
       " 'mess': 258,\n",
       " 'avoid': 259,\n",
       " 'sucks': 260,\n",
       " 'lines': 261,\n",
       " 'wasted': 262,\n",
       " 'cool': 263,\n",
       " 'budget': 264,\n",
       " 'together': 265,\n",
       " 'far': 266,\n",
       " \"wasn't\": 267,\n",
       " 'written': 268,\n",
       " 'another': 269,\n",
       " 'playing': 270,\n",
       " 'must': 271,\n",
       " '1': 272,\n",
       " 'experience': 273,\n",
       " 'sucked': 274,\n",
       " 'self': 275,\n",
       " 'john': 276,\n",
       " 'action': 277,\n",
       " 'cheap': 278,\n",
       " 'subtle': 279,\n",
       " 'everyone': 280,\n",
       " 'our': 281,\n",
       " 'around': 282,\n",
       " 'each': 283,\n",
       " 'top': 284,\n",
       " 'garbage': 285,\n",
       " 'comedy': 286,\n",
       " 'slow': 287,\n",
       " 'half': 288,\n",
       " 'disappointed': 289,\n",
       " 'poor': 290,\n",
       " 'lacks': 291,\n",
       " 'casting': 292,\n",
       " 'hilarious': 293,\n",
       " 'editing': 294,\n",
       " 'making': 295,\n",
       " 'perfect': 296,\n",
       " 'history': 297,\n",
       " 'rather': 298,\n",
       " 'money': 299,\n",
       " 'crap': 300,\n",
       " 'flick': 301,\n",
       " 'take': 302,\n",
       " 'family': 303,\n",
       " 'entire': 304,\n",
       " 'whatever': 305,\n",
       " 'having': 306,\n",
       " 'performances': 307,\n",
       " 'believable': 308,\n",
       " 'portrayal': 309,\n",
       " 'annoying': 310,\n",
       " 'gives': 311,\n",
       " 'want': 312,\n",
       " 'classic': 313,\n",
       " 'nice': 314,\n",
       " \"i'd\": 315,\n",
       " 'brilliant': 316,\n",
       " 'rent': 317,\n",
       " 'world': 318,\n",
       " 'why': 319,\n",
       " 'horrible': 320,\n",
       " 'few': 321,\n",
       " 'sound': 322,\n",
       " 'incredible': 323,\n",
       " 'him': 324,\n",
       " 'own': 325,\n",
       " 'mostly': 326,\n",
       " 'holes': 327,\n",
       " 'use': 328,\n",
       " 'human': 329,\n",
       " 'memorable': 330,\n",
       " 'seeing': 331,\n",
       " 'gets': 332,\n",
       " 'throughout': 333,\n",
       " 'second': 334,\n",
       " 'style': 335,\n",
       " 'recommended': 336,\n",
       " 'audience': 337,\n",
       " 'clever': 338,\n",
       " 'ridiculous': 339,\n",
       " 'non': 340,\n",
       " 'works': 341,\n",
       " 'guess': 342,\n",
       " 'bit': 343,\n",
       " 'face': 344,\n",
       " 'low': 345,\n",
       " 'since': 346,\n",
       " 'single': 347,\n",
       " 'put': 348,\n",
       " 'production': 349,\n",
       " '\\x96': 350,\n",
       " 'mind': 351,\n",
       " 'amount': 352,\n",
       " 'strong': 353,\n",
       " 'fun': 354,\n",
       " 'enjoy': 355,\n",
       " 'lame': 356,\n",
       " 'away': 357,\n",
       " 'girl': 358,\n",
       " 'tom': 359,\n",
       " 'often': 360,\n",
       " 'word': 361,\n",
       " 'overall': 362,\n",
       " 'gave': 363,\n",
       " 'terrific': 364,\n",
       " 'same': 365,\n",
       " 'hour': 366,\n",
       " 'joy': 367,\n",
       " 'before': 368,\n",
       " 'oh': 369,\n",
       " 'night': 370,\n",
       " \"couldn't\": 371,\n",
       " 'direction': 372,\n",
       " 'cult': 373,\n",
       " 'times': 374,\n",
       " 'beyond': 375,\n",
       " 'lead': 376,\n",
       " 'silent': 377,\n",
       " 'hitchcock': 378,\n",
       " 'thriller': 379,\n",
       " 'new': 380,\n",
       " 'full': 381,\n",
       " 'completely': 382,\n",
       " 'pathetic': 383,\n",
       " 'talk': 384,\n",
       " 'care': 385,\n",
       " 'fails': 386,\n",
       " 'yet': 387,\n",
       " 'said': 388,\n",
       " 'fans': 389,\n",
       " 'solid': 390,\n",
       " 'felt': 391,\n",
       " 'child': 392,\n",
       " 'day': 393,\n",
       " 'started': 394,\n",
       " 'shot': 395,\n",
       " 'mention': 396,\n",
       " 'year': 397,\n",
       " 'different': 398,\n",
       " 'involved': 399,\n",
       " 'period': 400,\n",
       " \"won't\": 401,\n",
       " 'particularly': 402,\n",
       " 'come': 403,\n",
       " 'superb': 404,\n",
       " 'fine': 405,\n",
       " 'fast': 406,\n",
       " 'moving': 407,\n",
       " 'young': 408,\n",
       " 'lost': 409,\n",
       " 'trying': 410,\n",
       " 'song': 411,\n",
       " 'rest': 412,\n",
       " 'hours': 413,\n",
       " 'adorable': 414,\n",
       " 'songs': 415,\n",
       " 'consider': 416,\n",
       " 'tale': 417,\n",
       " \"i'll\": 418,\n",
       " 'true': 419,\n",
       " 'easily': 420,\n",
       " 'something': 421,\n",
       " 'minute': 422,\n",
       " 'level': 423,\n",
       " 'idea': 424,\n",
       " 'mediocre': 425,\n",
       " 'pg': 426,\n",
       " 'point': 427,\n",
       " 'itself': 428,\n",
       " 'perhaps': 429,\n",
       " 'glad': 430,\n",
       " 'lovely': 431,\n",
       " 'hard': 432,\n",
       " '2': 433,\n",
       " 'let': 434,\n",
       " 'utterly': 435,\n",
       " 'convincing': 436,\n",
       " 'book': 437,\n",
       " 'whether': 438,\n",
       " \"they're\": 439,\n",
       " 'follow': 440,\n",
       " 'energy': 441,\n",
       " 'generally': 442,\n",
       " 'pretentious': 443,\n",
       " 'occasionally': 444,\n",
       " 'try': 445,\n",
       " 'extremely': 446,\n",
       " 'back': 447,\n",
       " 'maybe': 448,\n",
       " 'sometimes': 449,\n",
       " 'during': 450,\n",
       " 'chemistry': 451,\n",
       " 'last': 452,\n",
       " 'unfortunately': 453,\n",
       " 'depth': 454,\n",
       " 'imagination': 455,\n",
       " 'barely': 456,\n",
       " 'storyline': 457,\n",
       " 'keep': 458,\n",
       " 'already': 459,\n",
       " 'attempt': 460,\n",
       " 'down': 461,\n",
       " 'mean': 462,\n",
       " 'us': 463,\n",
       " 'without': 464,\n",
       " 'torture': 465,\n",
       " 'premise': 466,\n",
       " 'seem': 467,\n",
       " 'ups': 468,\n",
       " 'age': 469,\n",
       " 'ray': 470,\n",
       " 'usual': 471,\n",
       " 'living': 472,\n",
       " 'themselves': 473,\n",
       " 'else': 474,\n",
       " 'tell': 475,\n",
       " 'visual': 476,\n",
       " 'plain': 477,\n",
       " 'soundtrack': 478,\n",
       " 'trash': 479,\n",
       " 'came': 480,\n",
       " 'either': 481,\n",
       " 'less': 482,\n",
       " 'hope': 483,\n",
       " 'eyes': 484,\n",
       " 'indeed': 485,\n",
       " 'theater': 486,\n",
       " 'rating': 487,\n",
       " 'three': 488,\n",
       " 'huge': 489,\n",
       " 'intelligence': 490,\n",
       " 'intelligent': 491,\n",
       " 'entertaining': 492,\n",
       " 'bored': 493,\n",
       " 'become': 494,\n",
       " 'roles': 495,\n",
       " 'drago': 496,\n",
       " 'looked': 497,\n",
       " 'parts': 498,\n",
       " 'sets': 499,\n",
       " 'stories': 500,\n",
       " 'created': 501,\n",
       " 'role': 502,\n",
       " 'scamp': 503,\n",
       " 'comes': 504,\n",
       " 'place': 505,\n",
       " 'star': 506,\n",
       " 'always': 507,\n",
       " 'insult': 508,\n",
       " 'death': 509,\n",
       " 'may': 510,\n",
       " 'expect': 511,\n",
       " 'serious': 512,\n",
       " 'original': 513,\n",
       " 'james': 514,\n",
       " 'unbelievable': 515,\n",
       " 'costs': 516,\n",
       " 'small': 517,\n",
       " 'dance': 518,\n",
       " 'beginning': 519,\n",
       " 'appreciate': 520,\n",
       " 'easy': 521,\n",
       " 'sure': 522,\n",
       " 'speak': 523,\n",
       " 'head': 524,\n",
       " 'meaning': 525,\n",
       " 'today': 526,\n",
       " 'showed': 527,\n",
       " 'delivers': 528,\n",
       " 'average': 529,\n",
       " 'main': 530,\n",
       " 'greatest': 531,\n",
       " 'gem': 532,\n",
       " 'sea': 533,\n",
       " 'faux': 534,\n",
       " 'important': 535,\n",
       " 'words': 536,\n",
       " 'yes': 537,\n",
       " 'significant': 538,\n",
       " 'picture': 539,\n",
       " 'graphics': 540,\n",
       " 'massive': 541,\n",
       " 'pure': 542,\n",
       " 'brilliance': 543,\n",
       " 'complete': 544,\n",
       " 'while': 545,\n",
       " 'moment': 546,\n",
       " 'told': 547,\n",
       " 'talented': 548,\n",
       " 'stars': 549,\n",
       " 'hill': 550,\n",
       " 'ed': 551,\n",
       " 'quality': 552,\n",
       " 'obviously': 553,\n",
       " 'addition': 554,\n",
       " 'grace': 555,\n",
       " 'negative': 556,\n",
       " 'pointless': 557,\n",
       " 'children': 558,\n",
       " \"wouldn't\": 559,\n",
       " 'dialog': 560,\n",
       " 'shots': 561,\n",
       " \"aren't\": 562,\n",
       " 'given': 563,\n",
       " 'provoking': 564,\n",
       " 'plus': 565,\n",
       " 'paced': 566,\n",
       " 'wind': 567,\n",
       " 'lion': 568,\n",
       " 'acted': 569,\n",
       " 'decent': 570,\n",
       " 'checking': 571,\n",
       " 'touching': 572,\n",
       " 'looking': 573,\n",
       " 'including': 574,\n",
       " 'embarrassing': 575,\n",
       " 'scenery': 576,\n",
       " 'house': 577,\n",
       " 'wish': 578,\n",
       " 'along': 579,\n",
       " 'happened': 580,\n",
       " 'seems': 581,\n",
       " 'mature': 582,\n",
       " 'episode': 583,\n",
       " 'remake': 584,\n",
       " 'fear': 585,\n",
       " 'nobody': 586,\n",
       " 'conflict': 587,\n",
       " 'incredibly': 588,\n",
       " 'possible': 589,\n",
       " 'whatsoever': 590,\n",
       " 'stereotypes': 591,\n",
       " 'cartoon': 592,\n",
       " 'paul': 593,\n",
       " 'women': 594,\n",
       " 'brain': 595,\n",
       " 'left': 596,\n",
       " 'features': 597,\n",
       " 'presents': 598,\n",
       " 'free': 599,\n",
       " 'screenwriter': 600,\n",
       " 'close': 601,\n",
       " 'seemed': 602,\n",
       " \"you'll\": 603,\n",
       " 'indulgent': 604,\n",
       " 'spent': 605,\n",
       " \"isn't\": 606,\n",
       " 'charles': 607,\n",
       " 'remember': 608,\n",
       " 'working': 609,\n",
       " 'attention': 610,\n",
       " 'singing': 611,\n",
       " 'etc': 612,\n",
       " 'bore': 613,\n",
       " 'dancing': 614,\n",
       " 'dvd': 615,\n",
       " 'might': 616,\n",
       " 'theme': 617,\n",
       " 'aerial': 618,\n",
       " 'interest': 619,\n",
       " 'narrative': 620,\n",
       " 'actress': 621,\n",
       " 'called': 622,\n",
       " 'spoilers': 623,\n",
       " 'stunning': 624,\n",
       " 'fx': 625,\n",
       " 'note': 626,\n",
       " 'surprisingly': 627,\n",
       " 'released': 628,\n",
       " 'ranks': 629,\n",
       " 'journey': 630,\n",
       " 'location': 631,\n",
       " 'thoroughly': 632,\n",
       " 'turn': 633,\n",
       " 'memories': 634,\n",
       " 'places': 635,\n",
       " 'billy': 636,\n",
       " 'possibly': 637,\n",
       " 'trilogy': 638,\n",
       " 'favourite': 639,\n",
       " 'awesome': 640,\n",
       " 'earlier': 641,\n",
       " 'directed': 642,\n",
       " 'someone': 643,\n",
       " 'sense': 644,\n",
       " 'games': 645,\n",
       " 'genuine': 646,\n",
       " 'smart': 647,\n",
       " \"haven't\": 648,\n",
       " 'particular': 649,\n",
       " 'stage': 650,\n",
       " 'next': 651,\n",
       " '8': 652,\n",
       " 'super': 653,\n",
       " 'wonderfully': 654,\n",
       " 'actresses': 655,\n",
       " 'exactly': 656,\n",
       " 'shows': 657,\n",
       " 'drive': 658,\n",
       " 'scared': 659,\n",
       " 'enjoyable': 660,\n",
       " 'bought': 661,\n",
       " '90': 662,\n",
       " 'god': 663,\n",
       " 'effective': 664,\n",
       " 'set': 665,\n",
       " 'learn': 666,\n",
       " 'values': 667,\n",
       " 'photography': 668,\n",
       " 'ruthless': 669,\n",
       " 'although': 670,\n",
       " 'war': 671,\n",
       " 'type': 672,\n",
       " 'example': 673,\n",
       " 'feel': 674,\n",
       " 'seriously': 675,\n",
       " 'ready': 676,\n",
       " 'fan': 677,\n",
       " 'angel': 678,\n",
       " 'under': 679,\n",
       " 'coming': 680,\n",
       " '20': 681,\n",
       " 'charming': 682,\n",
       " 'clichés': 683,\n",
       " 'thrown': 684,\n",
       " 'reason': 685,\n",
       " 'scale': 686,\n",
       " 'problems': 687,\n",
       " 'score': 688,\n",
       " 'frightening': 689,\n",
       " 'oscar': 690,\n",
       " 'knew': 691,\n",
       " 'lots': 692,\n",
       " 'space': 693,\n",
       " 'footage': 694,\n",
       " 'course': 695,\n",
       " 'perfectly': 696,\n",
       " 'finally': 697,\n",
       " 'share': 698,\n",
       " 'rate': 699,\n",
       " 'sort': 700,\n",
       " 'conclusion': 701,\n",
       " 'heart': 702,\n",
       " 'race': 703,\n",
       " 'appearance': 704,\n",
       " 'looks': 705,\n",
       " 'happen': 706,\n",
       " 'final': 707,\n",
       " 'unconvincing': 708,\n",
       " 'produced': 709,\n",
       " 'early': 710,\n",
       " 'documentary': 711,\n",
       " 'martin': 712,\n",
       " 'racial': 713,\n",
       " 'mickey': 714,\n",
       " 'watchable': 715,\n",
       " 'weak': 716,\n",
       " 'due': 717,\n",
       " \"film's\": 718,\n",
       " 'recent': 719,\n",
       " \"90's\": 720,\n",
       " 'nonsense': 721,\n",
       " 'fantastic': 722,\n",
       " 'south': 723,\n",
       " \"you're\": 724,\n",
       " 'plays': 725,\n",
       " 'thinking': 726,\n",
       " 'wrong': 727,\n",
       " 'giallo': 728,\n",
       " 'sub': 729,\n",
       " 'emotions': 730,\n",
       " 'ability': 731,\n",
       " 'write': 732,\n",
       " 'writer': 733,\n",
       " 'puppets': 734,\n",
       " 'animation': 735,\n",
       " 'flat': 736,\n",
       " 'whom': 737,\n",
       " 'walked': 738,\n",
       " 'angles': 739,\n",
       " 'became': 740,\n",
       " 'keeps': 741,\n",
       " 'running': 742,\n",
       " 'charm': 743,\n",
       " 'empty': 744,\n",
       " 'jimmy': 745,\n",
       " 'appealing': 746,\n",
       " 'case': 747,\n",
       " 'clearly': 748,\n",
       " 'review': 749,\n",
       " 'sisters': 750,\n",
       " 'terms': 751,\n",
       " 'aspect': 752,\n",
       " 'masterpiece': 753,\n",
       " 'masterpieces': 754,\n",
       " 'ask': 755,\n",
       " 'form': 756,\n",
       " 'imaginable': 757,\n",
       " 'pieces': 758,\n",
       " 'fit': 759,\n",
       " 'create': 760,\n",
       " 'deserves': 761,\n",
       " 'levels': 762,\n",
       " 'canada': 763,\n",
       " 'buy': 764,\n",
       " '13': 765,\n",
       " 'sequel': 766,\n",
       " 'rated': 767,\n",
       " 'interested': 768,\n",
       " 'unfunny': 769,\n",
       " 'joke': 770,\n",
       " 'morgan': 771,\n",
       " 'jonah': 772,\n",
       " 'lazy': 773,\n",
       " 'presence': 774,\n",
       " 'obvious': 775,\n",
       " 'cost': 776,\n",
       " 'despite': 777,\n",
       " 'choice': 778,\n",
       " 'lesser': 779,\n",
       " 'french': 780,\n",
       " 'fall': 781,\n",
       " 'cause': 782,\n",
       " 'regret': 783,\n",
       " 'front': 784,\n",
       " 'whiny': 785,\n",
       " 'future': 786,\n",
       " 'anne': 787,\n",
       " '9': 788,\n",
       " 'reading': 789,\n",
       " 'voice': 790,\n",
       " 'warmth': 791,\n",
       " 'twice': 792,\n",
       " 'delivering': 793,\n",
       " 'honestly': 794,\n",
       " 'unpredictable': 795,\n",
       " 'badly': 796,\n",
       " 'parents': 797,\n",
       " 'alexander': 798,\n",
       " 'artist': 799,\n",
       " 's': 800,\n",
       " 'gonna': 801,\n",
       " 'business': 802,\n",
       " 'needed': 803,\n",
       " 'mouth': 804,\n",
       " 'run': 805,\n",
       " 'superbly': 806,\n",
       " 'turned': 807,\n",
       " 'b': 808,\n",
       " 'list': 809,\n",
       " 'problem': 810,\n",
       " 'heaven': 811,\n",
       " 'lives': 812,\n",
       " 'church': 813,\n",
       " 'uplifting': 814,\n",
       " 'frankly': 815,\n",
       " 'lane': 816,\n",
       " 'chick': 817,\n",
       " 'disappointing': 818,\n",
       " 'lousy': 819,\n",
       " 'bring': 820,\n",
       " 'fresh': 821,\n",
       " 'bold': 822,\n",
       " 'helps': 823,\n",
       " 'idiot': 824,\n",
       " 'occupied': 825,\n",
       " 'instead': 826,\n",
       " 'accused': 827,\n",
       " 'edge': 828,\n",
       " 'somewhat': 829,\n",
       " 'afraid': 830,\n",
       " 'advise': 831,\n",
       " 'tremendously': 832,\n",
       " 'sandra': 833,\n",
       " 'bullock': 834,\n",
       " 'supposedly': 835,\n",
       " 'several': 836,\n",
       " 'moments': 837,\n",
       " 'need': 838,\n",
       " 'friends': 839,\n",
       " 'disappointment': 840,\n",
       " 'cannot': 841,\n",
       " 'stand': 842,\n",
       " 'losing': 843,\n",
       " 'putting': 844,\n",
       " 'ratings': 845,\n",
       " 'dramatic': 846,\n",
       " 'tension': 847,\n",
       " 'central': 848,\n",
       " 'themes': 849,\n",
       " 'handled': 850,\n",
       " 'pictures': 851,\n",
       " 'flawed': 852,\n",
       " 'core': 853,\n",
       " 'following': 854,\n",
       " 'bunch': 855,\n",
       " 'high': 856,\n",
       " 'hell': 857,\n",
       " 'viewing': 858,\n",
       " 'disaster': 859,\n",
       " 'paid': 860,\n",
       " 'quinn': 861,\n",
       " 'crazy': 862,\n",
       " 'hate': 863,\n",
       " 'yeah': 864,\n",
       " 'girlfriend': 865,\n",
       " 'disliked': 866,\n",
       " 'five': 867,\n",
       " 'mad': 868,\n",
       " '50': 869,\n",
       " 'cardboard': 870,\n",
       " 'predictably': 871,\n",
       " 'crafted': 872,\n",
       " 'depressing': 873,\n",
       " 'racism': 874,\n",
       " 'took': 875,\n",
       " 'redeeming': 876,\n",
       " 'appalling': 877,\n",
       " 'setting': 878,\n",
       " 'charisma': 879,\n",
       " 'explanation': 880,\n",
       " 'era': 881,\n",
       " 'wanted': 882,\n",
       " 'missed': 883,\n",
       " 'step': 884,\n",
       " 'freedom': 885,\n",
       " 'below': 886,\n",
       " 'received': 887,\n",
       " 'wayne': 888,\n",
       " 'industry': 889,\n",
       " 'noteworthy': 890,\n",
       " 'blood': 891,\n",
       " 'jamie': 892,\n",
       " 'genius': 893,\n",
       " 'owned': 894,\n",
       " 'daughter': 895,\n",
       " 'material': 896,\n",
       " 'goes': 897,\n",
       " 'hence': 898,\n",
       " 'machine': 899,\n",
       " 'flaws': 900,\n",
       " 'mishima': 901,\n",
       " 'uninteresting': 902,\n",
       " 'chilly': 903,\n",
       " 'schrader': 904,\n",
       " 'recently': 905,\n",
       " 'struck': 906,\n",
       " 'contained': 907,\n",
       " 'realistic': 908,\n",
       " 'lacked': 909,\n",
       " 'talent': 910,\n",
       " \"director's\": 911,\n",
       " 'chance': 912,\n",
       " 'master': 913,\n",
       " 'thrilled': 914,\n",
       " 'senses': 915,\n",
       " 'deeply': 916,\n",
       " 'june': 917,\n",
       " 'considering': 918,\n",
       " 'offers': 919,\n",
       " 'mexican': 920,\n",
       " 'matter': 921,\n",
       " 'noir': 922,\n",
       " 'complex': 923,\n",
       " 'psychological': 924,\n",
       " 'soul': 925,\n",
       " 'water': 926,\n",
       " 'gripping': 927,\n",
       " 'control': 928,\n",
       " 'disturbing': 929,\n",
       " 'jerky': 930,\n",
       " 'camerawork': 931,\n",
       " 'sick': 932,\n",
       " 'summary': 933,\n",
       " \"weren't\": 934,\n",
       " 'witty': 935,\n",
       " 'above': 936,\n",
       " 'ceases': 937,\n",
       " 'directors': 938,\n",
       " 'visually': 939,\n",
       " 'spoiler': 940,\n",
       " 'remaining': 941,\n",
       " 'suffering': 942,\n",
       " 'smile': 943,\n",
       " 'literally': 944,\n",
       " '25': 945,\n",
       " 'unfolds': 946,\n",
       " 'leaves': 947,\n",
       " 'room': 948,\n",
       " 'contrast': 949,\n",
       " 'sublime': 950,\n",
       " '5': 951,\n",
       " 'offensive': 952,\n",
       " 'poetry': 953,\n",
       " 'reviewer': 954,\n",
       " 'masterful': 955,\n",
       " 'pitiful': 956,\n",
       " 'nature': 957,\n",
       " 'female': 958,\n",
       " 'nuts': 959,\n",
       " 'dangerous': 960,\n",
       " 'reactions': 961,\n",
       " 'twist': 962,\n",
       " 'shed': 963,\n",
       " 'forget': 964,\n",
       " 'underneath': 965,\n",
       " 'call': 966,\n",
       " 'assistant': 967,\n",
       " 'laugh': 968,\n",
       " 'de': 969,\n",
       " 'cute': 970,\n",
       " 'guy': 971,\n",
       " \"he's\": 972,\n",
       " 'taped': 973,\n",
       " 'likes': 974,\n",
       " 'wholesome': 975,\n",
       " 'ways': 976,\n",
       " 'portraying': 977,\n",
       " 'pleased': 978,\n",
       " 'modern': 979,\n",
       " 'taking': 980,\n",
       " 'towards': 981,\n",
       " 'attempts': 982,\n",
       " 'supposed': 983,\n",
       " 'light': 984,\n",
       " 'situation': 985,\n",
       " 'leave': 986,\n",
       " 'bear': 987,\n",
       " 'kinda': 988,\n",
       " 'question': 989,\n",
       " 'lucy': 990,\n",
       " 'wonder': 991,\n",
       " 'composition': 992,\n",
       " 'brian': 993,\n",
       " 'son': 994,\n",
       " 'member': 995,\n",
       " 'identify': 996,\n",
       " \"huston's\": 997,\n",
       " 'steve': 998,\n",
       " 'robert': 999,\n",
       " 'father': 1000,\n",
       " ...}"
      ]
     },
     "execution_count": 6,
     "metadata": {},
     "output_type": "execute_result"
    }
   ],
   "source": [
    "tk.word_index"
   ]
  },
  {
   "cell_type": "code",
   "execution_count": 7,
   "id": "following-affiliate",
   "metadata": {},
   "outputs": [
    {
     "data": {
      "text/plain": [
       "31"
      ]
     },
     "execution_count": 7,
     "metadata": {},
     "output_type": "execute_result"
    }
   ],
   "source": [
    "tk.word_index['good']"
   ]
  },
  {
   "cell_type": "code",
   "execution_count": 8,
   "id": "broken-factory",
   "metadata": {},
   "outputs": [
    {
     "data": {
      "text/plain": [
       "'good'"
      ]
     },
     "execution_count": 8,
     "metadata": {},
     "output_type": "execute_result"
    }
   ],
   "source": [
    "tk.index_word[31]"
   ]
  },
  {
   "cell_type": "markdown",
   "id": "smart-australian",
   "metadata": {},
   "source": [
    "토크나이저를 저장한다."
   ]
  },
  {
   "cell_type": "code",
   "execution_count": 8,
   "id": "twenty-camel",
   "metadata": {},
   "outputs": [
    {
     "data": {
      "text/plain": [
       "['tokenizer.pkl']"
      ]
     },
     "execution_count": 8,
     "metadata": {},
     "output_type": "execute_result"
    }
   ],
   "source": [
    "import joblib\n",
    "joblib.dump(tk, '../data/tokenizer.pkl')"
   ]
  },
  {
   "cell_type": "markdown",
   "id": "nutritional-fisher",
   "metadata": {},
   "source": [
    "# 신경망 언어모형 실습: 전처리"
   ]
  },
  {
   "cell_type": "markdown",
   "id": "altered-chapter",
   "metadata": {},
   "source": [
    "## 준비"
   ]
  },
  {
   "cell_type": "markdown",
   "id": "three-williams",
   "metadata": {},
   "source": [
    "데이터를 연다."
   ]
  },
  {
   "cell_type": "code",
   "execution_count": 9,
   "id": "distinct-analysis",
   "metadata": {},
   "outputs": [],
   "source": [
    "import pandas as pd\n",
    "df = pd.read_csv('../data/imdb.zip')"
   ]
  },
  {
   "cell_type": "markdown",
   "id": "curious-cologne",
   "metadata": {},
   "source": [
    "토크나이저를 불러온다."
   ]
  },
  {
   "cell_type": "code",
   "execution_count": 10,
   "id": "demanding-irrigation",
   "metadata": {},
   "outputs": [],
   "source": [
    "import joblib\n",
    "tk = joblib.load('../data/tokenizer.pkl')"
   ]
  },
  {
   "cell_type": "markdown",
   "id": "separated-choice",
   "metadata": {},
   "source": [
    "## 언어 모형에 맞게 데이터 정리"
   ]
  },
  {
   "cell_type": "markdown",
   "id": "relevant-manchester",
   "metadata": {},
   "source": [
    "텍스트를 번호로 바꿔주는 작업"
   ]
  },
  {
   "cell_type": "code",
   "execution_count": 11,
   "id": "pharmaceutical-motorcycle",
   "metadata": {},
   "outputs": [],
   "source": [
    "seqs = tk.texts_to_sequences(df['review'])"
   ]
  },
  {
   "cell_type": "code",
   "execution_count": 12,
   "id": "judicial-absence",
   "metadata": {},
   "outputs": [
    {
     "data": {
      "text/plain": [
       "[4, 27, 27, 27, 287, 407, 1217, 13, 36, 4, 1218, 1219, 408, 142]"
      ]
     },
     "execution_count": 12,
     "metadata": {},
     "output_type": "execute_result"
    }
   ],
   "source": [
    "seqs[0]"
   ]
  },
  {
   "cell_type": "code",
   "execution_count": 13,
   "id": "universal-machinery",
   "metadata": {},
   "outputs": [
    {
     "data": {
      "text/plain": [
       "'a'"
      ]
     },
     "execution_count": 13,
     "metadata": {},
     "output_type": "execute_result"
    }
   ],
   "source": [
    "tk.index_word[4]"
   ]
  },
  {
   "cell_type": "code",
   "execution_count": 14,
   "id": "ceramic-lightweight",
   "metadata": {},
   "outputs": [
    {
     "data": {
      "text/plain": [
       "'very'"
      ]
     },
     "execution_count": 14,
     "metadata": {},
     "output_type": "execute_result"
    }
   ],
   "source": [
    "tk.index_word[27]"
   ]
  },
  {
   "cell_type": "code",
   "execution_count": 18,
   "id": "necessary-pharmacology",
   "metadata": {},
   "outputs": [],
   "source": [
    "seq = seqs[0]"
   ]
  },
  {
   "cell_type": "code",
   "execution_count": 19,
   "id": "helpful-chicken",
   "metadata": {},
   "outputs": [
    {
     "name": "stdout",
     "output_type": "stream",
     "text": [
      "([4, 27, 27, 27], 287)\n",
      "([27, 27, 27, 287], 407)\n",
      "([27, 27, 287, 407], 1217)\n",
      "([27, 287, 407, 1217], 13)\n",
      "([287, 407, 1217, 13], 36)\n",
      "([407, 1217, 13, 36], 4)\n",
      "([1217, 13, 36, 4], 1218)\n",
      "([13, 36, 4, 1218], 1219)\n",
      "([36, 4, 1218, 1219], 408)\n",
      "([4, 1218, 1219, 408], 142)\n"
     ]
    }
   ],
   "source": [
    "for i in range(0, len(seq) - 4):\n",
    "        print((seq[i:i+4], seq[i+4]))"
   ]
  },
  {
   "cell_type": "code",
   "execution_count": 20,
   "id": "sustained-coach",
   "metadata": {},
   "outputs": [],
   "source": [
    "data = []\n",
    "for seq in seqs:\n",
    "    for i in range(0, len(seq) - 4):\n",
    "        data.append((seq[i:i+4], seq[i+4]))"
   ]
  },
  {
   "cell_type": "code",
   "execution_count": 25,
   "id": "rental-storm",
   "metadata": {},
   "outputs": [
    {
     "data": {
      "text/plain": [
       "([4, 27, 27, 27], 287)"
      ]
     },
     "execution_count": 25,
     "metadata": {},
     "output_type": "execute_result"
    }
   ],
   "source": [
    "data[0]"
   ]
  },
  {
   "cell_type": "markdown",
   "id": "coordinate-space",
   "metadata": {},
   "source": [
    "데이터를 섞어준다."
   ]
  },
  {
   "cell_type": "code",
   "execution_count": 26,
   "id": "developing-meter",
   "metadata": {},
   "outputs": [],
   "source": [
    "import random"
   ]
  },
  {
   "cell_type": "code",
   "execution_count": 27,
   "id": "owned-region",
   "metadata": {},
   "outputs": [],
   "source": [
    "random.shuffle(data)"
   ]
  },
  {
   "cell_type": "code",
   "execution_count": 28,
   "id": "manual-windsor",
   "metadata": {},
   "outputs": [
    {
     "data": {
      "text/plain": [
       "([904, 53, 485, 69], 4)"
      ]
     },
     "execution_count": 28,
     "metadata": {},
     "output_type": "execute_result"
    }
   ],
   "source": [
    "data[0]"
   ]
  },
  {
   "cell_type": "markdown",
   "id": "intermediate-liberal",
   "metadata": {},
   "source": [
    "x와 y로 데이터를 나눈다."
   ]
  },
  {
   "cell_type": "code",
   "execution_count": 29,
   "id": "cutting-aberdeen",
   "metadata": {},
   "outputs": [],
   "source": [
    "import numpy as np\n",
    "\n",
    "xs = np.array([x for x, y in data])\n",
    "ys = np.array([y for x, y in data])"
   ]
  },
  {
   "cell_type": "code",
   "execution_count": 30,
   "id": "smaller-gothic",
   "metadata": {},
   "outputs": [
    {
     "data": {
      "text/plain": [
       "array([[ 904,   53,  485,   69],\n",
       "       [  53,   10,  382,  508],\n",
       "       [  24,   10,  781,  524],\n",
       "       ...,\n",
       "       [  31,  975,  303,   66],\n",
       "       [ 887,    4,   57, 1106],\n",
       "       [ 109,   19,    2,  369]])"
      ]
     },
     "execution_count": 30,
     "metadata": {},
     "output_type": "execute_result"
    }
   ],
   "source": [
    "xs"
   ]
  },
  {
   "cell_type": "markdown",
   "id": "decreased-absence",
   "metadata": {},
   "source": [
    "저장한다."
   ]
  },
  {
   "cell_type": "code",
   "execution_count": 31,
   "id": "intelligent-celebrity",
   "metadata": {},
   "outputs": [
    {
     "data": {
      "text/plain": [
       "['lm-data.pkl']"
      ]
     },
     "execution_count": 31,
     "metadata": {},
     "output_type": "execute_result"
    }
   ],
   "source": [
    "joblib.dump((xs, ys), '../data/lm-data.pkl')"
   ]
  },
  {
   "cell_type": "markdown",
   "id": "formed-storm",
   "metadata": {},
   "source": [
    "# 신경망 언어모형 실습: 학습"
   ]
  },
  {
   "cell_type": "markdown",
   "id": "active-switch",
   "metadata": {},
   "source": [
    "## 준비"
   ]
  },
  {
   "cell_type": "markdown",
   "id": "criminal-blond",
   "metadata": {},
   "source": [
    "준비된 데이터를 불러온다."
   ]
  },
  {
   "cell_type": "code",
   "execution_count": 32,
   "id": "optional-visitor",
   "metadata": {},
   "outputs": [],
   "source": [
    "import joblib\n",
    "tk = joblib.load('../data/tokenizer.pkl')\n",
    "xs, ys = joblib.load('../data/lm-data.pkl')"
   ]
  },
  {
   "cell_type": "markdown",
   "id": "smart-growth",
   "metadata": {},
   "source": [
    "## 언어 모형"
   ]
  },
  {
   "cell_type": "markdown",
   "id": "unnecessary-forge",
   "metadata": {},
   "source": [
    "언어모형에 들어갈 임베딩 레이어를 만든다."
   ]
  },
  {
   "cell_type": "code",
   "execution_count": 34,
   "id": "verbal-promotion",
   "metadata": {},
   "outputs": [],
   "source": [
    "import tensorflow as tf"
   ]
  },
  {
   "cell_type": "code",
   "execution_count": 35,
   "id": "noble-employer",
   "metadata": {},
   "outputs": [
    {
     "data": {
      "text/plain": [
       "2000"
      ]
     },
     "execution_count": 35,
     "metadata": {},
     "output_type": "execute_result"
    }
   ],
   "source": [
    "tk.num_words"
   ]
  },
  {
   "cell_type": "markdown",
   "id": "exposed-massage",
   "metadata": {},
   "source": [
    "단어 번호가 1번부터 붙으므로 0번까지 포함하면 총 단어 수에 1을 더해야 한다."
   ]
  },
  {
   "cell_type": "code",
   "execution_count": 37,
   "id": "knowing-woman",
   "metadata": {},
   "outputs": [],
   "source": [
    "NUM_WORD = tk.num_words + 1"
   ]
  },
  {
   "cell_type": "code",
   "execution_count": 38,
   "id": "vanilla-princeton",
   "metadata": {},
   "outputs": [],
   "source": [
    "lm = tf.keras.Sequential([\n",
    "    tf.keras.layers.Embedding(input_dim=NUM_WORD, output_dim=8),\n",
    "    tf.keras.layers.GlobalAveragePooling1D(),\n",
    "    tf.keras.layers.Dense(8, activation='relu'),\n",
    "    tf.keras.layers.Dense(NUM_WORD),\n",
    "])"
   ]
  },
  {
   "cell_type": "code",
   "execution_count": 43,
   "id": "established-diesel",
   "metadata": {},
   "outputs": [],
   "source": [
    "emb1 = tf.keras.layers.Embedding(\n",
    "    input_dim=NUM_WORD,\n",
    "    output_dim=8,\n",
    ")"
   ]
  },
  {
   "cell_type": "markdown",
   "id": "threaded-homeless",
   "metadata": {},
   "source": [
    "언어 모형을 만든다."
   ]
  },
  {
   "cell_type": "code",
   "execution_count": 49,
   "id": "general-perfume",
   "metadata": {},
   "outputs": [],
   "source": [
    "lm = tf.keras.Sequential([\n",
    "    emb1,\n",
    "    tf.keras.layers.GlobalAveragePooling1D(),\n",
    "    tf.keras.layers.Dense(8, activation='relu'),\n",
    "    tf.keras.layers.Dense(NUM_WORD)\n",
    "])"
   ]
  },
  {
   "cell_type": "markdown",
   "id": "turned-simpson",
   "metadata": {},
   "source": [
    "모형 요약을 확인한다."
   ]
  },
  {
   "cell_type": "code",
   "execution_count": 39,
   "id": "affecting-source",
   "metadata": {},
   "outputs": [
    {
     "name": "stdout",
     "output_type": "stream",
     "text": [
      "Model: \"sequential\"\n",
      "_________________________________________________________________\n",
      "Layer (type)                 Output Shape              Param #   \n",
      "=================================================================\n",
      "embedding (Embedding)        (None, None, 8)           16008     \n",
      "_________________________________________________________________\n",
      "global_average_pooling1d (Gl (None, 8)                 0         \n",
      "_________________________________________________________________\n",
      "dense (Dense)                (None, 8)                 72        \n",
      "_________________________________________________________________\n",
      "dense_1 (Dense)              (None, 2001)              18009     \n",
      "=================================================================\n",
      "Total params: 34,089\n",
      "Trainable params: 34,089\n",
      "Non-trainable params: 0\n",
      "_________________________________________________________________\n"
     ]
    }
   ],
   "source": [
    "lm.summary()"
   ]
  },
  {
   "cell_type": "markdown",
   "id": "sharp-smoke",
   "metadata": {},
   "source": [
    "첫번째 행의 두번째 None은 n-gram의 n을 의미\n",
    "\n",
    "3번째 행의 72는 (8+1)*8을 의미"
   ]
  },
  {
   "cell_type": "markdown",
   "id": "substantial-toner",
   "metadata": {},
   "source": [
    "모형을 학습시킨다."
   ]
  },
  {
   "cell_type": "markdown",
   "id": "worst-bandwidth",
   "metadata": {},
   "source": [
    "(from_logits=True) 소프트맥스 생략시 손실을 계산할 때 소프트맥스를 함"
   ]
  },
  {
   "cell_type": "code",
   "execution_count": 40,
   "id": "desperate-stanley",
   "metadata": {},
   "outputs": [],
   "source": [
    "lm.compile(\n",
    "    loss=tf.keras.losses.SparseCategoricalCrossentropy(from_logits=True),\n",
    "    optimizer='adam',\n",
    "    metrics=['accuracy']\n",
    ")"
   ]
  },
  {
   "cell_type": "code",
   "execution_count": 41,
   "id": "independent-heating",
   "metadata": {},
   "outputs": [
    {
     "name": "stdout",
     "output_type": "stream",
     "text": [
      "331/331 [==============================] - 3s 4ms/step - loss: 7.3064 - accuracy: 0.0703\n"
     ]
    },
    {
     "data": {
      "text/plain": [
       "<tensorflow.python.keras.callbacks.History at 0x2090ce66b20>"
      ]
     },
     "execution_count": 41,
     "metadata": {},
     "output_type": "execute_result"
    }
   ],
   "source": [
    "lm.fit(xs, ys, epochs=1)"
   ]
  },
  {
   "cell_type": "markdown",
   "id": "crucial-stereo",
   "metadata": {},
   "source": [
    "모형을 저장한다."
   ]
  },
  {
   "cell_type": "code",
   "execution_count": 42,
   "id": "tamil-wheel",
   "metadata": {},
   "outputs": [
    {
     "name": "stdout",
     "output_type": "stream",
     "text": [
      "INFO:tensorflow:Assets written to: lm.krs\\assets\n"
     ]
    }
   ],
   "source": [
    "lm.save('lm.krs')"
   ]
  },
  {
   "cell_type": "markdown",
   "id": "after-supervisor",
   "metadata": {},
   "source": [
    "## 단어 임베딩"
   ]
  },
  {
   "cell_type": "markdown",
   "id": "hidden-premium",
   "metadata": {},
   "source": [
    "단어 임베딩을 확인한다."
   ]
  },
  {
   "cell_type": "code",
   "execution_count": 28,
   "id": "small-cabin",
   "metadata": {},
   "outputs": [],
   "source": [
    "e = emb1.embeddings.numpy()"
   ]
  },
  {
   "cell_type": "code",
   "execution_count": 29,
   "id": "prerequisite-maple",
   "metadata": {},
   "outputs": [
    {
     "data": {
      "text/plain": [
       "(2001, 8)"
      ]
     },
     "execution_count": 29,
     "metadata": {},
     "output_type": "execute_result"
    }
   ],
   "source": [
    "e.shape"
   ]
  },
  {
   "cell_type": "markdown",
   "id": "unknown-award",
   "metadata": {},
   "source": [
    "단어 임베딩을 임베딩 레이어의 가중치와 동일하다."
   ]
  },
  {
   "cell_type": "code",
   "execution_count": 30,
   "id": "corporate-intake",
   "metadata": {},
   "outputs": [
    {
     "data": {
      "text/plain": [
       "True"
      ]
     },
     "execution_count": 30,
     "metadata": {},
     "output_type": "execute_result"
    }
   ],
   "source": [
    "import numpy as np\n",
    "\n",
    "w = emb1.get_weights()[0]\n",
    "np.array_equal(e, w)"
   ]
  },
  {
   "cell_type": "markdown",
   "id": "confidential-instruction",
   "metadata": {},
   "source": [
    "임베딩을 저장한다."
   ]
  },
  {
   "cell_type": "code",
   "execution_count": 59,
   "id": "welcome-center",
   "metadata": {},
   "outputs": [],
   "source": [
    "np.savez('../data/word-emb.npz', emb=e)"
   ]
  },
  {
   "cell_type": "markdown",
   "id": "imported-queensland",
   "metadata": {},
   "source": [
    "# GlobalAveragePooling1D"
   ]
  },
  {
   "cell_type": "code",
   "execution_count": 60,
   "id": "alpha-charm",
   "metadata": {},
   "outputs": [],
   "source": [
    "import tensorflow as tf\n",
    "import numpy as np"
   ]
  },
  {
   "cell_type": "markdown",
   "id": "substantial-bulgarian",
   "metadata": {},
   "source": [
    "GlobalAveragePooling1D는 1번 인덱스를 기준으로 평균을 구한다. 예를 들기 위해 다음과 같은 행렬이 있다고 하자"
   ]
  },
  {
   "cell_type": "code",
   "execution_count": 61,
   "id": "specialized-heavy",
   "metadata": {},
   "outputs": [
    {
     "data": {
      "text/plain": [
       "array([[[1., 2., 3.],\n",
       "        [3., 6., 9.]]], dtype=float32)"
      ]
     },
     "execution_count": 61,
     "metadata": {},
     "output_type": "execute_result"
    }
   ],
   "source": [
    "x = np.array([[[1, 2, 3], [3, 6, 9]]], dtype='float32')\n",
    "x"
   ]
  },
  {
   "cell_type": "code",
   "execution_count": 62,
   "id": "embedded-laser",
   "metadata": {},
   "outputs": [
    {
     "data": {
      "text/plain": [
       "(1, 2, 3)"
      ]
     },
     "execution_count": 62,
     "metadata": {},
     "output_type": "execute_result"
    }
   ],
   "source": [
    "x.shape"
   ]
  },
  {
   "cell_type": "markdown",
   "id": "south-nashville",
   "metadata": {},
   "source": [
    "이 행렬을 GlobalAveragePooling1D 레이어에 통과시키면 다음과 같이 된다."
   ]
  },
  {
   "cell_type": "code",
   "execution_count": 63,
   "id": "provincial-breakfast",
   "metadata": {},
   "outputs": [],
   "source": [
    "avg = tf.keras.layers.GlobalAveragePooling1D()"
   ]
  },
  {
   "cell_type": "code",
   "execution_count": 64,
   "id": "abroad-disabled",
   "metadata": {},
   "outputs": [
    {
     "data": {
      "text/plain": [
       "array([[2., 4., 6.]], dtype=float32)"
      ]
     },
     "execution_count": 64,
     "metadata": {},
     "output_type": "execute_result"
    }
   ],
   "source": [
    "y = avg(x).numpy()\n",
    "y"
   ]
  },
  {
   "cell_type": "code",
   "execution_count": 65,
   "id": "social-broadcasting",
   "metadata": {},
   "outputs": [
    {
     "data": {
      "text/plain": [
       "(1, 3)"
      ]
     },
     "execution_count": 65,
     "metadata": {},
     "output_type": "execute_result"
    }
   ],
   "source": [
    "y.shape"
   ]
  },
  {
   "cell_type": "markdown",
   "id": "velvet-casino",
   "metadata": {},
   "source": [
    "# 신경망 언어모형 실습: 다음 토큰의 확률 예측"
   ]
  },
  {
   "cell_type": "markdown",
   "id": "automatic-letters",
   "metadata": {},
   "source": [
    "## 준비"
   ]
  },
  {
   "cell_type": "markdown",
   "id": "expressed-reminder",
   "metadata": {},
   "source": [
    "준비된 데이터를 불러온다."
   ]
  },
  {
   "cell_type": "code",
   "execution_count": 66,
   "id": "special-livestock",
   "metadata": {},
   "outputs": [],
   "source": [
    "import joblib\n",
    "tk = joblib.load('../data/tokenizer.pkl')\n",
    "xs, ys = joblib.load('../data/lm-data.pkl')"
   ]
  },
  {
   "cell_type": "markdown",
   "id": "statewide-watts",
   "metadata": {},
   "source": [
    "학습된 모형을 불러온다."
   ]
  },
  {
   "cell_type": "code",
   "execution_count": 67,
   "id": "creative-commander",
   "metadata": {},
   "outputs": [],
   "source": [
    "import tensorflow as tf"
   ]
  },
  {
   "cell_type": "code",
   "execution_count": 68,
   "id": "valid-recovery",
   "metadata": {},
   "outputs": [],
   "source": [
    "lm = tf.keras.models.load_model('../data/lm.krs')"
   ]
  },
  {
   "cell_type": "markdown",
   "id": "stylish-victim",
   "metadata": {},
   "source": [
    "## 다음에 나올 단어의 확률 예측"
   ]
  },
  {
   "cell_type": "code",
   "execution_count": 77,
   "id": "characteristic-authentication",
   "metadata": {},
   "outputs": [],
   "source": [
    "x = xs[0:1]\n",
    "y = ys[0]"
   ]
  },
  {
   "cell_type": "markdown",
   "id": "tired-david",
   "metadata": {},
   "source": [
    "x의 4단어를 확인한다."
   ]
  },
  {
   "cell_type": "code",
   "execution_count": 78,
   "id": "superb-exception",
   "metadata": {},
   "outputs": [
    {
     "data": {
      "text/plain": [
       "['schrader', 'has', 'indeed', 'made']"
      ]
     },
     "execution_count": 78,
     "metadata": {},
     "output_type": "execute_result"
    }
   ],
   "source": [
    "[tk.index_word[i] for i in x[0]]"
   ]
  },
  {
   "cell_type": "markdown",
   "id": "threatened-singer",
   "metadata": {},
   "source": [
    "모형에 넣는다."
   ]
  },
  {
   "cell_type": "code",
   "execution_count": 79,
   "id": "coupled-robinson",
   "metadata": {},
   "outputs": [],
   "source": [
    "import numpy as np"
   ]
  },
  {
   "cell_type": "code",
   "execution_count": 80,
   "id": "indie-screening",
   "metadata": {},
   "outputs": [],
   "source": [
    "logit = lm.predict(x.astype('float32'))"
   ]
  },
  {
   "cell_type": "code",
   "execution_count": 81,
   "id": "unsigned-indiana",
   "metadata": {},
   "outputs": [
    {
     "data": {
      "text/plain": [
       "array([[-2.6672814,  2.567117 ,  2.3327217, ..., -2.6826978, -2.6719108,\n",
       "        -2.7002132]], dtype=float32)"
      ]
     },
     "execution_count": 81,
     "metadata": {},
     "output_type": "execute_result"
    }
   ],
   "source": [
    "logit"
   ]
  },
  {
   "cell_type": "code",
   "execution_count": 82,
   "id": "wired-indie",
   "metadata": {},
   "outputs": [
    {
     "data": {
      "text/plain": [
       "(1, 2001)"
      ]
     },
     "execution_count": 82,
     "metadata": {},
     "output_type": "execute_result"
    }
   ],
   "source": [
    "logit.shape"
   ]
  },
  {
   "cell_type": "markdown",
   "id": "hydraulic-latter",
   "metadata": {},
   "source": [
    "소프트맥스 함수를 적용하여 확률로 바꾼다."
   ]
  },
  {
   "cell_type": "code",
   "execution_count": 83,
   "id": "composed-organ",
   "metadata": {},
   "outputs": [
    {
     "data": {
      "text/plain": [
       "array([[0.00011476, 0.0215307 , 0.01703184, ..., 0.000113  , 0.00011423,\n",
       "        0.00011104]], dtype=float32)"
      ]
     },
     "execution_count": 83,
     "metadata": {},
     "output_type": "execute_result"
    }
   ],
   "source": [
    "p = tf.nn.softmax(logit).numpy()\n",
    "p"
   ]
  },
  {
   "cell_type": "markdown",
   "id": "abroad-strengthening",
   "metadata": {},
   "source": [
    "여기에서 실제로 나온 단어를 확인한다."
   ]
  },
  {
   "cell_type": "code",
   "execution_count": 84,
   "id": "waiting-cowboy",
   "metadata": {},
   "outputs": [
    {
     "data": {
      "text/plain": [
       "'a'"
      ]
     },
     "execution_count": 84,
     "metadata": {},
     "output_type": "execute_result"
    }
   ],
   "source": [
    "tk.index_word[y]"
   ]
  },
  {
   "cell_type": "markdown",
   "id": "protected-plate",
   "metadata": {},
   "source": [
    "해당 단어의 확률을 본다."
   ]
  },
  {
   "cell_type": "code",
   "execution_count": 85,
   "id": "superior-hampshire",
   "metadata": {},
   "outputs": [
    {
     "data": {
      "text/plain": [
       "0.011836766"
      ]
     },
     "execution_count": 85,
     "metadata": {},
     "output_type": "execute_result"
    }
   ],
   "source": [
    "p[0, y]"
   ]
  },
  {
   "cell_type": "markdown",
   "id": "approximate-mauritius",
   "metadata": {},
   "source": [
    "확률이 가장 높은 단어를 알아본다."
   ]
  },
  {
   "cell_type": "code",
   "execution_count": 86,
   "id": "quantitative-midwest",
   "metadata": {},
   "outputs": [
    {
     "data": {
      "text/plain": [
       "1"
      ]
     },
     "execution_count": 86,
     "metadata": {},
     "output_type": "execute_result"
    }
   ],
   "source": [
    "i = p.argmax()\n",
    "i"
   ]
  },
  {
   "cell_type": "code",
   "execution_count": 87,
   "id": "measured-montgomery",
   "metadata": {},
   "outputs": [
    {
     "data": {
      "text/plain": [
       "0.021530699"
      ]
     },
     "execution_count": 87,
     "metadata": {},
     "output_type": "execute_result"
    }
   ],
   "source": [
    "p[0, i]"
   ]
  },
  {
   "cell_type": "code",
   "execution_count": 88,
   "id": "horizontal-crossing",
   "metadata": {},
   "outputs": [
    {
     "data": {
      "text/plain": [
       "'<unk>'"
      ]
     },
     "execution_count": 88,
     "metadata": {},
     "output_type": "execute_result"
    }
   ],
   "source": [
    "tk.index_word[i]"
   ]
  },
  {
   "cell_type": "markdown",
   "id": "nonprofit-evidence",
   "metadata": {},
   "source": [
    "# 신경망 언어모형 실습: 전이 학습"
   ]
  },
  {
   "cell_type": "markdown",
   "id": "induced-outside",
   "metadata": {},
   "source": [
    "## 실습 준비"
   ]
  },
  {
   "cell_type": "markdown",
   "id": "shared-parker",
   "metadata": {},
   "source": [
    "IMDB 리뷰 데이터를 받는다.\n",
    "\n",
    "데이터를 연다."
   ]
  },
  {
   "cell_type": "code",
   "execution_count": 89,
   "id": "strong-parliament",
   "metadata": {},
   "outputs": [],
   "source": [
    "import pandas as pd\n",
    "df = pd.read_csv('https://github.com/euphoris/datasets/raw/master/imdb.zip')"
   ]
  },
  {
   "cell_type": "markdown",
   "id": "touched-termination",
   "metadata": {},
   "source": [
    "토크나이저를 불러들인다."
   ]
  },
  {
   "cell_type": "code",
   "execution_count": 90,
   "id": "dental-concert",
   "metadata": {},
   "outputs": [],
   "source": [
    "import joblib\n",
    "tk = joblib.load('../data/tokenizer.pkl')"
   ]
  },
  {
   "cell_type": "markdown",
   "id": "useful-mixture",
   "metadata": {},
   "source": [
    "텍스트를 토큰의 번호 시퀀스로 바꾼다."
   ]
  },
  {
   "cell_type": "code",
   "execution_count": 91,
   "id": "passive-locator",
   "metadata": {},
   "outputs": [],
   "source": [
    "seqs = tk.texts_to_sequences(df['review'])"
   ]
  },
  {
   "cell_type": "code",
   "execution_count": 92,
   "id": "promotional-plane",
   "metadata": {},
   "outputs": [
    {
     "data": {
      "text/plain": [
       "[4, 27, 27, 27, 287, 407, 1217, 13, 36, 4, 1218, 1219, 408, 142]"
      ]
     },
     "execution_count": 92,
     "metadata": {},
     "output_type": "execute_result"
    }
   ],
   "source": [
    "seqs[0]"
   ]
  },
  {
   "cell_type": "code",
   "execution_count": 93,
   "id": "southwest-error",
   "metadata": {},
   "outputs": [
    {
     "data": {
      "text/plain": [
       "[24, 522, 51, 12, 60, 409, 2, 736, 56, 46, 2, 337, 1220, 288, 5, 737, 738, 44]"
      ]
     },
     "execution_count": 93,
     "metadata": {},
     "output_type": "execute_result"
    }
   ],
   "source": [
    "seqs[1]"
   ]
  },
  {
   "cell_type": "markdown",
   "id": "sustainable-closer",
   "metadata": {},
   "source": [
    "시퀀스마다 길이가 모두 다르므로 앞에 0을 채워(padding) 길이를 맞춰준다."
   ]
  },
  {
   "cell_type": "code",
   "execution_count": 94,
   "id": "specific-carpet",
   "metadata": {},
   "outputs": [],
   "source": [
    "import tensorflow as tf"
   ]
  },
  {
   "cell_type": "code",
   "execution_count": 95,
   "id": "bottom-psychology",
   "metadata": {},
   "outputs": [],
   "source": [
    "pads = tf.keras.preprocessing.sequence.pad_sequences(seqs)"
   ]
  },
  {
   "cell_type": "code",
   "execution_count": 96,
   "id": "affecting-borough",
   "metadata": {},
   "outputs": [
    {
     "data": {
      "text/plain": [
       "array([   0,    0,    0,    0,    0,    0,    0,    0,    0,    0,    0,\n",
       "          0,    0,    0,    0,    0,    0,    0,    0,    0,    0,    0,\n",
       "          0,    0,    0,    0,    0,    0,    0,    0,    0,    0,    0,\n",
       "          0,    0,    0,    0,    0,    0,    0,    0,    0,    0,    0,\n",
       "          0,    0,    0,    0,    0,    0,    0,    0,    0,    0,    0,\n",
       "          0,    0,    0,    0,    4,   27,   27,   27,  287,  407, 1217,\n",
       "         13,   36,    4, 1218, 1219,  408,  142])"
      ]
     },
     "execution_count": 96,
     "metadata": {},
     "output_type": "execute_result"
    }
   ],
   "source": [
    "pads[0]"
   ]
  },
  {
   "cell_type": "markdown",
   "id": "emerging-samba",
   "metadata": {},
   "source": [
    "## 단어 임베딩 불러오기"
   ]
  },
  {
   "cell_type": "markdown",
   "id": "polished-starter",
   "metadata": {},
   "source": [
    "학습된 단어 임베딩을 불러온다."
   ]
  },
  {
   "cell_type": "code",
   "execution_count": 97,
   "id": "domestic-british",
   "metadata": {},
   "outputs": [],
   "source": [
    "import numpy as np\n",
    "\n",
    "z = np.load('../data/word-emb.npz')\n",
    "e = z['emb']"
   ]
  },
  {
   "cell_type": "code",
   "execution_count": 98,
   "id": "hispanic-basis",
   "metadata": {},
   "outputs": [
    {
     "data": {
      "text/plain": [
       "array([[ 0.00246316,  0.00992881, -0.04943324, ...,  0.01150197,\n",
       "         0.00170362,  0.01206745],\n",
       "       [ 0.04054418,  0.01958554,  0.03012717, ...,  0.04117012,\n",
       "         0.0204666 , -0.04284757],\n",
       "       [-0.00349189, -0.03143039, -0.03849567, ..., -0.04686766,\n",
       "         0.00854615,  0.03951854],\n",
       "       ...,\n",
       "       [-0.02762789,  0.02321875,  0.03799022, ..., -0.00223788,\n",
       "         0.02448225, -0.00046618],\n",
       "       [ 0.03322499,  0.04585669, -0.02113488, ..., -0.02608277,\n",
       "        -0.01219501,  0.04522601],\n",
       "       [ 0.03026653, -0.04895736, -0.02045484, ..., -0.00444834,\n",
       "         0.0185187 ,  0.04666949]], dtype=float32)"
      ]
     },
     "execution_count": 98,
     "metadata": {},
     "output_type": "execute_result"
    }
   ],
   "source": [
    "e"
   ]
  },
  {
   "cell_type": "markdown",
   "id": "irish-italy",
   "metadata": {},
   "source": [
    "## 감성 분석"
   ]
  },
  {
   "cell_type": "markdown",
   "id": "vanilla-orleans",
   "metadata": {},
   "source": [
    "감성 분석 모형에 들어갈 임베딩 레이어를 만든다. 언어 모형에서 학습된 가중치로 초기화한다."
   ]
  },
  {
   "cell_type": "code",
   "execution_count": 99,
   "id": "twenty-atmosphere",
   "metadata": {},
   "outputs": [],
   "source": [
    "emb2 = tf.keras.layers.Embedding(\n",
    "    input_dim=tk.num_words + 1,\n",
    "    output_dim=8,\n",
    "    embeddings_initializer=tf.keras.initializers.Constant(e) # 언어모형에서 학습됐던 임베딩을 기본값(시작값)으로 넣어줌\n",
    ")\n"
   ]
  },
  {
   "cell_type": "markdown",
   "id": "korean-graham",
   "metadata": {},
   "source": [
    "감성 분석 모형을 만든다."
   ]
  },
  {
   "cell_type": "code",
   "execution_count": 100,
   "id": "lovely-ending",
   "metadata": {},
   "outputs": [],
   "source": [
    "model = tf.keras.Sequential([\n",
    "    emb2,\n",
    "    tf.keras.layers.GlobalAveragePooling1D(),\n",
    "    tf.keras.layers.Dense(8, activation='relu'),\n",
    "    tf.keras.layers.Dense(1, activation='sigmoid') # 0 아니면 1 숫자하나만 예측\n",
    "])"
   ]
  },
  {
   "cell_type": "markdown",
   "id": "dense-museum",
   "metadata": {},
   "source": [
    "모형 요약을 확인한다."
   ]
  },
  {
   "cell_type": "code",
   "execution_count": 101,
   "id": "announced-syndication",
   "metadata": {},
   "outputs": [
    {
     "name": "stdout",
     "output_type": "stream",
     "text": [
      "Model: \"sequential_2\"\n",
      "_________________________________________________________________\n",
      "Layer (type)                 Output Shape              Param #   \n",
      "=================================================================\n",
      "embedding_2 (Embedding)      (None, None, 8)           16008     \n",
      "_________________________________________________________________\n",
      "global_average_pooling1d_3 ( (None, 8)                 0         \n",
      "_________________________________________________________________\n",
      "dense_4 (Dense)              (None, 8)                 72        \n",
      "_________________________________________________________________\n",
      "dense_5 (Dense)              (None, 1)                 9         \n",
      "=================================================================\n",
      "Total params: 16,089\n",
      "Trainable params: 16,089\n",
      "Non-trainable params: 0\n",
      "_________________________________________________________________\n"
     ]
    }
   ],
   "source": [
    "model.summary()"
   ]
  },
  {
   "cell_type": "markdown",
   "id": "overhead-johnson",
   "metadata": {},
   "source": [
    "모형을 설정한다."
   ]
  },
  {
   "cell_type": "code",
   "execution_count": 102,
   "id": "stretch-bench",
   "metadata": {},
   "outputs": [],
   "source": [
    "model.compile(\n",
    "    loss='binary_crossentropy',\n",
    "    optimizer='adam',\n",
    "    metrics=['accuracy']\n",
    ")"
   ]
  },
  {
   "cell_type": "markdown",
   "id": "frequent-transfer",
   "metadata": {},
   "source": [
    "학습시킨다."
   ]
  },
  {
   "cell_type": "code",
   "execution_count": 103,
   "id": "protecting-classroom",
   "metadata": {},
   "outputs": [],
   "source": [
    "y = df['sentiment'].values"
   ]
  },
  {
   "cell_type": "code",
   "execution_count": 104,
   "id": "built-advertiser",
   "metadata": {},
   "outputs": [
    {
     "name": "stdout",
     "output_type": "stream",
     "text": [
      "32/32 [==============================] - 1s 5ms/step - loss: 0.6938 - accuracy: 0.4877\n"
     ]
    },
    {
     "data": {
      "text/plain": [
       "<tensorflow.python.keras.callbacks.History at 0x20930c370a0>"
      ]
     },
     "execution_count": 104,
     "metadata": {},
     "output_type": "execute_result"
    }
   ],
   "source": [
    "model.fit(pads, y)"
   ]
  }
 ],
 "metadata": {
  "kernelspec": {
   "display_name": "Python3.8_DL",
   "language": "python",
   "name": "dl"
  },
  "language_info": {
   "codemirror_mode": {
    "name": "ipython",
    "version": 3
   },
   "file_extension": ".py",
   "mimetype": "text/x-python",
   "name": "python",
   "nbconvert_exporter": "python",
   "pygments_lexer": "ipython3",
   "version": "3.8.8"
  }
 },
 "nbformat": 4,
 "nbformat_minor": 5
}
