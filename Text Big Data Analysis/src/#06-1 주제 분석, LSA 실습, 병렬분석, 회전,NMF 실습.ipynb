{
 "cells": [
  {
   "cell_type": "markdown",
   "id": "acoustic-retention",
   "metadata": {},
   "source": [
    "## 전처리"
   ]
  },
  {
   "cell_type": "code",
   "execution_count": 1,
   "id": "coral-vertical",
   "metadata": {
    "scrolled": true
   },
   "outputs": [
    {
     "name": "stderr",
     "output_type": "stream",
     "text": [
      "--2021-04-25 10:47:59--  https://github.com/euphoris/datasets/raw/master/neurips.zip\n",
      "Resolving github.com (github.com)... 15.164.81.167\n",
      "Connecting to github.com (github.com)|15.164.81.167|:443... connected.\n",
      "HTTP request sent, awaiting response... 302 Found\n",
      "Location: https://raw.githubusercontent.com/euphoris/datasets/master/neurips.zip [following]\n",
      "--2021-04-25 10:47:59--  https://raw.githubusercontent.com/euphoris/datasets/master/neurips.zip\n",
      "Resolving raw.githubusercontent.com (raw.githubusercontent.com)... 185.199.108.133, 185.199.110.133, 185.199.111.133, ...\n",
      "Connecting to raw.githubusercontent.com (raw.githubusercontent.com)|185.199.108.133|:443... connected.\n",
      "HTTP request sent, awaiting response... 416 Range Not Satisfiable\n",
      "\n",
      "    The file is already fully retrieved; nothing to do.\n",
      "\n"
     ]
    }
   ],
   "source": [
    "!wget -c https://github.com/euphoris/datasets/raw/master/neurips.zip"
   ]
  },
  {
   "cell_type": "code",
   "execution_count": 2,
   "id": "selective-consideration",
   "metadata": {},
   "outputs": [],
   "source": [
    "import pandas as pd\n",
    "df = pd.read_csv('../data/neurips.zip') # 압축파일 내의 csv를 불러옴"
   ]
  },
  {
   "cell_type": "code",
   "execution_count": 3,
   "id": "returning-wilson",
   "metadata": {},
   "outputs": [
    {
     "data": {
      "text/html": [
       "<div>\n",
       "<style scoped>\n",
       "    .dataframe tbody tr th:only-of-type {\n",
       "        vertical-align: middle;\n",
       "    }\n",
       "\n",
       "    .dataframe tbody tr th {\n",
       "        vertical-align: top;\n",
       "    }\n",
       "\n",
       "    .dataframe thead th {\n",
       "        text-align: right;\n",
       "    }\n",
       "</style>\n",
       "<table border=\"1\" class=\"dataframe\">\n",
       "  <thead>\n",
       "    <tr style=\"text-align: right;\">\n",
       "      <th></th>\n",
       "      <th>year</th>\n",
       "      <th>title</th>\n",
       "      <th>abstract</th>\n",
       "    </tr>\n",
       "  </thead>\n",
       "  <tbody>\n",
       "    <tr>\n",
       "      <th>0</th>\n",
       "      <td>2007</td>\n",
       "      <td>Competition Adds Complexity</td>\n",
       "      <td>It is known that determinining whether a DEC-P...</td>\n",
       "    </tr>\n",
       "    <tr>\n",
       "      <th>1</th>\n",
       "      <td>2007</td>\n",
       "      <td>Efficient Principled Learning of Thin Junction...</td>\n",
       "      <td>We present the first truly polynomial algorith...</td>\n",
       "    </tr>\n",
       "    <tr>\n",
       "      <th>2</th>\n",
       "      <td>2007</td>\n",
       "      <td>Regularized Boost for Semi-Supervised Learning</td>\n",
       "      <td>Semi-supervised inductive learning concerns ho...</td>\n",
       "    </tr>\n",
       "    <tr>\n",
       "      <th>3</th>\n",
       "      <td>2007</td>\n",
       "      <td>Simplified Rules and Theoretical Analysis for ...</td>\n",
       "      <td>We show that under suitable assumptions (prima...</td>\n",
       "    </tr>\n",
       "    <tr>\n",
       "      <th>4</th>\n",
       "      <td>2007</td>\n",
       "      <td>Predicting human gaze using low-level saliency...</td>\n",
       "      <td>Under natural viewing conditions, human observ...</td>\n",
       "    </tr>\n",
       "  </tbody>\n",
       "</table>\n",
       "</div>"
      ],
      "text/plain": [
       "   year                                              title  \\\n",
       "0  2007                        Competition Adds Complexity   \n",
       "1  2007  Efficient Principled Learning of Thin Junction...   \n",
       "2  2007     Regularized Boost for Semi-Supervised Learning   \n",
       "3  2007  Simplified Rules and Theoretical Analysis for ...   \n",
       "4  2007  Predicting human gaze using low-level saliency...   \n",
       "\n",
       "                                            abstract  \n",
       "0  It is known that determinining whether a DEC-P...  \n",
       "1  We present the first truly polynomial algorith...  \n",
       "2  Semi-supervised inductive learning concerns ho...  \n",
       "3  We show that under suitable assumptions (prima...  \n",
       "4  Under natural viewing conditions, human observ...  "
      ]
     },
     "execution_count": 3,
     "metadata": {},
     "output_type": "execute_result"
    }
   ],
   "source": [
    "df.head() # abstract: 요약문"
   ]
  },
  {
   "cell_type": "code",
   "execution_count": 4,
   "id": "suspended-compiler",
   "metadata": {
    "scrolled": true
   },
   "outputs": [
    {
     "data": {
      "text/html": [
       "<div>\n",
       "<style scoped>\n",
       "    .dataframe tbody tr th:only-of-type {\n",
       "        vertical-align: middle;\n",
       "    }\n",
       "\n",
       "    .dataframe tbody tr th {\n",
       "        vertical-align: top;\n",
       "    }\n",
       "\n",
       "    .dataframe thead th {\n",
       "        text-align: right;\n",
       "    }\n",
       "</style>\n",
       "<table border=\"1\" class=\"dataframe\">\n",
       "  <thead>\n",
       "    <tr style=\"text-align: right;\">\n",
       "      <th></th>\n",
       "      <th>year</th>\n",
       "      <th>title</th>\n",
       "      <th>abstract</th>\n",
       "    </tr>\n",
       "  </thead>\n",
       "  <tbody>\n",
       "    <tr>\n",
       "      <th>3915</th>\n",
       "      <td>2017</td>\n",
       "      <td>On Separability of Loss Functions, and Revisit...</td>\n",
       "      <td>We revisit the classical analysis of generativ...</td>\n",
       "    </tr>\n",
       "    <tr>\n",
       "      <th>3916</th>\n",
       "      <td>2017</td>\n",
       "      <td>Maxing and Ranking with Few Assumptions</td>\n",
       "      <td>PAC maximum                                   ...</td>\n",
       "    </tr>\n",
       "    <tr>\n",
       "      <th>3917</th>\n",
       "      <td>2017</td>\n",
       "      <td>On clustering network-valued data</td>\n",
       "      <td>Community detection, which focuses on clusteri...</td>\n",
       "    </tr>\n",
       "    <tr>\n",
       "      <th>3918</th>\n",
       "      <td>2017</td>\n",
       "      <td>A General Framework for Robust Interactive Lea...</td>\n",
       "      <td>We propose a general framework for interactive...</td>\n",
       "    </tr>\n",
       "    <tr>\n",
       "      <th>3919</th>\n",
       "      <td>2017</td>\n",
       "      <td>Multi-view Matrix Factorization for Linear Dyn...</td>\n",
       "      <td>We consider maximum likelihood estimation of l...</td>\n",
       "    </tr>\n",
       "  </tbody>\n",
       "</table>\n",
       "</div>"
      ],
      "text/plain": [
       "      year                                              title  \\\n",
       "3915  2017  On Separability of Loss Functions, and Revisit...   \n",
       "3916  2017            Maxing and Ranking with Few Assumptions   \n",
       "3917  2017                  On clustering network-valued data   \n",
       "3918  2017  A General Framework for Robust Interactive Lea...   \n",
       "3919  2017  Multi-view Matrix Factorization for Linear Dyn...   \n",
       "\n",
       "                                               abstract  \n",
       "3915  We revisit the classical analysis of generativ...  \n",
       "3916  PAC maximum                                   ...  \n",
       "3917  Community detection, which focuses on clusteri...  \n",
       "3918  We propose a general framework for interactive...  \n",
       "3919  We consider maximum likelihood estimation of l...  "
      ]
     },
     "execution_count": 4,
     "metadata": {},
     "output_type": "execute_result"
    }
   ],
   "source": [
    "df.tail()"
   ]
  },
  {
   "cell_type": "markdown",
   "id": "extraordinary-swift",
   "metadata": {},
   "source": [
    "- 주제분석의 결과를 보고 어느 것을 사용할 지 판단\n",
    "- CountVectorizer 자주나오는 단어의 비중을 많이 반영\n",
    "- TfidfVectorizer 여러문서에 공통적으로 많이 나온 단어는 덜 반영"
   ]
  },
  {
   "cell_type": "code",
   "execution_count": 5,
   "id": "reflected-curve",
   "metadata": {},
   "outputs": [],
   "source": [
    "from sklearn.feature_extraction.text import CountVectorizer, TfidfVectorizer\n",
    "cv = TfidfVectorizer(stop_words='english', max_features=2000)"
   ]
  },
  {
   "cell_type": "code",
   "execution_count": 6,
   "id": "floating-reservoir",
   "metadata": {},
   "outputs": [],
   "source": [
    "x = cv.fit_transform(df.abstract)"
   ]
  },
  {
   "cell_type": "code",
   "execution_count": 7,
   "id": "heard-playback",
   "metadata": {},
   "outputs": [],
   "source": [
    "words = cv.get_feature_names()"
   ]
  },
  {
   "cell_type": "markdown",
   "id": "incorporated-alliance",
   "metadata": {},
   "source": [
    "## SVD"
   ]
  },
  {
   "cell_type": "code",
   "execution_count": 8,
   "id": "flush-scanner",
   "metadata": {},
   "outputs": [],
   "source": [
    "from sklearn.decomposition import TruncatedSVD # 분해 후, 불필요한 부분을 제거"
   ]
  },
  {
   "cell_type": "code",
   "execution_count": 9,
   "id": "southwest-median",
   "metadata": {},
   "outputs": [
    {
     "data": {
      "text/plain": [
       "(3920, 2000)"
      ]
     },
     "execution_count": 9,
     "metadata": {},
     "output_type": "execute_result"
    }
   ],
   "source": [
    "x.shape # 문서:3920, 단어의 갯수:2000 // 각각의 문서가 2000개의 단어로 표현, 2000차원"
   ]
  },
  {
   "cell_type": "code",
   "execution_count": 10,
   "id": "greatest-semester",
   "metadata": {},
   "outputs": [],
   "source": [
    "svd = TruncatedSVD(n_components=100, random_state=1234) # 100차원으로 축소"
   ]
  },
  {
   "cell_type": "markdown",
   "id": "numerical-assembly",
   "metadata": {},
   "source": [
    "- fit은 분석을 하는 과정\n",
    "- transform은 분석결과를 바탕으로 변환을 해서 새로운 무언가를 만드는 것"
   ]
  },
  {
   "cell_type": "code",
   "execution_count": 11,
   "id": "twelve-hunger",
   "metadata": {},
   "outputs": [
    {
     "data": {
      "text/plain": [
       "TruncatedSVD(n_components=100, random_state=1234)"
      ]
     },
     "execution_count": 11,
     "metadata": {},
     "output_type": "execute_result"
    }
   ],
   "source": [
    "svd.fit(x) # x를 (문서들을 100차원으로 표현, 100차원이 2000차원과 어떠한 관련이 있는지)로 분해"
   ]
  },
  {
   "cell_type": "code",
   "execution_count": 12,
   "id": "centered-draft",
   "metadata": {},
   "outputs": [
    {
     "data": {
      "text/plain": [
       "(100, 2000)"
      ]
     },
     "execution_count": 12,
     "metadata": {},
     "output_type": "execute_result"
    }
   ],
   "source": [
    "svd.components_.shape # 차원이 100개, 각각의 차원별로 2000개의 단어들과 어떠한 관련이 있는지를 값으로 보여줌"
   ]
  },
  {
   "cell_type": "code",
   "execution_count": 13,
   "id": "present-force",
   "metadata": {},
   "outputs": [
    {
     "data": {
      "text/plain": [
       "array([[ 0.00483864,  0.01243762,  0.004755  , ...,  0.00491457,\n",
       "         0.0162017 ,  0.01160996],\n",
       "       [-0.0055402 , -0.01859974, -0.00681511, ...,  0.00074343,\n",
       "         0.0014955 ,  0.00839796],\n",
       "       [-0.00331551, -0.02285996, -0.00537686, ..., -0.00103497,\n",
       "         0.00135762, -0.00786135],\n",
       "       ...,\n",
       "       [-0.00037104,  0.02843677,  0.00591093, ...,  0.0027189 ,\n",
       "         0.01184353, -0.01022713],\n",
       "       [ 0.00286079, -0.02232737, -0.00742612, ...,  0.00374566,\n",
       "        -0.00553911, -0.00644252],\n",
       "       [ 0.00840489,  0.00073834,  0.00954845, ..., -0.00397496,\n",
       "        -0.00763423, -0.00401217]])"
      ]
     },
     "execution_count": 13,
     "metadata": {},
     "output_type": "execute_result"
    }
   ],
   "source": [
    "svd.components_"
   ]
  },
  {
   "cell_type": "code",
   "execution_count": 14,
   "id": "innovative-citation",
   "metadata": {},
   "outputs": [
    {
     "data": {
      "text/plain": [
       "1861"
      ]
     },
     "execution_count": 14,
     "metadata": {},
     "output_type": "execute_result"
    }
   ],
   "source": [
    "word_idx = words.index('topic'); word_idx"
   ]
  },
  {
   "cell_type": "code",
   "execution_count": 15,
   "id": "accurate-double",
   "metadata": {},
   "outputs": [
    {
     "data": {
      "text/plain": [
       "array([ 2.21636837e-02, -3.35006049e-02,  6.34481186e-02, -9.08255574e-03,\n",
       "       -2.59052356e-02, -3.04093871e-02,  4.31240860e-02, -4.44698174e-02,\n",
       "       -5.35017435e-02,  2.51650395e-02, -7.43829615e-02, -4.09887607e-02,\n",
       "        1.43222364e-03,  9.13531186e-02, -5.15778667e-02,  1.43561806e-02,\n",
       "        1.43079857e-02,  1.08711712e-01, -1.99153193e-02,  9.44076667e-02,\n",
       "       -1.49543745e-01,  7.67068611e-02, -9.41560593e-02,  1.36303047e-02,\n",
       "       -4.61174101e-02,  1.04014531e-01,  1.14117206e-01,  1.99617317e-01,\n",
       "        3.19722162e-02,  6.47920314e-02, -9.24920865e-02,  2.24452596e-02,\n",
       "        1.25802356e-02,  1.57600255e-02,  3.03693389e-02, -1.57972126e-01,\n",
       "       -6.85859397e-02, -2.71583590e-02, -4.23475068e-02,  6.59471303e-03,\n",
       "       -7.82198356e-02,  6.56273694e-02,  1.66759836e-02,  5.84677258e-02,\n",
       "        1.36793675e-02, -4.11903979e-02,  2.94849115e-02, -2.23744287e-02,\n",
       "       -7.98992089e-02,  7.03076161e-02, -8.41267895e-02, -9.61470800e-02,\n",
       "       -6.79298440e-02, -5.14578997e-02,  1.18931180e-02,  6.15789682e-03,\n",
       "       -1.11474880e-02,  2.94867952e-02, -3.66363896e-02, -1.41744462e-02,\n",
       "        7.36274594e-03, -2.46158653e-02,  6.47961771e-02,  8.95522624e-03,\n",
       "       -3.96913139e-04, -1.79853016e-04, -2.22553679e-02, -1.80523672e-02,\n",
       "       -1.10168346e-01, -4.43826153e-02,  4.81139312e-02,  1.52893745e-02,\n",
       "       -1.04502313e-02, -5.66792722e-02,  7.90153696e-03,  3.95921870e-02,\n",
       "       -3.68376423e-02, -1.54981663e-01,  3.38559085e-02, -1.33979470e-02,\n",
       "       -1.31676964e-02,  5.59717455e-02,  6.29342326e-03, -7.21399145e-02,\n",
       "       -3.23451854e-02, -5.00067057e-02,  3.33799447e-02, -4.32286199e-02,\n",
       "        1.07889200e-02, -5.35033227e-02,  1.78997607e-02, -8.99275159e-02,\n",
       "       -3.15281923e-02,  1.14875441e-02, -1.65870226e-02,  8.21166940e-02,\n",
       "       -2.44319766e-02,  1.91906063e-02,  5.36237310e-02,  4.61675260e-02])"
      ]
     },
     "execution_count": 15,
     "metadata": {},
     "output_type": "execute_result"
    }
   ],
   "source": [
    "svd.components_[:,word_idx]"
   ]
  },
  {
   "cell_type": "code",
   "execution_count": 16,
   "id": "centered-turtle",
   "metadata": {},
   "outputs": [
    {
     "data": {
      "text/plain": [
       "[<matplotlib.lines.Line2D at 0x2c45b021b50>]"
      ]
     },
     "execution_count": 16,
     "metadata": {},
     "output_type": "execute_result"
    },
    {
     "data": {
      "image/png": "[encoded data removed]",
      "text/plain": [
       "<Figure size 432x288 with 1 Axes>"
      ]
     },
     "metadata": {
      "needs_background": "light"
     },
     "output_type": "display_data"
    }
   ],
   "source": [
    "from matplotlib import pyplot\n",
    "pyplot.plot(svd.components_[:, word_idx])  # 100개의 주제별 관련도, 제일 높은 지점이 topic이라는 단어와 가장 관련도가 강한 주제"
   ]
  },
  {
   "cell_type": "code",
   "execution_count": 17,
   "id": "naval-transition",
   "metadata": {},
   "outputs": [
    {
     "data": {
      "text/plain": [
       "27"
      ]
     },
     "execution_count": 17,
     "metadata": {},
     "output_type": "execute_result"
    }
   ],
   "source": [
    "topic_idx = svd.components_[:, word_idx].argmax() # 가장 큰 값이 있는 위치\n",
    "topic_idx"
   ]
  },
  {
   "cell_type": "code",
   "execution_count": 18,
   "id": "compact-tyler",
   "metadata": {},
   "outputs": [
    {
     "data": {
      "text/html": [
       "<div>\n",
       "<style scoped>\n",
       "    .dataframe tbody tr th:only-of-type {\n",
       "        vertical-align: middle;\n",
       "    }\n",
       "\n",
       "    .dataframe tbody tr th {\n",
       "        vertical-align: top;\n",
       "    }\n",
       "\n",
       "    .dataframe thead th {\n",
       "        text-align: right;\n",
       "    }\n",
       "</style>\n",
       "<table border=\"1\" class=\"dataframe\">\n",
       "  <thead>\n",
       "    <tr style=\"text-align: right;\">\n",
       "      <th></th>\n",
       "      <th>word</th>\n",
       "      <th>loading</th>\n",
       "    </tr>\n",
       "  </thead>\n",
       "  <tbody>\n",
       "    <tr>\n",
       "      <th>1202</th>\n",
       "      <td>norm</td>\n",
       "      <td>0.119621</td>\n",
       "    </tr>\n",
       "    <tr>\n",
       "      <th>804</th>\n",
       "      <td>graph</td>\n",
       "      <td>0.126101</td>\n",
       "    </tr>\n",
       "    <tr>\n",
       "      <th>866</th>\n",
       "      <td>image</td>\n",
       "      <td>0.155490</td>\n",
       "    </tr>\n",
       "    <tr>\n",
       "      <th>1861</th>\n",
       "      <td>topic</td>\n",
       "      <td>0.199617</td>\n",
       "    </tr>\n",
       "    <tr>\n",
       "      <th>1713</th>\n",
       "      <td>sparse</td>\n",
       "      <td>0.211411</td>\n",
       "    </tr>\n",
       "  </tbody>\n",
       "</table>\n",
       "</div>"
      ],
      "text/plain": [
       "        word   loading\n",
       "1202    norm  0.119621\n",
       "804    graph  0.126101\n",
       "866    image  0.155490\n",
       "1861   topic  0.199617\n",
       "1713  sparse  0.211411"
      ]
     },
     "execution_count": 18,
     "metadata": {},
     "output_type": "execute_result"
    }
   ],
   "source": [
    "topic = pd.DataFrame({'word': words, 'loading': svd.components_[topic_idx]}) # 주제와 단어의 관련도를 보통 loading이라고 표현\n",
    "topic.sort_values('loading').tail() # loading 값이 큰 부분부터 보기 위해"
   ]
  },
  {
   "cell_type": "markdown",
   "id": "passive-davis",
   "metadata": {},
   "source": [
    "- 이 주제가 증가하면, topic,sparse,image,graph,norm이 동시에 증가\n",
    "- 문서의 단어빈도는 주제의 값 하나만 가지고 결정되는 것이 아니라, 주제가 100개라면 100개의 주제별로 다 곱해서 곱한결과를 더해서 최종적으로 단어 빈도가 된다. 각각의 주제가 이렇게 나온다면 해석하기가 쉽지 않고, 회전이라는 것을 이용할 것"
   ]
  },
  {
   "cell_type": "markdown",
   "id": "everyday-revolution",
   "metadata": {},
   "source": [
    "## 병렬 분석"
   ]
  },
  {
   "cell_type": "markdown",
   "id": "agricultural-format",
   "metadata": {},
   "source": [
    "- 어느정도 차원이 적절한지를 판별"
   ]
  },
  {
   "cell_type": "code",
   "execution_count": 19,
   "id": "metric-circulation",
   "metadata": {},
   "outputs": [],
   "source": [
    "import numpy as np"
   ]
  },
  {
   "cell_type": "code",
   "execution_count": 20,
   "id": "brave-relevance",
   "metadata": {},
   "outputs": [],
   "source": [
    "nrow, ncol = x.shape"
   ]
  },
  {
   "cell_type": "code",
   "execution_count": 21,
   "id": "scheduled-circle",
   "metadata": {},
   "outputs": [],
   "source": [
    "def resample(a):\n",
    "    return np.random.choice(a, size=nrow) # a에서 무작위로, nrow만큼 선택\n",
    "\n",
    "np.random.seed(2999)\n",
    "d = np.apply_along_axis(resample, 0, x.A) # 단어들 간의 관계를 망가뜨린다.\n",
    "# 0번은 행방향이므로, x를 열마다 x를 뽑아 새로운 x를 만듦.\n",
    "# d와 x는 단어빈도의 분포는 비슷, x에 있던 단어와 단어의 관계가 헝클어진다."
   ]
  },
  {
   "cell_type": "code",
   "execution_count": 22,
   "id": "arbitrary-still",
   "metadata": {},
   "outputs": [
    {
     "data": {
      "text/plain": [
       "(3920, 2000)"
      ]
     },
     "execution_count": 22,
     "metadata": {},
     "output_type": "execute_result"
    }
   ],
   "source": [
    "d.shape"
   ]
  },
  {
   "cell_type": "code",
   "execution_count": 23,
   "id": "speaking-monroe",
   "metadata": {},
   "outputs": [
    {
     "data": {
      "text/plain": [
       "TruncatedSVD(n_components=100, random_state=1234)"
      ]
     },
     "execution_count": 23,
     "metadata": {},
     "output_type": "execute_result"
    }
   ],
   "source": [
    "svd2 = TruncatedSVD(n_components=100, random_state=1234)\n",
    "svd2.fit(d)"
   ]
  },
  {
   "cell_type": "code",
   "execution_count": 24,
   "id": "thorough-holder",
   "metadata": {},
   "outputs": [
    {
     "data": {
      "text/plain": [
       "[<matplotlib.lines.Line2D at 0x2c45b0ee610>]"
      ]
     },
     "execution_count": 24,
     "metadata": {},
     "output_type": "execute_result"
    },
    {
     "data": {
      "image/png": "[encoded data removed]",
      "text/plain": [
       "<Figure size 432x288 with 1 Axes>"
      ]
     },
     "metadata": {
      "needs_background": "light"
     },
     "output_type": "display_data"
    }
   ],
   "source": [
    "pyplot.plot(svd.singular_values_) # 100개의 차원 중 각각의 차원이 가지는 중요성\n",
    "pyplot.plot(svd2.singular_values_)"
   ]
  },
  {
   "cell_type": "code",
   "execution_count": 25,
   "id": "suffering-thriller",
   "metadata": {},
   "outputs": [
    {
     "data": {
      "text/plain": [
       "[<matplotlib.lines.Line2D at 0x2c45b12bd90>]"
      ]
     },
     "execution_count": 25,
     "metadata": {},
     "output_type": "execute_result"
    },
    {
     "data": {
      "image/png": "[encoded data removed]",
      "text/plain": [
       "<Figure size 432x288 with 1 Axes>"
      ]
     },
     "metadata": {
      "needs_background": "light"
     },
     "output_type": "display_data"
    }
   ],
   "source": [
    "pyplot.plot(svd.singular_values_[60:])\n",
    "pyplot.plot(svd2.singular_values_[60:])\n",
    "# 그정도의 설명력은 망가진 데이터에서도 나오기 때문에 설명력이 없다."
   ]
  },
  {
   "cell_type": "code",
   "execution_count": 26,
   "id": "genetic-joshua",
   "metadata": {},
   "outputs": [
    {
     "data": {
      "text/plain": [
       "array([ 1.02184545e-01,  2.40815353e+00,  1.46387541e+00,  1.29801274e+00,\n",
       "        1.07919708e+00,  9.80976249e-01,  8.34164117e-01,  7.77079421e-01,\n",
       "        7.45502972e-01,  6.64272745e-01,  6.25054724e-01,  5.62741331e-01,\n",
       "        5.20163849e-01,  4.30513997e-01,  4.22431409e-01,  3.97282251e-01,\n",
       "        3.55380212e-01,  2.96571356e-01,  2.89000222e-01,  2.72139574e-01,\n",
       "        2.62931477e-01,  2.32747525e-01,  2.35963171e-01,  2.04960492e-01,\n",
       "        1.86785976e-01,  1.84937104e-01,  1.66204666e-01,  1.61107994e-01,\n",
       "        1.58736704e-01,  1.46655793e-01,  1.23402946e-01,  1.13850994e-01,\n",
       "        1.40411430e-01,  1.26731148e-01,  1.26590041e-01,  1.26138602e-01,\n",
       "        1.17895756e-01,  1.03059338e-01,  1.01597124e-01,  1.03583136e-01,\n",
       "        8.96307540e-02,  7.69945466e-02,  7.03008451e-02,  7.59410016e-02,\n",
       "        7.59317748e-02,  7.66670457e-02,  8.36953707e-02,  7.33101380e-02,\n",
       "        7.51780990e-02,  7.30947991e-02,  6.73614827e-02,  7.98969124e-02,\n",
       "        6.87201744e-02,  7.49379283e-02,  7.77490009e-02,  6.48320954e-02,\n",
       "        5.97764282e-02,  5.59846501e-02,  5.81752009e-02,  6.21109803e-02,\n",
       "        5.46708473e-02,  4.49908371e-02,  3.65094658e-02,  2.90234235e-02,\n",
       "        3.91648035e-02,  3.88899471e-02,  4.28842952e-02,  3.21118628e-02,\n",
       "        4.15153713e-02,  4.04519182e-02,  2.53917729e-02,  3.48557147e-02,\n",
       "        3.99127547e-02,  3.41111603e-02,  2.46772112e-02,  2.72950464e-02,\n",
       "        2.53633857e-02,  3.12009914e-02,  2.13519812e-02,  2.69690362e-02,\n",
       "        2.09238768e-02,  2.14056517e-02,  1.17909587e-02,  8.28164656e-03,\n",
       "        1.46127276e-02,  2.57389185e-03,  2.09118271e-03,  3.12869984e-03,\n",
       "        3.01869578e-03, -3.24261445e-03, -5.48466823e-03, -1.03971170e-02,\n",
       "       -7.15145447e-03,  9.06848579e-04, -7.93114265e-03, -1.19957552e-02,\n",
       "       -3.28385602e-03, -4.85807074e-04,  1.38198709e-03,  8.85891036e-03])"
      ]
     },
     "execution_count": 26,
     "metadata": {},
     "output_type": "execute_result"
    }
   ],
   "source": [
    "svd.singular_values_-svd2.singular_values_"
   ]
  },
  {
   "cell_type": "code",
   "execution_count": 27,
   "id": "artistic-ceremony",
   "metadata": {},
   "outputs": [
    {
     "data": {
      "text/plain": [
       "array([89], dtype=int64)"
      ]
     },
     "execution_count": 27,
     "metadata": {},
     "output_type": "execute_result"
    }
   ],
   "source": [
    "np.argwhere(svd.singular_values_ - svd2.singular_values_ <= 0)[0] # 따라잡히는 부분"
   ]
  },
  {
   "cell_type": "markdown",
   "id": "legal-assist",
   "metadata": {},
   "source": [
    "- 다시 돌릴 필요 없이 89번 이후로 무시해도 된다."
   ]
  },
  {
   "cell_type": "code",
   "execution_count": 28,
   "id": "consecutive-ballot",
   "metadata": {},
   "outputs": [
    {
     "data": {
      "text/plain": [
       "array([13.1049632 ,  6.24887246,  5.23960279,  4.98203029,  4.7245208 ,\n",
       "        4.53275958,  4.33575812,  4.24397353,  4.1973569 ,  4.09940561,\n",
       "        4.02136252,  3.94607169,  3.8746375 ,  3.76425946,  3.73489504,\n",
       "        3.67494864,  3.61006926,  3.53957768,  3.51066328,  3.47703452,\n",
       "        3.45776757,  3.40751104,  3.38371683,  3.33792005,  3.31826573,\n",
       "        3.28017049,  3.24411588,  3.22981461,  3.21560609,  3.19422682,\n",
       "        3.16531139,  3.14646559,  3.13715368,  3.11301141,  3.10200024,\n",
       "        3.0856626 ,  3.06587763,  3.04871832,  3.03661395,  3.02810667,\n",
       "        3.00140631,  2.97553745,  2.95843558,  2.9476044 ,  2.93915616,\n",
       "        2.92645519,  2.91931826,  2.89893826,  2.89110166,  2.87695688,\n",
       "        2.8657671 ,  2.85870811,  2.83952174,  2.83321537,  2.82688514,\n",
       "        2.81075124,  2.79682435,  2.78961972,  2.78629947,  2.78009958,\n",
       "        2.76914862,  2.75360076,  2.73542092,  2.72491842,  2.72097482,\n",
       "        2.70977702,  2.70618782,  2.68935835,  2.68141988,  2.67326421,\n",
       "        2.6564279 ,  2.65266225,  2.64716935,  2.63666356,  2.6248415 ,\n",
       "        2.61810746,  2.61301586,  2.60311799,  2.58512373,  2.58456223,\n",
       "        2.56887693,  2.5656448 ,  2.54748773,  2.53745035,  2.53290478,\n",
       "        2.51654052,  2.5109636 ,  2.50496501,  2.4965957 ,  2.48368642,\n",
       "        2.47491023,  2.46421356,  2.4570728 ,  2.45375165,  2.44221647,\n",
       "        2.43110119,  2.42967012,  2.41676355,  2.41270059,  2.40846582])"
      ]
     },
     "execution_count": 28,
     "metadata": {},
     "output_type": "execute_result"
    }
   ],
   "source": [
    "svd.singular_values_"
   ]
  },
  {
   "cell_type": "code",
   "execution_count": 29,
   "id": "tutorial-prairie",
   "metadata": {},
   "outputs": [
    {
     "data": {
      "text/plain": [
       "(100, 2000)"
      ]
     },
     "execution_count": 29,
     "metadata": {},
     "output_type": "execute_result"
    }
   ],
   "source": [
    "svd.components_.shape"
   ]
  },
  {
   "cell_type": "markdown",
   "id": "swiss-gabriel",
   "metadata": {},
   "source": [
    "## 회전"
   ]
  },
  {
   "cell_type": "code",
   "execution_count": 30,
   "id": "ignored-google",
   "metadata": {},
   "outputs": [
    {
     "name": "stdout",
     "output_type": "stream",
     "text": [
      "Collecting factor_analyzer\n",
      "  Downloading factor_analyzer-0.3.2.tar.gz (40 kB)\n",
      "Requirement already satisfied: pandas in c:\\users\\msi\\anaconda3\\lib\\site-packages (from factor_analyzer) (1.2.3)\n",
      "Requirement already satisfied: scipy in c:\\users\\msi\\anaconda3\\lib\\site-packages (from factor_analyzer) (1.6.1)\n",
      "Requirement already satisfied: numpy in c:\\users\\msi\\anaconda3\\lib\\site-packages (from factor_analyzer) (1.19.5)\n",
      "Requirement already satisfied: scikit-learn in c:\\users\\msi\\anaconda3\\lib\\site-packages (from factor_analyzer) (0.24.1)\n",
      "Requirement already satisfied: python-dateutil>=2.7.3 in c:\\users\\msi\\anaconda3\\lib\\site-packages (from pandas->factor_analyzer) (2.8.1)\n",
      "Requirement already satisfied: pytz>=2017.3 in c:\\users\\msi\\anaconda3\\lib\\site-packages (from pandas->factor_analyzer) (2021.1)\n",
      "Requirement already satisfied: six>=1.5 in c:\\users\\msi\\anaconda3\\lib\\site-packages (from python-dateutil>=2.7.3->pandas->factor_analyzer) (1.15.0)\n",
      "Requirement already satisfied: joblib>=0.11 in c:\\users\\msi\\anaconda3\\lib\\site-packages (from scikit-learn->factor_analyzer) (1.0.1)\n",
      "Requirement already satisfied: threadpoolctl>=2.0.0 in c:\\users\\msi\\anaconda3\\lib\\site-packages (from scikit-learn->factor_analyzer) (2.1.0)\n",
      "Building wheels for collected packages: factor-analyzer\n",
      "  Building wheel for factor-analyzer (setup.py): started\n",
      "  Building wheel for factor-analyzer (setup.py): finished with status 'done'\n",
      "  Created wheel for factor-analyzer: filename=factor_analyzer-0.3.2-py3-none-any.whl size=40380 sha256=8f1bf9f9eaa8600b03de21bf1675aeb12332cce7a7fa7a03cf36ef9a69176493\n",
      "  Stored in directory: c:\\users\\msi\\appdata\\local\\pip\\cache\\wheels\\b1\\d4\\b5\\9da0e0e81266e87f5e85068f031077c8a2ae0eedf76ea1d294\n",
      "Successfully built factor-analyzer\n",
      "Installing collected packages: factor-analyzer\n",
      "Successfully installed factor-analyzer-0.3.2\n"
     ]
    }
   ],
   "source": [
    "# !pip install factor_analyzer"
   ]
  },
  {
   "cell_type": "code",
   "execution_count": 31,
   "id": "changing-pitch",
   "metadata": {},
   "outputs": [],
   "source": [
    "from factor_analyzer.rotator import Rotator"
   ]
  },
  {
   "cell_type": "code",
   "execution_count": 32,
   "id": "reduced-jewelry",
   "metadata": {},
   "outputs": [],
   "source": [
    "rotator = Rotator() # 초기화"
   ]
  },
  {
   "cell_type": "markdown",
   "id": "declared-shannon",
   "metadata": {},
   "source": [
    "- 행방향: 주제, 열방향:단어 -> T로 행과 열을 뒤집음 \n",
    "- 행방향: 단어, 열방향: 주제로 변경"
   ]
  },
  {
   "cell_type": "code",
   "execution_count": 33,
   "id": "legitimate-comfort",
   "metadata": {},
   "outputs": [],
   "source": [
    "rot = rotator.fit_transform(svd.components_.T) "
   ]
  },
  {
   "cell_type": "code",
   "execution_count": 34,
   "id": "waiting-failing",
   "metadata": {},
   "outputs": [],
   "source": [
    "loading = rot.T"
   ]
  },
  {
   "cell_type": "markdown",
   "id": "accessory-attempt",
   "metadata": {},
   "source": [
    "- 회전을 하게되면, 모든 관련도를 특정 주제로 몰아준다."
   ]
  },
  {
   "cell_type": "code",
   "execution_count": 35,
   "id": "extra-attachment",
   "metadata": {},
   "outputs": [
    {
     "data": {
      "text/plain": [
       "[<matplotlib.lines.Line2D at 0x2c45b42fc10>]"
      ]
     },
     "execution_count": 35,
     "metadata": {},
     "output_type": "execute_result"
    },
    {
     "data": {
      "image/png": "[encoded data removed]",
      "text/plain": [
       "<Figure size 432x288 with 1 Axes>"
      ]
     },
     "metadata": {
      "needs_background": "light"
     },
     "output_type": "display_data"
    }
   ],
   "source": [
    "pyplot.plot(loading[:, word_idx])"
   ]
  },
  {
   "cell_type": "code",
   "execution_count": 36,
   "id": "ordinary-cabin",
   "metadata": {},
   "outputs": [
    {
     "data": {
      "text/plain": [
       "27"
      ]
     },
     "execution_count": 36,
     "metadata": {},
     "output_type": "execute_result"
    }
   ],
   "source": [
    "topic_idx = loading[:, word_idx].argmax()\n",
    "topic_idx"
   ]
  },
  {
   "cell_type": "code",
   "execution_count": 38,
   "id": "ethical-court",
   "metadata": {},
   "outputs": [
    {
     "data": {
      "text/html": [
       "<div>\n",
       "<style scoped>\n",
       "    .dataframe tbody tr th:only-of-type {\n",
       "        vertical-align: middle;\n",
       "    }\n",
       "\n",
       "    .dataframe tbody tr th {\n",
       "        vertical-align: top;\n",
       "    }\n",
       "\n",
       "    .dataframe thead th {\n",
       "        text-align: right;\n",
       "    }\n",
       "</style>\n",
       "<table border=\"1\" class=\"dataframe\">\n",
       "  <thead>\n",
       "    <tr style=\"text-align: right;\">\n",
       "      <th></th>\n",
       "      <th>word</th>\n",
       "      <th>loading</th>\n",
       "    </tr>\n",
       "  </thead>\n",
       "  <tbody>\n",
       "    <tr>\n",
       "      <th>1842</th>\n",
       "      <td>text</td>\n",
       "      <td>0.121777</td>\n",
       "    </tr>\n",
       "    <tr>\n",
       "      <th>999</th>\n",
       "      <td>latent</td>\n",
       "      <td>0.157819</td>\n",
       "    </tr>\n",
       "    <tr>\n",
       "      <th>520</th>\n",
       "      <td>dirichlet</td>\n",
       "      <td>0.187826</td>\n",
       "    </tr>\n",
       "    <tr>\n",
       "      <th>540</th>\n",
       "      <td>document</td>\n",
       "      <td>0.192213</td>\n",
       "    </tr>\n",
       "    <tr>\n",
       "      <th>1987</th>\n",
       "      <td>word</td>\n",
       "      <td>0.208114</td>\n",
       "    </tr>\n",
       "    <tr>\n",
       "      <th>1988</th>\n",
       "      <td>words</td>\n",
       "      <td>0.215588</td>\n",
       "    </tr>\n",
       "    <tr>\n",
       "      <th>1003</th>\n",
       "      <td>lda</td>\n",
       "      <td>0.224917</td>\n",
       "    </tr>\n",
       "    <tr>\n",
       "      <th>541</th>\n",
       "      <td>documents</td>\n",
       "      <td>0.225140</td>\n",
       "    </tr>\n",
       "    <tr>\n",
       "      <th>1862</th>\n",
       "      <td>topics</td>\n",
       "      <td>0.273106</td>\n",
       "    </tr>\n",
       "    <tr>\n",
       "      <th>1861</th>\n",
       "      <td>topic</td>\n",
       "      <td>0.566290</td>\n",
       "    </tr>\n",
       "  </tbody>\n",
       "</table>\n",
       "</div>"
      ],
      "text/plain": [
       "           word   loading\n",
       "1842       text  0.121777\n",
       "999      latent  0.157819\n",
       "520   dirichlet  0.187826\n",
       "540    document  0.192213\n",
       "1987       word  0.208114\n",
       "1988      words  0.215588\n",
       "1003        lda  0.224917\n",
       "541   documents  0.225140\n",
       "1862     topics  0.273106\n",
       "1861      topic  0.566290"
      ]
     },
     "execution_count": 38,
     "metadata": {},
     "output_type": "execute_result"
    }
   ],
   "source": [
    "topic = pd.DataFrame({'word': words, 'loading': loading[topic_idx]})\n",
    "topic.sort_values('loading').tail(10)"
   ]
  },
  {
   "cell_type": "code",
   "execution_count": 39,
   "id": "skilled-assembly",
   "metadata": {},
   "outputs": [],
   "source": [
    "doc_topics = svd.transform(x)"
   ]
  },
  {
   "cell_type": "code",
   "execution_count": 40,
   "id": "balanced-internet",
   "metadata": {},
   "outputs": [
    {
     "data": {
      "text/plain": [
       "(3920, 100)"
      ]
     },
     "execution_count": 40,
     "metadata": {},
     "output_type": "execute_result"
    }
   ],
   "source": [
    "doc_topics.shape"
   ]
  },
  {
   "cell_type": "markdown",
   "id": "continent-environment",
   "metadata": {},
   "source": [
    "- 회전 적용(@는 행렬의 곱을 뜻함)"
   ]
  },
  {
   "cell_type": "code",
   "execution_count": 41,
   "id": "fresh-accreditation",
   "metadata": {},
   "outputs": [],
   "source": [
    "doc_topics = doc_topics @ rotator.rotation_"
   ]
  },
  {
   "cell_type": "code",
   "execution_count": 43,
   "id": "improved-charity",
   "metadata": {},
   "outputs": [
    {
     "data": {
      "text/plain": [
       "array([ 0.04513653, -0.02398903,  0.02458688, ...,  0.01771896,\n",
       "       -0.01505735,  0.03134085])"
      ]
     },
     "execution_count": 43,
     "metadata": {},
     "output_type": "execute_result"
    }
   ],
   "source": [
    "doc_topics[:,topic_idx] # 문서별로 27번 주제를 얼마나 포함하고 있는지"
   ]
  },
  {
   "cell_type": "code",
   "execution_count": 44,
   "id": "western-parade",
   "metadata": {},
   "outputs": [
    {
     "data": {
      "text/html": [
       "<div>\n",
       "<style scoped>\n",
       "    .dataframe tbody tr th:only-of-type {\n",
       "        vertical-align: middle;\n",
       "    }\n",
       "\n",
       "    .dataframe tbody tr th {\n",
       "        vertical-align: top;\n",
       "    }\n",
       "\n",
       "    .dataframe thead th {\n",
       "        text-align: right;\n",
       "    }\n",
       "</style>\n",
       "<table border=\"1\" class=\"dataframe\">\n",
       "  <thead>\n",
       "    <tr style=\"text-align: right;\">\n",
       "      <th></th>\n",
       "      <th>year</th>\n",
       "      <th>topic</th>\n",
       "    </tr>\n",
       "  </thead>\n",
       "  <tbody>\n",
       "    <tr>\n",
       "      <th>0</th>\n",
       "      <td>2007</td>\n",
       "      <td>0.045137</td>\n",
       "    </tr>\n",
       "    <tr>\n",
       "      <th>1</th>\n",
       "      <td>2007</td>\n",
       "      <td>-0.023989</td>\n",
       "    </tr>\n",
       "    <tr>\n",
       "      <th>2</th>\n",
       "      <td>2007</td>\n",
       "      <td>0.024587</td>\n",
       "    </tr>\n",
       "    <tr>\n",
       "      <th>3</th>\n",
       "      <td>2007</td>\n",
       "      <td>0.008981</td>\n",
       "    </tr>\n",
       "    <tr>\n",
       "      <th>4</th>\n",
       "      <td>2007</td>\n",
       "      <td>0.006652</td>\n",
       "    </tr>\n",
       "    <tr>\n",
       "      <th>...</th>\n",
       "      <td>...</td>\n",
       "      <td>...</td>\n",
       "    </tr>\n",
       "    <tr>\n",
       "      <th>3915</th>\n",
       "      <td>2017</td>\n",
       "      <td>-0.020803</td>\n",
       "    </tr>\n",
       "    <tr>\n",
       "      <th>3916</th>\n",
       "      <td>2017</td>\n",
       "      <td>0.030219</td>\n",
       "    </tr>\n",
       "    <tr>\n",
       "      <th>3917</th>\n",
       "      <td>2017</td>\n",
       "      <td>0.017719</td>\n",
       "    </tr>\n",
       "    <tr>\n",
       "      <th>3918</th>\n",
       "      <td>2017</td>\n",
       "      <td>-0.015057</td>\n",
       "    </tr>\n",
       "    <tr>\n",
       "      <th>3919</th>\n",
       "      <td>2017</td>\n",
       "      <td>0.031341</td>\n",
       "    </tr>\n",
       "  </tbody>\n",
       "</table>\n",
       "<p>3920 rows × 2 columns</p>\n",
       "</div>"
      ],
      "text/plain": [
       "      year     topic\n",
       "0     2007  0.045137\n",
       "1     2007 -0.023989\n",
       "2     2007  0.024587\n",
       "3     2007  0.008981\n",
       "4     2007  0.006652\n",
       "...    ...       ...\n",
       "3915  2017 -0.020803\n",
       "3916  2017  0.030219\n",
       "3917  2017  0.017719\n",
       "3918  2017 -0.015057\n",
       "3919  2017  0.031341\n",
       "\n",
       "[3920 rows x 2 columns]"
      ]
     },
     "execution_count": 44,
     "metadata": {},
     "output_type": "execute_result"
    }
   ],
   "source": [
    "year_topic = pd.DataFrame({'year': df.year, 'topic': doc_topics[:, topic_idx]}); year_topic"
   ]
  },
  {
   "cell_type": "markdown",
   "id": "portuguese-apartment",
   "metadata": {},
   "source": [
    "- 주제분석 연구가 2007년에는 활발했으나, 점차 감소하고 있다."
   ]
  },
  {
   "cell_type": "code",
   "execution_count": 45,
   "id": "million-stack",
   "metadata": {},
   "outputs": [
    {
     "data": {
      "text/html": [
       "<div>\n",
       "<style scoped>\n",
       "    .dataframe tbody tr th:only-of-type {\n",
       "        vertical-align: middle;\n",
       "    }\n",
       "\n",
       "    .dataframe tbody tr th {\n",
       "        vertical-align: top;\n",
       "    }\n",
       "\n",
       "    .dataframe thead th {\n",
       "        text-align: right;\n",
       "    }\n",
       "</style>\n",
       "<table border=\"1\" class=\"dataframe\">\n",
       "  <thead>\n",
       "    <tr style=\"text-align: right;\">\n",
       "      <th></th>\n",
       "      <th>topic</th>\n",
       "    </tr>\n",
       "    <tr>\n",
       "      <th>year</th>\n",
       "      <th></th>\n",
       "    </tr>\n",
       "  </thead>\n",
       "  <tbody>\n",
       "    <tr>\n",
       "      <th>2007</th>\n",
       "      <td>0.025189</td>\n",
       "    </tr>\n",
       "    <tr>\n",
       "      <th>2008</th>\n",
       "      <td>0.016155</td>\n",
       "    </tr>\n",
       "    <tr>\n",
       "      <th>2009</th>\n",
       "      <td>0.019187</td>\n",
       "    </tr>\n",
       "    <tr>\n",
       "      <th>2010</th>\n",
       "      <td>0.013317</td>\n",
       "    </tr>\n",
       "    <tr>\n",
       "      <th>2011</th>\n",
       "      <td>0.010558</td>\n",
       "    </tr>\n",
       "    <tr>\n",
       "      <th>2012</th>\n",
       "      <td>0.016707</td>\n",
       "    </tr>\n",
       "    <tr>\n",
       "      <th>2013</th>\n",
       "      <td>0.015346</td>\n",
       "    </tr>\n",
       "    <tr>\n",
       "      <th>2014</th>\n",
       "      <td>0.014001</td>\n",
       "    </tr>\n",
       "    <tr>\n",
       "      <th>2015</th>\n",
       "      <td>0.009028</td>\n",
       "    </tr>\n",
       "    <tr>\n",
       "      <th>2016</th>\n",
       "      <td>0.007839</td>\n",
       "    </tr>\n",
       "    <tr>\n",
       "      <th>2017</th>\n",
       "      <td>0.006863</td>\n",
       "    </tr>\n",
       "  </tbody>\n",
       "</table>\n",
       "</div>"
      ],
      "text/plain": [
       "         topic\n",
       "year          \n",
       "2007  0.025189\n",
       "2008  0.016155\n",
       "2009  0.019187\n",
       "2010  0.013317\n",
       "2011  0.010558\n",
       "2012  0.016707\n",
       "2013  0.015346\n",
       "2014  0.014001\n",
       "2015  0.009028\n",
       "2016  0.007839\n",
       "2017  0.006863"
      ]
     },
     "execution_count": 45,
     "metadata": {},
     "output_type": "execute_result"
    }
   ],
   "source": [
    "year_topic.groupby('year').agg('mean') # 연도별 평균"
   ]
  },
  {
   "cell_type": "code",
   "execution_count": 46,
   "id": "increased-anxiety",
   "metadata": {},
   "outputs": [],
   "source": [
    "word_idx1 = words.index('deep')"
   ]
  },
  {
   "cell_type": "code",
   "execution_count": 47,
   "id": "understanding-enemy",
   "metadata": {},
   "outputs": [
    {
     "data": {
      "text/plain": [
       "[<matplotlib.lines.Line2D at 0x2c45b76f550>]"
      ]
     },
     "execution_count": 47,
     "metadata": {},
     "output_type": "execute_result"
    },
    {
     "data": {
      "image/png": "[encoded data removed]",
      "text/plain": [
       "<Figure size 432x288 with 1 Axes>"
      ]
     },
     "metadata": {
      "needs_background": "light"
     },
     "output_type": "display_data"
    }
   ],
   "source": [
    "pyplot.plot(loading[:, word_idx1])"
   ]
  },
  {
   "cell_type": "code",
   "execution_count": 48,
   "id": "worldwide-audio",
   "metadata": {},
   "outputs": [
    {
     "data": {
      "text/plain": [
       "88"
      ]
     },
     "execution_count": 48,
     "metadata": {},
     "output_type": "execute_result"
    }
   ],
   "source": [
    "topic_idx1 = loading[:, word_idx1].argmax()\n",
    "topic_idx1"
   ]
  },
  {
   "cell_type": "code",
   "execution_count": 51,
   "id": "checked-lemon",
   "metadata": {},
   "outputs": [
    {
     "data": {
      "text/plain": [
       "1"
      ]
     },
     "execution_count": 51,
     "metadata": {},
     "output_type": "execute_result"
    }
   ],
   "source": [
    "topic_idx1 = loading[:, word_idx1].argmin()\n",
    "topic_idx1"
   ]
  },
  {
   "cell_type": "markdown",
   "id": "funded-grace",
   "metadata": {},
   "source": [
    "- 1번주제가 감소하면 deep,layer,convolution등의 단어가 감소한다."
   ]
  },
  {
   "cell_type": "code",
   "execution_count": 52,
   "id": "opposed-laser",
   "metadata": {},
   "outputs": [
    {
     "data": {
      "text/html": [
       "<div>\n",
       "<style scoped>\n",
       "    .dataframe tbody tr th:only-of-type {\n",
       "        vertical-align: middle;\n",
       "    }\n",
       "\n",
       "    .dataframe tbody tr th {\n",
       "        vertical-align: top;\n",
       "    }\n",
       "\n",
       "    .dataframe thead th {\n",
       "        text-align: right;\n",
       "    }\n",
       "</style>\n",
       "<table border=\"1\" class=\"dataframe\">\n",
       "  <thead>\n",
       "    <tr style=\"text-align: right;\">\n",
       "      <th></th>\n",
       "      <th>word</th>\n",
       "      <th>loading</th>\n",
       "    </tr>\n",
       "  </thead>\n",
       "  <tbody>\n",
       "    <tr>\n",
       "      <th>450</th>\n",
       "      <td>deep</td>\n",
       "      <td>-0.505157</td>\n",
       "    </tr>\n",
       "    <tr>\n",
       "      <th>1001</th>\n",
       "      <td>layer</td>\n",
       "      <td>-0.283529</td>\n",
       "    </tr>\n",
       "    <tr>\n",
       "      <th>1002</th>\n",
       "      <td>layers</td>\n",
       "      <td>-0.217273</td>\n",
       "    </tr>\n",
       "    <tr>\n",
       "      <th>1184</th>\n",
       "      <td>networks</td>\n",
       "      <td>-0.215860</td>\n",
       "    </tr>\n",
       "    <tr>\n",
       "      <th>397</th>\n",
       "      <td>convolutional</td>\n",
       "      <td>-0.190170</td>\n",
       "    </tr>\n",
       "    <tr>\n",
       "      <th>1185</th>\n",
       "      <td>neural</td>\n",
       "      <td>-0.165311</td>\n",
       "    </tr>\n",
       "    <tr>\n",
       "      <th>1483</th>\n",
       "      <td>recognition</td>\n",
       "      <td>-0.131614</td>\n",
       "    </tr>\n",
       "    <tr>\n",
       "      <th>1872</th>\n",
       "      <td>trained</td>\n",
       "      <td>-0.110204</td>\n",
       "    </tr>\n",
       "    <tr>\n",
       "      <th>105</th>\n",
       "      <td>architecture</td>\n",
       "      <td>-0.109013</td>\n",
       "    </tr>\n",
       "    <tr>\n",
       "      <th>106</th>\n",
       "      <td>architectures</td>\n",
       "      <td>-0.106676</td>\n",
       "    </tr>\n",
       "  </tbody>\n",
       "</table>\n",
       "</div>"
      ],
      "text/plain": [
       "               word   loading\n",
       "450            deep -0.505157\n",
       "1001          layer -0.283529\n",
       "1002         layers -0.217273\n",
       "1184       networks -0.215860\n",
       "397   convolutional -0.190170\n",
       "1185         neural -0.165311\n",
       "1483    recognition -0.131614\n",
       "1872        trained -0.110204\n",
       "105    architecture -0.109013\n",
       "106   architectures -0.106676"
      ]
     },
     "execution_count": 52,
     "metadata": {},
     "output_type": "execute_result"
    }
   ],
   "source": [
    "topic = pd.DataFrame({'word': words, 'loading': loading[topic_idx1]})\n",
    "topic.sort_values('loading').head(10)"
   ]
  },
  {
   "cell_type": "code",
   "execution_count": 53,
   "id": "trained-invasion",
   "metadata": {},
   "outputs": [
    {
     "data": {
      "text/html": [
       "<div>\n",
       "<style scoped>\n",
       "    .dataframe tbody tr th:only-of-type {\n",
       "        vertical-align: middle;\n",
       "    }\n",
       "\n",
       "    .dataframe tbody tr th {\n",
       "        vertical-align: top;\n",
       "    }\n",
       "\n",
       "    .dataframe thead th {\n",
       "        text-align: right;\n",
       "    }\n",
       "</style>\n",
       "<table border=\"1\" class=\"dataframe\">\n",
       "  <thead>\n",
       "    <tr style=\"text-align: right;\">\n",
       "      <th></th>\n",
       "      <th>year</th>\n",
       "      <th>topic</th>\n",
       "    </tr>\n",
       "  </thead>\n",
       "  <tbody>\n",
       "    <tr>\n",
       "      <th>0</th>\n",
       "      <td>2007</td>\n",
       "      <td>0.045137</td>\n",
       "    </tr>\n",
       "    <tr>\n",
       "      <th>1</th>\n",
       "      <td>2007</td>\n",
       "      <td>-0.023989</td>\n",
       "    </tr>\n",
       "    <tr>\n",
       "      <th>2</th>\n",
       "      <td>2007</td>\n",
       "      <td>0.024587</td>\n",
       "    </tr>\n",
       "    <tr>\n",
       "      <th>3</th>\n",
       "      <td>2007</td>\n",
       "      <td>0.008981</td>\n",
       "    </tr>\n",
       "    <tr>\n",
       "      <th>4</th>\n",
       "      <td>2007</td>\n",
       "      <td>0.006652</td>\n",
       "    </tr>\n",
       "    <tr>\n",
       "      <th>...</th>\n",
       "      <td>...</td>\n",
       "      <td>...</td>\n",
       "    </tr>\n",
       "    <tr>\n",
       "      <th>3915</th>\n",
       "      <td>2017</td>\n",
       "      <td>-0.020803</td>\n",
       "    </tr>\n",
       "    <tr>\n",
       "      <th>3916</th>\n",
       "      <td>2017</td>\n",
       "      <td>0.030219</td>\n",
       "    </tr>\n",
       "    <tr>\n",
       "      <th>3917</th>\n",
       "      <td>2017</td>\n",
       "      <td>0.017719</td>\n",
       "    </tr>\n",
       "    <tr>\n",
       "      <th>3918</th>\n",
       "      <td>2017</td>\n",
       "      <td>-0.015057</td>\n",
       "    </tr>\n",
       "    <tr>\n",
       "      <th>3919</th>\n",
       "      <td>2017</td>\n",
       "      <td>0.031341</td>\n",
       "    </tr>\n",
       "  </tbody>\n",
       "</table>\n",
       "<p>3920 rows × 2 columns</p>\n",
       "</div>"
      ],
      "text/plain": [
       "      year     topic\n",
       "0     2007  0.045137\n",
       "1     2007 -0.023989\n",
       "2     2007  0.024587\n",
       "3     2007  0.008981\n",
       "4     2007  0.006652\n",
       "...    ...       ...\n",
       "3915  2017 -0.020803\n",
       "3916  2017  0.030219\n",
       "3917  2017  0.017719\n",
       "3918  2017 -0.015057\n",
       "3919  2017  0.031341\n",
       "\n",
       "[3920 rows x 2 columns]"
      ]
     },
     "execution_count": 53,
     "metadata": {},
     "output_type": "execute_result"
    }
   ],
   "source": [
    "year_topic1 = pd.DataFrame({'year': df.year, 'topic': doc_topics[:, topic_idx1]}); year_topic"
   ]
  },
  {
   "cell_type": "markdown",
   "id": "several-prison",
   "metadata": {},
   "source": [
    "- 마이너스가 심해질 수록 딥러닝이라는 단어가 많이 나옴\n",
    "- 딥러닝의 주제는 시간이 지날수록 뜨고있다."
   ]
  },
  {
   "cell_type": "code",
   "execution_count": 54,
   "id": "chemical-federal",
   "metadata": {},
   "outputs": [
    {
     "data": {
      "text/html": [
       "<div>\n",
       "<style scoped>\n",
       "    .dataframe tbody tr th:only-of-type {\n",
       "        vertical-align: middle;\n",
       "    }\n",
       "\n",
       "    .dataframe tbody tr th {\n",
       "        vertical-align: top;\n",
       "    }\n",
       "\n",
       "    .dataframe thead th {\n",
       "        text-align: right;\n",
       "    }\n",
       "</style>\n",
       "<table border=\"1\" class=\"dataframe\">\n",
       "  <thead>\n",
       "    <tr style=\"text-align: right;\">\n",
       "      <th></th>\n",
       "      <th>topic</th>\n",
       "    </tr>\n",
       "    <tr>\n",
       "      <th>year</th>\n",
       "      <th></th>\n",
       "    </tr>\n",
       "  </thead>\n",
       "  <tbody>\n",
       "    <tr>\n",
       "      <th>2007</th>\n",
       "      <td>-0.016888</td>\n",
       "    </tr>\n",
       "    <tr>\n",
       "      <th>2008</th>\n",
       "      <td>-0.013269</td>\n",
       "    </tr>\n",
       "    <tr>\n",
       "      <th>2009</th>\n",
       "      <td>-0.013078</td>\n",
       "    </tr>\n",
       "    <tr>\n",
       "      <th>2010</th>\n",
       "      <td>-0.016361</td>\n",
       "    </tr>\n",
       "    <tr>\n",
       "      <th>2011</th>\n",
       "      <td>-0.009583</td>\n",
       "    </tr>\n",
       "    <tr>\n",
       "      <th>2012</th>\n",
       "      <td>-0.016532</td>\n",
       "    </tr>\n",
       "    <tr>\n",
       "      <th>2013</th>\n",
       "      <td>-0.016087</td>\n",
       "    </tr>\n",
       "    <tr>\n",
       "      <th>2014</th>\n",
       "      <td>-0.028141</td>\n",
       "    </tr>\n",
       "    <tr>\n",
       "      <th>2015</th>\n",
       "      <td>-0.031285</td>\n",
       "    </tr>\n",
       "    <tr>\n",
       "      <th>2016</th>\n",
       "      <td>-0.039081</td>\n",
       "    </tr>\n",
       "    <tr>\n",
       "      <th>2017</th>\n",
       "      <td>-0.043077</td>\n",
       "    </tr>\n",
       "  </tbody>\n",
       "</table>\n",
       "</div>"
      ],
      "text/plain": [
       "         topic\n",
       "year          \n",
       "2007 -0.016888\n",
       "2008 -0.013269\n",
       "2009 -0.013078\n",
       "2010 -0.016361\n",
       "2011 -0.009583\n",
       "2012 -0.016532\n",
       "2013 -0.016087\n",
       "2014 -0.028141\n",
       "2015 -0.031285\n",
       "2016 -0.039081\n",
       "2017 -0.043077"
      ]
     },
     "execution_count": 54,
     "metadata": {},
     "output_type": "execute_result"
    }
   ],
   "source": [
    "year_topic1.groupby('year').agg('mean')"
   ]
  },
  {
   "cell_type": "markdown",
   "id": "unavailable-hamilton",
   "metadata": {},
   "source": [
    "## NMF"
   ]
  },
  {
   "cell_type": "code",
   "execution_count": 55,
   "id": "legislative-brand",
   "metadata": {},
   "outputs": [
    {
     "name": "stderr",
     "output_type": "stream",
     "text": [
      "C:\\Users\\msi\\anaconda3\\lib\\site-packages\\sklearn\\decomposition\\_nmf.py:312: FutureWarning: The 'init' value, when 'init=None' and n_components is less than n_samples and n_features, will be changed from 'nndsvd' to 'nndsvda' in 1.1 (renaming of 0.26).\n",
      "  warnings.warn((\"The 'init' value, when 'init=None' and \"\n",
      "C:\\Users\\msi\\anaconda3\\lib\\site-packages\\sklearn\\decomposition\\_nmf.py:1090: ConvergenceWarning: Maximum number of iterations 200 reached. Increase it to improve convergence.\n",
      "  warnings.warn(\"Maximum number of iterations %d reached. Increase it to\"\n"
     ]
    }
   ],
   "source": [
    "from sklearn.decomposition import NMF\n",
    "nmf = NMF(n_components=89, random_state=1234)\n",
    "doc_topics = nmf.fit_transform(x)"
   ]
  },
  {
   "cell_type": "code",
   "execution_count": 56,
   "id": "hydraulic-skiing",
   "metadata": {},
   "outputs": [],
   "source": [
    "loading = nmf.components_"
   ]
  },
  {
   "cell_type": "code",
   "execution_count": 57,
   "id": "ideal-roots",
   "metadata": {},
   "outputs": [],
   "source": [
    "word_idx = words.index('topic') # topic이라는 단어가 몇번인지"
   ]
  },
  {
   "cell_type": "code",
   "execution_count": 58,
   "id": "through-chassis",
   "metadata": {},
   "outputs": [
    {
     "data": {
      "text/plain": [
       "[<matplotlib.lines.Line2D at 0x2c45b66b1f0>]"
      ]
     },
     "execution_count": 58,
     "metadata": {},
     "output_type": "execute_result"
    },
    {
     "data": {
      "image/png": "[encoded data removed]",
      "text/plain": [
       "<Figure size 432x288 with 1 Axes>"
      ]
     },
     "metadata": {
      "needs_background": "light"
     },
     "output_type": "display_data"
    }
   ],
   "source": [
    "pyplot.plot(loading[:, word_idx]) \n",
    "# 어떠한 주제와 관련이 있는지, NMF는 회전을 하지 않아도 나머지는 0, 회전을 한 것 같은 효과"
   ]
  },
  {
   "cell_type": "code",
   "execution_count": 59,
   "id": "hispanic-variable",
   "metadata": {},
   "outputs": [
    {
     "data": {
      "text/plain": [
       "27"
      ]
     },
     "execution_count": 59,
     "metadata": {},
     "output_type": "execute_result"
    }
   ],
   "source": [
    "topic_idx = loading[:, word_idx].argmax()\n",
    "topic_idx"
   ]
  },
  {
   "cell_type": "code",
   "execution_count": 60,
   "id": "historic-folder",
   "metadata": {},
   "outputs": [
    {
     "data": {
      "text/html": [
       "<div>\n",
       "<style scoped>\n",
       "    .dataframe tbody tr th:only-of-type {\n",
       "        vertical-align: middle;\n",
       "    }\n",
       "\n",
       "    .dataframe tbody tr th {\n",
       "        vertical-align: top;\n",
       "    }\n",
       "\n",
       "    .dataframe thead th {\n",
       "        text-align: right;\n",
       "    }\n",
       "</style>\n",
       "<table border=\"1\" class=\"dataframe\">\n",
       "  <thead>\n",
       "    <tr style=\"text-align: right;\">\n",
       "      <th></th>\n",
       "      <th>word</th>\n",
       "      <th>loading</th>\n",
       "    </tr>\n",
       "  </thead>\n",
       "  <tbody>\n",
       "    <tr>\n",
       "      <th>1138</th>\n",
       "      <td>modeling</td>\n",
       "      <td>0.577834</td>\n",
       "    </tr>\n",
       "    <tr>\n",
       "      <th>1842</th>\n",
       "      <td>text</td>\n",
       "      <td>0.816866</td>\n",
       "    </tr>\n",
       "    <tr>\n",
       "      <th>64</th>\n",
       "      <td>allocation</td>\n",
       "      <td>0.995832</td>\n",
       "    </tr>\n",
       "    <tr>\n",
       "      <th>1988</th>\n",
       "      <td>words</td>\n",
       "      <td>1.225253</td>\n",
       "    </tr>\n",
       "    <tr>\n",
       "      <th>540</th>\n",
       "      <td>document</td>\n",
       "      <td>1.435367</td>\n",
       "    </tr>\n",
       "    <tr>\n",
       "      <th>520</th>\n",
       "      <td>dirichlet</td>\n",
       "      <td>1.626153</td>\n",
       "    </tr>\n",
       "    <tr>\n",
       "      <th>541</th>\n",
       "      <td>documents</td>\n",
       "      <td>1.919543</td>\n",
       "    </tr>\n",
       "    <tr>\n",
       "      <th>1003</th>\n",
       "      <td>lda</td>\n",
       "      <td>2.077631</td>\n",
       "    </tr>\n",
       "    <tr>\n",
       "      <th>1862</th>\n",
       "      <td>topics</td>\n",
       "      <td>2.810796</td>\n",
       "    </tr>\n",
       "    <tr>\n",
       "      <th>1861</th>\n",
       "      <td>topic</td>\n",
       "      <td>5.789769</td>\n",
       "    </tr>\n",
       "  </tbody>\n",
       "</table>\n",
       "</div>"
      ],
      "text/plain": [
       "            word   loading\n",
       "1138    modeling  0.577834\n",
       "1842        text  0.816866\n",
       "64    allocation  0.995832\n",
       "1988       words  1.225253\n",
       "540     document  1.435367\n",
       "520    dirichlet  1.626153\n",
       "541    documents  1.919543\n",
       "1003         lda  2.077631\n",
       "1862      topics  2.810796\n",
       "1861       topic  5.789769"
      ]
     },
     "execution_count": 60,
     "metadata": {},
     "output_type": "execute_result"
    }
   ],
   "source": [
    "topic = pd.DataFrame({'word': words, 'loading': loading[topic_idx]})\n",
    "topic.sort_values('loading').tail(10)"
   ]
  },
  {
   "cell_type": "code",
   "execution_count": 61,
   "id": "civilian-desktop",
   "metadata": {},
   "outputs": [
    {
     "data": {
      "text/html": [
       "<div>\n",
       "<style scoped>\n",
       "    .dataframe tbody tr th:only-of-type {\n",
       "        vertical-align: middle;\n",
       "    }\n",
       "\n",
       "    .dataframe tbody tr th {\n",
       "        vertical-align: top;\n",
       "    }\n",
       "\n",
       "    .dataframe thead th {\n",
       "        text-align: right;\n",
       "    }\n",
       "</style>\n",
       "<table border=\"1\" class=\"dataframe\">\n",
       "  <thead>\n",
       "    <tr style=\"text-align: right;\">\n",
       "      <th></th>\n",
       "      <th>topic</th>\n",
       "    </tr>\n",
       "    <tr>\n",
       "      <th>year</th>\n",
       "      <th></th>\n",
       "    </tr>\n",
       "  </thead>\n",
       "  <tbody>\n",
       "    <tr>\n",
       "      <th>2007</th>\n",
       "      <td>0.002231</td>\n",
       "    </tr>\n",
       "    <tr>\n",
       "      <th>2008</th>\n",
       "      <td>0.001294</td>\n",
       "    </tr>\n",
       "    <tr>\n",
       "      <th>2009</th>\n",
       "      <td>0.001785</td>\n",
       "    </tr>\n",
       "    <tr>\n",
       "      <th>2010</th>\n",
       "      <td>0.001217</td>\n",
       "    </tr>\n",
       "    <tr>\n",
       "      <th>2011</th>\n",
       "      <td>0.001194</td>\n",
       "    </tr>\n",
       "    <tr>\n",
       "      <th>2012</th>\n",
       "      <td>0.001699</td>\n",
       "    </tr>\n",
       "    <tr>\n",
       "      <th>2013</th>\n",
       "      <td>0.001276</td>\n",
       "    </tr>\n",
       "    <tr>\n",
       "      <th>2014</th>\n",
       "      <td>0.001205</td>\n",
       "    </tr>\n",
       "    <tr>\n",
       "      <th>2015</th>\n",
       "      <td>0.000814</td>\n",
       "    </tr>\n",
       "    <tr>\n",
       "      <th>2016</th>\n",
       "      <td>0.000649</td>\n",
       "    </tr>\n",
       "    <tr>\n",
       "      <th>2017</th>\n",
       "      <td>0.000375</td>\n",
       "    </tr>\n",
       "  </tbody>\n",
       "</table>\n",
       "</div>"
      ],
      "text/plain": [
       "         topic\n",
       "year          \n",
       "2007  0.002231\n",
       "2008  0.001294\n",
       "2009  0.001785\n",
       "2010  0.001217\n",
       "2011  0.001194\n",
       "2012  0.001699\n",
       "2013  0.001276\n",
       "2014  0.001205\n",
       "2015  0.000814\n",
       "2016  0.000649\n",
       "2017  0.000375"
      ]
     },
     "execution_count": 61,
     "metadata": {},
     "output_type": "execute_result"
    }
   ],
   "source": [
    "year_topic = pd.DataFrame({'year': df.year, 'topic': doc_topics[:, topic_idx]})\n",
    "year_topic.groupby('year').agg('mean')"
   ]
  },
  {
   "cell_type": "code",
   "execution_count": 62,
   "id": "framed-laptop",
   "metadata": {},
   "outputs": [],
   "source": [
    "word_idx1 = words.index('deep')"
   ]
  },
  {
   "cell_type": "code",
   "execution_count": 63,
   "id": "maritime-coach",
   "metadata": {},
   "outputs": [
    {
     "data": {
      "text/plain": [
       "[<matplotlib.lines.Line2D at 0x2c45c4f68e0>]"
      ]
     },
     "execution_count": 63,
     "metadata": {},
     "output_type": "execute_result"
    },
    {
     "data": {
      "image/png": "[encoded data removed]",
      "text/plain": [
       "<Figure size 432x288 with 1 Axes>"
      ]
     },
     "metadata": {
      "needs_background": "light"
     },
     "output_type": "display_data"
    }
   ],
   "source": [
    "pyplot.plot(loading[:, word_idx1])"
   ]
  },
  {
   "cell_type": "code",
   "execution_count": 64,
   "id": "cubic-switch",
   "metadata": {},
   "outputs": [
    {
     "data": {
      "text/plain": [
       "73"
      ]
     },
     "execution_count": 64,
     "metadata": {},
     "output_type": "execute_result"
    }
   ],
   "source": [
    "topic_idx1 = loading[:, word_idx1].argmax(); topic_idx1"
   ]
  },
  {
   "cell_type": "code",
   "execution_count": 65,
   "id": "numeric-restaurant",
   "metadata": {},
   "outputs": [
    {
     "data": {
      "text/html": [
       "<div>\n",
       "<style scoped>\n",
       "    .dataframe tbody tr th:only-of-type {\n",
       "        vertical-align: middle;\n",
       "    }\n",
       "\n",
       "    .dataframe tbody tr th {\n",
       "        vertical-align: top;\n",
       "    }\n",
       "\n",
       "    .dataframe thead th {\n",
       "        text-align: right;\n",
       "    }\n",
       "</style>\n",
       "<table border=\"1\" class=\"dataframe\">\n",
       "  <thead>\n",
       "    <tr style=\"text-align: right;\">\n",
       "      <th></th>\n",
       "      <th>word</th>\n",
       "      <th>loading</th>\n",
       "    </tr>\n",
       "  </thead>\n",
       "  <tbody>\n",
       "    <tr>\n",
       "      <th>1872</th>\n",
       "      <td>trained</td>\n",
       "      <td>0.230900</td>\n",
       "    </tr>\n",
       "    <tr>\n",
       "      <th>1483</th>\n",
       "      <td>recognition</td>\n",
       "      <td>0.250119</td>\n",
       "    </tr>\n",
       "    <tr>\n",
       "      <th>834</th>\n",
       "      <td>hidden</td>\n",
       "      <td>0.260007</td>\n",
       "    </tr>\n",
       "    <tr>\n",
       "      <th>1541</th>\n",
       "      <td>representations</td>\n",
       "      <td>0.265281</td>\n",
       "    </tr>\n",
       "    <tr>\n",
       "      <th>397</th>\n",
       "      <td>convolutional</td>\n",
       "      <td>0.274323</td>\n",
       "    </tr>\n",
       "    <tr>\n",
       "      <th>106</th>\n",
       "      <td>architectures</td>\n",
       "      <td>0.329308</td>\n",
       "    </tr>\n",
       "    <tr>\n",
       "      <th>105</th>\n",
       "      <td>architecture</td>\n",
       "      <td>0.336127</td>\n",
       "    </tr>\n",
       "    <tr>\n",
       "      <th>1002</th>\n",
       "      <td>layers</td>\n",
       "      <td>0.707754</td>\n",
       "    </tr>\n",
       "    <tr>\n",
       "      <th>1001</th>\n",
       "      <td>layer</td>\n",
       "      <td>0.866000</td>\n",
       "    </tr>\n",
       "    <tr>\n",
       "      <th>450</th>\n",
       "      <td>deep</td>\n",
       "      <td>1.911767</td>\n",
       "    </tr>\n",
       "  </tbody>\n",
       "</table>\n",
       "</div>"
      ],
      "text/plain": [
       "                 word   loading\n",
       "1872          trained  0.230900\n",
       "1483      recognition  0.250119\n",
       "834            hidden  0.260007\n",
       "1541  representations  0.265281\n",
       "397     convolutional  0.274323\n",
       "106     architectures  0.329308\n",
       "105      architecture  0.336127\n",
       "1002           layers  0.707754\n",
       "1001            layer  0.866000\n",
       "450              deep  1.911767"
      ]
     },
     "execution_count": 65,
     "metadata": {},
     "output_type": "execute_result"
    }
   ],
   "source": [
    "topic1 = pd.DataFrame({'word': words, 'loading': loading[topic_idx1]})\n",
    "topic1.sort_values('loading').tail(10)"
   ]
  },
  {
   "cell_type": "code",
   "execution_count": 66,
   "id": "solved-monroe",
   "metadata": {},
   "outputs": [
    {
     "data": {
      "text/html": [
       "<div>\n",
       "<style scoped>\n",
       "    .dataframe tbody tr th:only-of-type {\n",
       "        vertical-align: middle;\n",
       "    }\n",
       "\n",
       "    .dataframe tbody tr th {\n",
       "        vertical-align: top;\n",
       "    }\n",
       "\n",
       "    .dataframe thead th {\n",
       "        text-align: right;\n",
       "    }\n",
       "</style>\n",
       "<table border=\"1\" class=\"dataframe\">\n",
       "  <thead>\n",
       "    <tr style=\"text-align: right;\">\n",
       "      <th></th>\n",
       "      <th>topic</th>\n",
       "    </tr>\n",
       "    <tr>\n",
       "      <th>year</th>\n",
       "      <th></th>\n",
       "    </tr>\n",
       "  </thead>\n",
       "  <tbody>\n",
       "    <tr>\n",
       "      <th>2007</th>\n",
       "      <td>0.004420</td>\n",
       "    </tr>\n",
       "    <tr>\n",
       "      <th>2008</th>\n",
       "      <td>0.001310</td>\n",
       "    </tr>\n",
       "    <tr>\n",
       "      <th>2009</th>\n",
       "      <td>0.002862</td>\n",
       "    </tr>\n",
       "    <tr>\n",
       "      <th>2010</th>\n",
       "      <td>0.003458</td>\n",
       "    </tr>\n",
       "    <tr>\n",
       "      <th>2011</th>\n",
       "      <td>0.002289</td>\n",
       "    </tr>\n",
       "    <tr>\n",
       "      <th>2012</th>\n",
       "      <td>0.003851</td>\n",
       "    </tr>\n",
       "    <tr>\n",
       "      <th>2013</th>\n",
       "      <td>0.003451</td>\n",
       "    </tr>\n",
       "    <tr>\n",
       "      <th>2014</th>\n",
       "      <td>0.006174</td>\n",
       "    </tr>\n",
       "    <tr>\n",
       "      <th>2015</th>\n",
       "      <td>0.007276</td>\n",
       "    </tr>\n",
       "    <tr>\n",
       "      <th>2016</th>\n",
       "      <td>0.010458</td>\n",
       "    </tr>\n",
       "    <tr>\n",
       "      <th>2017</th>\n",
       "      <td>0.010778</td>\n",
       "    </tr>\n",
       "  </tbody>\n",
       "</table>\n",
       "</div>"
      ],
      "text/plain": [
       "         topic\n",
       "year          \n",
       "2007  0.004420\n",
       "2008  0.001310\n",
       "2009  0.002862\n",
       "2010  0.003458\n",
       "2011  0.002289\n",
       "2012  0.003851\n",
       "2013  0.003451\n",
       "2014  0.006174\n",
       "2015  0.007276\n",
       "2016  0.010458\n",
       "2017  0.010778"
      ]
     },
     "execution_count": 66,
     "metadata": {},
     "output_type": "execute_result"
    }
   ],
   "source": [
    "year_topic1 = pd.DataFrame({'year': df.year, 'topic': doc_topics[:, topic_idx1]})\n",
    "year_topic1.groupby('year').agg('mean')"
   ]
  }
 ],
 "metadata": {
  "kernelspec": {
   "display_name": "Python3.8_DL",
   "language": "python",
   "name": "dl"
  },
  "language_info": {
   "codemirror_mode": {
    "name": "ipython",
    "version": 3
   },
   "file_extension": ".py",
   "mimetype": "text/x-python",
   "name": "python",
   "nbconvert_exporter": "python",
   "pygments_lexer": "ipython3",
   "version": "3.8.8"
  }
 },
 "nbformat": 4,
 "nbformat_minor": 5
}
