{
 "cells": [
  {
   "cell_type": "markdown",
   "id": "satisfactory-sender",
   "metadata": {},
   "source": [
    "# stanza"
   ]
  },
  {
   "cell_type": "markdown",
   "id": "extraordinary-experience",
   "metadata": {},
   "source": [
    "- stanza를 사용하기 위해서는 pytorch가 필요하다. 윈도의 경우에는 다음과 같이 설치한다. 맥, 리눅스 등에서는 stanza를 설치할 때 함께 설치된다."
   ]
  },
  {
   "cell_type": "code",
   "execution_count": 1,
   "id": "sustained-papua",
   "metadata": {},
   "outputs": [
    {
     "name": "stdout",
     "output_type": "stream",
     "text": [
      "Collecting package metadata (current_repodata.json): ...working... done\n",
      "Solving environment: ...working... done\n",
      "\n",
      "## Package Plan ##\n",
      "\n",
      "  environment location: C:\\Users\\msi\\anaconda3\n",
      "\n",
      "  added / updated specs:\n",
      "    - pytorch\n",
      "    - torchvision\n",
      "\n",
      "\n",
      "The following packages will be UPDATED:\n",
      "\n",
      "  ca-certificates    conda-forge::ca-certificates-2020.12.~ --> pkgs/main::ca-certificates-2021.1.19-haa95532_1\n",
      "\n",
      "\n",
      "Preparing transaction: ...working... done\n",
      "Verifying transaction: ...working... done\n",
      "Executing transaction: ...working... done\n"
     ]
    }
   ],
   "source": [
    "!conda install -y -c pytorch pytorch torchvision"
   ]
  },
  {
   "cell_type": "markdown",
   "id": "ignored-peter",
   "metadata": {},
   "source": [
    "- 다음으로 stanza를 설치한다."
   ]
  },
  {
   "cell_type": "code",
   "execution_count": 3,
   "id": "expired-variation",
   "metadata": {},
   "outputs": [
    {
     "name": "stdout",
     "output_type": "stream",
     "text": [
      "Collecting stanza\n",
      "  Downloading stanza-1.2-py3-none-any.whl (282 kB)\n",
      "Requirement already satisfied: requests in c:\\users\\msi\\anaconda3\\lib\\site-packages (from stanza) (2.25.1)\n",
      "Requirement already satisfied: protobuf in c:\\users\\msi\\anaconda3\\lib\\site-packages (from stanza) (3.14.0)\n",
      "Requirement already satisfied: tqdm in c:\\users\\msi\\anaconda3\\lib\\site-packages (from stanza) (4.59.0)\n",
      "Requirement already satisfied: numpy in c:\\users\\msi\\anaconda3\\lib\\site-packages (from stanza) (1.19.5)\n",
      "Requirement already satisfied: torch>=1.3.0 in c:\\users\\msi\\anaconda3\\lib\\site-packages (from stanza) (1.7.1)\n",
      "Requirement already satisfied: typing_extensions in c:\\users\\msi\\anaconda3\\lib\\site-packages (from torch>=1.3.0->stanza) (3.7.4.3)\n",
      "Requirement already satisfied: six>=1.9 in c:\\users\\msi\\anaconda3\\lib\\site-packages (from protobuf->stanza) (1.15.0)\n",
      "Requirement already satisfied: chardet<5,>=3.0.2 in c:\\users\\msi\\anaconda3\\lib\\site-packages (from requests->stanza) (3.0.4)\n",
      "Requirement already satisfied: urllib3<1.27,>=1.21.1 in c:\\users\\msi\\anaconda3\\lib\\site-packages (from requests->stanza) (1.26.3)\n",
      "Requirement already satisfied: certifi>=2017.4.17 in c:\\users\\msi\\anaconda3\\lib\\site-packages (from requests->stanza) (2020.12.5)\n",
      "Requirement already satisfied: idna<3,>=2.5 in c:\\users\\msi\\anaconda3\\lib\\site-packages (from requests->stanza) (2.10)\n",
      "Installing collected packages: stanza\n",
      "Successfully installed stanza-1.2\n"
     ]
    }
   ],
   "source": [
    "!pip install stanza"
   ]
  },
  {
   "cell_type": "markdown",
   "id": "obvious-camera",
   "metadata": {},
   "source": [
    "# 모형 다운로드"
   ]
  },
  {
   "cell_type": "markdown",
   "id": "military-correction",
   "metadata": {},
   "source": [
    "- stanza는 기계학습 방식을 사용하기 때문에 한국어 데이터에 학습된 모형이 필요하다. 언어별 모형은 공식 문서에서 확인할 수 있다."
   ]
  },
  {
   "cell_type": "code",
   "execution_count": 1,
   "id": "prospective-interval",
   "metadata": {},
   "outputs": [],
   "source": [
    "import stanza"
   ]
  },
  {
   "cell_type": "markdown",
   "id": "friendly-hygiene",
   "metadata": {},
   "source": [
    "- 기본은 kaist이고, package = 'gsd'로 gsd로 할 수 있다."
   ]
  },
  {
   "cell_type": "markdown",
   "id": "expressed-rates",
   "metadata": {},
   "source": [
    "stanza.download('ko')"
   ]
  },
  {
   "cell_type": "markdown",
   "id": "raised-albania",
   "metadata": {},
   "source": [
    "- 모형을 불러온다."
   ]
  },
  {
   "cell_type": "code",
   "execution_count": 2,
   "id": "bright-marina",
   "metadata": {},
   "outputs": [
    {
     "name": "stderr",
     "output_type": "stream",
     "text": [
      "2021-03-28 21:38:34 INFO: Loading these models for language: ko (Korean):\n",
      "=======================\n",
      "| Processor | Package |\n",
      "-----------------------\n",
      "| tokenize  | kaist   |\n",
      "| pos       | kaist   |\n",
      "| lemma     | kaist   |\n",
      "| depparse  | kaist   |\n",
      "=======================\n",
      "\n",
      "2021-03-28 21:38:34 INFO: Use device: gpu\n",
      "2021-03-28 21:38:34 INFO: Loading: tokenize\n",
      "2021-03-28 21:38:40 INFO: Loading: pos\n",
      "2021-03-28 21:38:41 INFO: Loading: lemma\n",
      "2021-03-28 21:38:41 INFO: Loading: depparse\n",
      "2021-03-28 21:38:42 INFO: Done loading processors!\n"
     ]
    }
   ],
   "source": [
    "nlp = stanza.Pipeline('ko')"
   ]
  },
  {
   "cell_type": "markdown",
   "id": "stopped-brake",
   "metadata": {},
   "source": [
    "- 한국어 모형에는 kaist와 gsd 두 가지가 있다. kaist가 기본이나 gsd 패키지를 사용하려면 다음과 같이 한다."
   ]
  },
  {
   "cell_type": "code",
   "execution_count": 3,
   "id": "earned-indiana",
   "metadata": {},
   "outputs": [
    {
     "name": "stderr",
     "output_type": "stream",
     "text": [
      "Downloading https://raw.githubusercontent.com/stanfordnlp/stanza-resources/master/resources_1.2.0.json: 128kB [00:00, 64.1MB/s]\n",
      "2021-03-28 21:38:45 INFO: Downloading these customized packages for language: ko (Korean)...\n",
      "=======================\n",
      "| Processor | Package |\n",
      "-----------------------\n",
      "| tokenize  | gsd     |\n",
      "| pos       | gsd     |\n",
      "| lemma     | gsd     |\n",
      "| depparse  | gsd     |\n",
      "| pretrain  | gsd     |\n",
      "=======================\n",
      "\n",
      "2021-03-28 21:38:45 INFO: File exists: C:\\Users\\msi\\stanza_resources\\ko\\tokenize\\gsd.pt.\n",
      "2021-03-28 21:38:45 INFO: File exists: C:\\Users\\msi\\stanza_resources\\ko\\pos\\gsd.pt.\n",
      "2021-03-28 21:38:45 INFO: File exists: C:\\Users\\msi\\stanza_resources\\ko\\lemma\\gsd.pt.\n",
      "2021-03-28 21:38:45 INFO: File exists: C:\\Users\\msi\\stanza_resources\\ko\\depparse\\gsd.pt.\n",
      "2021-03-28 21:38:45 INFO: File exists: C:\\Users\\msi\\stanza_resources\\ko\\pretrain\\gsd.pt.\n",
      "2021-03-28 21:38:45 INFO: Finished downloading models and saved to C:\\Users\\msi\\stanza_resources.\n",
      "2021-03-28 21:38:45 INFO: Loading these models for language: ko (Korean):\n",
      "=======================\n",
      "| Processor | Package |\n",
      "-----------------------\n",
      "| tokenize  | gsd     |\n",
      "| pos       | gsd     |\n",
      "| lemma     | gsd     |\n",
      "| depparse  | gsd     |\n",
      "=======================\n",
      "\n",
      "2021-03-28 21:38:45 INFO: Use device: gpu\n",
      "2021-03-28 21:38:45 INFO: Loading: tokenize\n",
      "2021-03-28 21:38:45 INFO: Loading: pos\n",
      "2021-03-28 21:38:46 INFO: Loading: lemma\n",
      "2021-03-28 21:38:46 INFO: Loading: depparse\n",
      "2021-03-28 21:38:47 INFO: Done loading processors!\n"
     ]
    }
   ],
   "source": [
    "stanza.download('ko', package='gsd')\n",
    "nlp = stanza.Pipeline('ko', package='gsd')"
   ]
  },
  {
   "cell_type": "markdown",
   "id": "worst-monroe",
   "metadata": {},
   "source": [
    "# 형태소 분석"
   ]
  },
  {
   "cell_type": "markdown",
   "id": "polish-lawyer",
   "metadata": {},
   "source": [
    "- 아래 text 변수에 저장된 예시 문장의 형태소와 품사를 분석한다."
   ]
  },
  {
   "cell_type": "code",
   "execution_count": 4,
   "id": "wireless-foster",
   "metadata": {},
   "outputs": [],
   "source": [
    "text = '오늘은 자연어 처리를 배우기 좋은 날이다. 자연어 처리는 재미있다.'"
   ]
  },
  {
   "cell_type": "markdown",
   "id": "chubby-forwarding",
   "metadata": {},
   "source": [
    "- nlp() 로 문장의 형태소를 분석한다. 분석 결과는 doc 변수에 저장한다."
   ]
  },
  {
   "cell_type": "code",
   "execution_count": 5,
   "id": "focused-bonus",
   "metadata": {},
   "outputs": [],
   "source": [
    "doc = nlp(text)"
   ]
  },
  {
   "cell_type": "code",
   "execution_count": 6,
   "id": "extra-airport",
   "metadata": {},
   "outputs": [
    {
     "data": {
      "text/plain": [
       "[\n",
       "  [\n",
       "    {\n",
       "      \"id\": 1,\n",
       "      \"text\": \"오늘은\",\n",
       "      \"lemma\": \"오늘+은\",\n",
       "      \"upos\": \"NOUN\",\n",
       "      \"xpos\": \"NNG+JX\",\n",
       "      \"head\": 6,\n",
       "      \"deprel\": \"nsubj\",\n",
       "      \"misc\": \"start_char=0|end_char=3\"\n",
       "    },\n",
       "    {\n",
       "      \"id\": 2,\n",
       "      \"text\": \"자연어\",\n",
       "      \"lemma\": \"자연어\",\n",
       "      \"upos\": \"NOUN\",\n",
       "      \"xpos\": \"NNG\",\n",
       "      \"head\": 4,\n",
       "      \"deprel\": \"obj\",\n",
       "      \"misc\": \"start_char=4|end_char=7\"\n",
       "    },\n",
       "    {\n",
       "      \"id\": 3,\n",
       "      \"text\": \"처리를\",\n",
       "      \"lemma\": \"처리+를\",\n",
       "      \"upos\": \"NOUN\",\n",
       "      \"xpos\": \"NNG+JKO\",\n",
       "      \"head\": 2,\n",
       "      \"deprel\": \"flat\",\n",
       "      \"misc\": \"start_char=8|end_char=11\"\n",
       "    },\n",
       "    {\n",
       "      \"id\": 4,\n",
       "      \"text\": \"배우기\",\n",
       "      \"lemma\": \"배우기\",\n",
       "      \"upos\": \"NOUN\",\n",
       "      \"xpos\": \"VV+ETN\",\n",
       "      \"head\": 5,\n",
       "      \"deprel\": \"nsubj\",\n",
       "      \"misc\": \"start_char=12|end_char=15\"\n",
       "    },\n",
       "    {\n",
       "      \"id\": 5,\n",
       "      \"text\": \"좋은\",\n",
       "      \"lemma\": \"좋+은\",\n",
       "      \"upos\": \"VERB\",\n",
       "      \"xpos\": \"VA+ETM\",\n",
       "      \"head\": 6,\n",
       "      \"deprel\": \"acl:relcl\",\n",
       "      \"misc\": \"start_char=16|end_char=18\"\n",
       "    },\n",
       "    {\n",
       "      \"id\": 6,\n",
       "      \"text\": \"날이다\",\n",
       "      \"lemma\": \"날+이+다\",\n",
       "      \"upos\": \"VERB\",\n",
       "      \"xpos\": \"NNG+VCP+EF\",\n",
       "      \"head\": 0,\n",
       "      \"deprel\": \"root\",\n",
       "      \"misc\": \"start_char=19|end_char=22\"\n",
       "    },\n",
       "    {\n",
       "      \"id\": 7,\n",
       "      \"text\": \".\",\n",
       "      \"lemma\": \".\",\n",
       "      \"upos\": \"PUNCT\",\n",
       "      \"xpos\": \"SF\",\n",
       "      \"head\": 6,\n",
       "      \"deprel\": \"punct\",\n",
       "      \"misc\": \"start_char=22|end_char=23\"\n",
       "    }\n",
       "  ],\n",
       "  [\n",
       "    {\n",
       "      \"id\": 1,\n",
       "      \"text\": \"자연어\",\n",
       "      \"lemma\": \"자연어\",\n",
       "      \"upos\": \"NOUN\",\n",
       "      \"xpos\": \"NNG\",\n",
       "      \"head\": 3,\n",
       "      \"deprel\": \"nsubj\",\n",
       "      \"misc\": \"start_char=24|end_char=27\"\n",
       "    },\n",
       "    {\n",
       "      \"id\": 2,\n",
       "      \"text\": \"처리는\",\n",
       "      \"lemma\": \"처리+는\",\n",
       "      \"upos\": \"NOUN\",\n",
       "      \"xpos\": \"NNG+JX\",\n",
       "      \"head\": 1,\n",
       "      \"deprel\": \"flat\",\n",
       "      \"misc\": \"start_char=28|end_char=31\"\n",
       "    },\n",
       "    {\n",
       "      \"id\": 3,\n",
       "      \"text\": \"재미있다\",\n",
       "      \"lemma\": \"재미있+었+다\",\n",
       "      \"upos\": \"ADJ\",\n",
       "      \"xpos\": \"VA+EF\",\n",
       "      \"head\": 0,\n",
       "      \"deprel\": \"root\",\n",
       "      \"misc\": \"start_char=32|end_char=36\"\n",
       "    },\n",
       "    {\n",
       "      \"id\": 4,\n",
       "      \"text\": \".\",\n",
       "      \"lemma\": \".\",\n",
       "      \"upos\": \"PUNCT\",\n",
       "      \"xpos\": \"SF\",\n",
       "      \"head\": 3,\n",
       "      \"deprel\": \"punct\",\n",
       "      \"misc\": \"start_char=36|end_char=37\"\n",
       "    }\n",
       "  ]\n",
       "]"
      ]
     },
     "execution_count": 6,
     "metadata": {},
     "output_type": "execute_result"
    }
   ],
   "source": [
    "doc"
   ]
  },
  {
   "cell_type": "markdown",
   "id": "intermediate-discount",
   "metadata": {},
   "source": [
    "- .sentences에 분석된 문장들이 리스트 형태로 담겨 있다."
   ]
  },
  {
   "cell_type": "code",
   "execution_count": 7,
   "id": "verified-modeling",
   "metadata": {},
   "outputs": [],
   "source": [
    "sentence = doc.sentences[0]"
   ]
  },
  {
   "cell_type": "markdown",
   "id": "confused-sandwich",
   "metadata": {},
   "source": [
    "- .words에는 분석된 어절들이 리스트 형태로 담겨 있다."
   ]
  },
  {
   "cell_type": "code",
   "execution_count": 8,
   "id": "static-defendant",
   "metadata": {},
   "outputs": [],
   "source": [
    "word = sentence.words[0]"
   ]
  },
  {
   "cell_type": "markdown",
   "id": "indian-might",
   "metadata": {},
   "source": [
    "- .lemma는 어절을 이루는 형태소의 표제어(lemma)들을 보여준다. 형태소가 2개 이상인 경우 + 표시로 구분되어 있다."
   ]
  },
  {
   "cell_type": "code",
   "execution_count": 9,
   "id": "alike-survival",
   "metadata": {},
   "outputs": [
    {
     "data": {
      "text/plain": [
       "'오늘+은'"
      ]
     },
     "execution_count": 9,
     "metadata": {},
     "output_type": "execute_result"
    }
   ],
   "source": [
    "word.lemma"
   ]
  },
  {
   "cell_type": "markdown",
   "id": "african-patent",
   "metadata": {},
   "source": [
    "- .xpos에는 품사 정보가 있다."
   ]
  },
  {
   "cell_type": "code",
   "execution_count": 10,
   "id": "naval-latino",
   "metadata": {},
   "outputs": [
    {
     "data": {
      "text/plain": [
       "'NNG+JX'"
      ]
     },
     "execution_count": 10,
     "metadata": {},
     "output_type": "execute_result"
    }
   ],
   "source": [
    "word.xpos"
   ]
  },
  {
   "cell_type": "markdown",
   "id": "timely-permit",
   "metadata": {},
   "source": [
    "# 단어와 품사 태그 짝짓기"
   ]
  },
  {
   "cell_type": "markdown",
   "id": "martial-struggle",
   "metadata": {},
   "source": [
    "- 형태소 분석에서 원하는 품사를 추출하는 방법을 알아보자. 이는 출력 결과에서 lemma 와 xpos 를 짝지은 쌍이 된다."
   ]
  },
  {
   "cell_type": "code",
   "execution_count": 13,
   "id": "automatic-emission",
   "metadata": {},
   "outputs": [
    {
     "name": "stderr",
     "output_type": "stream",
     "text": [
      "2021-03-28 21:40:27 INFO: Loading these models for language: ko (Korean):\n",
      "=======================\n",
      "| Processor | Package |\n",
      "-----------------------\n",
      "| tokenize  | kaist   |\n",
      "| pos       | kaist   |\n",
      "| lemma     | kaist   |\n",
      "| depparse  | kaist   |\n",
      "=======================\n",
      "\n",
      "2021-03-28 21:40:27 INFO: Use device: gpu\n",
      "2021-03-28 21:40:27 INFO: Loading: tokenize\n",
      "2021-03-28 21:40:27 INFO: Loading: pos\n",
      "2021-03-28 21:40:27 INFO: Loading: lemma\n",
      "2021-03-28 21:40:27 INFO: Loading: depparse\n",
      "2021-03-28 21:40:28 INFO: Done loading processors!\n"
     ]
    }
   ],
   "source": [
    "import stanza\n",
    "nlp = stanza.Pipeline('ko')"
   ]
  },
  {
   "cell_type": "markdown",
   "id": "southeast-emphasis",
   "metadata": {},
   "source": [
    "- 먼저 텍스트를 처리해보자."
   ]
  },
  {
   "cell_type": "code",
   "execution_count": 39,
   "id": "peripheral-sudan",
   "metadata": {},
   "outputs": [],
   "source": [
    "text = '오늘은 자연어 처리를 공부하기 좋은 날이다. 자연어 처리는 재미있다.'"
   ]
  },
  {
   "cell_type": "code",
   "execution_count": 40,
   "id": "cleared-indonesia",
   "metadata": {},
   "outputs": [],
   "source": [
    "doc = nlp(text)"
   ]
  },
  {
   "cell_type": "markdown",
   "id": "false-memorabilia",
   "metadata": {},
   "source": [
    "- '오늘은'의 분석 결과를 보자"
   ]
  },
  {
   "cell_type": "code",
   "execution_count": 41,
   "id": "spare-removal",
   "metadata": {},
   "outputs": [
    {
     "data": {
      "text/plain": [
       "{\n",
       "  \"id\": 1,\n",
       "  \"text\": \"오늘은\",\n",
       "  \"lemma\": \"오늘+은\",\n",
       "  \"upos\": \"NOUN\",\n",
       "  \"xpos\": \"ncn+jxt\",\n",
       "  \"head\": 6,\n",
       "  \"deprel\": \"dislocated\",\n",
       "  \"misc\": \"start_char=0|end_char=3\"\n",
       "}"
      ]
     },
     "execution_count": 41,
     "metadata": {},
     "output_type": "execute_result"
    }
   ],
   "source": [
    "word = doc.sentences[0].words[0]\n",
    "word"
   ]
  },
  {
   "cell_type": "markdown",
   "id": "careful-conversation",
   "metadata": {},
   "source": [
    "- '오늘은'은 '오늘'과 '은'이 합쳐진 형태이다"
   ]
  },
  {
   "cell_type": "code",
   "execution_count": 42,
   "id": "psychological-berkeley",
   "metadata": {},
   "outputs": [
    {
     "data": {
      "text/plain": [
       "'오늘+은'"
      ]
     },
     "execution_count": 42,
     "metadata": {},
     "output_type": "execute_result"
    }
   ],
   "source": [
    "word.lemma"
   ]
  },
  {
   "cell_type": "markdown",
   "id": "mineral-export",
   "metadata": {},
   "source": [
    "- 이들의 품사는 다음과 같다. 명사는 n으로 시작하고, 조사는 j로 시작한다."
   ]
  },
  {
   "cell_type": "code",
   "execution_count": 43,
   "id": "streaming-genius",
   "metadata": {},
   "outputs": [
    {
     "data": {
      "text/plain": [
       "'ncn+jxt'"
      ]
     },
     "execution_count": 43,
     "metadata": {},
     "output_type": "execute_result"
    }
   ],
   "source": [
    "word.xpos"
   ]
  },
  {
   "cell_type": "markdown",
   "id": "secure-occasions",
   "metadata": {},
   "source": [
    "- 형태소들은 + 기호로 구분되어 있으므로 .split 를 분리한다."
   ]
  },
  {
   "cell_type": "code",
   "execution_count": 44,
   "id": "divine-aaron",
   "metadata": {},
   "outputs": [],
   "source": [
    "lemma = word.lemma.split('+')"
   ]
  },
  {
   "cell_type": "code",
   "execution_count": 45,
   "id": "harmful-watch",
   "metadata": {},
   "outputs": [],
   "source": [
    "xpos = word.xpos.split('+')"
   ]
  },
  {
   "cell_type": "markdown",
   "id": "finite-interest",
   "metadata": {},
   "source": [
    "- zip 함수로 lemma와 xpos의 각 원소를 짝짓을 수 있다."
   ]
  },
  {
   "cell_type": "code",
   "execution_count": 46,
   "id": "limiting-accommodation",
   "metadata": {},
   "outputs": [
    {
     "data": {
      "text/plain": [
       "[('오늘', 'ncn'), ('은', 'jxt')]"
      ]
     },
     "execution_count": 46,
     "metadata": {},
     "output_type": "execute_result"
    }
   ],
   "source": [
    "list(zip(lemma, xpos))"
   ]
  },
  {
   "cell_type": "markdown",
   "id": "opening-missouri",
   "metadata": {},
   "source": [
    "- doc의 첫 문장에서 모든 형태소와 그 품사를 짝지어 출력해본다."
   ]
  },
  {
   "cell_type": "code",
   "execution_count": 47,
   "id": "central-robertson",
   "metadata": {},
   "outputs": [
    {
     "name": "stdout",
     "output_type": "stream",
     "text": [
      "오늘 ncn\n",
      "은 jxt\n",
      "자연어 ncn\n",
      "처리 ncpa\n",
      "를 jco\n",
      "공부 ncpa\n",
      "하 xsv\n",
      "기 etn\n",
      "좋 paa\n",
      "ㄴ etm\n",
      "날 ncn\n",
      "이 jp\n",
      "다 ef\n",
      ". sf\n"
     ]
    }
   ],
   "source": [
    "for word in doc.sentences[0].words:\n",
    "    lemma = word.lemma.split('+')\n",
    "    xpos = word.xpos.split('+')\n",
    "    for token, pos in zip(lemma, xpos):\n",
    "        print(token, pos)"
   ]
  },
  {
   "cell_type": "code",
   "execution_count": 48,
   "id": "requested-worse",
   "metadata": {},
   "outputs": [
    {
     "name": "stdout",
     "output_type": "stream",
     "text": [
      "오늘 ncn\n",
      "은 jxt\n",
      "자연어 ncn\n",
      "처리 ncpa\n",
      "를 jco\n",
      "공부 ncpa\n",
      "하 xsv\n",
      "기 etn\n",
      "좋 paa\n",
      "ㄴ etm\n",
      "날 ncn\n",
      "이 jp\n",
      "다 ef\n",
      ". sf\n",
      "자연어 ncn\n",
      "처리 ncpa\n",
      "는 jxt\n",
      "재미있 ncps\n",
      "다 xsm\n",
      ". sf\n"
     ]
    }
   ],
   "source": [
    "for sentence in doc.sentences:\n",
    "    for word in sentence.words:\n",
    "        lemma = word.lemma.split('+')\n",
    "        xpos = word.xpos.split('+')\n",
    "        for tok,pos in zip(lemma,xpos):\n",
    "            print(tok,pos)"
   ]
  }
 ],
 "metadata": {
  "kernelspec": {
   "display_name": "Python3.8_DL",
   "language": "python",
   "name": "dl"
  },
  "language_info": {
   "codemirror_mode": {
    "name": "ipython",
    "version": 3
   },
   "file_extension": ".py",
   "mimetype": "text/x-python",
   "name": "python",
   "nbconvert_exporter": "python",
   "pygments_lexer": "ipython3",
   "version": "3.8.8"
  }
 },
 "nbformat": 4,
 "nbformat_minor": 5
}
