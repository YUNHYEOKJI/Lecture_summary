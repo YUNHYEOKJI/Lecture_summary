{
 "cells": [
  {
   "cell_type": "markdown",
   "id": "approved-birmingham",
   "metadata": {},
   "source": [
    "# 상대주소와 절대주소"
   ]
  },
  {
   "cell_type": "code",
   "execution_count": 1,
   "id": "superb-answer",
   "metadata": {},
   "outputs": [],
   "source": [
    "import requests\n",
    "import lxml.html"
   ]
  },
  {
   "cell_type": "code",
   "execution_count": 2,
   "id": "rural-platform",
   "metadata": {},
   "outputs": [],
   "source": [
    "url = 'https://www.bobaedream.co.kr/mycar/mycar_list.php?gubun=K'"
   ]
  },
  {
   "cell_type": "code",
   "execution_count": 3,
   "id": "compliant-dealing",
   "metadata": {},
   "outputs": [],
   "source": [
    "res = requests.get(url)"
   ]
  },
  {
   "cell_type": "code",
   "execution_count": 4,
   "id": "sonic-animal",
   "metadata": {},
   "outputs": [],
   "source": [
    "root = lxml.html.fromstring(res.text)"
   ]
  },
  {
   "cell_type": "code",
   "execution_count": 5,
   "id": "employed-minimum",
   "metadata": {},
   "outputs": [
    {
     "name": "stdout",
     "output_type": "stream",
     "text": [
      "/mycar/mycar_view.php?no=2102867&gubun=K\n",
      "/mycar/mycar_view.php?no=2103487&gubun=K\n",
      "/mycar/mycar_view.php?no=2099013&gubun=K\n",
      "/mycar/mycar_view.php?no=2093784&gubun=K\n",
      "/mycar/mycar_view.php?no=2105652&gubun=K\n",
      "/mycar/mycar_view.php?no=2104009&gubun=K\n",
      "/mycar/mycar_view.php?no=2105071&gubun=K\n",
      "/mycar/mycar_view.php?no=2106310&gubun=K\n",
      "/mycar/mycar_view.php?no=2106849&gubun=K\n",
      "/mycar/mycar_view.php?no=2103864&gubun=K\n",
      "/mycar/mycar_view.php?no=2107844&gubun=K\n",
      "/mycar/mycar_view.php?no=2107843&gubun=K\n",
      "/mycar/mycar_view.php?no=2104098&gubun=K\n",
      "/mycar/mycar_view.php?no=2104213&gubun=K\n",
      "/mycar/mycar_view.php?no=2107850&gubun=K\n",
      "/mycar/mycar_view.php?no=2107639&gubun=K\n",
      "/mycar/mycar_view.php?no=2107640&gubun=K\n",
      "/mycar/mycar_view.php?no=2107298&gubun=K\n",
      "/mycar/mycar_view.php?no=2107311&gubun=K\n",
      "/mycar/mycar_view.php?no=2098971&gubun=K\n"
     ]
    }
   ],
   "source": [
    "for link in root.cssselect('.tit a'):\n",
    "    print(link.attrib['href'])"
   ]
  },
  {
   "cell_type": "code",
   "execution_count": 6,
   "id": "interpreted-prince",
   "metadata": {},
   "outputs": [],
   "source": [
    "from urllib.parse import urljoin"
   ]
  },
  {
   "cell_type": "code",
   "execution_count": 7,
   "id": "affiliated-backup",
   "metadata": {},
   "outputs": [
    {
     "name": "stdout",
     "output_type": "stream",
     "text": [
      "https://www.bobaedream.co.kr/mycar/mycar_view.php?no=2102867&gubun=K\n",
      "https://www.bobaedream.co.kr/mycar/mycar_view.php?no=2103487&gubun=K\n",
      "https://www.bobaedream.co.kr/mycar/mycar_view.php?no=2099013&gubun=K\n",
      "https://www.bobaedream.co.kr/mycar/mycar_view.php?no=2093784&gubun=K\n",
      "https://www.bobaedream.co.kr/mycar/mycar_view.php?no=2105652&gubun=K\n",
      "https://www.bobaedream.co.kr/mycar/mycar_view.php?no=2104009&gubun=K\n",
      "https://www.bobaedream.co.kr/mycar/mycar_view.php?no=2105071&gubun=K\n",
      "https://www.bobaedream.co.kr/mycar/mycar_view.php?no=2106310&gubun=K\n",
      "https://www.bobaedream.co.kr/mycar/mycar_view.php?no=2106849&gubun=K\n",
      "https://www.bobaedream.co.kr/mycar/mycar_view.php?no=2103864&gubun=K\n",
      "https://www.bobaedream.co.kr/mycar/mycar_view.php?no=2107844&gubun=K\n",
      "https://www.bobaedream.co.kr/mycar/mycar_view.php?no=2107843&gubun=K\n",
      "https://www.bobaedream.co.kr/mycar/mycar_view.php?no=2104098&gubun=K\n",
      "https://www.bobaedream.co.kr/mycar/mycar_view.php?no=2104213&gubun=K\n",
      "https://www.bobaedream.co.kr/mycar/mycar_view.php?no=2107850&gubun=K\n",
      "https://www.bobaedream.co.kr/mycar/mycar_view.php?no=2107639&gubun=K\n",
      "https://www.bobaedream.co.kr/mycar/mycar_view.php?no=2107640&gubun=K\n",
      "https://www.bobaedream.co.kr/mycar/mycar_view.php?no=2107298&gubun=K\n",
      "https://www.bobaedream.co.kr/mycar/mycar_view.php?no=2107311&gubun=K\n",
      "https://www.bobaedream.co.kr/mycar/mycar_view.php?no=2098971&gubun=K\n"
     ]
    }
   ],
   "source": [
    "for link in root.cssselect('.tit a'):\n",
    "    print(urljoin(url, link.attrib['href']))"
   ]
  },
  {
   "cell_type": "markdown",
   "id": "entitled-tours",
   "metadata": {},
   "source": [
    "## 수업내용"
   ]
  },
  {
   "cell_type": "code",
   "execution_count": 1,
   "id": "daily-regard",
   "metadata": {},
   "outputs": [],
   "source": [
    "import requests\n",
    "import lxml.html"
   ]
  },
  {
   "cell_type": "code",
   "execution_count": 2,
   "id": "opened-grocery",
   "metadata": {},
   "outputs": [],
   "source": [
    "url1 = 'https://www.bobaedream.co.kr/mycar/mycar_list.php?gubun=K'"
   ]
  },
  {
   "cell_type": "code",
   "execution_count": 3,
   "id": "conventional-registrar",
   "metadata": {},
   "outputs": [],
   "source": [
    "res1 = requests.get(url1)"
   ]
  },
  {
   "cell_type": "code",
   "execution_count": 4,
   "id": "south-great",
   "metadata": {},
   "outputs": [],
   "source": [
    "root1 = lxml.html.fromstring(res1.text)"
   ]
  },
  {
   "cell_type": "code",
   "execution_count": 5,
   "id": "lonely-basics",
   "metadata": {},
   "outputs": [
    {
     "name": "stdout",
     "output_type": "stream",
     "text": [
      "/mycar/mycar_view.php?no=2102855&gubun=K\n",
      "/mycar/mycar_view.php?no=2107958&gubun=K\n",
      "/mycar/mycar_view.php?no=2107945&gubun=K\n",
      "/mycar/mycar_view.php?no=2102111&gubun=K\n",
      "/mycar/mycar_view.php?no=2106934&gubun=K\n",
      "/mycar/mycar_view.php?no=2106007&gubun=K\n",
      "/mycar/mycar_view.php?no=2105994&gubun=K\n",
      "/mycar/mycar_view.php?no=2107029&gubun=K\n",
      "/mycar/mycar_view.php?no=2108642&gubun=K\n",
      "/mycar/mycar_view.php?no=2106191&gubun=K\n",
      "/mycar/mycar_view.php?no=2105296&gubun=K\n",
      "/mycar/mycar_view.php?no=2105028&gubun=K\n",
      "/mycar/mycar_view.php?no=2105292&gubun=K\n",
      "/mycar/mycar_view.php?no=2105294&gubun=K\n",
      "/mycar/mycar_view.php?no=2105302&gubun=K\n",
      "/mycar/mycar_view.php?no=2105534&gubun=K\n",
      "/mycar/mycar_view.php?no=2105386&gubun=K\n",
      "/mycar/mycar_view.php?no=2105420&gubun=K\n",
      "/mycar/mycar_view.php?no=2105535&gubun=K\n",
      "/mycar/mycar_view.php?no=2105541&gubun=K\n"
     ]
    }
   ],
   "source": [
    "for link in root1.cssselect('p.tit a'): # a를 포함하는 태그, 태그가 p 이고 class가 tit에 포함된 a를 탐색\n",
    "    print(link.attrib['href'])"
   ]
  },
  {
   "cell_type": "code",
   "execution_count": 6,
   "id": "large-decade",
   "metadata": {},
   "outputs": [
    {
     "data": {
      "text/plain": [
       "[<Element a at 0x1be35134040>,\n",
       " <Element a at 0x1be35188cc0>,\n",
       " <Element a at 0x1be351888b0>,\n",
       " <Element a at 0x1be361960e0>,\n",
       " <Element a at 0x1be36196220>,\n",
       " <Element a at 0x1be361962c0>,\n",
       " <Element a at 0x1be36196310>,\n",
       " <Element a at 0x1be36196360>,\n",
       " <Element a at 0x1be36196400>,\n",
       " <Element a at 0x1be36196450>,\n",
       " <Element a at 0x1be361964a0>,\n",
       " <Element a at 0x1be361964f0>,\n",
       " <Element a at 0x1be36196540>,\n",
       " <Element a at 0x1be36196590>,\n",
       " <Element a at 0x1be361965e0>,\n",
       " <Element a at 0x1be36196630>,\n",
       " <Element a at 0x1be36196680>,\n",
       " <Element a at 0x1be361966d0>,\n",
       " <Element a at 0x1be36196770>,\n",
       " <Element a at 0x1be36196720>]"
      ]
     },
     "execution_count": 6,
     "metadata": {},
     "output_type": "execute_result"
    }
   ],
   "source": [
    "root1.cssselect('p.tit a')"
   ]
  },
  {
   "cell_type": "markdown",
   "id": "otherwise-closure",
   "metadata": {},
   "source": [
    "#### requests.get('/mycar/mycar_view.php?no=2102867&gubun=K') -> 상대주소로는 접근이 불가함"
   ]
  },
  {
   "cell_type": "code",
   "execution_count": 13,
   "id": "urban-wagner",
   "metadata": {},
   "outputs": [],
   "source": [
    "from urllib.parse import urljoin"
   ]
  },
  {
   "cell_type": "markdown",
   "id": "retained-brick",
   "metadata": {},
   "source": [
    "#### 상대주소를 절대주소로 변환"
   ]
  },
  {
   "cell_type": "code",
   "execution_count": 14,
   "id": "acoustic-brook",
   "metadata": {},
   "outputs": [
    {
     "data": {
      "text/plain": [
       "'https://www.bobaedream.co.kr/mycar/mycar_view.php?no=2102867&gubun=K'"
      ]
     },
     "execution_count": 14,
     "metadata": {},
     "output_type": "execute_result"
    }
   ],
   "source": [
    "urljoin(url1, '/mycar/mycar_view.php?no=2102867&gubun=K')"
   ]
  },
  {
   "cell_type": "markdown",
   "id": "northern-benjamin",
   "metadata": {},
   "source": [
    "#### 수동으로 직접 붙이는 방법도 있음"
   ]
  },
  {
   "cell_type": "code",
   "execution_count": 15,
   "id": "correct-compression",
   "metadata": {},
   "outputs": [
    {
     "data": {
      "text/plain": [
       "'https://www.bobaedream.co.kr/mycar/mycar_view.php?no=2102867&gubun=K'"
      ]
     },
     "execution_count": 15,
     "metadata": {},
     "output_type": "execute_result"
    }
   ],
   "source": [
    "'https://www.bobaedream.co.kr'+'/mycar/mycar_view.php?no=2102867&gubun=K'"
   ]
  },
  {
   "cell_type": "code",
   "execution_count": 17,
   "id": "solved-shelf",
   "metadata": {},
   "outputs": [
    {
     "name": "stdout",
     "output_type": "stream",
     "text": [
      "https://www.bobaedream.co.kr/mycar/mycar_view.php?no=2102867&gubun=K\n",
      "https://www.bobaedream.co.kr/mycar/mycar_view.php?no=2103487&gubun=K\n",
      "https://www.bobaedream.co.kr/mycar/mycar_view.php?no=2099013&gubun=K\n",
      "https://www.bobaedream.co.kr/mycar/mycar_view.php?no=2093784&gubun=K\n",
      "https://www.bobaedream.co.kr/mycar/mycar_view.php?no=2105652&gubun=K\n",
      "https://www.bobaedream.co.kr/mycar/mycar_view.php?no=2104009&gubun=K\n",
      "https://www.bobaedream.co.kr/mycar/mycar_view.php?no=2105071&gubun=K\n",
      "https://www.bobaedream.co.kr/mycar/mycar_view.php?no=2106310&gubun=K\n",
      "https://www.bobaedream.co.kr/mycar/mycar_view.php?no=2106849&gubun=K\n",
      "https://www.bobaedream.co.kr/mycar/mycar_view.php?no=2103864&gubun=K\n",
      "https://www.bobaedream.co.kr/mycar/mycar_view.php?no=2107844&gubun=K\n",
      "https://www.bobaedream.co.kr/mycar/mycar_view.php?no=2107843&gubun=K\n",
      "https://www.bobaedream.co.kr/mycar/mycar_view.php?no=2104098&gubun=K\n",
      "https://www.bobaedream.co.kr/mycar/mycar_view.php?no=2104213&gubun=K\n",
      "https://www.bobaedream.co.kr/mycar/mycar_view.php?no=2107850&gubun=K\n",
      "https://www.bobaedream.co.kr/mycar/mycar_view.php?no=2107639&gubun=K\n",
      "https://www.bobaedream.co.kr/mycar/mycar_view.php?no=2107640&gubun=K\n",
      "https://www.bobaedream.co.kr/mycar/mycar_view.php?no=2107298&gubun=K\n",
      "https://www.bobaedream.co.kr/mycar/mycar_view.php?no=2107311&gubun=K\n",
      "https://www.bobaedream.co.kr/mycar/mycar_view.php?no=2098971&gubun=K\n"
     ]
    }
   ],
   "source": [
    "for link in root1.cssselect('p.tit a'):\n",
    "    print(urljoin(url1,link.attrib['href']))"
   ]
  }
 ],
 "metadata": {
  "kernelspec": {
   "display_name": "Python3.8_DL",
   "language": "python",
   "name": "dl"
  },
  "language_info": {
   "codemirror_mode": {
    "name": "ipython",
    "version": 3
   },
   "file_extension": ".py",
   "mimetype": "text/x-python",
   "name": "python",
   "nbconvert_exporter": "python",
   "pygments_lexer": "ipython3",
   "version": "3.8.8"
  }
 },
 "nbformat": 4,
 "nbformat_minor": 5
}
