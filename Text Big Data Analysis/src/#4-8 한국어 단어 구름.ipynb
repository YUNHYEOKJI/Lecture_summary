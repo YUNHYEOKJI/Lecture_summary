{
 "cells": [
  {
   "cell_type": "markdown",
   "id": "suitable-eight",
   "metadata": {},
   "source": [
    "- 한국어 단어 구름을 그리기 위해서는 한글 글꼴이 필요하다. 기본으로 설치된 한글 글꼴을 사용해도 되지만 여기서는 네이버 나눔글꼴을 사용하려고 한다. 네이버 나눔글꼴을 다운받아 설치한다."
   ]
  },
  {
   "cell_type": "markdown",
   "id": "outer-programmer",
   "metadata": {},
   "source": [
    "# 데이터 불러오기"
   ]
  },
  {
   "cell_type": "markdown",
   "id": "massive-publisher",
   "metadata": {},
   "source": [
    "- 저장된 단어 빈도표를 불러들인다."
   ]
  },
  {
   "cell_type": "code",
   "execution_count": 1,
   "id": "realistic-collapse",
   "metadata": {},
   "outputs": [],
   "source": [
    "import pandas as pd\n",
    "word_count = pd.read_excel('../data/nsmc-count.xlsx')"
   ]
  },
  {
   "cell_type": "code",
   "execution_count": 8,
   "id": "painted-syndicate",
   "metadata": {},
   "outputs": [
    {
     "data": {
      "text/html": [
       "<div>\n",
       "<style scoped>\n",
       "    .dataframe tbody tr th:only-of-type {\n",
       "        vertical-align: middle;\n",
       "    }\n",
       "\n",
       "    .dataframe tbody tr th {\n",
       "        vertical-align: top;\n",
       "    }\n",
       "\n",
       "    .dataframe thead th {\n",
       "        text-align: right;\n",
       "    }\n",
       "</style>\n",
       "<table border=\"1\" class=\"dataframe\">\n",
       "  <thead>\n",
       "    <tr style=\"text-align: right;\">\n",
       "      <th></th>\n",
       "      <th>Unnamed: 0</th>\n",
       "      <th>단어</th>\n",
       "      <th>빈도</th>\n",
       "    </tr>\n",
       "  </thead>\n",
       "  <tbody>\n",
       "    <tr>\n",
       "      <th>47</th>\n",
       "      <td>47</td>\n",
       "      <td>영화</td>\n",
       "      <td>19</td>\n",
       "    </tr>\n",
       "    <tr>\n",
       "      <th>46</th>\n",
       "      <td>46</td>\n",
       "      <td>연기</td>\n",
       "      <td>6</td>\n",
       "    </tr>\n",
       "    <tr>\n",
       "      <th>49</th>\n",
       "      <td>49</td>\n",
       "      <td>완전</td>\n",
       "      <td>6</td>\n",
       "    </tr>\n",
       "    <tr>\n",
       "      <th>9</th>\n",
       "      <td>9</td>\n",
       "      <td>내용</td>\n",
       "      <td>5</td>\n",
       "    </tr>\n",
       "    <tr>\n",
       "      <th>92</th>\n",
       "      <td>92</td>\n",
       "      <td>진짜</td>\n",
       "      <td>5</td>\n",
       "    </tr>\n",
       "  </tbody>\n",
       "</table>\n",
       "</div>"
      ],
      "text/plain": [
       "    Unnamed: 0  단어  빈도\n",
       "47          47  영화  19\n",
       "46          46  연기   6\n",
       "49          49  완전   6\n",
       "9            9  내용   5\n",
       "92          92  진짜   5"
      ]
     },
     "execution_count": 8,
     "metadata": {},
     "output_type": "execute_result"
    }
   ],
   "source": [
    "word_count.sort_values('빈도', ascending=False).head()"
   ]
  },
  {
   "cell_type": "code",
   "execution_count": 9,
   "id": "moving-despite",
   "metadata": {},
   "outputs": [
    {
     "data": {
      "text/html": [
       "<div>\n",
       "<style scoped>\n",
       "    .dataframe tbody tr th:only-of-type {\n",
       "        vertical-align: middle;\n",
       "    }\n",
       "\n",
       "    .dataframe tbody tr th {\n",
       "        vertical-align: top;\n",
       "    }\n",
       "\n",
       "    .dataframe thead th {\n",
       "        text-align: right;\n",
       "    }\n",
       "</style>\n",
       "<table border=\"1\" class=\"dataframe\">\n",
       "  <thead>\n",
       "    <tr style=\"text-align: right;\">\n",
       "      <th></th>\n",
       "      <th>Unnamed: 0</th>\n",
       "      <th>빈도</th>\n",
       "    </tr>\n",
       "    <tr>\n",
       "      <th>단어</th>\n",
       "      <th></th>\n",
       "      <th></th>\n",
       "    </tr>\n",
       "  </thead>\n",
       "  <tbody>\n",
       "    <tr>\n",
       "      <th>1</th>\n",
       "      <td>0</td>\n",
       "      <td>2</td>\n",
       "    </tr>\n",
       "    <tr>\n",
       "      <th>10</th>\n",
       "      <td>1</td>\n",
       "      <td>2</td>\n",
       "    </tr>\n",
       "    <tr>\n",
       "      <th>3</th>\n",
       "      <td>2</td>\n",
       "      <td>2</td>\n",
       "    </tr>\n",
       "    <tr>\n",
       "      <th>감동</th>\n",
       "      <td>3</td>\n",
       "      <td>2</td>\n",
       "    </tr>\n",
       "    <tr>\n",
       "      <th>것</th>\n",
       "      <td>4</td>\n",
       "      <td>3</td>\n",
       "    </tr>\n",
       "    <tr>\n",
       "      <th>...</th>\n",
       "      <td>...</td>\n",
       "      <td>...</td>\n",
       "    </tr>\n",
       "    <tr>\n",
       "      <th>최고</th>\n",
       "      <td>95</td>\n",
       "      <td>4</td>\n",
       "    </tr>\n",
       "    <tr>\n",
       "      <th>캐스팅</th>\n",
       "      <td>96</td>\n",
       "      <td>2</td>\n",
       "    </tr>\n",
       "    <tr>\n",
       "      <th>평범</th>\n",
       "      <td>97</td>\n",
       "      <td>3</td>\n",
       "    </tr>\n",
       "    <tr>\n",
       "      <th>평점</th>\n",
       "      <td>98</td>\n",
       "      <td>4</td>\n",
       "    </tr>\n",
       "    <tr>\n",
       "      <th>하나</th>\n",
       "      <td>99</td>\n",
       "      <td>2</td>\n",
       "    </tr>\n",
       "  </tbody>\n",
       "</table>\n",
       "<p>100 rows × 2 columns</p>\n",
       "</div>"
      ],
      "text/plain": [
       "     Unnamed: 0  빈도\n",
       "단어                 \n",
       "1             0   2\n",
       "10            1   2\n",
       "3             2   2\n",
       "감동            3   2\n",
       "것             4   3\n",
       "..          ...  ..\n",
       "최고           95   4\n",
       "캐스팅          96   2\n",
       "평범           97   3\n",
       "평점           98   4\n",
       "하나           99   2\n",
       "\n",
       "[100 rows x 2 columns]"
      ]
     },
     "execution_count": 9,
     "metadata": {},
     "output_type": "execute_result"
    }
   ],
   "source": [
    "word_count.set_index('단어')"
   ]
  },
  {
   "cell_type": "code",
   "execution_count": 10,
   "id": "extended-landing",
   "metadata": {},
   "outputs": [
    {
     "data": {
      "text/plain": [
       "{'1': 2,\n",
       " '10': 2,\n",
       " '3': 2,\n",
       " '감동': 2,\n",
       " '것': 3,\n",
       " '관객': 2,\n",
       " '기대': 2,\n",
       " '나': 2,\n",
       " '내': 2,\n",
       " '내용': 5,\n",
       " '년대': 2,\n",
       " '느끼': 2,\n",
       " '드라마': 2,\n",
       " '듯': 2,\n",
       " '만찬': 2,\n",
       " '물건': 2,\n",
       " '사람': 4,\n",
       " '사랑': 2,\n",
       " '생각': 2,\n",
       " '세': 4,\n",
       " '수': 2,\n",
       " '스토리': 2,\n",
       " '시기': 1,\n",
       " '시청률': 1,\n",
       " '신문기사': 1,\n",
       " '신선': 1,\n",
       " '신카이': 1,\n",
       " '실망': 1,\n",
       " '심심': 1,\n",
       " '심오': 1,\n",
       " '쓰레기': 1,\n",
       " '아.': 1,\n",
       " '아무나': 1,\n",
       " '아이돌': 1,\n",
       " '아햏햏': 2,\n",
       " '악역': 1,\n",
       " '안': 3,\n",
       " '안나': 1,\n",
       " '안달난것': 1,\n",
       " '알만': 1,\n",
       " '알바생': 1,\n",
       " '액션': 1,\n",
       " '야': 1,\n",
       " '약탈자': 1,\n",
       " '어': 2,\n",
       " '에피소드': 2,\n",
       " '연기': 6,\n",
       " '영화': 19,\n",
       " '와': 1,\n",
       " '완전': 6,\n",
       " '웃음': 1,\n",
       " '원작': 2,\n",
       " '월드': 1,\n",
       " '위대': 1,\n",
       " '위력': 1,\n",
       " '윈투': 1,\n",
       " '유령': 1,\n",
       " '유치': 1,\n",
       " '윤제문': 1,\n",
       " '으로뽑': 1,\n",
       " '은': 1,\n",
       " '은은하': 1,\n",
       " '은희': 1,\n",
       " '음내': 1,\n",
       " '음식': 3,\n",
       " '음악': 1,\n",
       " '의학상': 1,\n",
       " '이': 4,\n",
       " '이거': 4,\n",
       " '이나': 1,\n",
       " '이민기': 1,\n",
       " '이민기캐릭터': 1,\n",
       " '이범수': 1,\n",
       " '이야기': 1,\n",
       " '이야기구먼': 1,\n",
       " '이응경': 1,\n",
       " '이정': 1,\n",
       " '이틀': 1,\n",
       " '이해': 1,\n",
       " '이혜리': 1,\n",
       " '익살': 1,\n",
       " '자체': 2,\n",
       " '재미': 3,\n",
       " '재미있': 2,\n",
       " '전개': 3,\n",
       " '절대': 3,\n",
       " '점': 3,\n",
       " '정신': 3,\n",
       " '조금': 3,\n",
       " '조작': 2,\n",
       " '죄인': 2,\n",
       " '지루': 2,\n",
       " '진짜': 5,\n",
       " '차': 2,\n",
       " '초반': 2,\n",
       " '최고': 4,\n",
       " '캐스팅': 2,\n",
       " '평범': 3,\n",
       " '평점': 4,\n",
       " '하나': 2}"
      ]
     },
     "execution_count": 10,
     "metadata": {},
     "output_type": "execute_result"
    }
   ],
   "source": [
    "word_count.set_index('단어')['빈도'].to_dict()"
   ]
  },
  {
   "cell_type": "markdown",
   "id": "coupled-spring",
   "metadata": {},
   "source": [
    "- 표를 사전(dict)로 변환한다."
   ]
  },
  {
   "cell_type": "code",
   "execution_count": 2,
   "id": "pregnant-client",
   "metadata": {},
   "outputs": [],
   "source": [
    "count_dic = word_count.set_index('단어')['빈도'].to_dict()"
   ]
  },
  {
   "cell_type": "markdown",
   "id": "passive-collective",
   "metadata": {},
   "source": [
    "# 단어 구름"
   ]
  },
  {
   "cell_type": "code",
   "execution_count": 3,
   "id": "intensive-israel",
   "metadata": {},
   "outputs": [],
   "source": [
    "from wordcloud import WordCloud"
   ]
  },
  {
   "cell_type": "markdown",
   "id": "earlier-vintage",
   "metadata": {},
   "source": [
    "- 윈도에서는 설치된 글꼴이 C:/Windows/Fonts/ 폴더에 저장되므로 아래와 같이 해준다. 꼭 설치를 하지않더라도 ttf 파일이 있는 위치를 명시해주면 된다."
   ]
  },
  {
   "cell_type": "code",
   "execution_count": 4,
   "id": "further-burke",
   "metadata": {},
   "outputs": [],
   "source": [
    "wc = WordCloud(font_path='C:/Windows/Fonts/NanumGothic.ttf',\n",
    "               background_color='white',\n",
    "               max_words=50,\n",
    "               width=400, height=300)"
   ]
  },
  {
   "cell_type": "markdown",
   "id": "chemical-driving",
   "metadata": {},
   "source": [
    "- 다음과 같이 글꼴의 경로를 지정한다."
   ]
  },
  {
   "cell_type": "code",
   "execution_count": 5,
   "id": "challenging-ridge",
   "metadata": {},
   "outputs": [],
   "source": [
    "wc = WordCloud(font_path='/usr/share/fonts/truetype/nanum/NanumGothic.ttf',\n",
    "               background_color='white',\n",
    "               max_words=50,\n",
    "               width=400, height=300)"
   ]
  },
  {
   "cell_type": "markdown",
   "id": "driven-soccer",
   "metadata": {},
   "source": [
    "- 단어 구름을 그리기 위하여 word_count 를 generate_from_frequencies를 사용하여 cloud 변수에 할당한다."
   ]
  },
  {
   "cell_type": "code",
   "execution_count": 6,
   "id": "received-trustee",
   "metadata": {},
   "outputs": [],
   "source": [
    "cloud = wc.generate_from_frequencies(count_dic)"
   ]
  },
  {
   "cell_type": "markdown",
   "id": "connected-curtis",
   "metadata": {},
   "source": [
    "- cloud 변수의 그림을 붙여 넣기 위해 .to_image를 사용한다."
   ]
  },
  {
   "cell_type": "code",
   "execution_count": 7,
   "id": "compact-jonathan",
   "metadata": {},
   "outputs": [
    {
     "data": {
      "image/png": "[encoded data removed]",
      "text/plain": [
       "<PIL.Image.Image image mode=RGB size=400x300 at 0x276A699E9A0>"
      ]
     },
     "execution_count": 7,
     "metadata": {},
     "output_type": "execute_result"
    }
   ],
   "source": [
    "cloud.to_image()"
   ]
  }
 ],
 "metadata": {
  "kernelspec": {
   "display_name": "Python3.8_DL",
   "language": "python",
   "name": "dl"
  },
  "language_info": {
   "codemirror_mode": {
    "name": "ipython",
    "version": 3
   },
   "file_extension": ".py",
   "mimetype": "text/x-python",
   "name": "python",
   "nbconvert_exporter": "python",
   "pygments_lexer": "ipython3",
   "version": "3.8.8"
  }
 },
 "nbformat": 4,
 "nbformat_minor": 5
}
