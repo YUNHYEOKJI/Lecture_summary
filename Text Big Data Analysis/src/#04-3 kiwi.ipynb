{
 "cells": [
  {
   "cell_type": "markdown",
   "id": "recorded-crest",
   "metadata": {},
   "source": [
    "# kiwi"
   ]
  },
  {
   "cell_type": "markdown",
   "id": "dramatic-reservation",
   "metadata": {},
   "source": [
    "# 설치"
   ]
  },
  {
   "cell_type": "code",
   "execution_count": 1,
   "id": "spread-steam",
   "metadata": {},
   "outputs": [
    {
     "name": "stdout",
     "output_type": "stream",
     "text": [
      "Requirement already satisfied: kiwipiepy in c:\\users\\msi\\anaconda3\\lib\\site-packages (0.9.2)\n",
      "Requirement already satisfied: kiwipiepy-model==0.9.0 in c:\\users\\msi\\anaconda3\\lib\\site-packages (from kiwipiepy) (0.9.0)\n"
     ]
    }
   ],
   "source": [
    "!pip install kiwipiepy"
   ]
  },
  {
   "cell_type": "markdown",
   "id": "boolean-affiliation",
   "metadata": {},
   "source": [
    "# 준비"
   ]
  },
  {
   "cell_type": "code",
   "execution_count": 2,
   "id": "phantom-course",
   "metadata": {},
   "outputs": [],
   "source": [
    "from kiwipiepy import Kiwi"
   ]
  },
  {
   "cell_type": "code",
   "execution_count": 4,
   "id": "polished-japanese",
   "metadata": {},
   "outputs": [],
   "source": [
    "kiwi = Kiwi() # 형태소 분석기 초기화"
   ]
  },
  {
   "cell_type": "code",
   "execution_count": 5,
   "id": "dress-victoria",
   "metadata": {},
   "outputs": [
    {
     "data": {
      "text/plain": [
       "0"
      ]
     },
     "execution_count": 5,
     "metadata": {},
     "output_type": "execute_result"
    }
   ],
   "source": [
    "kiwi.prepare()"
   ]
  },
  {
   "cell_type": "markdown",
   "id": "quarterly-million",
   "metadata": {},
   "source": [
    "# 형태소 분석"
   ]
  },
  {
   "cell_type": "code",
   "execution_count": 6,
   "id": "liked-trauma",
   "metadata": {},
   "outputs": [],
   "source": [
    "text = '오늘은 자연어 처리를 배우기 좋은 날이다. 자연어 처리는 재미있다.'"
   ]
  },
  {
   "cell_type": "code",
   "execution_count": 7,
   "id": "digital-stock",
   "metadata": {},
   "outputs": [],
   "source": [
    "result = kiwi.analyze(text)"
   ]
  },
  {
   "cell_type": "code",
   "execution_count": 8,
   "id": "falling-michigan",
   "metadata": {},
   "outputs": [
    {
     "data": {
      "text/plain": [
       "[([('오늘', 'NNG', 0, 2),\n",
       "   ('은', 'JX', 2, 1),\n",
       "   ('자연어', 'NNP', 4, 3),\n",
       "   ('처리', 'NNG', 8, 2),\n",
       "   ('를', 'JKO', 10, 1),\n",
       "   ('배우', 'VV', 12, 2),\n",
       "   ('기', 'ETN', 14, 1),\n",
       "   ('좋', 'VA', 16, 1),\n",
       "   ('은', 'ETM', 17, 1),\n",
       "   ('날', 'NNG', 19, 1),\n",
       "   ('이', 'VCP', 20, 1),\n",
       "   ('다', 'EF', 21, 1),\n",
       "   ('.', 'SF', 22, 1),\n",
       "   ('자연어', 'NNP', 24, 3),\n",
       "   ('처리', 'NNG', 28, 2),\n",
       "   ('는', 'JX', 30, 1),\n",
       "   ('재미있', 'VA', 32, 3),\n",
       "   ('다', 'EF', 35, 1),\n",
       "   ('.', 'SF', 36, 1)],\n",
       "  -106.402587890625)]"
      ]
     },
     "execution_count": 8,
     "metadata": {},
     "output_type": "execute_result"
    }
   ],
   "source": [
    "result"
   ]
  },
  {
   "cell_type": "markdown",
   "id": "cordless-cabinet",
   "metadata": {},
   "source": [
    "- 0번이 여러가지 데이터 중에 점수가 가장 좋은 결과\n",
    "- 형태소 분석의 결과만 보려면 [0][0]\n",
    "- N:명사, J:조사, V:용언(동사,형용사)\n",
    "- 번호는 시작위치와 끝 위치"
   ]
  },
  {
   "cell_type": "code",
   "execution_count": 9,
   "id": "duplicate-candy",
   "metadata": {},
   "outputs": [
    {
     "data": {
      "text/plain": [
       "[('오늘', 'NNG', 0, 2),\n",
       " ('은', 'JX', 2, 1),\n",
       " ('자연어', 'NNP', 4, 3),\n",
       " ('처리', 'NNG', 8, 2),\n",
       " ('를', 'JKO', 10, 1),\n",
       " ('배우', 'VV', 12, 2),\n",
       " ('기', 'ETN', 14, 1),\n",
       " ('좋', 'VA', 16, 1),\n",
       " ('은', 'ETM', 17, 1),\n",
       " ('날', 'NNG', 19, 1),\n",
       " ('이', 'VCP', 20, 1),\n",
       " ('다', 'EF', 21, 1),\n",
       " ('.', 'SF', 22, 1),\n",
       " ('자연어', 'NNP', 24, 3),\n",
       " ('처리', 'NNG', 28, 2),\n",
       " ('는', 'JX', 30, 1),\n",
       " ('재미있', 'VA', 32, 3),\n",
       " ('다', 'EF', 35, 1),\n",
       " ('.', 'SF', 36, 1)]"
      ]
     },
     "execution_count": 9,
     "metadata": {},
     "output_type": "execute_result"
    }
   ],
   "source": [
    "result[0][0] "
   ]
  },
  {
   "cell_type": "markdown",
   "id": "blessed-operator",
   "metadata": {},
   "source": [
    "# 명사만 추출하기"
   ]
  },
  {
   "cell_type": "markdown",
   "id": "indirect-granny",
   "metadata": {},
   "source": [
    "- for문에서 받아서 처리할 생각이 없다면 _를 이용해 표현"
   ]
  },
  {
   "cell_type": "code",
   "execution_count": 10,
   "id": "central-president",
   "metadata": {},
   "outputs": [
    {
     "name": "stdout",
     "output_type": "stream",
     "text": [
      "오늘\n",
      "자연어\n",
      "처리\n",
      "날\n",
      "자연어\n",
      "처리\n"
     ]
    }
   ],
   "source": [
    "for token, pos, _, _ in result[0][0]:\n",
    "    if pos.startswith('N'):\n",
    "        print(token)"
   ]
  },
  {
   "cell_type": "markdown",
   "id": "medical-break",
   "metadata": {},
   "source": [
    "# 명사 추출 함수"
   ]
  },
  {
   "cell_type": "code",
   "execution_count": 11,
   "id": "protecting-bolivia",
   "metadata": {},
   "outputs": [],
   "source": [
    "def extract_noun(text):\n",
    "    result = kiwi.analyze(text)\n",
    "    for token, pos, _, _ in result[0][0]:\n",
    "        if pos.startswith('N'):\n",
    "            yield token # 리스트를 만들고 추가해도 되지만 발견될 때마다 넘겨주는 함수인 yield 사용"
   ]
  },
  {
   "cell_type": "code",
   "execution_count": 12,
   "id": "dangerous-oxygen",
   "metadata": {},
   "outputs": [
    {
     "data": {
      "text/plain": [
       "['어제', '홍차', '오늘', '커피']"
      ]
     },
     "execution_count": 12,
     "metadata": {},
     "output_type": "execute_result"
    }
   ],
   "source": [
    "list(extract_noun('어제는 홍차를 마시고, 오늘은 커피를 마셨다.')) # list 없이 출력시 general 형태로 출력"
   ]
  },
  {
   "cell_type": "code",
   "execution_count": 13,
   "id": "sized-progressive",
   "metadata": {},
   "outputs": [],
   "source": [
    "def extract_nounverb(text):\n",
    "    result = kiwi.analyze(text)\n",
    "    for token, pos, _, _ in result[0][0]:\n",
    "        if pos in 'NV':\n",
    "            yield token # 리스트를 만들고 추가해도 되지만 발견될 때마다 넘겨주는 함수인 yield 사용"
   ]
  },
  {
   "cell_type": "code",
   "execution_count": 14,
   "id": "fantastic-jenny",
   "metadata": {},
   "outputs": [
    {
     "data": {
      "text/plain": [
       "[]"
      ]
     },
     "execution_count": 14,
     "metadata": {},
     "output_type": "execute_result"
    }
   ],
   "source": [
    "list(extract_nounverb('어제는 홍차를 마시고, 오늘은 커피를 마셨다.')) # list 없이 출력시 general 형태로 출력"
   ]
  },
  {
   "cell_type": "code",
   "execution_count": 16,
   "id": "bound-lucas",
   "metadata": {},
   "outputs": [
    {
     "data": {
      "text/plain": [
       "'SF'"
      ]
     },
     "execution_count": 16,
     "metadata": {},
     "output_type": "execute_result"
    }
   ],
   "source": [
    "pos"
   ]
  }
 ],
 "metadata": {
  "kernelspec": {
   "display_name": "Python3.8_DL",
   "language": "python",
   "name": "dl"
  },
  "language_info": {
   "codemirror_mode": {
    "name": "ipython",
    "version": 3
   },
   "file_extension": ".py",
   "mimetype": "text/x-python",
   "name": "python",
   "nbconvert_exporter": "python",
   "pygments_lexer": "ipython3",
   "version": "3.8.8"
  }
 },
 "nbformat": 4,
 "nbformat_minor": 5
}
