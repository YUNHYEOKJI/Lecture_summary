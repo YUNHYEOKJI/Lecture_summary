{
 "cells": [
  {
   "cell_type": "markdown",
   "id": "multiple-dollar",
   "metadata": {},
   "source": [
    "# konlpy"
   ]
  },
  {
   "cell_type": "markdown",
   "id": "greatest-bermuda",
   "metadata": {},
   "source": [
    "- konlpy는 Java 기반의 형태소 분석기들을 Python에서 쓸 수 있게 하는 라이브러리들이다."
   ]
  },
  {
   "cell_type": "markdown",
   "id": "backed-juice",
   "metadata": {},
   "source": [
    "# Java 설치"
   ]
  },
  {
   "cell_type": "markdown",
   "id": "loving-saint",
   "metadata": {},
   "source": [
    "- 윈도의 경우 Java 설치가 필요하다. 맥에서는 대부분 설치가 되어 있으나 없는 경우 설치하면 된다.\n",
    "\n",
    "- Java 홈페이지에 접속하여 \"무료 Java 다운로드\"를 클릭 후, 64비트 Java를 다운로드 받는다. 만약 64비트 Java가 아닐 경우 모든 운영체제용 Java 다운로드에 접속하여 Windows 오프라인 (64비트)를 다운로드 받는다. 맥의 경우에는 모두 64비트이므로 그냥 다운로드 받으면 된다."
   ]
  },
  {
   "cell_type": "markdown",
   "id": "tropical-performance",
   "metadata": {},
   "source": [
    "# konlpy 설치"
   ]
  },
  {
   "cell_type": "markdown",
   "id": "intellectual-baker",
   "metadata": {},
   "source": [
    "- 설치 방법은 기본적으로 공식 홈페이지를 참고하면 된다. 요점만 정리하면 다음과 같다.\n",
    "- 윈도에서는 먼저 jpype1을 다음과 같이 설치한다. 맥, 리눅스, Colab 등에서는 생략한다."
   ]
  },
  {
   "cell_type": "markdown",
   "id": "close-freeze",
   "metadata": {},
   "source": [
    "- jpype1 : 자바와 파이썬을 연결해주는 역할"
   ]
  },
  {
   "cell_type": "code",
   "execution_count": 1,
   "id": "regular-virginia",
   "metadata": {},
   "outputs": [
    {
     "name": "stdout",
     "output_type": "stream",
     "text": [
      "Collecting package metadata (current_repodata.json): ...working... done\n",
      "Solving environment: ...working... done\n",
      "\n",
      "## Package Plan ##\n",
      "\n",
      "  environment location: C:\\Users\\msi\\anaconda3\n",
      "\n",
      "  added / updated specs:\n",
      "    - jpype1\n",
      "\n",
      "\n",
      "The following packages will be downloaded:\n",
      "\n",
      "    package                    |            build\n",
      "    ---------------------------|-----------------\n",
      "    conda-4.10.1               |   py38haa244fe_0         3.1 MB  conda-forge\n",
      "    ------------------------------------------------------------\n",
      "                                           Total:         3.1 MB\n",
      "\n",
      "The following packages will be UPDATED:\n",
      "\n",
      "  conda                                4.9.2-py38haa244fe_0 --> 4.10.1-py38haa244fe_0\n",
      "\n",
      "\n",
      "\n",
      "Downloading and Extracting Packages\n",
      "\n",
      "conda-4.10.1         | 3.1 MB    |            |   0% \n",
      "conda-4.10.1         | 3.1 MB    | 8          |   8% \n",
      "conda-4.10.1         | 3.1 MB    | ####6      |  47% \n",
      "conda-4.10.1         | 3.1 MB    | #######6   |  77% \n",
      "conda-4.10.1         | 3.1 MB    | ########## | 100% \n",
      "conda-4.10.1         | 3.1 MB    | ########## | 100% \n",
      "Preparing transaction: ...working... done\n",
      "Verifying transaction: ...working... done\n",
      "Executing transaction: ...working... done\n"
     ]
    }
   ],
   "source": [
    "!conda install -y -c conda-forge jpype1"
   ]
  },
  {
   "cell_type": "markdown",
   "id": "special-advice",
   "metadata": {},
   "source": [
    "- 다음으로 pip로 konlpy를 설치한다."
   ]
  },
  {
   "cell_type": "code",
   "execution_count": 2,
   "id": "suited-million",
   "metadata": {},
   "outputs": [
    {
     "name": "stdout",
     "output_type": "stream",
     "text": [
      "Requirement already satisfied: konlpy in c:\\users\\msi\\anaconda3\\lib\\site-packages (0.5.2)\n",
      "Requirement already satisfied: numpy>=1.6 in c:\\users\\msi\\anaconda3\\lib\\site-packages (from konlpy) (1.19.5)\n",
      "Requirement already satisfied: tweepy>=3.7.0 in c:\\users\\msi\\anaconda3\\lib\\site-packages (from konlpy) (3.10.0)\n",
      "Requirement already satisfied: beautifulsoup4==4.6.0 in c:\\users\\msi\\anaconda3\\lib\\site-packages (from konlpy) (4.6.0)\n",
      "Requirement already satisfied: JPype1>=0.7.0 in c:\\users\\msi\\anaconda3\\lib\\site-packages (from konlpy) (1.2.1)\n",
      "Requirement already satisfied: lxml>=4.1.0 in c:\\users\\msi\\anaconda3\\lib\\site-packages (from konlpy) (4.6.2)\n",
      "Requirement already satisfied: colorama in c:\\users\\msi\\anaconda3\\lib\\site-packages (from konlpy) (0.4.4)\n",
      "Requirement already satisfied: requests[socks]>=2.11.1 in c:\\users\\msi\\anaconda3\\lib\\site-packages (from tweepy>=3.7.0->konlpy) (2.25.1)\n",
      "Requirement already satisfied: six>=1.10.0 in c:\\users\\msi\\anaconda3\\lib\\site-packages (from tweepy>=3.7.0->konlpy) (1.15.0)\n",
      "Requirement already satisfied: requests-oauthlib>=0.7.0 in c:\\users\\msi\\anaconda3\\lib\\site-packages (from tweepy>=3.7.0->konlpy) (1.3.0)\n",
      "Requirement already satisfied: oauthlib>=3.0.0 in c:\\users\\msi\\anaconda3\\lib\\site-packages (from requests-oauthlib>=0.7.0->tweepy>=3.7.0->konlpy) (3.1.0)\n",
      "Requirement already satisfied: urllib3<1.27,>=1.21.1 in c:\\users\\msi\\anaconda3\\lib\\site-packages (from requests[socks]>=2.11.1->tweepy>=3.7.0->konlpy) (1.26.3)\n",
      "Requirement already satisfied: certifi>=2017.4.17 in c:\\users\\msi\\anaconda3\\lib\\site-packages (from requests[socks]>=2.11.1->tweepy>=3.7.0->konlpy) (2020.12.5)\n",
      "Requirement already satisfied: chardet<5,>=3.0.2 in c:\\users\\msi\\anaconda3\\lib\\site-packages (from requests[socks]>=2.11.1->tweepy>=3.7.0->konlpy) (3.0.4)\n",
      "Requirement already satisfied: idna<3,>=2.5 in c:\\users\\msi\\anaconda3\\lib\\site-packages (from requests[socks]>=2.11.1->tweepy>=3.7.0->konlpy) (2.10)\n",
      "Requirement already satisfied: PySocks!=1.5.7,>=1.5.6 in c:\\users\\msi\\anaconda3\\lib\\site-packages (from requests[socks]>=2.11.1->tweepy>=3.7.0->konlpy) (1.7.1)\n"
     ]
    }
   ],
   "source": [
    "!pip install konlpy"
   ]
  },
  {
   "cell_type": "markdown",
   "id": "material-electron",
   "metadata": {},
   "source": [
    "# 형태소 분석"
   ]
  },
  {
   "cell_type": "markdown",
   "id": "democratic-hardwood",
   "metadata": {},
   "source": [
    "- konlpy에는 여러 가지 형태소 분석기가 내장되어 있으나 가장 많이 쓰이는 Komoran을 써보도록 하자."
   ]
  },
  {
   "cell_type": "code",
   "execution_count": 1,
   "id": "auburn-anniversary",
   "metadata": {},
   "outputs": [],
   "source": [
    "from konlpy.tag import Komoran"
   ]
  },
  {
   "cell_type": "code",
   "execution_count": 2,
   "id": "egyptian-protest",
   "metadata": {},
   "outputs": [],
   "source": [
    "tagger = Komoran()"
   ]
  },
  {
   "cell_type": "markdown",
   "id": "irish-reggae",
   "metadata": {},
   "source": [
    "- 문장을 다음과 같이 형태소 분석을 한다."
   ]
  },
  {
   "cell_type": "code",
   "execution_count": 3,
   "id": "lyric-strap",
   "metadata": {},
   "outputs": [],
   "source": [
    "text = '오늘은 자연어 처리를 배우기 좋은 날이다. 자연어 처리는 재미있다.'"
   ]
  },
  {
   "cell_type": "code",
   "execution_count": 4,
   "id": "proper-paraguay",
   "metadata": {},
   "outputs": [
    {
     "data": {
      "text/plain": [
       "[('오늘', 'NNG'),\n",
       " ('은', 'JX'),\n",
       " ('자연어', 'NNP'),\n",
       " ('처리', 'NNG'),\n",
       " ('를', 'JKO'),\n",
       " ('배우', 'VV'),\n",
       " ('기', 'ETN'),\n",
       " ('좋은 날', 'NNP'),\n",
       " ('이', 'VCP'),\n",
       " ('다', 'EF'),\n",
       " ('.', 'SF'),\n",
       " ('자연어', 'NNP'),\n",
       " ('처리', 'NNG'),\n",
       " ('는', 'JX'),\n",
       " ('재미있', 'VA'),\n",
       " ('다', 'EF'),\n",
       " ('.', 'SF')]"
      ]
     },
     "execution_count": 4,
     "metadata": {},
     "output_type": "execute_result"
    }
   ],
   "source": [
    "tagger.pos(text)"
   ]
  },
  {
   "cell_type": "markdown",
   "id": "faced-breakfast",
   "metadata": {},
   "source": [
    "- 다음과 같이 명사만 추출할 수도 있다."
   ]
  },
  {
   "cell_type": "code",
   "execution_count": 5,
   "id": "adopted-april",
   "metadata": {},
   "outputs": [
    {
     "data": {
      "text/plain": [
       "['오늘', '자연어', '처리', '좋은 날', '자연어', '처리']"
      ]
     },
     "execution_count": 5,
     "metadata": {},
     "output_type": "execute_result"
    }
   ],
   "source": [
    "tagger.nouns(text)"
   ]
  }
 ],
 "metadata": {
  "kernelspec": {
   "display_name": "Python3.8_DL",
   "language": "python",
   "name": "dl"
  },
  "language_info": {
   "codemirror_mode": {
    "name": "ipython",
    "version": 3
   },
   "file_extension": ".py",
   "mimetype": "text/x-python",
   "name": "python",
   "nbconvert_exporter": "python",
   "pygments_lexer": "ipython3",
   "version": "3.8.8"
  }
 },
 "nbformat": 4,
 "nbformat_minor": 5
}
