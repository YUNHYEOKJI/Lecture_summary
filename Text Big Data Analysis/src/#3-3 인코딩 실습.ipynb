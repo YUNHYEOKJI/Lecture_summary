{
 "cells": [
  {
   "cell_type": "markdown",
   "id": "integral-hepatitis",
   "metadata": {},
   "source": [
    "# 인코딩 실습"
   ]
  },
  {
   "cell_type": "markdown",
   "id": "norman-hybrid",
   "metadata": {},
   "source": [
    "#### 웹사이트 크롤링 시, 가끔 인코딩 오류가 발생한다. \n",
    "#### 이는 웹사이트의 인코딩 형식을 강제 지정함으로서 해결할 수 있다."
   ]
  },
  {
   "cell_type": "code",
   "execution_count": 1,
   "id": "informative-kelly",
   "metadata": {},
   "outputs": [],
   "source": [
    "import requests\n",
    "import lxml.html"
   ]
  },
  {
   "cell_type": "markdown",
   "id": "pressing-repair",
   "metadata": {},
   "source": [
    "#### 대한민국 법원 홈페이지를 긁어온다."
   ]
  },
  {
   "cell_type": "code",
   "execution_count": 2,
   "id": "obvious-sphere",
   "metadata": {},
   "outputs": [],
   "source": [
    "res = requests.get('https://www.scourt.go.kr/scourt/index.html')"
   ]
  },
  {
   "cell_type": "markdown",
   "id": "beautiful-license",
   "metadata": {},
   "source": [
    "#### res.encoding : 웹사이트의 인코딩 형식을 확인할 수 있다."
   ]
  },
  {
   "cell_type": "code",
   "execution_count": 3,
   "id": "junior-cooper",
   "metadata": {},
   "outputs": [
    {
     "data": {
      "text/plain": [
       "'ISO-8859-1'"
      ]
     },
     "execution_count": 3,
     "metadata": {},
     "output_type": "execute_result"
    }
   ],
   "source": [
    "res.encoding"
   ]
  },
  {
   "cell_type": "markdown",
   "id": "together-turning",
   "metadata": {},
   "source": [
    "#### 서유럽어를 표현하는 ISO-8859-1로 인코딩이 잘못 인식되었다."
   ]
  },
  {
   "cell_type": "markdown",
   "id": "naval-irrigation",
   "metadata": {},
   "source": [
    "#### 문제를 확인하기 위하여 웹페이지의 제목을 추출해본다."
   ]
  },
  {
   "cell_type": "code",
   "execution_count": 4,
   "id": "adverse-trauma",
   "metadata": {},
   "outputs": [
    {
     "name": "stdout",
     "output_type": "stream",
     "text": [
      "´ëÇÑ¹Î±¹ ¹ý¿ø\n"
     ]
    }
   ],
   "source": [
    "root = lxml.html.fromstring(res.text)\n",
    "for e in root.cssselect('title'):\n",
    "    print(e.text_content())"
   ]
  },
  {
   "cell_type": "code",
   "execution_count": 5,
   "id": "textile-broad",
   "metadata": {},
   "outputs": [],
   "source": [
    "titles = root.cssselect('title')"
   ]
  },
  {
   "cell_type": "code",
   "execution_count": 6,
   "id": "similar-contribution",
   "metadata": {},
   "outputs": [],
   "source": [
    "title = titles[0]"
   ]
  },
  {
   "cell_type": "code",
   "execution_count": 7,
   "id": "nervous-seven",
   "metadata": {},
   "outputs": [
    {
     "data": {
      "text/plain": [
       "'´ëÇÑ¹Î±¹ ¹ý¿ø'"
      ]
     },
     "execution_count": 7,
     "metadata": {},
     "output_type": "execute_result"
    }
   ],
   "source": [
    "title.text"
   ]
  },
  {
   "cell_type": "markdown",
   "id": "standard-replication",
   "metadata": {},
   "source": [
    "#### '대한민국 법원' 대신 이상하게 깨진 글자들이 표시된다. 인코딩을 잘못 인식했기 때문이다.\n",
    "#### 수동으로 인코딩을 지정해야 하는데, 한글을 표시하는 인코딩은 cp949 아니면 utf8 둘 중에 하나이다. \n",
    "#### 하나씩 시도해본다.\n",
    "#### 먼저 인코딩을 cp949로 변경한다."
   ]
  },
  {
   "cell_type": "code",
   "execution_count": 8,
   "id": "accessible-accommodation",
   "metadata": {},
   "outputs": [],
   "source": [
    "res.encoding = 'cp949'"
   ]
  },
  {
   "cell_type": "markdown",
   "id": "floral-athens",
   "metadata": {},
   "source": [
    "#### 다시 웹페이지 제목을 추출하면 잘 출력된다."
   ]
  },
  {
   "cell_type": "code",
   "execution_count": 9,
   "id": "wooden-jewel",
   "metadata": {},
   "outputs": [
    {
     "name": "stdout",
     "output_type": "stream",
     "text": [
      "대한민국 법원\n"
     ]
    }
   ],
   "source": [
    "root = lxml.html.fromstring(res.text)\n",
    "for e in root.cssselect('title'):\n",
    "    print(e.text_content())"
   ]
  },
  {
   "cell_type": "code",
   "execution_count": 10,
   "id": "cognitive-spoke",
   "metadata": {},
   "outputs": [],
   "source": [
    "res.encoding = 'utf8'"
   ]
  },
  {
   "cell_type": "code",
   "execution_count": 11,
   "id": "imposed-bryan",
   "metadata": {},
   "outputs": [
    {
     "name": "stdout",
     "output_type": "stream",
     "text": [
      "���ѹα� ����\n"
     ]
    }
   ],
   "source": [
    "root = lxml.html.fromstring(res.text)\n",
    "for e in root.cssselect('title'):\n",
    "    print(e.text_content())"
   ]
  }
 ],
 "metadata": {
  "kernelspec": {
   "display_name": "Python3.8_DL",
   "language": "python",
   "name": "dl"
  },
  "language_info": {
   "codemirror_mode": {
    "name": "ipython",
    "version": 3
   },
   "file_extension": ".py",
   "mimetype": "text/x-python",
   "name": "python",
   "nbconvert_exporter": "python",
   "pygments_lexer": "ipython3",
   "version": "3.8.8"
  }
 },
 "nbformat": 4,
 "nbformat_minor": 5
}
