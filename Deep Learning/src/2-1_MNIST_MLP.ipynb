{
 "cells": [
  {
   "cell_type": "code",
   "execution_count": 1,
   "metadata": {
    "executionInfo": {
     "elapsed": 3883,
     "status": "ok",
     "timestamp": 1633355816417,
     "user": {
      "displayName": "‍박종혁(교원-빅데이터경영통계전공)",
      "photoUrl": "https://lh3.googleusercontent.com/a/default-user=s64",
      "userId": "05107650215573502422"
     },
     "user_tz": -540
    },
    "id": "eLU5dOataedW"
   },
   "outputs": [],
   "source": [
    "''' 1. Module Import '''\n",
    "import numpy as np\n",
    "import matplotlib.pyplot as plt\n",
    "\n",
    "import torch\n",
    "import torch.nn as nn\n",
    "import torch.nn.functional as F\n",
    "from torchvision import transforms, datasets"
   ]
  },
  {
   "cell_type": "code",
   "execution_count": 2,
   "metadata": {
    "colab": {
     "base_uri": "https://localhost:8080/"
    },
    "executionInfo": {
     "elapsed": 322,
     "status": "ok",
     "timestamp": 1633355894008,
     "user": {
      "displayName": "‍박종혁(교원-빅데이터경영통계전공)",
      "photoUrl": "https://lh3.googleusercontent.com/a/default-user=s64",
      "userId": "05107650215573502422"
     },
     "user_tz": -540
    },
    "id": "S-glz9llaede",
    "outputId": "cbf39d45-6643-4c36-d1d4-74d076730683"
   },
   "outputs": [
    {
     "name": "stdout",
     "output_type": "stream",
     "text": [
      "Using PyTorch version: 1.9.1+cu111  Device: cuda\n"
     ]
    }
   ],
   "source": [
    "''' 2. 딥러닝 모델을 설계할 때 활용하는 장비 확인 '''\n",
    "if torch.cuda.is_available():\n",
    "    DEVICE = torch.device('cuda')\n",
    "else:\n",
    "    DEVICE = torch.device('cpu')\n",
    "\n",
    "print('Using PyTorch version:', torch.__version__, ' Device:', DEVICE)"
   ]
  },
  {
   "cell_type": "code",
   "execution_count": 3,
   "metadata": {
    "executionInfo": {
     "elapsed": 518,
     "status": "ok",
     "timestamp": 1633355944880,
     "user": {
      "displayName": "‍박종혁(교원-빅데이터경영통계전공)",
      "photoUrl": "https://lh3.googleusercontent.com/a/default-user=s64",
      "userId": "05107650215573502422"
     },
     "user_tz": -540
    },
    "id": "nQNyf6K3aedg"
   },
   "outputs": [],
   "source": [
    "BATCH_SIZE = 32\n",
    "EPOCHS = 10"
   ]
  },
  {
   "cell_type": "markdown",
   "metadata": {},
   "source": [
    "한 데이터셋을 처음부터 끝까지 전부 다 한번 학습에 활용했을 경우 1 epoch  \n",
    "EPOCHS = 10 -> training dataset을 처음부터 끝까지 총 10번 반복해서 학습할 것"
   ]
  },
  {
   "cell_type": "code",
   "execution_count": 4,
   "metadata": {
    "colab": {
     "base_uri": "https://localhost:8080/",
     "height": 495,
     "referenced_widgets": [
      "ea678cf4a6d54e4a8a0966876ba59204",
      "b8a17ae00047439abc0f113136e9bc79",
      "110273437bbe4064b0f6c68dd90d9d2b",
      "04168c9ec95048438ccdf4c2c6e8d082",
      "532da8ab7c8e4e8692418b94b1a4227a",
      "317ec2c39a414d5f8bb885d51ce9f342",
      "a76c4d9b915942d2827278d5fc60bb88",
      "364d16dc917949b8883206a3b2d48f2f",
      "b5f114ed5a3d4354886baaceb4f3cf3f",
      "0768a5cf2a3b4cb99e3aa2d246517f0f",
      "99f60a275a3e4a20aecf3aaaf46b02ef",
      "f5deaf53b0484c7fba658113e61da639",
      "883a328a3c6c4a5fb1fc551e807e3997",
      "df19d010bb7d4e059978751ad526a28f",
      "4d6b8ce0d69c4d71924e28cfa7ec2185",
      "d4b6e4724d8d4ac39ef83d5ec98b665f",
      "99009c891dbd40eba8a043a889d61499",
      "aec4f537128f46dca4103973bb9739f2",
      "618916fc3e274674b52d49c07624a640",
      "1809bb90311d41018cad68650bb325ad",
      "3f029b79545a46ab9f5811964e97f4dc",
      "8e00b6a8424e4f8382b8281e7f27fd8d",
      "b1133832fab24a4a90f2314e88e37fd1",
      "e9b46ec7a04545d7915b843320f76691",
      "5008b5d06f0548049dbc8e69a4d4210a",
      "1b7243a4b349416e90628f0ec48386d5",
      "25669a4a2168401a8db1fc1d16f10183",
      "446c13c8f68e43f093da919ff1959ac8",
      "431ba0f5d5cc443590501b1a28b34753",
      "ac8b6aed222b440eb6d55a626f3f253c",
      "bd4e2d1ea51348c0a042df19461fee4f",
      "d74c8a1538f040bca3f2821bd1c8a642",
      "08373c7e6d264f0db7a3eb2b2717ef12",
      "61d256fead824f40bd62ac20ddf796e5",
      "ae9b522011654c84a324f1d55eb6e4de",
      "60d9fb58971744fb87757720d7d99a75",
      "63f30270fd3a4c838077de45eddc6f16",
      "fa92a37fcc2c4d718710b76cc733f45e",
      "34b923b956df474ea2679412ab9903db",
      "077865c74ed24c37a1a1fbc510d0af5d",
      "09e876899948452c81be448ff94a708d",
      "e3c0e722c65346a48b5b9620c973925a",
      "0e30dae5f9084bf3a9cafbcb4e364bd2",
      "569dff6bacb943728981822b58b8e0cf"
     ]
    },
    "collapsed": true,
    "executionInfo": {
     "elapsed": 1531,
     "status": "ok",
     "timestamp": 1633356171572,
     "user": {
      "displayName": "‍박종혁(교원-빅데이터경영통계전공)",
      "photoUrl": "https://lh3.googleusercontent.com/a/default-user=s64",
      "userId": "05107650215573502422"
     },
     "user_tz": -540
    },
    "id": "oYbfEkSLaedh",
    "outputId": "44278dad-b3a7-473c-cc11-272d0c7a3fc3"
   },
   "outputs": [
    {
     "name": "stdout",
     "output_type": "stream",
     "text": [
      "Downloading http://yann.lecun.com/exdb/mnist/train-images-idx3-ubyte.gz\n",
      "Downloading http://yann.lecun.com/exdb/mnist/train-images-idx3-ubyte.gz to ../data/MNIST\\MNIST\\raw\\train-images-idx3-ubyte.gz\n"
     ]
    },
    {
     "data": {
      "application/vnd.jupyter.widget-view+json": {
       "model_id": "f1fe65182fef4f52ac2607c3ea5abc46",
       "version_major": 2,
       "version_minor": 0
      },
      "text/plain": [
       "  0%|          | 0/9912422 [00:00<?, ?it/s]"
      ]
     },
     "metadata": {},
     "output_type": "display_data"
    },
    {
     "name": "stdout",
     "output_type": "stream",
     "text": [
      "Extracting ../data/MNIST\\MNIST\\raw\\train-images-idx3-ubyte.gz to ../data/MNIST\\MNIST\\raw\n",
      "\n",
      "Downloading http://yann.lecun.com/exdb/mnist/train-labels-idx1-ubyte.gz\n",
      "Downloading http://yann.lecun.com/exdb/mnist/train-labels-idx1-ubyte.gz to ../data/MNIST\\MNIST\\raw\\train-labels-idx1-ubyte.gz\n"
     ]
    },
    {
     "data": {
      "application/vnd.jupyter.widget-view+json": {
       "model_id": "f25b162ff3e54ecd9fdb583483a15760",
       "version_major": 2,
       "version_minor": 0
      },
      "text/plain": [
       "  0%|          | 0/28881 [00:00<?, ?it/s]"
      ]
     },
     "metadata": {},
     "output_type": "display_data"
    },
    {
     "name": "stdout",
     "output_type": "stream",
     "text": [
      "Extracting ../data/MNIST\\MNIST\\raw\\train-labels-idx1-ubyte.gz to ../data/MNIST\\MNIST\\raw\n",
      "\n",
      "Downloading http://yann.lecun.com/exdb/mnist/t10k-images-idx3-ubyte.gz\n",
      "Downloading http://yann.lecun.com/exdb/mnist/t10k-images-idx3-ubyte.gz to ../data/MNIST\\MNIST\\raw\\t10k-images-idx3-ubyte.gz\n"
     ]
    },
    {
     "data": {
      "application/vnd.jupyter.widget-view+json": {
       "model_id": "ce003914e27c42d7bfe9ea804ba18ce6",
       "version_major": 2,
       "version_minor": 0
      },
      "text/plain": [
       "  0%|          | 0/1648877 [00:00<?, ?it/s]"
      ]
     },
     "metadata": {},
     "output_type": "display_data"
    },
    {
     "name": "stdout",
     "output_type": "stream",
     "text": [
      "Extracting ../data/MNIST\\MNIST\\raw\\t10k-images-idx3-ubyte.gz to ../data/MNIST\\MNIST\\raw\n",
      "\n",
      "Downloading http://yann.lecun.com/exdb/mnist/t10k-labels-idx1-ubyte.gz\n",
      "Downloading http://yann.lecun.com/exdb/mnist/t10k-labels-idx1-ubyte.gz to ../data/MNIST\\MNIST\\raw\\t10k-labels-idx1-ubyte.gz\n"
     ]
    },
    {
     "data": {
      "application/vnd.jupyter.widget-view+json": {
       "model_id": "bda3e3db03e8451fa9e8670e2d6a3489",
       "version_major": 2,
       "version_minor": 0
      },
      "text/plain": [
       "  0%|          | 0/4542 [00:00<?, ?it/s]"
      ]
     },
     "metadata": {},
     "output_type": "display_data"
    },
    {
     "name": "stdout",
     "output_type": "stream",
     "text": [
      "Extracting ../data/MNIST\\MNIST\\raw\\t10k-labels-idx1-ubyte.gz to ../data/MNIST\\MNIST\\raw\n",
      "\n"
     ]
    },
    {
     "name": "stderr",
     "output_type": "stream",
     "text": [
      "C:\\Users\\zyunhyeok\\anaconda3\\lib\\site-packages\\torchvision\\datasets\\mnist.py:498: UserWarning: The given NumPy array is not writeable, and PyTorch does not support non-writeable tensors. This means you can write to the underlying (supposedly non-writeable) NumPy array using the tensor. You may want to copy the array to protect its data or make it writeable before converting it to a tensor. This type of warning will be suppressed for the rest of this program. (Triggered internally at  ..\\torch\\csrc\\utils\\tensor_numpy.cpp:180.)\n",
      "  return torch.from_numpy(parsed.astype(m[2], copy=False)).view(*s)\n"
     ]
    }
   ],
   "source": [
    "''' 3. MNIST 데이터 다운로드 (Train set, Test set 분리하기) '''\n",
    "train_dataset = datasets.MNIST(root = \"../data/MNIST\",\n",
    "                               train = True,\n",
    "                               download = True,\n",
    "                               transform = transforms.ToTensor())\n",
    "\n",
    "test_dataset = datasets.MNIST(root = \"../data/MNIST\",\n",
    "                              train = False,\n",
    "                              transform = transforms.ToTensor())\n",
    "\n",
    "train_loader = torch.utils.data.DataLoader(dataset = train_dataset,\n",
    "                                           batch_size = BATCH_SIZE,\n",
    "                                           shuffle = True)\n",
    "\n",
    "test_loader = torch.utils.data.DataLoader(dataset = test_dataset,\n",
    "                                          batch_size = BATCH_SIZE,\n",
    "                                          shuffle = False)"
   ]
  },
  {
   "cell_type": "markdown",
   "metadata": {},
   "source": [
    "transforms는 전처리할 때 주로 사용하는 모듈  \n",
    "transform = transforms.ToTensor(): 다운로드 받은 이미지 (array)를 텐서 형태로 바꿔주는 역할  \n",
    "DataLoader를 통해서 불러오고, 총 BATCH_SIZE = 32개의 샘플이 하나의 배치로 묶임  \n",
    "shuffle: train은 섞어줌 (대부분의 배치가 같은 클래스로 구성되는 위험성 예방), test는 섞어줄 필요 없음 (성능평가 하면 되는 샘플이기 떄문에 불필요)"
   ]
  },
  {
   "cell_type": "code",
   "execution_count": 5,
   "metadata": {
    "colab": {
     "base_uri": "https://localhost:8080/"
    },
    "executionInfo": {
     "elapsed": 519,
     "status": "ok",
     "timestamp": 1633356195197,
     "user": {
      "displayName": "‍박종혁(교원-빅데이터경영통계전공)",
      "photoUrl": "https://lh3.googleusercontent.com/a/default-user=s64",
      "userId": "05107650215573502422"
     },
     "user_tz": -540
    },
    "id": "GeavCZHraedi",
    "outputId": "1b8b7d62-e8f6-4365-9190-93263e9e6991"
   },
   "outputs": [
    {
     "name": "stdout",
     "output_type": "stream",
     "text": [
      "X_train: torch.Size([32, 1, 28, 28]) type: torch.FloatTensor\n",
      "y_train: torch.Size([32]) type: torch.LongTensor\n"
     ]
    }
   ],
   "source": [
    "''' 4. 데이터 확인하기 (1) '''\n",
    "for (X_train, y_train) in train_loader:\n",
    "    print('X_train:', X_train.size(), 'type:', X_train.type())\n",
    "    print('y_train:', y_train.size(), 'type:', y_train.type())\n",
    "    break"
   ]
  },
  {
   "cell_type": "markdown",
   "metadata": {},
   "source": [
    "32개의 배치, 1채널, 28X28 크기의 이미지  \n",
    "if) color -> channel = 3, 흑백= 1  \n",
    "y_train: 한 배치에 해당하는 정답 숫자 32개 "
   ]
  },
  {
   "cell_type": "code",
   "execution_count": 6,
   "metadata": {
    "colab": {
     "base_uri": "https://localhost:8080/",
     "height": 94
    },
    "executionInfo": {
     "elapsed": 766,
     "status": "ok",
     "timestamp": 1633356285767,
     "user": {
      "displayName": "‍박종혁(교원-빅데이터경영통계전공)",
      "photoUrl": "https://lh3.googleusercontent.com/a/default-user=s64",
      "userId": "05107650215573502422"
     },
     "user_tz": -540
    },
    "id": "nbJmOzhUaedj",
    "outputId": "566d6059-d317-4924-d5c8-084f8547e03e"
   },
   "outputs": [
    {
     "data": {
      "image/png": "[encoded data removed]",
      "text/plain": [
       "<Figure size 720x72 with 10 Axes>"
      ]
     },
     "metadata": {
      "needs_background": "light"
     },
     "output_type": "display_data"
    }
   ],
   "source": [
    "''' 5. 데이터 확인하기 (2) '''\n",
    "pltsize = 1\n",
    "plt.figure(figsize=(10 * pltsize, pltsize))\n",
    "for i in range(10):\n",
    "    plt.subplot(1, 10, i + 1) # subplot(nrows, ncols, index)\n",
    "    plt.axis('off')\n",
    "    plt.imshow(X_train[i, :, :, :].numpy().reshape(28, 28), cmap = \"gray_r\")\n",
    "    plt.title('Class: ' + str(y_train[i].item()))"
   ]
  },
  {
   "cell_type": "code",
   "execution_count": 7,
   "metadata": {
    "executionInfo": {
     "elapsed": 331,
     "status": "ok",
     "timestamp": 1633357082020,
     "user": {
      "displayName": "‍박종혁(교원-빅데이터경영통계전공)",
      "photoUrl": "https://lh3.googleusercontent.com/a/default-user=s64",
      "userId": "05107650215573502422"
     },
     "user_tz": -540
    },
    "id": "OOl98-Egaedl"
   },
   "outputs": [],
   "source": [
    "''' 6. Multi Layer Perceptron (MLP) 모델 설계하기 '''\n",
    "class Net(nn.Module):\n",
    "    def __init__(self):\n",
    "        super(Net, self).__init__()\n",
    "        self.fc1 = nn.Linear(28 * 28, 512) # 첫번째 레이어 : 이전 레이어(Input 레이어)의 노드 갯수 (28 * 28)와 현 레이어의 노드 개수(512) 정의\n",
    "        self.fc2 = nn.Linear(512, 256) # 두번째 레이어\n",
    "        self.fc3 = nn.Linear(256, 10) # 마지막 레이어\n",
    "\n",
    "    def forward(self, x):\n",
    "        x = x.view(-1, 28 * 28) # x를 (batch_size, 28 * 28)의 모양으로 만들어줌\n",
    "        x = self.fc1(x) # 생성자 함수에서 정의한 레이어 통과\n",
    "        x = F.sigmoid(x) # sigmoid 활성함수 통과\n",
    "        x = self.fc2(x) # 생성자 함수에서 정의한 레이어 통과\n",
    "        x = F.sigmoid(x) # sigmoid 활성함수 통과\n",
    "        x = self.fc3(x) # 생성자 함수에서 정의한 레이어 통과\n",
    "        \n",
    "        # 마지막으로 log_softmax 활성함수를 사용 -> softmax에 log를 취한 것과 동일\n",
    "        # 두 연산을 따로 수행하는 것보다 더 빠름\n",
    "        # 그냥 softmax에 의한 결과는 NLL Loss에 직접적으로 사용할 경우\n",
    "        # 수치적으로 불안정해서 NaN의 결과를 얻을 수 있으므로, log_softmax와 NLL Loss를 결합하는 것을 추천\n",
    "        x = F.log_softmax(x, dim = 1) # log\n",
    "        return x"
   ]
  },
  {
   "cell_type": "markdown",
   "metadata": {},
   "source": [
    "총 3개의 Fully Connected Layer로 구성\n",
    "첫번째 레이어: 이전 레이어와 현재 레이어들 사이의 모든 노드들이 연결되어 있는 FC를 Linear를 통해 정의  \n",
    "첫번째인자: 이전 레이어의 노드갯수 (input layer의 노드의 갯수), 첫번째 레이어는 노드갯수 512개, input 레이어와 첫번째 레이어 사이의 모든 노드들이 연결  \n",
    "두번째 레이어: 첫번째 레이어를 통과한 값들을 input으로 이용 -> 첫번째 레이어의 ouput 512를 두번째 레이어의 input으로 이용, 두번째 레이어의 노드 갯수는 256개  \n",
    "마지막 레이어의 노드 갯수를 10개로 설정하여 10개의 클래스 분류"
   ]
  },
  {
   "cell_type": "markdown",
   "metadata": {},
   "source": [
    "x.view를 통해 x라는 input텐서를 (batch_size, 28 * 28)의 모양으로 만들어주고 x에 할당 fc1 첫번째 레이어 통과 후 x로 재할당  \n",
    "sigmoid 활성화함수 통과  \n",
    "fc2 통과  \n",
    "sigmoid 통과  \n",
    "마지막으로 10개의 숫자를 만들어주기 위해 최종적으로 fc3 통과\n",
    "마지막 활성화함수는 log softmax 함수 사용, softmax한 값에 log 취한 값, 연산이 더 빠름  \n",
    "그냥 softmax의 결과를 NLL Loss에 사용할 경우 수치적으로 불안정해서 NaN의 결과를 얻을 수 있음 -> log_softmax와 NLL Loss를 결합하여 사용"
   ]
  },
  {
   "cell_type": "code",
   "execution_count": 8,
   "metadata": {
    "colab": {
     "base_uri": "https://localhost:8080/"
    },
    "executionInfo": {
     "elapsed": 317,
     "status": "ok",
     "timestamp": 1633357237464,
     "user": {
      "displayName": "‍박종혁(교원-빅데이터경영통계전공)",
      "photoUrl": "https://lh3.googleusercontent.com/a/default-user=s64",
      "userId": "05107650215573502422"
     },
     "user_tz": -540
    },
    "id": "x0V1M473aedm",
    "outputId": "649ba948-0fbc-49e6-ff8f-70a861e79207"
   },
   "outputs": [
    {
     "name": "stdout",
     "output_type": "stream",
     "text": [
      "Net(\n",
      "  (fc1): Linear(in_features=784, out_features=512, bias=True)\n",
      "  (fc2): Linear(in_features=512, out_features=256, bias=True)\n",
      "  (fc3): Linear(in_features=256, out_features=10, bias=True)\n",
      ")\n"
     ]
    }
   ],
   "source": [
    "''' 7. Optimizer, Objective Function 설정하기 '''\n",
    "model = Net().to(DEVICE) # 정의한 네트워크를 DEVICE(GPU 혹은 CPU)에 올림\n",
    "optimizer = torch.optim.SGD(model.parameters(), lr = 0.01, momentum = 0.5) # SGD with Momentum Optimizer 사용, 학습률 0.01, Momentum 0.5 (이전 스텝의 그래디언트 값에 곱해지는 factor)\n",
    "# criterion = nn.CrossEntropyLoss() # CrossEntropyLoss에는 log softmax와 NLLloss가 포함되어 있음\n",
    "criterion = nn.NLLLoss() # 따라서 위 처럼 log_softmax 사용했을 경우, NLLloss 사용, 마지막에 softmax 사용 안했으면 CrossEntropyLoss 사용\n",
    "\n",
    "print(model)"
   ]
  },
  {
   "cell_type": "markdown",
   "metadata": {},
   "source": [
    "CrossEntropyLoss = log softmax + NLL loss -> log softmax 두번 계산  \n",
    "-> CrossEntropyLoss 사용하고 싶으면 마지막 log_softmax 주석처리  \n",
    "bias = True (default 값)"
   ]
  },
  {
   "cell_type": "code",
   "execution_count": 9,
   "metadata": {
    "executionInfo": {
     "elapsed": 1,
     "status": "ok",
     "timestamp": 1633358161826,
     "user": {
      "displayName": "‍박종혁(교원-빅데이터경영통계전공)",
      "photoUrl": "https://lh3.googleusercontent.com/a/default-user=s64",
      "userId": "05107650215573502422"
     },
     "user_tz": -540
    },
    "id": "Q-UVblmNaedn"
   },
   "outputs": [],
   "source": [
    "''' 8. MLP 모델 학습을 진행하며 학습 데이터에 대한 모델 성능을 확인하는 함수 정의 '''\n",
    "def train(model, train_loader, optimizer, log_interval):\n",
    "    model.train()\n",
    "    for batch_idx, (image, label) in enumerate(train_loader):\n",
    "        image = image.to(DEVICE)\n",
    "        label = label.to(DEVICE)\n",
    "        optimizer.zero_grad() # gradient 0으로 초기화\n",
    "        output = model(image)\n",
    "        loss = criterion(output, label)\n",
    "        loss.backward() # requires_grad=True인 모든 parameter에 대해 gradient 계산\n",
    "        optimizer.step() # update 진행\n",
    "\n",
    "        if batch_idx % log_interval == 0: # 지정한 log_interval 마다 아래 문구 출력\n",
    "            print(\"Train Epoch: {} [{}/{} ({:.0f}%)]\\tTrain Loss: {:.6f}\".format(\n",
    "                epoch, batch_idx * len(image), \n",
    "                len(train_loader.dataset), 100. * batch_idx / len(train_loader), \n",
    "                loss.item()))"
   ]
  },
  {
   "cell_type": "markdown",
   "metadata": {},
   "source": [
    "가장 먼저 model를 train 상태로 바꿔줘야 한다.  \n",
    "이전 배치에서 사용했던 gradient를 현 배치에서는 사용하지 않기 위해 zero_grad로 초기화  \n",
    "모델의 이미지를 투입해서 output 출력  \n",
    "output과 label 사이에 loss 계산  \n",
    "loss.backward(): requires_grad=True인 모든 parameter에 대해 gradient 계산  \n",
    "optimizer.step(): update 진행  \n"
   ]
  },
  {
   "cell_type": "markdown",
   "metadata": {
    "id": "96MYkWnfhJP9"
   },
   "source": [
    "- max 예시\n",
    "\n",
    "\n",
    "\n",
    "```\n",
    "a = tensor([[-1.2360, -0.2942, -0.1222,  0.8475],\n",
    "            [ 1.1949, -1.1127, -2.2379, -0.6702],\n",
    "            [ 1.5717, -0.9207,  0.1297, -1.8768],\n",
    "            [-0.6172,  1.0036, -0.6060, -0.2432]])\n",
    "            \n",
    "a.max(1) -> 1은 dimension을 의미\n",
    "torch.return_types.max(values=tensor([0.8475, 1.1949, 1.5717, 1.0036]), indices=tensor([3, 0, 0, 1])) -> 인덱스 값이 곧 class를 의미\n",
    "\n",
    "a.max(1, keepdim=True) -> input 데이터와 dimension을 유지\n",
    "torch.return_types.max(values=tensor([[0.8475], [1.1949], [1.5717], [1.0036]]), indices=tensor([[3], [0], [0], [1]]))\n",
    "```\n",
    "\n"
   ]
  },
  {
   "cell_type": "markdown",
   "metadata": {},
   "source": [
    "각 행이 각각의 샘플에서 예측한 결과를 의미 -> 예시의 경우 32개 샘플 10개 클래스: 32 X 10"
   ]
  },
  {
   "cell_type": "code",
   "execution_count": 10,
   "metadata": {
    "executionInfo": {
     "elapsed": 334,
     "status": "ok",
     "timestamp": 1633358159643,
     "user": {
      "displayName": "‍박종혁(교원-빅데이터경영통계전공)",
      "photoUrl": "https://lh3.googleusercontent.com/a/default-user=s64",
      "userId": "05107650215573502422"
     },
     "user_tz": -540
    },
    "id": "jZ4Tfxy1aedp"
   },
   "outputs": [],
   "source": [
    "''' 9. 학습되는 과정 속에서 검증 데이터에 대한 모델 성능을 확인하는 함수 정의 '''\n",
    "def evaluate(model, test_loader):\n",
    "    model.eval() # dropout 같은 train과 val/test 상황에서 상태가 달라지는 레이어를 위해 사용\n",
    "    test_loss = 0\n",
    "    correct = 0\n",
    "\n",
    "    with torch.no_grad():\n",
    "        for image, label in test_loader:\n",
    "            image = image.to(DEVICE)\n",
    "            label = label.to(DEVICE)\n",
    "            output = model(image)\n",
    "            test_loss += criterion(output, label).item()\n",
    "            prediction = output.max(1, keepdim = True)[1] # dim = 1 을 따라서 maximum 값들을 구함\n",
    "            correct += prediction.eq(label.view_as(prediction)).sum().item() # label을 prediction과 같은 Tensor shape를 갖도록 만들어준뒤 이를 prediction과 비교하여 같은 것만 추출(.eq). sum()을 통해 일치하는 것들의 개수를 받고, 이를 python 숫자로 반환(.item())\n",
    "    \n",
    "    test_loss /= (len(test_loader.dataset) / BATCH_SIZE)\n",
    "    test_accuracy = 100. * correct / len(test_loader.dataset)\n",
    "    return test_loss, test_accuracy"
   ]
  },
  {
   "cell_type": "markdown",
   "metadata": {},
   "source": [
    "model.eval(): 특수한 레이어 (dropout) 같은 경우 train과 val/test 상황에서 상태가 달라지는 레이어 -> 모델에게 알려주고자  \n",
    "torch.no_grad(): gradient 계산을 위한 메모리 사용량을 줄이고 연산속도를 높이기 위함  \n"
   ]
  },
  {
   "cell_type": "markdown",
   "metadata": {},
   "source": [
    "prediction = output.max(1, keepdim = True)[1]: 첫번째 아이템을 리턴받음  \n",
    "[0]번 아이템은 최대값 자체를 리턴"
   ]
  },
  {
   "cell_type": "markdown",
   "metadata": {},
   "source": [
    "label.view_as(prediction): 라벨을 prediction과 똑같은 형태로 만들어준다. -> 비교하기 위해  \n",
    "eq함수를 통해서 예측과 라벨이 같은 부분만 추출할 수 있음  \n"
   ]
  },
  {
   "cell_type": "code",
   "execution_count": 11,
   "metadata": {
    "colab": {
     "base_uri": "https://localhost:8080/"
    },
    "executionInfo": {
     "elapsed": 116403,
     "status": "ok",
     "timestamp": 1633358295235,
     "user": {
      "displayName": "‍박종혁(교원-빅데이터경영통계전공)",
      "photoUrl": "https://lh3.googleusercontent.com/a/default-user=s64",
      "userId": "05107650215573502422"
     },
     "user_tz": -540
    },
    "id": "Ho4O7To9aedq",
    "outputId": "3448427f-51fa-4175-ae10-00cbcaf133bf"
   },
   "outputs": [
    {
     "name": "stderr",
     "output_type": "stream",
     "text": [
      "C:\\Users\\zyunhyeok\\anaconda3\\lib\\site-packages\\torch\\nn\\functional.py:1805: UserWarning: nn.functional.sigmoid is deprecated. Use torch.sigmoid instead.\n",
      "  warnings.warn(\"nn.functional.sigmoid is deprecated. Use torch.sigmoid instead.\")\n"
     ]
    },
    {
     "name": "stdout",
     "output_type": "stream",
     "text": [
      "Train Epoch: 1 [0/60000 (0%)]\tTrain Loss: 2.304297\n",
      "Train Epoch: 1 [6400/60000 (11%)]\tTrain Loss: 2.293263\n",
      "Train Epoch: 1 [12800/60000 (21%)]\tTrain Loss: 2.313615\n",
      "Train Epoch: 1 [19200/60000 (32%)]\tTrain Loss: 2.292263\n",
      "Train Epoch: 1 [25600/60000 (43%)]\tTrain Loss: 2.284941\n",
      "Train Epoch: 1 [32000/60000 (53%)]\tTrain Loss: 2.276185\n",
      "Train Epoch: 1 [38400/60000 (64%)]\tTrain Loss: 2.363522\n",
      "Train Epoch: 1 [44800/60000 (75%)]\tTrain Loss: 2.287764\n",
      "Train Epoch: 1 [51200/60000 (85%)]\tTrain Loss: 2.269654\n",
      "Train Epoch: 1 [57600/60000 (96%)]\tTrain Loss: 2.282506\n",
      "\n",
      "[EPOCH: 1], \tTest Loss: 2.2269, \tTest Accuracy: 22.68 % \n",
      "\n",
      "Train Epoch: 2 [0/60000 (0%)]\tTrain Loss: 2.159219\n",
      "Train Epoch: 2 [6400/60000 (11%)]\tTrain Loss: 2.237045\n",
      "Train Epoch: 2 [12800/60000 (21%)]\tTrain Loss: 2.099790\n",
      "Train Epoch: 2 [19200/60000 (32%)]\tTrain Loss: 2.041770\n",
      "Train Epoch: 2 [25600/60000 (43%)]\tTrain Loss: 1.938405\n",
      "Train Epoch: 2 [32000/60000 (53%)]\tTrain Loss: 1.838585\n",
      "Train Epoch: 2 [38400/60000 (64%)]\tTrain Loss: 1.806521\n",
      "Train Epoch: 2 [44800/60000 (75%)]\tTrain Loss: 1.415294\n",
      "Train Epoch: 2 [51200/60000 (85%)]\tTrain Loss: 1.469339\n",
      "Train Epoch: 2 [57600/60000 (96%)]\tTrain Loss: 1.109172\n",
      "\n",
      "[EPOCH: 2], \tTest Loss: 1.2119, \tTest Accuracy: 63.40 % \n",
      "\n",
      "Train Epoch: 3 [0/60000 (0%)]\tTrain Loss: 0.931703\n",
      "Train Epoch: 3 [6400/60000 (11%)]\tTrain Loss: 1.132827\n",
      "Train Epoch: 3 [12800/60000 (21%)]\tTrain Loss: 0.982397\n",
      "Train Epoch: 3 [19200/60000 (32%)]\tTrain Loss: 0.936375\n",
      "Train Epoch: 3 [25600/60000 (43%)]\tTrain Loss: 0.767315\n",
      "Train Epoch: 3 [32000/60000 (53%)]\tTrain Loss: 1.193196\n",
      "Train Epoch: 3 [38400/60000 (64%)]\tTrain Loss: 0.645635\n",
      "Train Epoch: 3 [44800/60000 (75%)]\tTrain Loss: 0.815997\n",
      "Train Epoch: 3 [51200/60000 (85%)]\tTrain Loss: 0.830826\n",
      "Train Epoch: 3 [57600/60000 (96%)]\tTrain Loss: 0.693281\n",
      "\n",
      "[EPOCH: 3], \tTest Loss: 0.7279, \tTest Accuracy: 78.20 % \n",
      "\n",
      "Train Epoch: 4 [0/60000 (0%)]\tTrain Loss: 0.780501\n",
      "Train Epoch: 4 [6400/60000 (11%)]\tTrain Loss: 0.752911\n",
      "Train Epoch: 4 [12800/60000 (21%)]\tTrain Loss: 0.542245\n",
      "Train Epoch: 4 [19200/60000 (32%)]\tTrain Loss: 0.569860\n",
      "Train Epoch: 4 [25600/60000 (43%)]\tTrain Loss: 0.522056\n",
      "Train Epoch: 4 [32000/60000 (53%)]\tTrain Loss: 0.581571\n",
      "Train Epoch: 4 [38400/60000 (64%)]\tTrain Loss: 1.017171\n",
      "Train Epoch: 4 [44800/60000 (75%)]\tTrain Loss: 0.460007\n",
      "Train Epoch: 4 [51200/60000 (85%)]\tTrain Loss: 0.540814\n",
      "Train Epoch: 4 [57600/60000 (96%)]\tTrain Loss: 0.650831\n",
      "\n",
      "[EPOCH: 4], \tTest Loss: 0.5421, \tTest Accuracy: 84.07 % \n",
      "\n",
      "Train Epoch: 5 [0/60000 (0%)]\tTrain Loss: 0.427396\n",
      "Train Epoch: 5 [6400/60000 (11%)]\tTrain Loss: 0.720504\n",
      "Train Epoch: 5 [12800/60000 (21%)]\tTrain Loss: 0.557895\n",
      "Train Epoch: 5 [19200/60000 (32%)]\tTrain Loss: 0.328836\n",
      "Train Epoch: 5 [25600/60000 (43%)]\tTrain Loss: 0.592663\n",
      "Train Epoch: 5 [32000/60000 (53%)]\tTrain Loss: 0.559315\n",
      "Train Epoch: 5 [38400/60000 (64%)]\tTrain Loss: 0.417625\n",
      "Train Epoch: 5 [44800/60000 (75%)]\tTrain Loss: 0.543785\n",
      "Train Epoch: 5 [51200/60000 (85%)]\tTrain Loss: 0.593194\n",
      "Train Epoch: 5 [57600/60000 (96%)]\tTrain Loss: 0.398677\n",
      "\n",
      "[EPOCH: 5], \tTest Loss: 0.4547, \tTest Accuracy: 86.45 % \n",
      "\n",
      "Train Epoch: 6 [0/60000 (0%)]\tTrain Loss: 0.326222\n",
      "Train Epoch: 6 [6400/60000 (11%)]\tTrain Loss: 0.358039\n",
      "Train Epoch: 6 [12800/60000 (21%)]\tTrain Loss: 0.214447\n",
      "Train Epoch: 6 [19200/60000 (32%)]\tTrain Loss: 0.456045\n",
      "Train Epoch: 6 [25600/60000 (43%)]\tTrain Loss: 0.739602\n",
      "Train Epoch: 6 [32000/60000 (53%)]\tTrain Loss: 0.408013\n",
      "Train Epoch: 6 [38400/60000 (64%)]\tTrain Loss: 0.245364\n",
      "Train Epoch: 6 [44800/60000 (75%)]\tTrain Loss: 0.639921\n",
      "Train Epoch: 6 [51200/60000 (85%)]\tTrain Loss: 0.350935\n",
      "Train Epoch: 6 [57600/60000 (96%)]\tTrain Loss: 0.474675\n",
      "\n",
      "[EPOCH: 6], \tTest Loss: 0.4079, \tTest Accuracy: 87.97 % \n",
      "\n",
      "Train Epoch: 7 [0/60000 (0%)]\tTrain Loss: 0.341627\n",
      "Train Epoch: 7 [6400/60000 (11%)]\tTrain Loss: 0.407994\n",
      "Train Epoch: 7 [12800/60000 (21%)]\tTrain Loss: 0.310990\n",
      "Train Epoch: 7 [19200/60000 (32%)]\tTrain Loss: 0.369460\n",
      "Train Epoch: 7 [25600/60000 (43%)]\tTrain Loss: 0.315309\n",
      "Train Epoch: 7 [32000/60000 (53%)]\tTrain Loss: 0.429784\n",
      "Train Epoch: 7 [38400/60000 (64%)]\tTrain Loss: 0.332964\n",
      "Train Epoch: 7 [44800/60000 (75%)]\tTrain Loss: 0.480955\n",
      "Train Epoch: 7 [51200/60000 (85%)]\tTrain Loss: 0.668724\n",
      "Train Epoch: 7 [57600/60000 (96%)]\tTrain Loss: 0.327530\n",
      "\n",
      "[EPOCH: 7], \tTest Loss: 0.3794, \tTest Accuracy: 88.83 % \n",
      "\n",
      "Train Epoch: 8 [0/60000 (0%)]\tTrain Loss: 0.360905\n",
      "Train Epoch: 8 [6400/60000 (11%)]\tTrain Loss: 0.417077\n",
      "Train Epoch: 8 [12800/60000 (21%)]\tTrain Loss: 0.339192\n",
      "Train Epoch: 8 [19200/60000 (32%)]\tTrain Loss: 0.237947\n",
      "Train Epoch: 8 [25600/60000 (43%)]\tTrain Loss: 0.151273\n",
      "Train Epoch: 8 [32000/60000 (53%)]\tTrain Loss: 0.119607\n",
      "Train Epoch: 8 [38400/60000 (64%)]\tTrain Loss: 0.280479\n",
      "Train Epoch: 8 [44800/60000 (75%)]\tTrain Loss: 0.344166\n",
      "Train Epoch: 8 [51200/60000 (85%)]\tTrain Loss: 0.265213\n",
      "Train Epoch: 8 [57600/60000 (96%)]\tTrain Loss: 0.282295\n",
      "\n",
      "[EPOCH: 8], \tTest Loss: 0.3604, \tTest Accuracy: 89.53 % \n",
      "\n",
      "Train Epoch: 9 [0/60000 (0%)]\tTrain Loss: 0.394221\n",
      "Train Epoch: 9 [6400/60000 (11%)]\tTrain Loss: 0.932929\n",
      "Train Epoch: 9 [12800/60000 (21%)]\tTrain Loss: 0.202997\n",
      "Train Epoch: 9 [19200/60000 (32%)]\tTrain Loss: 0.672780\n",
      "Train Epoch: 9 [25600/60000 (43%)]\tTrain Loss: 0.466032\n",
      "Train Epoch: 9 [32000/60000 (53%)]\tTrain Loss: 0.331765\n",
      "Train Epoch: 9 [38400/60000 (64%)]\tTrain Loss: 0.344820\n",
      "Train Epoch: 9 [44800/60000 (75%)]\tTrain Loss: 0.356957\n",
      "Train Epoch: 9 [51200/60000 (85%)]\tTrain Loss: 0.258939\n",
      "Train Epoch: 9 [57600/60000 (96%)]\tTrain Loss: 0.229794\n",
      "\n",
      "[EPOCH: 9], \tTest Loss: 0.3448, \tTest Accuracy: 89.96 % \n",
      "\n",
      "Train Epoch: 10 [0/60000 (0%)]\tTrain Loss: 0.964599\n",
      "Train Epoch: 10 [6400/60000 (11%)]\tTrain Loss: 0.195796\n",
      "Train Epoch: 10 [12800/60000 (21%)]\tTrain Loss: 0.718326\n",
      "Train Epoch: 10 [19200/60000 (32%)]\tTrain Loss: 0.447303\n",
      "Train Epoch: 10 [25600/60000 (43%)]\tTrain Loss: 0.255010\n",
      "Train Epoch: 10 [32000/60000 (53%)]\tTrain Loss: 0.317404\n",
      "Train Epoch: 10 [38400/60000 (64%)]\tTrain Loss: 0.177204\n",
      "Train Epoch: 10 [44800/60000 (75%)]\tTrain Loss: 0.343761\n",
      "Train Epoch: 10 [51200/60000 (85%)]\tTrain Loss: 0.461384\n",
      "Train Epoch: 10 [57600/60000 (96%)]\tTrain Loss: 0.316843\n",
      "\n",
      "[EPOCH: 10], \tTest Loss: 0.3356, \tTest Accuracy: 90.41 % \n",
      "\n"
     ]
    }
   ],
   "source": [
    "''' 10. MLP 학습 실행하며 Train, Test set의 Loss 및 Test set Accuracy 확인하기 '''\n",
    "for epoch in range(1, EPOCHS + 1):\n",
    "    train(model, train_loader, optimizer, log_interval = 200) # 200 step마다 결과 출력\n",
    "    test_loss, test_accuracy = evaluate(model, test_loader)\n",
    "    print(\"\\n[EPOCH: {}], \\tTest Loss: {:.4f}, \\tTest Accuracy: {:.2f} % \\n\".format(\n",
    "        epoch, test_loss, test_accuracy))"
   ]
  },
  {
   "cell_type": "markdown",
   "metadata": {},
   "source": [
    "log_interval = 200, batch=32 -> 6400 sample 마다 현황을 알 수 있는 문구 표시"
   ]
  }
 ],
 "metadata": {
  "accelerator": "GPU",
  "colab": {
   "collapsed_sections": [],
   "name": "2-1_MNIST_MLP.ipynb",
   "provenance": [
    {
     "file_id": "https://github.com/Justin-A/DeepLearning101/blob/master/.ipynb_checkpoints/2-1_MNIST_MLP-checkpoint.ipynb",
     "timestamp": 1633355345839
    }
   ]
  },
  "kernelspec": {
   "display_name": "Python3.8_DL",
   "language": "python",
   "name": "dl"
  },
  "language_info": {
   "codemirror_mode": {
    "name": "ipython",
    "version": 3
   },
   "file_extension": ".py",
   "mimetype": "text/x-python",
   "name": "python",
   "nbconvert_exporter": "python",
   "pygments_lexer": "ipython3",
   "version": "3.8.8"
  },
  "widgets": {
   "application/vnd.jupyter.widget-state+json": {
    "04168c9ec95048438ccdf4c2c6e8d082": {
     "model_module": "@jupyter-widgets/controls",
     "model_module_version": "1.5.0",
     "model_name": "FloatProgressModel",
     "state": {
      "_dom_classes": [],
      "_model_module": "@jupyter-widgets/controls",
      "_model_module_version": "1.5.0",
      "_model_name": "FloatProgressModel",
      "_view_count": null,
      "_view_module": "@jupyter-widgets/controls",
      "_view_module_version": "1.5.0",
      "_view_name": "ProgressView",
      "bar_style": "success",
      "description": "",
      "description_tooltip": null,
      "layout": "IPY_MODEL_b5f114ed5a3d4354886baaceb4f3cf3f",
      "max": 9912422,
      "min": 0,
      "orientation": "horizontal",
      "style": "IPY_MODEL_364d16dc917949b8883206a3b2d48f2f",
      "value": 9912422
     }
    },
    "0768a5cf2a3b4cb99e3aa2d246517f0f": {
     "model_module": "@jupyter-widgets/controls",
     "model_module_version": "1.5.0",
     "model_name": "DescriptionStyleModel",
     "state": {
      "_model_module": "@jupyter-widgets/controls",
      "_model_module_version": "1.5.0",
      "_model_name": "DescriptionStyleModel",
      "_view_count": null,
      "_view_module": "@jupyter-widgets/base",
      "_view_module_version": "1.2.0",
      "_view_name": "StyleView",
      "description_width": ""
     }
    },
    "077865c74ed24c37a1a1fbc510d0af5d": {
     "model_module": "@jupyter-widgets/base",
     "model_module_version": "1.2.0",
     "model_name": "LayoutModel",
     "state": {
      "_model_module": "@jupyter-widgets/base",
      "_model_module_version": "1.2.0",
      "_model_name": "LayoutModel",
      "_view_count": null,
      "_view_module": "@jupyter-widgets/base",
      "_view_module_version": "1.2.0",
      "_view_name": "LayoutView",
      "align_content": null,
      "align_items": null,
      "align_self": null,
      "border": null,
      "bottom": null,
      "display": null,
      "flex": null,
      "flex_flow": null,
      "grid_area": null,
      "grid_auto_columns": null,
      "grid_auto_flow": null,
      "grid_auto_rows": null,
      "grid_column": null,
      "grid_gap": null,
      "grid_row": null,
      "grid_template_areas": null,
      "grid_template_columns": null,
      "grid_template_rows": null,
      "height": null,
      "justify_content": null,
      "justify_items": null,
      "left": null,
      "margin": null,
      "max_height": null,
      "max_width": null,
      "min_height": null,
      "min_width": null,
      "object_fit": null,
      "object_position": null,
      "order": null,
      "overflow": null,
      "overflow_x": null,
      "overflow_y": null,
      "padding": null,
      "right": null,
      "top": null,
      "visibility": null,
      "width": null
     }
    },
    "08373c7e6d264f0db7a3eb2b2717ef12": {
     "model_module": "@jupyter-widgets/base",
     "model_module_version": "1.2.0",
     "model_name": "LayoutModel",
     "state": {
      "_model_module": "@jupyter-widgets/base",
      "_model_module_version": "1.2.0",
      "_model_name": "LayoutModel",
      "_view_count": null,
      "_view_module": "@jupyter-widgets/base",
      "_view_module_version": "1.2.0",
      "_view_name": "LayoutView",
      "align_content": null,
      "align_items": null,
      "align_self": null,
      "border": null,
      "bottom": null,
      "display": null,
      "flex": null,
      "flex_flow": null,
      "grid_area": null,
      "grid_auto_columns": null,
      "grid_auto_flow": null,
      "grid_auto_rows": null,
      "grid_column": null,
      "grid_gap": null,
      "grid_row": null,
      "grid_template_areas": null,
      "grid_template_columns": null,
      "grid_template_rows": null,
      "height": null,
      "justify_content": null,
      "justify_items": null,
      "left": null,
      "margin": null,
      "max_height": null,
      "max_width": null,
      "min_height": null,
      "min_width": null,
      "object_fit": null,
      "object_position": null,
      "order": null,
      "overflow": null,
      "overflow_x": null,
      "overflow_y": null,
      "padding": null,
      "right": null,
      "top": null,
      "visibility": null,
      "width": null
     }
    },
    "09e876899948452c81be448ff94a708d": {
     "model_module": "@jupyter-widgets/controls",
     "model_module_version": "1.5.0",
     "model_name": "ProgressStyleModel",
     "state": {
      "_model_module": "@jupyter-widgets/controls",
      "_model_module_version": "1.5.0",
      "_model_name": "ProgressStyleModel",
      "_view_count": null,
      "_view_module": "@jupyter-widgets/base",
      "_view_module_version": "1.2.0",
      "_view_name": "StyleView",
      "bar_color": null,
      "description_width": ""
     }
    },
    "0e30dae5f9084bf3a9cafbcb4e364bd2": {
     "model_module": "@jupyter-widgets/controls",
     "model_module_version": "1.5.0",
     "model_name": "DescriptionStyleModel",
     "state": {
      "_model_module": "@jupyter-widgets/controls",
      "_model_module_version": "1.5.0",
      "_model_name": "DescriptionStyleModel",
      "_view_count": null,
      "_view_module": "@jupyter-widgets/base",
      "_view_module_version": "1.2.0",
      "_view_name": "StyleView",
      "description_width": ""
     }
    },
    "110273437bbe4064b0f6c68dd90d9d2b": {
     "model_module": "@jupyter-widgets/controls",
     "model_module_version": "1.5.0",
     "model_name": "HTMLModel",
     "state": {
      "_dom_classes": [],
      "_model_module": "@jupyter-widgets/controls",
      "_model_module_version": "1.5.0",
      "_model_name": "HTMLModel",
      "_view_count": null,
      "_view_module": "@jupyter-widgets/controls",
      "_view_module_version": "1.5.0",
      "_view_name": "HTMLView",
      "description": "",
      "description_tooltip": null,
      "layout": "IPY_MODEL_a76c4d9b915942d2827278d5fc60bb88",
      "placeholder": "​",
      "style": "IPY_MODEL_317ec2c39a414d5f8bb885d51ce9f342",
      "value": ""
     }
    },
    "1809bb90311d41018cad68650bb325ad": {
     "model_module": "@jupyter-widgets/base",
     "model_module_version": "1.2.0",
     "model_name": "LayoutModel",
     "state": {
      "_model_module": "@jupyter-widgets/base",
      "_model_module_version": "1.2.0",
      "_model_name": "LayoutModel",
      "_view_count": null,
      "_view_module": "@jupyter-widgets/base",
      "_view_module_version": "1.2.0",
      "_view_name": "LayoutView",
      "align_content": null,
      "align_items": null,
      "align_self": null,
      "border": null,
      "bottom": null,
      "display": null,
      "flex": null,
      "flex_flow": null,
      "grid_area": null,
      "grid_auto_columns": null,
      "grid_auto_flow": null,
      "grid_auto_rows": null,
      "grid_column": null,
      "grid_gap": null,
      "grid_row": null,
      "grid_template_areas": null,
      "grid_template_columns": null,
      "grid_template_rows": null,
      "height": null,
      "justify_content": null,
      "justify_items": null,
      "left": null,
      "margin": null,
      "max_height": null,
      "max_width": null,
      "min_height": null,
      "min_width": null,
      "object_fit": null,
      "object_position": null,
      "order": null,
      "overflow": null,
      "overflow_x": null,
      "overflow_y": null,
      "padding": null,
      "right": null,
      "top": null,
      "visibility": null,
      "width": null
     }
    },
    "1b7243a4b349416e90628f0ec48386d5": {
     "model_module": "@jupyter-widgets/controls",
     "model_module_version": "1.5.0",
     "model_name": "FloatProgressModel",
     "state": {
      "_dom_classes": [],
      "_model_module": "@jupyter-widgets/controls",
      "_model_module_version": "1.5.0",
      "_model_name": "FloatProgressModel",
      "_view_count": null,
      "_view_module": "@jupyter-widgets/controls",
      "_view_module_version": "1.5.0",
      "_view_name": "ProgressView",
      "bar_style": "success",
      "description": "",
      "description_tooltip": null,
      "layout": "IPY_MODEL_bd4e2d1ea51348c0a042df19461fee4f",
      "max": 1648877,
      "min": 0,
      "orientation": "horizontal",
      "style": "IPY_MODEL_ac8b6aed222b440eb6d55a626f3f253c",
      "value": 1648877
     }
    },
    "25669a4a2168401a8db1fc1d16f10183": {
     "model_module": "@jupyter-widgets/controls",
     "model_module_version": "1.5.0",
     "model_name": "HTMLModel",
     "state": {
      "_dom_classes": [],
      "_model_module": "@jupyter-widgets/controls",
      "_model_module_version": "1.5.0",
      "_model_name": "HTMLModel",
      "_view_count": null,
      "_view_module": "@jupyter-widgets/controls",
      "_view_module_version": "1.5.0",
      "_view_name": "HTMLView",
      "description": "",
      "description_tooltip": null,
      "layout": "IPY_MODEL_08373c7e6d264f0db7a3eb2b2717ef12",
      "placeholder": "​",
      "style": "IPY_MODEL_d74c8a1538f040bca3f2821bd1c8a642",
      "value": " 1649664/? [00:00&lt;00:00, 19220298.99it/s]"
     }
    },
    "317ec2c39a414d5f8bb885d51ce9f342": {
     "model_module": "@jupyter-widgets/controls",
     "model_module_version": "1.5.0",
     "model_name": "DescriptionStyleModel",
     "state": {
      "_model_module": "@jupyter-widgets/controls",
      "_model_module_version": "1.5.0",
      "_model_name": "DescriptionStyleModel",
      "_view_count": null,
      "_view_module": "@jupyter-widgets/base",
      "_view_module_version": "1.2.0",
      "_view_name": "StyleView",
      "description_width": ""
     }
    },
    "34b923b956df474ea2679412ab9903db": {
     "model_module": "@jupyter-widgets/controls",
     "model_module_version": "1.5.0",
     "model_name": "DescriptionStyleModel",
     "state": {
      "_model_module": "@jupyter-widgets/controls",
      "_model_module_version": "1.5.0",
      "_model_name": "DescriptionStyleModel",
      "_view_count": null,
      "_view_module": "@jupyter-widgets/base",
      "_view_module_version": "1.2.0",
      "_view_name": "StyleView",
      "description_width": ""
     }
    },
    "364d16dc917949b8883206a3b2d48f2f": {
     "model_module": "@jupyter-widgets/controls",
     "model_module_version": "1.5.0",
     "model_name": "ProgressStyleModel",
     "state": {
      "_model_module": "@jupyter-widgets/controls",
      "_model_module_version": "1.5.0",
      "_model_name": "ProgressStyleModel",
      "_view_count": null,
      "_view_module": "@jupyter-widgets/base",
      "_view_module_version": "1.2.0",
      "_view_name": "StyleView",
      "bar_color": null,
      "description_width": ""
     }
    },
    "3f029b79545a46ab9f5811964e97f4dc": {
     "model_module": "@jupyter-widgets/controls",
     "model_module_version": "1.5.0",
     "model_name": "DescriptionStyleModel",
     "state": {
      "_model_module": "@jupyter-widgets/controls",
      "_model_module_version": "1.5.0",
      "_model_name": "DescriptionStyleModel",
      "_view_count": null,
      "_view_module": "@jupyter-widgets/base",
      "_view_module_version": "1.2.0",
      "_view_name": "StyleView",
      "description_width": ""
     }
    },
    "431ba0f5d5cc443590501b1a28b34753": {
     "model_module": "@jupyter-widgets/base",
     "model_module_version": "1.2.0",
     "model_name": "LayoutModel",
     "state": {
      "_model_module": "@jupyter-widgets/base",
      "_model_module_version": "1.2.0",
      "_model_name": "LayoutModel",
      "_view_count": null,
      "_view_module": "@jupyter-widgets/base",
      "_view_module_version": "1.2.0",
      "_view_name": "LayoutView",
      "align_content": null,
      "align_items": null,
      "align_self": null,
      "border": null,
      "bottom": null,
      "display": null,
      "flex": null,
      "flex_flow": null,
      "grid_area": null,
      "grid_auto_columns": null,
      "grid_auto_flow": null,
      "grid_auto_rows": null,
      "grid_column": null,
      "grid_gap": null,
      "grid_row": null,
      "grid_template_areas": null,
      "grid_template_columns": null,
      "grid_template_rows": null,
      "height": null,
      "justify_content": null,
      "justify_items": null,
      "left": null,
      "margin": null,
      "max_height": null,
      "max_width": null,
      "min_height": null,
      "min_width": null,
      "object_fit": null,
      "object_position": null,
      "order": null,
      "overflow": null,
      "overflow_x": null,
      "overflow_y": null,
      "padding": null,
      "right": null,
      "top": null,
      "visibility": null,
      "width": null
     }
    },
    "446c13c8f68e43f093da919ff1959ac8": {
     "model_module": "@jupyter-widgets/controls",
     "model_module_version": "1.5.0",
     "model_name": "DescriptionStyleModel",
     "state": {
      "_model_module": "@jupyter-widgets/controls",
      "_model_module_version": "1.5.0",
      "_model_name": "DescriptionStyleModel",
      "_view_count": null,
      "_view_module": "@jupyter-widgets/base",
      "_view_module_version": "1.2.0",
      "_view_name": "StyleView",
      "description_width": ""
     }
    },
    "4d6b8ce0d69c4d71924e28cfa7ec2185": {
     "model_module": "@jupyter-widgets/controls",
     "model_module_version": "1.5.0",
     "model_name": "FloatProgressModel",
     "state": {
      "_dom_classes": [],
      "_model_module": "@jupyter-widgets/controls",
      "_model_module_version": "1.5.0",
      "_model_name": "FloatProgressModel",
      "_view_count": null,
      "_view_module": "@jupyter-widgets/controls",
      "_view_module_version": "1.5.0",
      "_view_name": "ProgressView",
      "bar_style": "success",
      "description": "",
      "description_tooltip": null,
      "layout": "IPY_MODEL_1809bb90311d41018cad68650bb325ad",
      "max": 28881,
      "min": 0,
      "orientation": "horizontal",
      "style": "IPY_MODEL_618916fc3e274674b52d49c07624a640",
      "value": 28881
     }
    },
    "5008b5d06f0548049dbc8e69a4d4210a": {
     "model_module": "@jupyter-widgets/controls",
     "model_module_version": "1.5.0",
     "model_name": "HTMLModel",
     "state": {
      "_dom_classes": [],
      "_model_module": "@jupyter-widgets/controls",
      "_model_module_version": "1.5.0",
      "_model_name": "HTMLModel",
      "_view_count": null,
      "_view_module": "@jupyter-widgets/controls",
      "_view_module_version": "1.5.0",
      "_view_name": "HTMLView",
      "description": "",
      "description_tooltip": null,
      "layout": "IPY_MODEL_431ba0f5d5cc443590501b1a28b34753",
      "placeholder": "​",
      "style": "IPY_MODEL_446c13c8f68e43f093da919ff1959ac8",
      "value": ""
     }
    },
    "532da8ab7c8e4e8692418b94b1a4227a": {
     "model_module": "@jupyter-widgets/controls",
     "model_module_version": "1.5.0",
     "model_name": "HTMLModel",
     "state": {
      "_dom_classes": [],
      "_model_module": "@jupyter-widgets/controls",
      "_model_module_version": "1.5.0",
      "_model_name": "HTMLModel",
      "_view_count": null,
      "_view_module": "@jupyter-widgets/controls",
      "_view_module_version": "1.5.0",
      "_view_name": "HTMLView",
      "description": "",
      "description_tooltip": null,
      "layout": "IPY_MODEL_99f60a275a3e4a20aecf3aaaf46b02ef",
      "placeholder": "​",
      "style": "IPY_MODEL_0768a5cf2a3b4cb99e3aa2d246517f0f",
      "value": " 9913344/? [00:00&lt;00:00, 55239729.79it/s]"
     }
    },
    "569dff6bacb943728981822b58b8e0cf": {
     "model_module": "@jupyter-widgets/base",
     "model_module_version": "1.2.0",
     "model_name": "LayoutModel",
     "state": {
      "_model_module": "@jupyter-widgets/base",
      "_model_module_version": "1.2.0",
      "_model_name": "LayoutModel",
      "_view_count": null,
      "_view_module": "@jupyter-widgets/base",
      "_view_module_version": "1.2.0",
      "_view_name": "LayoutView",
      "align_content": null,
      "align_items": null,
      "align_self": null,
      "border": null,
      "bottom": null,
      "display": null,
      "flex": null,
      "flex_flow": null,
      "grid_area": null,
      "grid_auto_columns": null,
      "grid_auto_flow": null,
      "grid_auto_rows": null,
      "grid_column": null,
      "grid_gap": null,
      "grid_row": null,
      "grid_template_areas": null,
      "grid_template_columns": null,
      "grid_template_rows": null,
      "height": null,
      "justify_content": null,
      "justify_items": null,
      "left": null,
      "margin": null,
      "max_height": null,
      "max_width": null,
      "min_height": null,
      "min_width": null,
      "object_fit": null,
      "object_position": null,
      "order": null,
      "overflow": null,
      "overflow_x": null,
      "overflow_y": null,
      "padding": null,
      "right": null,
      "top": null,
      "visibility": null,
      "width": null
     }
    },
    "60d9fb58971744fb87757720d7d99a75": {
     "model_module": "@jupyter-widgets/controls",
     "model_module_version": "1.5.0",
     "model_name": "HTMLModel",
     "state": {
      "_dom_classes": [],
      "_model_module": "@jupyter-widgets/controls",
      "_model_module_version": "1.5.0",
      "_model_name": "HTMLModel",
      "_view_count": null,
      "_view_module": "@jupyter-widgets/controls",
      "_view_module_version": "1.5.0",
      "_view_name": "HTMLView",
      "description": "",
      "description_tooltip": null,
      "layout": "IPY_MODEL_077865c74ed24c37a1a1fbc510d0af5d",
      "placeholder": "​",
      "style": "IPY_MODEL_34b923b956df474ea2679412ab9903db",
      "value": ""
     }
    },
    "618916fc3e274674b52d49c07624a640": {
     "model_module": "@jupyter-widgets/controls",
     "model_module_version": "1.5.0",
     "model_name": "ProgressStyleModel",
     "state": {
      "_model_module": "@jupyter-widgets/controls",
      "_model_module_version": "1.5.0",
      "_model_name": "ProgressStyleModel",
      "_view_count": null,
      "_view_module": "@jupyter-widgets/base",
      "_view_module_version": "1.2.0",
      "_view_name": "StyleView",
      "bar_color": null,
      "description_width": ""
     }
    },
    "61d256fead824f40bd62ac20ddf796e5": {
     "model_module": "@jupyter-widgets/controls",
     "model_module_version": "1.5.0",
     "model_name": "HBoxModel",
     "state": {
      "_dom_classes": [],
      "_model_module": "@jupyter-widgets/controls",
      "_model_module_version": "1.5.0",
      "_model_name": "HBoxModel",
      "_view_count": null,
      "_view_module": "@jupyter-widgets/controls",
      "_view_module_version": "1.5.0",
      "_view_name": "HBoxView",
      "box_style": "",
      "children": [
       "IPY_MODEL_60d9fb58971744fb87757720d7d99a75",
       "IPY_MODEL_63f30270fd3a4c838077de45eddc6f16",
       "IPY_MODEL_fa92a37fcc2c4d718710b76cc733f45e"
      ],
      "layout": "IPY_MODEL_ae9b522011654c84a324f1d55eb6e4de"
     }
    },
    "63f30270fd3a4c838077de45eddc6f16": {
     "model_module": "@jupyter-widgets/controls",
     "model_module_version": "1.5.0",
     "model_name": "FloatProgressModel",
     "state": {
      "_dom_classes": [],
      "_model_module": "@jupyter-widgets/controls",
      "_model_module_version": "1.5.0",
      "_model_name": "FloatProgressModel",
      "_view_count": null,
      "_view_module": "@jupyter-widgets/controls",
      "_view_module_version": "1.5.0",
      "_view_name": "ProgressView",
      "bar_style": "success",
      "description": "",
      "description_tooltip": null,
      "layout": "IPY_MODEL_e3c0e722c65346a48b5b9620c973925a",
      "max": 4542,
      "min": 0,
      "orientation": "horizontal",
      "style": "IPY_MODEL_09e876899948452c81be448ff94a708d",
      "value": 4542
     }
    },
    "883a328a3c6c4a5fb1fc551e807e3997": {
     "model_module": "@jupyter-widgets/base",
     "model_module_version": "1.2.0",
     "model_name": "LayoutModel",
     "state": {
      "_model_module": "@jupyter-widgets/base",
      "_model_module_version": "1.2.0",
      "_model_name": "LayoutModel",
      "_view_count": null,
      "_view_module": "@jupyter-widgets/base",
      "_view_module_version": "1.2.0",
      "_view_name": "LayoutView",
      "align_content": null,
      "align_items": null,
      "align_self": null,
      "border": null,
      "bottom": null,
      "display": null,
      "flex": null,
      "flex_flow": null,
      "grid_area": null,
      "grid_auto_columns": null,
      "grid_auto_flow": null,
      "grid_auto_rows": null,
      "grid_column": null,
      "grid_gap": null,
      "grid_row": null,
      "grid_template_areas": null,
      "grid_template_columns": null,
      "grid_template_rows": null,
      "height": null,
      "justify_content": null,
      "justify_items": null,
      "left": null,
      "margin": null,
      "max_height": null,
      "max_width": null,
      "min_height": null,
      "min_width": null,
      "object_fit": null,
      "object_position": null,
      "order": null,
      "overflow": null,
      "overflow_x": null,
      "overflow_y": null,
      "padding": null,
      "right": null,
      "top": null,
      "visibility": null,
      "width": null
     }
    },
    "8e00b6a8424e4f8382b8281e7f27fd8d": {
     "model_module": "@jupyter-widgets/base",
     "model_module_version": "1.2.0",
     "model_name": "LayoutModel",
     "state": {
      "_model_module": "@jupyter-widgets/base",
      "_model_module_version": "1.2.0",
      "_model_name": "LayoutModel",
      "_view_count": null,
      "_view_module": "@jupyter-widgets/base",
      "_view_module_version": "1.2.0",
      "_view_name": "LayoutView",
      "align_content": null,
      "align_items": null,
      "align_self": null,
      "border": null,
      "bottom": null,
      "display": null,
      "flex": null,
      "flex_flow": null,
      "grid_area": null,
      "grid_auto_columns": null,
      "grid_auto_flow": null,
      "grid_auto_rows": null,
      "grid_column": null,
      "grid_gap": null,
      "grid_row": null,
      "grid_template_areas": null,
      "grid_template_columns": null,
      "grid_template_rows": null,
      "height": null,
      "justify_content": null,
      "justify_items": null,
      "left": null,
      "margin": null,
      "max_height": null,
      "max_width": null,
      "min_height": null,
      "min_width": null,
      "object_fit": null,
      "object_position": null,
      "order": null,
      "overflow": null,
      "overflow_x": null,
      "overflow_y": null,
      "padding": null,
      "right": null,
      "top": null,
      "visibility": null,
      "width": null
     }
    },
    "99009c891dbd40eba8a043a889d61499": {
     "model_module": "@jupyter-widgets/controls",
     "model_module_version": "1.5.0",
     "model_name": "DescriptionStyleModel",
     "state": {
      "_model_module": "@jupyter-widgets/controls",
      "_model_module_version": "1.5.0",
      "_model_name": "DescriptionStyleModel",
      "_view_count": null,
      "_view_module": "@jupyter-widgets/base",
      "_view_module_version": "1.2.0",
      "_view_name": "StyleView",
      "description_width": ""
     }
    },
    "99f60a275a3e4a20aecf3aaaf46b02ef": {
     "model_module": "@jupyter-widgets/base",
     "model_module_version": "1.2.0",
     "model_name": "LayoutModel",
     "state": {
      "_model_module": "@jupyter-widgets/base",
      "_model_module_version": "1.2.0",
      "_model_name": "LayoutModel",
      "_view_count": null,
      "_view_module": "@jupyter-widgets/base",
      "_view_module_version": "1.2.0",
      "_view_name": "LayoutView",
      "align_content": null,
      "align_items": null,
      "align_self": null,
      "border": null,
      "bottom": null,
      "display": null,
      "flex": null,
      "flex_flow": null,
      "grid_area": null,
      "grid_auto_columns": null,
      "grid_auto_flow": null,
      "grid_auto_rows": null,
      "grid_column": null,
      "grid_gap": null,
      "grid_row": null,
      "grid_template_areas": null,
      "grid_template_columns": null,
      "grid_template_rows": null,
      "height": null,
      "justify_content": null,
      "justify_items": null,
      "left": null,
      "margin": null,
      "max_height": null,
      "max_width": null,
      "min_height": null,
      "min_width": null,
      "object_fit": null,
      "object_position": null,
      "order": null,
      "overflow": null,
      "overflow_x": null,
      "overflow_y": null,
      "padding": null,
      "right": null,
      "top": null,
      "visibility": null,
      "width": null
     }
    },
    "a76c4d9b915942d2827278d5fc60bb88": {
     "model_module": "@jupyter-widgets/base",
     "model_module_version": "1.2.0",
     "model_name": "LayoutModel",
     "state": {
      "_model_module": "@jupyter-widgets/base",
      "_model_module_version": "1.2.0",
      "_model_name": "LayoutModel",
      "_view_count": null,
      "_view_module": "@jupyter-widgets/base",
      "_view_module_version": "1.2.0",
      "_view_name": "LayoutView",
      "align_content": null,
      "align_items": null,
      "align_self": null,
      "border": null,
      "bottom": null,
      "display": null,
      "flex": null,
      "flex_flow": null,
      "grid_area": null,
      "grid_auto_columns": null,
      "grid_auto_flow": null,
      "grid_auto_rows": null,
      "grid_column": null,
      "grid_gap": null,
      "grid_row": null,
      "grid_template_areas": null,
      "grid_template_columns": null,
      "grid_template_rows": null,
      "height": null,
      "justify_content": null,
      "justify_items": null,
      "left": null,
      "margin": null,
      "max_height": null,
      "max_width": null,
      "min_height": null,
      "min_width": null,
      "object_fit": null,
      "object_position": null,
      "order": null,
      "overflow": null,
      "overflow_x": null,
      "overflow_y": null,
      "padding": null,
      "right": null,
      "top": null,
      "visibility": null,
      "width": null
     }
    },
    "ac8b6aed222b440eb6d55a626f3f253c": {
     "model_module": "@jupyter-widgets/controls",
     "model_module_version": "1.5.0",
     "model_name": "ProgressStyleModel",
     "state": {
      "_model_module": "@jupyter-widgets/controls",
      "_model_module_version": "1.5.0",
      "_model_name": "ProgressStyleModel",
      "_view_count": null,
      "_view_module": "@jupyter-widgets/base",
      "_view_module_version": "1.2.0",
      "_view_name": "StyleView",
      "bar_color": null,
      "description_width": ""
     }
    },
    "ae9b522011654c84a324f1d55eb6e4de": {
     "model_module": "@jupyter-widgets/base",
     "model_module_version": "1.2.0",
     "model_name": "LayoutModel",
     "state": {
      "_model_module": "@jupyter-widgets/base",
      "_model_module_version": "1.2.0",
      "_model_name": "LayoutModel",
      "_view_count": null,
      "_view_module": "@jupyter-widgets/base",
      "_view_module_version": "1.2.0",
      "_view_name": "LayoutView",
      "align_content": null,
      "align_items": null,
      "align_self": null,
      "border": null,
      "bottom": null,
      "display": null,
      "flex": null,
      "flex_flow": null,
      "grid_area": null,
      "grid_auto_columns": null,
      "grid_auto_flow": null,
      "grid_auto_rows": null,
      "grid_column": null,
      "grid_gap": null,
      "grid_row": null,
      "grid_template_areas": null,
      "grid_template_columns": null,
      "grid_template_rows": null,
      "height": null,
      "justify_content": null,
      "justify_items": null,
      "left": null,
      "margin": null,
      "max_height": null,
      "max_width": null,
      "min_height": null,
      "min_width": null,
      "object_fit": null,
      "object_position": null,
      "order": null,
      "overflow": null,
      "overflow_x": null,
      "overflow_y": null,
      "padding": null,
      "right": null,
      "top": null,
      "visibility": null,
      "width": null
     }
    },
    "aec4f537128f46dca4103973bb9739f2": {
     "model_module": "@jupyter-widgets/base",
     "model_module_version": "1.2.0",
     "model_name": "LayoutModel",
     "state": {
      "_model_module": "@jupyter-widgets/base",
      "_model_module_version": "1.2.0",
      "_model_name": "LayoutModel",
      "_view_count": null,
      "_view_module": "@jupyter-widgets/base",
      "_view_module_version": "1.2.0",
      "_view_name": "LayoutView",
      "align_content": null,
      "align_items": null,
      "align_self": null,
      "border": null,
      "bottom": null,
      "display": null,
      "flex": null,
      "flex_flow": null,
      "grid_area": null,
      "grid_auto_columns": null,
      "grid_auto_flow": null,
      "grid_auto_rows": null,
      "grid_column": null,
      "grid_gap": null,
      "grid_row": null,
      "grid_template_areas": null,
      "grid_template_columns": null,
      "grid_template_rows": null,
      "height": null,
      "justify_content": null,
      "justify_items": null,
      "left": null,
      "margin": null,
      "max_height": null,
      "max_width": null,
      "min_height": null,
      "min_width": null,
      "object_fit": null,
      "object_position": null,
      "order": null,
      "overflow": null,
      "overflow_x": null,
      "overflow_y": null,
      "padding": null,
      "right": null,
      "top": null,
      "visibility": null,
      "width": null
     }
    },
    "b1133832fab24a4a90f2314e88e37fd1": {
     "model_module": "@jupyter-widgets/controls",
     "model_module_version": "1.5.0",
     "model_name": "HBoxModel",
     "state": {
      "_dom_classes": [],
      "_model_module": "@jupyter-widgets/controls",
      "_model_module_version": "1.5.0",
      "_model_name": "HBoxModel",
      "_view_count": null,
      "_view_module": "@jupyter-widgets/controls",
      "_view_module_version": "1.5.0",
      "_view_name": "HBoxView",
      "box_style": "",
      "children": [
       "IPY_MODEL_5008b5d06f0548049dbc8e69a4d4210a",
       "IPY_MODEL_1b7243a4b349416e90628f0ec48386d5",
       "IPY_MODEL_25669a4a2168401a8db1fc1d16f10183"
      ],
      "layout": "IPY_MODEL_e9b46ec7a04545d7915b843320f76691"
     }
    },
    "b5f114ed5a3d4354886baaceb4f3cf3f": {
     "model_module": "@jupyter-widgets/base",
     "model_module_version": "1.2.0",
     "model_name": "LayoutModel",
     "state": {
      "_model_module": "@jupyter-widgets/base",
      "_model_module_version": "1.2.0",
      "_model_name": "LayoutModel",
      "_view_count": null,
      "_view_module": "@jupyter-widgets/base",
      "_view_module_version": "1.2.0",
      "_view_name": "LayoutView",
      "align_content": null,
      "align_items": null,
      "align_self": null,
      "border": null,
      "bottom": null,
      "display": null,
      "flex": null,
      "flex_flow": null,
      "grid_area": null,
      "grid_auto_columns": null,
      "grid_auto_flow": null,
      "grid_auto_rows": null,
      "grid_column": null,
      "grid_gap": null,
      "grid_row": null,
      "grid_template_areas": null,
      "grid_template_columns": null,
      "grid_template_rows": null,
      "height": null,
      "justify_content": null,
      "justify_items": null,
      "left": null,
      "margin": null,
      "max_height": null,
      "max_width": null,
      "min_height": null,
      "min_width": null,
      "object_fit": null,
      "object_position": null,
      "order": null,
      "overflow": null,
      "overflow_x": null,
      "overflow_y": null,
      "padding": null,
      "right": null,
      "top": null,
      "visibility": null,
      "width": null
     }
    },
    "b8a17ae00047439abc0f113136e9bc79": {
     "model_module": "@jupyter-widgets/base",
     "model_module_version": "1.2.0",
     "model_name": "LayoutModel",
     "state": {
      "_model_module": "@jupyter-widgets/base",
      "_model_module_version": "1.2.0",
      "_model_name": "LayoutModel",
      "_view_count": null,
      "_view_module": "@jupyter-widgets/base",
      "_view_module_version": "1.2.0",
      "_view_name": "LayoutView",
      "align_content": null,
      "align_items": null,
      "align_self": null,
      "border": null,
      "bottom": null,
      "display": null,
      "flex": null,
      "flex_flow": null,
      "grid_area": null,
      "grid_auto_columns": null,
      "grid_auto_flow": null,
      "grid_auto_rows": null,
      "grid_column": null,
      "grid_gap": null,
      "grid_row": null,
      "grid_template_areas": null,
      "grid_template_columns": null,
      "grid_template_rows": null,
      "height": null,
      "justify_content": null,
      "justify_items": null,
      "left": null,
      "margin": null,
      "max_height": null,
      "max_width": null,
      "min_height": null,
      "min_width": null,
      "object_fit": null,
      "object_position": null,
      "order": null,
      "overflow": null,
      "overflow_x": null,
      "overflow_y": null,
      "padding": null,
      "right": null,
      "top": null,
      "visibility": null,
      "width": null
     }
    },
    "bd4e2d1ea51348c0a042df19461fee4f": {
     "model_module": "@jupyter-widgets/base",
     "model_module_version": "1.2.0",
     "model_name": "LayoutModel",
     "state": {
      "_model_module": "@jupyter-widgets/base",
      "_model_module_version": "1.2.0",
      "_model_name": "LayoutModel",
      "_view_count": null,
      "_view_module": "@jupyter-widgets/base",
      "_view_module_version": "1.2.0",
      "_view_name": "LayoutView",
      "align_content": null,
      "align_items": null,
      "align_self": null,
      "border": null,
      "bottom": null,
      "display": null,
      "flex": null,
      "flex_flow": null,
      "grid_area": null,
      "grid_auto_columns": null,
      "grid_auto_flow": null,
      "grid_auto_rows": null,
      "grid_column": null,
      "grid_gap": null,
      "grid_row": null,
      "grid_template_areas": null,
      "grid_template_columns": null,
      "grid_template_rows": null,
      "height": null,
      "justify_content": null,
      "justify_items": null,
      "left": null,
      "margin": null,
      "max_height": null,
      "max_width": null,
      "min_height": null,
      "min_width": null,
      "object_fit": null,
      "object_position": null,
      "order": null,
      "overflow": null,
      "overflow_x": null,
      "overflow_y": null,
      "padding": null,
      "right": null,
      "top": null,
      "visibility": null,
      "width": null
     }
    },
    "d4b6e4724d8d4ac39ef83d5ec98b665f": {
     "model_module": "@jupyter-widgets/controls",
     "model_module_version": "1.5.0",
     "model_name": "HTMLModel",
     "state": {
      "_dom_classes": [],
      "_model_module": "@jupyter-widgets/controls",
      "_model_module_version": "1.5.0",
      "_model_name": "HTMLModel",
      "_view_count": null,
      "_view_module": "@jupyter-widgets/controls",
      "_view_module_version": "1.5.0",
      "_view_name": "HTMLView",
      "description": "",
      "description_tooltip": null,
      "layout": "IPY_MODEL_8e00b6a8424e4f8382b8281e7f27fd8d",
      "placeholder": "​",
      "style": "IPY_MODEL_3f029b79545a46ab9f5811964e97f4dc",
      "value": " 29696/? [00:00&lt;00:00, 477341.12it/s]"
     }
    },
    "d74c8a1538f040bca3f2821bd1c8a642": {
     "model_module": "@jupyter-widgets/controls",
     "model_module_version": "1.5.0",
     "model_name": "DescriptionStyleModel",
     "state": {
      "_model_module": "@jupyter-widgets/controls",
      "_model_module_version": "1.5.0",
      "_model_name": "DescriptionStyleModel",
      "_view_count": null,
      "_view_module": "@jupyter-widgets/base",
      "_view_module_version": "1.2.0",
      "_view_name": "StyleView",
      "description_width": ""
     }
    },
    "df19d010bb7d4e059978751ad526a28f": {
     "model_module": "@jupyter-widgets/controls",
     "model_module_version": "1.5.0",
     "model_name": "HTMLModel",
     "state": {
      "_dom_classes": [],
      "_model_module": "@jupyter-widgets/controls",
      "_model_module_version": "1.5.0",
      "_model_name": "HTMLModel",
      "_view_count": null,
      "_view_module": "@jupyter-widgets/controls",
      "_view_module_version": "1.5.0",
      "_view_name": "HTMLView",
      "description": "",
      "description_tooltip": null,
      "layout": "IPY_MODEL_aec4f537128f46dca4103973bb9739f2",
      "placeholder": "​",
      "style": "IPY_MODEL_99009c891dbd40eba8a043a889d61499",
      "value": ""
     }
    },
    "e3c0e722c65346a48b5b9620c973925a": {
     "model_module": "@jupyter-widgets/base",
     "model_module_version": "1.2.0",
     "model_name": "LayoutModel",
     "state": {
      "_model_module": "@jupyter-widgets/base",
      "_model_module_version": "1.2.0",
      "_model_name": "LayoutModel",
      "_view_count": null,
      "_view_module": "@jupyter-widgets/base",
      "_view_module_version": "1.2.0",
      "_view_name": "LayoutView",
      "align_content": null,
      "align_items": null,
      "align_self": null,
      "border": null,
      "bottom": null,
      "display": null,
      "flex": null,
      "flex_flow": null,
      "grid_area": null,
      "grid_auto_columns": null,
      "grid_auto_flow": null,
      "grid_auto_rows": null,
      "grid_column": null,
      "grid_gap": null,
      "grid_row": null,
      "grid_template_areas": null,
      "grid_template_columns": null,
      "grid_template_rows": null,
      "height": null,
      "justify_content": null,
      "justify_items": null,
      "left": null,
      "margin": null,
      "max_height": null,
      "max_width": null,
      "min_height": null,
      "min_width": null,
      "object_fit": null,
      "object_position": null,
      "order": null,
      "overflow": null,
      "overflow_x": null,
      "overflow_y": null,
      "padding": null,
      "right": null,
      "top": null,
      "visibility": null,
      "width": null
     }
    },
    "e9b46ec7a04545d7915b843320f76691": {
     "model_module": "@jupyter-widgets/base",
     "model_module_version": "1.2.0",
     "model_name": "LayoutModel",
     "state": {
      "_model_module": "@jupyter-widgets/base",
      "_model_module_version": "1.2.0",
      "_model_name": "LayoutModel",
      "_view_count": null,
      "_view_module": "@jupyter-widgets/base",
      "_view_module_version": "1.2.0",
      "_view_name": "LayoutView",
      "align_content": null,
      "align_items": null,
      "align_self": null,
      "border": null,
      "bottom": null,
      "display": null,
      "flex": null,
      "flex_flow": null,
      "grid_area": null,
      "grid_auto_columns": null,
      "grid_auto_flow": null,
      "grid_auto_rows": null,
      "grid_column": null,
      "grid_gap": null,
      "grid_row": null,
      "grid_template_areas": null,
      "grid_template_columns": null,
      "grid_template_rows": null,
      "height": null,
      "justify_content": null,
      "justify_items": null,
      "left": null,
      "margin": null,
      "max_height": null,
      "max_width": null,
      "min_height": null,
      "min_width": null,
      "object_fit": null,
      "object_position": null,
      "order": null,
      "overflow": null,
      "overflow_x": null,
      "overflow_y": null,
      "padding": null,
      "right": null,
      "top": null,
      "visibility": null,
      "width": null
     }
    },
    "ea678cf4a6d54e4a8a0966876ba59204": {
     "model_module": "@jupyter-widgets/controls",
     "model_module_version": "1.5.0",
     "model_name": "HBoxModel",
     "state": {
      "_dom_classes": [],
      "_model_module": "@jupyter-widgets/controls",
      "_model_module_version": "1.5.0",
      "_model_name": "HBoxModel",
      "_view_count": null,
      "_view_module": "@jupyter-widgets/controls",
      "_view_module_version": "1.5.0",
      "_view_name": "HBoxView",
      "box_style": "",
      "children": [
       "IPY_MODEL_110273437bbe4064b0f6c68dd90d9d2b",
       "IPY_MODEL_04168c9ec95048438ccdf4c2c6e8d082",
       "IPY_MODEL_532da8ab7c8e4e8692418b94b1a4227a"
      ],
      "layout": "IPY_MODEL_b8a17ae00047439abc0f113136e9bc79"
     }
    },
    "f5deaf53b0484c7fba658113e61da639": {
     "model_module": "@jupyter-widgets/controls",
     "model_module_version": "1.5.0",
     "model_name": "HBoxModel",
     "state": {
      "_dom_classes": [],
      "_model_module": "@jupyter-widgets/controls",
      "_model_module_version": "1.5.0",
      "_model_name": "HBoxModel",
      "_view_count": null,
      "_view_module": "@jupyter-widgets/controls",
      "_view_module_version": "1.5.0",
      "_view_name": "HBoxView",
      "box_style": "",
      "children": [
       "IPY_MODEL_df19d010bb7d4e059978751ad526a28f",
       "IPY_MODEL_4d6b8ce0d69c4d71924e28cfa7ec2185",
       "IPY_MODEL_d4b6e4724d8d4ac39ef83d5ec98b665f"
      ],
      "layout": "IPY_MODEL_883a328a3c6c4a5fb1fc551e807e3997"
     }
    },
    "fa92a37fcc2c4d718710b76cc733f45e": {
     "model_module": "@jupyter-widgets/controls",
     "model_module_version": "1.5.0",
     "model_name": "HTMLModel",
     "state": {
      "_dom_classes": [],
      "_model_module": "@jupyter-widgets/controls",
      "_model_module_version": "1.5.0",
      "_model_name": "HTMLModel",
      "_view_count": null,
      "_view_module": "@jupyter-widgets/controls",
      "_view_module_version": "1.5.0",
      "_view_name": "HTMLView",
      "description": "",
      "description_tooltip": null,
      "layout": "IPY_MODEL_569dff6bacb943728981822b58b8e0cf",
      "placeholder": "​",
      "style": "IPY_MODEL_0e30dae5f9084bf3a9cafbcb4e364bd2",
      "value": " 5120/? [00:00&lt;00:00, 137996.24it/s]"
     }
    }
   }
  }
 },
 "nbformat": 4,
 "nbformat_minor": 1
}
