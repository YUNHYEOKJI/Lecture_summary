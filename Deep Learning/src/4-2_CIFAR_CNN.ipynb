{
 "cells": [
  {
   "cell_type": "markdown",
   "metadata": {
    "id": "K0BzznR2n_9W"
   },
   "source": [
    "# 합성곱 신경망을 사용하여 CIRAR-10 dataset 분류"
   ]
  },
  {
   "cell_type": "code",
   "execution_count": 1,
   "metadata": {
    "executionInfo": {
     "elapsed": 25203,
     "status": "ok",
     "timestamp": 1634004850416,
     "user": {
      "displayName": "‍박종혁(교원-빅데이터경영통계전공)",
      "photoUrl": "https://lh3.googleusercontent.com/a/default-user=s64",
      "userId": "05107650215573502422"
     },
     "user_tz": -540
    },
    "id": "qncPp9Qvn9lW"
   },
   "outputs": [],
   "source": [
    "''' 1. Module Import '''\n",
    "import numpy as np\n",
    "import matplotlib.pyplot as plt\n",
    "\n",
    "import torch\n",
    "import torch.nn as nn\n",
    "import torch.nn.functional as F\n",
    "from torchvision import transforms, datasets"
   ]
  },
  {
   "cell_type": "code",
   "execution_count": 2,
   "metadata": {
    "colab": {
     "base_uri": "https://localhost:8080/"
    },
    "executionInfo": {
     "elapsed": 242,
     "status": "ok",
     "timestamp": 1634004861163,
     "user": {
      "displayName": "‍박종혁(교원-빅데이터경영통계전공)",
      "photoUrl": "https://lh3.googleusercontent.com/a/default-user=s64",
      "userId": "05107650215573502422"
     },
     "user_tz": -540
    },
    "id": "sZ_AjS0un9lc",
    "outputId": "94e2de0b-e97e-4ee2-8282-08446290e27b"
   },
   "outputs": [
    {
     "name": "stdout",
     "output_type": "stream",
     "text": [
      "Using PyTorch version: 1.9.0+cu111  Device: cuda\n"
     ]
    }
   ],
   "source": [
    "''' 2. 딥러닝 모델을 설계할 때 활용하는 장비 확인 '''\n",
    "if torch.cuda.is_available():\n",
    "    DEVICE = torch.device('cuda')\n",
    "else:\n",
    "    DEVICE = torch.device('cpu')\n",
    "print('Using PyTorch version:', torch.__version__, ' Device:', DEVICE)"
   ]
  },
  {
   "cell_type": "code",
   "execution_count": 3,
   "metadata": {
    "executionInfo": {
     "elapsed": 228,
     "status": "ok",
     "timestamp": 1634004863867,
     "user": {
      "displayName": "‍박종혁(교원-빅데이터경영통계전공)",
      "photoUrl": "https://lh3.googleusercontent.com/a/default-user=s64",
      "userId": "05107650215573502422"
     },
     "user_tz": -540
    },
    "id": "fo3HptzDn9le"
   },
   "outputs": [],
   "source": [
    "BATCH_SIZE = 32\n",
    "EPOCHS = 10"
   ]
  },
  {
   "cell_type": "code",
   "execution_count": 4,
   "metadata": {
    "colab": {
     "base_uri": "https://localhost:8080/",
     "height": 85,
     "referenced_widgets": [
      "efa6a52fe8804a47b7abcefb267b41ef",
      "409d8976e9894fcca7553e5f01afc6f2",
      "c8c3249db8b541fe9ddc99c186f4d002",
      "f4dd354506454f3290d11dbcbf49cb95",
      "fc891b9fc4b84eb0ab7dbe701d969f4a",
      "a5bd6172a79241eea13d60159b35cc86",
      "b666df32b3a3431e8e4cfeae4bc3d3bb",
      "c4cf966e23e149a58d51170972592270",
      "3d28874628a54f7b821180f123ea84fb",
      "a46ec290c44649ce956109b8d1d9f88c",
      "5fa38a6a4ab442ffb485998b900eaaa0"
     ]
    },
    "executionInfo": {
     "elapsed": 7133,
     "status": "ok",
     "timestamp": 1634004872909,
     "user": {
      "displayName": "‍박종혁(교원-빅데이터경영통계전공)",
      "photoUrl": "https://lh3.googleusercontent.com/a/default-user=s64",
      "userId": "05107650215573502422"
     },
     "user_tz": -540
    },
    "id": "FiBTVwFEn9lf",
    "outputId": "11b1e5c4-c224-4fc3-f4df-9d6bf56d5252"
   },
   "outputs": [
    {
     "name": "stdout",
     "output_type": "stream",
     "text": [
      "Downloading https://www.cs.toronto.edu/~kriz/cifar-10-python.tar.gz to ../data/CIFAR_10/cifar-10-python.tar.gz\n"
     ]
    },
    {
     "data": {
      "application/vnd.jupyter.widget-view+json": {
       "model_id": "efa6a52fe8804a47b7abcefb267b41ef",
       "version_major": 2,
       "version_minor": 0
      },
      "text/plain": [
       "  0%|          | 0/170498071 [00:00<?, ?it/s]"
      ]
     },
     "metadata": {},
     "output_type": "display_data"
    },
    {
     "name": "stdout",
     "output_type": "stream",
     "text": [
      "Extracting ../data/CIFAR_10/cifar-10-python.tar.gz to ../data/CIFAR_10\n"
     ]
    }
   ],
   "source": [
    "''' 3. CIFAR10 데이터 다운로드 (Train set, Test set 분리하기) '''\n",
    "train_dataset = datasets.CIFAR10(root = \"../data/CIFAR_10\",\n",
    "                                  train = True,\n",
    "                                  download = True,\n",
    "                                  transform = transforms.ToTensor())\n",
    "\n",
    "test_dataset = datasets.CIFAR10(root = \"../data/CIFAR_10\",\n",
    "                                train = False,\n",
    "                                transform = transforms.ToTensor())\n",
    "\n",
    "train_loader = torch.utils.data.DataLoader(dataset = train_dataset,\n",
    "                                            batch_size = BATCH_SIZE,\n",
    "                                            shuffle = True)\n",
    "\n",
    "test_loader = torch.utils.data.DataLoader(dataset = test_dataset,\n",
    "                                          batch_size = BATCH_SIZE,\n",
    "                                          shuffle = False)"
   ]
  },
  {
   "cell_type": "code",
   "execution_count": 5,
   "metadata": {
    "colab": {
     "base_uri": "https://localhost:8080/"
    },
    "executionInfo": {
     "elapsed": 294,
     "status": "ok",
     "timestamp": 1634004882210,
     "user": {
      "displayName": "‍박종혁(교원-빅데이터경영통계전공)",
      "photoUrl": "https://lh3.googleusercontent.com/a/default-user=s64",
      "userId": "05107650215573502422"
     },
     "user_tz": -540
    },
    "id": "7aRbpfU-n9lh",
    "outputId": "707b3d8f-f3fd-4d81-eceb-9b92632c8f26"
   },
   "outputs": [
    {
     "name": "stdout",
     "output_type": "stream",
     "text": [
      "X_train: torch.Size([32, 3, 32, 32]) type: torch.FloatTensor\n",
      "y_train: torch.Size([32]) type: torch.LongTensor\n"
     ]
    }
   ],
   "source": [
    "''' 4. 데이터 확인하기 (1) '''\n",
    "for (X_train, y_train) in train_loader:\n",
    "    print('X_train:', X_train.size(), 'type:', X_train.type())\n",
    "    print('y_train:', y_train.size(), 'type:', y_train.type())\n",
    "    break"
   ]
  },
  {
   "cell_type": "code",
   "execution_count": 6,
   "metadata": {
    "colab": {
     "base_uri": "https://localhost:8080/",
     "height": 94
    },
    "executionInfo": {
     "elapsed": 1073,
     "status": "ok",
     "timestamp": 1634004885402,
     "user": {
      "displayName": "‍박종혁(교원-빅데이터경영통계전공)",
      "photoUrl": "https://lh3.googleusercontent.com/a/default-user=s64",
      "userId": "05107650215573502422"
     },
     "user_tz": -540
    },
    "id": "Mjzc7pfwn9li",
    "outputId": "83a59204-d139-4fcf-b743-47e714cb526d"
   },
   "outputs": [
    {
     "data": {
      "image/png": "[encoded data removed]",
      "text/plain": [
       "<Figure size 720x72 with 10 Axes>"
      ]
     },
     "metadata": {
      "needs_background": "light"
     },
     "output_type": "display_data"
    }
   ],
   "source": [
    "''' 5. 데이터 확인하기 (2) '''\n",
    "pltsize = 1\n",
    "plt.figure(figsize=(10 * pltsize, pltsize))\n",
    "\n",
    "for i in range(10):\n",
    "    plt.subplot(1, 10, i + 1)\n",
    "    plt.axis('off')\n",
    "    plt.imshow(np.transpose(X_train[i], (1, 2, 0)))\n",
    "    plt.title('Class: ' + str(y_train[i].item()))"
   ]
  },
  {
   "cell_type": "markdown",
   "metadata": {
    "id": "s9PLvy0xoMRb"
   },
   "source": [
    "- CNN 모델 설계하기\n",
    "  - [`nn.Conv2d`](https://pytorch.org/docs/stable/generated/torch.nn.Conv2d.html?highlight=conv2ed), [`nn.MaxPool2d`](https://pytorch.org/docs/stable/generated/torch.nn.MaxPool2d.html?highlight=maxpool2d#torch.nn.MaxPool2d) 활용한 CNN 모델 구성\n",
    "  - `nn.Conv2d` : 2차원의 필터를 사용한 convolution 연산 수행\n",
    "    - `in_channels` : Input 값들의 Channel 수 (최초의 경우 RGB 3 channels, 이후에는 Feature map의 channel 수)\n",
    "    - `out_channels` : 사용할 Filter의 수\n",
    "    - `kernel_size` : Filter의 크기 (int or tuple)\n",
    "    - `padding` : zero padding을 input의 네 면에 몇 층으로 쌓을 것인지에 대한 값\n",
    "      - `1`이면, 네 면에 한 개의 층을 둘러 쌓는다는 의미\n",
    "\n",
    "    - Input의 Shape\n",
    "      - (N, C, H, W)\n",
    "        - N: Batch size\n",
    "        - C: Channel 수\n",
    "        - H, W : Image 혹은 Feature map의 Height, Width\n",
    "\n",
    "  - `nn.MaxPool2d` : 2차원 공간에서의 Max-pooling 수행"
   ]
  },
  {
   "cell_type": "code",
   "execution_count": 7,
   "metadata": {
    "executionInfo": {
     "elapsed": 219,
     "status": "ok",
     "timestamp": 1634005440369,
     "user": {
      "displayName": "‍박종혁(교원-빅데이터경영통계전공)",
      "photoUrl": "https://lh3.googleusercontent.com/a/default-user=s64",
      "userId": "05107650215573502422"
     },
     "user_tz": -540
    },
    "id": "Ipx9AF3Hn9lj"
   },
   "outputs": [],
   "source": [
    "''' 6. Convolutional Neural Network (CNN) 모델 설계하기 '''\n",
    "class CNN(nn.Module):\n",
    "    def __init__(self):\n",
    "        super(CNN, self).__init__()\n",
    "        self.conv1 = nn.Conv2d(in_channels = 3, out_channels = 8, kernel_size = 3, padding = 1)\n",
    "        self.conv2 = nn.Conv2d(in_channels = 8, out_channels = 16, kernel_size = 3, padding = 1)\n",
    "        self.pool = nn.MaxPool2d(kernel_size = 2, stride = 2)\n",
    "        self.fc1 = nn.Linear(8 * 8 * 16, 64)\n",
    "        self.fc2 = nn.Linear(64, 32)\n",
    "        self.fc3 = nn.Linear(32, 10)\n",
    "        \n",
    "    def forward(self, x):\n",
    "        x = self.conv1(x)\n",
    "        x = F.relu(x)\n",
    "        x = self.pool(x)\n",
    "        x = self.conv2(x)\n",
    "        x = F.relu(x)\n",
    "        x = self.pool(x)\n",
    "        \n",
    "        x = x.view(-1, 8 * 8 * 16)\n",
    "        x = self.fc1(x)\n",
    "        x = F.relu(x)\n",
    "        x = self.fc2(x)\n",
    "        x = F.relu(x)\n",
    "        x = self.fc3(x)\n",
    "        # x = F.log_softmax(x)\n",
    "        return x"
   ]
  },
  {
   "cell_type": "code",
   "execution_count": 8,
   "metadata": {
    "colab": {
     "base_uri": "https://localhost:8080/"
    },
    "executionInfo": {
     "elapsed": 14706,
     "status": "ok",
     "timestamp": 1634005460314,
     "user": {
      "displayName": "‍박종혁(교원-빅데이터경영통계전공)",
      "photoUrl": "https://lh3.googleusercontent.com/a/default-user=s64",
      "userId": "05107650215573502422"
     },
     "user_tz": -540
    },
    "id": "nuj219xQn9lk",
    "outputId": "f14caba0-15f8-46c2-f9b3-3340f55b0870"
   },
   "outputs": [
    {
     "name": "stdout",
     "output_type": "stream",
     "text": [
      "CNN(\n",
      "  (conv1): Conv2d(3, 8, kernel_size=(3, 3), stride=(1, 1), padding=(1, 1))\n",
      "  (conv2): Conv2d(8, 16, kernel_size=(3, 3), stride=(1, 1), padding=(1, 1))\n",
      "  (pool): MaxPool2d(kernel_size=2, stride=2, padding=0, dilation=1, ceil_mode=False)\n",
      "  (fc1): Linear(in_features=1024, out_features=64, bias=True)\n",
      "  (fc2): Linear(in_features=64, out_features=32, bias=True)\n",
      "  (fc3): Linear(in_features=32, out_features=10, bias=True)\n",
      ")\n"
     ]
    }
   ],
   "source": [
    "''' 7. Optimizer, Objective Function 설정하기 '''\n",
    "model = CNN().to(DEVICE)\n",
    "optimizer = torch.optim.Adam(model.parameters(), lr = 0.001)\n",
    "criterion = nn.CrossEntropyLoss()\n",
    "\n",
    "print(model)"
   ]
  },
  {
   "cell_type": "code",
   "execution_count": 9,
   "metadata": {
    "executionInfo": {
     "elapsed": 221,
     "status": "ok",
     "timestamp": 1634005483953,
     "user": {
      "displayName": "‍박종혁(교원-빅데이터경영통계전공)",
      "photoUrl": "https://lh3.googleusercontent.com/a/default-user=s64",
      "userId": "05107650215573502422"
     },
     "user_tz": -540
    },
    "id": "MYy9pQfFn9lm"
   },
   "outputs": [],
   "source": [
    "''' 8. CNN 모델 학습을 진행하며 학습 데이터에 대한 모델 성능을 확인하는 함수 정의 '''\n",
    "def train(model, train_loader, optimizer, log_interval):\n",
    "    model.train()\n",
    "    for batch_idx, (image, label) in enumerate(train_loader):\n",
    "        image = image.to(DEVICE)\n",
    "        label = label.to(DEVICE)\n",
    "        optimizer.zero_grad()\n",
    "        output = model(image)\n",
    "        loss = criterion(output, label)\n",
    "        loss.backward()\n",
    "        optimizer.step()\n",
    "\n",
    "        if batch_idx % log_interval == 0:\n",
    "            print(\"Train Epoch: {} [{}/{} ({:.0f}%)]\\tTrain Loss: {:.6f}\".format(\n",
    "                epoch, batch_idx * len(image), \n",
    "                len(train_loader.dataset), 100. * batch_idx / len(train_loader), \n",
    "                loss.item()))"
   ]
  },
  {
   "cell_type": "code",
   "execution_count": 10,
   "metadata": {
    "executionInfo": {
     "elapsed": 209,
     "status": "ok",
     "timestamp": 1634005489488,
     "user": {
      "displayName": "‍박종혁(교원-빅데이터경영통계전공)",
      "photoUrl": "https://lh3.googleusercontent.com/a/default-user=s64",
      "userId": "05107650215573502422"
     },
     "user_tz": -540
    },
    "id": "4_emBVyHn9ln"
   },
   "outputs": [],
   "source": [
    "''' 9. 학습되는 과정 속에서 검증 데이터에 대한 모델 성능을 확인하는 함수 정의 '''\n",
    "def evaluate(model, test_loader):\n",
    "    model.eval()\n",
    "    test_loss = 0\n",
    "    correct = 0\n",
    "\n",
    "    with torch.no_grad():\n",
    "        for image, label in test_loader:\n",
    "            image = image.to(DEVICE)\n",
    "            label = label.to(DEVICE)\n",
    "            output = model(image)\n",
    "            test_loss += criterion(output, label).item()\n",
    "            prediction = output.max(1, keepdim = True)[1]\n",
    "            correct += prediction.eq(label.view_as(prediction)).sum().item()\n",
    "    \n",
    "    test_loss /= len(test_loader.dataset)\n",
    "    test_accuracy = 100. * correct / len(test_loader.dataset)\n",
    "    return test_loss, test_accuracy"
   ]
  },
  {
   "cell_type": "code",
   "execution_count": 11,
   "metadata": {
    "colab": {
     "base_uri": "https://localhost:8080/"
    },
    "executionInfo": {
     "elapsed": 160906,
     "status": "ok",
     "timestamp": 1634005652699,
     "user": {
      "displayName": "‍박종혁(교원-빅데이터경영통계전공)",
      "photoUrl": "https://lh3.googleusercontent.com/a/default-user=s64",
      "userId": "05107650215573502422"
     },
     "user_tz": -540
    },
    "id": "j5rd8tUan9lo",
    "outputId": "257ed941-4a95-480d-9f39-af245aed5a20"
   },
   "outputs": [
    {
     "name": "stderr",
     "output_type": "stream",
     "text": [
      "/usr/local/lib/python3.7/dist-packages/torch/nn/functional.py:718: UserWarning: Named tensors and all their associated APIs are an experimental feature and subject to change. Please do not use them for anything important until they are released as stable. (Triggered internally at  /pytorch/c10/core/TensorImpl.h:1156.)\n",
      "  return torch.max_pool2d(input, kernel_size, stride, padding, dilation, ceil_mode)\n"
     ]
    },
    {
     "name": "stdout",
     "output_type": "stream",
     "text": [
      "Train Epoch: 1 [0/50000 (0%)]\tTrain Loss: 2.304691\n",
      "Train Epoch: 1 [6400/50000 (13%)]\tTrain Loss: 2.015253\n",
      "Train Epoch: 1 [12800/50000 (26%)]\tTrain Loss: 1.734996\n",
      "Train Epoch: 1 [19200/50000 (38%)]\tTrain Loss: 1.325353\n",
      "Train Epoch: 1 [25600/50000 (51%)]\tTrain Loss: 1.878083\n",
      "Train Epoch: 1 [32000/50000 (64%)]\tTrain Loss: 1.533501\n",
      "Train Epoch: 1 [38400/50000 (77%)]\tTrain Loss: 1.209384\n",
      "Train Epoch: 1 [44800/50000 (90%)]\tTrain Loss: 1.435793\n",
      "\n",
      "[EPOCH: 1], \tTest Loss: 0.0452, \tTest Accuracy: 47.54 % \n",
      "\n",
      "Train Epoch: 2 [0/50000 (0%)]\tTrain Loss: 1.208927\n",
      "Train Epoch: 2 [6400/50000 (13%)]\tTrain Loss: 1.672823\n",
      "Train Epoch: 2 [12800/50000 (26%)]\tTrain Loss: 1.235877\n",
      "Train Epoch: 2 [19200/50000 (38%)]\tTrain Loss: 1.437228\n",
      "Train Epoch: 2 [25600/50000 (51%)]\tTrain Loss: 1.413998\n",
      "Train Epoch: 2 [32000/50000 (64%)]\tTrain Loss: 1.228146\n",
      "Train Epoch: 2 [38400/50000 (77%)]\tTrain Loss: 1.333617\n",
      "Train Epoch: 2 [44800/50000 (90%)]\tTrain Loss: 1.213360\n",
      "\n",
      "[EPOCH: 2], \tTest Loss: 0.0406, \tTest Accuracy: 53.27 % \n",
      "\n",
      "Train Epoch: 3 [0/50000 (0%)]\tTrain Loss: 1.708107\n",
      "Train Epoch: 3 [6400/50000 (13%)]\tTrain Loss: 1.238485\n",
      "Train Epoch: 3 [12800/50000 (26%)]\tTrain Loss: 1.374313\n",
      "Train Epoch: 3 [19200/50000 (38%)]\tTrain Loss: 1.353512\n",
      "Train Epoch: 3 [25600/50000 (51%)]\tTrain Loss: 1.517831\n",
      "Train Epoch: 3 [32000/50000 (64%)]\tTrain Loss: 1.121168\n",
      "Train Epoch: 3 [38400/50000 (77%)]\tTrain Loss: 1.289491\n",
      "Train Epoch: 3 [44800/50000 (90%)]\tTrain Loss: 0.930018\n",
      "\n",
      "[EPOCH: 3], \tTest Loss: 0.0392, \tTest Accuracy: 55.27 % \n",
      "\n",
      "Train Epoch: 4 [0/50000 (0%)]\tTrain Loss: 1.415236\n",
      "Train Epoch: 4 [6400/50000 (13%)]\tTrain Loss: 0.932869\n",
      "Train Epoch: 4 [12800/50000 (26%)]\tTrain Loss: 1.181443\n",
      "Train Epoch: 4 [19200/50000 (38%)]\tTrain Loss: 1.328553\n",
      "Train Epoch: 4 [25600/50000 (51%)]\tTrain Loss: 1.176314\n",
      "Train Epoch: 4 [32000/50000 (64%)]\tTrain Loss: 1.078474\n",
      "Train Epoch: 4 [38400/50000 (77%)]\tTrain Loss: 0.972200\n",
      "Train Epoch: 4 [44800/50000 (90%)]\tTrain Loss: 1.121493\n",
      "\n",
      "[EPOCH: 4], \tTest Loss: 0.0374, \tTest Accuracy: 57.41 % \n",
      "\n",
      "Train Epoch: 5 [0/50000 (0%)]\tTrain Loss: 1.205171\n",
      "Train Epoch: 5 [6400/50000 (13%)]\tTrain Loss: 0.921255\n",
      "Train Epoch: 5 [12800/50000 (26%)]\tTrain Loss: 1.481536\n",
      "Train Epoch: 5 [19200/50000 (38%)]\tTrain Loss: 1.044720\n",
      "Train Epoch: 5 [25600/50000 (51%)]\tTrain Loss: 1.704317\n",
      "Train Epoch: 5 [32000/50000 (64%)]\tTrain Loss: 1.281716\n",
      "Train Epoch: 5 [38400/50000 (77%)]\tTrain Loss: 1.106124\n",
      "Train Epoch: 5 [44800/50000 (90%)]\tTrain Loss: 1.296675\n",
      "\n",
      "[EPOCH: 5], \tTest Loss: 0.0355, \tTest Accuracy: 59.59 % \n",
      "\n",
      "Train Epoch: 6 [0/50000 (0%)]\tTrain Loss: 0.785532\n",
      "Train Epoch: 6 [6400/50000 (13%)]\tTrain Loss: 1.072767\n",
      "Train Epoch: 6 [12800/50000 (26%)]\tTrain Loss: 1.279621\n",
      "Train Epoch: 6 [19200/50000 (38%)]\tTrain Loss: 1.395387\n",
      "Train Epoch: 6 [25600/50000 (51%)]\tTrain Loss: 1.136671\n",
      "Train Epoch: 6 [32000/50000 (64%)]\tTrain Loss: 1.167976\n",
      "Train Epoch: 6 [38400/50000 (77%)]\tTrain Loss: 1.078274\n",
      "Train Epoch: 6 [44800/50000 (90%)]\tTrain Loss: 1.109064\n",
      "\n",
      "[EPOCH: 6], \tTest Loss: 0.0353, \tTest Accuracy: 60.10 % \n",
      "\n",
      "Train Epoch: 7 [0/50000 (0%)]\tTrain Loss: 1.293602\n",
      "Train Epoch: 7 [6400/50000 (13%)]\tTrain Loss: 1.314754\n",
      "Train Epoch: 7 [12800/50000 (26%)]\tTrain Loss: 0.843477\n",
      "Train Epoch: 7 [19200/50000 (38%)]\tTrain Loss: 1.123003\n",
      "Train Epoch: 7 [25600/50000 (51%)]\tTrain Loss: 1.040214\n",
      "Train Epoch: 7 [32000/50000 (64%)]\tTrain Loss: 0.972136\n",
      "Train Epoch: 7 [38400/50000 (77%)]\tTrain Loss: 0.872009\n",
      "Train Epoch: 7 [44800/50000 (90%)]\tTrain Loss: 1.090734\n",
      "\n",
      "[EPOCH: 7], \tTest Loss: 0.0347, \tTest Accuracy: 60.89 % \n",
      "\n",
      "Train Epoch: 8 [0/50000 (0%)]\tTrain Loss: 0.793979\n",
      "Train Epoch: 8 [6400/50000 (13%)]\tTrain Loss: 0.976858\n",
      "Train Epoch: 8 [12800/50000 (26%)]\tTrain Loss: 1.043446\n",
      "Train Epoch: 8 [19200/50000 (38%)]\tTrain Loss: 0.876102\n",
      "Train Epoch: 8 [25600/50000 (51%)]\tTrain Loss: 0.980497\n",
      "Train Epoch: 8 [32000/50000 (64%)]\tTrain Loss: 1.098601\n",
      "Train Epoch: 8 [38400/50000 (77%)]\tTrain Loss: 1.330523\n",
      "Train Epoch: 8 [44800/50000 (90%)]\tTrain Loss: 1.132585\n",
      "\n",
      "[EPOCH: 8], \tTest Loss: 0.0336, \tTest Accuracy: 62.94 % \n",
      "\n",
      "Train Epoch: 9 [0/50000 (0%)]\tTrain Loss: 1.144017\n",
      "Train Epoch: 9 [6400/50000 (13%)]\tTrain Loss: 0.952302\n",
      "Train Epoch: 9 [12800/50000 (26%)]\tTrain Loss: 0.774862\n",
      "Train Epoch: 9 [19200/50000 (38%)]\tTrain Loss: 1.152592\n",
      "Train Epoch: 9 [25600/50000 (51%)]\tTrain Loss: 1.044185\n",
      "Train Epoch: 9 [32000/50000 (64%)]\tTrain Loss: 1.238402\n",
      "Train Epoch: 9 [38400/50000 (77%)]\tTrain Loss: 1.075916\n",
      "Train Epoch: 9 [44800/50000 (90%)]\tTrain Loss: 1.340894\n",
      "\n",
      "[EPOCH: 9], \tTest Loss: 0.0332, \tTest Accuracy: 62.69 % \n",
      "\n",
      "Train Epoch: 10 [0/50000 (0%)]\tTrain Loss: 0.862369\n",
      "Train Epoch: 10 [6400/50000 (13%)]\tTrain Loss: 0.740825\n",
      "Train Epoch: 10 [12800/50000 (26%)]\tTrain Loss: 1.023841\n",
      "Train Epoch: 10 [19200/50000 (38%)]\tTrain Loss: 1.075534\n",
      "Train Epoch: 10 [25600/50000 (51%)]\tTrain Loss: 1.061634\n",
      "Train Epoch: 10 [32000/50000 (64%)]\tTrain Loss: 0.645679\n",
      "Train Epoch: 10 [38400/50000 (77%)]\tTrain Loss: 0.908584\n",
      "Train Epoch: 10 [44800/50000 (90%)]\tTrain Loss: 1.041089\n",
      "\n",
      "[EPOCH: 10], \tTest Loss: 0.0330, \tTest Accuracy: 63.07 % \n",
      "\n"
     ]
    }
   ],
   "source": [
    "''' 10. CNN 학습 실행하며 Train, Test set의 Loss 및 Test set Accuracy 확인하기 '''\n",
    "for epoch in range(1, EPOCHS + 1):\n",
    "    train(model, train_loader, optimizer, log_interval = 200)\n",
    "    test_loss, test_accuracy = evaluate(model, test_loader)\n",
    "    print(\"\\n[EPOCH: {}], \\tTest Loss: {:.4f}, \\tTest Accuracy: {:.2f} % \\n\".format(\n",
    "        epoch, test_loss, test_accuracy))"
   ]
  }
 ],
 "metadata": {
  "accelerator": "GPU",
  "colab": {
   "collapsed_sections": [],
   "name": "4-2_CIFAR_CNN.ipynb",
   "provenance": []
  },
  "kernelspec": {
   "display_name": "Python3.8_DL",
   "language": "python",
   "name": "dl"
  },
  "language_info": {
   "codemirror_mode": {
    "name": "ipython",
    "version": 3
   },
   "file_extension": ".py",
   "mimetype": "text/x-python",
   "name": "python",
   "nbconvert_exporter": "python",
   "pygments_lexer": "ipython3",
   "version": "3.8.8"
  },
  "widgets": {
   "application/vnd.jupyter.widget-state+json": {
    "3d28874628a54f7b821180f123ea84fb": {
     "model_module": "@jupyter-widgets/base",
     "model_module_version": "1.2.0",
     "model_name": "LayoutModel",
     "state": {
      "_model_module": "@jupyter-widgets/base",
      "_model_module_version": "1.2.0",
      "_model_name": "LayoutModel",
      "_view_count": null,
      "_view_module": "@jupyter-widgets/base",
      "_view_module_version": "1.2.0",
      "_view_name": "LayoutView",
      "align_content": null,
      "align_items": null,
      "align_self": null,
      "border": null,
      "bottom": null,
      "display": null,
      "flex": null,
      "flex_flow": null,
      "grid_area": null,
      "grid_auto_columns": null,
      "grid_auto_flow": null,
      "grid_auto_rows": null,
      "grid_column": null,
      "grid_gap": null,
      "grid_row": null,
      "grid_template_areas": null,
      "grid_template_columns": null,
      "grid_template_rows": null,
      "height": null,
      "justify_content": null,
      "justify_items": null,
      "left": null,
      "margin": null,
      "max_height": null,
      "max_width": null,
      "min_height": null,
      "min_width": null,
      "object_fit": null,
      "object_position": null,
      "order": null,
      "overflow": null,
      "overflow_x": null,
      "overflow_y": null,
      "padding": null,
      "right": null,
      "top": null,
      "visibility": null,
      "width": null
     }
    },
    "409d8976e9894fcca7553e5f01afc6f2": {
     "model_module": "@jupyter-widgets/base",
     "model_module_version": "1.2.0",
     "model_name": "LayoutModel",
     "state": {
      "_model_module": "@jupyter-widgets/base",
      "_model_module_version": "1.2.0",
      "_model_name": "LayoutModel",
      "_view_count": null,
      "_view_module": "@jupyter-widgets/base",
      "_view_module_version": "1.2.0",
      "_view_name": "LayoutView",
      "align_content": null,
      "align_items": null,
      "align_self": null,
      "border": null,
      "bottom": null,
      "display": null,
      "flex": null,
      "flex_flow": null,
      "grid_area": null,
      "grid_auto_columns": null,
      "grid_auto_flow": null,
      "grid_auto_rows": null,
      "grid_column": null,
      "grid_gap": null,
      "grid_row": null,
      "grid_template_areas": null,
      "grid_template_columns": null,
      "grid_template_rows": null,
      "height": null,
      "justify_content": null,
      "justify_items": null,
      "left": null,
      "margin": null,
      "max_height": null,
      "max_width": null,
      "min_height": null,
      "min_width": null,
      "object_fit": null,
      "object_position": null,
      "order": null,
      "overflow": null,
      "overflow_x": null,
      "overflow_y": null,
      "padding": null,
      "right": null,
      "top": null,
      "visibility": null,
      "width": null
     }
    },
    "5fa38a6a4ab442ffb485998b900eaaa0": {
     "model_module": "@jupyter-widgets/base",
     "model_module_version": "1.2.0",
     "model_name": "LayoutModel",
     "state": {
      "_model_module": "@jupyter-widgets/base",
      "_model_module_version": "1.2.0",
      "_model_name": "LayoutModel",
      "_view_count": null,
      "_view_module": "@jupyter-widgets/base",
      "_view_module_version": "1.2.0",
      "_view_name": "LayoutView",
      "align_content": null,
      "align_items": null,
      "align_self": null,
      "border": null,
      "bottom": null,
      "display": null,
      "flex": null,
      "flex_flow": null,
      "grid_area": null,
      "grid_auto_columns": null,
      "grid_auto_flow": null,
      "grid_auto_rows": null,
      "grid_column": null,
      "grid_gap": null,
      "grid_row": null,
      "grid_template_areas": null,
      "grid_template_columns": null,
      "grid_template_rows": null,
      "height": null,
      "justify_content": null,
      "justify_items": null,
      "left": null,
      "margin": null,
      "max_height": null,
      "max_width": null,
      "min_height": null,
      "min_width": null,
      "object_fit": null,
      "object_position": null,
      "order": null,
      "overflow": null,
      "overflow_x": null,
      "overflow_y": null,
      "padding": null,
      "right": null,
      "top": null,
      "visibility": null,
      "width": null
     }
    },
    "a46ec290c44649ce956109b8d1d9f88c": {
     "model_module": "@jupyter-widgets/controls",
     "model_module_version": "1.5.0",
     "model_name": "DescriptionStyleModel",
     "state": {
      "_model_module": "@jupyter-widgets/controls",
      "_model_module_version": "1.5.0",
      "_model_name": "DescriptionStyleModel",
      "_view_count": null,
      "_view_module": "@jupyter-widgets/base",
      "_view_module_version": "1.2.0",
      "_view_name": "StyleView",
      "description_width": ""
     }
    },
    "a5bd6172a79241eea13d60159b35cc86": {
     "model_module": "@jupyter-widgets/controls",
     "model_module_version": "1.5.0",
     "model_name": "DescriptionStyleModel",
     "state": {
      "_model_module": "@jupyter-widgets/controls",
      "_model_module_version": "1.5.0",
      "_model_name": "DescriptionStyleModel",
      "_view_count": null,
      "_view_module": "@jupyter-widgets/base",
      "_view_module_version": "1.2.0",
      "_view_name": "StyleView",
      "description_width": ""
     }
    },
    "b666df32b3a3431e8e4cfeae4bc3d3bb": {
     "model_module": "@jupyter-widgets/base",
     "model_module_version": "1.2.0",
     "model_name": "LayoutModel",
     "state": {
      "_model_module": "@jupyter-widgets/base",
      "_model_module_version": "1.2.0",
      "_model_name": "LayoutModel",
      "_view_count": null,
      "_view_module": "@jupyter-widgets/base",
      "_view_module_version": "1.2.0",
      "_view_name": "LayoutView",
      "align_content": null,
      "align_items": null,
      "align_self": null,
      "border": null,
      "bottom": null,
      "display": null,
      "flex": null,
      "flex_flow": null,
      "grid_area": null,
      "grid_auto_columns": null,
      "grid_auto_flow": null,
      "grid_auto_rows": null,
      "grid_column": null,
      "grid_gap": null,
      "grid_row": null,
      "grid_template_areas": null,
      "grid_template_columns": null,
      "grid_template_rows": null,
      "height": null,
      "justify_content": null,
      "justify_items": null,
      "left": null,
      "margin": null,
      "max_height": null,
      "max_width": null,
      "min_height": null,
      "min_width": null,
      "object_fit": null,
      "object_position": null,
      "order": null,
      "overflow": null,
      "overflow_x": null,
      "overflow_y": null,
      "padding": null,
      "right": null,
      "top": null,
      "visibility": null,
      "width": null
     }
    },
    "c4cf966e23e149a58d51170972592270": {
     "model_module": "@jupyter-widgets/controls",
     "model_module_version": "1.5.0",
     "model_name": "ProgressStyleModel",
     "state": {
      "_model_module": "@jupyter-widgets/controls",
      "_model_module_version": "1.5.0",
      "_model_name": "ProgressStyleModel",
      "_view_count": null,
      "_view_module": "@jupyter-widgets/base",
      "_view_module_version": "1.2.0",
      "_view_name": "StyleView",
      "bar_color": null,
      "description_width": ""
     }
    },
    "c8c3249db8b541fe9ddc99c186f4d002": {
     "model_module": "@jupyter-widgets/controls",
     "model_module_version": "1.5.0",
     "model_name": "HTMLModel",
     "state": {
      "_dom_classes": [],
      "_model_module": "@jupyter-widgets/controls",
      "_model_module_version": "1.5.0",
      "_model_name": "HTMLModel",
      "_view_count": null,
      "_view_module": "@jupyter-widgets/controls",
      "_view_module_version": "1.5.0",
      "_view_name": "HTMLView",
      "description": "",
      "description_tooltip": null,
      "layout": "IPY_MODEL_b666df32b3a3431e8e4cfeae4bc3d3bb",
      "placeholder": "​",
      "style": "IPY_MODEL_a5bd6172a79241eea13d60159b35cc86",
      "value": ""
     }
    },
    "efa6a52fe8804a47b7abcefb267b41ef": {
     "model_module": "@jupyter-widgets/controls",
     "model_module_version": "1.5.0",
     "model_name": "HBoxModel",
     "state": {
      "_dom_classes": [],
      "_model_module": "@jupyter-widgets/controls",
      "_model_module_version": "1.5.0",
      "_model_name": "HBoxModel",
      "_view_count": null,
      "_view_module": "@jupyter-widgets/controls",
      "_view_module_version": "1.5.0",
      "_view_name": "HBoxView",
      "box_style": "",
      "children": [
       "IPY_MODEL_c8c3249db8b541fe9ddc99c186f4d002",
       "IPY_MODEL_f4dd354506454f3290d11dbcbf49cb95",
       "IPY_MODEL_fc891b9fc4b84eb0ab7dbe701d969f4a"
      ],
      "layout": "IPY_MODEL_409d8976e9894fcca7553e5f01afc6f2"
     }
    },
    "f4dd354506454f3290d11dbcbf49cb95": {
     "model_module": "@jupyter-widgets/controls",
     "model_module_version": "1.5.0",
     "model_name": "FloatProgressModel",
     "state": {
      "_dom_classes": [],
      "_model_module": "@jupyter-widgets/controls",
      "_model_module_version": "1.5.0",
      "_model_name": "FloatProgressModel",
      "_view_count": null,
      "_view_module": "@jupyter-widgets/controls",
      "_view_module_version": "1.5.0",
      "_view_name": "ProgressView",
      "bar_style": "success",
      "description": "",
      "description_tooltip": null,
      "layout": "IPY_MODEL_3d28874628a54f7b821180f123ea84fb",
      "max": 170498071,
      "min": 0,
      "orientation": "horizontal",
      "style": "IPY_MODEL_c4cf966e23e149a58d51170972592270",
      "value": 170498071
     }
    },
    "fc891b9fc4b84eb0ab7dbe701d969f4a": {
     "model_module": "@jupyter-widgets/controls",
     "model_module_version": "1.5.0",
     "model_name": "HTMLModel",
     "state": {
      "_dom_classes": [],
      "_model_module": "@jupyter-widgets/controls",
      "_model_module_version": "1.5.0",
      "_model_name": "HTMLModel",
      "_view_count": null,
      "_view_module": "@jupyter-widgets/controls",
      "_view_module_version": "1.5.0",
      "_view_name": "HTMLView",
      "description": "",
      "description_tooltip": null,
      "layout": "IPY_MODEL_5fa38a6a4ab442ffb485998b900eaaa0",
      "placeholder": "​",
      "style": "IPY_MODEL_a46ec290c44649ce956109b8d1d9f88c",
      "value": " 170499072/? [00:03&lt;00:00, 60798474.58it/s]"
     }
    }
   }
  }
 },
 "nbformat": 4,
 "nbformat_minor": 1
}
