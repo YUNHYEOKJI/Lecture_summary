{
 "cells": [
  {
   "cell_type": "markdown",
   "metadata": {
    "id": "U0ACgZSUjsp1"
   },
   "source": [
    "# 컬러 이미지 데이터셋인 CIFAR-10 을 사용하여 모델 설계 및 성능 확인\n"
   ]
  },
  {
   "cell_type": "code",
   "execution_count": 1,
   "metadata": {
    "executionInfo": {
     "elapsed": 25379,
     "status": "ok",
     "timestamp": 1634003988374,
     "user": {
      "displayName": "‍박종혁(교원-빅데이터경영통계전공)",
      "photoUrl": "https://lh3.googleusercontent.com/a/default-user=s64",
      "userId": "05107650215573502422"
     },
     "user_tz": -540
    },
    "id": "tU80RKkWjb_p"
   },
   "outputs": [],
   "source": [
    "''' 1. Module Import '''\n",
    "import numpy as np\n",
    "import matplotlib.pyplot as plt\n",
    "\n",
    "import torch\n",
    "import torch.nn as nn\n",
    "import torch.nn.functional as F\n",
    "from torchvision import transforms, datasets"
   ]
  },
  {
   "cell_type": "code",
   "execution_count": 2,
   "metadata": {
    "colab": {
     "base_uri": "https://localhost:8080/"
    },
    "executionInfo": {
     "elapsed": 515,
     "status": "ok",
     "timestamp": 1634003991468,
     "user": {
      "displayName": "‍박종혁(교원-빅데이터경영통계전공)",
      "photoUrl": "https://lh3.googleusercontent.com/a/default-user=s64",
      "userId": "05107650215573502422"
     },
     "user_tz": -540
    },
    "id": "ErqU7x3Zjb_s",
    "outputId": "8ff78761-74fa-43a3-c5f2-ca7cc0819e8c"
   },
   "outputs": [
    {
     "name": "stdout",
     "output_type": "stream",
     "text": [
      "Using PyTorch version: 1.9.1+cu111  Device: cuda\n"
     ]
    }
   ],
   "source": [
    "''' 2. 딥러닝 모델을 설계할 때 활용하는 장비 확인 '''\n",
    "if torch.cuda.is_available():\n",
    "    DEVICE = torch.device('cuda')\n",
    "else:\n",
    "    DEVICE = torch.device('cpu')\n",
    "print('Using PyTorch version:', torch.__version__, ' Device:', DEVICE)"
   ]
  },
  {
   "cell_type": "code",
   "execution_count": 3,
   "metadata": {
    "executionInfo": {
     "elapsed": 440,
     "status": "ok",
     "timestamp": 1634004000686,
     "user": {
      "displayName": "‍박종혁(교원-빅데이터경영통계전공)",
      "photoUrl": "https://lh3.googleusercontent.com/a/default-user=s64",
      "userId": "05107650215573502422"
     },
     "user_tz": -540
    },
    "id": "DiVeEAX7jb_t"
   },
   "outputs": [],
   "source": [
    "BATCH_SIZE = 32\n",
    "EPOCHS = 10"
   ]
  },
  {
   "cell_type": "markdown",
   "metadata": {
    "id": "a10koQ9wkVa6"
   },
   "source": [
    "- MNIST 데이터셋과 같은 방식으로, `torchvision`의 `datasets`로부터 CIFAR-10 데이터셋 다운로드\n",
    "  - `root`: 데이터가 저장될 장소 경로 지정 `../`은 상위폴더 의미\n",
    "  - `train`: training 데이터셋인지, test 데이터셋인지 설정(True면 training 데이터셋)\n",
    "  - `download`: 인터넷에서 다운로드해 이용할 것인지 결정하는 요소\n",
    "  - `transform`: 다운로드할 때 기본적인 전처리 동시에 진행할 수 있음, 여기서는 `transforms.ToTensor()`를 이용하였는데, Tensor 형태로 변환하고, pixel값을 255로 나누어 0~1 사이의 숫자로 정규화하는 과정이 포함되어 있음\n",
    "    - `transforms.ToTensor()` :  `PIL` 이미지나, numpy.ndarray (H x W x C) in the range [0, 255] 형태로 표현된 이미지를 shape (C x H x W) in the range [0.0, 1.0]의 `torch.FloatTensor`으로 바꿔줌\n",
    "\n",
    "- `DataLoader`: 다운로드한 dataset을 mini-batch 단위로 분리하여 불러오기 위한 loader\n",
    "  `shuffle`: 데이터의 순서를 섞고자할 때"
   ]
  },
  {
   "cell_type": "code",
   "execution_count": 4,
   "metadata": {
    "colab": {
     "base_uri": "https://localhost:8080/",
     "height": 85,
     "referenced_widgets": [
      "956a14bb3c6c43cfa1a01b34f95426b2",
      "cf35abb2d3fe4f599cabc82fa9e8fbf8",
      "efe9da736b644beea8d2fa39d212133e",
      "48941e9ccb6e41e9a8ebdcbed3e5c1ee",
      "0ab293038f5f4759a037da8879d114f3",
      "7bc64afe51fc469f8ca8391a2023bb9d",
      "02981ca624bb48faaa8c485eb837e80d",
      "cf389f606e0544f583b31421d9a6d00c",
      "a85cc39235e14d60829aeb9ee6f12cde",
      "f695e897cad747b9b970d6e0c3e9cdce",
      "1f762d6826a941318dd1c90abe117a82"
     ]
    },
    "executionInfo": {
     "elapsed": 17217,
     "status": "ok",
     "timestamp": 1634004218166,
     "user": {
      "displayName": "‍박종혁(교원-빅데이터경영통계전공)",
      "photoUrl": "https://lh3.googleusercontent.com/a/default-user=s64",
      "userId": "05107650215573502422"
     },
     "user_tz": -540
    },
    "id": "3ZX8aR3rjb_t",
    "outputId": "ee361681-e785-4857-d9a2-64b7b3dcfe06"
   },
   "outputs": [
    {
     "name": "stdout",
     "output_type": "stream",
     "text": [
      "Downloading https://www.cs.toronto.edu/~kriz/cifar-10-python.tar.gz to ../data/CIFAR_10\\cifar-10-python.tar.gz\n"
     ]
    },
    {
     "data": {
      "application/vnd.jupyter.widget-view+json": {
       "model_id": "117a49cf00f44088af773400298f00f0",
       "version_major": 2,
       "version_minor": 0
      },
      "text/plain": [
       "  0%|          | 0/170498071 [00:00<?, ?it/s]"
      ]
     },
     "metadata": {},
     "output_type": "display_data"
    },
    {
     "name": "stdout",
     "output_type": "stream",
     "text": [
      "Extracting ../data/CIFAR_10\\cifar-10-python.tar.gz to ../data/CIFAR_10\n"
     ]
    }
   ],
   "source": [
    "''' 3. CIFAR10 데이터 다운로드 (Train set, Test set 분리하기) '''\n",
    "train_dataset = datasets.CIFAR10(root = \"../data/CIFAR_10\",\n",
    "                                  train = True,\n",
    "                                  download = True,\n",
    "                                  transform = transforms.ToTensor())\n",
    "\n",
    "test_dataset = datasets.CIFAR10(root = \"../data/CIFAR_10\",\n",
    "                                train = False,\n",
    "                                transform = transforms.ToTensor())\n",
    "\n",
    "train_loader = torch.utils.data.DataLoader(dataset = train_dataset,\n",
    "                                            batch_size = BATCH_SIZE,\n",
    "                                            shuffle = True)\n",
    "\n",
    "test_loader = torch.utils.data.DataLoader(dataset = test_dataset,\n",
    "                                          batch_size = BATCH_SIZE,\n",
    "                                          shuffle = False)"
   ]
  },
  {
   "cell_type": "code",
   "execution_count": 5,
   "metadata": {
    "colab": {
     "base_uri": "https://localhost:8080/"
    },
    "executionInfo": {
     "elapsed": 416,
     "status": "ok",
     "timestamp": 1634004222977,
     "user": {
      "displayName": "‍박종혁(교원-빅데이터경영통계전공)",
      "photoUrl": "https://lh3.googleusercontent.com/a/default-user=s64",
      "userId": "05107650215573502422"
     },
     "user_tz": -540
    },
    "id": "2M7fBOK1jb_u",
    "outputId": "4fb5c49d-8216-4236-fbcf-954c9dae7ee4"
   },
   "outputs": [
    {
     "name": "stdout",
     "output_type": "stream",
     "text": [
      "X_train: torch.Size([32, 3, 32, 32]) type: torch.FloatTensor\n",
      "y_train: torch.Size([32]) type: torch.LongTensor\n"
     ]
    }
   ],
   "source": [
    "''' 4. 데이터 확인하기 (1) '''\n",
    "for (X_train, y_train) in train_loader:\n",
    "    print('X_train:', X_train.size(), 'type:', X_train.type())\n",
    "    print('y_train:', y_train.size(), 'type:', y_train.type())\n",
    "    break"
   ]
  },
  {
   "cell_type": "code",
   "execution_count": 6,
   "metadata": {
    "colab": {
     "base_uri": "https://localhost:8080/",
     "height": 94
    },
    "executionInfo": {
     "elapsed": 1243,
     "status": "ok",
     "timestamp": 1634004285401,
     "user": {
      "displayName": "‍박종혁(교원-빅데이터경영통계전공)",
      "photoUrl": "https://lh3.googleusercontent.com/a/default-user=s64",
      "userId": "05107650215573502422"
     },
     "user_tz": -540
    },
    "id": "85n2YcuLjb_u",
    "outputId": "92d26bef-0799-4ba5-ba4a-16200ed61843"
   },
   "outputs": [
    {
     "data": {
      "image/png": "[encoded data removed]",
      "text/plain": [
       "<Figure size 720x72 with 10 Axes>"
      ]
     },
     "metadata": {
      "needs_background": "light"
     },
     "output_type": "display_data"
    }
   ],
   "source": [
    "''' 5. 데이터 확인하기 (2) '''\n",
    "pltsize = 1\n",
    "plt.figure(figsize=(10 * pltsize, pltsize))\n",
    "\n",
    "for i in range(10):\n",
    "    plt.subplot(1, 10, i + 1)\n",
    "    plt.axis('off')\n",
    "    plt.imshow(np.transpose(X_train[i], (1, 2, 0)))\n",
    "    plt.title('Class: ' + str(y_train[i].item()))"
   ]
  },
  {
   "cell_type": "code",
   "execution_count": 7,
   "metadata": {
    "executionInfo": {
     "elapsed": 397,
     "status": "ok",
     "timestamp": 1634004369233,
     "user": {
      "displayName": "‍박종혁(교원-빅데이터경영통계전공)",
      "photoUrl": "https://lh3.googleusercontent.com/a/default-user=s64",
      "userId": "05107650215573502422"
     },
     "user_tz": -540
    },
    "id": "P7gtU3q1jb_v"
   },
   "outputs": [],
   "source": [
    "''' 6. Multi Layer Perceptron (MLP) 모델 설계하기 '''\n",
    "class Net(nn.Module):\n",
    "    def __init__(self):\n",
    "        super(Net, self).__init__()\n",
    "        self.fc1 = nn.Linear(32 * 32 * 3, 512)\n",
    "        self.fc2 = nn.Linear(512, 256)\n",
    "        self.fc3 = nn.Linear(256, 10)\n",
    "\n",
    "    def forward(self, x):\n",
    "        x = x.view(-1, 32 * 32 * 3)\n",
    "        x = self.fc1(x)\n",
    "        x = F.relu(x)\n",
    "        x = self.fc2(x)\n",
    "        x = F.relu(x)\n",
    "        x = self.fc3(x)\n",
    "        # x = F.log_softmax(x, dim = 1)\n",
    "        return x "
   ]
  },
  {
   "cell_type": "code",
   "execution_count": 8,
   "metadata": {
    "colab": {
     "base_uri": "https://localhost:8080/"
    },
    "executionInfo": {
     "elapsed": 14975,
     "status": "ok",
     "timestamp": 1634004449642,
     "user": {
      "displayName": "‍박종혁(교원-빅데이터경영통계전공)",
      "photoUrl": "https://lh3.googleusercontent.com/a/default-user=s64",
      "userId": "05107650215573502422"
     },
     "user_tz": -540
    },
    "id": "LjsrXOORjb_w",
    "outputId": "68838bdf-a710-41f6-cf57-fc025ebc2200"
   },
   "outputs": [
    {
     "name": "stdout",
     "output_type": "stream",
     "text": [
      "Net(\n",
      "  (fc1): Linear(in_features=3072, out_features=512, bias=True)\n",
      "  (fc2): Linear(in_features=512, out_features=256, bias=True)\n",
      "  (fc3): Linear(in_features=256, out_features=10, bias=True)\n",
      ")\n"
     ]
    }
   ],
   "source": [
    "''' 7. Optimizer, Objective Function 설정하기 '''\n",
    "model = Net().to(DEVICE)\n",
    "optimizer = torch.optim.Adam(model.parameters(), lr = 0.001)\n",
    "criterion = nn.CrossEntropyLoss()\n",
    "\n",
    "print(model)"
   ]
  },
  {
   "cell_type": "code",
   "execution_count": 9,
   "metadata": {
    "executionInfo": {
     "elapsed": 539,
     "status": "ok",
     "timestamp": 1634004463505,
     "user": {
      "displayName": "‍박종혁(교원-빅데이터경영통계전공)",
      "photoUrl": "https://lh3.googleusercontent.com/a/default-user=s64",
      "userId": "05107650215573502422"
     },
     "user_tz": -540
    },
    "id": "_I5wyzQejb_w"
   },
   "outputs": [],
   "source": [
    "''' 8. MLP 모델 학습을 진행하며 학습 데이터에 대한 모델 성능을 확인하는 함수 정의 '''\n",
    "def train(model, train_loader, optimizer, log_interval):\n",
    "    model.train()\n",
    "    for batch_idx, (image, label) in enumerate(train_loader):\n",
    "        image = image.to(DEVICE)\n",
    "        label = label.to(DEVICE)\n",
    "        optimizer.zero_grad()\n",
    "        output = model(image)\n",
    "        loss = criterion(output, label)\n",
    "        loss.backward()\n",
    "        optimizer.step()\n",
    "\n",
    "        if batch_idx % log_interval == 0:\n",
    "            print(\"Train Epoch: {} [{}/{} ({:.0f}%)]\\tTrain Loss: {:.6f}\".format(\n",
    "                epoch, batch_idx * len(image), \n",
    "                len(train_loader.dataset), 100. * batch_idx / len(train_loader), \n",
    "                loss.item()))"
   ]
  },
  {
   "cell_type": "code",
   "execution_count": 10,
   "metadata": {
    "executionInfo": {
     "elapsed": 404,
     "status": "ok",
     "timestamp": 1634004469517,
     "user": {
      "displayName": "‍박종혁(교원-빅데이터경영통계전공)",
      "photoUrl": "https://lh3.googleusercontent.com/a/default-user=s64",
      "userId": "05107650215573502422"
     },
     "user_tz": -540
    },
    "id": "CDeaxxHxjb_x"
   },
   "outputs": [],
   "source": [
    "''' 9. 학습되는 과정 속에서 검증 데이터에 대한 모델 성능을 확인하는 함수 정의 '''\n",
    "def evaluate(model, test_loader):\n",
    "    model.eval()\n",
    "    test_loss = 0\n",
    "    correct = 0\n",
    "\n",
    "    with torch.no_grad():\n",
    "        for image, label in test_loader:\n",
    "            image = image.to(DEVICE)\n",
    "            label = label.to(DEVICE)\n",
    "            output = model(image)\n",
    "            test_loss += criterion(output, label).item()\n",
    "            prediction = output.max(1, keepdim = True)[1]\n",
    "            correct += prediction.eq(label.view_as(prediction)).sum().item()\n",
    "    \n",
    "    test_loss /= len(test_loader.dataset)\n",
    "    test_accuracy = 100. * correct / len(test_loader.dataset)\n",
    "    return test_loss, test_accuracy"
   ]
  },
  {
   "cell_type": "code",
   "execution_count": 11,
   "metadata": {
    "colab": {
     "base_uri": "https://localhost:8080/"
    },
    "executionInfo": {
     "elapsed": 135444,
     "status": "ok",
     "timestamp": 1634004607801,
     "user": {
      "displayName": "‍박종혁(교원-빅데이터경영통계전공)",
      "photoUrl": "https://lh3.googleusercontent.com/a/default-user=s64",
      "userId": "05107650215573502422"
     },
     "user_tz": -540
    },
    "id": "S0ML_b_rjb_x",
    "outputId": "272d91ed-95aa-40a8-acbf-b24fa7b20b03"
   },
   "outputs": [
    {
     "name": "stdout",
     "output_type": "stream",
     "text": [
      "Train Epoch: 1 [0/50000 (0%)]\tTrain Loss: 2.301050\n",
      "Train Epoch: 1 [6400/50000 (13%)]\tTrain Loss: 2.323016\n",
      "Train Epoch: 1 [12800/50000 (26%)]\tTrain Loss: 1.763090\n",
      "Train Epoch: 1 [19200/50000 (38%)]\tTrain Loss: 1.860189\n",
      "Train Epoch: 1 [25600/50000 (51%)]\tTrain Loss: 1.748650\n",
      "Train Epoch: 1 [32000/50000 (64%)]\tTrain Loss: 1.770729\n",
      "Train Epoch: 1 [38400/50000 (77%)]\tTrain Loss: 1.771522\n",
      "Train Epoch: 1 [44800/50000 (90%)]\tTrain Loss: 1.825855\n",
      "\n",
      "[EPOCH: 1], \tTest Loss: 0.0536, \tTest Accuracy: 37.31 % \n",
      "\n",
      "Train Epoch: 2 [0/50000 (0%)]\tTrain Loss: 1.710838\n",
      "Train Epoch: 2 [6400/50000 (13%)]\tTrain Loss: 2.004338\n",
      "Train Epoch: 2 [12800/50000 (26%)]\tTrain Loss: 2.079098\n",
      "Train Epoch: 2 [19200/50000 (38%)]\tTrain Loss: 1.775668\n",
      "Train Epoch: 2 [25600/50000 (51%)]\tTrain Loss: 1.603396\n",
      "Train Epoch: 2 [32000/50000 (64%)]\tTrain Loss: 1.451355\n",
      "Train Epoch: 2 [38400/50000 (77%)]\tTrain Loss: 1.611534\n",
      "Train Epoch: 2 [44800/50000 (90%)]\tTrain Loss: 1.487674\n",
      "\n",
      "[EPOCH: 2], \tTest Loss: 0.0510, \tTest Accuracy: 41.60 % \n",
      "\n",
      "Train Epoch: 3 [0/50000 (0%)]\tTrain Loss: 1.511026\n",
      "Train Epoch: 3 [6400/50000 (13%)]\tTrain Loss: 1.656548\n",
      "Train Epoch: 3 [12800/50000 (26%)]\tTrain Loss: 1.449617\n",
      "Train Epoch: 3 [19200/50000 (38%)]\tTrain Loss: 1.626949\n",
      "Train Epoch: 3 [25600/50000 (51%)]\tTrain Loss: 1.370560\n",
      "Train Epoch: 3 [32000/50000 (64%)]\tTrain Loss: 1.652493\n",
      "Train Epoch: 3 [38400/50000 (77%)]\tTrain Loss: 1.606421\n",
      "Train Epoch: 3 [44800/50000 (90%)]\tTrain Loss: 1.342375\n",
      "\n",
      "[EPOCH: 3], \tTest Loss: 0.0495, \tTest Accuracy: 43.54 % \n",
      "\n",
      "Train Epoch: 4 [0/50000 (0%)]\tTrain Loss: 1.351364\n",
      "Train Epoch: 4 [6400/50000 (13%)]\tTrain Loss: 1.449456\n",
      "Train Epoch: 4 [12800/50000 (26%)]\tTrain Loss: 1.665214\n",
      "Train Epoch: 4 [19200/50000 (38%)]\tTrain Loss: 1.389332\n",
      "Train Epoch: 4 [25600/50000 (51%)]\tTrain Loss: 1.821716\n",
      "Train Epoch: 4 [32000/50000 (64%)]\tTrain Loss: 1.870275\n",
      "Train Epoch: 4 [38400/50000 (77%)]\tTrain Loss: 1.524577\n",
      "Train Epoch: 4 [44800/50000 (90%)]\tTrain Loss: 1.527728\n",
      "\n",
      "[EPOCH: 4], \tTest Loss: 0.0478, \tTest Accuracy: 45.42 % \n",
      "\n",
      "Train Epoch: 5 [0/50000 (0%)]\tTrain Loss: 1.318244\n",
      "Train Epoch: 5 [6400/50000 (13%)]\tTrain Loss: 1.521389\n",
      "Train Epoch: 5 [12800/50000 (26%)]\tTrain Loss: 1.480900\n",
      "Train Epoch: 5 [19200/50000 (38%)]\tTrain Loss: 1.251227\n",
      "Train Epoch: 5 [25600/50000 (51%)]\tTrain Loss: 1.551863\n",
      "Train Epoch: 5 [32000/50000 (64%)]\tTrain Loss: 1.665946\n",
      "Train Epoch: 5 [38400/50000 (77%)]\tTrain Loss: 1.556663\n",
      "Train Epoch: 5 [44800/50000 (90%)]\tTrain Loss: 1.583091\n",
      "\n",
      "[EPOCH: 5], \tTest Loss: 0.0475, \tTest Accuracy: 45.78 % \n",
      "\n",
      "Train Epoch: 6 [0/50000 (0%)]\tTrain Loss: 1.395444\n",
      "Train Epoch: 6 [6400/50000 (13%)]\tTrain Loss: 1.247832\n",
      "Train Epoch: 6 [12800/50000 (26%)]\tTrain Loss: 1.406390\n",
      "Train Epoch: 6 [19200/50000 (38%)]\tTrain Loss: 1.676589\n",
      "Train Epoch: 6 [25600/50000 (51%)]\tTrain Loss: 1.718060\n",
      "Train Epoch: 6 [32000/50000 (64%)]\tTrain Loss: 1.380440\n",
      "Train Epoch: 6 [38400/50000 (77%)]\tTrain Loss: 1.900798\n",
      "Train Epoch: 6 [44800/50000 (90%)]\tTrain Loss: 1.489555\n",
      "\n",
      "[EPOCH: 6], \tTest Loss: 0.0463, \tTest Accuracy: 47.20 % \n",
      "\n",
      "Train Epoch: 7 [0/50000 (0%)]\tTrain Loss: 1.303016\n",
      "Train Epoch: 7 [6400/50000 (13%)]\tTrain Loss: 1.353630\n",
      "Train Epoch: 7 [12800/50000 (26%)]\tTrain Loss: 1.411973\n",
      "Train Epoch: 7 [19200/50000 (38%)]\tTrain Loss: 1.686701\n",
      "Train Epoch: 7 [25600/50000 (51%)]\tTrain Loss: 1.577092\n",
      "Train Epoch: 7 [32000/50000 (64%)]\tTrain Loss: 1.513629\n",
      "Train Epoch: 7 [38400/50000 (77%)]\tTrain Loss: 1.594830\n",
      "Train Epoch: 7 [44800/50000 (90%)]\tTrain Loss: 1.419933\n",
      "\n",
      "[EPOCH: 7], \tTest Loss: 0.0480, \tTest Accuracy: 45.63 % \n",
      "\n",
      "Train Epoch: 8 [0/50000 (0%)]\tTrain Loss: 1.548966\n",
      "Train Epoch: 8 [6400/50000 (13%)]\tTrain Loss: 1.726211\n",
      "Train Epoch: 8 [12800/50000 (26%)]\tTrain Loss: 1.287285\n",
      "Train Epoch: 8 [19200/50000 (38%)]\tTrain Loss: 1.282420\n",
      "Train Epoch: 8 [25600/50000 (51%)]\tTrain Loss: 1.737228\n",
      "Train Epoch: 8 [32000/50000 (64%)]\tTrain Loss: 1.075537\n",
      "Train Epoch: 8 [38400/50000 (77%)]\tTrain Loss: 1.429789\n",
      "Train Epoch: 8 [44800/50000 (90%)]\tTrain Loss: 1.735194\n",
      "\n",
      "[EPOCH: 8], \tTest Loss: 0.0462, \tTest Accuracy: 46.85 % \n",
      "\n",
      "Train Epoch: 9 [0/50000 (0%)]\tTrain Loss: 1.318047\n",
      "Train Epoch: 9 [6400/50000 (13%)]\tTrain Loss: 1.124975\n",
      "Train Epoch: 9 [12800/50000 (26%)]\tTrain Loss: 1.447056\n",
      "Train Epoch: 9 [19200/50000 (38%)]\tTrain Loss: 1.403181\n",
      "Train Epoch: 9 [25600/50000 (51%)]\tTrain Loss: 1.278723\n",
      "Train Epoch: 9 [32000/50000 (64%)]\tTrain Loss: 1.286796\n",
      "Train Epoch: 9 [38400/50000 (77%)]\tTrain Loss: 1.259905\n",
      "Train Epoch: 9 [44800/50000 (90%)]\tTrain Loss: 1.918667\n",
      "\n",
      "[EPOCH: 9], \tTest Loss: 0.0460, \tTest Accuracy: 47.01 % \n",
      "\n",
      "Train Epoch: 10 [0/50000 (0%)]\tTrain Loss: 1.375608\n",
      "Train Epoch: 10 [6400/50000 (13%)]\tTrain Loss: 1.345085\n",
      "Train Epoch: 10 [12800/50000 (26%)]\tTrain Loss: 1.576102\n",
      "Train Epoch: 10 [19200/50000 (38%)]\tTrain Loss: 1.283262\n",
      "Train Epoch: 10 [25600/50000 (51%)]\tTrain Loss: 1.246236\n",
      "Train Epoch: 10 [32000/50000 (64%)]\tTrain Loss: 1.680281\n",
      "Train Epoch: 10 [38400/50000 (77%)]\tTrain Loss: 1.342924\n",
      "Train Epoch: 10 [44800/50000 (90%)]\tTrain Loss: 1.503756\n",
      "\n",
      "[EPOCH: 10], \tTest Loss: 0.0467, \tTest Accuracy: 46.94 % \n",
      "\n"
     ]
    }
   ],
   "source": [
    "''' 10. MLP 학습 실행하며 Train, Test set의 Loss 및 Test set Accuracy 확인하기 '''\n",
    "for epoch in range(1, EPOCHS + 1):\n",
    "    train(model, train_loader, optimizer, log_interval = 200)\n",
    "    test_loss, test_accuracy = evaluate(model, test_loader)\n",
    "    print(\"\\n[EPOCH: {}], \\tTest Loss: {:.4f}, \\tTest Accuracy: {:.2f} % \\n\".format(\n",
    "        epoch, test_loss, test_accuracy))"
   ]
  }
 ],
 "metadata": {
  "accelerator": "GPU",
  "colab": {
   "collapsed_sections": [],
   "name": "4-1_CIFAR_MLP.ipynb",
   "provenance": []
  },
  "kernelspec": {
   "display_name": "Python3.8_DL",
   "language": "python",
   "name": "dl"
  },
  "language_info": {
   "codemirror_mode": {
    "name": "ipython",
    "version": 3
   },
   "file_extension": ".py",
   "mimetype": "text/x-python",
   "name": "python",
   "nbconvert_exporter": "python",
   "pygments_lexer": "ipython3",
   "version": "3.8.8"
  },
  "widgets": {
   "application/vnd.jupyter.widget-state+json": {
    "02981ca624bb48faaa8c485eb837e80d": {
     "model_module": "@jupyter-widgets/base",
     "model_module_version": "1.2.0",
     "model_name": "LayoutModel",
     "state": {
      "_model_module": "@jupyter-widgets/base",
      "_model_module_version": "1.2.0",
      "_model_name": "LayoutModel",
      "_view_count": null,
      "_view_module": "@jupyter-widgets/base",
      "_view_module_version": "1.2.0",
      "_view_name": "LayoutView",
      "align_content": null,
      "align_items": null,
      "align_self": null,
      "border": null,
      "bottom": null,
      "display": null,
      "flex": null,
      "flex_flow": null,
      "grid_area": null,
      "grid_auto_columns": null,
      "grid_auto_flow": null,
      "grid_auto_rows": null,
      "grid_column": null,
      "grid_gap": null,
      "grid_row": null,
      "grid_template_areas": null,
      "grid_template_columns": null,
      "grid_template_rows": null,
      "height": null,
      "justify_content": null,
      "justify_items": null,
      "left": null,
      "margin": null,
      "max_height": null,
      "max_width": null,
      "min_height": null,
      "min_width": null,
      "object_fit": null,
      "object_position": null,
      "order": null,
      "overflow": null,
      "overflow_x": null,
      "overflow_y": null,
      "padding": null,
      "right": null,
      "top": null,
      "visibility": null,
      "width": null
     }
    },
    "0ab293038f5f4759a037da8879d114f3": {
     "model_module": "@jupyter-widgets/controls",
     "model_module_version": "1.5.0",
     "model_name": "HTMLModel",
     "state": {
      "_dom_classes": [],
      "_model_module": "@jupyter-widgets/controls",
      "_model_module_version": "1.5.0",
      "_model_name": "HTMLModel",
      "_view_count": null,
      "_view_module": "@jupyter-widgets/controls",
      "_view_module_version": "1.5.0",
      "_view_name": "HTMLView",
      "description": "",
      "description_tooltip": null,
      "layout": "IPY_MODEL_1f762d6826a941318dd1c90abe117a82",
      "placeholder": "​",
      "style": "IPY_MODEL_f695e897cad747b9b970d6e0c3e9cdce",
      "value": " 170499072/? [00:11&lt;00:00, 15957766.14it/s]"
     }
    },
    "1f762d6826a941318dd1c90abe117a82": {
     "model_module": "@jupyter-widgets/base",
     "model_module_version": "1.2.0",
     "model_name": "LayoutModel",
     "state": {
      "_model_module": "@jupyter-widgets/base",
      "_model_module_version": "1.2.0",
      "_model_name": "LayoutModel",
      "_view_count": null,
      "_view_module": "@jupyter-widgets/base",
      "_view_module_version": "1.2.0",
      "_view_name": "LayoutView",
      "align_content": null,
      "align_items": null,
      "align_self": null,
      "border": null,
      "bottom": null,
      "display": null,
      "flex": null,
      "flex_flow": null,
      "grid_area": null,
      "grid_auto_columns": null,
      "grid_auto_flow": null,
      "grid_auto_rows": null,
      "grid_column": null,
      "grid_gap": null,
      "grid_row": null,
      "grid_template_areas": null,
      "grid_template_columns": null,
      "grid_template_rows": null,
      "height": null,
      "justify_content": null,
      "justify_items": null,
      "left": null,
      "margin": null,
      "max_height": null,
      "max_width": null,
      "min_height": null,
      "min_width": null,
      "object_fit": null,
      "object_position": null,
      "order": null,
      "overflow": null,
      "overflow_x": null,
      "overflow_y": null,
      "padding": null,
      "right": null,
      "top": null,
      "visibility": null,
      "width": null
     }
    },
    "48941e9ccb6e41e9a8ebdcbed3e5c1ee": {
     "model_module": "@jupyter-widgets/controls",
     "model_module_version": "1.5.0",
     "model_name": "FloatProgressModel",
     "state": {
      "_dom_classes": [],
      "_model_module": "@jupyter-widgets/controls",
      "_model_module_version": "1.5.0",
      "_model_name": "FloatProgressModel",
      "_view_count": null,
      "_view_module": "@jupyter-widgets/controls",
      "_view_module_version": "1.5.0",
      "_view_name": "ProgressView",
      "bar_style": "success",
      "description": "",
      "description_tooltip": null,
      "layout": "IPY_MODEL_a85cc39235e14d60829aeb9ee6f12cde",
      "max": 170498071,
      "min": 0,
      "orientation": "horizontal",
      "style": "IPY_MODEL_cf389f606e0544f583b31421d9a6d00c",
      "value": 170498071
     }
    },
    "7bc64afe51fc469f8ca8391a2023bb9d": {
     "model_module": "@jupyter-widgets/controls",
     "model_module_version": "1.5.0",
     "model_name": "DescriptionStyleModel",
     "state": {
      "_model_module": "@jupyter-widgets/controls",
      "_model_module_version": "1.5.0",
      "_model_name": "DescriptionStyleModel",
      "_view_count": null,
      "_view_module": "@jupyter-widgets/base",
      "_view_module_version": "1.2.0",
      "_view_name": "StyleView",
      "description_width": ""
     }
    },
    "956a14bb3c6c43cfa1a01b34f95426b2": {
     "model_module": "@jupyter-widgets/controls",
     "model_module_version": "1.5.0",
     "model_name": "HBoxModel",
     "state": {
      "_dom_classes": [],
      "_model_module": "@jupyter-widgets/controls",
      "_model_module_version": "1.5.0",
      "_model_name": "HBoxModel",
      "_view_count": null,
      "_view_module": "@jupyter-widgets/controls",
      "_view_module_version": "1.5.0",
      "_view_name": "HBoxView",
      "box_style": "",
      "children": [
       "IPY_MODEL_efe9da736b644beea8d2fa39d212133e",
       "IPY_MODEL_48941e9ccb6e41e9a8ebdcbed3e5c1ee",
       "IPY_MODEL_0ab293038f5f4759a037da8879d114f3"
      ],
      "layout": "IPY_MODEL_cf35abb2d3fe4f599cabc82fa9e8fbf8"
     }
    },
    "a85cc39235e14d60829aeb9ee6f12cde": {
     "model_module": "@jupyter-widgets/base",
     "model_module_version": "1.2.0",
     "model_name": "LayoutModel",
     "state": {
      "_model_module": "@jupyter-widgets/base",
      "_model_module_version": "1.2.0",
      "_model_name": "LayoutModel",
      "_view_count": null,
      "_view_module": "@jupyter-widgets/base",
      "_view_module_version": "1.2.0",
      "_view_name": "LayoutView",
      "align_content": null,
      "align_items": null,
      "align_self": null,
      "border": null,
      "bottom": null,
      "display": null,
      "flex": null,
      "flex_flow": null,
      "grid_area": null,
      "grid_auto_columns": null,
      "grid_auto_flow": null,
      "grid_auto_rows": null,
      "grid_column": null,
      "grid_gap": null,
      "grid_row": null,
      "grid_template_areas": null,
      "grid_template_columns": null,
      "grid_template_rows": null,
      "height": null,
      "justify_content": null,
      "justify_items": null,
      "left": null,
      "margin": null,
      "max_height": null,
      "max_width": null,
      "min_height": null,
      "min_width": null,
      "object_fit": null,
      "object_position": null,
      "order": null,
      "overflow": null,
      "overflow_x": null,
      "overflow_y": null,
      "padding": null,
      "right": null,
      "top": null,
      "visibility": null,
      "width": null
     }
    },
    "cf35abb2d3fe4f599cabc82fa9e8fbf8": {
     "model_module": "@jupyter-widgets/base",
     "model_module_version": "1.2.0",
     "model_name": "LayoutModel",
     "state": {
      "_model_module": "@jupyter-widgets/base",
      "_model_module_version": "1.2.0",
      "_model_name": "LayoutModel",
      "_view_count": null,
      "_view_module": "@jupyter-widgets/base",
      "_view_module_version": "1.2.0",
      "_view_name": "LayoutView",
      "align_content": null,
      "align_items": null,
      "align_self": null,
      "border": null,
      "bottom": null,
      "display": null,
      "flex": null,
      "flex_flow": null,
      "grid_area": null,
      "grid_auto_columns": null,
      "grid_auto_flow": null,
      "grid_auto_rows": null,
      "grid_column": null,
      "grid_gap": null,
      "grid_row": null,
      "grid_template_areas": null,
      "grid_template_columns": null,
      "grid_template_rows": null,
      "height": null,
      "justify_content": null,
      "justify_items": null,
      "left": null,
      "margin": null,
      "max_height": null,
      "max_width": null,
      "min_height": null,
      "min_width": null,
      "object_fit": null,
      "object_position": null,
      "order": null,
      "overflow": null,
      "overflow_x": null,
      "overflow_y": null,
      "padding": null,
      "right": null,
      "top": null,
      "visibility": null,
      "width": null
     }
    },
    "cf389f606e0544f583b31421d9a6d00c": {
     "model_module": "@jupyter-widgets/controls",
     "model_module_version": "1.5.0",
     "model_name": "ProgressStyleModel",
     "state": {
      "_model_module": "@jupyter-widgets/controls",
      "_model_module_version": "1.5.0",
      "_model_name": "ProgressStyleModel",
      "_view_count": null,
      "_view_module": "@jupyter-widgets/base",
      "_view_module_version": "1.2.0",
      "_view_name": "StyleView",
      "bar_color": null,
      "description_width": ""
     }
    },
    "efe9da736b644beea8d2fa39d212133e": {
     "model_module": "@jupyter-widgets/controls",
     "model_module_version": "1.5.0",
     "model_name": "HTMLModel",
     "state": {
      "_dom_classes": [],
      "_model_module": "@jupyter-widgets/controls",
      "_model_module_version": "1.5.0",
      "_model_name": "HTMLModel",
      "_view_count": null,
      "_view_module": "@jupyter-widgets/controls",
      "_view_module_version": "1.5.0",
      "_view_name": "HTMLView",
      "description": "",
      "description_tooltip": null,
      "layout": "IPY_MODEL_02981ca624bb48faaa8c485eb837e80d",
      "placeholder": "​",
      "style": "IPY_MODEL_7bc64afe51fc469f8ca8391a2023bb9d",
      "value": ""
     }
    },
    "f695e897cad747b9b970d6e0c3e9cdce": {
     "model_module": "@jupyter-widgets/controls",
     "model_module_version": "1.5.0",
     "model_name": "DescriptionStyleModel",
     "state": {
      "_model_module": "@jupyter-widgets/controls",
      "_model_module_version": "1.5.0",
      "_model_name": "DescriptionStyleModel",
      "_view_count": null,
      "_view_module": "@jupyter-widgets/base",
      "_view_module_version": "1.2.0",
      "_view_name": "StyleView",
      "description_width": ""
     }
    }
   }
  }
 },
 "nbformat": 4,
 "nbformat_minor": 1
}
