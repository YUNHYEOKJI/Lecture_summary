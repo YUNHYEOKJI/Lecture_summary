{
 "cells": [
  {
   "cell_type": "markdown",
   "metadata": {
    "id": "nSd4ALj3WAgL"
   },
   "source": [
    "# CIFAR-10 데이터에 대표적인 CNN 기반 딥러닝 모델을 불러와 적용하기"
   ]
  },
  {
   "cell_type": "code",
   "execution_count": 1,
   "metadata": {
    "executionInfo": {
     "elapsed": 25204,
     "status": "ok",
     "timestamp": 1634608664424,
     "user": {
      "displayName": "‍박종혁(교원-빅데이터경영통계전공)",
      "photoUrl": "https://lh3.googleusercontent.com/a/default-user=s64",
      "userId": "05107650215573502422"
     },
     "user_tz": -540
    },
    "id": "mNuPZOKQV0Jk"
   },
   "outputs": [],
   "source": [
    "''' 1. Module Import '''\n",
    "import numpy as np\n",
    "import matplotlib.pyplot as plt\n",
    "\n",
    "import torch\n",
    "import torch.nn as nn\n",
    "import torch.nn.functional as F\n",
    "from torchvision import transforms, datasets"
   ]
  },
  {
   "cell_type": "code",
   "execution_count": 2,
   "metadata": {
    "colab": {
     "base_uri": "https://localhost:8080/"
    },
    "executionInfo": {
     "elapsed": 288,
     "status": "ok",
     "timestamp": 1634608669415,
     "user": {
      "displayName": "‍박종혁(교원-빅데이터경영통계전공)",
      "photoUrl": "https://lh3.googleusercontent.com/a/default-user=s64",
      "userId": "05107650215573502422"
     },
     "user_tz": -540
    },
    "id": "ZRaNqeDxV0Jm",
    "outputId": "7f9c2b76-09bf-4c66-d072-a425dcd83b95"
   },
   "outputs": [
    {
     "name": "stdout",
     "output_type": "stream",
     "text": [
      "Using PyTorch version: 1.9.0+cu111  Device: cuda\n"
     ]
    }
   ],
   "source": [
    "''' 2. 딥러닝 모델을 설계할 때 활용하는 장비 확인 '''\n",
    "if torch.cuda.is_available():\n",
    "    DEVICE = torch.device('cuda')\n",
    "else:\n",
    "    DEVICE = torch.device('cpu')\n",
    "print('Using PyTorch version:', torch.__version__, ' Device:', DEVICE)"
   ]
  },
  {
   "cell_type": "code",
   "execution_count": 3,
   "metadata": {
    "executionInfo": {
     "elapsed": 275,
     "status": "ok",
     "timestamp": 1634608675029,
     "user": {
      "displayName": "‍박종혁(교원-빅데이터경영통계전공)",
      "photoUrl": "https://lh3.googleusercontent.com/a/default-user=s64",
      "userId": "05107650215573502422"
     },
     "user_tz": -540
    },
    "id": "PGRh7ua7V0Jn"
   },
   "outputs": [],
   "source": [
    "BATCH_SIZE = 32\n",
    "EPOCHS = 10"
   ]
  },
  {
   "cell_type": "code",
   "execution_count": 4,
   "metadata": {
    "colab": {
     "base_uri": "https://localhost:8080/",
     "height": 85,
     "referenced_widgets": [
      "d2509fbbbdd1496f8271968ef14c7b29",
      "a3249379b03547fdae4032d6eccf8890",
      "f3b80b0f39ad4f059953e555e9ad8c34",
      "25d3e391fae445d794eb3d4aa5f4eac0",
      "e77d256cd7c744ee9c690f8013315c1d",
      "93b08cef3383460abc16311db5ae7303",
      "db65e49ff99343abb53ee60fa7abc9b1",
      "699e8910735f4c55bdf11a907851cae7",
      "a187099eb47740ed9ea9aefe953ab0b5",
      "966f1105a18c4557bbcc49a45dff0795",
      "1cf46930fa334e92accff03950c0c5bc"
     ]
    },
    "executionInfo": {
     "elapsed": 7625,
     "status": "ok",
     "timestamp": 1634608700575,
     "user": {
      "displayName": "‍박종혁(교원-빅데이터경영통계전공)",
      "photoUrl": "https://lh3.googleusercontent.com/a/default-user=s64",
      "userId": "05107650215573502422"
     },
     "user_tz": -540
    },
    "id": "vfAUNi67V0Jo",
    "outputId": "de773e26-bf36-45c4-aab2-0d0860a9cd6c"
   },
   "outputs": [
    {
     "name": "stdout",
     "output_type": "stream",
     "text": [
      "Downloading https://www.cs.toronto.edu/~kriz/cifar-10-python.tar.gz to ../data/CIFAR_10/cifar-10-python.tar.gz\n"
     ]
    },
    {
     "data": {
      "application/vnd.jupyter.widget-view+json": {
       "model_id": "d2509fbbbdd1496f8271968ef14c7b29",
       "version_major": 2,
       "version_minor": 0
      },
      "text/plain": [
       "  0%|          | 0/170498071 [00:00<?, ?it/s]"
      ]
     },
     "metadata": {},
     "output_type": "display_data"
    },
    {
     "name": "stdout",
     "output_type": "stream",
     "text": [
      "Extracting ../data/CIFAR_10/cifar-10-python.tar.gz to ../data/CIFAR_10\n"
     ]
    }
   ],
   "source": [
    "''' 3. Data Augmentation이 적용된 CIFAR10 데이터 다운로드 (Train set, Test set 분리하기) '''\n",
    "train_dataset = datasets.CIFAR10(root = \"../data/CIFAR_10\",\n",
    "                                  train = True,\n",
    "                                  download = True,\n",
    "                                  transform = transforms.Compose([\n",
    "                                    transforms.RandomHorizontalFlip(),\n",
    "                                    transforms.ToTensor(),\n",
    "                                    transforms.Normalize((0.5, 0.5, 0.5), (0.5, 0.5, 0.5))]))\n",
    "\n",
    "test_dataset = datasets.CIFAR10(root = \"../data/CIFAR_10\",\n",
    "                                train = False,\n",
    "                                transform = transforms.Compose([\n",
    "                                    # transforms.RandomHorizontalFlip(),\n",
    "                                    transforms.ToTensor(),\n",
    "                                    transforms.Normalize((0.5, 0.5, 0.5), (0.5, 0.5, 0.5))]))\n",
    "\n",
    "train_loader = torch.utils.data.DataLoader(dataset = train_dataset,\n",
    "                                            batch_size = BATCH_SIZE,\n",
    "                                            shuffle = True)\n",
    "\n",
    "test_loader = torch.utils.data.DataLoader(dataset = test_dataset,\n",
    "                                          batch_size = BATCH_SIZE,\n",
    "                                          shuffle = False)"
   ]
  },
  {
   "cell_type": "code",
   "execution_count": 5,
   "metadata": {
    "colab": {
     "base_uri": "https://localhost:8080/"
    },
    "executionInfo": {
     "elapsed": 655,
     "status": "ok",
     "timestamp": 1634608704797,
     "user": {
      "displayName": "‍박종혁(교원-빅데이터경영통계전공)",
      "photoUrl": "https://lh3.googleusercontent.com/a/default-user=s64",
      "userId": "05107650215573502422"
     },
     "user_tz": -540
    },
    "id": "lx0dW3L0V0Jp",
    "outputId": "00d093b7-565e-4035-d12d-f396020bf386"
   },
   "outputs": [
    {
     "name": "stdout",
     "output_type": "stream",
     "text": [
      "X_train: torch.Size([32, 3, 32, 32]) type: torch.FloatTensor\n",
      "y_train: torch.Size([32]) type: torch.LongTensor\n"
     ]
    }
   ],
   "source": [
    "''' 4. 데이터 확인하기 (1) '''\n",
    "for (X_train, y_train) in train_loader:\n",
    "    print('X_train:', X_train.size(), 'type:', X_train.type())\n",
    "    print('y_train:', y_train.size(), 'type:', y_train.type())\n",
    "    break"
   ]
  },
  {
   "cell_type": "code",
   "execution_count": 6,
   "metadata": {
    "colab": {
     "base_uri": "https://localhost:8080/",
     "height": 274
    },
    "executionInfo": {
     "elapsed": 844,
     "status": "ok",
     "timestamp": 1634608724664,
     "user": {
      "displayName": "‍박종혁(교원-빅데이터경영통계전공)",
      "photoUrl": "https://lh3.googleusercontent.com/a/default-user=s64",
      "userId": "05107650215573502422"
     },
     "user_tz": -540
    },
    "id": "g7vJ2oZxV0Jp",
    "outputId": "aa0abc03-c87d-4591-ce61-1e7543b7cca5"
   },
   "outputs": [
    {
     "name": "stderr",
     "output_type": "stream",
     "text": [
      "Clipping input data to the valid range for imshow with RGB data ([0..1] for floats or [0..255] for integers).\n",
      "Clipping input data to the valid range for imshow with RGB data ([0..1] for floats or [0..255] for integers).\n",
      "Clipping input data to the valid range for imshow with RGB data ([0..1] for floats or [0..255] for integers).\n",
      "Clipping input data to the valid range for imshow with RGB data ([0..1] for floats or [0..255] for integers).\n",
      "Clipping input data to the valid range for imshow with RGB data ([0..1] for floats or [0..255] for integers).\n",
      "Clipping input data to the valid range for imshow with RGB data ([0..1] for floats or [0..255] for integers).\n",
      "Clipping input data to the valid range for imshow with RGB data ([0..1] for floats or [0..255] for integers).\n",
      "Clipping input data to the valid range for imshow with RGB data ([0..1] for floats or [0..255] for integers).\n",
      "Clipping input data to the valid range for imshow with RGB data ([0..1] for floats or [0..255] for integers).\n",
      "Clipping input data to the valid range for imshow with RGB data ([0..1] for floats or [0..255] for integers).\n"
     ]
    },
    {
     "data": {
      "image/png": "[encoded data removed]",
      "text/plain": [
       "<Figure size 720x72 with 10 Axes>"
      ]
     },
     "metadata": {
      "needs_background": "light"
     },
     "output_type": "display_data"
    }
   ],
   "source": [
    "''' 5. 데이터 확인하기 (2) '''\n",
    "pltsize = 1\n",
    "plt.figure(figsize=(10 * pltsize, pltsize))\n",
    "\n",
    "for i in range(10):\n",
    "    plt.subplot(1, 10, i + 1)\n",
    "    plt.axis('off')\n",
    "    plt.imshow(np.transpose(X_train[i], (1, 2, 0)))\n",
    "    plt.title('Class: ' + str(y_train[i].item()))"
   ]
  },
  {
   "cell_type": "markdown",
   "metadata": {
    "id": "TCOoJqrYWP5-"
   },
   "source": [
    "- `torchvision.models` 에서 model을 불러오기\n",
    "  - PyTorch 에서 제공하는 모델 목록 확인\n",
    "    - https://pytorch.org/vision/stable/models.html\n",
    "  - `models.resnet34(pretrained = False)`\n",
    "    - `pretrained = True` : ImageNet 데이터셋으로 미리 학습한 파라미터를 사용할 경우\n",
    "      - 이 경우, 불러온 파라미터는 ImageNet 데이터셋을 잘 분류할 수 있게 학습되어 있음\n",
    "    - `pretrained = False` : 모델 구조만 불러올 경우 (특정 initializer에서 랜덤 샘플링한 값을 초기값으로 사용)\n"
   ]
  },
  {
   "cell_type": "code",
   "execution_count": 7,
   "metadata": {
    "executionInfo": {
     "elapsed": 15171,
     "status": "ok",
     "timestamp": 1634609025372,
     "user": {
      "displayName": "‍박종혁(교원-빅데이터경영통계전공)",
      "photoUrl": "https://lh3.googleusercontent.com/a/default-user=s64",
      "userId": "05107650215573502422"
     },
     "user_tz": -540
    },
    "id": "fNgHJ7UkV0Jq"
   },
   "outputs": [],
   "source": [
    "''' 6. PyTorch 내에서 제공하는 ResNet34 모델 불러온 후 FC 층 추가 및 Output 크기 설정하기 '''\n",
    "import torchvision.models as models\n",
    "model = models.resnet34(pretrained = False)\n",
    "num_ftrs = model.fc.in_features # resnet34의 Fully connected layer input에 해당하는 노드 수를 num_ftrs 변수에 저장 \n",
    "model.fc = nn.Linear(num_ftrs, 10) # CIFAR-10 데이터셋의 클래스 갯수 만큼 output을 생성할 수 있도록 Fully connected layer 구성\n",
    "model = model.cuda()"
   ]
  },
  {
   "cell_type": "code",
   "execution_count": 8,
   "metadata": {
    "colab": {
     "base_uri": "https://localhost:8080/"
    },
    "executionInfo": {
     "elapsed": 375,
     "status": "ok",
     "timestamp": 1634609032142,
     "user": {
      "displayName": "‍박종혁(교원-빅데이터경영통계전공)",
      "photoUrl": "https://lh3.googleusercontent.com/a/default-user=s64",
      "userId": "05107650215573502422"
     },
     "user_tz": -540
    },
    "id": "0Wdk-1gFV0Jq",
    "outputId": "477c642a-edf0-4d77-9411-e7ba3645d7eb"
   },
   "outputs": [
    {
     "name": "stdout",
     "output_type": "stream",
     "text": [
      "ResNet(\n",
      "  (conv1): Conv2d(3, 64, kernel_size=(7, 7), stride=(2, 2), padding=(3, 3), bias=False)\n",
      "  (bn1): BatchNorm2d(64, eps=1e-05, momentum=0.1, affine=True, track_running_stats=True)\n",
      "  (relu): ReLU(inplace=True)\n",
      "  (maxpool): MaxPool2d(kernel_size=3, stride=2, padding=1, dilation=1, ceil_mode=False)\n",
      "  (layer1): Sequential(\n",
      "    (0): BasicBlock(\n",
      "      (conv1): Conv2d(64, 64, kernel_size=(3, 3), stride=(1, 1), padding=(1, 1), bias=False)\n",
      "      (bn1): BatchNorm2d(64, eps=1e-05, momentum=0.1, affine=True, track_running_stats=True)\n",
      "      (relu): ReLU(inplace=True)\n",
      "      (conv2): Conv2d(64, 64, kernel_size=(3, 3), stride=(1, 1), padding=(1, 1), bias=False)\n",
      "      (bn2): BatchNorm2d(64, eps=1e-05, momentum=0.1, affine=True, track_running_stats=True)\n",
      "    )\n",
      "    (1): BasicBlock(\n",
      "      (conv1): Conv2d(64, 64, kernel_size=(3, 3), stride=(1, 1), padding=(1, 1), bias=False)\n",
      "      (bn1): BatchNorm2d(64, eps=1e-05, momentum=0.1, affine=True, track_running_stats=True)\n",
      "      (relu): ReLU(inplace=True)\n",
      "      (conv2): Conv2d(64, 64, kernel_size=(3, 3), stride=(1, 1), padding=(1, 1), bias=False)\n",
      "      (bn2): BatchNorm2d(64, eps=1e-05, momentum=0.1, affine=True, track_running_stats=True)\n",
      "    )\n",
      "    (2): BasicBlock(\n",
      "      (conv1): Conv2d(64, 64, kernel_size=(3, 3), stride=(1, 1), padding=(1, 1), bias=False)\n",
      "      (bn1): BatchNorm2d(64, eps=1e-05, momentum=0.1, affine=True, track_running_stats=True)\n",
      "      (relu): ReLU(inplace=True)\n",
      "      (conv2): Conv2d(64, 64, kernel_size=(3, 3), stride=(1, 1), padding=(1, 1), bias=False)\n",
      "      (bn2): BatchNorm2d(64, eps=1e-05, momentum=0.1, affine=True, track_running_stats=True)\n",
      "    )\n",
      "  )\n",
      "  (layer2): Sequential(\n",
      "    (0): BasicBlock(\n",
      "      (conv1): Conv2d(64, 128, kernel_size=(3, 3), stride=(2, 2), padding=(1, 1), bias=False)\n",
      "      (bn1): BatchNorm2d(128, eps=1e-05, momentum=0.1, affine=True, track_running_stats=True)\n",
      "      (relu): ReLU(inplace=True)\n",
      "      (conv2): Conv2d(128, 128, kernel_size=(3, 3), stride=(1, 1), padding=(1, 1), bias=False)\n",
      "      (bn2): BatchNorm2d(128, eps=1e-05, momentum=0.1, affine=True, track_running_stats=True)\n",
      "      (downsample): Sequential(\n",
      "        (0): Conv2d(64, 128, kernel_size=(1, 1), stride=(2, 2), bias=False)\n",
      "        (1): BatchNorm2d(128, eps=1e-05, momentum=0.1, affine=True, track_running_stats=True)\n",
      "      )\n",
      "    )\n",
      "    (1): BasicBlock(\n",
      "      (conv1): Conv2d(128, 128, kernel_size=(3, 3), stride=(1, 1), padding=(1, 1), bias=False)\n",
      "      (bn1): BatchNorm2d(128, eps=1e-05, momentum=0.1, affine=True, track_running_stats=True)\n",
      "      (relu): ReLU(inplace=True)\n",
      "      (conv2): Conv2d(128, 128, kernel_size=(3, 3), stride=(1, 1), padding=(1, 1), bias=False)\n",
      "      (bn2): BatchNorm2d(128, eps=1e-05, momentum=0.1, affine=True, track_running_stats=True)\n",
      "    )\n",
      "    (2): BasicBlock(\n",
      "      (conv1): Conv2d(128, 128, kernel_size=(3, 3), stride=(1, 1), padding=(1, 1), bias=False)\n",
      "      (bn1): BatchNorm2d(128, eps=1e-05, momentum=0.1, affine=True, track_running_stats=True)\n",
      "      (relu): ReLU(inplace=True)\n",
      "      (conv2): Conv2d(128, 128, kernel_size=(3, 3), stride=(1, 1), padding=(1, 1), bias=False)\n",
      "      (bn2): BatchNorm2d(128, eps=1e-05, momentum=0.1, affine=True, track_running_stats=True)\n",
      "    )\n",
      "    (3): BasicBlock(\n",
      "      (conv1): Conv2d(128, 128, kernel_size=(3, 3), stride=(1, 1), padding=(1, 1), bias=False)\n",
      "      (bn1): BatchNorm2d(128, eps=1e-05, momentum=0.1, affine=True, track_running_stats=True)\n",
      "      (relu): ReLU(inplace=True)\n",
      "      (conv2): Conv2d(128, 128, kernel_size=(3, 3), stride=(1, 1), padding=(1, 1), bias=False)\n",
      "      (bn2): BatchNorm2d(128, eps=1e-05, momentum=0.1, affine=True, track_running_stats=True)\n",
      "    )\n",
      "  )\n",
      "  (layer3): Sequential(\n",
      "    (0): BasicBlock(\n",
      "      (conv1): Conv2d(128, 256, kernel_size=(3, 3), stride=(2, 2), padding=(1, 1), bias=False)\n",
      "      (bn1): BatchNorm2d(256, eps=1e-05, momentum=0.1, affine=True, track_running_stats=True)\n",
      "      (relu): ReLU(inplace=True)\n",
      "      (conv2): Conv2d(256, 256, kernel_size=(3, 3), stride=(1, 1), padding=(1, 1), bias=False)\n",
      "      (bn2): BatchNorm2d(256, eps=1e-05, momentum=0.1, affine=True, track_running_stats=True)\n",
      "      (downsample): Sequential(\n",
      "        (0): Conv2d(128, 256, kernel_size=(1, 1), stride=(2, 2), bias=False)\n",
      "        (1): BatchNorm2d(256, eps=1e-05, momentum=0.1, affine=True, track_running_stats=True)\n",
      "      )\n",
      "    )\n",
      "    (1): BasicBlock(\n",
      "      (conv1): Conv2d(256, 256, kernel_size=(3, 3), stride=(1, 1), padding=(1, 1), bias=False)\n",
      "      (bn1): BatchNorm2d(256, eps=1e-05, momentum=0.1, affine=True, track_running_stats=True)\n",
      "      (relu): ReLU(inplace=True)\n",
      "      (conv2): Conv2d(256, 256, kernel_size=(3, 3), stride=(1, 1), padding=(1, 1), bias=False)\n",
      "      (bn2): BatchNorm2d(256, eps=1e-05, momentum=0.1, affine=True, track_running_stats=True)\n",
      "    )\n",
      "    (2): BasicBlock(\n",
      "      (conv1): Conv2d(256, 256, kernel_size=(3, 3), stride=(1, 1), padding=(1, 1), bias=False)\n",
      "      (bn1): BatchNorm2d(256, eps=1e-05, momentum=0.1, affine=True, track_running_stats=True)\n",
      "      (relu): ReLU(inplace=True)\n",
      "      (conv2): Conv2d(256, 256, kernel_size=(3, 3), stride=(1, 1), padding=(1, 1), bias=False)\n",
      "      (bn2): BatchNorm2d(256, eps=1e-05, momentum=0.1, affine=True, track_running_stats=True)\n",
      "    )\n",
      "    (3): BasicBlock(\n",
      "      (conv1): Conv2d(256, 256, kernel_size=(3, 3), stride=(1, 1), padding=(1, 1), bias=False)\n",
      "      (bn1): BatchNorm2d(256, eps=1e-05, momentum=0.1, affine=True, track_running_stats=True)\n",
      "      (relu): ReLU(inplace=True)\n",
      "      (conv2): Conv2d(256, 256, kernel_size=(3, 3), stride=(1, 1), padding=(1, 1), bias=False)\n",
      "      (bn2): BatchNorm2d(256, eps=1e-05, momentum=0.1, affine=True, track_running_stats=True)\n",
      "    )\n",
      "    (4): BasicBlock(\n",
      "      (conv1): Conv2d(256, 256, kernel_size=(3, 3), stride=(1, 1), padding=(1, 1), bias=False)\n",
      "      (bn1): BatchNorm2d(256, eps=1e-05, momentum=0.1, affine=True, track_running_stats=True)\n",
      "      (relu): ReLU(inplace=True)\n",
      "      (conv2): Conv2d(256, 256, kernel_size=(3, 3), stride=(1, 1), padding=(1, 1), bias=False)\n",
      "      (bn2): BatchNorm2d(256, eps=1e-05, momentum=0.1, affine=True, track_running_stats=True)\n",
      "    )\n",
      "    (5): BasicBlock(\n",
      "      (conv1): Conv2d(256, 256, kernel_size=(3, 3), stride=(1, 1), padding=(1, 1), bias=False)\n",
      "      (bn1): BatchNorm2d(256, eps=1e-05, momentum=0.1, affine=True, track_running_stats=True)\n",
      "      (relu): ReLU(inplace=True)\n",
      "      (conv2): Conv2d(256, 256, kernel_size=(3, 3), stride=(1, 1), padding=(1, 1), bias=False)\n",
      "      (bn2): BatchNorm2d(256, eps=1e-05, momentum=0.1, affine=True, track_running_stats=True)\n",
      "    )\n",
      "  )\n",
      "  (layer4): Sequential(\n",
      "    (0): BasicBlock(\n",
      "      (conv1): Conv2d(256, 512, kernel_size=(3, 3), stride=(2, 2), padding=(1, 1), bias=False)\n",
      "      (bn1): BatchNorm2d(512, eps=1e-05, momentum=0.1, affine=True, track_running_stats=True)\n",
      "      (relu): ReLU(inplace=True)\n",
      "      (conv2): Conv2d(512, 512, kernel_size=(3, 3), stride=(1, 1), padding=(1, 1), bias=False)\n",
      "      (bn2): BatchNorm2d(512, eps=1e-05, momentum=0.1, affine=True, track_running_stats=True)\n",
      "      (downsample): Sequential(\n",
      "        (0): Conv2d(256, 512, kernel_size=(1, 1), stride=(2, 2), bias=False)\n",
      "        (1): BatchNorm2d(512, eps=1e-05, momentum=0.1, affine=True, track_running_stats=True)\n",
      "      )\n",
      "    )\n",
      "    (1): BasicBlock(\n",
      "      (conv1): Conv2d(512, 512, kernel_size=(3, 3), stride=(1, 1), padding=(1, 1), bias=False)\n",
      "      (bn1): BatchNorm2d(512, eps=1e-05, momentum=0.1, affine=True, track_running_stats=True)\n",
      "      (relu): ReLU(inplace=True)\n",
      "      (conv2): Conv2d(512, 512, kernel_size=(3, 3), stride=(1, 1), padding=(1, 1), bias=False)\n",
      "      (bn2): BatchNorm2d(512, eps=1e-05, momentum=0.1, affine=True, track_running_stats=True)\n",
      "    )\n",
      "    (2): BasicBlock(\n",
      "      (conv1): Conv2d(512, 512, kernel_size=(3, 3), stride=(1, 1), padding=(1, 1), bias=False)\n",
      "      (bn1): BatchNorm2d(512, eps=1e-05, momentum=0.1, affine=True, track_running_stats=True)\n",
      "      (relu): ReLU(inplace=True)\n",
      "      (conv2): Conv2d(512, 512, kernel_size=(3, 3), stride=(1, 1), padding=(1, 1), bias=False)\n",
      "      (bn2): BatchNorm2d(512, eps=1e-05, momentum=0.1, affine=True, track_running_stats=True)\n",
      "    )\n",
      "  )\n",
      "  (avgpool): AdaptiveAvgPool2d(output_size=(1, 1))\n",
      "  (fc): Linear(in_features=512, out_features=10, bias=True)\n",
      ")\n"
     ]
    }
   ],
   "source": [
    "''' 7. Optimizer, Objective Function 설정하기 '''\n",
    "optimizer = torch.optim.Adam(model.parameters(), lr = 0.001)\n",
    "criterion = nn.CrossEntropyLoss()\n",
    "\n",
    "print(model)"
   ]
  },
  {
   "cell_type": "code",
   "execution_count": 9,
   "metadata": {
    "executionInfo": {
     "elapsed": 251,
     "status": "ok",
     "timestamp": 1634609056156,
     "user": {
      "displayName": "‍박종혁(교원-빅데이터경영통계전공)",
      "photoUrl": "https://lh3.googleusercontent.com/a/default-user=s64",
      "userId": "05107650215573502422"
     },
     "user_tz": -540
    },
    "id": "-qEpxyK1V0Jr"
   },
   "outputs": [],
   "source": [
    "''' 8. 불러온 Resnet34 모델 학습을 진행하며 학습 데이터에 대한 모델 성능을 확인하는 함수 정의 '''\n",
    "def train(model, train_loader, optimizer, log_interval):\n",
    "    model.train()\n",
    "    for batch_idx, (image, label) in enumerate(train_loader):\n",
    "        image = image.to(DEVICE)\n",
    "        label = label.to(DEVICE)\n",
    "        optimizer.zero_grad()\n",
    "        output = model(image)\n",
    "        loss = criterion(output, label)\n",
    "        loss.backward()\n",
    "        optimizer.step()\n",
    "\n",
    "        if batch_idx % log_interval == 0:\n",
    "            print(\"Train Epoch: {} [{}/{} ({:.0f}%)]\\tTrain Loss: {:.6f}\".format(\n",
    "                epoch, batch_idx * len(image), \n",
    "                len(train_loader.dataset), 100. * batch_idx / len(train_loader), \n",
    "                loss.item()))\n"
   ]
  },
  {
   "cell_type": "code",
   "execution_count": 10,
   "metadata": {
    "executionInfo": {
     "elapsed": 8,
     "status": "ok",
     "timestamp": 1634609059541,
     "user": {
      "displayName": "‍박종혁(교원-빅데이터경영통계전공)",
      "photoUrl": "https://lh3.googleusercontent.com/a/default-user=s64",
      "userId": "05107650215573502422"
     },
     "user_tz": -540
    },
    "id": "LiFKiEDQV0Js"
   },
   "outputs": [],
   "source": [
    "''' 9. 학습되는 과정 속에서 검증 데이터에 대한 모델 성능을 확인하는 함수 정의 '''\n",
    "def evaluate(model, test_loader):\n",
    "    model.eval()\n",
    "    test_loss = 0\n",
    "    correct = 0\n",
    "\n",
    "    with torch.no_grad():\n",
    "        for image, label in test_loader:\n",
    "            image = image.to(DEVICE)\n",
    "            label = label.to(DEVICE)\n",
    "            output = model(image)\n",
    "            test_loss += criterion(output, label).item()\n",
    "            prediction = output.max(1, keepdim = True)[1]\n",
    "            correct += prediction.eq(label.view_as(prediction)).sum().item()\n",
    "    \n",
    "    test_loss /= len(test_loader.dataset)\n",
    "    test_accuracy = 100. * correct / len(test_loader.dataset)\n",
    "    return test_loss, test_accuracy"
   ]
  },
  {
   "cell_type": "markdown",
   "metadata": {
    "id": "hZbjxey4YTD9"
   },
   "source": [
    "- 학습 결과 테스트 데이터셋의 정확도 78% 달성"
   ]
  },
  {
   "cell_type": "code",
   "execution_count": null,
   "metadata": {
    "id": "qbKZnwo1V0Jt",
    "outputId": "4519df80-5f73-47e9-fd25-f9ccb46bcf1d"
   },
   "outputs": [
    {
     "name": "stdout",
     "output_type": "stream",
     "text": [
      "Train Epoch: 1 [0/50000 (0%)]\tTrain Loss: 3.006257\n",
      "Train Epoch: 1 [6400/50000 (13%)]\tTrain Loss: 1.898529\n",
      "Train Epoch: 1 [12800/50000 (26%)]\tTrain Loss: 1.575133\n",
      "Train Epoch: 1 [19200/50000 (38%)]\tTrain Loss: 1.440557\n",
      "Train Epoch: 1 [25600/50000 (51%)]\tTrain Loss: 1.671217\n",
      "Train Epoch: 1 [32000/50000 (64%)]\tTrain Loss: 1.437045\n",
      "Train Epoch: 1 [38400/50000 (77%)]\tTrain Loss: 0.880262\n",
      "Train Epoch: 1 [44800/50000 (90%)]\tTrain Loss: 1.578553\n",
      "\n",
      "[EPOCH: 1], \tTest Loss: 0.0404, \tTest Accuracy: 55.00 % \n",
      "\n",
      "Train Epoch: 2 [0/50000 (0%)]\tTrain Loss: 1.277963\n",
      "Train Epoch: 2 [6400/50000 (13%)]\tTrain Loss: 0.855293\n",
      "Train Epoch: 2 [12800/50000 (26%)]\tTrain Loss: 1.041872\n",
      "Train Epoch: 2 [19200/50000 (38%)]\tTrain Loss: 0.896365\n",
      "Train Epoch: 2 [25600/50000 (51%)]\tTrain Loss: 0.989998\n",
      "Train Epoch: 2 [32000/50000 (64%)]\tTrain Loss: 1.083584\n",
      "Train Epoch: 2 [38400/50000 (77%)]\tTrain Loss: 0.829681\n",
      "Train Epoch: 2 [44800/50000 (90%)]\tTrain Loss: 1.372266\n",
      "\n",
      "[EPOCH: 2], \tTest Loss: 0.0311, \tTest Accuracy: 66.05 % \n",
      "\n",
      "Train Epoch: 3 [0/50000 (0%)]\tTrain Loss: 1.547287\n",
      "Train Epoch: 3 [6400/50000 (13%)]\tTrain Loss: 0.688869\n",
      "Train Epoch: 3 [12800/50000 (26%)]\tTrain Loss: 0.880750\n",
      "Train Epoch: 3 [19200/50000 (38%)]\tTrain Loss: 0.980492\n",
      "Train Epoch: 3 [25600/50000 (51%)]\tTrain Loss: 0.999219\n",
      "Train Epoch: 3 [32000/50000 (64%)]\tTrain Loss: 1.014421\n",
      "Train Epoch: 3 [38400/50000 (77%)]\tTrain Loss: 0.950424\n",
      "Train Epoch: 3 [44800/50000 (90%)]\tTrain Loss: 0.638366\n",
      "\n",
      "[EPOCH: 3], \tTest Loss: 0.0270, \tTest Accuracy: 70.10 % \n",
      "\n",
      "Train Epoch: 4 [0/50000 (0%)]\tTrain Loss: 1.229227\n",
      "Train Epoch: 4 [6400/50000 (13%)]\tTrain Loss: 0.832513\n",
      "Train Epoch: 4 [12800/50000 (26%)]\tTrain Loss: 0.825705\n",
      "Train Epoch: 4 [19200/50000 (38%)]\tTrain Loss: 0.884098\n",
      "Train Epoch: 4 [25600/50000 (51%)]\tTrain Loss: 0.759293\n",
      "Train Epoch: 4 [32000/50000 (64%)]\tTrain Loss: 0.745175\n",
      "Train Epoch: 4 [38400/50000 (77%)]\tTrain Loss: 1.170027\n",
      "Train Epoch: 4 [44800/50000 (90%)]\tTrain Loss: 0.773775\n",
      "\n",
      "[EPOCH: 4], \tTest Loss: 0.0267, \tTest Accuracy: 71.61 % \n",
      "\n",
      "Train Epoch: 5 [0/50000 (0%)]\tTrain Loss: 0.623524\n",
      "Train Epoch: 5 [6400/50000 (13%)]\tTrain Loss: 0.847880\n",
      "Train Epoch: 5 [12800/50000 (26%)]\tTrain Loss: 1.191697\n",
      "Train Epoch: 5 [19200/50000 (38%)]\tTrain Loss: 0.647703\n",
      "Train Epoch: 5 [25600/50000 (51%)]\tTrain Loss: 0.864803\n",
      "Train Epoch: 5 [32000/50000 (64%)]\tTrain Loss: 0.690658\n",
      "Train Epoch: 5 [38400/50000 (77%)]\tTrain Loss: 0.785218\n",
      "Train Epoch: 5 [44800/50000 (90%)]\tTrain Loss: 0.836412\n",
      "\n",
      "[EPOCH: 5], \tTest Loss: 0.0233, \tTest Accuracy: 73.89 % \n",
      "\n",
      "Train Epoch: 6 [0/50000 (0%)]\tTrain Loss: 0.626737\n",
      "Train Epoch: 6 [6400/50000 (13%)]\tTrain Loss: 0.752472\n",
      "Train Epoch: 6 [12800/50000 (26%)]\tTrain Loss: 1.170293\n",
      "Train Epoch: 6 [19200/50000 (38%)]\tTrain Loss: 0.382847\n",
      "Train Epoch: 6 [25600/50000 (51%)]\tTrain Loss: 0.683369\n",
      "Train Epoch: 6 [32000/50000 (64%)]\tTrain Loss: 0.761530\n",
      "Train Epoch: 6 [38400/50000 (77%)]\tTrain Loss: 0.468438\n",
      "Train Epoch: 6 [44800/50000 (90%)]\tTrain Loss: 0.706475\n",
      "\n",
      "[EPOCH: 6], \tTest Loss: 0.0227, \tTest Accuracy: 76.00 % \n",
      "\n",
      "Train Epoch: 7 [0/50000 (0%)]\tTrain Loss: 1.219338\n",
      "Train Epoch: 7 [6400/50000 (13%)]\tTrain Loss: 0.644969\n",
      "Train Epoch: 7 [12800/50000 (26%)]\tTrain Loss: 0.411105\n",
      "Train Epoch: 7 [19200/50000 (38%)]\tTrain Loss: 0.399782\n",
      "Train Epoch: 7 [25600/50000 (51%)]\tTrain Loss: 0.533551\n",
      "Train Epoch: 7 [32000/50000 (64%)]\tTrain Loss: 0.565742\n",
      "Train Epoch: 7 [38400/50000 (77%)]\tTrain Loss: 0.450343\n",
      "Train Epoch: 7 [44800/50000 (90%)]\tTrain Loss: 0.796967\n",
      "\n",
      "[EPOCH: 7], \tTest Loss: 0.0221, \tTest Accuracy: 76.13 % \n",
      "\n",
      "Train Epoch: 8 [0/50000 (0%)]\tTrain Loss: 0.606959\n",
      "Train Epoch: 8 [6400/50000 (13%)]\tTrain Loss: 0.642182\n",
      "Train Epoch: 8 [12800/50000 (26%)]\tTrain Loss: 0.572228\n",
      "Train Epoch: 8 [19200/50000 (38%)]\tTrain Loss: 0.727608\n",
      "Train Epoch: 8 [25600/50000 (51%)]\tTrain Loss: 0.278673\n",
      "Train Epoch: 8 [32000/50000 (64%)]\tTrain Loss: 1.045651\n",
      "Train Epoch: 8 [38400/50000 (77%)]\tTrain Loss: 0.648844\n",
      "Train Epoch: 8 [44800/50000 (90%)]\tTrain Loss: 0.266564\n",
      "\n",
      "[EPOCH: 8], \tTest Loss: 0.0202, \tTest Accuracy: 78.41 % \n",
      "\n",
      "Train Epoch: 9 [0/50000 (0%)]\tTrain Loss: 0.511836\n",
      "Train Epoch: 9 [6400/50000 (13%)]\tTrain Loss: 0.444108\n",
      "Train Epoch: 9 [12800/50000 (26%)]\tTrain Loss: 0.631076\n",
      "Train Epoch: 9 [19200/50000 (38%)]\tTrain Loss: 0.445597\n",
      "Train Epoch: 9 [25600/50000 (51%)]\tTrain Loss: 0.607495\n",
      "Train Epoch: 9 [32000/50000 (64%)]\tTrain Loss: 0.471432\n",
      "Train Epoch: 9 [38400/50000 (77%)]\tTrain Loss: 0.375092\n",
      "Train Epoch: 9 [44800/50000 (90%)]\tTrain Loss: 0.280530\n",
      "\n",
      "[EPOCH: 9], \tTest Loss: 0.0205, \tTest Accuracy: 77.89 % \n",
      "\n",
      "Train Epoch: 10 [0/50000 (0%)]\tTrain Loss: 0.341516\n",
      "Train Epoch: 10 [6400/50000 (13%)]\tTrain Loss: 0.523126\n",
      "Train Epoch: 10 [12800/50000 (26%)]\tTrain Loss: 0.564578\n",
      "Train Epoch: 10 [19200/50000 (38%)]\tTrain Loss: 0.531081\n",
      "Train Epoch: 10 [25600/50000 (51%)]\tTrain Loss: 0.500273\n",
      "Train Epoch: 10 [32000/50000 (64%)]\tTrain Loss: 0.482337\n",
      "Train Epoch: 10 [38400/50000 (77%)]\tTrain Loss: 0.388562\n",
      "Train Epoch: 10 [44800/50000 (90%)]\tTrain Loss: 0.419705\n",
      "\n",
      "[EPOCH: 10], \tTest Loss: 0.0197, \tTest Accuracy: 78.52 % \n",
      "\n"
     ]
    }
   ],
   "source": [
    "''' 10. 불러온 ResNet34 학습 실행하며 Train, Test set의 Loss 및 Test set Accuracy 확인하기 '''\n",
    "for epoch in range(1, EPOCHS + 1):\n",
    "    train(model, train_loader, optimizer, log_interval = 200)\n",
    "    test_loss, test_accuracy = evaluate(model, test_loader)\n",
    "    print(\"\\n[EPOCH: {}], \\tTest Loss: {:.4f}, \\tTest Accuracy: {:.2f} % \\n\".format(\n",
    "        epoch, test_loss, test_accuracy))"
   ]
  },
  {
   "cell_type": "markdown",
   "metadata": {
    "id": "8DUqTdoAYbRK"
   },
   "source": [
    "- `models.resnet34(pretrained = True)` 사용\n",
    "  - 10 epochs 학습하여 테스트 데이터셋으로 성능 측정 결과, 분류 정확도 81% 기록"
   ]
  },
  {
   "cell_type": "code",
   "execution_count": null,
   "metadata": {
    "id": "5_OCdx9sV0Jt",
    "outputId": "376f23eb-4014-46fa-8a9c-09e01241aba8"
   },
   "outputs": [
    {
     "name": "stdout",
     "output_type": "stream",
     "text": [
      "Train Epoch: 1 [0/50000 (0%)]\tTrain Loss: 2.862173\n",
      "Train Epoch: 1 [6400/50000 (13%)]\tTrain Loss: 1.495196\n",
      "Train Epoch: 1 [12800/50000 (26%)]\tTrain Loss: 1.309041\n",
      "Train Epoch: 1 [19200/50000 (38%)]\tTrain Loss: 1.419471\n",
      "Train Epoch: 1 [25600/50000 (51%)]\tTrain Loss: 1.032039\n",
      "Train Epoch: 1 [32000/50000 (64%)]\tTrain Loss: 0.840156\n",
      "Train Epoch: 1 [38400/50000 (77%)]\tTrain Loss: 1.211152\n",
      "Train Epoch: 1 [44800/50000 (90%)]\tTrain Loss: 0.962714\n",
      "\n",
      "[EPOCH: 1], \tTest Loss: 0.0361, \tTest Accuracy: 62.49 % \n",
      "\n",
      "Train Epoch: 2 [0/50000 (0%)]\tTrain Loss: 1.193379\n",
      "Train Epoch: 2 [6400/50000 (13%)]\tTrain Loss: 0.874290\n",
      "Train Epoch: 2 [12800/50000 (26%)]\tTrain Loss: 1.068472\n",
      "Train Epoch: 2 [19200/50000 (38%)]\tTrain Loss: 0.797497\n",
      "Train Epoch: 2 [25600/50000 (51%)]\tTrain Loss: 1.113329\n",
      "Train Epoch: 2 [32000/50000 (64%)]\tTrain Loss: 0.528196\n",
      "Train Epoch: 2 [38400/50000 (77%)]\tTrain Loss: 1.100429\n",
      "Train Epoch: 2 [44800/50000 (90%)]\tTrain Loss: 0.828383\n",
      "\n",
      "[EPOCH: 2], \tTest Loss: 0.0226, \tTest Accuracy: 75.11 % \n",
      "\n",
      "Train Epoch: 3 [0/50000 (0%)]\tTrain Loss: 1.195282\n",
      "Train Epoch: 3 [6400/50000 (13%)]\tTrain Loss: 0.743280\n",
      "Train Epoch: 3 [12800/50000 (26%)]\tTrain Loss: 0.529993\n",
      "Train Epoch: 3 [19200/50000 (38%)]\tTrain Loss: 0.373632\n",
      "Train Epoch: 3 [25600/50000 (51%)]\tTrain Loss: 0.534670\n",
      "Train Epoch: 3 [32000/50000 (64%)]\tTrain Loss: 0.564877\n",
      "Train Epoch: 3 [38400/50000 (77%)]\tTrain Loss: 1.189356\n",
      "Train Epoch: 3 [44800/50000 (90%)]\tTrain Loss: 0.730017\n",
      "\n",
      "[EPOCH: 3], \tTest Loss: 0.0237, \tTest Accuracy: 74.82 % \n",
      "\n",
      "Train Epoch: 4 [0/50000 (0%)]\tTrain Loss: 0.610055\n",
      "Train Epoch: 4 [6400/50000 (13%)]\tTrain Loss: 0.409526\n",
      "Train Epoch: 4 [12800/50000 (26%)]\tTrain Loss: 0.623098\n",
      "Train Epoch: 4 [19200/50000 (38%)]\tTrain Loss: 0.662848\n",
      "Train Epoch: 4 [25600/50000 (51%)]\tTrain Loss: 0.433095\n",
      "Train Epoch: 4 [32000/50000 (64%)]\tTrain Loss: 0.828073\n",
      "Train Epoch: 4 [38400/50000 (77%)]\tTrain Loss: 1.037437\n",
      "Train Epoch: 4 [44800/50000 (90%)]\tTrain Loss: 0.424286\n",
      "\n",
      "[EPOCH: 4], \tTest Loss: 0.0230, \tTest Accuracy: 75.29 % \n",
      "\n",
      "Train Epoch: 5 [0/50000 (0%)]\tTrain Loss: 0.489021\n",
      "Train Epoch: 5 [6400/50000 (13%)]\tTrain Loss: 0.609966\n",
      "Train Epoch: 5 [12800/50000 (26%)]\tTrain Loss: 0.614124\n",
      "Train Epoch: 5 [19200/50000 (38%)]\tTrain Loss: 0.621681\n",
      "Train Epoch: 5 [25600/50000 (51%)]\tTrain Loss: 0.263266\n",
      "Train Epoch: 5 [32000/50000 (64%)]\tTrain Loss: 0.888712\n",
      "Train Epoch: 5 [38400/50000 (77%)]\tTrain Loss: 0.835986\n",
      "Train Epoch: 5 [44800/50000 (90%)]\tTrain Loss: 1.154837\n",
      "\n",
      "[EPOCH: 5], \tTest Loss: 0.0263, \tTest Accuracy: 78.00 % \n",
      "\n",
      "Train Epoch: 6 [0/50000 (0%)]\tTrain Loss: 0.330099\n",
      "Train Epoch: 6 [6400/50000 (13%)]\tTrain Loss: 0.462370\n",
      "Train Epoch: 6 [12800/50000 (26%)]\tTrain Loss: 0.405654\n",
      "Train Epoch: 6 [19200/50000 (38%)]\tTrain Loss: 0.659760\n",
      "Train Epoch: 6 [25600/50000 (51%)]\tTrain Loss: 0.505870\n",
      "Train Epoch: 6 [32000/50000 (64%)]\tTrain Loss: 0.565279\n",
      "Train Epoch: 6 [38400/50000 (77%)]\tTrain Loss: 0.491162\n",
      "Train Epoch: 6 [44800/50000 (90%)]\tTrain Loss: 0.538373\n",
      "\n",
      "[EPOCH: 6], \tTest Loss: 0.0211, \tTest Accuracy: 77.88 % \n",
      "\n",
      "Train Epoch: 7 [0/50000 (0%)]\tTrain Loss: 0.622401\n",
      "Train Epoch: 7 [6400/50000 (13%)]\tTrain Loss: 0.491845\n",
      "Train Epoch: 7 [12800/50000 (26%)]\tTrain Loss: 0.915394\n",
      "Train Epoch: 7 [19200/50000 (38%)]\tTrain Loss: 0.695461\n",
      "Train Epoch: 7 [25600/50000 (51%)]\tTrain Loss: 0.575088\n",
      "Train Epoch: 7 [32000/50000 (64%)]\tTrain Loss: 0.587504\n",
      "Train Epoch: 7 [38400/50000 (77%)]\tTrain Loss: 0.760709\n",
      "Train Epoch: 7 [44800/50000 (90%)]\tTrain Loss: 0.735391\n",
      "\n",
      "[EPOCH: 7], \tTest Loss: 0.0183, \tTest Accuracy: 80.42 % \n",
      "\n",
      "Train Epoch: 8 [0/50000 (0%)]\tTrain Loss: 0.384181\n",
      "Train Epoch: 8 [6400/50000 (13%)]\tTrain Loss: 1.327334\n",
      "Train Epoch: 8 [12800/50000 (26%)]\tTrain Loss: 0.617817\n",
      "Train Epoch: 8 [19200/50000 (38%)]\tTrain Loss: 0.439947\n",
      "Train Epoch: 8 [25600/50000 (51%)]\tTrain Loss: 0.175897\n",
      "Train Epoch: 8 [32000/50000 (64%)]\tTrain Loss: 0.476583\n",
      "Train Epoch: 8 [38400/50000 (77%)]\tTrain Loss: 0.566837\n",
      "Train Epoch: 8 [44800/50000 (90%)]\tTrain Loss: 0.639552\n",
      "\n",
      "[EPOCH: 8], \tTest Loss: 0.0419, \tTest Accuracy: 77.88 % \n",
      "\n",
      "Train Epoch: 9 [0/50000 (0%)]\tTrain Loss: 0.158025\n",
      "Train Epoch: 9 [6400/50000 (13%)]\tTrain Loss: 0.479468\n",
      "Train Epoch: 9 [12800/50000 (26%)]\tTrain Loss: 0.465637\n",
      "Train Epoch: 9 [19200/50000 (38%)]\tTrain Loss: 0.768246\n",
      "Train Epoch: 9 [25600/50000 (51%)]\tTrain Loss: 0.579027\n",
      "Train Epoch: 9 [32000/50000 (64%)]\tTrain Loss: 0.395822\n",
      "Train Epoch: 9 [38400/50000 (77%)]\tTrain Loss: 0.592758\n",
      "Train Epoch: 9 [44800/50000 (90%)]\tTrain Loss: 0.810438\n",
      "\n",
      "[EPOCH: 9], \tTest Loss: 0.0429, \tTest Accuracy: 79.39 % \n",
      "\n",
      "Train Epoch: 10 [0/50000 (0%)]\tTrain Loss: 0.510746\n",
      "Train Epoch: 10 [6400/50000 (13%)]\tTrain Loss: 0.667663\n",
      "Train Epoch: 10 [12800/50000 (26%)]\tTrain Loss: 0.255515\n",
      "Train Epoch: 10 [19200/50000 (38%)]\tTrain Loss: 0.399766\n",
      "Train Epoch: 10 [25600/50000 (51%)]\tTrain Loss: 0.279215\n",
      "Train Epoch: 10 [32000/50000 (64%)]\tTrain Loss: 0.131474\n",
      "Train Epoch: 10 [38400/50000 (77%)]\tTrain Loss: 0.273457\n",
      "Train Epoch: 10 [44800/50000 (90%)]\tTrain Loss: 0.662852\n",
      "\n",
      "[EPOCH: 10], \tTest Loss: 0.0220, \tTest Accuracy: 80.82 % \n",
      "\n"
     ]
    }
   ],
   "source": [
    "''' 11. IMAGENET 데이터로 학습이 된 ResNet34 모델을 불러온 후 Fine Tuning 해보기 '''\n",
    "model = models.resnet34(pretrained = True)\n",
    "num_ftrs = model.fc.in_features\n",
    "model.fc = nn.Linear(num_ftrs, 10)\n",
    "model = model.cuda()\n",
    "optimizer = torch.optim.Adam(model.parameters(), lr = 0.001)\n",
    "\n",
    "for epoch in range(1, EPOCHS + 1):\n",
    "    train(model, train_loader, optimizer, log_interval = 200)\n",
    "    test_loss, test_accuracy = evaluate(model, test_loader)\n",
    "    print(\"\\n[EPOCH: {}], \\tTest Loss: {:.4f}, \\tTest Accuracy: {:.2f} % \\n\".format(\n",
    "        epoch, test_loss, test_accuracy))"
   ]
  }
 ],
 "metadata": {
  "accelerator": "GPU",
  "colab": {
   "collapsed_sections": [],
   "name": "4-5_Load-Pre-trained_Model.ipynb",
   "provenance": []
  },
  "kernelspec": {
   "display_name": "Python 3 (ipykernel)",
   "language": "python",
   "name": "python3"
  },
  "language_info": {
   "codemirror_mode": {
    "name": "ipython",
    "version": 3
   },
   "file_extension": ".py",
   "mimetype": "text/x-python",
   "name": "python",
   "nbconvert_exporter": "python",
   "pygments_lexer": "ipython3",
   "version": "3.8.8"
  },
  "widgets": {
   "application/vnd.jupyter.widget-state+json": {
    "1cf46930fa334e92accff03950c0c5bc": {
     "model_module": "@jupyter-widgets/base",
     "model_module_version": "1.2.0",
     "model_name": "LayoutModel",
     "state": {
      "_model_module": "@jupyter-widgets/base",
      "_model_module_version": "1.2.0",
      "_model_name": "LayoutModel",
      "_view_count": null,
      "_view_module": "@jupyter-widgets/base",
      "_view_module_version": "1.2.0",
      "_view_name": "LayoutView",
      "align_content": null,
      "align_items": null,
      "align_self": null,
      "border": null,
      "bottom": null,
      "display": null,
      "flex": null,
      "flex_flow": null,
      "grid_area": null,
      "grid_auto_columns": null,
      "grid_auto_flow": null,
      "grid_auto_rows": null,
      "grid_column": null,
      "grid_gap": null,
      "grid_row": null,
      "grid_template_areas": null,
      "grid_template_columns": null,
      "grid_template_rows": null,
      "height": null,
      "justify_content": null,
      "justify_items": null,
      "left": null,
      "margin": null,
      "max_height": null,
      "max_width": null,
      "min_height": null,
      "min_width": null,
      "object_fit": null,
      "object_position": null,
      "order": null,
      "overflow": null,
      "overflow_x": null,
      "overflow_y": null,
      "padding": null,
      "right": null,
      "top": null,
      "visibility": null,
      "width": null
     }
    },
    "25d3e391fae445d794eb3d4aa5f4eac0": {
     "model_module": "@jupyter-widgets/controls",
     "model_module_version": "1.5.0",
     "model_name": "FloatProgressModel",
     "state": {
      "_dom_classes": [],
      "_model_module": "@jupyter-widgets/controls",
      "_model_module_version": "1.5.0",
      "_model_name": "FloatProgressModel",
      "_view_count": null,
      "_view_module": "@jupyter-widgets/controls",
      "_view_module_version": "1.5.0",
      "_view_name": "ProgressView",
      "bar_style": "success",
      "description": "",
      "description_tooltip": null,
      "layout": "IPY_MODEL_a187099eb47740ed9ea9aefe953ab0b5",
      "max": 170498071,
      "min": 0,
      "orientation": "horizontal",
      "style": "IPY_MODEL_699e8910735f4c55bdf11a907851cae7",
      "value": 170498071
     }
    },
    "699e8910735f4c55bdf11a907851cae7": {
     "model_module": "@jupyter-widgets/controls",
     "model_module_version": "1.5.0",
     "model_name": "ProgressStyleModel",
     "state": {
      "_model_module": "@jupyter-widgets/controls",
      "_model_module_version": "1.5.0",
      "_model_name": "ProgressStyleModel",
      "_view_count": null,
      "_view_module": "@jupyter-widgets/base",
      "_view_module_version": "1.2.0",
      "_view_name": "StyleView",
      "bar_color": null,
      "description_width": ""
     }
    },
    "93b08cef3383460abc16311db5ae7303": {
     "model_module": "@jupyter-widgets/controls",
     "model_module_version": "1.5.0",
     "model_name": "DescriptionStyleModel",
     "state": {
      "_model_module": "@jupyter-widgets/controls",
      "_model_module_version": "1.5.0",
      "_model_name": "DescriptionStyleModel",
      "_view_count": null,
      "_view_module": "@jupyter-widgets/base",
      "_view_module_version": "1.2.0",
      "_view_name": "StyleView",
      "description_width": ""
     }
    },
    "966f1105a18c4557bbcc49a45dff0795": {
     "model_module": "@jupyter-widgets/controls",
     "model_module_version": "1.5.0",
     "model_name": "DescriptionStyleModel",
     "state": {
      "_model_module": "@jupyter-widgets/controls",
      "_model_module_version": "1.5.0",
      "_model_name": "DescriptionStyleModel",
      "_view_count": null,
      "_view_module": "@jupyter-widgets/base",
      "_view_module_version": "1.2.0",
      "_view_name": "StyleView",
      "description_width": ""
     }
    },
    "a187099eb47740ed9ea9aefe953ab0b5": {
     "model_module": "@jupyter-widgets/base",
     "model_module_version": "1.2.0",
     "model_name": "LayoutModel",
     "state": {
      "_model_module": "@jupyter-widgets/base",
      "_model_module_version": "1.2.0",
      "_model_name": "LayoutModel",
      "_view_count": null,
      "_view_module": "@jupyter-widgets/base",
      "_view_module_version": "1.2.0",
      "_view_name": "LayoutView",
      "align_content": null,
      "align_items": null,
      "align_self": null,
      "border": null,
      "bottom": null,
      "display": null,
      "flex": null,
      "flex_flow": null,
      "grid_area": null,
      "grid_auto_columns": null,
      "grid_auto_flow": null,
      "grid_auto_rows": null,
      "grid_column": null,
      "grid_gap": null,
      "grid_row": null,
      "grid_template_areas": null,
      "grid_template_columns": null,
      "grid_template_rows": null,
      "height": null,
      "justify_content": null,
      "justify_items": null,
      "left": null,
      "margin": null,
      "max_height": null,
      "max_width": null,
      "min_height": null,
      "min_width": null,
      "object_fit": null,
      "object_position": null,
      "order": null,
      "overflow": null,
      "overflow_x": null,
      "overflow_y": null,
      "padding": null,
      "right": null,
      "top": null,
      "visibility": null,
      "width": null
     }
    },
    "a3249379b03547fdae4032d6eccf8890": {
     "model_module": "@jupyter-widgets/base",
     "model_module_version": "1.2.0",
     "model_name": "LayoutModel",
     "state": {
      "_model_module": "@jupyter-widgets/base",
      "_model_module_version": "1.2.0",
      "_model_name": "LayoutModel",
      "_view_count": null,
      "_view_module": "@jupyter-widgets/base",
      "_view_module_version": "1.2.0",
      "_view_name": "LayoutView",
      "align_content": null,
      "align_items": null,
      "align_self": null,
      "border": null,
      "bottom": null,
      "display": null,
      "flex": null,
      "flex_flow": null,
      "grid_area": null,
      "grid_auto_columns": null,
      "grid_auto_flow": null,
      "grid_auto_rows": null,
      "grid_column": null,
      "grid_gap": null,
      "grid_row": null,
      "grid_template_areas": null,
      "grid_template_columns": null,
      "grid_template_rows": null,
      "height": null,
      "justify_content": null,
      "justify_items": null,
      "left": null,
      "margin": null,
      "max_height": null,
      "max_width": null,
      "min_height": null,
      "min_width": null,
      "object_fit": null,
      "object_position": null,
      "order": null,
      "overflow": null,
      "overflow_x": null,
      "overflow_y": null,
      "padding": null,
      "right": null,
      "top": null,
      "visibility": null,
      "width": null
     }
    },
    "d2509fbbbdd1496f8271968ef14c7b29": {
     "model_module": "@jupyter-widgets/controls",
     "model_module_version": "1.5.0",
     "model_name": "HBoxModel",
     "state": {
      "_dom_classes": [],
      "_model_module": "@jupyter-widgets/controls",
      "_model_module_version": "1.5.0",
      "_model_name": "HBoxModel",
      "_view_count": null,
      "_view_module": "@jupyter-widgets/controls",
      "_view_module_version": "1.5.0",
      "_view_name": "HBoxView",
      "box_style": "",
      "children": [
       "IPY_MODEL_f3b80b0f39ad4f059953e555e9ad8c34",
       "IPY_MODEL_25d3e391fae445d794eb3d4aa5f4eac0",
       "IPY_MODEL_e77d256cd7c744ee9c690f8013315c1d"
      ],
      "layout": "IPY_MODEL_a3249379b03547fdae4032d6eccf8890"
     }
    },
    "db65e49ff99343abb53ee60fa7abc9b1": {
     "model_module": "@jupyter-widgets/base",
     "model_module_version": "1.2.0",
     "model_name": "LayoutModel",
     "state": {
      "_model_module": "@jupyter-widgets/base",
      "_model_module_version": "1.2.0",
      "_model_name": "LayoutModel",
      "_view_count": null,
      "_view_module": "@jupyter-widgets/base",
      "_view_module_version": "1.2.0",
      "_view_name": "LayoutView",
      "align_content": null,
      "align_items": null,
      "align_self": null,
      "border": null,
      "bottom": null,
      "display": null,
      "flex": null,
      "flex_flow": null,
      "grid_area": null,
      "grid_auto_columns": null,
      "grid_auto_flow": null,
      "grid_auto_rows": null,
      "grid_column": null,
      "grid_gap": null,
      "grid_row": null,
      "grid_template_areas": null,
      "grid_template_columns": null,
      "grid_template_rows": null,
      "height": null,
      "justify_content": null,
      "justify_items": null,
      "left": null,
      "margin": null,
      "max_height": null,
      "max_width": null,
      "min_height": null,
      "min_width": null,
      "object_fit": null,
      "object_position": null,
      "order": null,
      "overflow": null,
      "overflow_x": null,
      "overflow_y": null,
      "padding": null,
      "right": null,
      "top": null,
      "visibility": null,
      "width": null
     }
    },
    "e77d256cd7c744ee9c690f8013315c1d": {
     "model_module": "@jupyter-widgets/controls",
     "model_module_version": "1.5.0",
     "model_name": "HTMLModel",
     "state": {
      "_dom_classes": [],
      "_model_module": "@jupyter-widgets/controls",
      "_model_module_version": "1.5.0",
      "_model_name": "HTMLModel",
      "_view_count": null,
      "_view_module": "@jupyter-widgets/controls",
      "_view_module_version": "1.5.0",
      "_view_name": "HTMLView",
      "description": "",
      "description_tooltip": null,
      "layout": "IPY_MODEL_1cf46930fa334e92accff03950c0c5bc",
      "placeholder": "​",
      "style": "IPY_MODEL_966f1105a18c4557bbcc49a45dff0795",
      "value": " 170499072/? [00:03&lt;00:00, 52772305.55it/s]"
     }
    },
    "f3b80b0f39ad4f059953e555e9ad8c34": {
     "model_module": "@jupyter-widgets/controls",
     "model_module_version": "1.5.0",
     "model_name": "HTMLModel",
     "state": {
      "_dom_classes": [],
      "_model_module": "@jupyter-widgets/controls",
      "_model_module_version": "1.5.0",
      "_model_name": "HTMLModel",
      "_view_count": null,
      "_view_module": "@jupyter-widgets/controls",
      "_view_module_version": "1.5.0",
      "_view_name": "HTMLView",
      "description": "",
      "description_tooltip": null,
      "layout": "IPY_MODEL_db65e49ff99343abb53ee60fa7abc9b1",
      "placeholder": "​",
      "style": "IPY_MODEL_93b08cef3383460abc16311db5ae7303",
      "value": ""
     }
    }
   }
  }
 },
 "nbformat": 4,
 "nbformat_minor": 1
}
