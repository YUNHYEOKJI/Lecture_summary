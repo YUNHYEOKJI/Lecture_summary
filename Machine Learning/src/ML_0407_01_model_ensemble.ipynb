{
 "cells": [
  {
   "cell_type": "markdown",
   "metadata": {
    "colab_type": "text",
    "id": "Xi-_0qA6N5hZ"
   },
   "source": [
    "<font color=\"#CC3D3D\"><p>\n",
    "# Ensemble Learning"
   ]
  },
  {
   "cell_type": "markdown",
   "metadata": {
    "colab": {
     "autoexec": {
      "startup": false,
      "wait_interval": 0
     }
    },
    "colab_type": "code",
    "id": "stensr9MN5hb"
   },
   "source": [
    "### Data Preparation"
   ]
  },
  {
   "cell_type": "code",
   "execution_count": 1,
   "metadata": {
    "colab": {
     "autoexec": {
      "startup": false,
      "wait_interval": 0
     }
    },
    "colab_type": "code",
    "id": "stensr9MN5hb"
   },
   "outputs": [],
   "source": [
    "import pandas as pd\n",
    "import numpy as np\n",
    "import seaborn as sns\n",
    "import matplotlib.pylab as plt\n",
    "%matplotlib inline\n",
    "import warnings\n",
    "warnings.filterwarnings(\"ignore\")"
   ]
  },
  {
   "cell_type": "code",
   "execution_count": 2,
   "metadata": {
    "colab": {
     "autoexec": {
      "startup": false,
      "wait_interval": 0
     }
    },
    "colab_type": "code",
    "id": "stensr9MN5hb",
    "scrolled": true
   },
   "outputs": [
    {
     "data": {
      "text/plain": [
       "((569, 30),\n",
       " array(['mean radius', 'mean texture', 'mean perimeter', 'mean area',\n",
       "        'mean smoothness', 'mean compactness', 'mean concavity',\n",
       "        'mean concave points', 'mean symmetry', 'mean fractal dimension',\n",
       "        'radius error', 'texture error', 'perimeter error', 'area error',\n",
       "        'smoothness error', 'compactness error', 'concavity error',\n",
       "        'concave points error', 'symmetry error',\n",
       "        'fractal dimension error', 'worst radius', 'worst texture',\n",
       "        'worst perimeter', 'worst area', 'worst smoothness',\n",
       "        'worst compactness', 'worst concavity', 'worst concave points',\n",
       "        'worst symmetry', 'worst fractal dimension'], dtype='<U23'))"
      ]
     },
     "execution_count": 2,
     "metadata": {},
     "output_type": "execute_result"
    }
   ],
   "source": [
    "# Read Data\n",
    "from sklearn.datasets import load_breast_cancer\n",
    "cancer = load_breast_cancer()\n",
    "cancer.data.shape, cancer.feature_names"
   ]
  },
  {
   "cell_type": "markdown",
   "metadata": {},
   "source": [
    "***유방암 진단 데이터***      \n",
    "- 타겟 데이터: 종양이 악성(malignant, 0) or 양성(benign, 1)\n",
    "- 속성 데이터: 유방암 진단 사진으로부터 측정한 종양(tumar)의 특징값(30 개)"
   ]
  },
  {
   "cell_type": "code",
   "execution_count": 3,
   "metadata": {},
   "outputs": [],
   "source": [
    "# Split Data\n",
    "from sklearn.model_selection import train_test_split\n",
    "X_train, X_test, y_train, y_test = train_test_split(\n",
    "    cancer.data, cancer.target, random_state=0)"
   ]
  },
  {
   "cell_type": "markdown",
   "metadata": {},
   "source": [
    "## Correlation between models"
   ]
  },
  {
   "cell_type": "code",
   "execution_count": 4,
   "metadata": {},
   "outputs": [],
   "source": [
    "from sklearn.linear_model import LogisticRegression\n",
    "from sklearn.neighbors import KNeighborsClassifier\n",
    "from sklearn.tree import DecisionTreeClassifier\n",
    "from sklearn.neural_network import MLPClassifier\n",
    "from sklearn.svm import SVC\n",
    "from sklearn.ensemble import RandomForestClassifier, GradientBoostingClassifier\n",
    "# Decision Tree모델을 앙상블 -> RandomForest\n",
    "# 잔차: 실제값과 예측값의 차이, 잔차를 줄여가면서 모델을 활용: GradientBoosing\n",
    "from sklearn.model_selection import cross_val_score\n",
    "from sklearn.metrics import accuracy_score\n",
    "from sklearn.metrics import roc_auc_score"
   ]
  },
  {
   "cell_type": "code",
   "execution_count": 5,
   "metadata": {},
   "outputs": [],
   "source": [
    "clfs = [] # 학습이 이루어지지 않은 모델을 리스트에 저장\n",
    "LR=LogisticRegression(random_state=0); clfs.append(LR)\n",
    "DT=DecisionTreeClassifier(random_state=0); clfs.append(DT)\n",
    "MLP=MLPClassifier(random_state=0); clfs.append(MLP)\n",
    "KNN=KNeighborsClassifier(); clfs.append(KNN)\n",
    "RF=RandomForestClassifier(random_state=0); clfs.append(RF)\n",
    "GBM=GradientBoostingClassifier(random_state=0); clfs.append(GBM)"
   ]
  },
  {
   "cell_type": "code",
   "execution_count": 6,
   "metadata": {},
   "outputs": [
    {
     "data": {
      "text/plain": [
       "[LogisticRegression(random_state=0),\n",
       " DecisionTreeClassifier(random_state=0),\n",
       " MLPClassifier(random_state=0),\n",
       " KNeighborsClassifier(),\n",
       " RandomForestClassifier(random_state=0),\n",
       " GradientBoostingClassifier(random_state=0)]"
      ]
     },
     "execution_count": 6,
     "metadata": {},
     "output_type": "execute_result"
    }
   ],
   "source": [
    "clfs"
   ]
  },
  {
   "cell_type": "code",
   "execution_count": 7,
   "metadata": {},
   "outputs": [
    {
     "name": "stdout",
     "output_type": "stream",
     "text": [
      "LogisticRegression             0.9440559440559441\n",
      "DecisionTreeClassifier         0.8811188811188811\n",
      "MLPClassifier                  0.9300699300699301\n",
      "KNeighborsClassifier           0.9370629370629371\n",
      "RandomForestClassifier         0.972027972027972\n",
      "GradientBoostingClassifier     0.965034965034965\n",
      "[0      0\n",
      "1      1\n",
      "2      1\n",
      "3      1\n",
      "4      1\n",
      "      ..\n",
      "138    0\n",
      "139    1\n",
      "140    1\n",
      "141    1\n",
      "142    0\n",
      "Name: LogisticRegression, Length: 143, dtype: int32, 0      0\n",
      "1      1\n",
      "2      1\n",
      "3      1\n",
      "4      1\n",
      "      ..\n",
      "138    0\n",
      "139    1\n",
      "140    1\n",
      "141    1\n",
      "142    0\n",
      "Name: DecisionTreeClassifier, Length: 143, dtype: int32, 0      0\n",
      "1      1\n",
      "2      1\n",
      "3      0\n",
      "4      1\n",
      "      ..\n",
      "138    0\n",
      "139    1\n",
      "140    1\n",
      "141    1\n",
      "142    0\n",
      "Name: MLPClassifier, Length: 143, dtype: int32, 0      0\n",
      "1      1\n",
      "2      1\n",
      "3      0\n",
      "4      1\n",
      "      ..\n",
      "138    0\n",
      "139    1\n",
      "140    1\n",
      "141    1\n",
      "142    0\n",
      "Name: KNeighborsClassifier, Length: 143, dtype: int32, 0      0\n",
      "1      1\n",
      "2      1\n",
      "3      1\n",
      "4      1\n",
      "      ..\n",
      "138    0\n",
      "139    1\n",
      "140    1\n",
      "141    1\n",
      "142    0\n",
      "Name: RandomForestClassifier, Length: 143, dtype: int32, 0      0\n",
      "1      1\n",
      "2      1\n",
      "3      1\n",
      "4      1\n",
      "      ..\n",
      "138    0\n",
      "139    1\n",
      "140    1\n",
      "141    1\n",
      "142    0\n",
      "Name: GradientBoostingClassifier, Length: 143, dtype: int32]\n",
      "     LogisticRegression  DecisionTreeClassifier  MLPClassifier  \\\n",
      "0                     0                       0              0   \n",
      "1                     1                       1              1   \n",
      "2                     1                       1              1   \n",
      "3                     1                       1              0   \n",
      "4                     1                       1              1   \n",
      "..                  ...                     ...            ...   \n",
      "138                   0                       0              0   \n",
      "139                   1                       1              1   \n",
      "140                   1                       1              1   \n",
      "141                   1                       1              1   \n",
      "142                   0                       0              0   \n",
      "\n",
      "     KNeighborsClassifier  RandomForestClassifier  GradientBoostingClassifier  \n",
      "0                       0                       0                           0  \n",
      "1                       1                       1                           1  \n",
      "2                       1                       1                           1  \n",
      "3                       0                       1                           1  \n",
      "4                       1                       1                           1  \n",
      "..                    ...                     ...                         ...  \n",
      "138                     0                       0                           0  \n",
      "139                     1                       1                           1  \n",
      "140                     1                       1                           1  \n",
      "141                     1                       1                           1  \n",
      "142                     0                       0                           0  \n",
      "\n",
      "[143 rows x 6 columns]\n"
     ]
    }
   ],
   "source": [
    "pred_results = []\n",
    "for clf in clfs :\n",
    "    pred = clf.fit(X_train, y_train).predict(X_test)\n",
    "    name = type(clf).__name__  # 사이킷런 모델의 이름(.__name__)\n",
    "    pred_results.append(pd.Series(pred, name=name)) # Series는 하나의 열\n",
    "    print(\"{:30s} {}\".format(name, accuracy_score(y_test, pred)))\n",
    "print(pred_results)\n",
    "ensemble_results = pd.concat(pred_results, axis=1); print(ensemble_results)"
   ]
  },
  {
   "cell_type": "code",
   "execution_count": 8,
   "metadata": {},
   "outputs": [
    {
     "name": "stdout",
     "output_type": "stream",
     "text": [
      "LogisticRegression             0.9440559440559441\n",
      "DecisionTreeClassifier         0.8811188811188811\n",
      "MLPClassifier                  0.9300699300699301\n",
      "KNeighborsClassifier           0.9370629370629371\n",
      "RandomForestClassifier         0.972027972027972\n",
      "GradientBoostingClassifier     0.965034965034965\n"
     ]
    },
    {
     "data": {
      "image/png": "[encoded data removed]",
      "text/plain": [
       "<Figure size 576x432 with 2 Axes>"
      ]
     },
     "metadata": {
      "needs_background": "light"
     },
     "output_type": "display_data"
    }
   ],
   "source": [
    "pred_results = []\n",
    "for clf in clfs :\n",
    "    pred = clf.fit(X_train, y_train).predict(X_test)\n",
    "    name = type(clf).__name__  # 사이킷런 모델의 이름(.__name__)\n",
    "    pred_results.append(pd.Series(pred, name=name)) # Series는 하나의 열\n",
    "    print(\"{:30s} {}\".format(name, accuracy_score(y_test, pred)))\n",
    "\n",
    "ensemble_results = pd.concat(pred_results, axis=1) # 열 기준으로 concat -> dataframe\n",
    "plt.figure(figsize = (8,6))\n",
    "g = sns.heatmap(ensemble_results.corr(),annot=True, cmap='Blues')\n",
    "g.set_title(\"Correlation between models\")\n",
    "plt.show()"
   ]
  },
  {
   "cell_type": "markdown",
   "metadata": {},
   "source": [
    "- RandomForest 선택, 가장 유사하지 않은 DecisionTree은 correlation은 떨어지지만 성능이 떨어짐, MLP와 비교했을 때 선택하기 어려움"
   ]
  },
  {
   "cell_type": "code",
   "execution_count": 9,
   "metadata": {},
   "outputs": [
    {
     "data": {
      "text/html": [
       "<div>\n",
       "<style scoped>\n",
       "    .dataframe tbody tr th:only-of-type {\n",
       "        vertical-align: middle;\n",
       "    }\n",
       "\n",
       "    .dataframe tbody tr th {\n",
       "        vertical-align: top;\n",
       "    }\n",
       "\n",
       "    .dataframe thead th {\n",
       "        text-align: right;\n",
       "    }\n",
       "</style>\n",
       "<table border=\"1\" class=\"dataframe\">\n",
       "  <thead>\n",
       "    <tr style=\"text-align: right;\">\n",
       "      <th></th>\n",
       "      <th>LogisticRegression</th>\n",
       "      <th>DecisionTreeClassifier</th>\n",
       "      <th>MLPClassifier</th>\n",
       "      <th>KNeighborsClassifier</th>\n",
       "      <th>RandomForestClassifier</th>\n",
       "      <th>GradientBoostingClassifier</th>\n",
       "    </tr>\n",
       "  </thead>\n",
       "  <tbody>\n",
       "    <tr>\n",
       "      <th>0</th>\n",
       "      <td>0</td>\n",
       "      <td>0</td>\n",
       "      <td>0</td>\n",
       "      <td>0</td>\n",
       "      <td>0</td>\n",
       "      <td>0</td>\n",
       "    </tr>\n",
       "    <tr>\n",
       "      <th>1</th>\n",
       "      <td>1</td>\n",
       "      <td>1</td>\n",
       "      <td>1</td>\n",
       "      <td>1</td>\n",
       "      <td>1</td>\n",
       "      <td>1</td>\n",
       "    </tr>\n",
       "    <tr>\n",
       "      <th>2</th>\n",
       "      <td>1</td>\n",
       "      <td>1</td>\n",
       "      <td>1</td>\n",
       "      <td>1</td>\n",
       "      <td>1</td>\n",
       "      <td>1</td>\n",
       "    </tr>\n",
       "    <tr>\n",
       "      <th>3</th>\n",
       "      <td>1</td>\n",
       "      <td>1</td>\n",
       "      <td>0</td>\n",
       "      <td>0</td>\n",
       "      <td>1</td>\n",
       "      <td>1</td>\n",
       "    </tr>\n",
       "    <tr>\n",
       "      <th>4</th>\n",
       "      <td>1</td>\n",
       "      <td>1</td>\n",
       "      <td>1</td>\n",
       "      <td>1</td>\n",
       "      <td>1</td>\n",
       "      <td>1</td>\n",
       "    </tr>\n",
       "    <tr>\n",
       "      <th>...</th>\n",
       "      <td>...</td>\n",
       "      <td>...</td>\n",
       "      <td>...</td>\n",
       "      <td>...</td>\n",
       "      <td>...</td>\n",
       "      <td>...</td>\n",
       "    </tr>\n",
       "    <tr>\n",
       "      <th>138</th>\n",
       "      <td>0</td>\n",
       "      <td>0</td>\n",
       "      <td>0</td>\n",
       "      <td>0</td>\n",
       "      <td>0</td>\n",
       "      <td>0</td>\n",
       "    </tr>\n",
       "    <tr>\n",
       "      <th>139</th>\n",
       "      <td>1</td>\n",
       "      <td>1</td>\n",
       "      <td>1</td>\n",
       "      <td>1</td>\n",
       "      <td>1</td>\n",
       "      <td>1</td>\n",
       "    </tr>\n",
       "    <tr>\n",
       "      <th>140</th>\n",
       "      <td>1</td>\n",
       "      <td>1</td>\n",
       "      <td>1</td>\n",
       "      <td>1</td>\n",
       "      <td>1</td>\n",
       "      <td>1</td>\n",
       "    </tr>\n",
       "    <tr>\n",
       "      <th>141</th>\n",
       "      <td>1</td>\n",
       "      <td>1</td>\n",
       "      <td>1</td>\n",
       "      <td>1</td>\n",
       "      <td>1</td>\n",
       "      <td>1</td>\n",
       "    </tr>\n",
       "    <tr>\n",
       "      <th>142</th>\n",
       "      <td>0</td>\n",
       "      <td>0</td>\n",
       "      <td>0</td>\n",
       "      <td>0</td>\n",
       "      <td>0</td>\n",
       "      <td>0</td>\n",
       "    </tr>\n",
       "  </tbody>\n",
       "</table>\n",
       "<p>143 rows × 6 columns</p>\n",
       "</div>"
      ],
      "text/plain": [
       "     LogisticRegression  DecisionTreeClassifier  MLPClassifier  \\\n",
       "0                     0                       0              0   \n",
       "1                     1                       1              1   \n",
       "2                     1                       1              1   \n",
       "3                     1                       1              0   \n",
       "4                     1                       1              1   \n",
       "..                  ...                     ...            ...   \n",
       "138                   0                       0              0   \n",
       "139                   1                       1              1   \n",
       "140                   1                       1              1   \n",
       "141                   1                       1              1   \n",
       "142                   0                       0              0   \n",
       "\n",
       "     KNeighborsClassifier  RandomForestClassifier  GradientBoostingClassifier  \n",
       "0                       0                       0                           0  \n",
       "1                       1                       1                           1  \n",
       "2                       1                       1                           1  \n",
       "3                       0                       1                           1  \n",
       "4                       1                       1                           1  \n",
       "..                    ...                     ...                         ...  \n",
       "138                     0                       0                           0  \n",
       "139                     1                       1                           1  \n",
       "140                     1                       1                           1  \n",
       "141                     1                       1                           1  \n",
       "142                     0                       0                           0  \n",
       "\n",
       "[143 rows x 6 columns]"
      ]
     },
     "execution_count": 9,
     "metadata": {},
     "output_type": "execute_result"
    }
   ],
   "source": [
    "ensemble_results # 개별 모델이 예측한 값 -> 이를 각각의 feature로 모델을 예측하면 Stacking"
   ]
  },
  {
   "cell_type": "markdown",
   "metadata": {
    "colab_type": "text",
    "id": "U2F37ET-N5iP"
   },
   "source": [
    "## Voting ensemble   \n",
    "*평가지표가 accuracy, recall, precision 등일 경우 사용*"
   ]
  },
  {
   "cell_type": "markdown",
   "metadata": {},
   "source": [
    "- VotingClassifier(estimators = [('name',모델),('이름',모델)]) 이름과 모델 짝을 이루어"
   ]
  },
  {
   "cell_type": "code",
   "execution_count": 10,
   "metadata": {},
   "outputs": [
    {
     "data": {
      "text/plain": [
       "0.958041958041958"
      ]
     },
     "execution_count": 10,
     "metadata": {},
     "output_type": "execute_result"
    }
   ],
   "source": [
    "from sklearn.ensemble import VotingClassifier\n",
    "\n",
    "# 위에서 평가한 모든 모델을 앙상블할 경우\n",
    "voting = VotingClassifier(\n",
    "    estimators = [(type(clf).__name__, clf) for clf in clfs], voting='hard') # 6개를 voting한 앙상블 저장\n",
    "voting.fit(X_train, y_train).score(X_test, y_test)"
   ]
  },
  {
   "cell_type": "code",
   "execution_count": 11,
   "metadata": {},
   "outputs": [
    {
     "data": {
      "text/plain": [
       "0.958041958041958"
      ]
     },
     "execution_count": 11,
     "metadata": {},
     "output_type": "execute_result"
    }
   ],
   "source": [
    "# 가장 성능이 높은 GBM과 낮은 상관관계가 있는 모델끼리만 앙상블할 경우\n",
    "voting = VotingClassifier(\n",
    "    estimators = [('gbm', GBM), ('mlp', MLP), ('dt', DT)], voting='hard') # predict한 결과 :hard, 확률:soft\n",
    "voting.fit(X_train, y_train).score(X_test, y_test)"
   ]
  },
  {
   "cell_type": "code",
   "execution_count": 12,
   "metadata": {
    "colab": {
     "autoexec": {
      "startup": false,
      "wait_interval": 0
     }
    },
    "colab_type": "code",
    "id": "pQqos_uaN5iQ"
   },
   "outputs": [
    {
     "data": {
      "text/plain": [
       "0.951048951048951"
      ]
     },
     "execution_count": 12,
     "metadata": {},
     "output_type": "execute_result"
    }
   ],
   "source": [
    "# GBM과 성능이 비슷한 LR과 낮은 상관관계가 있는 모델끼리만 앙상블할 경우\n",
    "from sklearn.ensemble import VotingClassifier\n",
    "\n",
    "voting = VotingClassifier(\n",
    "    estimators = [('lr', LR), ('dt', DT), ('knn', KNN)], voting='hard')\n",
    "voting.fit(X_train, y_train).score(X_test, y_test)"
   ]
  },
  {
   "cell_type": "markdown",
   "metadata": {},
   "source": [
    "***Plotting Decision Regions***"
   ]
  },
  {
   "cell_type": "code",
   "execution_count": 13,
   "metadata": {
    "scrolled": true
   },
   "outputs": [
    {
     "name": "stdout",
     "output_type": "stream",
     "text": [
      "Collecting mlxtend\n",
      "  Downloading mlxtend-0.18.0-py2.py3-none-any.whl (1.3 MB)\n",
      "Requirement already satisfied: matplotlib>=3.0.0 in c:\\users\\msi\\anaconda3\\lib\\site-packages (from mlxtend) (3.3.4)\n",
      "Requirement already satisfied: numpy>=1.16.2 in c:\\users\\msi\\anaconda3\\lib\\site-packages (from mlxtend) (1.19.5)\n",
      "Requirement already satisfied: pandas>=0.24.2 in c:\\users\\msi\\anaconda3\\lib\\site-packages (from mlxtend) (1.2.3)\n",
      "Requirement already satisfied: joblib>=0.13.2 in c:\\users\\msi\\anaconda3\\lib\\site-packages (from mlxtend) (1.0.1)\n",
      "Requirement already satisfied: scikit-learn>=0.20.3 in c:\\users\\msi\\anaconda3\\lib\\site-packages (from mlxtend) (0.24.1)\n",
      "Requirement already satisfied: scipy>=1.2.1 in c:\\users\\msi\\anaconda3\\lib\\site-packages (from mlxtend) (1.6.1)\n",
      "Requirement already satisfied: setuptools in c:\\users\\msi\\anaconda3\\lib\\site-packages (from mlxtend) (52.0.0.post20210125)\n",
      "Requirement already satisfied: kiwisolver>=1.0.1 in c:\\users\\msi\\anaconda3\\lib\\site-packages (from matplotlib>=3.0.0->mlxtend) (1.3.1)\n",
      "Requirement already satisfied: pyparsing!=2.0.4,!=2.1.2,!=2.1.6,>=2.0.3 in c:\\users\\msi\\anaconda3\\lib\\site-packages (from matplotlib>=3.0.0->mlxtend) (2.4.7)\n",
      "Requirement already satisfied: python-dateutil>=2.1 in c:\\users\\msi\\anaconda3\\lib\\site-packages (from matplotlib>=3.0.0->mlxtend) (2.8.1)\n",
      "Requirement already satisfied: pillow>=6.2.0 in c:\\users\\msi\\anaconda3\\lib\\site-packages (from matplotlib>=3.0.0->mlxtend) (8.1.2)\n",
      "Requirement already satisfied: cycler>=0.10 in c:\\users\\msi\\anaconda3\\lib\\site-packages (from matplotlib>=3.0.0->mlxtend) (0.10.0)\n",
      "Requirement already satisfied: six in c:\\users\\msi\\anaconda3\\lib\\site-packages (from cycler>=0.10->matplotlib>=3.0.0->mlxtend) (1.15.0)\n",
      "Requirement already satisfied: pytz>=2017.3 in c:\\users\\msi\\anaconda3\\lib\\site-packages (from pandas>=0.24.2->mlxtend) (2021.1)\n",
      "Requirement already satisfied: threadpoolctl>=2.0.0 in c:\\users\\msi\\anaconda3\\lib\\site-packages (from scikit-learn>=0.20.3->mlxtend) (2.1.0)\n",
      "Installing collected packages: mlxtend\n",
      "Successfully installed mlxtend-0.18.0\n"
     ]
    }
   ],
   "source": [
    "#!pip install mlxtend"
   ]
  },
  {
   "cell_type": "markdown",
   "metadata": {},
   "source": [
    "import matplotlib.gridspec as gridspec\n",
    "import itertools\n",
    "from mlxtend.plotting import plot_decision_regions\n",
    "\n",
    "X, y = X_train, y_train\n",
    "X = X[:,[0, 10]]\n",
    "\n",
    "gs = gridspec.GridSpec(2, 2)\n",
    "fig = plt.figure(figsize=(10, 8))\n",
    "\n",
    "labels = ['Logistic Regression',\n",
    "          'Decision Tree',\n",
    "          'k-NN',\n",
    "          'Voting Ensemble']\n",
    "\n",
    "for clf, lab, grd in zip([LR, DT, KNN, voting],\n",
    "                         labels,\n",
    "                         itertools.product([0, 1], repeat=2)):\n",
    "    clf.fit(X, y)\n",
    "    ax = plt.subplot(gs[grd[0], grd[1]])\n",
    "    fig = plot_decision_regions(X=X, y=y, clf=clf, legend=2)\n",
    "    plt.title(lab)\n",
    "\n",
    "plt.show()"
   ]
  },
  {
   "cell_type": "markdown",
   "metadata": {
    "colab_type": "text",
    "id": "p5BZCjnIN5iT"
   },
   "source": [
    "## Averaging predictions   \n",
    "*평가지표가 roc-auc, logloss 등일 경우 사용*"
   ]
  },
  {
   "cell_type": "markdown",
   "metadata": {},
   "source": [
    "***Arithmetic mean***"
   ]
  },
  {
   "cell_type": "code",
   "execution_count": 13,
   "metadata": {
    "colab": {
     "autoexec": {
      "startup": false,
      "wait_interval": 0
     }
    },
    "colab_type": "code",
    "id": "5laHXOjxN5iT"
   },
   "outputs": [
    {
     "name": "stdout",
     "output_type": "stream",
     "text": [
      "AUC = 0.9876310272536688\n"
     ]
    }
   ],
   "source": [
    "averaging = VotingClassifier(\n",
    "    estimators = [('lr', LR), ('dt', DT), ('knn', KNN)], voting='soft') # soft 예측값의 평균을 가지고 예측\n",
    "averaging.fit(X_train, y_train)\n",
    "\n",
    "print('AUC =', roc_auc_score(y_test, averaging.predict_proba(X_test)[:,1])) # 확률값으로 계산하는 auc이므로 soft를 이용"
   ]
  },
  {
   "cell_type": "markdown",
   "metadata": {},
   "source": [
    "<img align='left' src=\"https://t1.daumcdn.net/cfile/tistory/2454233C57FA242D11\">"
   ]
  },
  {
   "cell_type": "markdown",
   "metadata": {},
   "source": [
    "***Geometric mean***"
   ]
  },
  {
   "cell_type": "code",
   "execution_count": 14,
   "metadata": {},
   "outputs": [
    {
     "name": "stdout",
     "output_type": "stream",
     "text": [
      "AUC =  0.9157232704402516\n"
     ]
    }
   ],
   "source": [
    "from scipy.stats.mstats import gmean\n",
    "\n",
    "pred_logreg = LR.fit(X_train, y_train).predict_proba(X_test)[:,1]\n",
    "pred_tree = DT.fit(X_train, y_train).predict_proba(X_test)[:,1]\n",
    "pred_knn = KNN.fit(X_train, y_train).predict_proba(X_test)[:,1]\n",
    "\n",
    "print('AUC = ', roc_auc_score(y_test, gmean([pred_logreg, pred_tree, pred_knn], axis=0))) # 각각의 예측값이 리스트로 들어가야한다."
   ]
  },
  {
   "cell_type": "markdown",
   "metadata": {
    "colab_type": "text",
    "id": "NI0nfQJUN5iY"
   },
   "source": [
    "## Stacking \n",
    "<br>\n",
    "<img align='left' src=\"https://rasbt.github.io/mlxtend/user_guide/classifier/StackingClassifier_files/stackingclassification_overview.png\" width=500 height=400>"
   ]
  },
  {
   "cell_type": "markdown",
   "metadata": {
    "colab_type": "text",
    "id": "ptDtIRwmN5iY"
   },
   "source": [
    "Install **vecstack** package using the following command:\n",
    "```\n",
    "!pip install vecstack\n",
    "```\n",
    "https://github.com/vecxoz/vecstack#variant-a-animation    \n"
   ]
  },
  {
   "cell_type": "code",
   "execution_count": 15,
   "metadata": {},
   "outputs": [
    {
     "name": "stdout",
     "output_type": "stream",
     "text": [
      "Requirement already satisfied: vecstack in c:\\users\\msi\\anaconda3\\envs\\ml\\lib\\site-packages (0.4.0)\n",
      "Requirement already satisfied: scikit-learn>=0.18 in c:\\users\\msi\\anaconda3\\envs\\ml\\lib\\site-packages (from vecstack) (0.24.1)\n",
      "Requirement already satisfied: scipy in c:\\users\\msi\\anaconda3\\envs\\ml\\lib\\site-packages (from vecstack) (1.6.1)\n",
      "Requirement already satisfied: numpy in c:\\users\\msi\\anaconda3\\envs\\ml\\lib\\site-packages (from vecstack) (1.20.0)\n",
      "Requirement already satisfied: joblib>=0.11 in c:\\users\\msi\\anaconda3\\envs\\ml\\lib\\site-packages (from scikit-learn>=0.18->vecstack) (1.0.1)\n",
      "Requirement already satisfied: threadpoolctl>=2.0.0 in c:\\users\\msi\\anaconda3\\envs\\ml\\lib\\site-packages (from scikit-learn>=0.18->vecstack) (2.1.0)\n",
      "Note: you may need to restart the kernel to use updated packages.\n"
     ]
    }
   ],
   "source": [
    "#!pip install vecstack"
   ]
  },
  {
   "cell_type": "markdown",
   "metadata": {},
   "source": [
    "    \n",
    "    \n",
    "***2-layer stacking***"
   ]
  },
  {
   "cell_type": "markdown",
   "metadata": {},
   "source": [
    "- stacking을 이용하려면 모델을 리스트에 넣어놓아야한다.\n",
    "- regression: 분류는 False 회귀는 True\n",
    "- needs_proba: 1st model의 예측을 predict로 할 것인지 확률값으로 할 것인지 -> False는 예측값만 가지고 한다.\n",
    "- stratified: (보통 True로 설정)\n",
    "- shuffle: 랜덤으로 셔플 (보통 True로 설정)\n",
    "- verbose: 돌면서 메세지를 출력할 것인지\n",
    "- S_train: 5개를 다 쌓는다.\n",
    "- S_test: 5개의 평균\n",
    "- S_train, y_train, S_test만 남는다.\n",
    "- feature가 6개인 데이터를 가지고 새로운 학습 -> 블랜딩 모델 (GBM을 사용) 모델하나만 사용\n",
    "- 테스트데이터로 예측한 것과 실제 테스트와 정확도측정\n",
    "- meta_model이 최종 앙상블 결과\n",
    "- Stacking은 대체적으로 regression이 분류보다 좋다 (분류는 생각보다 잘 나오지 않는다.)"
   ]
  },
  {
   "cell_type": "code",
   "execution_count": 16,
   "metadata": {
    "colab": {
     "autoexec": {
      "startup": false,
      "wait_interval": 0
     }
    },
    "colab_type": "code",
    "id": "lIy4ThBsN5ib"
   },
   "outputs": [
    {
     "name": "stdout",
     "output_type": "stream",
     "text": [
      "task:         [classification]\n",
      "n_classes:    [2]\n",
      "metric:       [accuracy_score]\n",
      "mode:         [oof_pred_bag]\n",
      "n_models:     [6]\n",
      "\n",
      "model  0:     [LogisticRegression]\n",
      "    fold  0:  [0.91860465]\n",
      "    fold  1:  [0.94117647]\n",
      "    fold  2:  [0.97647059]\n",
      "    fold  3:  [0.97647059]\n",
      "    fold  4:  [0.95294118]\n",
      "    ----\n",
      "    MEAN:     [0.95313269] + [0.02202039]\n",
      "    FULL:     [0.95305164]\n",
      "\n",
      "model  1:     [DecisionTreeClassifier]\n",
      "    fold  0:  [0.93023256]\n",
      "    fold  1:  [0.90588235]\n",
      "    fold  2:  [0.94117647]\n",
      "    fold  3:  [0.91764706]\n",
      "    fold  4:  [0.91764706]\n",
      "    ----\n",
      "    MEAN:     [0.92251710] + [0.01209835]\n",
      "    FULL:     [0.92253521]\n",
      "\n",
      "model  2:     [MLPClassifier]\n",
      "    fold  0:  [0.93023256]\n",
      "    fold  1:  [0.92941176]\n",
      "    fold  2:  [0.92941176]\n",
      "    fold  3:  [0.97647059]\n",
      "    fold  4:  [0.90588235]\n",
      "    ----\n",
      "    MEAN:     [0.93428181] + [0.02302283]\n",
      "    FULL:     [0.93427230]\n",
      "\n",
      "model  3:     [KNeighborsClassifier]\n",
      "    fold  0:  [0.89534884]\n",
      "    fold  1:  [0.95294118]\n",
      "    fold  2:  [0.94117647]\n",
      "    fold  3:  [0.95294118]\n",
      "    fold  4:  [0.90588235]\n",
      "    ----\n",
      "    MEAN:     [0.92965800] + [0.02432812]\n",
      "    FULL:     [0.92957746]\n",
      "\n",
      "model  4:     [RandomForestClassifier]\n",
      "    fold  0:  [0.96511628]\n",
      "    fold  1:  [0.94117647]\n",
      "    fold  2:  [0.95294118]\n",
      "    fold  3:  [0.95294118]\n",
      "    fold  4:  [0.95294118]\n",
      "    ----\n",
      "    MEAN:     [0.95302326] + [0.00757110]\n",
      "    FULL:     [0.95305164]\n",
      "\n",
      "model  5:     [GradientBoostingClassifier]\n",
      "    fold  0:  [0.94186047]\n",
      "    fold  1:  [0.95294118]\n",
      "    fold  2:  [0.96470588]\n",
      "    fold  3:  [0.95294118]\n",
      "    fold  4:  [0.94117647]\n",
      "    ----\n",
      "    MEAN:     [0.95072503] + [0.00866074]\n",
      "    FULL:     [0.95070423]\n",
      "\n"
     ]
    },
    {
     "data": {
      "text/plain": [
       "0.965034965034965"
      ]
     },
     "execution_count": 16,
     "metadata": {},
     "output_type": "execute_result"
    }
   ],
   "source": [
    "from vecstack import stacking\n",
    "\n",
    "models = clfs\n",
    "S_train, S_test = stacking(models,                     # list of models\n",
    "                           X_train, y_train, X_test,   # data\n",
    "                           regression=False,           # classification task (if you need \n",
    "                                                       #     regression - set to True)\n",
    "                           needs_proba=False,          # predict class labels (if you need \n",
    "                                                       #     probabilities - set to True)\n",
    "                           metric=accuracy_score,      # metric: callable\n",
    "                           n_folds=5,                  # number of folds\n",
    "                           stratified=True,            # stratified split for folds\n",
    "                           shuffle=True,               # shuffle the data\n",
    "                           random_state=0,             # ensure reproducibility\n",
    "                           verbose=2)                  # print all info\n",
    "meta_model = GBM.fit(S_train, y_train)\n",
    "accuracy_score(y_test, meta_model.predict(S_test))"
   ]
  },
  {
   "cell_type": "code",
   "execution_count": 17,
   "metadata": {},
   "outputs": [
    {
     "data": {
      "text/plain": [
       "array([[1, 1, 1, 1, 1, 1],\n",
       "       [1, 1, 1, 1, 1, 1],\n",
       "       [0, 0, 0, 0, 0, 0],\n",
       "       ...,\n",
       "       [1, 1, 1, 1, 1, 1],\n",
       "       [1, 1, 1, 1, 1, 1],\n",
       "       [1, 1, 1, 1, 1, 1]])"
      ]
     },
     "execution_count": 17,
     "metadata": {},
     "output_type": "execute_result"
    }
   ],
   "source": [
    "S_train"
   ]
  },
  {
   "cell_type": "code",
   "execution_count": 18,
   "metadata": {},
   "outputs": [
    {
     "data": {
      "text/plain": [
       "array([[0, 0, 0, 0, 0, 0],\n",
       "       [1, 1, 1, 1, 1, 1],\n",
       "       [1, 1, 1, 1, 1, 1],\n",
       "       [1, 1, 1, 0, 1, 1],\n",
       "       [1, 1, 1, 1, 1, 1],\n",
       "       [1, 1, 1, 1, 1, 1],\n",
       "       [1, 1, 1, 1, 1, 1],\n",
       "       [1, 1, 1, 1, 1, 1],\n",
       "       [1, 1, 1, 1, 1, 1],\n",
       "       [1, 1, 1, 1, 1, 1],\n",
       "       [1, 0, 1, 1, 0, 1],\n",
       "       [1, 1, 1, 1, 1, 1],\n",
       "       [1, 1, 1, 1, 1, 1],\n",
       "       [0, 0, 0, 0, 0, 0],\n",
       "       [1, 1, 1, 1, 0, 1],\n",
       "       [0, 0, 0, 0, 0, 0],\n",
       "       [1, 1, 1, 1, 1, 1],\n",
       "       [0, 0, 0, 0, 0, 0],\n",
       "       [0, 0, 0, 0, 0, 0],\n",
       "       [0, 0, 0, 0, 0, 0],\n",
       "       [0, 0, 0, 0, 0, 0],\n",
       "       [0, 0, 0, 0, 0, 0],\n",
       "       [1, 1, 1, 1, 1, 1],\n",
       "       [1, 1, 1, 1, 1, 1],\n",
       "       [0, 0, 0, 0, 0, 0],\n",
       "       [1, 1, 1, 1, 1, 1],\n",
       "       [1, 1, 1, 1, 1, 1],\n",
       "       [0, 0, 1, 1, 0, 0],\n",
       "       [1, 1, 1, 1, 1, 1],\n",
       "       [0, 0, 0, 0, 0, 0],\n",
       "       [1, 1, 1, 1, 1, 1],\n",
       "       [0, 0, 0, 0, 0, 0],\n",
       "       [1, 1, 1, 1, 1, 1],\n",
       "       [0, 0, 0, 0, 0, 0],\n",
       "       [1, 1, 1, 1, 1, 1],\n",
       "       [0, 0, 0, 0, 0, 0],\n",
       "       [1, 1, 1, 1, 1, 1],\n",
       "       [0, 0, 0, 0, 0, 0],\n",
       "       [1, 1, 1, 1, 1, 1],\n",
       "       [0, 0, 0, 0, 0, 0],\n",
       "       [0, 1, 0, 0, 1, 1],\n",
       "       [1, 1, 1, 1, 1, 1],\n",
       "       [0, 0, 0, 0, 0, 0],\n",
       "       [1, 1, 1, 1, 1, 1],\n",
       "       [0, 0, 1, 0, 1, 1],\n",
       "       [0, 0, 0, 0, 0, 0],\n",
       "       [1, 1, 1, 1, 1, 1],\n",
       "       [1, 1, 1, 1, 1, 1],\n",
       "       [1, 1, 1, 1, 1, 1],\n",
       "       [0, 0, 0, 0, 0, 0],\n",
       "       [0, 0, 0, 0, 0, 0],\n",
       "       [0, 0, 1, 1, 0, 0],\n",
       "       [0, 0, 0, 0, 0, 0],\n",
       "       [1, 1, 1, 1, 1, 1],\n",
       "       [1, 1, 1, 1, 1, 1],\n",
       "       [1, 1, 1, 1, 1, 1],\n",
       "       [1, 0, 1, 1, 1, 1],\n",
       "       [1, 1, 1, 1, 1, 1],\n",
       "       [1, 0, 1, 1, 1, 1],\n",
       "       [0, 0, 0, 0, 0, 0],\n",
       "       [0, 0, 0, 0, 0, 0],\n",
       "       [0, 0, 0, 0, 0, 0],\n",
       "       [1, 1, 1, 1, 1, 1],\n",
       "       [1, 1, 1, 1, 1, 1],\n",
       "       [0, 0, 0, 0, 0, 0],\n",
       "       [1, 0, 1, 1, 1, 1],\n",
       "       [0, 0, 0, 0, 0, 0],\n",
       "       [0, 0, 0, 0, 0, 0],\n",
       "       [0, 0, 0, 0, 0, 0],\n",
       "       [1, 1, 1, 1, 1, 1],\n",
       "       [0, 1, 0, 1, 1, 1],\n",
       "       [0, 0, 0, 0, 0, 0],\n",
       "       [1, 1, 1, 1, 1, 1],\n",
       "       [1, 1, 1, 1, 1, 1],\n",
       "       [0, 0, 0, 0, 0, 0],\n",
       "       [1, 1, 1, 1, 1, 1],\n",
       "       [1, 1, 1, 1, 1, 1],\n",
       "       [1, 1, 1, 1, 1, 1],\n",
       "       [1, 1, 1, 1, 1, 1],\n",
       "       [1, 1, 1, 1, 1, 1],\n",
       "       [0, 0, 0, 0, 0, 0],\n",
       "       [0, 0, 0, 0, 0, 0],\n",
       "       [0, 0, 0, 0, 0, 0],\n",
       "       [1, 1, 1, 1, 1, 1],\n",
       "       [0, 0, 0, 0, 0, 0],\n",
       "       [1, 1, 1, 1, 1, 1],\n",
       "       [1, 1, 1, 1, 1, 1],\n",
       "       [1, 1, 1, 1, 1, 1],\n",
       "       [0, 0, 0, 0, 0, 0],\n",
       "       [0, 0, 0, 0, 0, 0],\n",
       "       [1, 1, 1, 1, 1, 1],\n",
       "       [0, 1, 0, 0, 0, 1],\n",
       "       [0, 1, 1, 1, 1, 1],\n",
       "       [0, 0, 0, 0, 0, 0],\n",
       "       [1, 1, 1, 1, 1, 1],\n",
       "       [1, 1, 1, 1, 1, 1],\n",
       "       [0, 0, 0, 0, 0, 0],\n",
       "       [1, 0, 1, 1, 1, 1],\n",
       "       [1, 1, 1, 1, 1, 1],\n",
       "       [1, 1, 1, 1, 1, 1],\n",
       "       [1, 1, 1, 1, 1, 1],\n",
       "       [1, 1, 1, 1, 1, 1],\n",
       "       [1, 1, 1, 1, 1, 1],\n",
       "       [1, 0, 1, 1, 1, 1],\n",
       "       [0, 0, 0, 0, 0, 0],\n",
       "       [1, 1, 1, 1, 1, 1],\n",
       "       [0, 0, 0, 0, 0, 0],\n",
       "       [1, 1, 1, 1, 1, 1],\n",
       "       [0, 0, 0, 0, 0, 0],\n",
       "       [0, 0, 0, 0, 0, 0],\n",
       "       [1, 1, 1, 1, 1, 1],\n",
       "       [0, 0, 0, 0, 0, 0],\n",
       "       [0, 0, 0, 0, 0, 0],\n",
       "       [1, 1, 1, 1, 1, 1],\n",
       "       [1, 1, 1, 1, 1, 1],\n",
       "       [1, 1, 1, 1, 1, 1],\n",
       "       [1, 0, 1, 0, 1, 1],\n",
       "       [1, 1, 1, 1, 1, 1],\n",
       "       [1, 1, 1, 1, 1, 1],\n",
       "       [1, 1, 1, 1, 1, 1],\n",
       "       [1, 1, 1, 1, 1, 1],\n",
       "       [1, 1, 1, 1, 1, 1],\n",
       "       [0, 0, 1, 1, 0, 0],\n",
       "       [1, 1, 1, 1, 1, 1],\n",
       "       [0, 0, 0, 0, 0, 0],\n",
       "       [1, 0, 1, 1, 1, 1],\n",
       "       [0, 1, 1, 1, 1, 1],\n",
       "       [1, 1, 1, 1, 1, 1],\n",
       "       [1, 1, 1, 1, 1, 1],\n",
       "       [1, 1, 1, 1, 1, 1],\n",
       "       [0, 0, 0, 0, 0, 0],\n",
       "       [1, 1, 1, 1, 1, 1],\n",
       "       [1, 1, 1, 1, 1, 1],\n",
       "       [1, 1, 1, 1, 1, 1],\n",
       "       [1, 1, 1, 1, 1, 1],\n",
       "       [1, 1, 1, 1, 1, 1],\n",
       "       [1, 1, 1, 1, 1, 1],\n",
       "       [0, 1, 0, 0, 0, 1],\n",
       "       [0, 0, 0, 0, 0, 0],\n",
       "       [1, 1, 1, 1, 1, 1],\n",
       "       [1, 1, 1, 1, 1, 1],\n",
       "       [1, 1, 1, 1, 1, 1],\n",
       "       [0, 0, 0, 0, 0, 0]])"
      ]
     },
     "execution_count": 18,
     "metadata": {},
     "output_type": "execute_result"
    }
   ],
   "source": [
    "S_test"
   ]
  },
  {
   "cell_type": "code",
   "execution_count": 19,
   "metadata": {},
   "outputs": [
    {
     "data": {
      "text/plain": [
       "((426, 30), (426, 6), (143, 30), (143, 6))"
      ]
     },
     "execution_count": 19,
     "metadata": {},
     "output_type": "execute_result"
    }
   ],
   "source": [
    "X_train.shape, S_train.shape, X_test.shape, S_test.shape"
   ]
  },
  {
   "cell_type": "markdown",
   "metadata": {},
   "source": [
    "- 샘플 갯수는 변함 없고 feature가 30개에서 6개를 준 것이다."
   ]
  },
  {
   "cell_type": "markdown",
   "metadata": {},
   "source": [
    "***3-layer stacking***"
   ]
  },
  {
   "cell_type": "code",
   "execution_count": 20,
   "metadata": {},
   "outputs": [],
   "source": [
    "# level-1: LR, DT, MLP, KNN, RF, GBM\n",
    "\n",
    "models = clfs\n",
    "S_train, S_test = stacking(models,                     # list of models\n",
    "                           X_train, y_train, X_test,   # data\n",
    "                           regression=False,           # classification task (if you need \n",
    "                                                       #     regression - set to True)\n",
    "                           needs_proba=True,           # predict class labels (if you need \n",
    "                                                       #     probabilities - set to True) \n",
    "                           metric=accuracy_score,      # metric: callable\n",
    "                           n_folds=3,                  # number of folds\n",
    "                           stratified=True,            # stratified split for folds\n",
    "                           shuffle=True,               # shuffle the data\n",
    "                           random_state=0,             # ensure reproducibility\n",
    "                           verbose=0)                  # print all info"
   ]
  },
  {
   "cell_type": "code",
   "execution_count": 21,
   "metadata": {},
   "outputs": [
    {
     "data": {
      "text/plain": [
       "0.986013986013986"
      ]
     },
     "execution_count": 21,
     "metadata": {},
     "output_type": "execute_result"
    }
   ],
   "source": [
    "# level-2: LR, DT, KNN\n",
    "# Level-3: Voting\n",
    "\n",
    "voting = VotingClassifier(estimators = [('lr', LR), ('dt', DT), ('knn', KNN)], voting='hard')\n",
    "voting.fit(S_train, y_train).score(S_test, y_test)"
   ]
  },
  {
   "cell_type": "markdown",
   "metadata": {},
   "source": [
    "- 6개의 feature가 나온 것을 가지고 3개의 모델로 Voting -> 두번째 모델은 3개 모델링\n",
    "- voting은 이것 중에 제일 major를 선택\n",
    "- 3개 모델링을 가지고 voting을 한다. -> 3 layer"
   ]
  },
  {
   "cell_type": "markdown",
   "metadata": {},
   "source": [
    "- vestack sklearn 모두 사용해도 되지만 구현이 달라 결과가 다르다."
   ]
  },
  {
   "cell_type": "markdown",
   "metadata": {},
   "source": [
    "***using `sklearn`***"
   ]
  },
  {
   "cell_type": "markdown",
   "metadata": {},
   "source": [
    "- vestack은 원리를 알 수 있음 과정을 알 수 있음\n",
    "- sklearn은 쉬우나, 과정을 알 수가 없음"
   ]
  },
  {
   "cell_type": "code",
   "execution_count": 22,
   "metadata": {},
   "outputs": [
    {
     "data": {
      "text/plain": [
       "0.965034965034965"
      ]
     },
     "execution_count": 22,
     "metadata": {},
     "output_type": "execute_result"
    }
   ],
   "source": [
    "from sklearn.ensemble import StackingClassifier\n",
    "\n",
    "# 2-layer stacking\n",
    "\n",
    "estimators = [(type(clf).__name__, clf) for clf in clfs] # voting 할 때 이름 모델을 쌍으로 입력\n",
    "stk_clf = StackingClassifier(\n",
    "    estimators=estimators, final_estimator=GBM, cv=5)\n",
    "\n",
    "stk_clf.fit(X_train, y_train).score(X_test, y_test)"
   ]
  },
  {
   "cell_type": "code",
   "execution_count": 23,
   "metadata": {},
   "outputs": [
    {
     "data": {
      "text/plain": [
       "0.972027972027972"
      ]
     },
     "execution_count": 23,
     "metadata": {},
     "output_type": "execute_result"
    }
   ],
   "source": [
    "# 3-layer stacking (Level-3: Voting)\n",
    "\n",
    "layer_one_estimators = [(type(clf).__name__, clf) for clf in clfs]\n",
    "voting = VotingClassifier(estimators = [('lr', LR), ('dt', DT), ('knn', KNN)], voting='hard')\n",
    "stk_clf = StackingClassifier(estimators=layer_one_estimators, final_estimator=voting, cv=5) # GBM 단일 모델 대신에 Voting을 사용, voting:여러모델중 선택하는 모델\n",
    "\n",
    "stk_clf.fit(X_train, y_train).score(X_test, y_test)"
   ]
  },
  {
   "cell_type": "code",
   "execution_count": 24,
   "metadata": {},
   "outputs": [
    {
     "data": {
      "text/plain": [
       "0.972027972027972"
      ]
     },
     "execution_count": 24,
     "metadata": {},
     "output_type": "execute_result"
    }
   ],
   "source": [
    "# 3-layer stacking (Level-3: LR)\n",
    "\n",
    "layer_one_estimators = [(type(clf).__name__, clf) for clf in clfs]\n",
    "layer_two_estimators = [('lr', LR), ('dt', DT), ('knn', KNN)]\n",
    "\n",
    "layer_two = StackingClassifier(estimators=layer_two_estimators, final_estimator=LR)\n",
    "stk_clf = StackingClassifier(estimators=layer_one_estimators, final_estimator=layer_two, cv=5)\n",
    "\n",
    "stk_clf.fit(X_train, y_train).score(X_test, y_test)"
   ]
  },
  {
   "cell_type": "markdown",
   "metadata": {},
   "source": [
    "- sklearn의 stacking은 두 레벨만 표현이 가능하다.\n",
    "- second을 stacking해서 2번째,3번째 층을 넣음"
   ]
  },
  {
   "cell_type": "markdown",
   "metadata": {},
   "source": [
    "##### Improvements in stacked model performance can be accomplished by:\n",
    "- Adding models to Level 0 and Level 1 using different algorithms\n",
    "- Tuning Hyper-parameters\n",
    "- Adding feature sets by feature engineering\n",
    "- Adding levels in the model structure"
   ]
  },
  {
   "cell_type": "markdown",
   "metadata": {},
   "source": [
    "### Model Stacking in Kaggle: \n",
    "- [1st Place Solution of \"Home Depot Product Search Relevance\"](https://github.com/ChenglongChen/Kaggle_HomeDepot)\n",
    "<img src=\"https://github.com/ChenglongChen/Kaggle_HomeDepot/raw/master/Fig/FlowChart.jpg\" width=800, height=600><p>\n",
    "- [1st Place Solution of \"Otto Group Product Classification Challenge\"](https://www.kaggle.com/c/otto-group-product-classification-challenge/discussion/14335)\n",
    "<br>\n",
    "<img src=\"http://drive.google.com/uc?export=view&id=1SfVsQSX7Rjmu335zX1aFdolBKccv545w\" width=600, height=400>\n",
    "<br><br>\n",
    "- [1st Place Solution of \"Homesite Quote Conversion\"](https://kweonwooj.tistory.com/2)\n",
    "<br>\n",
    "<img src=\"https://t1.daumcdn.net/cfile/tistory/2132EF50571DDC1F26\" width=700, height=500>\n",
    "<br><br>"
   ]
  },
  {
   "cell_type": "markdown",
   "metadata": {},
   "source": [
    "- 1st layer에 의미가 있다면 모델이 아닌 feature를 이용해도 된다  -> 제약이 없음\n",
    "- 3번째: 가중평균 (성능이 좋은 것은 가중치를 더 주고, 성능이 나쁜 것은 가중치를 줄이는 방식)\n",
    "\n",
    "- 500개 중 125개의 모델만 선택 -> 1st layer의 데이터를 분리 -> 이질적인 데이터로 학습 후 stacking 한 뒤에 가중평균\n",
    "- 실무에서는 stacking을 잘 사용하지 않지만 경진대회에서는 사용"
   ]
  },
  {
   "cell_type": "markdown",
   "metadata": {},
   "source": [
    "<font color=\"#CC3D3D\"><p>\n",
    "# End"
   ]
  }
 ],
 "metadata": {
  "colab": {
   "default_view": {},
   "name": "M3_code_02.ipynb",
   "provenance": [],
   "version": "0.3.2",
   "views": {}
  },
  "kernelspec": {
   "display_name": "Python3.8_DL",
   "language": "python",
   "name": "dl"
  },
  "language_info": {
   "codemirror_mode": {
    "name": "ipython",
    "version": 3
   },
   "file_extension": ".py",
   "mimetype": "text/x-python",
   "name": "python",
   "nbconvert_exporter": "python",
   "pygments_lexer": "ipython3",
   "version": "3.8.8"
  }
 },
 "nbformat": 4,
 "nbformat_minor": 4
}
