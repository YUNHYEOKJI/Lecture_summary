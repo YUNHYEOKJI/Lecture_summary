{
 "cells": [
  {
   "cell_type": "markdown",
   "metadata": {},
   "source": [
    "<font color='tomato'><font color=\"#CC3D3D\"><p>\n",
    "# How to Build Neural Networks using Keras\n",
    "https://www.tensorflow.org/tutorials?hl=ko    "
   ]
  },
  {
   "cell_type": "markdown",
   "metadata": {},
   "source": [
    "### Import modules"
   ]
  },
  {
   "cell_type": "code",
   "execution_count": 1,
   "metadata": {},
   "outputs": [
    {
     "name": "stdout",
     "output_type": "stream",
     "text": [
      "2.6.0\n"
     ]
    }
   ],
   "source": [
    "import pandas as pd\n",
    "import numpy as np\n",
    "import os\n",
    "import random\n",
    "import pickle\n",
    "from IPython.display import Image\n",
    "import seaborn as sns\n",
    "import matplotlib.pylab as plt\n",
    "from matplotlib import font_manager, rc\n",
    "%matplotlib inline\n",
    "\n",
    "import tensorflow as tf\n",
    "from tensorflow import keras\n",
    "print(tf.__version__)"
   ]
  },
  {
   "cell_type": "markdown",
   "metadata": {},
   "source": [
    "### Set random seeds to make your results reproducible"
   ]
  },
  {
   "cell_type": "code",
   "execution_count": 2,
   "metadata": {},
   "outputs": [
    {
     "name": "stdout",
     "output_type": "stream",
     "text": [
      "RANDOM SEEDS RESET\n"
     ]
    }
   ],
   "source": [
    "# 매번 모델링을 할 때마다 동일한 결과를 얻으려면 아래 코드를 실행해야 함.\n",
    "\n",
    "def reset_seeds(reset_graph_with_backend=None):\n",
    "    if reset_graph_with_backend is not None:\n",
    "        K = reset_graph_with_backend\n",
    "        K.clear_session()\n",
    "        tf.compat.v1.reset_default_graph()\n",
    "        print(\"KERAS AND TENSORFLOW GRAPHS RESET\")  # optional\n",
    "\n",
    "    np.random.seed(1)\n",
    "    random.seed(2)\n",
    "    tf.compat.v1.set_random_seed(3)\n",
    "    os.environ['CUDA_VISIBLE_DEVICES'] = ''  # for GPU\n",
    "    print(\"RANDOM SEEDS RESET\")  # optional\n",
    "\n",
    "reset_seeds()"
   ]
  },
  {
   "cell_type": "markdown",
   "metadata": {},
   "source": [
    "### Step 1: Load and process the data"
   ]
  },
  {
   "cell_type": "markdown",
   "metadata": {},
   "source": [
    "##### Read data"
   ]
  },
  {
   "cell_type": "code",
   "execution_count": 3,
   "metadata": {},
   "outputs": [
    {
     "data": {
      "text/plain": [
       "((2450, 62), (1050, 62))"
      ]
     },
     "execution_count": 3,
     "metadata": {},
     "output_type": "execute_result"
    }
   ],
   "source": [
    "# 앞 단계(Feature Enginnering)에서 저장했던 훈련/평가/적용 데이터를 읽어온다.\n",
    "X_train, X_test, y_train, y_test, X_dep, ID_dep = pd.read_pickle('../data/dnn_train_test.pkl')\n",
    "\n",
    "# 모델링에 사용되는 최종 학습 및 평가 데이터 확인\n",
    "X_train.shape, X_test.shape"
   ]
  },
  {
   "cell_type": "markdown",
   "metadata": {},
   "source": [
    "##### Feature scaling"
   ]
  },
  {
   "cell_type": "code",
   "execution_count": 4,
   "metadata": {},
   "outputs": [],
   "source": [
    "#scaler = StandardScaler()\n",
    "#X_train = scaler.fit_transform(X_train)\n",
    "#X_test = scaler.transform(X_test)"
   ]
  },
  {
   "cell_type": "markdown",
   "metadata": {},
   "source": [
    "##### Split data into train & validation set "
   ]
  },
  {
   "cell_type": "code",
   "execution_count": 5,
   "metadata": {},
   "outputs": [],
   "source": [
    "# Train/Validation\n",
    "i = int(round(X_train.shape[0] * 0.8,0))\n",
    "X_valid, y_valid = X_train[i:], y_train[i:]\n",
    "X_train, y_train = X_train[:i], y_train[:i]"
   ]
  },
  {
   "cell_type": "markdown",
   "metadata": {},
   "source": [
    "### Step 2: Define the model architecture"
   ]
  },
  {
   "cell_type": "markdown",
   "metadata": {},
   "source": [
    "##### Stack layers from input to output"
   ]
  },
  {
   "cell_type": "markdown",
   "metadata": {},
   "source": [
    "|모듈|사용 예 및 종류|\n",
    "|---|:---:|\n",
    "|Initializer| Dense(16, kernel_initializer='he_normal')|\n",
    "|Regularizer| Dense(16, kernel_regularizer=l2(0.01))|\n",
    "|Activation|relu / elu / selu / softmax / tanh / sigmoid / linear|"
   ]
  },
  {
   "cell_type": "code",
   "execution_count": 6,
   "metadata": {},
   "outputs": [],
   "source": [
    "# Input => Dense + Dense + ... => output\n",
    "# Model(input, output)\n",
    "\n",
    "input = keras.Input(shape=(X_train.shape[1],))"
   ]
  },
  {
   "cell_type": "code",
   "execution_count": 7,
   "metadata": {},
   "outputs": [],
   "source": [
    "x = keras.layers.Dense(16, activation='relu')(input)\n",
    "x = keras.layers.Dense(8, activation='relu')(x)\n",
    "output = keras.layers.Dense(1, activation='sigmoid')(x)\n",
    "model = keras.Model(input, output)"
   ]
  },
  {
   "cell_type": "markdown",
   "metadata": {},
   "source": [
    "*Keras Sequential API*\n",
    "```\n",
    "model = Sequential([\n",
    "  keras.layers.Dense(16, activation='relu', input_shape=(X_train.shape[1],)),\n",
    "  keras.layers.Dense(8),\n",
    "  keras.layers.Dense(1, activation='sigmoid')\n",
    "])\n",
    "```"
   ]
  },
  {
   "cell_type": "markdown",
   "metadata": {},
   "source": [
    "##### Summarize & visualize the model"
   ]
  },
  {
   "cell_type": "code",
   "execution_count": 8,
   "metadata": {},
   "outputs": [
    {
     "name": "stdout",
     "output_type": "stream",
     "text": [
      "Model: \"model\"\n",
      "_________________________________________________________________\n",
      "Layer (type)                 Output Shape              Param #   \n",
      "=================================================================\n",
      "input_1 (InputLayer)         [(None, 62)]              0         \n",
      "_________________________________________________________________\n",
      "dense (Dense)                (None, 16)                1008      \n",
      "_________________________________________________________________\n",
      "dense_1 (Dense)              (None, 8)                 136       \n",
      "_________________________________________________________________\n",
      "dense_2 (Dense)              (None, 1)                 9         \n",
      "=================================================================\n",
      "Total params: 1,153\n",
      "Trainable params: 1,153\n",
      "Non-trainable params: 0\n",
      "_________________________________________________________________\n"
     ]
    }
   ],
   "source": [
    "model.summary()\n",
    "# Image(keras.utils.model_to_dot(model,show_shapes=True,show_layer_names=False, dpi=100) \\\n",
    "#       .create(prog='dot', format='png'))"
   ]
  },
  {
   "cell_type": "markdown",
   "metadata": {},
   "source": [
    "### Step 3: Choose the optimizer and the cost function\n",
    "<img align='left' src='http://drive.google.com/uc?export=view&id=1xybqHMvcDDfUYSN3FLQ6Y1708QkiZSJt' style=\"width: 70%\">"
   ]
  },
  {
   "cell_type": "markdown",
   "metadata": {},
   "source": [
    "*Optimizer의 예:*\n",
    "- keras.optimizers.SGD(lr=0.01, momentum=0.9)\n",
    "- keras.optimizers.RMSprop(lr=0.001, rho=0.9)\n",
    "- keras.optimizers.Adagrad(lr=0.01)\n",
    "- keras.optimizers.Adam(lr=0.001, beta_1=0.9, beta_2=0.999)"
   ]
  },
  {
   "cell_type": "code",
   "execution_count": 9,
   "metadata": {},
   "outputs": [],
   "source": [
    "# loss, optimizer, metrics 설정\n",
    "model.compile(loss='binary_crossentropy', optimizer='sgd', metrics=['acc', keras.metrics.AUC()])"
   ]
  },
  {
   "cell_type": "markdown",
   "metadata": {},
   "source": [
    "### Step 4: Train the model"
   ]
  },
  {
   "cell_type": "markdown",
   "metadata": {},
   "source": [
    "##### Set learning conditions & fit the model "
   ]
  },
  {
   "cell_type": "code",
   "execution_count": 10,
   "metadata": {
    "scrolled": true
   },
   "outputs": [
    {
     "name": "stdout",
     "output_type": "stream",
     "text": [
      "Epoch 1/300\n",
      "31/31 - 1s - loss: 0.6868 - acc: 0.5602 - auc: 0.4552 - val_loss: 0.6869 - val_acc: 0.5776 - val_auc: 0.4376\n",
      "Epoch 2/300\n",
      "31/31 - 0s - loss: 0.6814 - acc: 0.5806 - auc: 0.4752 - val_loss: 0.6815 - val_acc: 0.6122 - val_auc: 0.4541\n",
      "Epoch 3/300\n",
      "31/31 - 0s - loss: 0.6765 - acc: 0.5929 - auc: 0.4961 - val_loss: 0.6766 - val_acc: 0.6224 - val_auc: 0.4730\n",
      "Epoch 4/300\n",
      "31/31 - 0s - loss: 0.6722 - acc: 0.5990 - auc: 0.5154 - val_loss: 0.6721 - val_acc: 0.6224 - val_auc: 0.4925\n",
      "Epoch 5/300\n",
      "31/31 - 0s - loss: 0.6682 - acc: 0.6066 - auc: 0.5346 - val_loss: 0.6680 - val_acc: 0.6286 - val_auc: 0.5088\n",
      "Epoch 6/300\n",
      "31/31 - 0s - loss: 0.6646 - acc: 0.6102 - auc: 0.5513 - val_loss: 0.6641 - val_acc: 0.6388 - val_auc: 0.5270\n",
      "Epoch 7/300\n",
      "31/31 - 0s - loss: 0.6612 - acc: 0.6122 - auc: 0.5667 - val_loss: 0.6605 - val_acc: 0.6347 - val_auc: 0.5454\n",
      "Epoch 8/300\n",
      "31/31 - 0s - loss: 0.6581 - acc: 0.6163 - auc: 0.5811 - val_loss: 0.6572 - val_acc: 0.6347 - val_auc: 0.5616\n",
      "Epoch 9/300\n",
      "31/31 - 0s - loss: 0.6551 - acc: 0.6163 - auc: 0.5940 - val_loss: 0.6541 - val_acc: 0.6327 - val_auc: 0.5764\n",
      "Epoch 10/300\n",
      "31/31 - 0s - loss: 0.6523 - acc: 0.6184 - auc: 0.6063 - val_loss: 0.6512 - val_acc: 0.6306 - val_auc: 0.5893\n",
      "Epoch 11/300\n",
      "31/31 - 0s - loss: 0.6496 - acc: 0.6184 - auc: 0.6165 - val_loss: 0.6483 - val_acc: 0.6347 - val_auc: 0.6014\n",
      "Epoch 12/300\n",
      "31/31 - 0s - loss: 0.6470 - acc: 0.6214 - auc: 0.6260 - val_loss: 0.6456 - val_acc: 0.6347 - val_auc: 0.6122\n",
      "Epoch 13/300\n",
      "31/31 - 0s - loss: 0.6444 - acc: 0.6245 - auc: 0.6354 - val_loss: 0.6430 - val_acc: 0.6306 - val_auc: 0.6208\n",
      "Epoch 14/300\n",
      "31/31 - 0s - loss: 0.6419 - acc: 0.6255 - auc: 0.6427 - val_loss: 0.6405 - val_acc: 0.6327 - val_auc: 0.6287\n",
      "Epoch 15/300\n",
      "31/31 - 0s - loss: 0.6396 - acc: 0.6286 - auc: 0.6498 - val_loss: 0.6382 - val_acc: 0.6367 - val_auc: 0.6344\n",
      "Epoch 16/300\n",
      "31/31 - 0s - loss: 0.6373 - acc: 0.6301 - auc: 0.6563 - val_loss: 0.6359 - val_acc: 0.6347 - val_auc: 0.6412\n",
      "Epoch 17/300\n",
      "31/31 - 0s - loss: 0.6350 - acc: 0.6306 - auc: 0.6619 - val_loss: 0.6336 - val_acc: 0.6327 - val_auc: 0.6483\n",
      "Epoch 18/300\n",
      "31/31 - 0s - loss: 0.6327 - acc: 0.6327 - auc: 0.6670 - val_loss: 0.6314 - val_acc: 0.6347 - val_auc: 0.6531\n",
      "Epoch 19/300\n",
      "31/31 - 0s - loss: 0.6305 - acc: 0.6372 - auc: 0.6723 - val_loss: 0.6293 - val_acc: 0.6367 - val_auc: 0.6593\n",
      "Epoch 20/300\n",
      "31/31 - 0s - loss: 0.6283 - acc: 0.6367 - auc: 0.6764 - val_loss: 0.6272 - val_acc: 0.6327 - val_auc: 0.6632\n",
      "Epoch 21/300\n",
      "31/31 - 0s - loss: 0.6262 - acc: 0.6418 - auc: 0.6806 - val_loss: 0.6252 - val_acc: 0.6327 - val_auc: 0.6675\n",
      "Epoch 22/300\n",
      "31/31 - 0s - loss: 0.6241 - acc: 0.6403 - auc: 0.6843 - val_loss: 0.6231 - val_acc: 0.6347 - val_auc: 0.6720\n",
      "Epoch 23/300\n",
      "31/31 - 0s - loss: 0.6220 - acc: 0.6418 - auc: 0.6882 - val_loss: 0.6212 - val_acc: 0.6347 - val_auc: 0.6765\n",
      "Epoch 24/300\n",
      "31/31 - 0s - loss: 0.6199 - acc: 0.6439 - auc: 0.6917 - val_loss: 0.6192 - val_acc: 0.6388 - val_auc: 0.6796\n",
      "Epoch 25/300\n",
      "31/31 - 0s - loss: 0.6179 - acc: 0.6469 - auc: 0.6948 - val_loss: 0.6173 - val_acc: 0.6347 - val_auc: 0.6837\n",
      "Epoch 26/300\n",
      "31/31 - 0s - loss: 0.6159 - acc: 0.6474 - auc: 0.6975 - val_loss: 0.6155 - val_acc: 0.6327 - val_auc: 0.6866\n",
      "Epoch 27/300\n",
      "31/31 - 0s - loss: 0.6139 - acc: 0.6526 - auc: 0.7013 - val_loss: 0.6136 - val_acc: 0.6347 - val_auc: 0.6900\n",
      "Epoch 28/300\n",
      "31/31 - 0s - loss: 0.6119 - acc: 0.6546 - auc: 0.7033 - val_loss: 0.6118 - val_acc: 0.6367 - val_auc: 0.6932\n",
      "Epoch 29/300\n",
      "31/31 - 0s - loss: 0.6099 - acc: 0.6556 - auc: 0.7066 - val_loss: 0.6100 - val_acc: 0.6327 - val_auc: 0.6953\n",
      "Epoch 30/300\n",
      "31/31 - 0s - loss: 0.6079 - acc: 0.6571 - auc: 0.7091 - val_loss: 0.6082 - val_acc: 0.6388 - val_auc: 0.6978\n",
      "Epoch 31/300\n",
      "31/31 - 0s - loss: 0.6059 - acc: 0.6592 - auc: 0.7118 - val_loss: 0.6064 - val_acc: 0.6449 - val_auc: 0.6999\n",
      "Epoch 32/300\n",
      "31/31 - 0s - loss: 0.6040 - acc: 0.6638 - auc: 0.7146 - val_loss: 0.6046 - val_acc: 0.6469 - val_auc: 0.7017\n",
      "Epoch 33/300\n",
      "31/31 - 0s - loss: 0.6020 - acc: 0.6633 - auc: 0.7170 - val_loss: 0.6028 - val_acc: 0.6510 - val_auc: 0.7048\n",
      "Epoch 34/300\n",
      "31/31 - 0s - loss: 0.6001 - acc: 0.6658 - auc: 0.7197 - val_loss: 0.6011 - val_acc: 0.6469 - val_auc: 0.7060\n",
      "Epoch 35/300\n",
      "31/31 - 0s - loss: 0.5981 - acc: 0.6673 - auc: 0.7222 - val_loss: 0.5994 - val_acc: 0.6449 - val_auc: 0.7091\n",
      "Epoch 36/300\n",
      "31/31 - 0s - loss: 0.5962 - acc: 0.6689 - auc: 0.7246 - val_loss: 0.5978 - val_acc: 0.6531 - val_auc: 0.7106\n",
      "Epoch 37/300\n",
      "31/31 - 0s - loss: 0.5943 - acc: 0.6684 - auc: 0.7274 - val_loss: 0.5961 - val_acc: 0.6510 - val_auc: 0.7127\n",
      "Epoch 38/300\n",
      "31/31 - 0s - loss: 0.5924 - acc: 0.6714 - auc: 0.7297 - val_loss: 0.5945 - val_acc: 0.6571 - val_auc: 0.7149\n",
      "Epoch 39/300\n",
      "31/31 - 0s - loss: 0.5905 - acc: 0.6740 - auc: 0.7320 - val_loss: 0.5930 - val_acc: 0.6531 - val_auc: 0.7168\n",
      "Epoch 40/300\n",
      "31/31 - 0s - loss: 0.5887 - acc: 0.6781 - auc: 0.7342 - val_loss: 0.5915 - val_acc: 0.6551 - val_auc: 0.7191\n",
      "Epoch 41/300\n",
      "31/31 - 0s - loss: 0.5869 - acc: 0.6801 - auc: 0.7366 - val_loss: 0.5900 - val_acc: 0.6571 - val_auc: 0.7213\n",
      "Epoch 42/300\n",
      "31/31 - 0s - loss: 0.5851 - acc: 0.6816 - auc: 0.7389 - val_loss: 0.5885 - val_acc: 0.6612 - val_auc: 0.7227\n",
      "Epoch 43/300\n",
      "31/31 - 0s - loss: 0.5834 - acc: 0.6862 - auc: 0.7410 - val_loss: 0.5871 - val_acc: 0.6633 - val_auc: 0.7249\n",
      "Epoch 44/300\n",
      "31/31 - 0s - loss: 0.5817 - acc: 0.6893 - auc: 0.7431 - val_loss: 0.5857 - val_acc: 0.6673 - val_auc: 0.7264\n",
      "Epoch 45/300\n",
      "31/31 - 0s - loss: 0.5800 - acc: 0.6888 - auc: 0.7453 - val_loss: 0.5843 - val_acc: 0.6694 - val_auc: 0.7281\n",
      "Epoch 46/300\n",
      "31/31 - 0s - loss: 0.5783 - acc: 0.6918 - auc: 0.7472 - val_loss: 0.5830 - val_acc: 0.6735 - val_auc: 0.7297\n",
      "Epoch 47/300\n",
      "31/31 - 0s - loss: 0.5766 - acc: 0.6939 - auc: 0.7494 - val_loss: 0.5817 - val_acc: 0.6735 - val_auc: 0.7319\n",
      "Epoch 48/300\n",
      "31/31 - 0s - loss: 0.5750 - acc: 0.6913 - auc: 0.7515 - val_loss: 0.5805 - val_acc: 0.6796 - val_auc: 0.7329\n",
      "Epoch 49/300\n",
      "31/31 - 0s - loss: 0.5734 - acc: 0.6934 - auc: 0.7530 - val_loss: 0.5794 - val_acc: 0.6816 - val_auc: 0.7341\n",
      "Epoch 50/300\n",
      "31/31 - 0s - loss: 0.5719 - acc: 0.6980 - auc: 0.7549 - val_loss: 0.5782 - val_acc: 0.6816 - val_auc: 0.7364\n",
      "Epoch 51/300\n",
      "31/31 - 0s - loss: 0.5704 - acc: 0.6995 - auc: 0.7566 - val_loss: 0.5772 - val_acc: 0.6816 - val_auc: 0.7376\n",
      "Epoch 52/300\n",
      "31/31 - 0s - loss: 0.5689 - acc: 0.6995 - auc: 0.7584 - val_loss: 0.5761 - val_acc: 0.6878 - val_auc: 0.7389\n",
      "Epoch 53/300\n",
      "31/31 - 0s - loss: 0.5674 - acc: 0.6995 - auc: 0.7599 - val_loss: 0.5751 - val_acc: 0.6898 - val_auc: 0.7406\n",
      "Epoch 54/300\n",
      "31/31 - 0s - loss: 0.5660 - acc: 0.7041 - auc: 0.7615 - val_loss: 0.5742 - val_acc: 0.6878 - val_auc: 0.7426\n",
      "Epoch 55/300\n",
      "31/31 - 0s - loss: 0.5646 - acc: 0.7066 - auc: 0.7633 - val_loss: 0.5732 - val_acc: 0.6857 - val_auc: 0.7435\n",
      "Epoch 56/300\n",
      "31/31 - 0s - loss: 0.5632 - acc: 0.7066 - auc: 0.7645 - val_loss: 0.5723 - val_acc: 0.6878 - val_auc: 0.7448\n",
      "Epoch 57/300\n",
      "31/31 - 0s - loss: 0.5618 - acc: 0.7097 - auc: 0.7663 - val_loss: 0.5714 - val_acc: 0.6878 - val_auc: 0.7463\n",
      "Epoch 58/300\n",
      "31/31 - 0s - loss: 0.5605 - acc: 0.7097 - auc: 0.7675 - val_loss: 0.5706 - val_acc: 0.6878 - val_auc: 0.7471\n",
      "Epoch 59/300\n",
      "31/31 - 0s - loss: 0.5592 - acc: 0.7112 - auc: 0.7690 - val_loss: 0.5698 - val_acc: 0.6857 - val_auc: 0.7484\n",
      "Epoch 60/300\n",
      "31/31 - 0s - loss: 0.5580 - acc: 0.7138 - auc: 0.7703 - val_loss: 0.5690 - val_acc: 0.6939 - val_auc: 0.7499\n",
      "Epoch 61/300\n",
      "31/31 - 0s - loss: 0.5567 - acc: 0.7148 - auc: 0.7718 - val_loss: 0.5683 - val_acc: 0.6959 - val_auc: 0.7513\n",
      "Epoch 62/300\n",
      "31/31 - 0s - loss: 0.5555 - acc: 0.7148 - auc: 0.7732 - val_loss: 0.5676 - val_acc: 0.6959 - val_auc: 0.7529\n",
      "Epoch 63/300\n",
      "31/31 - 0s - loss: 0.5543 - acc: 0.7158 - auc: 0.7742 - val_loss: 0.5670 - val_acc: 0.6959 - val_auc: 0.7544\n",
      "Epoch 64/300\n",
      "31/31 - 0s - loss: 0.5531 - acc: 0.7163 - auc: 0.7754 - val_loss: 0.5664 - val_acc: 0.7000 - val_auc: 0.7551\n",
      "Epoch 65/300\n",
      "31/31 - 0s - loss: 0.5520 - acc: 0.7179 - auc: 0.7765 - val_loss: 0.5658 - val_acc: 0.7041 - val_auc: 0.7559\n",
      "Epoch 66/300\n",
      "31/31 - 0s - loss: 0.5508 - acc: 0.7184 - auc: 0.7777 - val_loss: 0.5653 - val_acc: 0.7041 - val_auc: 0.7562\n",
      "Epoch 67/300\n",
      "31/31 - 0s - loss: 0.5497 - acc: 0.7173 - auc: 0.7788 - val_loss: 0.5648 - val_acc: 0.7041 - val_auc: 0.7569\n",
      "Epoch 68/300\n",
      "31/31 - 0s - loss: 0.5486 - acc: 0.7184 - auc: 0.7798 - val_loss: 0.5643 - val_acc: 0.7020 - val_auc: 0.7580\n"
     ]
    },
    {
     "name": "stdout",
     "output_type": "stream",
     "text": [
      "Epoch 69/300\n",
      "31/31 - 0s - loss: 0.5476 - acc: 0.7173 - auc: 0.7808 - val_loss: 0.5638 - val_acc: 0.7061 - val_auc: 0.7585\n",
      "Epoch 70/300\n",
      "31/31 - 0s - loss: 0.5466 - acc: 0.7173 - auc: 0.7817 - val_loss: 0.5633 - val_acc: 0.7061 - val_auc: 0.7591\n",
      "Epoch 71/300\n",
      "31/31 - 0s - loss: 0.5456 - acc: 0.7168 - auc: 0.7826 - val_loss: 0.5629 - val_acc: 0.7061 - val_auc: 0.7601\n",
      "Epoch 72/300\n",
      "31/31 - 0s - loss: 0.5446 - acc: 0.7199 - auc: 0.7836 - val_loss: 0.5625 - val_acc: 0.7102 - val_auc: 0.7606\n",
      "Epoch 73/300\n",
      "31/31 - 0s - loss: 0.5436 - acc: 0.7209 - auc: 0.7846 - val_loss: 0.5621 - val_acc: 0.7082 - val_auc: 0.7612\n",
      "Epoch 74/300\n",
      "31/31 - 0s - loss: 0.5426 - acc: 0.7214 - auc: 0.7855 - val_loss: 0.5618 - val_acc: 0.7102 - val_auc: 0.7614\n",
      "Epoch 75/300\n",
      "31/31 - 0s - loss: 0.5417 - acc: 0.7219 - auc: 0.7863 - val_loss: 0.5615 - val_acc: 0.7122 - val_auc: 0.7623\n",
      "Epoch 76/300\n",
      "31/31 - 0s - loss: 0.5408 - acc: 0.7214 - auc: 0.7870 - val_loss: 0.5612 - val_acc: 0.7143 - val_auc: 0.7621\n",
      "Epoch 77/300\n",
      "31/31 - 0s - loss: 0.5399 - acc: 0.7235 - auc: 0.7879 - val_loss: 0.5609 - val_acc: 0.7143 - val_auc: 0.7626\n",
      "Epoch 78/300\n",
      "31/31 - 0s - loss: 0.5390 - acc: 0.7235 - auc: 0.7886 - val_loss: 0.5607 - val_acc: 0.7122 - val_auc: 0.7635\n",
      "Epoch 79/300\n",
      "31/31 - 0s - loss: 0.5381 - acc: 0.7245 - auc: 0.7894 - val_loss: 0.5604 - val_acc: 0.7143 - val_auc: 0.7639\n",
      "Epoch 80/300\n",
      "31/31 - 0s - loss: 0.5373 - acc: 0.7255 - auc: 0.7901 - val_loss: 0.5602 - val_acc: 0.7184 - val_auc: 0.7642\n",
      "Epoch 81/300\n",
      "31/31 - 0s - loss: 0.5365 - acc: 0.7250 - auc: 0.7906 - val_loss: 0.5600 - val_acc: 0.7184 - val_auc: 0.7644\n",
      "Epoch 82/300\n",
      "31/31 - 0s - loss: 0.5357 - acc: 0.7245 - auc: 0.7914 - val_loss: 0.5598 - val_acc: 0.7204 - val_auc: 0.7643\n",
      "Epoch 83/300\n",
      "31/31 - 0s - loss: 0.5349 - acc: 0.7255 - auc: 0.7922 - val_loss: 0.5596 - val_acc: 0.7245 - val_auc: 0.7649\n",
      "Epoch 84/300\n",
      "31/31 - 0s - loss: 0.5342 - acc: 0.7265 - auc: 0.7927 - val_loss: 0.5594 - val_acc: 0.7245 - val_auc: 0.7657\n",
      "Epoch 85/300\n",
      "31/31 - 0s - loss: 0.5335 - acc: 0.7265 - auc: 0.7933 - val_loss: 0.5593 - val_acc: 0.7265 - val_auc: 0.7660\n",
      "Epoch 86/300\n",
      "31/31 - 0s - loss: 0.5328 - acc: 0.7276 - auc: 0.7941 - val_loss: 0.5591 - val_acc: 0.7265 - val_auc: 0.7658\n",
      "Epoch 87/300\n",
      "31/31 - 0s - loss: 0.5321 - acc: 0.7270 - auc: 0.7945 - val_loss: 0.5589 - val_acc: 0.7286 - val_auc: 0.7656\n",
      "Epoch 88/300\n",
      "31/31 - 0s - loss: 0.5314 - acc: 0.7276 - auc: 0.7950 - val_loss: 0.5588 - val_acc: 0.7286 - val_auc: 0.7659\n",
      "Epoch 89/300\n",
      "31/31 - 0s - loss: 0.5307 - acc: 0.7291 - auc: 0.7954 - val_loss: 0.5587 - val_acc: 0.7286 - val_auc: 0.7662\n",
      "Epoch 90/300\n",
      "31/31 - 0s - loss: 0.5301 - acc: 0.7291 - auc: 0.7962 - val_loss: 0.5585 - val_acc: 0.7306 - val_auc: 0.7659\n",
      "Epoch 91/300\n",
      "31/31 - 0s - loss: 0.5294 - acc: 0.7296 - auc: 0.7967 - val_loss: 0.5584 - val_acc: 0.7286 - val_auc: 0.7660\n",
      "Epoch 92/300\n",
      "31/31 - 0s - loss: 0.5288 - acc: 0.7296 - auc: 0.7972 - val_loss: 0.5583 - val_acc: 0.7265 - val_auc: 0.7663\n",
      "Epoch 93/300\n",
      "31/31 - 0s - loss: 0.5282 - acc: 0.7296 - auc: 0.7978 - val_loss: 0.5583 - val_acc: 0.7245 - val_auc: 0.7669\n",
      "Epoch 94/300\n",
      "31/31 - 0s - loss: 0.5275 - acc: 0.7296 - auc: 0.7985 - val_loss: 0.5582 - val_acc: 0.7265 - val_auc: 0.7668\n",
      "Epoch 95/300\n",
      "31/31 - 0s - loss: 0.5269 - acc: 0.7301 - auc: 0.7988 - val_loss: 0.5581 - val_acc: 0.7265 - val_auc: 0.7667\n",
      "Epoch 96/300\n",
      "31/31 - 0s - loss: 0.5263 - acc: 0.7301 - auc: 0.7994 - val_loss: 0.5580 - val_acc: 0.7286 - val_auc: 0.7672\n",
      "Epoch 97/300\n",
      "31/31 - 0s - loss: 0.5257 - acc: 0.7301 - auc: 0.7998 - val_loss: 0.5580 - val_acc: 0.7306 - val_auc: 0.7671\n",
      "Epoch 98/300\n",
      "31/31 - 0s - loss: 0.5252 - acc: 0.7311 - auc: 0.8003 - val_loss: 0.5579 - val_acc: 0.7286 - val_auc: 0.7672\n",
      "Epoch 99/300\n",
      "31/31 - 0s - loss: 0.5246 - acc: 0.7327 - auc: 0.8008 - val_loss: 0.5579 - val_acc: 0.7286 - val_auc: 0.7670\n",
      "Epoch 100/300\n",
      "31/31 - 0s - loss: 0.5241 - acc: 0.7306 - auc: 0.8012 - val_loss: 0.5578 - val_acc: 0.7265 - val_auc: 0.7672\n",
      "Epoch 101/300\n",
      "31/31 - 0s - loss: 0.5235 - acc: 0.7311 - auc: 0.8016 - val_loss: 0.5578 - val_acc: 0.7245 - val_auc: 0.7675\n",
      "Epoch 102/300\n",
      "31/31 - 0s - loss: 0.5230 - acc: 0.7327 - auc: 0.8020 - val_loss: 0.5578 - val_acc: 0.7245 - val_auc: 0.7677\n",
      "Epoch 103/300\n",
      "31/31 - 0s - loss: 0.5225 - acc: 0.7342 - auc: 0.8024 - val_loss: 0.5578 - val_acc: 0.7245 - val_auc: 0.7678\n",
      "Epoch 104/300\n",
      "31/31 - 0s - loss: 0.5220 - acc: 0.7342 - auc: 0.8028 - val_loss: 0.5578 - val_acc: 0.7245 - val_auc: 0.7678\n",
      "Epoch 105/300\n",
      "31/31 - 0s - loss: 0.5215 - acc: 0.7342 - auc: 0.8032 - val_loss: 0.5578 - val_acc: 0.7245 - val_auc: 0.7679\n",
      "Epoch 106/300\n",
      "31/31 - 0s - loss: 0.5210 - acc: 0.7332 - auc: 0.8036 - val_loss: 0.5578 - val_acc: 0.7245 - val_auc: 0.7680\n",
      "Epoch 107/300\n",
      "31/31 - 0s - loss: 0.5205 - acc: 0.7337 - auc: 0.8040 - val_loss: 0.5578 - val_acc: 0.7224 - val_auc: 0.7682\n",
      "Epoch 108/300\n",
      "31/31 - 0s - loss: 0.5201 - acc: 0.7332 - auc: 0.8044 - val_loss: 0.5578 - val_acc: 0.7245 - val_auc: 0.7682\n",
      "Epoch 109/300\n",
      "31/31 - 0s - loss: 0.5196 - acc: 0.7332 - auc: 0.8049 - val_loss: 0.5578 - val_acc: 0.7245 - val_auc: 0.7681\n",
      "Epoch 110/300\n",
      "31/31 - 0s - loss: 0.5192 - acc: 0.7332 - auc: 0.8053 - val_loss: 0.5579 - val_acc: 0.7245 - val_auc: 0.7683\n"
     ]
    }
   ],
   "source": [
    "# batch size, epoch, 조기종료조건 등 설정\n",
    "callbacks = [keras.callbacks.EarlyStopping(monitor='val_loss', patience=5),]\n",
    "# keras.callbacks.ModelCheckpoint(filepath='best_nn_model.h5', monitor='val_loss', save_best_only=True)]\n",
    "\n",
    "hist = model.fit(X_train, y_train, validation_data=(X_valid, y_valid), \n",
    "                 batch_size=64, epochs=300, callbacks=callbacks, shuffle=False, verbose=2)"
   ]
  },
  {
   "cell_type": "markdown",
   "metadata": {},
   "source": [
    "##### Visualize training history "
   ]
  },
  {
   "cell_type": "code",
   "execution_count": 11,
   "metadata": {},
   "outputs": [
    {
     "data": {
      "image/png": "[encoded data removed]",
      "text/plain": [
       "<Figure size 432x288 with 1 Axes>"
      ]
     },
     "metadata": {
      "needs_background": "light"
     },
     "output_type": "display_data"
    },
    {
     "data": {
      "image/png": "[encoded data removed]",
      "text/plain": [
       "<Figure size 432x288 with 1 Axes>"
      ]
     },
     "metadata": {
      "needs_background": "light"
     },
     "output_type": "display_data"
    }
   ],
   "source": [
    "# Loss\n",
    "plt.plot(hist.history[\"loss\"], label=\"train\")\n",
    "plt.plot(hist.history[\"val_loss\"], label=\"validation\")\n",
    "plt.legend()\n",
    "plt.xlabel('epoch')\n",
    "plt.title(\"Loss\")\n",
    "plt.show()\n",
    "\n",
    "# ROC-AUC\n",
    "plt.plot(hist.history[\"auc\"], label=\"train\")\n",
    "plt.plot(hist.history[\"val_auc\"], label=\"validation\")\n",
    "plt.legend()\n",
    "plt.xlabel('epoch')\n",
    "plt.title(\"ROC-AUC\")\n",
    "plt.show()"
   ]
  },
  {
   "cell_type": "markdown",
   "metadata": {},
   "source": [
    "### Step 5: Evaluate the model performance"
   ]
  },
  {
   "cell_type": "code",
   "execution_count": 12,
   "metadata": {},
   "outputs": [
    {
     "name": "stdout",
     "output_type": "stream",
     "text": [
      "33/33 [==============================] - 0s 592us/step - loss: 0.5656 - acc: 0.7067 - auc: 0.7523\n"
     ]
    },
    {
     "data": {
      "text/plain": [
       "[0.5655999183654785, 0.7066666483879089, 0.7523418664932251]"
      ]
     },
     "execution_count": 12,
     "metadata": {},
     "output_type": "execute_result"
    }
   ],
   "source": [
    "# Loss, Accuracy & ROC-AUC\n",
    "model.evaluate(X_test, y_test)"
   ]
  },
  {
   "cell_type": "markdown",
   "metadata": {},
   "source": [
    "### Step 6: Predict unseen data"
   ]
  },
  {
   "cell_type": "code",
   "execution_count": 13,
   "metadata": {},
   "outputs": [
    {
     "data": {
      "text/plain": [
       "array([0.7054001 , 0.2400493 , 0.05412567, ..., 0.82751876, 0.2262716 ,\n",
       "       0.5532155 ], dtype=float32)"
      ]
     },
     "execution_count": 13,
     "metadata": {},
     "output_type": "execute_result"
    }
   ],
   "source": [
    "# Generates output predictions for the input samples\n",
    "model.predict(X_dep).flatten()"
   ]
  },
  {
   "cell_type": "code",
   "execution_count": 14,
   "metadata": {},
   "outputs": [
    {
     "data": {
      "text/plain": [
       "array([1, 0, 0, ..., 1, 0, 1])"
      ]
     },
     "execution_count": 14,
     "metadata": {},
     "output_type": "execute_result"
    }
   ],
   "source": [
    "# Get class labels\n",
    "np.where(model.predict(X_dep) > 0.5, 1, 0).flatten()"
   ]
  },
  {
   "cell_type": "code",
   "execution_count": 15,
   "metadata": {},
   "outputs": [
    {
     "name": "stdout",
     "output_type": "stream",
     "text": [
      "'dnn_submission_02101736.csv' is ready to submit.\n"
     ]
    }
   ],
   "source": [
    "# Make submissions: (결과) 0.762053\n",
    "t = pd.Timestamp.now()\n",
    "fname = f\"dnn_submission_{t.month:02}{t.day:02}{t.hour:02}{t.minute:02}.csv\"\n",
    "pd.DataFrame({'cust_id': ID_dep, 'gender': model.predict(X_dep).flatten()}).to_csv(fname, index=False)\n",
    "print(f\"'{fname}' is ready to submit.\")"
   ]
  },
  {
   "cell_type": "markdown",
   "metadata": {},
   "source": [
    "###  Step 7: Save the model for future use"
   ]
  },
  {
   "cell_type": "code",
   "execution_count": 16,
   "metadata": {},
   "outputs": [],
   "source": [
    "# pickle 형식으로 저장\n",
    "# with open('nn_model.pkl', 'wb') as f:\n",
    "#    pickle.dump(model, f)\n",
    "\n",
    "# 추후 저장한 모형 불러올 때: \n",
    "# model = pd.read_pickle('nn_model.pkl')"
   ]
  },
  {
   "cell_type": "code",
   "execution_count": 17,
   "metadata": {},
   "outputs": [],
   "source": [
    "# h5 형식으로 저장\n",
    "# model.save('nn_model.h5')\n",
    "\n",
    "# 추후 저장한 모형 불러올 때: \n",
    "# model = load_model('nn_model.h5')"
   ]
  },
  {
   "cell_type": "markdown",
   "metadata": {},
   "source": [
    "<font color=\"#CC3D3D\"><p>\n",
    "# End"
   ]
  }
 ],
 "metadata": {
  "kernelspec": {
   "display_name": "Python3.8_DL",
   "language": "python",
   "name": "dl"
  },
  "language_info": {
   "codemirror_mode": {
    "name": "ipython",
    "version": 3
   },
   "file_extension": ".py",
   "mimetype": "text/x-python",
   "name": "python",
   "nbconvert_exporter": "python",
   "pygments_lexer": "ipython3",
   "version": "3.8.8"
  }
 },
 "nbformat": 4,
 "nbformat_minor": 4
}
