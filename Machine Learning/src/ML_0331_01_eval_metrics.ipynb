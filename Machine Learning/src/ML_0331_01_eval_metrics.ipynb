{
 "cells": [
  {
   "cell_type": "markdown",
   "metadata": {
    "colab_type": "text",
    "id": "Xi-_0qA6N5hZ"
   },
   "source": [
    "<font color=\"#CC3D3D\"><p>\n",
    "# Measuring Model Performance"
   ]
  },
  {
   "cell_type": "code",
   "execution_count": 1,
   "metadata": {},
   "outputs": [],
   "source": [
    "import matplotlib.pyplot as plt\n",
    "%matplotlib inline\n",
    "import numpy as np"
   ]
  },
  {
   "cell_type": "markdown",
   "metadata": {
    "colab": {
     "autoexec": {
      "startup": false,
      "wait_interval": 0
     }
    },
    "colab_type": "code",
    "id": "stensr9MN5hb"
   },
   "source": [
    "### Imbalanced Data"
   ]
  },
  {
   "cell_type": "code",
   "execution_count": 2,
   "metadata": {
    "colab": {
     "autoexec": {
      "startup": false,
      "wait_interval": 0
     }
    },
    "colab_type": "code",
    "id": "stensr9MN5hb"
   },
   "outputs": [],
   "source": [
    "from sklearn.datasets import load_digits\n",
    "\n",
    "digits = load_digits()\n",
    "y = digits.target == 9  # 숫자 9를 posive class로 설정하여 불균형 데이터 생성 (1의 비율을 작게)"
   ]
  },
  {
   "cell_type": "code",
   "execution_count": 3,
   "metadata": {},
   "outputs": [
    {
     "data": {
      "text/plain": [
       "0.1001669449081803"
      ]
     },
     "execution_count": 3,
     "metadata": {},
     "output_type": "execute_result"
    }
   ],
   "source": [
    "# y가 ture(숫자 9)인 비율\n",
    "(y == True).mean()"
   ]
  },
  {
   "cell_type": "code",
   "execution_count": 4,
   "metadata": {
    "colab": {
     "autoexec": {
      "startup": false,
      "wait_interval": 0
     }
    },
    "colab_type": "code",
    "id": "4zJVcHL6N5hd"
   },
   "outputs": [],
   "source": [
    "from sklearn.model_selection import train_test_split\n",
    "\n",
    "X_train, X_test, y_train, y_test = train_test_split(digits.data, y, random_state=0)"
   ]
  },
  {
   "cell_type": "markdown",
   "metadata": {
    "colab_type": "text",
    "id": "SC2HnxmDN5he"
   },
   "source": [
    "### Training Models ###"
   ]
  },
  {
   "cell_type": "markdown",
   "metadata": {},
   "source": [
    "***Dummy*** \n",
    "- (랜덤모델을 만들어주는 역할)"
   ]
  },
  {
   "cell_type": "code",
   "execution_count": 5,
   "metadata": {
    "colab": {
     "autoexec": {
      "startup": false,
      "wait_interval": 0
     }
    },
    "colab_type": "code",
    "id": "a8xEcMQtN5hg"
   },
   "outputs": [],
   "source": [
    "# Class label 중에 무조건 다수인 것으로 예측\n",
    "from sklearn.dummy import DummyClassifier\n",
    "\n",
    "dummy = DummyClassifier(strategy='most_frequent').fit(X_train, y_train) # 더 많은 쪽으로 예측\n",
    "pred_dummy = dummy.predict(X_test)"
   ]
  },
  {
   "cell_type": "markdown",
   "metadata": {},
   "source": [
    "***Decision Tree***   \n",
    "- 모형이 트리처럼 생김, 트리의 깊이가 깊어질 수록 복잡한 모델"
   ]
  },
  {
   "cell_type": "code",
   "execution_count": 6,
   "metadata": {
    "colab": {
     "autoexec": {
      "startup": false,
      "wait_interval": 0
     }
    },
    "colab_type": "code",
    "id": "ARveUbhFN5hh"
   },
   "outputs": [],
   "source": [
    "from sklearn.tree import DecisionTreeClassifier\n",
    "\n",
    "tree = DecisionTreeClassifier(max_depth=3).fit(X_train, y_train)\n",
    "pred_tree = tree.predict(X_test)"
   ]
  },
  {
   "cell_type": "markdown",
   "metadata": {},
   "source": [
    "***Logistic Regrssion***"
   ]
  },
  {
   "cell_type": "code",
   "execution_count": 7,
   "metadata": {},
   "outputs": [],
   "source": [
    "from sklearn.linear_model import LogisticRegression\n",
    "\n",
    "logit = LogisticRegression(C=0.0001).fit(X_train, y_train)\n",
    "# C(Cost function)이 크면, 훈련을 복잡하게(약한규제), 작으면 강한규제\n",
    "pred_logit = logit.predict(X_test)"
   ]
  },
  {
   "cell_type": "markdown",
   "metadata": {
    "colab_type": "text",
    "id": "RAFU9IuHN5hj"
   },
   "source": [
    "### Accuracy ###\n",
    "- 순서가 중요 (정답,예측값)을 비교하여 정확도를 예측\n",
    "- 불균형 상태에서는 변별력이 떨어진다"
   ]
  },
  {
   "cell_type": "code",
   "execution_count": 8,
   "metadata": {
    "colab": {
     "autoexec": {
      "startup": false,
      "wait_interval": 0
     }
    },
    "colab_type": "code",
    "id": "QVo0Q518N5hj"
   },
   "outputs": [
    {
     "name": "stdout",
     "output_type": "stream",
     "text": [
      "dummy: 0.8955555555555555\n",
      "tree: 0.9311111111111111\n",
      "logit: 0.9133333333333333\n"
     ]
    }
   ],
   "source": [
    "from sklearn.metrics import accuracy_score\n",
    "\n",
    "print(\"dummy:\", accuracy_score(y_test, pred_dummy))\n",
    "print(\"tree:\", accuracy_score(y_test, pred_tree))\n",
    "print(\"logit:\", accuracy_score(y_test, pred_logit))"
   ]
  },
  {
   "cell_type": "markdown",
   "metadata": {
    "colab_type": "text",
    "id": "8OY19qXHN5hl"
   },
   "source": [
    "<font color='green'><p>\n",
    "###  Confusion Matrix ###\n",
    "<br>\n",
    "<img align=\"left\" src=\"http://drive.google.com/uc?export=view&id=1wIJIJENLCnfoesuTUMDjywPLMJnat36E\" width=700 height=500>"
   ]
  },
  {
   "cell_type": "markdown",
   "metadata": {},
   "source": [
    "- confusion_matrix (모델, feature, label, ~ )"
   ]
  },
  {
   "cell_type": "code",
   "execution_count": 9,
   "metadata": {},
   "outputs": [
    {
     "data": {
      "image/png": "[encoded data removed]",
      "text/plain": [
       "<Figure size 1080x216 with 6 Axes>"
      ]
     },
     "metadata": {
      "needs_background": "light"
     },
     "output_type": "display_data"
    }
   ],
   "source": [
    "from sklearn.metrics import plot_confusion_matrix  # sklearn 0.22\n",
    "\n",
    "fig, ax = plt.subplots(1, 3, figsize=(15,3))\n",
    "plot_confusion_matrix(dummy, X_test, y_test, display_labels=[\"not 9\", \"9\"], cmap=plt.cm.Blues, ax=ax[0])\n",
    "plot_confusion_matrix(tree, X_test, y_test, display_labels=[\"not 9\", \"9\"], cmap=plt.cm.Blues, ax=ax[1])\n",
    "plot_confusion_matrix(logit, X_test, y_test, display_labels=[\"not 9\", \"9\"], cmap=plt.cm.Blues, ax=ax[2])\n",
    "ax[0].set_title('dummy')\n",
    "ax[1].set_title('tree')\n",
    "ax[2].set_title('logit')\n",
    "plt.show()"
   ]
  },
  {
   "cell_type": "markdown",
   "metadata": {},
   "source": [
    "- 더미는 1이 작으므로 모두 not9로 예측 / 9로 예측한 것이 거의 없음\n",
    "- tree는 정도가 덜해서 정확성이 높음\n",
    "- 로지스틱도 더미와 비슷하게 거의 0으로 예측"
   ]
  },
  {
   "cell_type": "markdown",
   "metadata": {
    "colab_type": "text",
    "id": "fp-f6nErN5ho"
   },
   "source": [
    "### Recall, Precision & F1 ###"
   ]
  },
  {
   "cell_type": "code",
   "execution_count": 10,
   "metadata": {
    "colab": {
     "autoexec": {
      "startup": false,
      "wait_interval": 0
     }
    },
    "colab_type": "code",
    "id": "64v6Z2bkN5hp"
   },
   "outputs": [
    {
     "name": "stdout",
     "output_type": "stream",
     "text": [
      "dummy:\n",
      "              precision    recall  f1-score   support\n",
      "\n",
      "       not 9       0.90      1.00      0.94       403\n",
      "           9       0.00      0.00      0.00        47\n",
      "\n",
      "    accuracy                           0.90       450\n",
      "   macro avg       0.45      0.50      0.47       450\n",
      "weighted avg       0.80      0.90      0.85       450\n",
      "\n",
      "\n",
      "tree:\n",
      "              precision    recall  f1-score   support\n",
      "\n",
      "       not 9       0.95      0.97      0.96       403\n",
      "           9       0.70      0.60      0.64        47\n",
      "\n",
      "    accuracy                           0.93       450\n",
      "   macro avg       0.83      0.78      0.80       450\n",
      "weighted avg       0.93      0.93      0.93       450\n",
      "\n",
      "\n",
      "logit:\n",
      "              precision    recall  f1-score   support\n",
      "\n",
      "       not 9       0.91      1.00      0.95       403\n",
      "           9       1.00      0.17      0.29        47\n",
      "\n",
      "    accuracy                           0.91       450\n",
      "   macro avg       0.96      0.59      0.62       450\n",
      "weighted avg       0.92      0.91      0.88       450\n",
      "\n"
     ]
    },
    {
     "name": "stderr",
     "output_type": "stream",
     "text": [
      "C:\\Users\\zyunhyeok\\anaconda3\\lib\\site-packages\\sklearn\\metrics\\_classification.py:1221: UndefinedMetricWarning: Precision and F-score are ill-defined and being set to 0.0 in labels with no predicted samples. Use `zero_division` parameter to control this behavior.\n",
      "  _warn_prf(average, modifier, msg_start, len(result))\n"
     ]
    }
   ],
   "source": [
    "from sklearn.metrics import classification_report\n",
    "\n",
    "print(\"dummy:\")\n",
    "print(classification_report(y_test, pred_dummy, target_names=[\"not 9\", \"9\"]))\n",
    "print(\"\\ntree:\")\n",
    "print(classification_report(y_test, pred_tree, target_names=[\"not 9\", \"9\"]))\n",
    "print(\"\\nlogit:\")\n",
    "print(classification_report(y_test, pred_logit, target_names=[\"not 9\", \"9\"]))"
   ]
  },
  {
   "cell_type": "markdown",
   "metadata": {},
   "source": [
    "- precision만 봤을 때는 logit이 제일 좋은 모델이기 때문에 recall과 같이 봐야한다"
   ]
  },
  {
   "cell_type": "markdown",
   "metadata": {
    "colab": {
     "autoexec": {
      "startup": false,
      "wait_interval": 0
     }
    },
    "colab_type": "code",
    "id": "64v6Z2bkN5hp"
   },
   "source": [
    "##### PR curve"
   ]
  },
  {
   "cell_type": "code",
   "execution_count": 11,
   "metadata": {},
   "outputs": [],
   "source": [
    "from sklearn.metrics import average_precision_score\n",
    "from sklearn.metrics import precision_recall_curve\n",
    "from sklearn.metrics import plot_precision_recall_curve  # sklearn 0.22"
   ]
  },
  {
   "cell_type": "code",
   "execution_count": 12,
   "metadata": {},
   "outputs": [
    {
     "name": "stdout",
     "output_type": "stream",
     "text": [
      "dummy:  0.10444444444444445\n",
      "tree:  0.6003999947173272\n",
      "logit:  0.8946824790573935\n"
     ]
    }
   ],
   "source": [
    "# AP(Average Precision)\n",
    "print('dummy: ', average_precision_score(y_test, dummy.predict_proba(X_test)[:,1]))\n",
    "print('tree: ', average_precision_score(y_test, tree.predict_proba(X_test)[:,1]))\n",
    "print('logit: ', average_precision_score(y_test, logit.predict_proba(X_test)[:,1]))"
   ]
  },
  {
   "cell_type": "markdown",
   "metadata": {},
   "source": [
    "- 평가 지표를 무엇으로 하느냐에 따라 모델의 성능 순서가 달라질 수 있다.\n",
    "- 정확도:tree, f1:logit, AP:logit"
   ]
  },
  {
   "cell_type": "code",
   "execution_count": 13,
   "metadata": {},
   "outputs": [
    {
     "data": {
      "image/png": "[encoded data removed]",
      "text/plain": [
       "<Figure size 576x432 with 1 Axes>"
      ]
     },
     "metadata": {
      "needs_background": "light"
     },
     "output_type": "display_data"
    }
   ],
   "source": [
    "fig, ax = plt.subplots(1, 1, figsize=(8,6))\n",
    "plot_precision_recall_curve(dummy, X_test, y_test, ax=ax)\n",
    "plot_precision_recall_curve(tree, X_test, y_test, ax=ax)\n",
    "plot_precision_recall_curve(logit, X_test, y_test, ax=ax)\n",
    "ax.set_title('PR curve')\n",
    "plt.show()"
   ]
  },
  {
   "cell_type": "markdown",
   "metadata": {},
   "source": [
    "##### PR by threshold"
   ]
  },
  {
   "cell_type": "code",
   "execution_count": 14,
   "metadata": {},
   "outputs": [],
   "source": [
    "def plot_precision_recall_by_threshold(precisions, recalls, thresholds) :\n",
    "    # X축을 threshold값으로, Y축은 정밀도, 재현율 값으로 각각 Plot 수행. 정밀도는 점선으로 표시\n",
    "    # plt.figure(figsize=(8,6))\n",
    "    threshold_boundary = thresholds.shape[0]\n",
    "    plt.plot(thresholds, precisions[0:threshold_boundary], linestyle='--', label='precision')\n",
    "    plt.plot(thresholds, recalls[0:threshold_boundary], label='recall')\n",
    "    # threshold 값 X 축의 Scale을 0.1 단위로 변경\n",
    "    _, end = plt.xlim() # end = 1\n",
    "    plt.xticks(np.round(np.arange(0, end, 0.1),2))    \n",
    "    # x축, y축 label과 legend, grid, title 설정\n",
    "    plt.xlabel('Threshold'); #plt.ylabel('Precision & Recall')\n",
    "    plt.legend(); plt.grid(); plt.title('PR by threshold')\n",
    "    plt.show()"
   ]
  },
  {
   "cell_type": "code",
   "execution_count": 15,
   "metadata": {},
   "outputs": [
    {
     "data": {
      "image/png": "[encoded data removed]",
      "text/plain": [
       "<Figure size 432x288 with 1 Axes>"
      ]
     },
     "metadata": {
      "needs_background": "light"
     },
     "output_type": "display_data"
    }
   ],
   "source": [
    "precisions, recalls, thresholds = precision_recall_curve(y_test, logit.predict_proba(X_test)[:,1])\n",
    "plot_precision_recall_by_threshold(precisions, recalls, thresholds)"
   ]
  },
  {
   "cell_type": "markdown",
   "metadata": {
    "colab_type": "text",
    "id": "IsdOm5-vN5hr"
   },
   "source": [
    "### ROC-AUC \n",
    "\n",
    "<img align=\"left\" src=\"http://drive.google.com/uc?export=view&id=1Htx445FclSqHhhNxPT_uOYQOBiuneWXJ\" width=600 height=400>"
   ]
  },
  {
   "cell_type": "code",
   "execution_count": 16,
   "metadata": {
    "colab": {
     "autoexec": {
      "startup": false,
      "wait_interval": 0
     }
    },
    "colab_type": "code",
    "id": "HZOMDTeBN5hr"
   },
   "outputs": [],
   "source": [
    "from sklearn.metrics import roc_curve\n",
    "from sklearn.metrics import auc\n",
    "from sklearn.metrics import plot_roc_curve  # sklearn 0.22"
   ]
  },
  {
   "cell_type": "markdown",
   "metadata": {
    "colab": {
     "autoexec": {
      "startup": false,
      "wait_interval": 0
     }
    },
    "colab_type": "code",
    "id": "HZOMDTeBN5hr"
   },
   "source": [
    "##### AUC"
   ]
  },
  {
   "cell_type": "code",
   "execution_count": 17,
   "metadata": {
    "colab": {
     "autoexec": {
      "startup": false,
      "wait_interval": 0
     }
    },
    "colab_type": "code",
    "id": "HZOMDTeBN5hr"
   },
   "outputs": [
    {
     "name": "stdout",
     "output_type": "stream",
     "text": [
      "dummy:  0.5\n",
      "tree:  0.862995617971596\n",
      "logit:  0.9792513594847156\n"
     ]
    }
   ],
   "source": [
    "fpr, tpr, _ = roc_curve(y_test, dummy.predict_proba(X_test)[:,1])\n",
    "print('dummy: ', auc(fpr, tpr))\n",
    "\n",
    "fpr, tpr, _ = roc_curve(y_test, tree.predict_proba(X_test)[:,1])\n",
    "print('tree: ', auc(fpr, tpr))\n",
    "\n",
    "fpr, tpr, _ = roc_curve(y_test, logit.predict_proba(X_test)[:,1])\n",
    "print('logit: ', auc(fpr, tpr))"
   ]
  },
  {
   "cell_type": "markdown",
   "metadata": {},
   "source": [
    "- dummy는 랜덤모델이기 때문에 0.5"
   ]
  },
  {
   "cell_type": "markdown",
   "metadata": {
    "colab_type": "text",
    "id": "NLGktmeZN5ht"
   },
   "source": [
    "##### ROC curve ####"
   ]
  },
  {
   "cell_type": "code",
   "execution_count": 18,
   "metadata": {
    "colab": {
     "autoexec": {
      "startup": false,
      "wait_interval": 0
     }
    },
    "colab_type": "code",
    "id": "CtX0oFDQN5hw"
   },
   "outputs": [
    {
     "data": {
      "image/png": "[encoded data removed]",
      "text/plain": [
       "<Figure size 576x432 with 1 Axes>"
      ]
     },
     "metadata": {
      "needs_background": "light"
     },
     "output_type": "display_data"
    }
   ],
   "source": [
    "fig, ax = plt.subplots(1, 1, figsize=(8,6))\n",
    "plot_roc_curve(dummy, X_test, y_test, ax=ax)\n",
    "plot_roc_curve(tree, X_test, y_test, ax=ax)\n",
    "plot_roc_curve(logit, X_test, y_test, ax=ax)\n",
    "ax.set_title('ROC curve')\n",
    "plt.show()"
   ]
  },
  {
   "cell_type": "markdown",
   "metadata": {},
   "source": [
    "#### 예측값을 확률로 하는지, 라벨로 하는지\n",
    "- AUC,ROC는 1의 확률 값을 sorting해야되기 때문에 확률을 올려야한다.\n",
    "- 정확도, recall, precision, F1은 confusion_matrix로 표현 -> 0이냐 1이냐로 표현 예측값을 라벨 값으로 예측해야한다."
   ]
  },
  {
   "cell_type": "markdown",
   "metadata": {
    "colab_type": "text",
    "id": "Xi-_0qA6N5hZ"
   },
   "source": [
    "<font color=\"#CC3D3D\"><p>\n",
    "# End"
   ]
  }
 ],
 "metadata": {
  "colab": {
   "default_view": {},
   "name": "M3_code_02.ipynb",
   "provenance": [],
   "version": "0.3.2",
   "views": {}
  },
  "kernelspec": {
   "display_name": "Python3.8_DL",
   "language": "python",
   "name": "dl"
  },
  "language_info": {
   "codemirror_mode": {
    "name": "ipython",
    "version": 3
   },
   "file_extension": ".py",
   "mimetype": "text/x-python",
   "name": "python",
   "nbconvert_exporter": "python",
   "pygments_lexer": "ipython3",
   "version": "3.8.8"
  }
 },
 "nbformat": 4,
 "nbformat_minor": 1
}
