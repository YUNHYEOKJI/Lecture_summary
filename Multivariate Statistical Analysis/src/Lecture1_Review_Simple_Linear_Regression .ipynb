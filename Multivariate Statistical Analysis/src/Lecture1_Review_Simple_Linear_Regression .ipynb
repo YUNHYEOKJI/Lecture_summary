{
 "cells": [
  {
   "cell_type": "markdown",
   "metadata": {
    "slideshow": {
     "slide_type": "slide"
    }
   },
   "source": [
    "# Lecture 1. Review: Simple Linear Regression\n",
    "\n",
    "## 1.1 Review: 통계적 추론방법 \n",
    "### 평균에 대한 추정과 검정\n",
    "\n",
    "\n",
    "#### Example: Web Stickiness \n",
    "\n",
    "- 고가의 상품을 판매하는 온라인 쇼핑몰\n",
    "- 방문자가 웹페이지에 머무르는 시간이 길수록 구매로 이어짐\n",
    "- 한 웹관리자는 평균 session time이 길어야 160초이고 이를 늘리기 위해 새로운 웹 프레젠테이션이 필요하다고 주장함. 이 주장이 얼마나 믿을만 한가? \n"
   ]
  },
  {
   "cell_type": "code",
   "execution_count": 1,
   "metadata": {
    "slideshow": {
     "slide_type": "skip"
    }
   },
   "outputs": [],
   "source": [
    "from pathlib import Path\n",
    "import random\n",
    "\n",
    "import pandas as pd\n",
    "import numpy as np\n",
    "import pylab \n",
    "from scipy import stats\n",
    "import statsmodels.api as sm\n",
    "import statsmodels.formula.api as smf\n",
    "from statsmodels.stats import weightstats\n",
    "from statsmodels.stats import proportion\n",
    "from scipy.stats import t\n",
    "\n",
    "import matplotlib.pylab as plt\n",
    "%matplotlib inline\n",
    "\n",
    "data_path = \"../data/\"\n",
    "\n",
    "session_times = pd.read_csv(data_path + 'web_page_data.csv')\n",
    "session_times.Time = 100 * session_times.Time # 초 단위로 변환\n",
    "\n",
    "ad = pd.read_csv(data_path + \"Advertising.csv\")"
   ]
  },
  {
   "cell_type": "code",
   "execution_count": 2,
   "metadata": {
    "slideshow": {
     "slide_type": "fragment"
    }
   },
   "outputs": [
    {
     "data": {
      "text/html": [
       "<div>\n",
       "<style scoped>\n",
       "    .dataframe tbody tr th:only-of-type {\n",
       "        vertical-align: middle;\n",
       "    }\n",
       "\n",
       "    .dataframe tbody tr th {\n",
       "        vertical-align: top;\n",
       "    }\n",
       "\n",
       "    .dataframe thead th {\n",
       "        text-align: right;\n",
       "    }\n",
       "</style>\n",
       "<table border=\"1\" class=\"dataframe\">\n",
       "  <thead>\n",
       "    <tr style=\"text-align: right;\">\n",
       "      <th></th>\n",
       "      <th>Page</th>\n",
       "      <th>Time</th>\n",
       "    </tr>\n",
       "  </thead>\n",
       "  <tbody>\n",
       "    <tr>\n",
       "      <th>0</th>\n",
       "      <td>Page A</td>\n",
       "      <td>21.0</td>\n",
       "    </tr>\n",
       "    <tr>\n",
       "      <th>1</th>\n",
       "      <td>Page B</td>\n",
       "      <td>253.0</td>\n",
       "    </tr>\n",
       "    <tr>\n",
       "      <th>2</th>\n",
       "      <td>Page A</td>\n",
       "      <td>35.0</td>\n",
       "    </tr>\n",
       "    <tr>\n",
       "      <th>3</th>\n",
       "      <td>Page B</td>\n",
       "      <td>71.0</td>\n",
       "    </tr>\n",
       "    <tr>\n",
       "      <th>4</th>\n",
       "      <td>Page A</td>\n",
       "      <td>67.0</td>\n",
       "    </tr>\n",
       "  </tbody>\n",
       "</table>\n",
       "</div>"
      ],
      "text/plain": [
       "     Page   Time\n",
       "0  Page A   21.0\n",
       "1  Page B  253.0\n",
       "2  Page A   35.0\n",
       "3  Page B   71.0\n",
       "4  Page A   67.0"
      ]
     },
     "execution_count": 2,
     "metadata": {},
     "output_type": "execute_result"
    }
   ],
   "source": [
    "session_times.head()"
   ]
  },
  {
   "cell_type": "code",
   "execution_count": 3,
   "metadata": {},
   "outputs": [
    {
     "data": {
      "text/plain": [
       "(141.19444444444446, 94.24067045736659)"
      ]
     },
     "execution_count": 3,
     "metadata": {},
     "output_type": "execute_result"
    }
   ],
   "source": [
    "session_times.Time.mean(), session_times.Time.std()"
   ]
  },
  {
   "cell_type": "code",
   "execution_count": 4,
   "metadata": {},
   "outputs": [
    {
     "data": {
      "text/plain": [
       "(36, 2)"
      ]
     },
     "execution_count": 4,
     "metadata": {},
     "output_type": "execute_result"
    }
   ],
   "source": [
    "session_times.shape"
   ]
  },
  {
   "cell_type": "markdown",
   "metadata": {
    "slideshow": {
     "slide_type": "slide"
    }
   },
   "source": [
    "### 신뢰구간"
   ]
  },
  {
   "cell_type": "code",
   "execution_count": 5,
   "metadata": {
    "slideshow": {
     "slide_type": "fragment"
    }
   },
   "outputs": [
    {
     "data": {
      "text/plain": [
       "(109.30798906792316, 173.08089982096575)"
      ]
     },
     "execution_count": 5,
     "metadata": {},
     "output_type": "execute_result"
    }
   ],
   "source": [
    "# 95% 신뢰구간\n",
    "stat = weightstats.DescrStatsW(session_times.Time)\n",
    "stat.tconfint_mean(alpha=0.05)"
   ]
  },
  {
   "cell_type": "code",
   "execution_count": 6,
   "metadata": {},
   "outputs": [
    {
     "data": {
      "text/plain": [
       "(98.41223362402965, 183.97665526485926)"
      ]
     },
     "execution_count": 6,
     "metadata": {},
     "output_type": "execute_result"
    }
   ],
   "source": [
    "# 99% 신뢰구간 -> 95% 신뢰구간보다 넓어진다. -> 신뢰구간이 넓으면 추정으로의 의미가 없다.\n",
    "stat = weightstats.DescrStatsW(session_times.Time)\n",
    "stat.tconfint_mean(alpha=0.01)"
   ]
  },
  {
   "cell_type": "markdown",
   "metadata": {
    "slideshow": {
     "slide_type": "slide"
    }
   },
   "source": [
    "### 가설검정\n",
    "1. 가설설정\n",
    "\n",
    "    - 귀무가설    \n",
    "      $$H_0: \\mu=160 \\mbox{ (or } \\mu \\geq 160)$$\n",
    "      (-> 귀무가설에 반드시 등호가 포함되어야한다.)\n",
    "      \n",
    "\n",
    "    - 대립가설    \n",
    "      $$H_1: \\mu < 160$$\n",
    "\n",
    "2. 유의수준 설정\n",
    "    - 귀무가설이 참인데 귀무가설을 기각할 확률\n",
    "    - 귀무가설이 사실이라고 가정할 때 표본 통계량이 얼마나 극단적인 값(일어날 확률이 낮은 값)이어야 귀무가설이 사실이 아니라고 판단할 지에 대한 임계값\n",
    "    - 얼마만큼의 제 1종 오류를 가설검정 과정에서 감당할 것인가?\n",
    "    - 일반적으로 $\\alpha=0.01, 0.05, 0.1$으로 설정 \n",
    "\n",
    "\n",
    "$$\\alpha=0.05$$\n"
   ]
  },
  {
   "cell_type": "markdown",
   "metadata": {
    "slideshow": {
     "slide_type": "slide"
    }
   },
   "source": [
    "3. 가정 체크 \n",
    "    - One sample t-test의 가정 \n",
    "        - 자료가 정규분포를 따른다 (분포가 종모양) **또는**\n",
    "        - 심하게 편중되거나 극단치를 포함한 경우 표본수가 50개 (혹은 30개) 이상이다.\n"
   ]
  },
  {
   "cell_type": "code",
   "execution_count": 7,
   "metadata": {
    "slideshow": {
     "slide_type": "fragment"
    }
   },
   "outputs": [
    {
     "data": {
      "text/plain": [
       "<AxesSubplot:>"
      ]
     },
     "execution_count": 7,
     "metadata": {},
     "output_type": "execute_result"
    },
    {
     "data": {
      "image/png": "[encoded data removed]",
      "text/plain": [
       "<Figure size 432x288 with 1 Axes>"
      ]
     },
     "metadata": {
      "needs_background": "light"
     },
     "output_type": "display_data"
    }
   ],
   "source": [
    "session_times.Time.hist()"
   ]
  },
  {
   "cell_type": "markdown",
   "metadata": {
    "slideshow": {
     "slide_type": "slide"
    }
   },
   "source": [
    "4. 검정통계량과 P-value의 계산\n",
    "    - 귀무가설이 참이라고 가정할 때 아래의 T-통계량은 자유도 n-1을 가지는 t분포를 따름  \n",
    "        $$ \\mbox{T-statistics} =\\frac{\\bar x - \\mu_0 }{s/\\sqrt n } \\sim t_{n-1}$$  "
   ]
  },
  {
   "cell_type": "code",
   "execution_count": 8,
   "metadata": {
    "slideshow": {
     "slide_type": "fragment"
    }
   },
   "outputs": [
    {
     "name": "stdout",
     "output_type": "stream",
     "text": [
      "T_statistics: -1.197, p-value: 0.120, degrees of freedom: 35\n"
     ]
    }
   ],
   "source": [
    "t_result = stat.ttest_mean(value = 160, alternative='smaller')\n",
    "print('T_statistics: %.3f, p-value: %.3f, degrees of freedom: %i' %(t_result))"
   ]
  },
  {
   "cell_type": "code",
   "execution_count": 9,
   "metadata": {},
   "outputs": [
    {
     "data": {
      "text/plain": [
       "(-1.1972891617359385, 0.11962012721253615, 35.0)"
      ]
     },
     "execution_count": 9,
     "metadata": {},
     "output_type": "execute_result"
    }
   ],
   "source": [
    "t_result = stat.ttest_mean(value = 160, alternative='smaller');t_result"
   ]
  },
  {
   "cell_type": "code",
   "execution_count": 10,
   "metadata": {},
   "outputs": [],
   "source": [
    "# 엑스바가 뮤보다는 작으나 충분이 작지 않기 때문에 귀무가설로 결론을 내림."
   ]
  },
  {
   "cell_type": "markdown",
   "metadata": {
    "slideshow": {
     "slide_type": "slide"
    }
   },
   "source": [
    "### 수치형 변수(평균)에 대한 추론 \n",
    "- y = 수치형 변수 \n",
    "\n",
    "`` import statsmodels.stats.weightstats as stat``\n",
    "\n",
    "`` import statsmodels.stats as stats``\n",
    "\n",
    "|     문제                          |      &nbsp;&nbsp;&nbsp;&nbsp; &nbsp;&nbsp;&nbsp;&nbsp;&nbsp;&nbsp;&nbsp;&nbsp;&nbsp; 관심모수    &nbsp;&nbsp;&nbsp;&nbsp;&nbsp;&nbsp;&nbsp;&nbsp;&nbsp; &nbsp;&nbsp;&nbsp;&nbsp;    |     &nbsp;&nbsp;&nbsp;&nbsp;  점추정량   &nbsp;&nbsp;&nbsp;&nbsp;     |                    &nbsp;&nbsp;&nbsp;&nbsp;&nbsp;&nbsp;&nbsp;&nbsp;   가정체크  &nbsp;&nbsp;&nbsp;&nbsp;&nbsp;&nbsp;&nbsp;&nbsp;                    | &nbsp;&nbsp;&nbsp;&nbsp;&nbsp;&nbsp;&nbsp;&nbsp;&nbsp;&nbsp;&nbsp;      검정가설  &nbsp;&nbsp;&nbsp;&nbsp;&nbsp;&nbsp;&nbsp;&nbsp;&nbsp;&nbsp;&nbsp;        |                                         검정방법/Python 명령어                                         |\n",
    "|:-------------------------------:|:------------------------------:|:---------------------------:|:--------------------------------------------------:|:-----------------------:|:----------------------------------------------------------------------------------------:|\n",
    "| 한 그룹 평균                   | $\\mu$                  | $\\bar x$              | $n>30 (>50)$ <br> or 정규분포                     | $H_0: \\mu=\\mu_0$        |One-sample T-test <br>  ``stat.ttest_mean``         |\n",
    "| 두 그룹 평균 비교(독립표본)   | $\\mu_1-\\mu_2$          | $\\bar x_1 - \\bar x_2$ | $n_1 + n_2>30(>50)$ <br> 두 집단 모두 정규분포  | $H_0: \\mu_1 - \\mu_2 = 0$| Two-sample t-test <br> ``stat.ttest_ind`` |\n",
    "| 두 그룹 평균 비교 (쌍체표본)  | $\\mu_d$                | $\\bar x_d$            | $n>30 (>50)$ </br> or 정규분포                     | $H_0: \\mu_d=0$          | Paired t-test <br>``stat.ttest_mean`` |\n",
    "| 셋 이상 그룹 평균 비교        | $\\mu_1, \\ldots, \\mu_m$ |  $\\hat\\mu_1, \\ldots, \\hat\\mu_m$                      |  $n_i>30 (>50)$  or 정규분포 <br> 등분산| $H_0: \\mu_1 = \\cdots = \\mu_m$ |ANOVA <br> ``statsmodels.stats.anova.AnovaRM``\n",
    "| 양적변수 간의 상관관계               | $y=\\beta_0+\\beta_1 x+\\epsilon$ <br>$\\beta_0, \\beta_1$     |   $\\hat \\beta_0, \\hat \\beta_1$                    |                                                                                                                                                      선형성, 독립성, 등분산성, 정규성                    | $H_0: \\beta_i=0$                       | Regression <br>`statsmodels.api.OLS`                                                  |"
   ]
  },
  {
   "cell_type": "markdown",
   "metadata": {
    "slideshow": {
     "slide_type": "slide"
    }
   },
   "source": [
    "### 범주형변수(비율)에 대한 추론 \n",
    "- y = 범주형 변수  \n",
    "\n",
    "|         &nbsp;&nbsp;&nbsp;&nbsp;&nbsp;&nbsp;&nbsp;&nbsp;&nbsp;&nbsp;&nbsp;&nbsp; 문제    &nbsp;&nbsp;&nbsp;&nbsp;&nbsp;&nbsp;&nbsp;&nbsp;  &nbsp;&nbsp;&nbsp;&nbsp; |     &nbsp;&nbsp;&nbsp;&nbsp;  &nbsp;&nbsp;&nbsp;&nbsp; &nbsp;&nbsp;&nbsp;&nbsp; 모수  &nbsp;&nbsp;&nbsp;&nbsp;   &nbsp;&nbsp;&nbsp;&nbsp; &nbsp;&nbsp;&nbsp;&nbsp;  &nbsp;&nbsp;&nbsp;&nbsp;|   &nbsp;&nbsp;&nbsp;&nbsp;점추정량  &nbsp;&nbsp;&nbsp;&nbsp;|가정체크 |   &nbsp;&nbsp;&nbsp;&nbsp;  &nbsp;&nbsp;&nbsp;&nbsp;  &nbsp;&nbsp;&nbsp;&nbsp;&nbsp;&nbsp;&nbsp;&nbsp;&nbsp;&nbsp;&nbsp;&nbsp;  검정가설&nbsp;&nbsp;&nbsp;&nbsp;  &nbsp;&nbsp;&nbsp;&nbsp;&nbsp;&nbsp;&nbsp;&nbsp;   &nbsp;&nbsp;&nbsp;&nbsp;  | 검정방법                                                      |\n",
    "|:-------------------:|:--------------------:|:-------------------------------:|:------------------------------------------------------------:|:------------------------------------------------------------------------------------:|:---------------------------------------------------------------:|\n",
    "| 한 그룹 비율      | $p$                | $\\hat p$                      | $np>5$<br> $n(1-p)>5$                                          | $H_0: p=p_0$                                                                       | Z-test  <br> ``stats.proportion.proportions_ztest``                |\n",
    "| 두 그룹 비율 비교     | $p_1 - p_2$        | $\\hat p_1 - \\hat p_2$         | $n_i p_i >5$<br>$ n_i (1-p_i)>5$  | $H_0: p_1-p_2=0$                                                                   | Z-test <br> ``stats.proportion.proportions_ztest``  |\n",
    "| 적합성 검정       | $p_1, \\ldots, p_m$ | $\\hat p_1, \\ldots, \\hat p_m$  | 모든 기대빈도>5                                            | $H_0: p_1=p_{01},\\ldots,p_m=p_{0m}$        | Chi-square test<br>``scipy.stats.chisquare``|\n",
    "| 독립성 검정       |                    |                               | 모든 기대빈도>5                                            | $H_0:$ 두 범주형 변수가 독립이다.  | Chi-square test <br>``scipy.stats.chi2_contingency``         |\n",
    "| 양적변수와의 관계 |$logit(p)=\\beta_0+\\beta_1 x$ <br> $\\beta_0, \\beta_1$ |   $\\hat \\beta_0, \\hat \\beta_1$                            |                                                   종속변수가 이항분포         |                                                                         $H_0: \\beta_i=0$           | Logistic regression <br>``sklearn.linear_models.LogisticRegression ``| "
   ]
  },
  {
   "cell_type": "markdown",
   "metadata": {
    "slideshow": {
     "slide_type": "slide"
    }
   },
   "source": [
    "## 1.2 Review: Simple Linear Regression\n",
    "\n",
    "### 예: Advertising \n",
    "- Advertising data는 200개의 다른 시장에서 제품의 sales(단위: 1천 유닛)와 각 시장별로 그 제품에 대한 광고예산(단위: 1천 달러)으로 구성된다. 광고 예산은 세가지 매체(TV, radio, newspaper)에 대한 것이다. 세 매체에 대한 광고 지출을 제어함으로써 간접적으로 판매를 증진시키려고 한다. \n",
    "\n",
    "    - 광고 예산과 판매 사이에 상관관계가 있는가?\n",
    "    - 광고 예산과 판매 사이에 얼마나 강한 상관관계가 있는가? \n",
    "\n",
    "\n",
    "### 단순회귀분석 \n",
    "- 하나의 종속변수와 하나의 설명변수 간의 관계를 직선으로 표현하는 방법\n",
    "- 종속변수: 예측될 변수\n",
    "- 설명변수 (독립변수): 종속변수를 예측하는데 활용될 변수 "
   ]
  },
  {
   "cell_type": "code",
   "execution_count": 11,
   "metadata": {},
   "outputs": [
    {
     "data": {
      "text/html": [
       "<div>\n",
       "<style scoped>\n",
       "    .dataframe tbody tr th:only-of-type {\n",
       "        vertical-align: middle;\n",
       "    }\n",
       "\n",
       "    .dataframe tbody tr th {\n",
       "        vertical-align: top;\n",
       "    }\n",
       "\n",
       "    .dataframe thead th {\n",
       "        text-align: right;\n",
       "    }\n",
       "</style>\n",
       "<table border=\"1\" class=\"dataframe\">\n",
       "  <thead>\n",
       "    <tr style=\"text-align: right;\">\n",
       "      <th></th>\n",
       "      <th>Unnamed: 0</th>\n",
       "      <th>TV</th>\n",
       "      <th>Radio</th>\n",
       "      <th>Newspaper</th>\n",
       "      <th>Sales</th>\n",
       "    </tr>\n",
       "  </thead>\n",
       "  <tbody>\n",
       "    <tr>\n",
       "      <th>0</th>\n",
       "      <td>1</td>\n",
       "      <td>230.1</td>\n",
       "      <td>37.8</td>\n",
       "      <td>69.2</td>\n",
       "      <td>22.1</td>\n",
       "    </tr>\n",
       "    <tr>\n",
       "      <th>1</th>\n",
       "      <td>2</td>\n",
       "      <td>44.5</td>\n",
       "      <td>39.3</td>\n",
       "      <td>45.1</td>\n",
       "      <td>10.4</td>\n",
       "    </tr>\n",
       "    <tr>\n",
       "      <th>2</th>\n",
       "      <td>3</td>\n",
       "      <td>17.2</td>\n",
       "      <td>45.9</td>\n",
       "      <td>69.3</td>\n",
       "      <td>9.3</td>\n",
       "    </tr>\n",
       "    <tr>\n",
       "      <th>3</th>\n",
       "      <td>4</td>\n",
       "      <td>151.5</td>\n",
       "      <td>41.3</td>\n",
       "      <td>58.5</td>\n",
       "      <td>18.5</td>\n",
       "    </tr>\n",
       "    <tr>\n",
       "      <th>4</th>\n",
       "      <td>5</td>\n",
       "      <td>180.8</td>\n",
       "      <td>10.8</td>\n",
       "      <td>58.4</td>\n",
       "      <td>12.9</td>\n",
       "    </tr>\n",
       "  </tbody>\n",
       "</table>\n",
       "</div>"
      ],
      "text/plain": [
       "   Unnamed: 0     TV  Radio  Newspaper  Sales\n",
       "0           1  230.1   37.8       69.2   22.1\n",
       "1           2   44.5   39.3       45.1   10.4\n",
       "2           3   17.2   45.9       69.3    9.3\n",
       "3           4  151.5   41.3       58.5   18.5\n",
       "4           5  180.8   10.8       58.4   12.9"
      ]
     },
     "execution_count": 11,
     "metadata": {},
     "output_type": "execute_result"
    }
   ],
   "source": [
    "ad.head()"
   ]
  },
  {
   "cell_type": "code",
   "execution_count": 12,
   "metadata": {},
   "outputs": [
    {
     "data": {
      "image/png": "[encoded data removed]",
      "text/plain": [
       "<Figure size 864x216 with 3 Axes>"
      ]
     },
     "metadata": {
      "needs_background": "light"
     },
     "output_type": "display_data"
    }
   ],
   "source": [
    "fig, axes = plt.subplots(1, 3, figsize=(12, 3))\n",
    "ad.plot.scatter('TV', 'Sales', ax = axes[0])\n",
    "ad.plot.scatter('Radio', 'Sales', ax = axes[1] )\n",
    "ad.plot.scatter('Newspaper', 'Sales', ax = axes[2] )\n",
    "plt.show()"
   ]
  },
  {
   "cell_type": "markdown",
   "metadata": {
    "slideshow": {
     "slide_type": "slide"
    }
   },
   "source": [
    "### 상관분석 vs 회귀분석\n",
    "- 상관분석\n",
    "    - 두 변수 간의 선형관계의 강도 측정\n",
    "    - 인과관계 없음\n",
    "    - False 상관관계 유의\n",
    "    \n",
    "- 회귀분석\n",
    "    - 원인이 되는 변수 (설명변수)에 따른 종속변수의 결과 예측 (의존적 관계) \n",
    "    - 둘 이상의 변수들 간의 관계 \n",
    "    - 상관관계 포함\n",
    "    - 인과관계는 통계학의 범주를 넘어서서 이론적인 선험적인 고려가 선행되어야 한다. \n",
    "\n",
    "<img src=\"figures/regcor.jpg\" width=50%>"
   ]
  },
  {
   "cell_type": "markdown",
   "metadata": {
    "slideshow": {
     "slide_type": "slide"
    }
   },
   "source": [
    "### 1.2.1 단순 선형회귀 모형 \n",
    "#### Example: Advertisement \n",
    "- TV 광고예산과 판매량의 관계를 선형식으로 표현\n",
    "$$ Sales \\approx \\beta_0 + \\beta_1 \\times TV $$\n",
    "\n",
    "#### 단순 선형회귀 모형\n",
    "$$ y_i = \\beta_0 + \\beta_1 x_i + \\epsilon_i,~~~ i=1,2,\\ldots,n $$\n",
    "\n",
    "- $\\beta_0$: 절편 (모수)\n",
    "- $\\beta_1$: 기울기 (모수)\n",
    "- $\\epsilon_i$: 오차항 (확률변수: 평균 0, 분산 $\\sigma^2$)\n",
    "\n",
    "#### 추정된 회귀식 \n",
    "$$ \\hat y_i = \\hat \\beta_0 + \\hat \\beta_1 x_i $$\n",
    "\n",
    "- $\\hat y_i$: $x_i$ 값에 대한  $y_i$의 예측값 \n",
    "\n",
    "- $\\hat \\beta_0, \\hat \\beta_1$: 계수추정치 "
   ]
  },
  {
   "cell_type": "markdown",
   "metadata": {
    "slideshow": {
     "slide_type": "slide"
    }
   },
   "source": [
    "      \n",
    "#### 선형회귀모형의 가정 \n",
    "\n",
    "- $y$와 $x$는 선형관계이다.\n",
    "- 오차항은 서로 독립이다. \n",
    "- 오차항 분산은 동일하다\n",
    "- 오차항은  정규분포를 따른다. "
   ]
  },
  {
   "cell_type": "markdown",
   "metadata": {
    "slideshow": {
     "slide_type": "slide"
    }
   },
   "source": [
    "      \n",
    "### 1.2.2 회귀계수의 추정\n",
    "\n",
    "- n개의 관측치 쌍이 주어진 상황\n",
    "$$(x_1, y_1), (x_2, y_2), \\ldots, (x_n, y_n) $$\n",
    "\n",
    "- 어떤 $\\hat y_i = \\hat \\beta_0 + \\hat \\beta_1 x$가 좋은 추정치인가?\n",
    "\n",
    "<img src='http://drive.google.com/uc?export=view&id=1djl6jmwfZM5OHn6MrH3jv_Erz5YYdXhR' width=500 /><br>"
   ]
  },
  {
   "cell_type": "markdown",
   "metadata": {
    "slideshow": {
     "slide_type": "slide"
    }
   },
   "source": [
    "#### 최소제곱법(Least Square Estimation; LSE) \n",
    "- 잔차(residual)\n",
    "$$e_i=y_i -\\hat y_i$$\n",
    "    - 잔차를 줄이는 회귀선이 좋음.\n",
    "- 잔차제곱합(Residual Sum of Square; RSS)\n",
    "$$RSS=e_1^2 +e_2^2 + \\cdots + e_n^2 $$\n",
    "\n",
    "- 최소제곱법\n",
    "    - RSS를 최소화 하는 $\\hat \\beta_0,\\hat \\beta_1$을 선택 \n",
    "    \n",
    "    $$ \\hat \\beta_1= \\frac{\\sum_{i=1}^n (x_i-\\bar x)(y_i -\\bar y)}{\\sum_{i=1}^n (x_i -\\bar x)^2 }$$\n",
    "    $$\\hat \\beta_0=\\bar y - \\hat \\beta_1 \\bar x $$\n",
    "\n",
    "    "
   ]
  },
  {
   "cell_type": "code",
   "execution_count": 13,
   "metadata": {
    "slideshow": {
     "slide_type": "slide"
    }
   },
   "outputs": [
    {
     "data": {
      "text/html": [
       "<table class=\"simpletable\">\n",
       "<caption>OLS Regression Results</caption>\n",
       "<tr>\n",
       "  <th>Dep. Variable:</th>          <td>Sales</td>      <th>  R-squared:         </th> <td>   0.612</td>\n",
       "</tr>\n",
       "<tr>\n",
       "  <th>Model:</th>                   <td>OLS</td>       <th>  Adj. R-squared:    </th> <td>   0.610</td>\n",
       "</tr>\n",
       "<tr>\n",
       "  <th>Method:</th>             <td>Least Squares</td>  <th>  F-statistic:       </th> <td>   312.1</td>\n",
       "</tr>\n",
       "<tr>\n",
       "  <th>Date:</th>             <td>Sun, 13 Feb 2022</td> <th>  Prob (F-statistic):</th> <td>1.47e-42</td>\n",
       "</tr>\n",
       "<tr>\n",
       "  <th>Time:</th>                 <td>17:12:55</td>     <th>  Log-Likelihood:    </th> <td> -519.05</td>\n",
       "</tr>\n",
       "<tr>\n",
       "  <th>No. Observations:</th>      <td>   200</td>      <th>  AIC:               </th> <td>   1042.</td>\n",
       "</tr>\n",
       "<tr>\n",
       "  <th>Df Residuals:</th>          <td>   198</td>      <th>  BIC:               </th> <td>   1049.</td>\n",
       "</tr>\n",
       "<tr>\n",
       "  <th>Df Model:</th>              <td>     1</td>      <th>                     </th>     <td> </td>   \n",
       "</tr>\n",
       "<tr>\n",
       "  <th>Covariance Type:</th>      <td>nonrobust</td>    <th>                     </th>     <td> </td>   \n",
       "</tr>\n",
       "</table>\n",
       "<table class=\"simpletable\">\n",
       "<tr>\n",
       "      <td></td>         <th>coef</th>     <th>std err</th>      <th>t</th>      <th>P>|t|</th>  <th>[0.025</th>    <th>0.975]</th>  \n",
       "</tr>\n",
       "<tr>\n",
       "  <th>Intercept</th> <td>    7.0326</td> <td>    0.458</td> <td>   15.360</td> <td> 0.000</td> <td>    6.130</td> <td>    7.935</td>\n",
       "</tr>\n",
       "<tr>\n",
       "  <th>TV</th>        <td>    0.0475</td> <td>    0.003</td> <td>   17.668</td> <td> 0.000</td> <td>    0.042</td> <td>    0.053</td>\n",
       "</tr>\n",
       "</table>\n",
       "<table class=\"simpletable\">\n",
       "<tr>\n",
       "  <th>Omnibus:</th>       <td> 0.531</td> <th>  Durbin-Watson:     </th> <td>   1.935</td>\n",
       "</tr>\n",
       "<tr>\n",
       "  <th>Prob(Omnibus):</th> <td> 0.767</td> <th>  Jarque-Bera (JB):  </th> <td>   0.669</td>\n",
       "</tr>\n",
       "<tr>\n",
       "  <th>Skew:</th>          <td>-0.089</td> <th>  Prob(JB):          </th> <td>   0.716</td>\n",
       "</tr>\n",
       "<tr>\n",
       "  <th>Kurtosis:</th>      <td> 2.779</td> <th>  Cond. No.          </th> <td>    338.</td>\n",
       "</tr>\n",
       "</table><br/><br/>Notes:<br/>[1] Standard Errors assume that the covariance matrix of the errors is correctly specified."
      ],
      "text/plain": [
       "<class 'statsmodels.iolib.summary.Summary'>\n",
       "\"\"\"\n",
       "                            OLS Regression Results                            \n",
       "==============================================================================\n",
       "Dep. Variable:                  Sales   R-squared:                       0.612\n",
       "Model:                            OLS   Adj. R-squared:                  0.610\n",
       "Method:                 Least Squares   F-statistic:                     312.1\n",
       "Date:                Sun, 13 Feb 2022   Prob (F-statistic):           1.47e-42\n",
       "Time:                        17:12:55   Log-Likelihood:                -519.05\n",
       "No. Observations:                 200   AIC:                             1042.\n",
       "Df Residuals:                     198   BIC:                             1049.\n",
       "Df Model:                           1                                         \n",
       "Covariance Type:            nonrobust                                         \n",
       "==============================================================================\n",
       "                 coef    std err          t      P>|t|      [0.025      0.975]\n",
       "------------------------------------------------------------------------------\n",
       "Intercept      7.0326      0.458     15.360      0.000       6.130       7.935\n",
       "TV             0.0475      0.003     17.668      0.000       0.042       0.053\n",
       "==============================================================================\n",
       "Omnibus:                        0.531   Durbin-Watson:                   1.935\n",
       "Prob(Omnibus):                  0.767   Jarque-Bera (JB):                0.669\n",
       "Skew:                          -0.089   Prob(JB):                        0.716\n",
       "Kurtosis:                       2.779   Cond. No.                         338.\n",
       "==============================================================================\n",
       "\n",
       "Notes:\n",
       "[1] Standard Errors assume that the covariance matrix of the errors is correctly specified.\n",
       "\"\"\""
      ]
     },
     "execution_count": 13,
     "metadata": {},
     "output_type": "execute_result"
    }
   ],
   "source": [
    "model = smf.ols('Sales ~ TV', data = ad).fit()\n",
    "model.summary()"
   ]
  },
  {
   "cell_type": "markdown",
   "metadata": {
    "slideshow": {
     "slide_type": "slide"
    }
   },
   "source": [
    "     \n",
    "#### 회귀계수의 해석\n",
    "- 추정된 회귀식\n",
    "$$ \\hat y = 7.033 + 0.0475 x$$\n",
    "- $\\hat \\beta_1$: TV광고 투자가 매 1천달러 증가할 경우 판매량은 47.5 유닛만큼 증가한다.\n",
    "    \n",
    "- $\\hat \\beta_0$: TV광고 투자가 0달러 일때 판매량은  7033 유닛이다(?!)  \n",
    "    - $\\beta_0$의 해석은 주의해야 함. 0이 데이터의 범위 안에 포함되는지 확인. \n",
    "     "
   ]
  },
  {
   "cell_type": "markdown",
   "metadata": {
    "slideshow": {
     "slide_type": "slide"
    }
   },
   "source": [
    "\n",
    "### 1.2.3 계수 추정값의 정확도 평가\n",
    "- $\\hat \\beta_1$의 해석 중 \"47.5 유닛\"이 얼마나 정확할까? \n",
    "    - 다른 표본을 사용한다면? \n",
    "    - 1000개의 서로 다른 표본을 사용하여 회귀계수를 계산하였을 때 그 값의 평균과 표준편차는? \n",
    "      \n",
    "- 모회귀선과 최소제곱선 \n",
    "<img src='http://drive.google.com/uc?export=view&id=1imTLmKdnTwMUFfO_TPZDK9oXgmn1kAox' width=500/><br>"
   ]
  },
  {
   "cell_type": "markdown",
   "metadata": {
    "slideshow": {
     "slide_type": "slide"
    }
   },
   "source": [
    "- 최소제곱선의 평균 \n",
    " $$E(\\hat \\beta_0)=\\beta_0,~~E(\\hat \\beta_1)=\\beta_1 $$\n",
    "\n",
    "  - 특정 데이터셋에 대해 계산한 $\\hat \\beta_0, \\hat \\beta_1$은  $\\beta_0, \\beta_1$과 정확히 일치하지 않음 \n",
    "  - 많은 수의 데이터 셋에 대해 얻은 여러 $\\hat \\beta_0, \\hat \\beta_1$을 평균하면 $\\beta_0, \\beta_1$와 일치 &rarr; **비편향 추정량(Unbiased estimator)**\n",
    "\n",
    "- 최소제곱선의 표준오차 (standard error)\n",
    "    - 하나의 추정값 $\\hat \\beta_0, \\hat \\beta_1$은 $\\beta_0, \\beta_1$과 얼마나 다를 것인가? \n",
    "    $$SE(\\hat \\beta_0)^2 = \\sigma^2 \\left[ \\frac 1 n + \\frac{\\bar x^2 }{ \\sum_{i=1}^n (x_i - \\bar x)^2 }\\right],~~SE(\\hat \\beta_1)^2 = \\frac {\\sigma^2 }{\\sum_{i=1}^n (x_i - \\bar x)^2}  $$\n",
    "    - $\\hat \\sigma^2 = RSS/(n-2)$ 사용하여 SE를 추정 \n",
    "\n",
    "      \n",
    "      "
   ]
  },
  {
   "cell_type": "markdown",
   "metadata": {
    "slideshow": {
     "slide_type": "slide"
    }
   },
   "source": [
    "#### 회귀계수에 대한 95% 신뢰구간\n",
    "$$\\hat \\beta_1 \\pm 2\\cdot SE(\\hat \\beta_1),~~  \\hat \\beta_0 \\pm 2\\cdot SE(\\hat \\beta_0)$$\n",
    "     "
   ]
  },
  {
   "cell_type": "code",
   "execution_count": 14,
   "metadata": {
    "collapse": false,
    "lines_to_next_cell": 0,
    "slideshow": {
     "slide_type": "fragment"
    }
   },
   "outputs": [
    {
     "data": {
      "text/html": [
       "<div>\n",
       "<style scoped>\n",
       "    .dataframe tbody tr th:only-of-type {\n",
       "        vertical-align: middle;\n",
       "    }\n",
       "\n",
       "    .dataframe tbody tr th {\n",
       "        vertical-align: top;\n",
       "    }\n",
       "\n",
       "    .dataframe thead th {\n",
       "        text-align: right;\n",
       "    }\n",
       "</style>\n",
       "<table border=\"1\" class=\"dataframe\">\n",
       "  <thead>\n",
       "    <tr style=\"text-align: right;\">\n",
       "      <th></th>\n",
       "      <th>0</th>\n",
       "      <th>1</th>\n",
       "    </tr>\n",
       "  </thead>\n",
       "  <tbody>\n",
       "    <tr>\n",
       "      <th>Intercept</th>\n",
       "      <td>6.129719</td>\n",
       "      <td>7.935468</td>\n",
       "    </tr>\n",
       "    <tr>\n",
       "      <th>TV</th>\n",
       "      <td>0.042231</td>\n",
       "      <td>0.052843</td>\n",
       "    </tr>\n",
       "  </tbody>\n",
       "</table>\n",
       "</div>"
      ],
      "text/plain": [
       "                  0         1\n",
       "Intercept  6.129719  7.935468\n",
       "TV         0.042231  0.052843"
      ]
     },
     "execution_count": 14,
     "metadata": {},
     "output_type": "execute_result"
    }
   ],
   "source": [
    "model.conf_int(alpha=0.05)"
   ]
  },
  {
   "cell_type": "code",
   "execution_count": 15,
   "metadata": {
    "slideshow": {
     "slide_type": "slide"
    }
   },
   "outputs": [],
   "source": [
    "# beta_hat 에 대한 추정 -> y_hat에 대한 추정과는 상이"
   ]
  },
  {
   "cell_type": "markdown",
   "metadata": {
    "slideshow": {
     "slide_type": "fragment"
    }
   },
   "source": [
    "-  광고를 전혀 하지 않으면 평균 판매량은 [6130, 7940] 사이의 값으로 떨어진다 \n",
    "- TV광고 투자가 매 1천달러 증가할 경우 판매량은 평균 [42, 53] 사이의 값만큼 증가한다.\n",
    "\n",
    "&nbsp;"
   ]
  },
  {
   "cell_type": "markdown",
   "metadata": {
    "slideshow": {
     "slide_type": "slide"
    }
   },
   "source": [
    "#### 회귀계수에 대한 가설검정\n",
    "- 귀무가설, 대립가설\n",
    " $$H_0: \\beta_1=0$$\n",
    " $$H_1: \\beta_1\\neq0$$\n",
    " \n",
    "- 검정통계량\n",
    "$$t=\\frac{\\hat \\beta_1}{ SE(\\hat \\beta_1)}$$\n",
    "\n",
    "    - $H_0$가 사실일 때  $t \\sim t_{n-2}$ 분포를 따른다.\n",
    "\n",
    "  \n",
    "- p-value\n",
    "    - $H_0$가 사실일 때 어떤 값이 $|t|$와 같거나 큰 경우를 관측할 확률 \n",
    "    - 실질적인 상관성이 없는데도 우연히 의미있는 상관성이 예측될 확률 \n",
    "    - p-value가 충분히 작으면 상관성이 있다고 결론 ($H_0$  기각)"
   ]
  },
  {
   "cell_type": "markdown",
   "metadata": {
    "slideshow": {
     "slide_type": "slide"
    }
   },
   "source": [
    "- 회귀계수 해석의 주의점\n",
    "    - 귀무가설 $H_0: \\beta_1=0$  기각하여 x와 y의 관계가   유의하다고 하더라도 x와 y 간에 원인-결과 관계가 존재한다고 결론 내릴 수는 없다.\n",
    "    \n",
    "    - $H0: \\beta_1=0$을 기각하고 통계적 유의성만 검정할 수 있기 때문에 x와 y의 관계가 선형이라고 결론내릴 수 없다. \n",
    "    \n",
    "    - $\\hat \\beta_0$에 대한 해석은 설명변수 자료의 범위가 0을 포함할 때만 의미가 있다. \n",
    "    "
   ]
  },
  {
   "cell_type": "markdown",
   "metadata": {
    "slideshow": {
     "slide_type": "slide"
    }
   },
   "source": [
    "### 1.2.4 모델의 정확도 평가\n",
    "- 모델이 데이터에 얼마나 적합한가? \n",
    "\n",
    "#### 결정계수 $R^2$\n",
    "- 비율로 표현되는 적합도 측도\n",
    "$$R^2 = \\frac{TSS-RSS}{TSS} = 1-\\frac{RSS}{TSS} $$\n",
    "    - $TSS=\\sum(y_i-\\bar y)^2$: 총 제곱합 (회귀분석 수행 전 $Y$안에 내재된 변동량)\n",
    "    - $TSS-RSS=\\sum(\\hat y_i-\\bar y)^2$: 회귀를 수행함으로써 설명된 Y의 변동량 \n",
    "    - $RSS=\\sum(y_i-\\hat y)^2$: 회귀식에 의해 설명되지 않는 Y의 변동량 "
   ]
  },
  {
   "cell_type": "markdown",
   "metadata": {
    "slideshow": {
     "slide_type": "slide"
    }
   },
   "source": [
    "- $0\\leq R^2 \\leq 1$\n",
    "- X를 사용하여 설명될 수 있는 Y의 변동 비율(proportion of variability)\n",
    "    - $R^2 \\approx 1$: $Y$의 변동 중 많은 부분이 회귀식에 의해 설명\n",
    "    - $R^2 \\approx 0$: $Y$의 변동 중 대부분이 회귀식에 의해 설명되지 않음 "
   ]
  },
  {
   "cell_type": "code",
   "execution_count": 16,
   "metadata": {
    "slideshow": {
     "slide_type": "fragment"
    }
   },
   "outputs": [
    {
     "data": {
      "text/plain": [
       "0.611875050850071"
      ]
     },
     "execution_count": 16,
     "metadata": {},
     "output_type": "execute_result"
    }
   ],
   "source": [
    "model.rsquared"
   ]
  },
  {
   "cell_type": "markdown",
   "metadata": {
    "slideshow": {
     "slide_type": "fragment"
    }
   },
   "source": [
    "- sales의 변동 중 61%가 TV에 대한 선형회귀에 의해 설명된다. \n",
    "- 단순선형회귀에서는 $R^2$는 피어슨 상관계수의 제곱과 같다.\n"
   ]
  },
  {
   "cell_type": "code",
   "execution_count": 17,
   "metadata": {
    "slideshow": {
     "slide_type": "fragment"
    }
   },
   "outputs": [
    {
     "data": {
      "text/plain": [
       "0.6118750508500714"
      ]
     },
     "execution_count": 17,
     "metadata": {},
     "output_type": "execute_result"
    }
   ],
   "source": [
    "stats.pearsonr(ad.Sales,ad.TV)[0]**2"
   ]
  },
  {
   "cell_type": "markdown",
   "metadata": {
    "slideshow": {
     "slide_type": "slide"
    }
   },
   "source": [
    "\n",
    "\n",
    "### 1.2.5 예측\n",
    "- 주어진 독립변수에 대한 종속변수의 값을 추정된 회귀식에 의해 예측한다.\n",
    "\n",
    "$$\\hat y= \\hat \\beta_0 + \\hat \\beta_1 x^*  $$"
   ]
  },
  {
   "cell_type": "code",
   "execution_count": 18,
   "metadata": {
    "slideshow": {
     "slide_type": "fragment"
    }
   },
   "outputs": [
    {
     "data": {
      "text/html": [
       "<div>\n",
       "<style scoped>\n",
       "    .dataframe tbody tr th:only-of-type {\n",
       "        vertical-align: middle;\n",
       "    }\n",
       "\n",
       "    .dataframe tbody tr th {\n",
       "        vertical-align: top;\n",
       "    }\n",
       "\n",
       "    .dataframe thead th {\n",
       "        text-align: right;\n",
       "    }\n",
       "</style>\n",
       "<table border=\"1\" class=\"dataframe\">\n",
       "  <thead>\n",
       "    <tr style=\"text-align: right;\">\n",
       "      <th></th>\n",
       "      <th>mean</th>\n",
       "      <th>mean_se</th>\n",
       "      <th>mean_ci_lower</th>\n",
       "      <th>mean_ci_upper</th>\n",
       "      <th>obs_ci_lower</th>\n",
       "      <th>obs_ci_upper</th>\n",
       "    </tr>\n",
       "  </thead>\n",
       "  <tbody>\n",
       "    <tr>\n",
       "      <th>0</th>\n",
       "      <td>11.786258</td>\n",
       "      <td>0.262897</td>\n",
       "      <td>11.26782</td>\n",
       "      <td>12.304695</td>\n",
       "      <td>5.339251</td>\n",
       "      <td>18.233264</td>\n",
       "    </tr>\n",
       "  </tbody>\n",
       "</table>\n",
       "</div>"
      ],
      "text/plain": [
       "        mean   mean_se  mean_ci_lower  mean_ci_upper  obs_ci_lower  \\\n",
       "0  11.786258  0.262897       11.26782      12.304695      5.339251   \n",
       "\n",
       "   obs_ci_upper  \n",
       "0     18.233264  "
      ]
     },
     "execution_count": 18,
     "metadata": {},
     "output_type": "execute_result"
    }
   ],
   "source": [
    "pred = model.get_prediction(exog = dict(TV=100))\n",
    "pred.summary_frame(alpha = 0.05)"
   ]
  },
  {
   "cell_type": "markdown",
   "metadata": {
    "slideshow": {
     "slide_type": "fragment"
    }
   },
   "source": [
    "#### 신뢰구간 \n",
    "- 수많은 도시에 대한 **평균** 판매량을 둘러싼 불확실성을 수량화\n",
    "- TV광고에 10만달러를 지출한다면 판매량의 평균은 11268개와 12305개 사이일 것으로 95% 확신함\n",
    "\n",
    "\n",
    "#### 예측구간\n",
    "- **특정** 도시의 판매량에 대한 불확실성을 수량화\n",
    "- TV광고에 10만달러를 지출한 도시에서 판매량은 5339개와 18233개 사이일 것으로 95% 확신함  \n",
    "\n",
    "- 회귀식은 가지고 있는 data 범위 밖에서 예측은 주의!! (Extrapolation 문제)"
   ]
  }
 ],
 "metadata": {
  "celltoolbar": "Slideshow",
  "jupytext": {
   "cell_metadata_filter": "tags,name,collapse,-all",
   "main_language": "R",
   "notebook_metadata_filter": "-all"
  },
  "kernelspec": {
   "display_name": "Python3.8_DL",
   "language": "python",
   "name": "dl"
  },
  "language_info": {
   "codemirror_mode": {
    "name": "ipython",
    "version": 3
   },
   "file_extension": ".py",
   "mimetype": "text/x-python",
   "name": "python",
   "nbconvert_exporter": "python",
   "pygments_lexer": "ipython3",
   "version": "3.8.8"
  }
 },
 "nbformat": 4,
 "nbformat_minor": 4
}
