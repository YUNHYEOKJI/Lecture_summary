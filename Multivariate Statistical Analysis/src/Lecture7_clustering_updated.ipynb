{
 "cells": [
  {
   "cell_type": "markdown",
   "metadata": {
    "slideshow": {
     "slide_type": "slide"
    }
   },
   "source": [
    "# Lecture 7: Cluster Analysis\n",
    "\n",
    "## 7.1 군집분석이란?\t\n",
    "- 관측치들을 여러 개의 서로 배타적인 그룹으로 분류하여 서로 유사한 것을 같은 그룹으로 모이도록 하는 것\n",
    "- 범주(그룹)에 대한 사전 정보가 없음: Unsupervised learning\n",
    "- 동일한 군집 내의 관찰치는 서로 비슷한 속성을 갖도록, 다른 군집의 관칠치는 서로 상이한 속성을 갖도록 군집 형성"
   ]
  },
  {
   "cell_type": "markdown",
   "metadata": {
    "slideshow": {
     "slide_type": "slide"
    }
   },
   "source": [
    "#### 군집분석의 활용\n",
    "- 데이터 탐색\n",
    "    - 시장에서 경쟁관계에 있는 상품이나 기업의 속성에 따라 군집화를 통해 잠재적인 신제품 기회 발견\n",
    "    - 데이터에 잠재되어 있는 패턴 및 규칙 파악\n",
    "\n",
    " <img src='http://drive.google.com/uc?export=view&id=1Yd3l3VCoMS8AVKgLtSEqlYeYzGEoEtok' width=50%/><br>\n",
    " "
   ]
  },
  {
   "cell_type": "markdown",
   "metadata": {
    "slideshow": {
     "slide_type": "slide"
    }
   },
   "source": [
    "- 데이터 분할 목적\n",
    "    - 구매태도, 구매성향, 매체사용습관 등과 같은 특성에 따라 공통적인 특성을 공유하는 사람, 시장, 조직의 군집을 통한 시장세분화/고객세분화\n",
    "\n",
    "<img src='http://drive.google.com/uc?export=view&id=1vw703NXGBTV8i-y5A9FDHHmG3DQ_Z4IS' width=40% align=\"left\"/><br>\n",
    "\n",
    "<img src='http://drive.google.com/uc?export=view&id=1NUHagTuL1UIfWw3iX5C1sK0LBQXlFP_2' width=40% aligh=\"left\"/><br>"
   ]
  },
  {
   "cell_type": "markdown",
   "metadata": {
    "slideshow": {
     "slide_type": "slide"
    }
   },
   "source": [
    "- 머신 러닝 적용 이전의 데이터 준비\n",
    "    - 금융시장에서 비슷한 패턴을 가진 종목들로 분할한 후 예측모형 적용\n",
    "    - 텍스트마이닝 과정에서 text categorization, text clustering, concept/entity extraction에 적용\n"
   ]
  },
  {
   "cell_type": "markdown",
   "metadata": {
    "slideshow": {
     "slide_type": "slide"
    }
   },
   "source": [
    "## 7.2 군집분석의 문제\t\n",
    "- 가깝다는 것을 어떻게 정의할 것인가?\n",
    "    - Dissimilarity measure의 정의\n",
    "- 어떤 방법으로 군집화 할 것인가?\n",
    "    - Hierarchical clustering, non-hierarchical clustering, model-based clustering 등으로 구분\n",
    "- 군집 결과를 어떻게 시각화 할 것인가?\n",
    "    - Heatmap, bar graph 등의 활용 \n",
    "- 군집 결과를 어떻게 해석할 것인가? "
   ]
  },
  {
   "cell_type": "markdown",
   "metadata": {
    "slideshow": {
     "slide_type": "slide"
    }
   },
   "source": [
    "## 7.3 Dissimilarity measure \n",
    "- 유클리드 거리(Euclidean distance)\n",
    "    $$d_{ij}=\\sqrt{\\sum_k (x_{ik} - x_{jk})^2} $$\n",
    "    - 두 점 사이를 잇는 직선거리로 측정 \n",
    "    - 변수 들의 서로 다른 단위를 가진 경우가 많으므로 주로 표준화된 자료에 사용\n",
    "    - $l_2$-distance, MSE(RMSE) 계산의 기초\n",
    "    "
   ]
  },
  {
   "cell_type": "code",
   "execution_count": 1,
   "metadata": {
    "slideshow": {
     "slide_type": "skip"
    }
   },
   "outputs": [],
   "source": [
    "import pandas as pd\n",
    "import numpy as np\n",
    "import matplotlib.pyplot as plt\n",
    "import seaborn as sns\n",
    "from scipy.spatial.distance import pdist, squareform"
   ]
  },
  {
   "cell_type": "code",
   "execution_count": 2,
   "metadata": {
    "slideshow": {
     "slide_type": "slide"
    }
   },
   "outputs": [
    {
     "data": {
      "text/html": [
       "<div>\n",
       "<style scoped>\n",
       "    .dataframe tbody tr th:only-of-type {\n",
       "        vertical-align: middle;\n",
       "    }\n",
       "\n",
       "    .dataframe tbody tr th {\n",
       "        vertical-align: top;\n",
       "    }\n",
       "\n",
       "    .dataframe thead th {\n",
       "        text-align: right;\n",
       "    }\n",
       "</style>\n",
       "<table border=\"1\" class=\"dataframe\">\n",
       "  <thead>\n",
       "    <tr style=\"text-align: right;\">\n",
       "      <th></th>\n",
       "      <th>x1</th>\n",
       "      <th>x2</th>\n",
       "    </tr>\n",
       "  </thead>\n",
       "  <tbody>\n",
       "    <tr>\n",
       "      <th>0</th>\n",
       "      <td>1</td>\n",
       "      <td>1</td>\n",
       "    </tr>\n",
       "    <tr>\n",
       "      <th>1</th>\n",
       "      <td>2</td>\n",
       "      <td>4</td>\n",
       "    </tr>\n",
       "    <tr>\n",
       "      <th>2</th>\n",
       "      <td>3</td>\n",
       "      <td>2</td>\n",
       "    </tr>\n",
       "    <tr>\n",
       "      <th>3</th>\n",
       "      <td>5</td>\n",
       "      <td>3</td>\n",
       "    </tr>\n",
       "    <tr>\n",
       "      <th>4</th>\n",
       "      <td>0</td>\n",
       "      <td>2</td>\n",
       "    </tr>\n",
       "    <tr>\n",
       "      <th>5</th>\n",
       "      <td>2</td>\n",
       "      <td>5</td>\n",
       "    </tr>\n",
       "  </tbody>\n",
       "</table>\n",
       "</div>"
      ],
      "text/plain": [
       "   x1  x2\n",
       "0   1   1\n",
       "1   2   4\n",
       "2   3   2\n",
       "3   5   3\n",
       "4   0   2\n",
       "5   2   5"
      ]
     },
     "execution_count": 2,
     "metadata": {},
     "output_type": "execute_result"
    }
   ],
   "source": [
    "data = pd.DataFrame({\"x1\":[1,2,3,5,0,2], \"x2\":[1,4,2,3,2,5]})\n",
    "data"
   ]
  },
  {
   "cell_type": "code",
   "execution_count": 3,
   "metadata": {
    "scrolled": false,
    "slideshow": {
     "slide_type": "fragment"
    }
   },
   "outputs": [
    {
     "data": {
      "text/plain": [
       "array([[0.        , 3.16227766, 2.23606798, 4.47213595, 1.41421356,\n",
       "        4.12310563],\n",
       "       [3.16227766, 0.        , 2.23606798, 3.16227766, 2.82842712,\n",
       "        1.        ],\n",
       "       [2.23606798, 2.23606798, 0.        , 2.23606798, 3.        ,\n",
       "        3.16227766],\n",
       "       [4.47213595, 3.16227766, 2.23606798, 0.        , 5.09901951,\n",
       "        3.60555128],\n",
       "       [1.41421356, 2.82842712, 3.        , 5.09901951, 0.        ,\n",
       "        3.60555128],\n",
       "       [4.12310563, 1.        , 3.16227766, 3.60555128, 3.60555128,\n",
       "        0.        ]])"
      ]
     },
     "execution_count": 3,
     "metadata": {},
     "output_type": "execute_result"
    }
   ],
   "source": [
    "squareform(pdist(data, metric='euclidean'))"
   ]
  },
  {
   "cell_type": "code",
   "execution_count": 4,
   "metadata": {},
   "outputs": [
    {
     "data": {
      "text/html": [
       "<div>\n",
       "<style scoped>\n",
       "    .dataframe tbody tr th:only-of-type {\n",
       "        vertical-align: middle;\n",
       "    }\n",
       "\n",
       "    .dataframe tbody tr th {\n",
       "        vertical-align: top;\n",
       "    }\n",
       "\n",
       "    .dataframe thead th {\n",
       "        text-align: right;\n",
       "    }\n",
       "</style>\n",
       "<table border=\"1\" class=\"dataframe\">\n",
       "  <thead>\n",
       "    <tr style=\"text-align: right;\">\n",
       "      <th></th>\n",
       "      <th>0</th>\n",
       "      <th>1</th>\n",
       "      <th>2</th>\n",
       "      <th>3</th>\n",
       "      <th>4</th>\n",
       "      <th>5</th>\n",
       "    </tr>\n",
       "  </thead>\n",
       "  <tbody>\n",
       "    <tr>\n",
       "      <th>0</th>\n",
       "      <td>0.000000</td>\n",
       "      <td>3.162278</td>\n",
       "      <td>2.236068</td>\n",
       "      <td>4.472136</td>\n",
       "      <td>1.414214</td>\n",
       "      <td>4.123106</td>\n",
       "    </tr>\n",
       "    <tr>\n",
       "      <th>1</th>\n",
       "      <td>3.162278</td>\n",
       "      <td>0.000000</td>\n",
       "      <td>2.236068</td>\n",
       "      <td>3.162278</td>\n",
       "      <td>2.828427</td>\n",
       "      <td>1.000000</td>\n",
       "    </tr>\n",
       "    <tr>\n",
       "      <th>2</th>\n",
       "      <td>2.236068</td>\n",
       "      <td>2.236068</td>\n",
       "      <td>0.000000</td>\n",
       "      <td>2.236068</td>\n",
       "      <td>3.000000</td>\n",
       "      <td>3.162278</td>\n",
       "    </tr>\n",
       "    <tr>\n",
       "      <th>3</th>\n",
       "      <td>4.472136</td>\n",
       "      <td>3.162278</td>\n",
       "      <td>2.236068</td>\n",
       "      <td>0.000000</td>\n",
       "      <td>5.099020</td>\n",
       "      <td>3.605551</td>\n",
       "    </tr>\n",
       "    <tr>\n",
       "      <th>4</th>\n",
       "      <td>1.414214</td>\n",
       "      <td>2.828427</td>\n",
       "      <td>3.000000</td>\n",
       "      <td>5.099020</td>\n",
       "      <td>0.000000</td>\n",
       "      <td>3.605551</td>\n",
       "    </tr>\n",
       "    <tr>\n",
       "      <th>5</th>\n",
       "      <td>4.123106</td>\n",
       "      <td>1.000000</td>\n",
       "      <td>3.162278</td>\n",
       "      <td>3.605551</td>\n",
       "      <td>3.605551</td>\n",
       "      <td>0.000000</td>\n",
       "    </tr>\n",
       "  </tbody>\n",
       "</table>\n",
       "</div>"
      ],
      "text/plain": [
       "          0         1         2         3         4         5\n",
       "0  0.000000  3.162278  2.236068  4.472136  1.414214  4.123106\n",
       "1  3.162278  0.000000  2.236068  3.162278  2.828427  1.000000\n",
       "2  2.236068  2.236068  0.000000  2.236068  3.000000  3.162278\n",
       "3  4.472136  3.162278  2.236068  0.000000  5.099020  3.605551\n",
       "4  1.414214  2.828427  3.000000  5.099020  0.000000  3.605551\n",
       "5  4.123106  1.000000  3.162278  3.605551  3.605551  0.000000"
      ]
     },
     "execution_count": 4,
     "metadata": {},
     "output_type": "execute_result"
    }
   ],
   "source": [
    "pd.DataFrame(squareform(pdist(data, metric='euclidean')))"
   ]
  },
  {
   "cell_type": "code",
   "execution_count": 5,
   "metadata": {},
   "outputs": [
    {
     "data": {
      "text/plain": [
       "array([3.16227766, 2.23606798, 4.47213595, 1.41421356, 4.12310563,\n",
       "       2.23606798, 3.16227766, 2.82842712, 1.        , 2.23606798,\n",
       "       3.        , 3.16227766, 5.09901951, 3.60555128, 3.60555128])"
      ]
     },
     "execution_count": 5,
     "metadata": {},
     "output_type": "execute_result"
    }
   ],
   "source": [
    "pdist(data, metric='euclidean') # 대각선 위의 방향만 출력"
   ]
  },
  {
   "cell_type": "markdown",
   "metadata": {
    "slideshow": {
     "slide_type": "slide"
    }
   },
   "source": [
    "- 맨하탄 거리(Manhattan distance)\n",
    "    $$ d_{ij}=\\sum_k \\left|x_{ik} - x_{jk} \\right| $$\n",
    "    - 두 점 사이의 거리를 좌표값 차이의 절대값의 합으로 표현 \n",
    "    - $l_1$-distance, MAE 계산의 기초 "
   ]
  },
  {
   "cell_type": "code",
   "execution_count": 6,
   "metadata": {
    "scrolled": true,
    "slideshow": {
     "slide_type": "fragment"
    }
   },
   "outputs": [
    {
     "data": {
      "text/plain": [
       "array([[0., 4., 3., 6., 2., 5.],\n",
       "       [4., 0., 3., 4., 4., 1.],\n",
       "       [3., 3., 0., 3., 3., 4.],\n",
       "       [6., 4., 3., 0., 6., 5.],\n",
       "       [2., 4., 3., 6., 0., 5.],\n",
       "       [5., 1., 4., 5., 5., 0.]])"
      ]
     },
     "execution_count": 6,
     "metadata": {},
     "output_type": "execute_result"
    }
   ],
   "source": [
    "squareform(pdist(data, metric='cityblock'))"
   ]
  },
  {
   "cell_type": "code",
   "execution_count": 7,
   "metadata": {},
   "outputs": [
    {
     "data": {
      "text/html": [
       "<div>\n",
       "<style scoped>\n",
       "    .dataframe tbody tr th:only-of-type {\n",
       "        vertical-align: middle;\n",
       "    }\n",
       "\n",
       "    .dataframe tbody tr th {\n",
       "        vertical-align: top;\n",
       "    }\n",
       "\n",
       "    .dataframe thead th {\n",
       "        text-align: right;\n",
       "    }\n",
       "</style>\n",
       "<table border=\"1\" class=\"dataframe\">\n",
       "  <thead>\n",
       "    <tr style=\"text-align: right;\">\n",
       "      <th></th>\n",
       "      <th>0</th>\n",
       "      <th>1</th>\n",
       "      <th>2</th>\n",
       "      <th>3</th>\n",
       "      <th>4</th>\n",
       "      <th>5</th>\n",
       "    </tr>\n",
       "  </thead>\n",
       "  <tbody>\n",
       "    <tr>\n",
       "      <th>0</th>\n",
       "      <td>0.0</td>\n",
       "      <td>4.0</td>\n",
       "      <td>3.0</td>\n",
       "      <td>6.0</td>\n",
       "      <td>2.0</td>\n",
       "      <td>5.0</td>\n",
       "    </tr>\n",
       "    <tr>\n",
       "      <th>1</th>\n",
       "      <td>4.0</td>\n",
       "      <td>0.0</td>\n",
       "      <td>3.0</td>\n",
       "      <td>4.0</td>\n",
       "      <td>4.0</td>\n",
       "      <td>1.0</td>\n",
       "    </tr>\n",
       "    <tr>\n",
       "      <th>2</th>\n",
       "      <td>3.0</td>\n",
       "      <td>3.0</td>\n",
       "      <td>0.0</td>\n",
       "      <td>3.0</td>\n",
       "      <td>3.0</td>\n",
       "      <td>4.0</td>\n",
       "    </tr>\n",
       "    <tr>\n",
       "      <th>3</th>\n",
       "      <td>6.0</td>\n",
       "      <td>4.0</td>\n",
       "      <td>3.0</td>\n",
       "      <td>0.0</td>\n",
       "      <td>6.0</td>\n",
       "      <td>5.0</td>\n",
       "    </tr>\n",
       "    <tr>\n",
       "      <th>4</th>\n",
       "      <td>2.0</td>\n",
       "      <td>4.0</td>\n",
       "      <td>3.0</td>\n",
       "      <td>6.0</td>\n",
       "      <td>0.0</td>\n",
       "      <td>5.0</td>\n",
       "    </tr>\n",
       "    <tr>\n",
       "      <th>5</th>\n",
       "      <td>5.0</td>\n",
       "      <td>1.0</td>\n",
       "      <td>4.0</td>\n",
       "      <td>5.0</td>\n",
       "      <td>5.0</td>\n",
       "      <td>0.0</td>\n",
       "    </tr>\n",
       "  </tbody>\n",
       "</table>\n",
       "</div>"
      ],
      "text/plain": [
       "     0    1    2    3    4    5\n",
       "0  0.0  4.0  3.0  6.0  2.0  5.0\n",
       "1  4.0  0.0  3.0  4.0  4.0  1.0\n",
       "2  3.0  3.0  0.0  3.0  3.0  4.0\n",
       "3  6.0  4.0  3.0  0.0  6.0  5.0\n",
       "4  2.0  4.0  3.0  6.0  0.0  5.0\n",
       "5  5.0  1.0  4.0  5.0  5.0  0.0"
      ]
     },
     "execution_count": 7,
     "metadata": {},
     "output_type": "execute_result"
    }
   ],
   "source": [
    "pd.DataFrame(squareform(pdist(data, metric='cityblock')))"
   ]
  },
  {
   "cell_type": "markdown",
   "metadata": {
    "slideshow": {
     "slide_type": "slide"
    }
   },
   "source": [
    "- 마할라노비스 거리 (Mahalanobis Distance)\n",
    "    $$D_{ij} = (\\mathbf x_i - \\mathbf x_j)' \\Sigma^{-1} (\\mathbf x_i - \\mathbf x_j) $$\n",
    "    - 확률 분포(공분산 행렬)를 고려한 거리 \n",
    "    - 유클리드 거리 측도에 의하면 B가 A에 비해 원점에 가깝지만 마할라노비스 거리 측도에 의하면 거리가 같음 \n",
    "    - Rotation과 Scale에 의해 자료를 변환하여 공분산행렬을 I로 만드는 효과"
   ]
  },
  {
   "cell_type": "code",
   "execution_count": 8,
   "metadata": {
    "slideshow": {
     "slide_type": "fragment"
    }
   },
   "outputs": [
    {
     "data": {
      "text/plain": [
       "array([[0.        , 2.03943424, 1.22880257, 2.45760514, 1.03050808,\n",
       "        2.71935866],\n",
       "       [2.03943424, 0.        , 1.65797883, 2.08767983, 1.60198991,\n",
       "        0.70161003],\n",
       "       [1.22880257, 1.65797883, 0.        , 1.22880257, 1.79878277,\n",
       "        2.32816537],\n",
       "       [2.45760514, 2.08767983, 1.22880257, 0.        , 2.90330907,\n",
       "        2.54277564],\n",
       "       [1.03050808, 1.60198991, 1.79878277, 2.90330907, 0.        ,\n",
       "        2.14646241],\n",
       "       [2.71935866, 0.70161003, 2.32816537, 2.54277564, 2.14646241,\n",
       "        0.        ]])"
      ]
     },
     "execution_count": 8,
     "metadata": {},
     "output_type": "execute_result"
    }
   ],
   "source": [
    "squareform(pdist(data, metric='mahalanobis'))"
   ]
  },
  {
   "cell_type": "code",
   "execution_count": 9,
   "metadata": {},
   "outputs": [
    {
     "data": {
      "text/html": [
       "<div>\n",
       "<style scoped>\n",
       "    .dataframe tbody tr th:only-of-type {\n",
       "        vertical-align: middle;\n",
       "    }\n",
       "\n",
       "    .dataframe tbody tr th {\n",
       "        vertical-align: top;\n",
       "    }\n",
       "\n",
       "    .dataframe thead th {\n",
       "        text-align: right;\n",
       "    }\n",
       "</style>\n",
       "<table border=\"1\" class=\"dataframe\">\n",
       "  <thead>\n",
       "    <tr style=\"text-align: right;\">\n",
       "      <th></th>\n",
       "      <th>0</th>\n",
       "      <th>1</th>\n",
       "      <th>2</th>\n",
       "      <th>3</th>\n",
       "      <th>4</th>\n",
       "      <th>5</th>\n",
       "    </tr>\n",
       "  </thead>\n",
       "  <tbody>\n",
       "    <tr>\n",
       "      <th>0</th>\n",
       "      <td>0.000000</td>\n",
       "      <td>2.039434</td>\n",
       "      <td>1.228803</td>\n",
       "      <td>2.457605</td>\n",
       "      <td>1.030508</td>\n",
       "      <td>2.719359</td>\n",
       "    </tr>\n",
       "    <tr>\n",
       "      <th>1</th>\n",
       "      <td>2.039434</td>\n",
       "      <td>0.000000</td>\n",
       "      <td>1.657979</td>\n",
       "      <td>2.087680</td>\n",
       "      <td>1.601990</td>\n",
       "      <td>0.701610</td>\n",
       "    </tr>\n",
       "    <tr>\n",
       "      <th>2</th>\n",
       "      <td>1.228803</td>\n",
       "      <td>1.657979</td>\n",
       "      <td>0.000000</td>\n",
       "      <td>1.228803</td>\n",
       "      <td>1.798783</td>\n",
       "      <td>2.328165</td>\n",
       "    </tr>\n",
       "    <tr>\n",
       "      <th>3</th>\n",
       "      <td>2.457605</td>\n",
       "      <td>2.087680</td>\n",
       "      <td>1.228803</td>\n",
       "      <td>0.000000</td>\n",
       "      <td>2.903309</td>\n",
       "      <td>2.542776</td>\n",
       "    </tr>\n",
       "    <tr>\n",
       "      <th>4</th>\n",
       "      <td>1.030508</td>\n",
       "      <td>1.601990</td>\n",
       "      <td>1.798783</td>\n",
       "      <td>2.903309</td>\n",
       "      <td>0.000000</td>\n",
       "      <td>2.146462</td>\n",
       "    </tr>\n",
       "    <tr>\n",
       "      <th>5</th>\n",
       "      <td>2.719359</td>\n",
       "      <td>0.701610</td>\n",
       "      <td>2.328165</td>\n",
       "      <td>2.542776</td>\n",
       "      <td>2.146462</td>\n",
       "      <td>0.000000</td>\n",
       "    </tr>\n",
       "  </tbody>\n",
       "</table>\n",
       "</div>"
      ],
      "text/plain": [
       "          0         1         2         3         4         5\n",
       "0  0.000000  2.039434  1.228803  2.457605  1.030508  2.719359\n",
       "1  2.039434  0.000000  1.657979  2.087680  1.601990  0.701610\n",
       "2  1.228803  1.657979  0.000000  1.228803  1.798783  2.328165\n",
       "3  2.457605  2.087680  1.228803  0.000000  2.903309  2.542776\n",
       "4  1.030508  1.601990  1.798783  2.903309  0.000000  2.146462\n",
       "5  2.719359  0.701610  2.328165  2.542776  2.146462  0.000000"
      ]
     },
     "execution_count": 9,
     "metadata": {},
     "output_type": "execute_result"
    }
   ],
   "source": [
    "pd.DataFrame(squareform(pdist(data, metric='mahalanobis')))"
   ]
  },
  {
   "cell_type": "markdown",
   "metadata": {
    "slideshow": {
     "slide_type": "slide"
    }
   },
   "source": [
    "## 7.4 Hierarchical clustering\n",
    "- 관측치 간의 유사성을 계산해 가까운 개체들을 군집화\n",
    "- 한번 한 군집에 소속되면 이동 불가능  \n",
    "- 덴드로그램(Dendrogram)을 사용해 군집형성 과정 파악 가능\n",
    "- 알고리즘\n",
    "    - step 0. 각 관측치가 하나의 군집을 형성하는 상태에서 시작($C_1, \\ldots, C_n;$ n개의 군집) \n",
    "    \n",
    "    두 군집 사이의 거리 계산 $d_{C_i, C_j}=d_{ij}$\n",
    "    - step 1. 가장 거리가 가까운 두 군집을 찾아 합쳐 새로운 군집 생성\n",
    "    - step 2. 새 군집과 기존 군집들 간의 거리 계산 \n",
    "    - step 3. 하나의 군집이 남을 때 까지 step 1 & 2 반복\n",
    "- 군집 간의 거리를 정의하는 방법에 따라 Single/Complete/Average linkage로 구분"
   ]
  },
  {
   "cell_type": "markdown",
   "metadata": {
    "slideshow": {
     "slide_type": "slide"
    }
   },
   "source": [
    "### 7.4.1 Single linkage method\n",
    "- 군집i에 속한 관측치와 군집j에 속한 관측치들의 모든 조합 간의 거리 중 **가장 짧은 거리**를 군집i와 군집j의 거리로 정의\n",
    "- 계산이 효율적\n",
    "- 근시안적: 길다란 형태의 군집 형성 가능"
   ]
  },
  {
   "cell_type": "code",
   "execution_count": 10,
   "metadata": {
    "slideshow": {
     "slide_type": "slide"
    }
   },
   "outputs": [
    {
     "data": {
      "image/png": "[encoded data removed]",
      "text/plain": [
       "<Figure size 432x288 with 1 Axes>"
      ]
     },
     "metadata": {
      "needs_background": "light"
     },
     "output_type": "display_data"
    }
   ],
   "source": [
    "from sklearn.cluster import AgglomerativeClustering\n",
    "from scipy.cluster.hierarchy import dendrogram, linkage, cut_tree\n",
    "\n",
    "clust_single = linkage(data, method='single')\n",
    "\n",
    "dendrogram(clust_single)\n",
    "plt.show()"
   ]
  },
  {
   "cell_type": "code",
   "execution_count": 11,
   "metadata": {
    "slideshow": {
     "slide_type": "fragment"
    }
   },
   "outputs": [
    {
     "data": {
      "text/plain": [
       "array([[0.  , 3.16, 2.24, 4.47, 1.41, 4.12],\n",
       "       [3.16, 0.  , 2.24, 3.16, 2.83, 1.  ],\n",
       "       [2.24, 2.24, 0.  , 2.24, 3.  , 3.16],\n",
       "       [4.47, 3.16, 2.24, 0.  , 5.1 , 3.61],\n",
       "       [1.41, 2.83, 3.  , 5.1 , 0.  , 3.61],\n",
       "       [4.12, 1.  , 3.16, 3.61, 3.61, 0.  ]])"
      ]
     },
     "execution_count": 11,
     "metadata": {},
     "output_type": "execute_result"
    }
   ],
   "source": [
    "np.round(squareform(pdist(data, metric='euclidean')),2)"
   ]
  },
  {
   "cell_type": "markdown",
   "metadata": {
    "slideshow": {
     "slide_type": "slide"
    }
   },
   "source": [
    "### 7.4.2 Complete linkage method\n",
    "- 군집i에 속한 관측치와 군집j에 속한 관측치들의 모든 조합 간의 거리 중 **가장 긴 거리**를 군집i와 군집j의 거리로 정의\n",
    "- 군집과 군집을 합할 때 군집의 모든 개체가 서로 가깝게 됨\n",
    "- Single linkage에 비해 convex한 군집 형성\n",
    "- 이상치에 민감"
   ]
  },
  {
   "cell_type": "code",
   "execution_count": 12,
   "metadata": {
    "slideshow": {
     "slide_type": "fragment"
    }
   },
   "outputs": [
    {
     "data": {
      "image/png": "[encoded data removed]",
      "text/plain": [
       "<Figure size 432x288 with 1 Axes>"
      ]
     },
     "metadata": {
      "needs_background": "light"
     },
     "output_type": "display_data"
    }
   ],
   "source": [
    "clust_complete = linkage(data, method='complete')\n",
    "\n",
    "dendrogram(clust_complete)\n",
    "plt.show()"
   ]
  },
  {
   "cell_type": "markdown",
   "metadata": {
    "slideshow": {
     "slide_type": "slide"
    }
   },
   "source": [
    "### 7.4.3 Average linkage method\n",
    "- 군집i에 속한 관측치와 군집j에 속한 관측치들의 모든 조합 간의 거리 **평균**을  군집i와 군집j의 거리로 정의"
   ]
  },
  {
   "cell_type": "code",
   "execution_count": 13,
   "metadata": {
    "slideshow": {
     "slide_type": "fragment"
    }
   },
   "outputs": [
    {
     "data": {
      "image/png": "[encoded data removed]",
      "text/plain": [
       "<Figure size 432x288 with 1 Axes>"
      ]
     },
     "metadata": {
      "needs_background": "light"
     },
     "output_type": "display_data"
    }
   ],
   "source": [
    "clust_avg = linkage(data, method='average')\n",
    "\n",
    "dendrogram(clust_avg)\n",
    "plt.show()"
   ]
  },
  {
   "cell_type": "markdown",
   "metadata": {
    "slideshow": {
     "slide_type": "slide"
    }
   },
   "source": [
    "### 7.4.4 Ward's method\n",
    "- 매 단계에서 군집 간 정보의 손실을 최소화 하도록 군집\n",
    "    - Minimum variance method\n",
    "    - 클러스터 C의 군집내거리(within-cluster distance)를 최소화 하도록 군집\n",
    "    $$ESS_C = \\sum_j (x_{C_j} - \\bar x_C)'(x_{C_j} - \\bar x_C)$$\n",
    "    \n",
    "- 비슷한 크기의 군집을 생성하는 경향\n",
    "- 비계층적 군집화 방법과 비슷한 결과를 생성하는 경향"
   ]
  },
  {
   "cell_type": "code",
   "execution_count": 14,
   "metadata": {
    "slideshow": {
     "slide_type": "fragment"
    }
   },
   "outputs": [
    {
     "data": {
      "image/png": "[encoded data removed]",
      "text/plain": [
       "<Figure size 432x288 with 1 Axes>"
      ]
     },
     "metadata": {
      "needs_background": "light"
     },
     "output_type": "display_data"
    }
   ],
   "source": [
    "clust_ward = linkage(data, method='ward')\n",
    "\n",
    "dendrogram(clust_ward)\n",
    "plt.show()"
   ]
  },
  {
   "cell_type": "markdown",
   "metadata": {
    "slideshow": {
     "slide_type": "slide"
    }
   },
   "source": [
    "### 7.4.5 Number of clusters\n",
    "- 군집 개수의 결정 \n",
    "    - 덴드로그램을 어디서 자를 것인가? \n",
    "    - 데이터에 최적인 특정한 그룹의 개수를 어떻게 정할 것인가?\n",
    "    - 명확한 정답이 없음 \n",
    "    - 탐색적으로 사용 \n",
    "\n",
    "- Rule of Thumb\n",
    "    - 덴드로그램 높이 변화의 크기를 조사하여 큰 변화가 있는 곳에서 자름\n",
    "        - 군집 간의 거리 차이에 큰 변화를 보이는 경우를 고려해 군집 개수 결정\n",
    "    - ESS의 증가가 급격한 위치에서 군집의 개수 결정\n",
    "    - 적절한 군집의 개수가 알려져 있을 경우 해당 군집 개수를 얻는 위치에서 자름\n",
    "\n",
    "- `cut_tree` 함수 사용하여 군집분석의 해 얻음"
   ]
  },
  {
   "cell_type": "code",
   "execution_count": 15,
   "metadata": {
    "slideshow": {
     "slide_type": "fragment"
    }
   },
   "outputs": [
    {
     "data": {
      "text/plain": [
       "array([[0],\n",
       "       [1],\n",
       "       [2],\n",
       "       [2],\n",
       "       [0],\n",
       "       [1]])"
      ]
     },
     "execution_count": 15,
     "metadata": {},
     "output_type": "execute_result"
    }
   ],
   "source": [
    "cut_tree(clust_ward, 3)"
   ]
  },
  {
   "cell_type": "markdown",
   "metadata": {
    "lines_to_next_cell": 0,
    "slideshow": {
     "slide_type": "slide"
    }
   },
   "source": [
    "### Example: USArrests\n",
    "- 미국 50개 주의 인구 10만명 당 범죄 발생 건수(Murder, Assault, Rape)와 도심 지역의 거주 비율(UrbanPop)을 기록\n",
    "- 변수 간의 단위가 다르기 때문에 scale후 군집 진행"
   ]
  },
  {
   "cell_type": "code",
   "execution_count": 16,
   "metadata": {
    "slideshow": {
     "slide_type": "fragment"
    }
   },
   "outputs": [
    {
     "data": {
      "text/html": [
       "<div>\n",
       "<style scoped>\n",
       "    .dataframe tbody tr th:only-of-type {\n",
       "        vertical-align: middle;\n",
       "    }\n",
       "\n",
       "    .dataframe tbody tr th {\n",
       "        vertical-align: top;\n",
       "    }\n",
       "\n",
       "    .dataframe thead th {\n",
       "        text-align: right;\n",
       "    }\n",
       "</style>\n",
       "<table border=\"1\" class=\"dataframe\">\n",
       "  <thead>\n",
       "    <tr style=\"text-align: right;\">\n",
       "      <th></th>\n",
       "      <th>Murder</th>\n",
       "      <th>Assault</th>\n",
       "      <th>UrbanPop</th>\n",
       "      <th>Rape</th>\n",
       "    </tr>\n",
       "  </thead>\n",
       "  <tbody>\n",
       "    <tr>\n",
       "      <th>Alabama</th>\n",
       "      <td>13.2</td>\n",
       "      <td>236</td>\n",
       "      <td>58</td>\n",
       "      <td>21.2</td>\n",
       "    </tr>\n",
       "    <tr>\n",
       "      <th>Alaska</th>\n",
       "      <td>10.0</td>\n",
       "      <td>263</td>\n",
       "      <td>48</td>\n",
       "      <td>44.5</td>\n",
       "    </tr>\n",
       "    <tr>\n",
       "      <th>Arizona</th>\n",
       "      <td>8.1</td>\n",
       "      <td>294</td>\n",
       "      <td>80</td>\n",
       "      <td>31.0</td>\n",
       "    </tr>\n",
       "    <tr>\n",
       "      <th>Arkansas</th>\n",
       "      <td>8.8</td>\n",
       "      <td>190</td>\n",
       "      <td>50</td>\n",
       "      <td>19.5</td>\n",
       "    </tr>\n",
       "    <tr>\n",
       "      <th>California</th>\n",
       "      <td>9.0</td>\n",
       "      <td>276</td>\n",
       "      <td>91</td>\n",
       "      <td>40.6</td>\n",
       "    </tr>\n",
       "  </tbody>\n",
       "</table>\n",
       "</div>"
      ],
      "text/plain": [
       "            Murder  Assault  UrbanPop  Rape\n",
       "Alabama       13.2      236        58  21.2\n",
       "Alaska        10.0      263        48  44.5\n",
       "Arizona        8.1      294        80  31.0\n",
       "Arkansas       8.8      190        50  19.5\n",
       "California     9.0      276        91  40.6"
      ]
     },
     "execution_count": 16,
     "metadata": {},
     "output_type": "execute_result"
    }
   ],
   "source": [
    "data_path = \"../data/\"\n",
    "usarrests = pd.read_csv(data_path + \"USArrests.csv\", index_col=0)\n",
    "\n",
    "usarrests.head()"
   ]
  },
  {
   "cell_type": "code",
   "execution_count": 17,
   "metadata": {
    "slideshow": {
     "slide_type": "slide"
    }
   },
   "outputs": [
    {
     "data": {
      "text/html": [
       "<div>\n",
       "<style scoped>\n",
       "    .dataframe tbody tr th:only-of-type {\n",
       "        vertical-align: middle;\n",
       "    }\n",
       "\n",
       "    .dataframe tbody tr th {\n",
       "        vertical-align: top;\n",
       "    }\n",
       "\n",
       "    .dataframe thead th {\n",
       "        text-align: right;\n",
       "    }\n",
       "</style>\n",
       "<table border=\"1\" class=\"dataframe\">\n",
       "  <thead>\n",
       "    <tr style=\"text-align: right;\">\n",
       "      <th></th>\n",
       "      <th>Murder</th>\n",
       "      <th>Assault</th>\n",
       "      <th>UrbanPop</th>\n",
       "      <th>Rape</th>\n",
       "    </tr>\n",
       "  </thead>\n",
       "  <tbody>\n",
       "    <tr>\n",
       "      <th>count</th>\n",
       "      <td>50.00000</td>\n",
       "      <td>50.000000</td>\n",
       "      <td>50.000000</td>\n",
       "      <td>50.000000</td>\n",
       "    </tr>\n",
       "    <tr>\n",
       "      <th>mean</th>\n",
       "      <td>7.78800</td>\n",
       "      <td>170.760000</td>\n",
       "      <td>65.540000</td>\n",
       "      <td>21.232000</td>\n",
       "    </tr>\n",
       "    <tr>\n",
       "      <th>std</th>\n",
       "      <td>4.35551</td>\n",
       "      <td>83.337661</td>\n",
       "      <td>14.474763</td>\n",
       "      <td>9.366385</td>\n",
       "    </tr>\n",
       "    <tr>\n",
       "      <th>min</th>\n",
       "      <td>0.80000</td>\n",
       "      <td>45.000000</td>\n",
       "      <td>32.000000</td>\n",
       "      <td>7.300000</td>\n",
       "    </tr>\n",
       "    <tr>\n",
       "      <th>25%</th>\n",
       "      <td>4.07500</td>\n",
       "      <td>109.000000</td>\n",
       "      <td>54.500000</td>\n",
       "      <td>15.075000</td>\n",
       "    </tr>\n",
       "    <tr>\n",
       "      <th>50%</th>\n",
       "      <td>7.25000</td>\n",
       "      <td>159.000000</td>\n",
       "      <td>66.000000</td>\n",
       "      <td>20.100000</td>\n",
       "    </tr>\n",
       "    <tr>\n",
       "      <th>75%</th>\n",
       "      <td>11.25000</td>\n",
       "      <td>249.000000</td>\n",
       "      <td>77.750000</td>\n",
       "      <td>26.175000</td>\n",
       "    </tr>\n",
       "    <tr>\n",
       "      <th>max</th>\n",
       "      <td>17.40000</td>\n",
       "      <td>337.000000</td>\n",
       "      <td>91.000000</td>\n",
       "      <td>46.000000</td>\n",
       "    </tr>\n",
       "  </tbody>\n",
       "</table>\n",
       "</div>"
      ],
      "text/plain": [
       "         Murder     Assault   UrbanPop       Rape\n",
       "count  50.00000   50.000000  50.000000  50.000000\n",
       "mean    7.78800  170.760000  65.540000  21.232000\n",
       "std     4.35551   83.337661  14.474763   9.366385\n",
       "min     0.80000   45.000000  32.000000   7.300000\n",
       "25%     4.07500  109.000000  54.500000  15.075000\n",
       "50%     7.25000  159.000000  66.000000  20.100000\n",
       "75%    11.25000  249.000000  77.750000  26.175000\n",
       "max    17.40000  337.000000  91.000000  46.000000"
      ]
     },
     "execution_count": 17,
     "metadata": {},
     "output_type": "execute_result"
    }
   ],
   "source": [
    "usarrests.describe()"
   ]
  },
  {
   "cell_type": "code",
   "execution_count": 18,
   "metadata": {
    "slideshow": {
     "slide_type": "slide"
    }
   },
   "outputs": [],
   "source": [
    "from sklearn.preprocessing import StandardScaler\n",
    "\n",
    "usarrests_s = StandardScaler().fit_transform(usarrests)\n",
    "usarrests_s = pd.DataFrame(usarrests_s, columns=usarrests.columns, index=usarrests.index)"
   ]
  },
  {
   "cell_type": "code",
   "execution_count": 19,
   "metadata": {
    "slideshow": {
     "slide_type": "fragment"
    }
   },
   "outputs": [
    {
     "data": {
      "image/png": "[encoded data removed]",
      "text/plain": [
       "<Figure size 864x432 with 1 Axes>"
      ]
     },
     "metadata": {
      "needs_background": "light"
     },
     "output_type": "display_data"
    }
   ],
   "source": [
    "hc_single = linkage(usarrests_s, method=\"single\")\n",
    "\n",
    "plt.figure(figsize = (12,6))\n",
    "dendrogram(hc_single)\n",
    "plt.show()"
   ]
  },
  {
   "cell_type": "code",
   "execution_count": 20,
   "metadata": {
    "scrolled": false,
    "slideshow": {
     "slide_type": "slide"
    }
   },
   "outputs": [
    {
     "data": {
      "image/png": "[encoded data removed]",
      "text/plain": [
       "<Figure size 864x432 with 1 Axes>"
      ]
     },
     "metadata": {
      "needs_background": "light"
     },
     "output_type": "display_data"
    }
   ],
   "source": [
    "hc_ward = linkage(usarrests_s, method=\"ward\")\n",
    "\n",
    "plt.figure(figsize = (12,6))\n",
    "dendrogram(hc_ward)\n",
    "plt.show()"
   ]
  },
  {
   "cell_type": "markdown",
   "metadata": {
    "lines_to_next_cell": 0,
    "slideshow": {
     "slide_type": "slide"
    }
   },
   "source": [
    "- 군집의 개수가 4개가 되도록 dendrogram을 잘라 cluster 할당 "
   ]
  },
  {
   "cell_type": "code",
   "execution_count": 21,
   "metadata": {
    "slideshow": {
     "slide_type": "fragment"
    }
   },
   "outputs": [
    {
     "data": {
      "text/html": [
       "<div>\n",
       "<style scoped>\n",
       "    .dataframe tbody tr th:only-of-type {\n",
       "        vertical-align: middle;\n",
       "    }\n",
       "\n",
       "    .dataframe tbody tr th {\n",
       "        vertical-align: top;\n",
       "    }\n",
       "\n",
       "    .dataframe thead th {\n",
       "        text-align: right;\n",
       "    }\n",
       "</style>\n",
       "<table border=\"1\" class=\"dataframe\">\n",
       "  <thead>\n",
       "    <tr style=\"text-align: right;\">\n",
       "      <th></th>\n",
       "      <th>Murder</th>\n",
       "      <th>Assault</th>\n",
       "      <th>UrbanPop</th>\n",
       "      <th>Rape</th>\n",
       "      <th>cluster</th>\n",
       "    </tr>\n",
       "  </thead>\n",
       "  <tbody>\n",
       "    <tr>\n",
       "      <th>Alabama</th>\n",
       "      <td>13.2</td>\n",
       "      <td>236</td>\n",
       "      <td>58</td>\n",
       "      <td>21.2</td>\n",
       "      <td>0</td>\n",
       "    </tr>\n",
       "    <tr>\n",
       "      <th>Alaska</th>\n",
       "      <td>10.0</td>\n",
       "      <td>263</td>\n",
       "      <td>48</td>\n",
       "      <td>44.5</td>\n",
       "      <td>1</td>\n",
       "    </tr>\n",
       "    <tr>\n",
       "      <th>Arizona</th>\n",
       "      <td>8.1</td>\n",
       "      <td>294</td>\n",
       "      <td>80</td>\n",
       "      <td>31.0</td>\n",
       "      <td>1</td>\n",
       "    </tr>\n",
       "    <tr>\n",
       "      <th>Arkansas</th>\n",
       "      <td>8.8</td>\n",
       "      <td>190</td>\n",
       "      <td>50</td>\n",
       "      <td>19.5</td>\n",
       "      <td>2</td>\n",
       "    </tr>\n",
       "    <tr>\n",
       "      <th>California</th>\n",
       "      <td>9.0</td>\n",
       "      <td>276</td>\n",
       "      <td>91</td>\n",
       "      <td>40.6</td>\n",
       "      <td>1</td>\n",
       "    </tr>\n",
       "  </tbody>\n",
       "</table>\n",
       "</div>"
      ],
      "text/plain": [
       "            Murder  Assault  UrbanPop  Rape cluster\n",
       "Alabama       13.2      236        58  21.2       0\n",
       "Alaska        10.0      263        48  44.5       1\n",
       "Arizona        8.1      294        80  31.0       1\n",
       "Arkansas       8.8      190        50  19.5       2\n",
       "California     9.0      276        91  40.6       1"
      ]
     },
     "execution_count": 21,
     "metadata": {},
     "output_type": "execute_result"
    }
   ],
   "source": [
    "cluster = cut_tree(hc_ward, 4)\n",
    "usarrests['cluster'] = cluster\n",
    "usarrests.cluster = usarrests.cluster.astype('category')\n",
    "usarrests.head()"
   ]
  },
  {
   "cell_type": "code",
   "execution_count": 22,
   "metadata": {},
   "outputs": [
    {
     "data": {
      "text/plain": [
       "2    19\n",
       "1    12\n",
       "3    12\n",
       "0     7\n",
       "Name: cluster, dtype: int64"
      ]
     },
     "execution_count": 22,
     "metadata": {},
     "output_type": "execute_result"
    }
   ],
   "source": [
    "usarrests.cluster.value_counts()"
   ]
  },
  {
   "cell_type": "markdown",
   "metadata": {
    "lines_to_next_cell": 0,
    "slideshow": {
     "slide_type": "slide"
    }
   },
   "source": [
    "- 변수 간의 scatterplot으로 군집 특성 파악"
   ]
  },
  {
   "cell_type": "code",
   "execution_count": 23,
   "metadata": {
    "scrolled": false,
    "slideshow": {
     "slide_type": "fragment"
    }
   },
   "outputs": [
    {
     "data": {
      "image/png": "[encoded data removed]",
      "text/plain": [
       "<Figure size 720x432 with 1 Axes>"
      ]
     },
     "metadata": {
      "needs_background": "light"
     },
     "output_type": "display_data"
    }
   ],
   "source": [
    "plt.figure(figsize=(10,6))\n",
    "sns.scatterplot(x=\"Murder\", y=\"Rape\", hue=\"cluster\", style=\"cluster\", data=usarrests)\n",
    "for i in range(usarrests.shape[0]):\n",
    "    plt.text(x=usarrests.Murder[i]+0.3, \n",
    "            y=usarrests.Rape[i]+0.3,\n",
    "            s=usarrests.index[i],\n",
    "            color=sns.color_palette()[usarrests.cluster[i]])\n",
    "plt.show()"
   ]
  },
  {
   "cell_type": "markdown",
   "metadata": {
    "lines_to_next_cell": 0,
    "slideshow": {
     "slide_type": "slide"
    }
   },
   "source": [
    "- 각 군집의 변수 값의 평균을 비교하여 군집의 특성 파악"
   ]
  },
  {
   "cell_type": "code",
   "execution_count": 24,
   "metadata": {
    "slideshow": {
     "slide_type": "fragment"
    }
   },
   "outputs": [
    {
     "data": {
      "image/png": "[encoded data removed]",
      "text/plain": [
       "<Figure size 432x288 with 1 Axes>"
      ]
     },
     "metadata": {
      "needs_background": "light"
     },
     "output_type": "display_data"
    }
   ],
   "source": [
    "usarrests.groupby('cluster').mean().plot.bar()\n",
    "plt.show()"
   ]
  },
  {
   "cell_type": "markdown",
   "metadata": {
    "lines_to_next_cell": 0,
    "slideshow": {
     "slide_type": "slide"
    }
   },
   "source": [
    "## 7.5 Non-hierarchical clustering\n",
    "### 7.5.1 K-means Clustering\n",
    "- Non-hierarchical clustering의 대표적인 방법\n",
    "- 군집의 개수를 미리 설정 (k개)\n",
    "- 알고리즘\n",
    "    - Step 1. 관측치를 Initial Partition k개로 나누고 각 군집의 중심인 seed 계산\n",
    "    - Step 2. 각 관측치로부터 각 seed사이의 거리 계산 (n*k개)하여 가장 가까운 seed에 할당\n",
    "    - Step 3. 군집의 seed를 군집에 속한 관측치의 평균(중심)으로 업데이트\n",
    "더이상 개체의 군집 이동이 없을 때 까지 반복\n",
    " <img src='http://drive.google.com/uc?export=view&id=1Sm_EQ4yvDzdqu34fxIysHSFJUSzZbdbq' /><br>"
   ]
  },
  {
   "cell_type": "markdown",
   "metadata": {
    "lines_to_next_cell": 0,
    "slideshow": {
     "slide_type": "slide"
    }
   },
   "source": [
    "- 데이터에 대해 spherical 구조를 강요 \n",
    "- Initial partition(seed)에 따라 다른 군집결과가 나올 수 있음$\\Rightarrow$ Random seed를 사용해 여러 번 반복하여 최적의 군집을 찾는 방법이 주로 사용됨"
   ]
  },
  {
   "cell_type": "markdown",
   "metadata": {
    "lines_to_next_cell": 0,
    "slideshow": {
     "slide_type": "slide"
    }
   },
   "source": [
    "### Example: USArrests – K-means Clustering\n",
    "- nstart=5: random initial partition에서 시작하여 군집화 하는 과정을 5번 반복하여 within-group sum-of-square가 최소가 되는 결과를 출력 \n",
    "- centers: 수렴된 최종 군집 결과에 따른 군집 중심\n",
    "- cluster: 각 관측치에 할당된 군집 \n",
    "- withinss: 각 군집의 within-group sum-of-square값"
   ]
  },
  {
   "cell_type": "code",
   "execution_count": 25,
   "metadata": {
    "slideshow": {
     "slide_type": "slide"
    }
   },
   "outputs": [
    {
     "data": {
      "text/plain": [
       "1    16\n",
       "2    13\n",
       "3    13\n",
       "0     8\n",
       "Name: cluster_km, dtype: int64"
      ]
     },
     "execution_count": 25,
     "metadata": {},
     "output_type": "execute_result"
    }
   ],
   "source": [
    "from sklearn.cluster import KMeans\n",
    "km = KMeans(n_clusters=4).fit(usarrests_s)\n",
    "\n",
    "usarrests_s['cluster_km']=km.labels_\n",
    "usarrests_s['cluster_km']=usarrests_s['cluster_km'].astype('category')\n",
    "\n",
    "usarrests_s.cluster_km.value_counts()"
   ]
  },
  {
   "cell_type": "code",
   "execution_count": 26,
   "metadata": {},
   "outputs": [
    {
     "data": {
      "text/plain": [
       "array([0, 3, 3, 0, 3, 3, 1, 1, 3, 0, 1, 2, 3, 1, 2, 1, 2, 0, 2, 3, 1, 3,\n",
       "       2, 0, 3, 2, 2, 3, 2, 1, 3, 3, 0, 2, 1, 1, 1, 1, 1, 0, 2, 0, 3, 1,\n",
       "       2, 1, 1, 2, 2, 1])"
      ]
     },
     "execution_count": 26,
     "metadata": {},
     "output_type": "execute_result"
    }
   ],
   "source": [
    "km.labels_"
   ]
  },
  {
   "cell_type": "code",
   "execution_count": 27,
   "metadata": {
    "slideshow": {
     "slide_type": "slide"
    }
   },
   "outputs": [
    {
     "data": {
      "text/plain": [
       "array([[ 1.42622412,  0.88321132, -0.82279055,  0.01946669],\n",
       "       [-0.49440658, -0.3864845 ,  0.58167593, -0.26431024],\n",
       "       [-0.97130281, -1.11783581, -0.93954982, -0.97657842],\n",
       "       [ 0.70212683,  1.04999438,  0.72997363,  1.28990383]])"
      ]
     },
     "execution_count": 27,
     "metadata": {},
     "output_type": "execute_result"
    }
   ],
   "source": [
    "km.cluster_centers_ # 마지막 convergence의 center, 군집별 각 변수의 중심."
   ]
  },
  {
   "cell_type": "code",
   "execution_count": 28,
   "metadata": {},
   "outputs": [
    {
     "data": {
      "text/html": [
       "<div>\n",
       "<style scoped>\n",
       "    .dataframe tbody tr th:only-of-type {\n",
       "        vertical-align: middle;\n",
       "    }\n",
       "\n",
       "    .dataframe tbody tr th {\n",
       "        vertical-align: top;\n",
       "    }\n",
       "\n",
       "    .dataframe thead th {\n",
       "        text-align: right;\n",
       "    }\n",
       "</style>\n",
       "<table border=\"1\" class=\"dataframe\">\n",
       "  <thead>\n",
       "    <tr style=\"text-align: right;\">\n",
       "      <th></th>\n",
       "      <th>Murder</th>\n",
       "      <th>Assault</th>\n",
       "      <th>UrbanPop</th>\n",
       "      <th>Rape</th>\n",
       "    </tr>\n",
       "  </thead>\n",
       "  <tbody>\n",
       "    <tr>\n",
       "      <th>군집0</th>\n",
       "      <td>1.426224</td>\n",
       "      <td>0.883211</td>\n",
       "      <td>-0.822791</td>\n",
       "      <td>0.019467</td>\n",
       "    </tr>\n",
       "    <tr>\n",
       "      <th>군집1</th>\n",
       "      <td>-0.494407</td>\n",
       "      <td>-0.386484</td>\n",
       "      <td>0.581676</td>\n",
       "      <td>-0.264310</td>\n",
       "    </tr>\n",
       "    <tr>\n",
       "      <th>군집2</th>\n",
       "      <td>-0.971303</td>\n",
       "      <td>-1.117836</td>\n",
       "      <td>-0.939550</td>\n",
       "      <td>-0.976578</td>\n",
       "    </tr>\n",
       "    <tr>\n",
       "      <th>군집3</th>\n",
       "      <td>0.702127</td>\n",
       "      <td>1.049994</td>\n",
       "      <td>0.729974</td>\n",
       "      <td>1.289904</td>\n",
       "    </tr>\n",
       "  </tbody>\n",
       "</table>\n",
       "</div>"
      ],
      "text/plain": [
       "       Murder   Assault  UrbanPop      Rape\n",
       "군집0  1.426224  0.883211 -0.822791  0.019467\n",
       "군집1 -0.494407 -0.386484  0.581676 -0.264310\n",
       "군집2 -0.971303 -1.117836 -0.939550 -0.976578\n",
       "군집3  0.702127  1.049994  0.729974  1.289904"
      ]
     },
     "execution_count": 28,
     "metadata": {},
     "output_type": "execute_result"
    }
   ],
   "source": [
    "pd.DataFrame(km.cluster_centers_,\n",
    "            columns=usarrests_s.iloc[:,:-1].columns,\n",
    "            index = ['군집0','군집1','군집2','군집3'])"
   ]
  },
  {
   "cell_type": "code",
   "execution_count": 29,
   "metadata": {
    "slideshow": {
     "slide_type": "fragment"
    }
   },
   "outputs": [
    {
     "data": {
      "text/plain": [
       "57.55425863091106"
      ]
     },
     "execution_count": 29,
     "metadata": {},
     "output_type": "execute_result"
    }
   ],
   "source": [
    "km.inertia_ # within-group sum-of-square의 합"
   ]
  },
  {
   "cell_type": "code",
   "execution_count": 30,
   "metadata": {
    "slideshow": {
     "slide_type": "fragment"
    }
   },
   "outputs": [
    {
     "data": {
      "text/plain": [
       "4"
      ]
     },
     "execution_count": 30,
     "metadata": {},
     "output_type": "execute_result"
    }
   ],
   "source": [
    "km.n_clusters"
   ]
  },
  {
   "cell_type": "code",
   "execution_count": 31,
   "metadata": {
    "scrolled": false,
    "slideshow": {
     "slide_type": "slide"
    }
   },
   "outputs": [
    {
     "data": {
      "image/png": "[encoded data removed]",
      "text/plain": [
       "<Figure size 720x432 with 1 Axes>"
      ]
     },
     "metadata": {
      "needs_background": "light"
     },
     "output_type": "display_data"
    }
   ],
   "source": [
    "plt.figure(figsize=(10,6))\n",
    "sns.scatterplot(x=\"Murder\", y=\"Rape\", hue=\"cluster_km\", style=\"cluster_km\", data=usarrests_s)\n",
    "for i in range(usarrests_s.shape[0]):\n",
    "    plt.text(x=usarrests_s.Murder[i]+0.01, \n",
    "            y=usarrests_s.Rape[i]+0.01,\n",
    "            s=usarrests_s.index[i],\n",
    "            color=sns.color_palette()[usarrests_s.cluster_km[i]])\n",
    "plt.scatter(km.cluster_centers_[:,0],km.cluster_centers_[:,3], marker=\"x\", s=100,\n",
    "            color=sns.color_palette()[:4])\n",
    "plt.show()"
   ]
  },
  {
   "cell_type": "markdown",
   "metadata": {
    "slideshow": {
     "slide_type": "slide"
    }
   },
   "source": [
    "### 7.5.2 Number of Clusters\n",
    "- Hierarchical clustering과 마찬가지로 명확한 rule은 없음 \n",
    "- Within-group sum of squares는 군집의 개수가 늘어날 때 감소\n",
    "    - ESS의 감소가 완만해 지는 ‘팔꿈치＇에서 결정"
   ]
  },
  {
   "cell_type": "code",
   "execution_count": 32,
   "metadata": {
    "slideshow": {
     "slide_type": "fragment"
    }
   },
   "outputs": [],
   "source": [
    "wss=[]\n",
    "for k in np.arange(1,20):\n",
    "    km_k = KMeans(n_clusters=k).fit(usarrests_s)\n",
    "    wss.append(km_k.inertia_)"
   ]
  },
  {
   "cell_type": "code",
   "execution_count": 33,
   "metadata": {},
   "outputs": [
    {
     "data": {
      "text/plain": [
       "[253.78000000000003,\n",
       " 153.70488137733346,\n",
       " 90.43087138822995,\n",
       " 57.55425863091106,\n",
       " 51.51163568688111,\n",
       " 45.861040815243456,\n",
       " 41.09797876057892,\n",
       " 38.58642749441818,\n",
       " 32.450637955631635,\n",
       " 30.453043573059578,\n",
       " 26.940304418983775,\n",
       " 25.840267783901513,\n",
       " 22.64283886141884,\n",
       " 21.6402675847069,\n",
       " 19.015774764915815,\n",
       " 17.554721349803156,\n",
       " 16.50927161979084,\n",
       " 15.574287191314424,\n",
       " 14.473539743241522]"
      ]
     },
     "execution_count": 33,
     "metadata": {},
     "output_type": "execute_result"
    }
   ],
   "source": [
    "wss # 군집의 갯수가 증가할 수록, wss(군집내거리의 합)은 감소"
   ]
  },
  {
   "cell_type": "code",
   "execution_count": 34,
   "metadata": {
    "slideshow": {
     "slide_type": "fragment"
    }
   },
   "outputs": [
    {
     "data": {
      "image/png": "[encoded data removed]",
      "text/plain": [
       "<Figure size 432x288 with 1 Axes>"
      ]
     },
     "metadata": {
      "needs_background": "light"
     },
     "output_type": "display_data"
    }
   ],
   "source": [
    "plt.plot(np.arange(1,20),wss)\n",
    "plt.xlabel('K')\n",
    "plt.ylabel('WSS')\n",
    "plt.show()"
   ]
  },
  {
   "cell_type": "markdown",
   "metadata": {
    "lines_to_next_cell": 0,
    "slideshow": {
     "slide_type": "slide"
    }
   },
   "source": [
    "## 7.6 Model-based clustering: Gaussian Mixture Model\n",
    "- 각 군집에 속하는 관측치가 서로 다른 확률분포를 가지는 모집단에서 추출되었다고 가정하에 모형을 추정하고 이에 기반하여 군집화 \n",
    "\n",
    "#### Gaussian Mixture Model \n",
    "- 각 군집의 확률분포 $f(x; \\theta)$를  평균이 $\\mu_k$, 공분산행렬이  $\\Sigma_k$인 다변량 정규분포로 가정 \n",
    "$$ f(x) = \\sum_{k=1}^G \\pi_k f(x; \\mu_k, \\Sigma_k), ~~\\sum_k \\pi_k = 1$$ \n",
    "- G:그룹의 개수, d:변수의 개수\n",
    "<img src='http://drive.google.com/uc?export=view&id=1ZpqpxUWf7s0DAFt0xpJpA3fM-cNIOV94' /><br>\n",
    "   "
   ]
  },
  {
   "cell_type": "markdown",
   "metadata": {
    "slideshow": {
     "slide_type": "slide"
    }
   },
   "source": [
    "#### 공분산 행렬 $\\Sigma_k$에 대한 가정\n",
    "- Spherical: each component has its own single variance\n",
    "- Diagonal: each component has its own diagonal covariance matrix\n",
    "- Tied: all components share the same general covariance matrix\n",
    "- Full: each component has its own general covariance matrix"
   ]
  },
  {
   "cell_type": "markdown",
   "metadata": {
    "slideshow": {
     "slide_type": "slide"
    }
   },
   "source": [
    "<img src='https://scikit-learn.org/stable/_images/sphx_glr_plot_gmm_covariances_001.png' width=50%>"
   ]
  },
  {
   "cell_type": "markdown",
   "metadata": {
    "lines_to_next_cell": 0,
    "slideshow": {
     "slide_type": "slide"
    }
   },
   "source": [
    "- EM (Expectation-Maximization) 알고리즘을 통해 평균과 공분산 행렬을 추정\n",
    "- 각 관측치에 대해 각 군집에 속할 사후 확률(posterior probability)을 계산하여 가장 확률이 높은 군집으로 할당\n",
    "- 모형선택방법 BIC (Bayesian information criterion)을 사용해 군집의 개수 및 적절한 공분산행렬의 모양 선택 가능\n",
    "    - BIC값이 최소가 되는 모형 선택\n",
    "    $$BIC=- 2\\cdot \\mbox{loglikelihood} + \\mbox{(# of parameters)}$$\n",
    "- n이 커지면 속도가 느림"
   ]
  },
  {
   "cell_type": "markdown",
   "metadata": {
    "lines_to_next_cell": 0,
    "slideshow": {
     "slide_type": "slide"
    }
   },
   "source": [
    "### Example: USArrests – Gaussian Mixture Model"
   ]
  },
  {
   "cell_type": "code",
   "execution_count": 35,
   "metadata": {
    "slideshow": {
     "slide_type": "fragment"
    }
   },
   "outputs": [],
   "source": [
    "from sklearn.mixture import GaussianMixture\n",
    "gmm = GaussianMixture(n_components=4, covariance_type='full').fit(usarrests_s.iloc[:,:-1])"
   ]
  },
  {
   "cell_type": "code",
   "execution_count": 36,
   "metadata": {
    "scrolled": true,
    "slideshow": {
     "slide_type": "fragment"
    }
   },
   "outputs": [
    {
     "data": {
      "text/plain": [
       "array([[ 0.82238748,  1.05410867,  0.81805646,  1.09930293],\n",
       "       [-0.4791435 , -0.29220781,  0.53180098, -0.2363254 ],\n",
       "       [-0.82939821, -1.01284749, -0.71636299, -0.83698227],\n",
       "       [ 1.41806776,  1.01708774, -0.98131072,  0.39546726]])"
      ]
     },
     "execution_count": 36,
     "metadata": {},
     "output_type": "execute_result"
    }
   ],
   "source": [
    "gmm.means_ # mu_k"
   ]
  },
  {
   "cell_type": "code",
   "execution_count": 37,
   "metadata": {
    "slideshow": {
     "slide_type": "slide"
    }
   },
   "outputs": [
    {
     "data": {
      "text/plain": [
       "(4, 4, 4)"
      ]
     },
     "execution_count": 37,
     "metadata": {},
     "output_type": "execute_result"
    }
   ],
   "source": [
    "gmm.covariances_.shape # Sigma_k"
   ]
  },
  {
   "cell_type": "code",
   "execution_count": 38,
   "metadata": {},
   "outputs": [
    {
     "data": {
      "text/html": [
       "<div>\n",
       "<style scoped>\n",
       "    .dataframe tbody tr th:only-of-type {\n",
       "        vertical-align: middle;\n",
       "    }\n",
       "\n",
       "    .dataframe tbody tr th {\n",
       "        vertical-align: top;\n",
       "    }\n",
       "\n",
       "    .dataframe thead th {\n",
       "        text-align: right;\n",
       "    }\n",
       "</style>\n",
       "<table border=\"1\" class=\"dataframe\">\n",
       "  <thead>\n",
       "    <tr style=\"text-align: right;\">\n",
       "      <th></th>\n",
       "      <th>Murder</th>\n",
       "      <th>Assault</th>\n",
       "      <th>UrbanPop</th>\n",
       "      <th>Rape</th>\n",
       "      <th>cluster_km</th>\n",
       "    </tr>\n",
       "  </thead>\n",
       "  <tbody>\n",
       "    <tr>\n",
       "      <th>Alabama</th>\n",
       "      <td>1.255179</td>\n",
       "      <td>0.790787</td>\n",
       "      <td>-0.526195</td>\n",
       "      <td>-0.003451</td>\n",
       "      <td>0</td>\n",
       "    </tr>\n",
       "    <tr>\n",
       "      <th>Alaska</th>\n",
       "      <td>0.513019</td>\n",
       "      <td>1.118060</td>\n",
       "      <td>-1.224067</td>\n",
       "      <td>2.509424</td>\n",
       "      <td>3</td>\n",
       "    </tr>\n",
       "    <tr>\n",
       "      <th>Arizona</th>\n",
       "      <td>0.072361</td>\n",
       "      <td>1.493817</td>\n",
       "      <td>1.009122</td>\n",
       "      <td>1.053466</td>\n",
       "      <td>3</td>\n",
       "    </tr>\n",
       "    <tr>\n",
       "      <th>Arkansas</th>\n",
       "      <td>0.234708</td>\n",
       "      <td>0.233212</td>\n",
       "      <td>-1.084492</td>\n",
       "      <td>-0.186794</td>\n",
       "      <td>0</td>\n",
       "    </tr>\n",
       "    <tr>\n",
       "      <th>California</th>\n",
       "      <td>0.281093</td>\n",
       "      <td>1.275635</td>\n",
       "      <td>1.776781</td>\n",
       "      <td>2.088814</td>\n",
       "      <td>3</td>\n",
       "    </tr>\n",
       "  </tbody>\n",
       "</table>\n",
       "</div>"
      ],
      "text/plain": [
       "              Murder   Assault  UrbanPop      Rape cluster_km\n",
       "Alabama     1.255179  0.790787 -0.526195 -0.003451          0\n",
       "Alaska      0.513019  1.118060 -1.224067  2.509424          3\n",
       "Arizona     0.072361  1.493817  1.009122  1.053466          3\n",
       "Arkansas    0.234708  0.233212 -1.084492 -0.186794          0\n",
       "California  0.281093  1.275635  1.776781  2.088814          3"
      ]
     },
     "execution_count": 38,
     "metadata": {},
     "output_type": "execute_result"
    }
   ],
   "source": [
    "usarrests_s.head()"
   ]
  },
  {
   "cell_type": "code",
   "execution_count": 39,
   "metadata": {
    "slideshow": {
     "slide_type": "slide"
    }
   },
   "outputs": [
    {
     "data": {
      "text/plain": [
       "611.5601397641475"
      ]
     },
     "execution_count": 39,
     "metadata": {},
     "output_type": "execute_result"
    }
   ],
   "source": [
    "gmm.bic(usarrests_s.iloc[:,:-1]) # cluster_km 제외"
   ]
  },
  {
   "cell_type": "markdown",
   "metadata": {
    "slideshow": {
     "slide_type": "slide"
    }
   },
   "source": [
    "#### Model selection"
   ]
  },
  {
   "cell_type": "code",
   "execution_count": 40,
   "metadata": {},
   "outputs": [],
   "source": [
    "# R: MCLUST package"
   ]
  },
  {
   "cell_type": "code",
   "execution_count": 41,
   "metadata": {
    "slideshow": {
     "slide_type": "fragment"
    }
   },
   "outputs": [
    {
     "name": "stdout",
     "output_type": "stream",
     "text": [
      "1 spherical\n",
      "2 spherical\n",
      "3 spherical\n",
      "6 spherical\n"
     ]
    }
   ],
   "source": [
    "bic=[]\n",
    "lowest_bic = np.infty\n",
    "n_components_range = range(1, 7)\n",
    "cv_types = ['spherical', 'tied', 'diag', 'full']\n",
    "for cv_type in cv_types: \n",
    "    for n_components in n_components_range:\n",
    "        gmm = GaussianMixture(n_components=n_components,\n",
    "                              covariance_type=cv_type,\n",
    "                             random_state = 1000)\n",
    "        gmm.fit(usarrests_s.iloc[:,:4])\n",
    "        bic.append(gmm.bic(usarrests_s.iloc[:,:4]))\n",
    "        if bic[-1] < lowest_bic:  \n",
    "            lowest_bic = bic[-1]\n",
    "            best_gmm = gmm\n",
    "            print(n_components, cv_type)"
   ]
  },
  {
   "cell_type": "code",
   "execution_count": 42,
   "metadata": {
    "slideshow": {
     "slide_type": "fragment"
    }
   },
   "outputs": [
    {
     "data": {
      "text/plain": [
       "array([[-0.70207262, -0.52801623,  1.02994395, -0.47009706],\n",
       "       [ 1.5791695 ,  0.98138861, -0.78483706,  0.04850085],\n",
       "       [-1.1473069 , -1.19673332, -1.04319654, -1.09769652],\n",
       "       [ 0.744211  ,  1.08945021,  0.92099885,  1.20862797],\n",
       "       [-0.23582769, -0.3336655 , -0.11815495, -0.14501893],\n",
       "       [ 0.51301858,  1.11805959, -1.22406668,  2.50942392]])"
      ]
     },
     "execution_count": 42,
     "metadata": {},
     "output_type": "execute_result"
    }
   ],
   "source": [
    "best_gmm.means_"
   ]
  },
  {
   "cell_type": "code",
   "execution_count": 43,
   "metadata": {
    "scrolled": false,
    "slideshow": {
     "slide_type": "fragment"
    }
   },
   "outputs": [
    {
     "data": {
      "text/plain": [
       "array([2.33158103e-01, 2.30072553e-01, 1.90874334e-01, 3.00643712e-01,\n",
       "       2.16908818e-01, 1.00000001e-06])"
      ]
     },
     "execution_count": 43,
     "metadata": {},
     "output_type": "execute_result"
    }
   ],
   "source": [
    "best_gmm.covariances_ # 여기에 identity Matrix 곱해진게 각 집단의 공분산"
   ]
  },
  {
   "cell_type": "markdown",
   "metadata": {
    "slideshow": {
     "slide_type": "fragment"
    }
   },
   "source": [
    "https://scikit-learn.org/stable/modules/generated/sklearn.mixture.GaussianMixture.html#sklearn.mixture.GaussianMixture"
   ]
  },
  {
   "cell_type": "code",
   "execution_count": 44,
   "metadata": {
    "scrolled": true,
    "slideshow": {
     "slide_type": "slide"
    }
   },
   "outputs": [],
   "source": [
    "usarrests_s['cluster_gmm']=best_gmm.predict(usarrests_s.iloc[:,:4])\n",
    "usarrests_s['cluster_gmm']=usarrests_s['cluster_gmm'].astype('category')"
   ]
  },
  {
   "cell_type": "code",
   "execution_count": 45,
   "metadata": {
    "slideshow": {
     "slide_type": "fragment"
    }
   },
   "outputs": [
    {
     "data": {
      "image/png": "[encoded data removed]",
      "text/plain": [
       "<Figure size 720x432 with 1 Axes>"
      ]
     },
     "metadata": {
      "needs_background": "light"
     },
     "output_type": "display_data"
    }
   ],
   "source": [
    "plt.figure(figsize=(10,6))\n",
    "sns.scatterplot(x=\"Murder\", y=\"Rape\", hue=\"cluster_gmm\", style=\"cluster_gmm\", data=usarrests_s)\n",
    "for i in range(usarrests_s.shape[0]):\n",
    "    plt.text(x=usarrests_s.Murder[i]+0.01, \n",
    "            y=usarrests_s.Rape[i]+0.01,\n",
    "            s=usarrests_s.index[i],\n",
    "            color=sns.color_palette()[usarrests_s.cluster_gmm[i]])\n",
    "plt.scatter(best_gmm.means_[:,0],best_gmm.means_[:,3], marker=\"x\", s=100,\n",
    "            color=sns.color_palette()[:best_gmm.n_components])\n",
    "plt.show()"
   ]
  },
  {
   "cell_type": "markdown",
   "metadata": {
    "slideshow": {
     "slide_type": "slide"
    }
   },
   "source": [
    "### 7.7 Density-based clustering: DBSCAN\n",
    "- 데이터포인트가 많은 dense region을 찾아 군집 형성\n",
    "- 비교적 비어있는 지역을 경계로 다른 클러스터와 구분 \n",
    "- 알고리즘\n",
    "    - Core sample의 이웃이면 같은 클러스터 할당\n",
    "    - 이웃이 core sample이면 그 이웃도 같은 클러스터 \n",
    "    - 이웃에 core sample이 없을 때 까지 확장\n",
    "\n",
    "<img src='http://drive.google.com/uc?export=view&id=1IEWM8d08g7ioJxUczFQf6sXH4xvl7dMz' /><br>"
   ]
  },
  {
   "cell_type": "markdown",
   "metadata": {
    "slideshow": {
     "slide_type": "slide"
    }
   },
   "source": [
    "- 특징 \n",
    "    - 매우 큰 데이터에 사용 가능 \n",
    "    - 여러 번 실행해도 core sample의 군집은 언제나 동일 \n",
    "    - Boundary sample의 클러스터 할당은 입력 순서에 따라 달라짐(보통 수가 많지 않으므로 큰 문제 안됨)\n",
    "    - 클러스터 개수의 자동 선택 \n",
    "    - 복잡한 형상의 clustering 가능 \n",
    "- eps가 커지면 \n",
    "    - 한 클러스터에 포함되는 sample 증가\n",
    "    - noise sample 감소 \n",
    "- minPts가 커지면 \n",
    "    - core sample 감소\n",
    "    - noise sample 증가 "
   ]
  },
  {
   "cell_type": "markdown",
   "metadata": {
    "slideshow": {
     "slide_type": "slide"
    }
   },
   "source": [
    "### Example: USArrests – DBSCAN"
   ]
  },
  {
   "cell_type": "code",
   "execution_count": 46,
   "metadata": {
    "slideshow": {
     "slide_type": "fragment"
    }
   },
   "outputs": [],
   "source": [
    "from sklearn.cluster import DBSCAN\n",
    "dbscan = DBSCAN(eps=2, min_samples=2)\n",
    "cluster_dbscan = dbscan.fit_predict(usarrests_s)"
   ]
  },
  {
   "cell_type": "code",
   "execution_count": 47,
   "metadata": {
    "slideshow": {
     "slide_type": "fragment"
    }
   },
   "outputs": [],
   "source": [
    "usarrests_s['cluster_dbscan']=cluster_dbscan\n",
    "usarrests_s['cluster_dbscan'] = usarrests_s['cluster_dbscan'].astype('category')"
   ]
  },
  {
   "cell_type": "code",
   "execution_count": 48,
   "metadata": {
    "scrolled": false,
    "slideshow": {
     "slide_type": "slide"
    }
   },
   "outputs": [
    {
     "data": {
      "image/png": "[encoded data removed]",
      "text/plain": [
       "<Figure size 720x432 with 1 Axes>"
      ]
     },
     "metadata": {
      "needs_background": "light"
     },
     "output_type": "display_data"
    }
   ],
   "source": [
    "plt.figure(figsize=(10,6))\n",
    "sns.scatterplot(x=\"Murder\", y=\"Rape\", hue=\"cluster_dbscan\", style=\"cluster_dbscan\", data=usarrests_s)\n",
    "for i in range(usarrests_s.shape[0]):\n",
    "    plt.text(x=usarrests_s.Murder[i]+0.01, \n",
    "            y=usarrests_s.Rape[i]+0.01,\n",
    "            s=usarrests_s.index[i],\n",
    "            color=sns.color_palette()[usarrests_s.cluster_dbscan[i]+1])\n",
    "plt.show()"
   ]
  },
  {
   "cell_type": "markdown",
   "metadata": {
    "slideshow": {
     "slide_type": "fragment"
    }
   },
   "source": [
    "- Noise sample은 -1으로 할당 "
   ]
  },
  {
   "cell_type": "markdown",
   "metadata": {
    "slideshow": {
     "slide_type": "slide"
    }
   },
   "source": [
    "## Comparison of Clustering Algorithms\n",
    "\n",
    "<img src=\"https://scikit-learn.org/stable/_images/sphx_glr_plot_cluster_comparison_0011.png\" width=70%>\n",
    "\n",
    "https://scikit-learn.org/stable/modules/clustering.html#dbscan"
   ]
  }
 ],
 "metadata": {
  "jupytext": {
   "cell_metadata_filter": "child,name,out.width,tags,echo,-all",
   "main_language": "R",
   "notebook_metadata_filter": "-all"
  },
  "kernelspec": {
   "display_name": "Python3.8_DL",
   "language": "python",
   "name": "dl"
  },
  "language_info": {
   "codemirror_mode": {
    "name": "ipython",
    "version": 3
   },
   "file_extension": ".py",
   "mimetype": "text/x-python",
   "name": "python",
   "nbconvert_exporter": "python",
   "pygments_lexer": "ipython3",
   "version": "3.8.8"
  }
 },
 "nbformat": 4,
 "nbformat_minor": 4
}
