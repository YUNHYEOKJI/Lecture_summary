{
 "cells": [
  {
   "cell_type": "markdown",
   "metadata": {
    "slideshow": {
     "slide_type": "slide"
    }
   },
   "source": [
    "# Lecture 8: Factor Analysis\n",
    "\n",
    "## 8.1 요인분석이란?\n",
    "- 심리학, 행동과학 등의 여러 영역에서 주된 관심의 개념을 직접 측정 불가하기 때문에 간접적으로 측정 (랜덤 오차 포함)\n",
    "    - 예: 지능- 시험점수 \n",
    "    - 예: 사회계급 – 직업, 교육배경, 집의 소유 등 \n",
    "- 잠재변수 (latent variable) - 직접 측정이 불가하지만 측정할 수 있는 변수 \n",
    "- 요인분석 – 측정변수와 잠재변수 사이의 관계를 밝히는 것\n",
    "    - 탐색적 요인분석(Exploratory Factor Analysis) – 어떤 측정변수가 어떤 요인에 관련된다는 특정한 가정없이 측정변수와 요인 사이의 관계 조사\n",
    "    - 확인적 요인분석(Confirmatory Factor Analysis) – 사전에 가정된 특정한 요인모형에 대해 측정변수 사이의 공분산 또는 상관관계를 적절하게 적합하는지 검정"
   ]
  },
  {
   "cell_type": "markdown",
   "metadata": {
    "slideshow": {
     "slide_type": "slide"
    }
   },
   "source": [
    "## 8.2 탐색적 요인분석(Exploratory Factor Analysis)\n",
    "### 8.2.1 요인분석의 원리: two-factor model\n",
    "- 학생들의 심리테스트\n",
    "- 5개의 문항\n",
    "    - paragraph comprehension (PARA)\n",
    "    - sentence completion (SENT)\n",
    "    - word meaning (WORD)\n",
    "    - addition (ADD)\n",
    "    - counting dots (DOTS)\n",
    "    "
   ]
  },
  {
   "cell_type": "markdown",
   "metadata": {
    "slideshow": {
     "slide_type": "slide"
    }
   },
   "source": [
    "- Correlation matrix\n",
    "\n",
    " <img src='http://drive.google.com/uc?export=view&id=1SlbZ8E9iPY5zn-xyd4XXNIKZp8B3ZYFl' width=70%/><br>"
   ]
  },
  {
   "cell_type": "markdown",
   "metadata": {
    "slideshow": {
     "slide_type": "slide"
    }
   },
   "source": [
    "- 공통 요인(common factor):$f$\n",
    "    - 5개의 문항에 내재된 두 개의 잠재요인\n",
    "- 특정요인(specific factor): $u_i$ - 랜덤변동\n",
    "    - 공통요인이 설명하지 못하는 각 문항의 \n",
    "    - 특정요인의 분산은 순전히 공통요인를 완벽히 측정하지 못하는 데서 오는 오차라고 가정\n",
    "\n",
    "\n",
    "- 학생들의 성적이 두 개의 잠재력의 표현: 언어능력($f_1$), 수리능력($f_2$)\n",
    "<img src='http://drive.google.com/uc?export=view&id=1sYXNMR7qt9_t5HAdKMOENioLuWbZKG12' width=30%/><br>\n",
    "    "
   ]
  },
  {
   "cell_type": "markdown",
   "metadata": {
    "slideshow": {
     "slide_type": "slide"
    }
   },
   "source": [
    "### 8.2.3 요인분석 모형 \n",
    "\n",
    "<img src='http://drive.google.com/uc?export=view&id=1V94QVSs803euJCE66qVxoeRU3G5leOAv' width=20% /><br>\n",
    "\n",
    "- 가정\n",
    "    - $u_i$들은 서로 독립이다. \n",
    "    - $f_j$들이 서로 독립이다.\n",
    "    - $u_i$와 $f_j$는 서로 독립이다.\n",
    "\n",
    "- $X_i$의 분산을 공통요인$f$의 분산과 특정요인$u_i$의 분산으로 구분\n",
    "$$var(X_i)= var(l_i f +u_i)= l_i^2 + var(u_i) \\mbox{(=1 만일 표준화 되었다면)} $$"
   ]
  },
  {
   "cell_type": "markdown",
   "metadata": {
    "slideshow": {
     "slide_type": "slide"
    }
   },
   "source": [
    "#### 요인적재량(factor loading): $L$\n",
    "- 각 변수와 각 요인 간의 관련성 정도를 나타내는 값 \n",
    "- 일반적으로 0.3 이상이면 유의한 관계가 있다고 판단\n",
    "\n",
    "#### 공통성(communality)\n",
    "- $X_i$의 분산 중 공통요인에 의해 발생하는 분산의 비율 \n",
    "- Communality of $X_i$ = $l_{i1}^2 +l_{i2}^2$\n",
    "- Communality가 크면(1에 가까우면) 변수 $X_i$가 공통요인를 잘 측정\n",
    "- 예: $X_2$(sentence completion)의 결과는 언어능력에 의존적일 것이므로 $l_{21}\\approx 1, l_{22} \\approx 0$"
   ]
  },
  {
   "cell_type": "markdown",
   "metadata": {
    "slideshow": {
     "slide_type": "slide"
    }
   },
   "source": [
    "#### 요인 점수(factor score)\n",
    "- 요인분석 결과를 바탕으로 각 응답자 또는 사례가 추출된 요인을 반영하고 있는 정도를 나타내는 점수 \n",
    "- 기존의 변수 값이 아닌 요인 점수 값을 통해 요인수준의 회귀분석이나 분산분석 등을 수행할 수 있음"
   ]
  },
  {
   "cell_type": "markdown",
   "metadata": {
    "slideshow": {
     "slide_type": "slide"
    }
   },
   "source": [
    "    \n",
    "### 8.2.4 Example: 쇼핑 고객만족도\n",
    "\n",
    "A쇼핑 고객만족도 조사는 상품품질에서 안내표지판 설명까지 총 10개의 항목으로 실행되었다. 개별 항목들도 중요한 고객만족도 항목\n",
    "들이지만, 보다 효율적인 측정지표 관리를 위해 탐색적 요인분석을 실시하고자 한다. "
   ]
  },
  {
   "cell_type": "code",
   "execution_count": 1,
   "metadata": {
    "slideshow": {
     "slide_type": "skip"
    }
   },
   "outputs": [],
   "source": [
    "import pandas as pd\n",
    "from factor_analyzer import FactorAnalyzer\n",
    "\n",
    "df = pd.read_csv('../data/Ashopping.csv',sep=',',encoding='CP949') "
   ]
  },
  {
   "cell_type": "code",
   "execution_count": 2,
   "metadata": {
    "slideshow": {
     "slide_type": "slide"
    }
   },
   "outputs": [
    {
     "data": {
      "text/html": [
       "<div>\n",
       "<style scoped>\n",
       "    .dataframe tbody tr th:only-of-type {\n",
       "        vertical-align: middle;\n",
       "    }\n",
       "\n",
       "    .dataframe tbody tr th {\n",
       "        vertical-align: top;\n",
       "    }\n",
       "\n",
       "    .dataframe thead th {\n",
       "        text-align: right;\n",
       "    }\n",
       "</style>\n",
       "<table border=\"1\" class=\"dataframe\">\n",
       "  <thead>\n",
       "    <tr style=\"text-align: right;\">\n",
       "      <th></th>\n",
       "      <th>고객ID</th>\n",
       "      <th>이탈여부</th>\n",
       "      <th>총_매출액</th>\n",
       "      <th>방문빈도</th>\n",
       "      <th>1회_평균매출액</th>\n",
       "      <th>할인권_사용 횟수</th>\n",
       "      <th>총_할인_금액</th>\n",
       "      <th>고객등급</th>\n",
       "      <th>구매유형</th>\n",
       "      <th>클레임접수여부</th>\n",
       "      <th>...</th>\n",
       "      <th>매장_청결성</th>\n",
       "      <th>공간_편의성</th>\n",
       "      <th>시야_확보성</th>\n",
       "      <th>음향_적절성</th>\n",
       "      <th>안내_표지판_설명</th>\n",
       "      <th>친절성</th>\n",
       "      <th>신속성</th>\n",
       "      <th>책임성</th>\n",
       "      <th>정확성</th>\n",
       "      <th>전문성</th>\n",
       "    </tr>\n",
       "  </thead>\n",
       "  <tbody>\n",
       "    <tr>\n",
       "      <th>0</th>\n",
       "      <td>1</td>\n",
       "      <td>0</td>\n",
       "      <td>4007080</td>\n",
       "      <td>17</td>\n",
       "      <td>235711</td>\n",
       "      <td>1</td>\n",
       "      <td>5445</td>\n",
       "      <td>1</td>\n",
       "      <td>4</td>\n",
       "      <td>0</td>\n",
       "      <td>...</td>\n",
       "      <td>6</td>\n",
       "      <td>7</td>\n",
       "      <td>6</td>\n",
       "      <td>6</td>\n",
       "      <td>6</td>\n",
       "      <td>6</td>\n",
       "      <td>6</td>\n",
       "      <td>6</td>\n",
       "      <td>6</td>\n",
       "      <td>6</td>\n",
       "    </tr>\n",
       "    <tr>\n",
       "      <th>1</th>\n",
       "      <td>2</td>\n",
       "      <td>1</td>\n",
       "      <td>3168400</td>\n",
       "      <td>14</td>\n",
       "      <td>226314</td>\n",
       "      <td>22</td>\n",
       "      <td>350995</td>\n",
       "      <td>2</td>\n",
       "      <td>4</td>\n",
       "      <td>0</td>\n",
       "      <td>...</td>\n",
       "      <td>7</td>\n",
       "      <td>7</td>\n",
       "      <td>6</td>\n",
       "      <td>6</td>\n",
       "      <td>6</td>\n",
       "      <td>5</td>\n",
       "      <td>3</td>\n",
       "      <td>6</td>\n",
       "      <td>6</td>\n",
       "      <td>6</td>\n",
       "    </tr>\n",
       "    <tr>\n",
       "      <th>2</th>\n",
       "      <td>3</td>\n",
       "      <td>0</td>\n",
       "      <td>2680780</td>\n",
       "      <td>18</td>\n",
       "      <td>148932</td>\n",
       "      <td>6</td>\n",
       "      <td>186045</td>\n",
       "      <td>1</td>\n",
       "      <td>4</td>\n",
       "      <td>1</td>\n",
       "      <td>...</td>\n",
       "      <td>6</td>\n",
       "      <td>6</td>\n",
       "      <td>6</td>\n",
       "      <td>6</td>\n",
       "      <td>6</td>\n",
       "      <td>7</td>\n",
       "      <td>7</td>\n",
       "      <td>6</td>\n",
       "      <td>6</td>\n",
       "      <td>7</td>\n",
       "    </tr>\n",
       "    <tr>\n",
       "      <th>3</th>\n",
       "      <td>4</td>\n",
       "      <td>0</td>\n",
       "      <td>5946600</td>\n",
       "      <td>17</td>\n",
       "      <td>349800</td>\n",
       "      <td>1</td>\n",
       "      <td>5195</td>\n",
       "      <td>1</td>\n",
       "      <td>4</td>\n",
       "      <td>1</td>\n",
       "      <td>...</td>\n",
       "      <td>6</td>\n",
       "      <td>6</td>\n",
       "      <td>5</td>\n",
       "      <td>6</td>\n",
       "      <td>6</td>\n",
       "      <td>6</td>\n",
       "      <td>6</td>\n",
       "      <td>6</td>\n",
       "      <td>5</td>\n",
       "      <td>6</td>\n",
       "    </tr>\n",
       "    <tr>\n",
       "      <th>4</th>\n",
       "      <td>5</td>\n",
       "      <td>0</td>\n",
       "      <td>13745950</td>\n",
       "      <td>73</td>\n",
       "      <td>188301</td>\n",
       "      <td>9</td>\n",
       "      <td>246350</td>\n",
       "      <td>1</td>\n",
       "      <td>2</td>\n",
       "      <td>0</td>\n",
       "      <td>...</td>\n",
       "      <td>5</td>\n",
       "      <td>6</td>\n",
       "      <td>6</td>\n",
       "      <td>6</td>\n",
       "      <td>5</td>\n",
       "      <td>5</td>\n",
       "      <td>6</td>\n",
       "      <td>6</td>\n",
       "      <td>5</td>\n",
       "      <td>6</td>\n",
       "    </tr>\n",
       "  </tbody>\n",
       "</table>\n",
       "<p>5 rows × 39 columns</p>\n",
       "</div>"
      ],
      "text/plain": [
       "   고객ID  이탈여부     총_매출액  방문빈도  1회_평균매출액  할인권_사용 횟수  총_할인_금액  고객등급  구매유형  \\\n",
       "0     1     0   4007080    17    235711          1     5445     1     4   \n",
       "1     2     1   3168400    14    226314         22   350995     2     4   \n",
       "2     3     0   2680780    18    148932          6   186045     1     4   \n",
       "3     4     0   5946600    17    349800          1     5195     1     4   \n",
       "4     5     0  13745950    73    188301          9   246350     1     2   \n",
       "\n",
       "   클레임접수여부  ...  매장_청결성  공간_편의성  시야_확보성  음향_적절성  안내_표지판_설명  친절성  신속성  책임성  \\\n",
       "0        0  ...       6       7       6       6          6    6    6    6   \n",
       "1        0  ...       7       7       6       6          6    5    3    6   \n",
       "2        1  ...       6       6       6       6          6    7    7    6   \n",
       "3        1  ...       6       6       5       6          6    6    6    6   \n",
       "4        0  ...       5       6       6       6          5    5    6    6   \n",
       "\n",
       "   정확성  전문성  \n",
       "0    6    6  \n",
       "1    6    6  \n",
       "2    6    7  \n",
       "3    5    6  \n",
       "4    5    6  \n",
       "\n",
       "[5 rows x 39 columns]"
      ]
     },
     "execution_count": 2,
     "metadata": {},
     "output_type": "execute_result"
    }
   ],
   "source": [
    "df.head()"
   ]
  },
  {
   "cell_type": "code",
   "execution_count": 3,
   "metadata": {
    "slideshow": {
     "slide_type": "slide"
    }
   },
   "outputs": [
    {
     "data": {
      "text/html": [
       "<div>\n",
       "<style scoped>\n",
       "    .dataframe tbody tr th:only-of-type {\n",
       "        vertical-align: middle;\n",
       "    }\n",
       "\n",
       "    .dataframe tbody tr th {\n",
       "        vertical-align: top;\n",
       "    }\n",
       "\n",
       "    .dataframe thead th {\n",
       "        text-align: right;\n",
       "    }\n",
       "</style>\n",
       "<table border=\"1\" class=\"dataframe\">\n",
       "  <thead>\n",
       "    <tr style=\"text-align: right;\">\n",
       "      <th></th>\n",
       "      <th>상품_품질</th>\n",
       "      <th>상품_다양성</th>\n",
       "      <th>가격_적절성</th>\n",
       "      <th>상품_진열_위치</th>\n",
       "      <th>상품_설명_표시</th>\n",
       "      <th>매장_청결성</th>\n",
       "      <th>공간_편의성</th>\n",
       "      <th>시야_확보성</th>\n",
       "      <th>음향_적절성</th>\n",
       "      <th>안내_표지판_설명</th>\n",
       "    </tr>\n",
       "  </thead>\n",
       "  <tbody>\n",
       "    <tr>\n",
       "      <th>0</th>\n",
       "      <td>7</td>\n",
       "      <td>7</td>\n",
       "      <td>6</td>\n",
       "      <td>7.0</td>\n",
       "      <td>6.0</td>\n",
       "      <td>6</td>\n",
       "      <td>7</td>\n",
       "      <td>6</td>\n",
       "      <td>6</td>\n",
       "      <td>6</td>\n",
       "    </tr>\n",
       "    <tr>\n",
       "      <th>1</th>\n",
       "      <td>6</td>\n",
       "      <td>7</td>\n",
       "      <td>6</td>\n",
       "      <td>6.0</td>\n",
       "      <td>NaN</td>\n",
       "      <td>7</td>\n",
       "      <td>7</td>\n",
       "      <td>6</td>\n",
       "      <td>6</td>\n",
       "      <td>6</td>\n",
       "    </tr>\n",
       "    <tr>\n",
       "      <th>2</th>\n",
       "      <td>6</td>\n",
       "      <td>7</td>\n",
       "      <td>6</td>\n",
       "      <td>7.0</td>\n",
       "      <td>NaN</td>\n",
       "      <td>6</td>\n",
       "      <td>6</td>\n",
       "      <td>6</td>\n",
       "      <td>6</td>\n",
       "      <td>6</td>\n",
       "    </tr>\n",
       "    <tr>\n",
       "      <th>3</th>\n",
       "      <td>6</td>\n",
       "      <td>6</td>\n",
       "      <td>6</td>\n",
       "      <td>5.0</td>\n",
       "      <td>6.0</td>\n",
       "      <td>6</td>\n",
       "      <td>6</td>\n",
       "      <td>5</td>\n",
       "      <td>6</td>\n",
       "      <td>6</td>\n",
       "    </tr>\n",
       "    <tr>\n",
       "      <th>4</th>\n",
       "      <td>5</td>\n",
       "      <td>6</td>\n",
       "      <td>6</td>\n",
       "      <td>5.0</td>\n",
       "      <td>6.0</td>\n",
       "      <td>5</td>\n",
       "      <td>6</td>\n",
       "      <td>6</td>\n",
       "      <td>6</td>\n",
       "      <td>5</td>\n",
       "    </tr>\n",
       "  </tbody>\n",
       "</table>\n",
       "</div>"
      ],
      "text/plain": [
       "   상품_품질  상품_다양성  가격_적절성  상품_진열_위치  상품_설명_표시  매장_청결성  공간_편의성  시야_확보성  음향_적절성  \\\n",
       "0      7       7       6       7.0       6.0       6       7       6       6   \n",
       "1      6       7       6       6.0       NaN       7       7       6       6   \n",
       "2      6       7       6       7.0       NaN       6       6       6       6   \n",
       "3      6       6       6       5.0       6.0       6       6       5       6   \n",
       "4      5       6       6       5.0       6.0       5       6       6       6   \n",
       "\n",
       "   안내_표지판_설명  \n",
       "0          6  \n",
       "1          6  \n",
       "2          6  \n",
       "3          6  \n",
       "4          5  "
      ]
     },
     "execution_count": 3,
     "metadata": {},
     "output_type": "execute_result"
    }
   ],
   "source": [
    "# 변수 추출\n",
    "X=df[['상품_품질','상품_다양성','가격_적절성','상품_진열_위치','상품_설명_표시','매장_청결성','공간_편의성','시야_확보성','음향_적절성','안내_표지판_설명']]\n",
    "X.head()"
   ]
  },
  {
   "cell_type": "code",
   "execution_count": 4,
   "metadata": {
    "slideshow": {
     "slide_type": "slide"
    }
   },
   "outputs": [
    {
     "name": "stdout",
     "output_type": "stream",
     "text": [
      "요인적재량 :\n",
      "                   0         1\n",
      "상품_품질      0.424585  0.469091\n",
      "상품_다양성     0.335576  0.521441\n",
      "가격_적절성     0.245717  0.621675\n",
      "상품_진열_위치   0.280455  0.662115\n",
      "상품_설명_표시   0.183904  0.559667\n",
      "매장_청결성     0.553540  0.279346\n",
      "공간_편의성     0.538517  0.411586\n",
      "시야_확보성     0.522633  0.285351\n",
      "음향_적절성     0.512300  0.298342\n",
      "안내_표지판_설명  0.698504  0.146443\n"
     ]
    }
   ],
   "source": [
    "# 탐색적요인분석\n",
    "fa = FactorAnalyzer(n_factors=2, rotation='varimax').fit(X)\n",
    "# 결과 출력\n",
    "print('요인적재량 :\\n',pd.DataFrame(fa.loadings_, index=X.columns))"
   ]
  },
  {
   "cell_type": "markdown",
   "metadata": {
    "slideshow": {
     "slide_type": "fragment"
    }
   },
   "source": [
    "- Factor1\n",
    "    - 매장 청결성, 공간 편의성, 시야 확보성, 음향 적절성, 안내 표지판의 변수에 대한 factor loading 값이 큼\n",
    "    - \"매장 만족도\"라고 명명\n",
    "- Factor2\n",
    "    - 상품 품질, 상품 다양성, 가격 적절성, 상품 진열위치, 상품설명 표시에 대한 factor loading 값이 큼\n",
    "    - \"상품 만족도\"라고 명명 "
   ]
  },
  {
   "cell_type": "code",
   "execution_count": 5,
   "metadata": {
    "slideshow": {
     "slide_type": "slide"
    }
   },
   "outputs": [
    {
     "name": "stdout",
     "output_type": "stream",
     "text": [
      "\n",
      "공통성 :\n",
      "                   0\n",
      "상품_품질      0.400319\n",
      "상품_다양성     0.384512\n",
      "가격_적절성     0.446857\n",
      "상품_진열_위치   0.517051\n",
      "상품_설명_표시   0.347048\n",
      "매장_청결성     0.384441\n",
      "공간_편의성     0.459403\n",
      "시야_확보성     0.354571\n",
      "음향_적절성     0.351460\n",
      "안내_표지판_설명  0.509353\n"
     ]
    }
   ],
   "source": [
    "print('\\n공통성 :\\n', pd.DataFrame(fa.get_communalities(), index=X.columns))"
   ]
  },
  {
   "cell_type": "code",
   "execution_count": 6,
   "metadata": {
    "slideshow": {
     "slide_type": "slide"
    }
   },
   "outputs": [
    {
     "name": "stdout",
     "output_type": "stream",
     "text": [
      "\n",
      "요인점수 :\n",
      " [[ 0.51484379  1.1780319 ]\n",
      " [ 0.16525296 -0.17930471]\n",
      " [-0.48014705 -0.09537536]\n",
      " ...\n",
      " [ 0.22596869  0.72047489]\n",
      " [-2.07188396 -1.25077316]\n",
      " [ 0.72731621  0.90366169]]\n"
     ]
    }
   ],
   "source": [
    "print('\\n요인점수 :\\n', fa.transform(X.dropna()))"
   ]
  },
  {
   "cell_type": "code",
   "execution_count": 7,
   "metadata": {},
   "outputs": [
    {
     "data": {
      "text/html": [
       "<div>\n",
       "<style scoped>\n",
       "    .dataframe tbody tr th:only-of-type {\n",
       "        vertical-align: middle;\n",
       "    }\n",
       "\n",
       "    .dataframe tbody tr th {\n",
       "        vertical-align: top;\n",
       "    }\n",
       "\n",
       "    .dataframe thead th {\n",
       "        text-align: right;\n",
       "    }\n",
       "</style>\n",
       "<table border=\"1\" class=\"dataframe\">\n",
       "  <thead>\n",
       "    <tr style=\"text-align: right;\">\n",
       "      <th></th>\n",
       "      <th>고객ID</th>\n",
       "      <th>이탈여부</th>\n",
       "      <th>총_매출액</th>\n",
       "      <th>방문빈도</th>\n",
       "      <th>1회_평균매출액</th>\n",
       "      <th>할인권_사용 횟수</th>\n",
       "      <th>총_할인_금액</th>\n",
       "      <th>고객등급</th>\n",
       "      <th>구매유형</th>\n",
       "      <th>클레임접수여부</th>\n",
       "      <th>...</th>\n",
       "      <th>매장_청결성</th>\n",
       "      <th>공간_편의성</th>\n",
       "      <th>시야_확보성</th>\n",
       "      <th>음향_적절성</th>\n",
       "      <th>안내_표지판_설명</th>\n",
       "      <th>친절성</th>\n",
       "      <th>신속성</th>\n",
       "      <th>책임성</th>\n",
       "      <th>정확성</th>\n",
       "      <th>전문성</th>\n",
       "    </tr>\n",
       "  </thead>\n",
       "  <tbody>\n",
       "    <tr>\n",
       "      <th>0</th>\n",
       "      <td>1</td>\n",
       "      <td>0</td>\n",
       "      <td>4007080</td>\n",
       "      <td>17</td>\n",
       "      <td>235711</td>\n",
       "      <td>1</td>\n",
       "      <td>5445</td>\n",
       "      <td>1</td>\n",
       "      <td>4</td>\n",
       "      <td>0</td>\n",
       "      <td>...</td>\n",
       "      <td>6</td>\n",
       "      <td>7</td>\n",
       "      <td>6</td>\n",
       "      <td>6</td>\n",
       "      <td>6</td>\n",
       "      <td>6</td>\n",
       "      <td>6</td>\n",
       "      <td>6</td>\n",
       "      <td>6</td>\n",
       "      <td>6</td>\n",
       "    </tr>\n",
       "    <tr>\n",
       "      <th>1</th>\n",
       "      <td>2</td>\n",
       "      <td>1</td>\n",
       "      <td>3168400</td>\n",
       "      <td>14</td>\n",
       "      <td>226314</td>\n",
       "      <td>22</td>\n",
       "      <td>350995</td>\n",
       "      <td>2</td>\n",
       "      <td>4</td>\n",
       "      <td>0</td>\n",
       "      <td>...</td>\n",
       "      <td>7</td>\n",
       "      <td>7</td>\n",
       "      <td>6</td>\n",
       "      <td>6</td>\n",
       "      <td>6</td>\n",
       "      <td>5</td>\n",
       "      <td>3</td>\n",
       "      <td>6</td>\n",
       "      <td>6</td>\n",
       "      <td>6</td>\n",
       "    </tr>\n",
       "    <tr>\n",
       "      <th>2</th>\n",
       "      <td>3</td>\n",
       "      <td>0</td>\n",
       "      <td>2680780</td>\n",
       "      <td>18</td>\n",
       "      <td>148932</td>\n",
       "      <td>6</td>\n",
       "      <td>186045</td>\n",
       "      <td>1</td>\n",
       "      <td>4</td>\n",
       "      <td>1</td>\n",
       "      <td>...</td>\n",
       "      <td>6</td>\n",
       "      <td>6</td>\n",
       "      <td>6</td>\n",
       "      <td>6</td>\n",
       "      <td>6</td>\n",
       "      <td>7</td>\n",
       "      <td>7</td>\n",
       "      <td>6</td>\n",
       "      <td>6</td>\n",
       "      <td>7</td>\n",
       "    </tr>\n",
       "    <tr>\n",
       "      <th>3</th>\n",
       "      <td>4</td>\n",
       "      <td>0</td>\n",
       "      <td>5946600</td>\n",
       "      <td>17</td>\n",
       "      <td>349800</td>\n",
       "      <td>1</td>\n",
       "      <td>5195</td>\n",
       "      <td>1</td>\n",
       "      <td>4</td>\n",
       "      <td>1</td>\n",
       "      <td>...</td>\n",
       "      <td>6</td>\n",
       "      <td>6</td>\n",
       "      <td>5</td>\n",
       "      <td>6</td>\n",
       "      <td>6</td>\n",
       "      <td>6</td>\n",
       "      <td>6</td>\n",
       "      <td>6</td>\n",
       "      <td>5</td>\n",
       "      <td>6</td>\n",
       "    </tr>\n",
       "    <tr>\n",
       "      <th>4</th>\n",
       "      <td>5</td>\n",
       "      <td>0</td>\n",
       "      <td>13745950</td>\n",
       "      <td>73</td>\n",
       "      <td>188301</td>\n",
       "      <td>9</td>\n",
       "      <td>246350</td>\n",
       "      <td>1</td>\n",
       "      <td>2</td>\n",
       "      <td>0</td>\n",
       "      <td>...</td>\n",
       "      <td>5</td>\n",
       "      <td>6</td>\n",
       "      <td>6</td>\n",
       "      <td>6</td>\n",
       "      <td>5</td>\n",
       "      <td>5</td>\n",
       "      <td>6</td>\n",
       "      <td>6</td>\n",
       "      <td>5</td>\n",
       "      <td>6</td>\n",
       "    </tr>\n",
       "    <tr>\n",
       "      <th>...</th>\n",
       "      <td>...</td>\n",
       "      <td>...</td>\n",
       "      <td>...</td>\n",
       "      <td>...</td>\n",
       "      <td>...</td>\n",
       "      <td>...</td>\n",
       "      <td>...</td>\n",
       "      <td>...</td>\n",
       "      <td>...</td>\n",
       "      <td>...</td>\n",
       "      <td>...</td>\n",
       "      <td>...</td>\n",
       "      <td>...</td>\n",
       "      <td>...</td>\n",
       "      <td>...</td>\n",
       "      <td>...</td>\n",
       "      <td>...</td>\n",
       "      <td>...</td>\n",
       "      <td>...</td>\n",
       "      <td>...</td>\n",
       "      <td>...</td>\n",
       "    </tr>\n",
       "    <tr>\n",
       "      <th>995</th>\n",
       "      <td>996</td>\n",
       "      <td>0</td>\n",
       "      <td>5135090</td>\n",
       "      <td>8</td>\n",
       "      <td>641886</td>\n",
       "      <td>3</td>\n",
       "      <td>44445</td>\n",
       "      <td>1</td>\n",
       "      <td>3</td>\n",
       "      <td>1</td>\n",
       "      <td>...</td>\n",
       "      <td>6</td>\n",
       "      <td>6</td>\n",
       "      <td>7</td>\n",
       "      <td>6</td>\n",
       "      <td>7</td>\n",
       "      <td>6</td>\n",
       "      <td>6</td>\n",
       "      <td>6</td>\n",
       "      <td>6</td>\n",
       "      <td>6</td>\n",
       "    </tr>\n",
       "    <tr>\n",
       "      <th>996</th>\n",
       "      <td>997</td>\n",
       "      <td>0</td>\n",
       "      <td>10315690</td>\n",
       "      <td>49</td>\n",
       "      <td>210524</td>\n",
       "      <td>6</td>\n",
       "      <td>186545</td>\n",
       "      <td>1</td>\n",
       "      <td>2</td>\n",
       "      <td>0</td>\n",
       "      <td>...</td>\n",
       "      <td>6</td>\n",
       "      <td>7</td>\n",
       "      <td>6</td>\n",
       "      <td>5</td>\n",
       "      <td>6</td>\n",
       "      <td>5</td>\n",
       "      <td>7</td>\n",
       "      <td>6</td>\n",
       "      <td>6</td>\n",
       "      <td>6</td>\n",
       "    </tr>\n",
       "    <tr>\n",
       "      <th>997</th>\n",
       "      <td>998</td>\n",
       "      <td>0</td>\n",
       "      <td>2741290</td>\n",
       "      <td>10</td>\n",
       "      <td>274129</td>\n",
       "      <td>8</td>\n",
       "      <td>260700</td>\n",
       "      <td>2</td>\n",
       "      <td>4</td>\n",
       "      <td>0</td>\n",
       "      <td>...</td>\n",
       "      <td>5</td>\n",
       "      <td>6</td>\n",
       "      <td>6</td>\n",
       "      <td>6</td>\n",
       "      <td>5</td>\n",
       "      <td>6</td>\n",
       "      <td>4</td>\n",
       "      <td>5</td>\n",
       "      <td>6</td>\n",
       "      <td>5</td>\n",
       "    </tr>\n",
       "    <tr>\n",
       "      <th>998</th>\n",
       "      <td>999</td>\n",
       "      <td>0</td>\n",
       "      <td>11268990</td>\n",
       "      <td>15</td>\n",
       "      <td>751266</td>\n",
       "      <td>20</td>\n",
       "      <td>347700</td>\n",
       "      <td>1</td>\n",
       "      <td>3</td>\n",
       "      <td>0</td>\n",
       "      <td>...</td>\n",
       "      <td>5</td>\n",
       "      <td>4</td>\n",
       "      <td>4</td>\n",
       "      <td>4</td>\n",
       "      <td>4</td>\n",
       "      <td>4</td>\n",
       "      <td>5</td>\n",
       "      <td>5</td>\n",
       "      <td>4</td>\n",
       "      <td>4</td>\n",
       "    </tr>\n",
       "    <tr>\n",
       "      <th>999</th>\n",
       "      <td>1000</td>\n",
       "      <td>0</td>\n",
       "      <td>3182880</td>\n",
       "      <td>23</td>\n",
       "      <td>138386</td>\n",
       "      <td>19</td>\n",
       "      <td>367045</td>\n",
       "      <td>1</td>\n",
       "      <td>4</td>\n",
       "      <td>0</td>\n",
       "      <td>...</td>\n",
       "      <td>7</td>\n",
       "      <td>7</td>\n",
       "      <td>6</td>\n",
       "      <td>7</td>\n",
       "      <td>6</td>\n",
       "      <td>5</td>\n",
       "      <td>6</td>\n",
       "      <td>7</td>\n",
       "      <td>6</td>\n",
       "      <td>6</td>\n",
       "    </tr>\n",
       "  </tbody>\n",
       "</table>\n",
       "<p>1000 rows × 39 columns</p>\n",
       "</div>"
      ],
      "text/plain": [
       "     고객ID  이탈여부     총_매출액  방문빈도  1회_평균매출액  할인권_사용 횟수  총_할인_금액  고객등급  구매유형  \\\n",
       "0       1     0   4007080    17    235711          1     5445     1     4   \n",
       "1       2     1   3168400    14    226314         22   350995     2     4   \n",
       "2       3     0   2680780    18    148932          6   186045     1     4   \n",
       "3       4     0   5946600    17    349800          1     5195     1     4   \n",
       "4       5     0  13745950    73    188301          9   246350     1     2   \n",
       "..    ...   ...       ...   ...       ...        ...      ...   ...   ...   \n",
       "995   996     0   5135090     8    641886          3    44445     1     3   \n",
       "996   997     0  10315690    49    210524          6   186545     1     2   \n",
       "997   998     0   2741290    10    274129          8   260700     2     4   \n",
       "998   999     0  11268990    15    751266         20   347700     1     3   \n",
       "999  1000     0   3182880    23    138386         19   367045     1     4   \n",
       "\n",
       "     클레임접수여부  ...  매장_청결성  공간_편의성  시야_확보성  음향_적절성  안내_표지판_설명  친절성  신속성  책임성  \\\n",
       "0          0  ...       6       7       6       6          6    6    6    6   \n",
       "1          0  ...       7       7       6       6          6    5    3    6   \n",
       "2          1  ...       6       6       6       6          6    7    7    6   \n",
       "3          1  ...       6       6       5       6          6    6    6    6   \n",
       "4          0  ...       5       6       6       6          5    5    6    6   \n",
       "..       ...  ...     ...     ...     ...     ...        ...  ...  ...  ...   \n",
       "995        1  ...       6       6       7       6          7    6    6    6   \n",
       "996        0  ...       6       7       6       5          6    5    7    6   \n",
       "997        0  ...       5       6       6       6          5    6    4    5   \n",
       "998        0  ...       5       4       4       4          4    4    5    5   \n",
       "999        0  ...       7       7       6       7          6    5    6    7   \n",
       "\n",
       "     정확성  전문성  \n",
       "0      6    6  \n",
       "1      6    6  \n",
       "2      6    7  \n",
       "3      5    6  \n",
       "4      5    6  \n",
       "..   ...  ...  \n",
       "995    6    6  \n",
       "996    6    6  \n",
       "997    6    5  \n",
       "998    4    4  \n",
       "999    6    6  \n",
       "\n",
       "[1000 rows x 39 columns]"
      ]
     },
     "execution_count": 7,
     "metadata": {},
     "output_type": "execute_result"
    }
   ],
   "source": [
    "df"
   ]
  },
  {
   "cell_type": "code",
   "execution_count": 8,
   "metadata": {},
   "outputs": [
    {
     "data": {
      "text/html": [
       "<div>\n",
       "<style scoped>\n",
       "    .dataframe tbody tr th:only-of-type {\n",
       "        vertical-align: middle;\n",
       "    }\n",
       "\n",
       "    .dataframe tbody tr th {\n",
       "        vertical-align: top;\n",
       "    }\n",
       "\n",
       "    .dataframe thead th {\n",
       "        text-align: right;\n",
       "    }\n",
       "</style>\n",
       "<table border=\"1\" class=\"dataframe\">\n",
       "  <thead>\n",
       "    <tr style=\"text-align: right;\">\n",
       "      <th></th>\n",
       "      <th>0</th>\n",
       "      <th>1</th>\n",
       "    </tr>\n",
       "  </thead>\n",
       "  <tbody>\n",
       "    <tr>\n",
       "      <th>0</th>\n",
       "      <td>0.514844</td>\n",
       "      <td>1.178032</td>\n",
       "    </tr>\n",
       "    <tr>\n",
       "      <th>1</th>\n",
       "      <td>0.165253</td>\n",
       "      <td>-0.179305</td>\n",
       "    </tr>\n",
       "    <tr>\n",
       "      <th>2</th>\n",
       "      <td>-0.480147</td>\n",
       "      <td>-0.095375</td>\n",
       "    </tr>\n",
       "    <tr>\n",
       "      <th>3</th>\n",
       "      <td>-0.454941</td>\n",
       "      <td>2.072313</td>\n",
       "    </tr>\n",
       "    <tr>\n",
       "      <th>4</th>\n",
       "      <td>-0.637199</td>\n",
       "      <td>-1.514769</td>\n",
       "    </tr>\n",
       "    <tr>\n",
       "      <th>...</th>\n",
       "      <td>...</td>\n",
       "      <td>...</td>\n",
       "    </tr>\n",
       "    <tr>\n",
       "      <th>836</th>\n",
       "      <td>0.485662</td>\n",
       "      <td>0.910487</td>\n",
       "    </tr>\n",
       "    <tr>\n",
       "      <th>837</th>\n",
       "      <td>1.159119</td>\n",
       "      <td>-0.368889</td>\n",
       "    </tr>\n",
       "    <tr>\n",
       "      <th>838</th>\n",
       "      <td>0.225969</td>\n",
       "      <td>0.720475</td>\n",
       "    </tr>\n",
       "    <tr>\n",
       "      <th>839</th>\n",
       "      <td>-2.071884</td>\n",
       "      <td>-1.250773</td>\n",
       "    </tr>\n",
       "    <tr>\n",
       "      <th>840</th>\n",
       "      <td>0.727316</td>\n",
       "      <td>0.903662</td>\n",
       "    </tr>\n",
       "  </tbody>\n",
       "</table>\n",
       "<p>841 rows × 2 columns</p>\n",
       "</div>"
      ],
      "text/plain": [
       "            0         1\n",
       "0    0.514844  1.178032\n",
       "1    0.165253 -0.179305\n",
       "2   -0.480147 -0.095375\n",
       "3   -0.454941  2.072313\n",
       "4   -0.637199 -1.514769\n",
       "..        ...       ...\n",
       "836  0.485662  0.910487\n",
       "837  1.159119 -0.368889\n",
       "838  0.225969  0.720475\n",
       "839 -2.071884 -1.250773\n",
       "840  0.727316  0.903662\n",
       "\n",
       "[841 rows x 2 columns]"
      ]
     },
     "execution_count": 8,
     "metadata": {},
     "output_type": "execute_result"
    }
   ],
   "source": [
    "pd.DataFrame(fa.transform(X.dropna()))"
   ]
  },
  {
   "cell_type": "markdown",
   "metadata": {
    "slideshow": {
     "slide_type": "fragment"
    }
   },
   "source": [
    "- 모든 고객에 대해 산출된 요인 점수를 활용하여 추후 다양한 다변량 통계분석에 활용 가능"
   ]
  },
  {
   "cell_type": "markdown",
   "metadata": {
    "slideshow": {
     "slide_type": "slide"
    }
   },
   "source": [
    "### 8.2.5 요인회전(Factor Rotation)\n",
    "- 요인적재값에 의해 원 변수를 그룹화 하지만 그 결과가 언제가 명확하지는 않음\n",
    "    - 하나의 원 변수에 부하값이 큰 요인이 2개 이상 존재하는 경우\n",
    "    - 요인의 크기가 0을 중심으로  $\\pm$의 작은 값이 같이 있는 경우\n",
    "- 요인회전의 개념\n",
    "    $$\\Sigma = LL'+ \\Psi$$\n",
    "    - 요인의 개수가 k<q인 경우 요인적재값행렬 L의 해는 무수히 많음\n",
    "        - 임의의 직교행렬 $M$(즉, $MM'=M'M=I$)에 대해\n",
    "        $$\\Sigma = L(MM')L'+ \\Psi = L^* {L^*}' + \\Psi, ~~ L^* = LM$$\n",
    "    - 요인적재값의 구별이 쉬운 직교행렬을 찾아 회전 \n",
    "    "
   ]
  },
  {
   "cell_type": "markdown",
   "metadata": {
    "slideshow": {
     "slide_type": "slide"
    }
   },
   "source": [
    "- Wine example\n",
    "    - 와인의 특징을 7개의 변수로 측정 \n",
    "    \n",
    "    ![](figures/factor-rotation.png)\n",
    "    ![](figures/factor-rotation2.png)\n",
    "    - 회전 후 요인의 의미가 더 선명해짐\n",
    "    - factor1: price vs. acidity, alcohol, going with meat, hedonic\n",
    "    - factor2: sweetness/going with dessert"
   ]
  },
  {
   "cell_type": "markdown",
   "metadata": {
    "slideshow": {
     "slide_type": "slide"
    }
   },
   "source": [
    "#### 요인회전의 종류\n",
    "- 직교회전(orthogonal rotation): 회전된 요인들이 서로 상관되지 않도록 제약\n",
    "    - Varimax rotation\n",
    "        - 한 공통요인에 대해 각 변수가 가지는 요인적재값 제곱의 분산이 최대화 되도록 변환\n",
    "        - 요인적재값행렬의 각 열의 분산을 최대화\n",
    "    - Quartimax rotation \n",
    "        - 한 변수가 각 공통요인에서 차지하는 비중의 제곱에 대해 분산을 최대화하도록 변환\n",
    "        - 요인적재값행렬의 각 행의 분산을 최대화\n",
    "        - 하나의 일반적인 공통요인와 작은 여러 개의 그룹화된 공통요인를 만드는 경향"
   ]
  },
  {
   "cell_type": "markdown",
   "metadata": {
    "slideshow": {
     "slide_type": "slide"
    }
   },
   "source": [
    "- 사각회전(oblique rotation): 상관된 요인들을 허용\n",
    "    - Oblinmin rotation\n",
    "        - 요인들 사이의 상관성 정도를 제어하는데 사용되는 모수를 통해 단순한 구조를 찾음\n",
    "        - -0.5에서 0.5 사이\n",
    "    - Promax rotation\n",
    "        - varimax 회전에 의한 적재값을 어떤 승수로 올리는 방법\n",
    "        - 가능한 낮은 승수를 사용하고 요인들 사이에 낮은 상관성을 갖도록 하는 해 "
   ]
  },
  {
   "cell_type": "markdown",
   "metadata": {
    "slideshow": {
     "slide_type": "slide"
    }
   },
   "source": [
    "- 어떤 회전이 적절한가?\n",
    "    - 보편적인 답은 없음\n",
    "    - 데이터에 가장 잘 맞는 결과를 얻는데 관심이 있다면 사각회전 사용\n",
    "    - 결과를 일반화 하는데 더 관심이 있다면 직교회전 사용"
   ]
  },
  {
   "cell_type": "code",
   "execution_count": 9,
   "metadata": {
    "slideshow": {
     "slide_type": "slide"
    }
   },
   "outputs": [
    {
     "name": "stdout",
     "output_type": "stream",
     "text": [
      "요인적재량(No rotation) :\n",
      "                   0         1\n",
      "상품_품질      0.631842 -0.033082\n",
      "상품_다양성     0.605666 -0.132972\n",
      "가격_적절성     0.612659 -0.267406\n",
      "상품_진열_위치   0.665807 -0.271573\n",
      "상품_설명_표시   0.525105 -0.267045\n",
      "매장_청결성     0.589432  0.192381\n",
      "공간_편의성     0.672050  0.088040\n",
      "시야_확보성     0.571758  0.166326\n",
      "음향_적절성     0.573595  0.149829\n",
      "안내_표지판_설명  0.598461  0.388841\n",
      "\n",
      " 요인적재량(Varimax) :\n",
      "                   0         1\n",
      "상품_품질      0.424585  0.469091\n",
      "상품_다양성     0.335576  0.521441\n",
      "가격_적절성     0.245717  0.621675\n",
      "상품_진열_위치   0.280455  0.662115\n",
      "상품_설명_표시   0.183904  0.559667\n",
      "매장_청결성     0.553540  0.279346\n",
      "공간_편의성     0.538517  0.411586\n",
      "시야_확보성     0.522633  0.285351\n",
      "음향_적절성     0.512300  0.298342\n",
      "안내_표지판_설명  0.698504  0.146443\n"
     ]
    }
   ],
   "source": [
    "fa_none = FactorAnalyzer(n_factors=2, rotation=None).fit(X)\n",
    "\n",
    "print('요인적재량(No rotation) :\\n',pd.DataFrame(fa_none.loadings_, index=X.columns))\n",
    "print('\\n 요인적재량(Varimax) :\\n',pd.DataFrame(fa.loadings_, index=X.columns))"
   ]
  }
 ],
 "metadata": {
  "jupytext": {
   "cell_metadata_filter": "name,child,tags,-all",
   "main_language": "R",
   "notebook_metadata_filter": "-all"
  },
  "kernelspec": {
   "display_name": "Python3.8_DL",
   "language": "python",
   "name": "dl"
  },
  "language_info": {
   "codemirror_mode": {
    "name": "ipython",
    "version": 3
   },
   "file_extension": ".py",
   "mimetype": "text/x-python",
   "name": "python",
   "nbconvert_exporter": "python",
   "pygments_lexer": "ipython3",
   "version": "3.8.8"
  }
 },
 "nbformat": 4,
 "nbformat_minor": 4
}
