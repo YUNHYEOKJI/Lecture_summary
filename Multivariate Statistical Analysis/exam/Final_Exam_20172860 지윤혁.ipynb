{
 "cells": [
  {
   "cell_type": "markdown",
   "metadata": {},
   "source": [
    "# 기말고사 \n",
    "### 다변량통계분석: 2021년 1학기 "
   ]
  },
  {
   "cell_type": "markdown",
   "metadata": {},
   "source": [
    "<font color=blue>\n",
    "    \n",
    "-\t*각 문항에 답을 하기 위해 사용된 코드, 그래프, 표, 통계량 등을 반드시 모두 제시하세요.*\n",
    "- *손으로 답안을 작성하는 것이 편한 문제는 종이에 자유롭게 작성하여 사진을 찍어서 업로드 하면 됩니다. 단, 반드시 해당 문제의 답안 칸에 **\"답안을 별도로 업로드 하였음\"**이라고 표기해주세요.*\n",
    "- *아래의 문제에 답을 채워넣은 뒤 모든 결과물이 프린트 된 상태에서 `File>Download as>HTML(.html)` 형식으로 저장하여 e-campus를 통해 제출하세요. *\n",
    "- *본인의 계정으로 개인의 Zoom 회의실을 열고 \"전체화면 공유\"를 하여 시험시간 동안의 화면을 녹화하여 제출하세요.*"
   ]
  },
  {
   "cell_type": "markdown",
   "metadata": {},
   "source": [
    "#### 1. 두 개의 변수 x1, x2의 공분산 행렬이 아래와 같다. \n",
    "$$ \\Sigma = \\begin{bmatrix}\n",
    "3&2\\\\\n",
    "2&3\n",
    "\\end{bmatrix}$$\n",
    "#### (a)  spectral decomposition을 통해 $\\Sigma$의 고유값과 고유벡터를 구하시오. \n"
   ]
  },
  {
   "cell_type": "markdown",
   "metadata": {},
   "source": [
    "det(sigma - lambda * I) = (3 - lambda) * (3 - lambda) - 2 * 2 = 0 이므로 sigma의 고유값은 1,5이고\n",
    "\n",
    "lambda가 1일때 고유벡터는 (1/root(2), -1/root(2))이고, lambda가 5일때 고유벡터는 (1/root(2), 1/root(2))이다.\n",
    "\n",
    "자세한 풀이는 별도로 업로드"
   ]
  },
  {
   "cell_type": "markdown",
   "metadata": {},
   "source": [
    "#### (b) x1과 x2에 대해 주성분 분석을 수행하면 구해지는  첫 번째 주성분 PC1을 x1과 x2의 선형결합으로 표현하시오. (위의 (a)의 결과를 활용)"
   ]
  },
  {
   "cell_type": "markdown",
   "metadata": {},
   "source": [
    "답) 첫번째 PC = (1/root(2)) * x1 + (1/root(2)) * x2\n",
    "\n",
    "자세한 풀이는 별도로 업로드"
   ]
  },
  {
   "cell_type": "markdown",
   "metadata": {},
   "source": [
    "#### (c) 위의 (b)에서 구한 PC1은 총 분산의 몇 %를 설명하는가? "
   ]
  },
  {
   "cell_type": "markdown",
   "metadata": {},
   "source": [
    "답) 83.3% \n",
    "\n",
    "lamba1 = 5, lambda2 = 1이므로 PC1이 설명하는 총 분산의 비율은 (lambda1/(lambda1+lambda2)이므로 5/6에 해당하는 83.3%이다.\n",
    "\n",
    "자세한 풀이는 별도로 업로드"
   ]
  },
  {
   "cell_type": "markdown",
   "metadata": {},
   "source": [
    "#### 2. 군집분석에 대한 다음의 서술에 대해 True/False를 구분하고 False인 경우 그 이유를 설명하시오. \n",
    "#### (a) K-means clustering은 시행할 때마다 동일한 군집결과를 얻는다. "
   ]
  },
  {
   "cell_type": "markdown",
   "metadata": {},
   "source": [
    "답) False, Kmeans clustering의 경우에는 초기 파티션과 초기 시드에 다라 결과가 달라질 수 있기 때문에 시행할 때마다 동일한 군집 결과를 얻을 수 없다."
   ]
  },
  {
   "cell_type": "markdown",
   "metadata": {},
   "source": [
    "#### (b) Linkage clustering은 시행할 때마다 동일한 군집결과를 얻는다."
   ]
  },
  {
   "cell_type": "markdown",
   "metadata": {},
   "source": [
    "답) True"
   ]
  },
  {
   "cell_type": "markdown",
   "metadata": {},
   "source": [
    "#### (c) Linkage clustering은 군집 개수를 사전에 설정해야 한다. "
   ]
  },
  {
   "cell_type": "markdown",
   "metadata": {},
   "source": [
    "답) False, 군집 갯수는 사전에 결정하지 않는다. Linkage clustering의 경우에는 군집 간의 거리 차이에 큰 변화를 보이는 경우를 고려하여 군집의 개수를 사후에 결정한다.\n",
    "\n",
    "\n"
   ]
  },
  {
   "cell_type": "markdown",
   "metadata": {},
   "source": [
    "#### (d) DBSCAN은 군집 개수를 사전에 설정해야 한다. "
   ]
  },
  {
   "cell_type": "markdown",
   "metadata": {},
   "source": [
    "답) False, DBSCAN의 경우에 eps와 minPts를 결정해주면 군집의 개수가 자동선택된다."
   ]
  },
  {
   "cell_type": "markdown",
   "metadata": {},
   "source": [
    "#### (e) Gaussian mixture model에 기반한 clustering은 BIC를 기준으로 최적의 군집개수와 공분산 행렬의 형태를 결정할 수 있다. "
   ]
  },
  {
   "cell_type": "markdown",
   "metadata": {},
   "source": [
    "답) True"
   ]
  },
  {
   "cell_type": "markdown",
   "metadata": {},
   "source": [
    "#### 3. College30.csv 데이터셋은 1995년 US News와 World Report에 수록된 30개 대학교에 대한 기록을 포함하고 있다. 한 교육부 관계자는 아래의 변수들을 사용하여 각 대학의 특성을 파악하고자 한다. \n",
    "\n",
    "\n",
    "|변수명   |내용   |\n",
    "|---|---|\n",
    "|Top10perc|\t고교성적 상위 10% 학생의 비율|\n",
    "|Personal|\t개인 지출|\n",
    "|S.F.Ratio|\t교수 1인당 학생 비율|\n",
    "|perc.alumni|\t졸업생 기부 비율|\n",
    "|Expend|\t학생 1인당 교육지출|\n",
    "|Grad.Rate|\t졸업률|\n",
    "|Acc_rate|\t대입 합격자 수 / 대입 지원자 수 |\n",
    "|Enrl_rate|\t등록 신입생 수 / 대입 합격자 수 |\n",
    "\n",
    "\n"
   ]
  },
  {
   "cell_type": "code",
   "execution_count": 3,
   "metadata": {},
   "outputs": [],
   "source": [
    "import pandas as pd\n",
    "import seaborn as sns\n",
    "import matplotlib.pyplot as plt\n",
    "import numpy as np\n",
    "\n",
    "from sklearn.decomposition import PCA \n",
    "from sklearn.preprocessing import StandardScaler \n",
    "data_path = '../data/'"
   ]
  },
  {
   "cell_type": "code",
   "execution_count": 6,
   "metadata": {},
   "outputs": [
    {
     "data": {
      "text/html": [
       "<div>\n",
       "<style scoped>\n",
       "    .dataframe tbody tr th:only-of-type {\n",
       "        vertical-align: middle;\n",
       "    }\n",
       "\n",
       "    .dataframe tbody tr th {\n",
       "        vertical-align: top;\n",
       "    }\n",
       "\n",
       "    .dataframe thead th {\n",
       "        text-align: right;\n",
       "    }\n",
       "</style>\n",
       "<table border=\"1\" class=\"dataframe\">\n",
       "  <thead>\n",
       "    <tr style=\"text-align: right;\">\n",
       "      <th></th>\n",
       "      <th>Top10perc</th>\n",
       "      <th>Personal</th>\n",
       "      <th>S.F.Ratio</th>\n",
       "      <th>perc.alumni</th>\n",
       "      <th>Expend</th>\n",
       "      <th>Grad.Rate</th>\n",
       "      <th>Acc_rate</th>\n",
       "      <th>Enrl_rate</th>\n",
       "    </tr>\n",
       "  </thead>\n",
       "  <tbody>\n",
       "    <tr>\n",
       "      <th>Princeton University</th>\n",
       "      <td>90</td>\n",
       "      <td>1575</td>\n",
       "      <td>8.4</td>\n",
       "      <td>54</td>\n",
       "      <td>28320</td>\n",
       "      <td>99</td>\n",
       "      <td>0.154486</td>\n",
       "      <td>0.564643</td>\n",
       "    </tr>\n",
       "    <tr>\n",
       "      <th>Harvard University</th>\n",
       "      <td>90</td>\n",
       "      <td>1920</td>\n",
       "      <td>9.9</td>\n",
       "      <td>52</td>\n",
       "      <td>37219</td>\n",
       "      <td>100</td>\n",
       "      <td>0.156149</td>\n",
       "      <td>0.741801</td>\n",
       "    </tr>\n",
       "    <tr>\n",
       "      <th>Yale University</th>\n",
       "      <td>95</td>\n",
       "      <td>2115</td>\n",
       "      <td>5.8</td>\n",
       "      <td>49</td>\n",
       "      <td>40386</td>\n",
       "      <td>99</td>\n",
       "      <td>0.229145</td>\n",
       "      <td>0.536894</td>\n",
       "    </tr>\n",
       "    <tr>\n",
       "      <th>Amherst College</th>\n",
       "      <td>83</td>\n",
       "      <td>1598</td>\n",
       "      <td>8.4</td>\n",
       "      <td>63</td>\n",
       "      <td>21424</td>\n",
       "      <td>100</td>\n",
       "      <td>0.230590</td>\n",
       "      <td>0.421371</td>\n",
       "    </tr>\n",
       "    <tr>\n",
       "      <th>Brown University</th>\n",
       "      <td>87</td>\n",
       "      <td>1100</td>\n",
       "      <td>7.6</td>\n",
       "      <td>39</td>\n",
       "      <td>20440</td>\n",
       "      <td>97</td>\n",
       "      <td>0.257349</td>\n",
       "      <td>0.451374</td>\n",
       "    </tr>\n",
       "  </tbody>\n",
       "</table>\n",
       "</div>"
      ],
      "text/plain": [
       "                      Top10perc  Personal  S.F.Ratio  perc.alumni  Expend  \\\n",
       "Princeton University         90      1575        8.4           54   28320   \n",
       "Harvard University           90      1920        9.9           52   37219   \n",
       "Yale University              95      2115        5.8           49   40386   \n",
       "Amherst College              83      1598        8.4           63   21424   \n",
       "Brown University             87      1100        7.6           39   20440   \n",
       "\n",
       "                      Grad.Rate  Acc_rate  Enrl_rate  \n",
       "Princeton University         99  0.154486   0.564643  \n",
       "Harvard University          100  0.156149   0.741801  \n",
       "Yale University              99  0.229145   0.536894  \n",
       "Amherst College             100  0.230590   0.421371  \n",
       "Brown University             97  0.257349   0.451374  "
      ]
     },
     "execution_count": 6,
     "metadata": {},
     "output_type": "execute_result"
    }
   ],
   "source": [
    "data = pd.read_csv(data_path + \"College30.csv\", index_col=0)\n",
    "data.head()"
   ]
  },
  {
   "cell_type": "markdown",
   "metadata": {},
   "source": [
    "#### (a) 데이터를 표준화 한 후 8개의 변수를 사용하여 PCA 분석을 수행하고 각 주성분이 설명하는 총 분산의 비율을 프린트 하시오. "
   ]
  },
  {
   "cell_type": "code",
   "execution_count": 9,
   "metadata": {},
   "outputs": [],
   "source": [
    "X_scale = StandardScaler().fit_transform(data)"
   ]
  },
  {
   "cell_type": "code",
   "execution_count": 10,
   "metadata": {},
   "outputs": [
    {
     "data": {
      "text/plain": [
       "((30, 8), (30, 8))"
      ]
     },
     "execution_count": 10,
     "metadata": {},
     "output_type": "execute_result"
    }
   ],
   "source": [
    "data.shape, X_scale.shape"
   ]
  },
  {
   "cell_type": "code",
   "execution_count": 11,
   "metadata": {},
   "outputs": [],
   "source": [
    "pca = PCA().fit(X_scale)"
   ]
  },
  {
   "cell_type": "code",
   "execution_count": 37,
   "metadata": {},
   "outputs": [
    {
     "data": {
      "text/plain": [
       "array([0.47364012, 0.19555032, 0.12525279, 0.09590205, 0.04219235,\n",
       "       0.03950054, 0.02140291, 0.00655891])"
      ]
     },
     "execution_count": 37,
     "metadata": {},
     "output_type": "execute_result"
    }
   ],
   "source": [
    "pca.explained_variance_ratio_"
   ]
  },
  {
   "cell_type": "markdown",
   "metadata": {},
   "source": [
    "PC1, PC2, PC3순으로 각각의 주성분이 설명하는 총 분산의 비율은 47.3%, 19.6%, 12.5%이다. (PC4~PC7이 설명하는 분산의 비율은 각각 9.6%, 4.2%, 4.0%, 2.1%, 0.7%이다.)"
   ]
  },
  {
   "cell_type": "code",
   "execution_count": 38,
   "metadata": {},
   "outputs": [
    {
     "data": {
      "text/html": [
       "<div>\n",
       "<style scoped>\n",
       "    .dataframe tbody tr th:only-of-type {\n",
       "        vertical-align: middle;\n",
       "    }\n",
       "\n",
       "    .dataframe tbody tr th {\n",
       "        vertical-align: top;\n",
       "    }\n",
       "\n",
       "    .dataframe thead th {\n",
       "        text-align: right;\n",
       "    }\n",
       "</style>\n",
       "<table border=\"1\" class=\"dataframe\">\n",
       "  <thead>\n",
       "    <tr style=\"text-align: right;\">\n",
       "      <th></th>\n",
       "      <th>0</th>\n",
       "    </tr>\n",
       "  </thead>\n",
       "  <tbody>\n",
       "    <tr>\n",
       "      <th>PC1</th>\n",
       "      <td>0.473640</td>\n",
       "    </tr>\n",
       "    <tr>\n",
       "      <th>PC2</th>\n",
       "      <td>0.195550</td>\n",
       "    </tr>\n",
       "    <tr>\n",
       "      <th>PC3</th>\n",
       "      <td>0.125253</td>\n",
       "    </tr>\n",
       "    <tr>\n",
       "      <th>PC4</th>\n",
       "      <td>0.095902</td>\n",
       "    </tr>\n",
       "    <tr>\n",
       "      <th>PC5</th>\n",
       "      <td>0.042192</td>\n",
       "    </tr>\n",
       "    <tr>\n",
       "      <th>PC6</th>\n",
       "      <td>0.039501</td>\n",
       "    </tr>\n",
       "    <tr>\n",
       "      <th>PC7</th>\n",
       "      <td>0.021403</td>\n",
       "    </tr>\n",
       "    <tr>\n",
       "      <th>PC8</th>\n",
       "      <td>0.006559</td>\n",
       "    </tr>\n",
       "  </tbody>\n",
       "</table>\n",
       "</div>"
      ],
      "text/plain": [
       "            0\n",
       "PC1  0.473640\n",
       "PC2  0.195550\n",
       "PC3  0.125253\n",
       "PC4  0.095902\n",
       "PC5  0.042192\n",
       "PC6  0.039501\n",
       "PC7  0.021403\n",
       "PC8  0.006559"
      ]
     },
     "execution_count": 38,
     "metadata": {},
     "output_type": "execute_result"
    }
   ],
   "source": [
    "pd.DataFrame(pca.explained_variance_ratio_,\n",
    "            index = ['PC1','PC2','PC3','PC4','PC5','PC6','PC7','PC8'])"
   ]
  },
  {
   "cell_type": "markdown",
   "metadata": {},
   "source": [
    "#### (b) 아래의 두 가지 기준에 의해 적절한 축소 차원의 수를 결정하시오. \n",
    "#### (b-1) 주성분이 설명하는 총 설명의 비율이 70% 이상이 되는 최소 차원 "
   ]
  },
  {
   "cell_type": "code",
   "execution_count": 17,
   "metadata": {},
   "outputs": [
    {
     "data": {
      "text/plain": [
       "array([0.47364012, 0.66919044, 0.79444323, 0.89034528, 0.93253763,\n",
       "       0.97203817, 0.99344109, 1.        ])"
      ]
     },
     "execution_count": 17,
     "metadata": {},
     "output_type": "execute_result"
    }
   ],
   "source": [
    "np.cumsum(pca.explained_variance_ratio_)"
   ]
  },
  {
   "cell_type": "markdown",
   "metadata": {},
   "source": [
    "답) 총 설명의 비율이 70%이상이 되는 최소차원은 3차원이다.\n",
    "7개의 변수를 3개의 주성분점수로 축약할 때, 총분산의 79.4% 설명가능하다."
   ]
  },
  {
   "cell_type": "markdown",
   "metadata": {},
   "source": [
    "#### (b-2) 고유값이 1 이하인 주성분을 제외"
   ]
  },
  {
   "cell_type": "code",
   "execution_count": 18,
   "metadata": {},
   "outputs": [
    {
     "data": {
      "text/plain": [
       "array([3.91978029, 1.6183475 , 1.03657479, 0.79367212, 0.34917809,\n",
       "       0.32690105, 0.17712756, 0.05428066])"
      ]
     },
     "execution_count": 18,
     "metadata": {},
     "output_type": "execute_result"
    }
   ],
   "source": [
    "pca.explained_variance_"
   ]
  },
  {
   "cell_type": "markdown",
   "metadata": {},
   "source": [
    "답) 고유값이 1이하인 주성분을 제외하면 3차원으로 축소시킬 수 있다."
   ]
  },
  {
   "cell_type": "markdown",
   "metadata": {},
   "source": [
    "#### (c) 첫 두 개의 주성분을 사용하여 행렬도(biplot)을 그리시오. (대학 이름을 함께 프린트) "
   ]
  },
  {
   "cell_type": "code",
   "execution_count": 19,
   "metadata": {},
   "outputs": [],
   "source": [
    "def biplot(score,coeff, labels=None, index =data.index):\n",
    "    xs = score[:,0]\n",
    "    ys = score[:,1]\n",
    "    n = coeff.shape[0]\n",
    "    scalex = 1.0/(xs.max() - xs.min())\n",
    "    scaley = 1.0/(ys.max() - ys.min())\n",
    "    plt.scatter(xs * scalex,ys * scaley,s=5)\n",
    "    for i in range(n):\n",
    "        plt.arrow(0, 0, coeff[i,0], coeff[i,1],color = 'r',alpha = 0.5)\n",
    "        if labels is None:\n",
    "            plt.text(coeff[i,0]* 1.15, coeff[i,1] * 1.15, \"Var\"+str(i+1), color = 'green', ha = 'center', va = 'center')\n",
    "        else:\n",
    "            plt.text(coeff[i,0]* 1.15, coeff[i,1] * 1.15, labels[i], color = 'g', ha = 'center', va = 'center')\n",
    "    for i in range(score.shape[0]):\n",
    "        if index is None:\n",
    "            plt.text((xs * scalex)[i] , (ys * scaley)[i], str(i))\n",
    "        else:\n",
    "            plt.text((xs * scalex)[i] , (ys * scaley)[i], index[i])\n",
    "\n",
    "    plt.xlabel(\"PC{}\".format(1))\n",
    "    plt.ylabel(\"PC{}\".format(2))\n",
    "    plt.grid()"
   ]
  },
  {
   "cell_type": "code",
   "execution_count": 20,
   "metadata": {},
   "outputs": [],
   "source": [
    "x_reduced = pca.transform(X_scale)"
   ]
  },
  {
   "cell_type": "code",
   "execution_count": 21,
   "metadata": {},
   "outputs": [
    {
     "data": {
      "image/png": "[encoded data removed]",
      "text/plain": [
       "<Figure size 864x576 with 1 Axes>"
      ]
     },
     "metadata": {
      "needs_background": "light"
     },
     "output_type": "display_data"
    }
   ],
   "source": [
    "plt.figure(figsize=(12,8))\n",
    "biplot(x_reduced[:,0:2],np.transpose(pca.components_[0:2, :]), data.columns )"
   ]
  },
  {
   "cell_type": "markdown",
   "metadata": {},
   "source": [
    "#### (d) 행렬도를 통해 Harvard University와 Huron University의 특성을 원변수 차원에서 비교하여 설명하시오. "
   ]
  },
  {
   "cell_type": "markdown",
   "metadata": {},
   "source": [
    "답) harvard university와 huron university 모두 Personal이라는 변수에서 높은 값을 가지며, Acc_rate에 대해서는 모두 낮은 값을 가진다\n",
    "\n",
    "huron univrsity의 경우에는 Personal, Enrl_rate, SF Ratio에서 높은 값을 가지며, 나머지 변수에 대해서는 적은 값을 가진다.\n",
    "\n",
    "harvard university의 경우네는 Personal, Expend, perc.alumni, Top10 perc, Grad Rate, Enri_rate에서 높은 값을 가지나, S.F Ratio와 Acc_rate에 대해서는 낮은 값을 가진다."
   ]
  },
  {
   "cell_type": "markdown",
   "metadata": {},
   "source": [
    "#### (e) 첫 두 개의 주성분 점수를 활용하여 ward's method로 군집분석을 실시하고 dendrogram을 프린트하시오. "
   ]
  },
  {
   "cell_type": "code",
   "execution_count": 25,
   "metadata": {},
   "outputs": [],
   "source": [
    "from sklearn.cluster import AgglomerativeClustering\n",
    "from scipy.cluster.hierarchy import dendrogram, linkage, cut_tree"
   ]
  },
  {
   "cell_type": "code",
   "execution_count": 50,
   "metadata": {},
   "outputs": [
    {
     "data": {
      "image/png": "[encoded data removed]",
      "text/plain": [
       "<Figure size 864x432 with 1 Axes>"
      ]
     },
     "metadata": {
      "needs_background": "light"
     },
     "output_type": "display_data"
    }
   ],
   "source": [
    "hc_ward = linkage(x_reduced[:,0:2], method=\"ward\")\n",
    "\n",
    "plt.figure(figsize = (12,6))\n",
    "dendrogram(hc_ward)\n",
    "plt.show()"
   ]
  },
  {
   "cell_type": "markdown",
   "metadata": {},
   "source": [
    "#### 4. 한 항공사의 고객만족도 설문조사 결과를 사용하여 Exploratory Factor Analysis를 진행한 결과 아래와 같은 요인적재행렬(factor loading matrix)을 얻었다. (표준화 된 변수에 대해 분석을 수행한 결과임)\n",
    "\n",
    "\n",
    "|    |Factor 1|Factor 2| Factor 3|\n",
    "|----|--------|--------|---------|\n",
    "|Great hospitatliy| 0.98| -0.04|0.02|\n",
    "|Flight is on time| 0.95|-0.01|0.18|\n",
    "|Great Food|0.92|0.04|-0.05|\n",
    "|Friendly atmosphere|0.62|0.17|-0.33|\n",
    "|Frequently flyer program|-0.03|0.97|-0.01|\n",
    "|Flights are economic|-0.02|0.96|0.09|\n",
    "|No hassles in boarding|-0.07|0.95|0.09|\n",
    "|Good flight times| -0.09|0.19|0.96|\n",
    "|Seats are comfortable|0.03|0.09|0.95|\n",
    "|Loyalty or attachment|-0.19|-0.42|-0.09|"
   ]
  },
  {
   "cell_type": "markdown",
   "metadata": {},
   "source": [
    "#### (a) Factor1으로부터 상대적으로 큰 영향을 받는 변수들을 나열하시오. \n"
   ]
  },
  {
   "cell_type": "markdown",
   "metadata": {},
   "source": [
    "답) Great hospitatliy, Flight is on time, , Great Food, (Friendly atmosphere의 경우에는 앞의 3개의 변수만큼 큰 영향은 아니지만 비교적 큰 영향을 준다고 할 수 있다.)"
   ]
  },
  {
   "cell_type": "markdown",
   "metadata": {},
   "source": [
    "#### (b) Great hospitality의 분산 중 3개의 Factor가 설명하는 분산의 비율을 구하시오. "
   ]
  },
  {
   "cell_type": "code",
   "execution_count": 51,
   "metadata": {},
   "outputs": [
    {
     "data": {
      "text/plain": [
       "0.9623999999999999"
      ]
     },
     "execution_count": 51,
     "metadata": {},
     "output_type": "execute_result"
    }
   ],
   "source": [
    "(0.98)**2+(-0.04)**2+(0.02)**2"
   ]
  },
  {
   "cell_type": "markdown",
   "metadata": {},
   "source": [
    "답) 3개의 Factor가 설명하는 분산의 비율은 96.2%이다"
   ]
  }
 ],
 "metadata": {
  "kernelspec": {
   "display_name": "Python3.8_DL",
   "language": "python",
   "name": "dl"
  },
  "language_info": {
   "codemirror_mode": {
    "name": "ipython",
    "version": 3
   },
   "file_extension": ".py",
   "mimetype": "text/x-python",
   "name": "python",
   "nbconvert_exporter": "python",
   "pygments_lexer": "ipython3",
   "version": "3.8.8"
  }
 },
 "nbformat": 4,
 "nbformat_minor": 4
}
