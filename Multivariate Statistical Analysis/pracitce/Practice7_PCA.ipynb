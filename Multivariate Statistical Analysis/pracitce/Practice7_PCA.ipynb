{
 "cells": [
  {
   "cell_type": "markdown",
   "metadata": {},
   "source": [
    "Bulls.csv 는 경매시장에서 거래된 76마리의 어린(2살 이하) 황소의 특성과 거래가격(SalePr)에 관한 자료이다. 변수 설명은 아래와 같다.\n",
    "-\tBreed=1 if Angus, 5 if Hereford, 8 if Simental\n",
    "-\tFtFrBody=fat free body (pounds)\n",
    "-\tFrame=Scale from 1(small) to 8 (large)\n",
    "-\tSaleHt=Sale height at shoulder (inches)\n",
    "-\tYrHgt=Yearling height at shoulder (inches)\n",
    "-\tPrctFFB=Percent fat-free body\n",
    "-\tBkFat=Back fat (inches)\n",
    "-\tSaleWt=Sale weight (pounds)\n",
    "\n",
    "SalePr와 Breed 변수를 제외한 7개의 변수의 상관계수 행렬을 사용하여 주성분분석을 시행하고 아래의 질문에 답하시오. \n"
   ]
  },
  {
   "cell_type": "code",
   "execution_count": 1,
   "metadata": {},
   "outputs": [],
   "source": [
    "import pandas as pd\n",
    "import numpy as np\n",
    "import seaborn as sns\n",
    "import matplotlib.pyplot as plt \n",
    "\n",
    "from sklearn.decomposition import PCA # 주성분 분석\n",
    "from sklearn.preprocessing import StandardScaler # 표준화\n",
    "\n",
    "data_path = '../data/'"
   ]
  },
  {
   "cell_type": "code",
   "execution_count": 2,
   "metadata": {},
   "outputs": [],
   "source": [
    "data = pd.read_csv(data_path + 'bulls.csv')"
   ]
  },
  {
   "cell_type": "markdown",
   "metadata": {},
   "source": [
    "1. 각 주성분의 분산을 사용하여 scree plot을 그리고 누적분산 설명비율을 계산하시오. 적절한 주성분의 개수는 무엇인가? "
   ]
  },
  {
   "cell_type": "code",
   "execution_count": 3,
   "metadata": {},
   "outputs": [
    {
     "data": {
      "text/html": [
       "<div>\n",
       "<style scoped>\n",
       "    .dataframe tbody tr th:only-of-type {\n",
       "        vertical-align: middle;\n",
       "    }\n",
       "\n",
       "    .dataframe tbody tr th {\n",
       "        vertical-align: top;\n",
       "    }\n",
       "\n",
       "    .dataframe thead th {\n",
       "        text-align: right;\n",
       "    }\n",
       "</style>\n",
       "<table border=\"1\" class=\"dataframe\">\n",
       "  <thead>\n",
       "    <tr style=\"text-align: right;\">\n",
       "      <th></th>\n",
       "      <th>YrHgt</th>\n",
       "      <th>FtFrBody</th>\n",
       "      <th>PrctFFB</th>\n",
       "      <th>Frame</th>\n",
       "      <th>BkFat</th>\n",
       "      <th>SaleHt</th>\n",
       "      <th>SaleWt</th>\n",
       "    </tr>\n",
       "  </thead>\n",
       "  <tbody>\n",
       "    <tr>\n",
       "      <th>0</th>\n",
       "      <td>51.0</td>\n",
       "      <td>1128</td>\n",
       "      <td>70.9</td>\n",
       "      <td>7</td>\n",
       "      <td>0.25</td>\n",
       "      <td>54.8</td>\n",
       "      <td>1720</td>\n",
       "    </tr>\n",
       "    <tr>\n",
       "      <th>1</th>\n",
       "      <td>51.9</td>\n",
       "      <td>1108</td>\n",
       "      <td>72.1</td>\n",
       "      <td>7</td>\n",
       "      <td>0.25</td>\n",
       "      <td>55.3</td>\n",
       "      <td>1575</td>\n",
       "    </tr>\n",
       "    <tr>\n",
       "      <th>2</th>\n",
       "      <td>49.9</td>\n",
       "      <td>1011</td>\n",
       "      <td>71.6</td>\n",
       "      <td>6</td>\n",
       "      <td>0.15</td>\n",
       "      <td>53.1</td>\n",
       "      <td>1410</td>\n",
       "    </tr>\n",
       "    <tr>\n",
       "      <th>3</th>\n",
       "      <td>53.1</td>\n",
       "      <td>993</td>\n",
       "      <td>68.9</td>\n",
       "      <td>8</td>\n",
       "      <td>0.35</td>\n",
       "      <td>56.4</td>\n",
       "      <td>1595</td>\n",
       "    </tr>\n",
       "    <tr>\n",
       "      <th>4</th>\n",
       "      <td>51.2</td>\n",
       "      <td>996</td>\n",
       "      <td>68.6</td>\n",
       "      <td>7</td>\n",
       "      <td>0.25</td>\n",
       "      <td>55.0</td>\n",
       "      <td>1488</td>\n",
       "    </tr>\n",
       "  </tbody>\n",
       "</table>\n",
       "</div>"
      ],
      "text/plain": [
       "   YrHgt  FtFrBody  PrctFFB  Frame  BkFat  SaleHt  SaleWt\n",
       "0   51.0      1128     70.9      7   0.25    54.8    1720\n",
       "1   51.9      1108     72.1      7   0.25    55.3    1575\n",
       "2   49.9      1011     71.6      6   0.15    53.1    1410\n",
       "3   53.1       993     68.9      8   0.35    56.4    1595\n",
       "4   51.2       996     68.6      7   0.25    55.0    1488"
      ]
     },
     "execution_count": 3,
     "metadata": {},
     "output_type": "execute_result"
    }
   ],
   "source": [
    "X = data.iloc[:,2:]\n",
    "X.head()"
   ]
  },
  {
   "cell_type": "code",
   "execution_count": 4,
   "metadata": {},
   "outputs": [],
   "source": [
    "X_scale = StandardScaler().fit_transform(X)"
   ]
  },
  {
   "cell_type": "code",
   "execution_count": 5,
   "metadata": {},
   "outputs": [
    {
     "data": {
      "text/plain": [
       "(76, 7)"
      ]
     },
     "execution_count": 5,
     "metadata": {},
     "output_type": "execute_result"
    }
   ],
   "source": [
    "X_scale.shape"
   ]
  },
  {
   "cell_type": "code",
   "execution_count": 6,
   "metadata": {},
   "outputs": [],
   "source": [
    "pca = PCA().fit(X_scale)"
   ]
  },
  {
   "cell_type": "code",
   "execution_count": 7,
   "metadata": {},
   "outputs": [
    {
     "data": {
      "text/plain": [
       "array([0.58867113, 0.7796896 , 0.8856014 , 0.945805  , 0.9723487 ,\n",
       "       0.99327761, 1.        ])"
      ]
     },
     "execution_count": 7,
     "metadata": {},
     "output_type": "execute_result"
    }
   ],
   "source": [
    "np.cumsum(pca.explained_variance_ratio_)"
   ]
  },
  {
   "cell_type": "code",
   "execution_count": 8,
   "metadata": {},
   "outputs": [
    {
     "data": {
      "image/png": "[encoded data removed]",
      "text/plain": [
       "<Figure size 432x288 with 1 Axes>"
      ]
     },
     "metadata": {
      "needs_background": "light"
     },
     "output_type": "display_data"
    }
   ],
   "source": [
    "plt.plot(np.arange(1,X_scale.shape[1]+1), pca.explained_variance_ratio_)\n",
    "plt.xlabel('Number of PCA')\n",
    "plt.ylabel('Explained variance ratio')\n",
    "plt.show()"
   ]
  },
  {
   "cell_type": "markdown",
   "metadata": {},
   "source": [
    "7개의 변수를 2개의 주성분점수로 축약할 때, 총분산의 약 80% 설명가능하고, 엘보우 포인트 역시 주성분 개수가 2일 때 존재하므로, 상관계수행렬을 이용한 pca는 pc2까지 선택하는 것이 좋다."
   ]
  },
  {
   "cell_type": "markdown",
   "metadata": {},
   "source": [
    "답) 70%이상을 가지는 최소 dimension은 2개"
   ]
  },
  {
   "cell_type": "code",
   "execution_count": 9,
   "metadata": {},
   "outputs": [
    {
     "data": {
      "text/plain": [
       "array([4.17564057, 1.35495769, 0.75126765, 0.42704422, 0.18828334,\n",
       "       0.14845573, 0.04768413])"
      ]
     },
     "execution_count": 9,
     "metadata": {},
     "output_type": "execute_result"
    }
   ],
   "source": [
    "pca.explained_variance_"
   ]
  },
  {
   "cell_type": "markdown",
   "metadata": {},
   "source": [
    "#### lambda의 값 (pca.explained_variance_) 고유벡터의 값을 기준으로\n",
    "- 1보다 큰 것을 기준으로 하면 2개\n",
    "- 0.7보다 큰 것을 기준으로 하면 3개"
   ]
  },
  {
   "cell_type": "markdown",
   "metadata": {},
   "source": [
    "2.\t첫 두 개의 주성분을 계산하는데 사용된 rotation값을 찾으시오."
   ]
  },
  {
   "cell_type": "code",
   "execution_count": 10,
   "metadata": {},
   "outputs": [
    {
     "data": {
      "text/plain": [
       "(array([ 0.44993132,  0.41232559,  0.35556181,  0.4339569 , -0.1867048 ,\n",
       "         0.45285382,  0.26994696]),\n",
       " array([-0.04279022,  0.12983655, -0.31550779,  0.00772821,  0.71471936,\n",
       "         0.10131509,  0.60051483]))"
      ]
     },
     "execution_count": 10,
     "metadata": {},
     "output_type": "execute_result"
    }
   ],
   "source": [
    "pca.components_[0], pca.components_[1]"
   ]
  },
  {
   "cell_type": "code",
   "execution_count": 11,
   "metadata": {},
   "outputs": [
    {
     "data": {
      "text/html": [
       "<div>\n",
       "<style scoped>\n",
       "    .dataframe tbody tr th:only-of-type {\n",
       "        vertical-align: middle;\n",
       "    }\n",
       "\n",
       "    .dataframe tbody tr th {\n",
       "        vertical-align: top;\n",
       "    }\n",
       "\n",
       "    .dataframe thead th {\n",
       "        text-align: right;\n",
       "    }\n",
       "</style>\n",
       "<table border=\"1\" class=\"dataframe\">\n",
       "  <thead>\n",
       "    <tr style=\"text-align: right;\">\n",
       "      <th></th>\n",
       "      <th>YrHgt</th>\n",
       "      <th>FtFrBody</th>\n",
       "      <th>PrctFFB</th>\n",
       "      <th>Frame</th>\n",
       "      <th>BkFat</th>\n",
       "      <th>SaleHt</th>\n",
       "      <th>SaleWt</th>\n",
       "    </tr>\n",
       "  </thead>\n",
       "  <tbody>\n",
       "    <tr>\n",
       "      <th>PC1</th>\n",
       "      <td>0.449931</td>\n",
       "      <td>0.412326</td>\n",
       "      <td>0.355562</td>\n",
       "      <td>0.433957</td>\n",
       "      <td>-0.186705</td>\n",
       "      <td>0.452854</td>\n",
       "      <td>0.269947</td>\n",
       "    </tr>\n",
       "    <tr>\n",
       "      <th>PC2</th>\n",
       "      <td>-0.042790</td>\n",
       "      <td>0.129837</td>\n",
       "      <td>-0.315508</td>\n",
       "      <td>0.007728</td>\n",
       "      <td>0.714719</td>\n",
       "      <td>0.101315</td>\n",
       "      <td>0.600515</td>\n",
       "    </tr>\n",
       "  </tbody>\n",
       "</table>\n",
       "</div>"
      ],
      "text/plain": [
       "        YrHgt  FtFrBody   PrctFFB     Frame     BkFat    SaleHt    SaleWt\n",
       "PC1  0.449931  0.412326  0.355562  0.433957 -0.186705  0.452854  0.269947\n",
       "PC2 -0.042790  0.129837 -0.315508  0.007728  0.714719  0.101315  0.600515"
      ]
     },
     "execution_count": 11,
     "metadata": {},
     "output_type": "execute_result"
    }
   ],
   "source": [
    "pd.DataFrame(pca.components_, index = ['PC1','PC2','PC3','PC4','PC5','PC6','PC7'],\n",
    "            columns=X.columns)[:2]"
   ]
  },
  {
   "cell_type": "code",
   "execution_count": 12,
   "metadata": {},
   "outputs": [
    {
     "data": {
      "text/plain": [
       "array([ 0.44993132,  0.41232559,  0.35556181,  0.4339569 , -0.1867048 ,\n",
       "        0.45285382,  0.26994696])"
      ]
     },
     "execution_count": 12,
     "metadata": {},
     "output_type": "execute_result"
    }
   ],
   "source": [
    "pca.components_[0]"
   ]
  },
  {
   "cell_type": "code",
   "execution_count": 13,
   "metadata": {},
   "outputs": [
    {
     "data": {
      "text/plain": [
       "array([-0.04279022,  0.12983655, -0.31550779,  0.00772821,  0.71471936,\n",
       "        0.10131509,  0.60051483])"
      ]
     },
     "execution_count": 13,
     "metadata": {},
     "output_type": "execute_result"
    }
   ],
   "source": [
    "pca.components_[1]"
   ]
  },
  {
   "cell_type": "markdown",
   "metadata": {},
   "source": [
    "3.\t각 주성분의 rotation값을 barplot을 사용해 비교하고 주성분의 의미를 해석하시오."
   ]
  },
  {
   "cell_type": "code",
   "execution_count": 14,
   "metadata": {},
   "outputs": [
    {
     "data": {
      "text/plain": [
       "Index(['YrHgt', 'FtFrBody', 'PrctFFB', 'Frame', 'BkFat', 'SaleHt', 'SaleWt'], dtype='object')"
      ]
     },
     "execution_count": 14,
     "metadata": {},
     "output_type": "execute_result"
    }
   ],
   "source": [
    "data.columns[2:]"
   ]
  },
  {
   "cell_type": "markdown",
   "metadata": {},
   "source": [
    "#### PC1"
   ]
  },
  {
   "cell_type": "code",
   "execution_count": 15,
   "metadata": {},
   "outputs": [
    {
     "data": {
      "image/png": "[encoded data removed]",
      "text/plain": [
       "<Figure size 432x288 with 1 Axes>"
      ]
     },
     "metadata": {
      "needs_background": "light"
     },
     "output_type": "display_data"
    }
   ],
   "source": [
    "plt.bar(x=data.columns[2:], height=pca.components_[0])\n",
    "plt.title('PC1')\n",
    "plt.ylabel('Rotation or Loading')\n",
    "plt.show()"
   ]
  },
  {
   "cell_type": "markdown",
   "metadata": {},
   "source": [
    "대부분의 변수가 영향을 주며, SaleWt와 BkFat 영향은 다른 변수에 비해 적다, 또한 BkFat은 음의 영향을 준다."
   ]
  },
  {
   "cell_type": "markdown",
   "metadata": {},
   "source": [
    "#### PC2"
   ]
  },
  {
   "cell_type": "code",
   "execution_count": 16,
   "metadata": {},
   "outputs": [
    {
     "data": {
      "image/png": "[encoded data removed]",
      "text/plain": [
       "<Figure size 432x288 with 1 Axes>"
      ]
     },
     "metadata": {
      "needs_background": "light"
     },
     "output_type": "display_data"
    }
   ],
   "source": [
    "plt.bar(x=data.columns[2:], height=pca.components_[1])\n",
    "plt.title('PC2')\n",
    "plt.ylabel('Rotation or Loading')\n",
    "plt.show()"
   ]
  },
  {
   "cell_type": "markdown",
   "metadata": {},
   "source": [
    "BkFat과 SaleWt가 가장 큰 영향을 미치고, 나머지 변수는 큰 영향을 주지 않으며, PrctFFB는 음의 영향을 준다"
   ]
  },
  {
   "cell_type": "markdown",
   "metadata": {},
   "source": [
    "4.\t행렬도를 사용해 원변수와 주성분의 관계, 원변수 간의 상관관계, 특이한 관측치의 존재 유무 등을 파악하고 설명하시오. "
   ]
  },
  {
   "cell_type": "code",
   "execution_count": 17,
   "metadata": {},
   "outputs": [],
   "source": [
    "def biplot(score,coeff, labels=None, index = X.index):\n",
    "    xs = score[:,0]\n",
    "    ys = score[:,1]\n",
    "    n = coeff.shape[0]\n",
    "    scalex = 1.0/(xs.max() - xs.min())\n",
    "    scaley = 1.0/(ys.max() - ys.min())\n",
    "    plt.scatter(xs * scalex,ys * scaley,s=5)\n",
    "    for i in range(n):\n",
    "        plt.arrow(0, 0, coeff[i,0], coeff[i,1],color = 'r',alpha = 0.5)\n",
    "        if labels is None:\n",
    "            plt.text(coeff[i,0]* 1.15, coeff[i,1] * 1.15, \"Var\"+str(i+1), color = 'green', ha = 'center', va = 'center')\n",
    "        else:\n",
    "            plt.text(coeff[i,0]* 1.15, coeff[i,1] * 1.15, labels[i], color = 'g', ha = 'center', va = 'center')\n",
    "    for i in range(score.shape[0]):\n",
    "        if index is None:\n",
    "            plt.text((xs * scalex)[i] , (ys * scaley)[i], str(i))\n",
    "        else:\n",
    "            plt.text((xs * scalex)[i] , (ys * scaley)[i], index[i])\n",
    "\n",
    "    plt.xlabel(\"PC{}\".format(1))\n",
    "    plt.ylabel(\"PC{}\".format(2))\n",
    "    plt.grid()"
   ]
  },
  {
   "cell_type": "code",
   "execution_count": 18,
   "metadata": {},
   "outputs": [],
   "source": [
    "x_reduced = pca.transform(X_scale)"
   ]
  },
  {
   "cell_type": "code",
   "execution_count": 19,
   "metadata": {},
   "outputs": [
    {
     "data": {
      "image/png": "[encoded data removed]",
      "text/plain": [
       "<Figure size 864x576 with 1 Axes>"
      ]
     },
     "metadata": {
      "needs_background": "light"
     },
     "output_type": "display_data"
    }
   ],
   "source": [
    "plt.figure(figsize=(12,8))\n",
    "biplot(x_reduced[:,0:2],np.transpose(pca.components_[0:2, :]), X.columns )"
   ]
  },
  {
   "cell_type": "markdown",
   "metadata": {},
   "source": [
    "벡터의 길이는 분산 -> 표준화하고 진행했으면 분산은 1로 동일한데 왜 길이가 다른가\n",
    "- PC1, PC2 축으로만 표현되었기 때문에 다르다 전체차원이면 길이가 동일 (그림자, projection의 의미로 생각)"
   ]
  },
  {
   "cell_type": "markdown",
   "metadata": {},
   "source": [
    "- FtFrBody, SaleHt, Frame, YrHgt은 상관관계가 높다.\n",
    "- FtFrBody, SaleHt, Frame, YrHgt은 PC1과 상관관계가 높은 변수이다.\n",
    "- BkFat, SaleWt는 PC2와 상관관계가 높은 변수이며, PC2와 양의 상관관계를 가진다. 또한 PrctFFb는 PC2와 음의 상관관계를 가진다."
   ]
  },
  {
   "cell_type": "markdown",
   "metadata": {},
   "source": [
    "- 인덱스가 숫자로 표현되어 있기 때문에 숫자로 표현 (각 소의 고유번호로 생각하면 됨)\n",
    "- 15는 살은 쪘으나 다른 값들이 작음\n",
    "- 50은 살은 안쪘으나, 다른 값들이 큼"
   ]
  },
  {
   "cell_type": "markdown",
   "metadata": {},
   "source": [
    "5.\t첫 두 개의 주성분을 사용해 산점도를 그리고 Breed를 서로 다른 색깔과 기호로 표시하시오. 주성분에 의해 다른 종의 황소를 구분할 수 있는가? 이상점이 있는가? 있다면 어떤 특성을 가진 소인가?"
   ]
  },
  {
   "cell_type": "code",
   "execution_count": 20,
   "metadata": {},
   "outputs": [
    {
     "data": {
      "text/html": [
       "<div>\n",
       "<style scoped>\n",
       "    .dataframe tbody tr th:only-of-type {\n",
       "        vertical-align: middle;\n",
       "    }\n",
       "\n",
       "    .dataframe tbody tr th {\n",
       "        vertical-align: top;\n",
       "    }\n",
       "\n",
       "    .dataframe thead th {\n",
       "        text-align: right;\n",
       "    }\n",
       "</style>\n",
       "<table border=\"1\" class=\"dataframe\">\n",
       "  <thead>\n",
       "    <tr style=\"text-align: right;\">\n",
       "      <th></th>\n",
       "      <th>Breed</th>\n",
       "      <th>SalePr</th>\n",
       "      <th>YrHgt</th>\n",
       "      <th>FtFrBody</th>\n",
       "      <th>PrctFFB</th>\n",
       "      <th>Frame</th>\n",
       "      <th>BkFat</th>\n",
       "      <th>SaleHt</th>\n",
       "      <th>SaleWt</th>\n",
       "    </tr>\n",
       "  </thead>\n",
       "  <tbody>\n",
       "    <tr>\n",
       "      <th>0</th>\n",
       "      <td>1</td>\n",
       "      <td>2200</td>\n",
       "      <td>51.0</td>\n",
       "      <td>1128</td>\n",
       "      <td>70.9</td>\n",
       "      <td>7</td>\n",
       "      <td>0.25</td>\n",
       "      <td>54.8</td>\n",
       "      <td>1720</td>\n",
       "    </tr>\n",
       "    <tr>\n",
       "      <th>1</th>\n",
       "      <td>1</td>\n",
       "      <td>2250</td>\n",
       "      <td>51.9</td>\n",
       "      <td>1108</td>\n",
       "      <td>72.1</td>\n",
       "      <td>7</td>\n",
       "      <td>0.25</td>\n",
       "      <td>55.3</td>\n",
       "      <td>1575</td>\n",
       "    </tr>\n",
       "    <tr>\n",
       "      <th>2</th>\n",
       "      <td>1</td>\n",
       "      <td>1625</td>\n",
       "      <td>49.9</td>\n",
       "      <td>1011</td>\n",
       "      <td>71.6</td>\n",
       "      <td>6</td>\n",
       "      <td>0.15</td>\n",
       "      <td>53.1</td>\n",
       "      <td>1410</td>\n",
       "    </tr>\n",
       "    <tr>\n",
       "      <th>3</th>\n",
       "      <td>1</td>\n",
       "      <td>4600</td>\n",
       "      <td>53.1</td>\n",
       "      <td>993</td>\n",
       "      <td>68.9</td>\n",
       "      <td>8</td>\n",
       "      <td>0.35</td>\n",
       "      <td>56.4</td>\n",
       "      <td>1595</td>\n",
       "    </tr>\n",
       "    <tr>\n",
       "      <th>4</th>\n",
       "      <td>1</td>\n",
       "      <td>2150</td>\n",
       "      <td>51.2</td>\n",
       "      <td>996</td>\n",
       "      <td>68.6</td>\n",
       "      <td>7</td>\n",
       "      <td>0.25</td>\n",
       "      <td>55.0</td>\n",
       "      <td>1488</td>\n",
       "    </tr>\n",
       "  </tbody>\n",
       "</table>\n",
       "</div>"
      ],
      "text/plain": [
       "   Breed  SalePr  YrHgt  FtFrBody  PrctFFB  Frame  BkFat  SaleHt  SaleWt\n",
       "0      1    2200   51.0      1128     70.9      7   0.25    54.8    1720\n",
       "1      1    2250   51.9      1108     72.1      7   0.25    55.3    1575\n",
       "2      1    1625   49.9      1011     71.6      6   0.15    53.1    1410\n",
       "3      1    4600   53.1       993     68.9      8   0.35    56.4    1595\n",
       "4      1    2150   51.2       996     68.6      7   0.25    55.0    1488"
      ]
     },
     "execution_count": 20,
     "metadata": {},
     "output_type": "execute_result"
    }
   ],
   "source": [
    "data.head()"
   ]
  },
  {
   "cell_type": "code",
   "execution_count": 21,
   "metadata": {},
   "outputs": [
    {
     "data": {
      "image/png": "[encoded data removed]",
      "text/plain": [
       "<Figure size 432x288 with 1 Axes>"
      ]
     },
     "metadata": {
      "needs_background": "light"
     },
     "output_type": "display_data"
    }
   ],
   "source": [
    "sns.scatterplot(x = x_reduced[:,0], y = x_reduced[:,1],# x는 pc1, # y는 pc2\n",
    "               hue = data.Breed,\n",
    "               style = data.Breed)\n",
    "plt.show()"
   ]
  },
  {
   "cell_type": "code",
   "execution_count": 22,
   "metadata": {},
   "outputs": [
    {
     "data": {
      "text/plain": [
       "Breed         int64\n",
       "SalePr        int64\n",
       "YrHgt       float64\n",
       "FtFrBody      int64\n",
       "PrctFFB     float64\n",
       "Frame         int64\n",
       "BkFat       float64\n",
       "SaleHt      float64\n",
       "SaleWt        int64\n",
       "dtype: object"
      ]
     },
     "execution_count": 22,
     "metadata": {},
     "output_type": "execute_result"
    }
   ],
   "source": [
    "data.dtypes"
   ]
  },
  {
   "cell_type": "markdown",
   "metadata": {},
   "source": [
    "- Breed 값이 수치형 변수이므로, 값의 색이 차이가 별로 나지 않음"
   ]
  },
  {
   "cell_type": "code",
   "execution_count": 23,
   "metadata": {},
   "outputs": [
    {
     "data": {
      "image/png": "[encoded data removed]",
      "text/plain": [
       "<Figure size 432x288 with 1 Axes>"
      ]
     },
     "metadata": {
      "needs_background": "light"
     },
     "output_type": "display_data"
    }
   ],
   "source": [
    "sns.scatterplot(x = x_reduced[:,0], y = x_reduced[:,1],\n",
    "               hue = data.Breed.astype('category'),\n",
    "               style = data.Breed)\n",
    "plt.xlabel('PC1')\n",
    "plt.ylabel('PC2')\n",
    "plt.show()"
   ]
  },
  {
   "cell_type": "markdown",
   "metadata": {},
   "source": [
    "- 오른쪽에 치우친 소는 근육질 소로 추정되고, 위쪽에 치우친 소는 작지만 fat이 많은 소로 추정된다.\n",
    "- 소의 종에 따라서 특징이 나름대로 그룹핑이 되는 것처럼 보인다.\n",
    "- 8번종의 경우에는 PC1의 값이 크다. 상대적으로 PC2는 작은 편이나 깔끔하게 떨어지지 않는다.\n",
    "- 1번종의 경우에는 사이즈가 중간이고, PC2관점에서는 구분이 되지 않는다.\n",
    "- 7차원의 자료를 2차원에 표현하면서 그룹핑이 되는 지에 효과를 볼 수 있으며, 시각적으로 효과적 표현이 가능하다."
   ]
  },
  {
   "cell_type": "code",
   "execution_count": 24,
   "metadata": {},
   "outputs": [
    {
     "data": {
      "text/plain": [
       "0     1\n",
       "1     1\n",
       "2     1\n",
       "3     1\n",
       "4     1\n",
       "     ..\n",
       "71    8\n",
       "72    8\n",
       "73    8\n",
       "74    8\n",
       "75    8\n",
       "Name: Breed, Length: 76, dtype: category\n",
       "Categories (3, int64): [1, 5, 8]"
      ]
     },
     "execution_count": 24,
     "metadata": {},
     "output_type": "execute_result"
    }
   ],
   "source": [
    "data.Breed.astype('category')"
   ]
  },
  {
   "cell_type": "code",
   "execution_count": 25,
   "metadata": {},
   "outputs": [
    {
     "data": {
      "image/png": "[encoded data removed]",
      "text/plain": [
       "<Figure size 432x288 with 1 Axes>"
      ]
     },
     "metadata": {
      "needs_background": "light"
     },
     "output_type": "display_data"
    }
   ],
   "source": [
    "plt.scatter(np.matmul(X_scale, pca.components_[0]), x_reduced[:,0])\n",
    "plt.show()"
   ]
  },
  {
   "cell_type": "code",
   "execution_count": 26,
   "metadata": {},
   "outputs": [
    {
     "data": {
      "text/plain": [
       "array([[1.        , 0.55530002],\n",
       "       [0.55530002, 1.        ]])"
      ]
     },
     "execution_count": 26,
     "metadata": {},
     "output_type": "execute_result"
    }
   ],
   "source": [
    "np.corrcoef(data.Breed, x_reduced[:,0])"
   ]
  }
 ],
 "metadata": {
  "kernelspec": {
   "display_name": "Python3.8_DL",
   "language": "python",
   "name": "dl"
  },
  "language_info": {
   "codemirror_mode": {
    "name": "ipython",
    "version": 3
   },
   "file_extension": ".py",
   "mimetype": "text/x-python",
   "name": "python",
   "nbconvert_exporter": "python",
   "pygments_lexer": "ipython3",
   "version": "3.8.8"
  }
 },
 "nbformat": 4,
 "nbformat_minor": 4
}
