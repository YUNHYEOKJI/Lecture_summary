{
 "cells": [
  {
   "cell_type": "code",
   "execution_count": 2,
   "metadata": {},
   "outputs": [],
   "source": [
    "import pandas as pd\n",
    "import numpy as np\n",
    "import matplotlib.pylab as plt\n",
    "import scipy.stats as stats\n",
    "import statsmodels.api as sm\n",
    "import statsmodels.formula.api as smf\n",
    "from statsmodels.stats.outliers_influence import OLSInfluence\n",
    "\n",
    "data_path = \"../data/\"\n",
    "data = pd.read_csv(data_path + \"dengue2.csv\")"
   ]
  },
  {
   "cell_type": "markdown",
   "metadata": {},
   "source": [
    "dengue2.csv는 Aedes 모기에 의해 전염되는 뎅기열과 관련된 자료이다. \n",
    "-\tID: subject ID\n",
    "-\tDENGUE: Dengue fever status: 1=yes, 0=no\n",
    "-\tAGE in years\n",
    "-\tMOSNET: Use of mosquito netting: 1=yes, 0=no \n",
    "-\tSECTOR: Geographical sector in which the subject lived: 1,2,3,4, or 5\n"
   ]
  },
  {
   "cell_type": "code",
   "execution_count": 3,
   "metadata": {},
   "outputs": [
    {
     "data": {
      "text/html": [
       "<div>\n",
       "<style scoped>\n",
       "    .dataframe tbody tr th:only-of-type {\n",
       "        vertical-align: middle;\n",
       "    }\n",
       "\n",
       "    .dataframe tbody tr th {\n",
       "        vertical-align: top;\n",
       "    }\n",
       "\n",
       "    .dataframe thead th {\n",
       "        text-align: right;\n",
       "    }\n",
       "</style>\n",
       "<table border=\"1\" class=\"dataframe\">\n",
       "  <thead>\n",
       "    <tr style=\"text-align: right;\">\n",
       "      <th></th>\n",
       "      <th>ID</th>\n",
       "      <th>AGE</th>\n",
       "      <th>SEX</th>\n",
       "      <th>MOSNET</th>\n",
       "      <th>DENGUE</th>\n",
       "      <th>SCREEN</th>\n",
       "      <th>SES</th>\n",
       "      <th>SECTOR</th>\n",
       "    </tr>\n",
       "  </thead>\n",
       "  <tbody>\n",
       "    <tr>\n",
       "      <th>0</th>\n",
       "      <td>501</td>\n",
       "      <td>16</td>\n",
       "      <td>2</td>\n",
       "      <td>0</td>\n",
       "      <td>0</td>\n",
       "      <td>2</td>\n",
       "      <td>2.0</td>\n",
       "      <td>1</td>\n",
       "    </tr>\n",
       "    <tr>\n",
       "      <th>1</th>\n",
       "      <td>502</td>\n",
       "      <td>33</td>\n",
       "      <td>1</td>\n",
       "      <td>0</td>\n",
       "      <td>0</td>\n",
       "      <td>1</td>\n",
       "      <td>2.0</td>\n",
       "      <td>1</td>\n",
       "    </tr>\n",
       "    <tr>\n",
       "      <th>2</th>\n",
       "      <td>503</td>\n",
       "      <td>1</td>\n",
       "      <td>1</td>\n",
       "      <td>0</td>\n",
       "      <td>0</td>\n",
       "      <td>3</td>\n",
       "      <td>2.0</td>\n",
       "      <td>1</td>\n",
       "    </tr>\n",
       "    <tr>\n",
       "      <th>3</th>\n",
       "      <td>504</td>\n",
       "      <td>35</td>\n",
       "      <td>1</td>\n",
       "      <td>0</td>\n",
       "      <td>0</td>\n",
       "      <td>1</td>\n",
       "      <td>2.0</td>\n",
       "      <td>1</td>\n",
       "    </tr>\n",
       "    <tr>\n",
       "      <th>4</th>\n",
       "      <td>505</td>\n",
       "      <td>6</td>\n",
       "      <td>1</td>\n",
       "      <td>0</td>\n",
       "      <td>0</td>\n",
       "      <td>1</td>\n",
       "      <td>2.0</td>\n",
       "      <td>1</td>\n",
       "    </tr>\n",
       "  </tbody>\n",
       "</table>\n",
       "</div>"
      ],
      "text/plain": [
       "    ID  AGE  SEX  MOSNET  DENGUE  SCREEN  SES  SECTOR\n",
       "0  501   16    2       0       0       2  2.0       1\n",
       "1  502   33    1       0       0       1  2.0       1\n",
       "2  503    1    1       0       0       3  2.0       1\n",
       "3  504   35    1       0       0       1  2.0       1\n",
       "4  505    6    1       0       0       1  2.0       1"
      ]
     },
     "execution_count": 3,
     "metadata": {},
     "output_type": "execute_result"
    }
   ],
   "source": [
    "data.head()"
   ]
  },
  {
   "cell_type": "markdown",
   "metadata": {},
   "source": [
    "1. AGE, MOSNET, SECTOR를 사용하여 DENGUE를 예측하는 로지스틱 회귀모형을 적합하고 적합된 로지스틱회귀식을 쓰시오."
   ]
  },
  {
   "cell_type": "code",
   "execution_count": 7,
   "metadata": {},
   "outputs": [
    {
     "data": {
      "text/html": [
       "<table class=\"simpletable\">\n",
       "<caption>Generalized Linear Model Regression Results</caption>\n",
       "<tr>\n",
       "  <th>Dep. Variable:</th>        <td>DENGUE</td>      <th>  No. Observations:  </th>  <td>   196</td> \n",
       "</tr>\n",
       "<tr>\n",
       "  <th>Model:</th>                  <td>GLM</td>       <th>  Df Residuals:      </th>  <td>   189</td> \n",
       "</tr>\n",
       "<tr>\n",
       "  <th>Model Family:</th>        <td>Binomial</td>     <th>  Df Model:          </th>  <td>     6</td> \n",
       "</tr>\n",
       "<tr>\n",
       "  <th>Link Function:</th>         <td>logit</td>      <th>  Scale:             </th> <td>  1.0000</td>\n",
       "</tr>\n",
       "<tr>\n",
       "  <th>Method:</th>                <td>IRLS</td>       <th>  Log-Likelihood:    </th> <td> -101.85</td>\n",
       "</tr>\n",
       "<tr>\n",
       "  <th>Date:</th>            <td>Mon, 26 Apr 2021</td> <th>  Deviance:          </th> <td>  203.71</td>\n",
       "</tr>\n",
       "<tr>\n",
       "  <th>Time:</th>                <td>16:35:08</td>     <th>  Pearson chi2:      </th>  <td>  188.</td> \n",
       "</tr>\n",
       "<tr>\n",
       "  <th>No. Iterations:</th>          <td>6</td>        <th>                     </th>     <td> </td>   \n",
       "</tr>\n",
       "<tr>\n",
       "  <th>Covariance Type:</th>     <td>nonrobust</td>    <th>                     </th>     <td> </td>   \n",
       "</tr>\n",
       "</table>\n",
       "<table class=\"simpletable\">\n",
       "<tr>\n",
       "         <td></td>           <th>coef</th>     <th>std err</th>      <th>z</th>      <th>P>|z|</th>  <th>[0.025</th>    <th>0.975]</th>  \n",
       "</tr>\n",
       "<tr>\n",
       "  <th>Intercept</th>      <td>   -3.7866</td> <td>    1.038</td> <td>   -3.648</td> <td> 0.000</td> <td>   -5.821</td> <td>   -1.752</td>\n",
       "</tr>\n",
       "<tr>\n",
       "  <th>C(SECTOR)[T.2]</th> <td>    1.5612</td> <td>    1.117</td> <td>    1.397</td> <td> 0.162</td> <td>   -0.629</td> <td>    3.751</td>\n",
       "</tr>\n",
       "<tr>\n",
       "  <th>C(SECTOR)[T.3]</th> <td>    3.0322</td> <td>    1.078</td> <td>    2.812</td> <td> 0.005</td> <td>    0.919</td> <td>    5.146</td>\n",
       "</tr>\n",
       "<tr>\n",
       "  <th>C(SECTOR)[T.4]</th> <td>    2.7510</td> <td>    1.077</td> <td>    2.553</td> <td> 0.011</td> <td>    0.639</td> <td>    4.863</td>\n",
       "</tr>\n",
       "<tr>\n",
       "  <th>C(SECTOR)[T.5]</th> <td>    2.2200</td> <td>    1.072</td> <td>    2.070</td> <td> 0.038</td> <td>    0.118</td> <td>    4.322</td>\n",
       "</tr>\n",
       "<tr>\n",
       "  <th>AGE</th>            <td>    0.0243</td> <td>    0.009</td> <td>    2.679</td> <td> 0.007</td> <td>    0.007</td> <td>    0.042</td>\n",
       "</tr>\n",
       "<tr>\n",
       "  <th>MOSNET</th>         <td>   -0.3335</td> <td>    1.272</td> <td>   -0.262</td> <td> 0.793</td> <td>   -2.826</td> <td>    2.159</td>\n",
       "</tr>\n",
       "</table>"
      ],
      "text/plain": [
       "<class 'statsmodels.iolib.summary.Summary'>\n",
       "\"\"\"\n",
       "                 Generalized Linear Model Regression Results                  \n",
       "==============================================================================\n",
       "Dep. Variable:                 DENGUE   No. Observations:                  196\n",
       "Model:                            GLM   Df Residuals:                      189\n",
       "Model Family:                Binomial   Df Model:                            6\n",
       "Link Function:                  logit   Scale:                          1.0000\n",
       "Method:                          IRLS   Log-Likelihood:                -101.85\n",
       "Date:                Mon, 26 Apr 2021   Deviance:                       203.71\n",
       "Time:                        16:35:08   Pearson chi2:                     188.\n",
       "No. Iterations:                     6                                         \n",
       "Covariance Type:            nonrobust                                         \n",
       "==================================================================================\n",
       "                     coef    std err          z      P>|z|      [0.025      0.975]\n",
       "----------------------------------------------------------------------------------\n",
       "Intercept         -3.7866      1.038     -3.648      0.000      -5.821      -1.752\n",
       "C(SECTOR)[T.2]     1.5612      1.117      1.397      0.162      -0.629       3.751\n",
       "C(SECTOR)[T.3]     3.0322      1.078      2.812      0.005       0.919       5.146\n",
       "C(SECTOR)[T.4]     2.7510      1.077      2.553      0.011       0.639       4.863\n",
       "C(SECTOR)[T.5]     2.2200      1.072      2.070      0.038       0.118       4.322\n",
       "AGE                0.0243      0.009      2.679      0.007       0.007       0.042\n",
       "MOSNET            -0.3335      1.272     -0.262      0.793      -2.826       2.159\n",
       "==================================================================================\n",
       "\"\"\""
      ]
     },
     "execution_count": 7,
     "metadata": {},
     "output_type": "execute_result"
    }
   ],
   "source": [
    "model = smf.glm('DENGUE~AGE+MOSNET+C(SECTOR)', data, family = sm.families.Binomial()).fit()\n",
    "model.summary()"
   ]
  },
  {
   "cell_type": "markdown",
   "metadata": {},
   "source": [
    "log(P(X)/(1-P(X))) = -3.79 + (1.56*sector2) + (3.03*sector3) + (2.75*sector4) + (2.22*sector5) + (0.02*AGE) - (0.33*MOSNET)\n",
    "\n"
   ]
  },
  {
   "cell_type": "markdown",
   "metadata": {},
   "source": [
    "2. 각 회귀계수가 유의한지 검정하시오."
   ]
  },
  {
   "cell_type": "markdown",
   "metadata": {},
   "source": [
    "- SECTOR[T.2]와 MOSNET은 유의하지 않다."
   ]
  },
  {
   "cell_type": "markdown",
   "metadata": {},
   "source": [
    "3. 나이와 sector가 동일하다면 모기망을 사용하지 않을 때에 비해 사용할 때 뎅기열에 전염될 odds는 몇 % 감소하는가? "
   ]
  },
  {
   "cell_type": "code",
   "execution_count": 8,
   "metadata": {},
   "outputs": [
    {
     "data": {
      "text/plain": [
       "0.7164118986399645"
      ]
     },
     "execution_count": 8,
     "metadata": {},
     "output_type": "execute_result"
    }
   ],
   "source": [
    "np.exp(-0.3335)"
   ]
  },
  {
   "cell_type": "code",
   "execution_count": 9,
   "metadata": {},
   "outputs": [
    {
     "data": {
      "text/plain": [
       "0.28358810136003554"
      ]
     },
     "execution_count": 9,
     "metadata": {},
     "output_type": "execute_result"
    }
   ],
   "source": [
    "1-np.exp(-0.3335) # 28.4% 감소"
   ]
  },
  {
   "cell_type": "markdown",
   "metadata": {},
   "source": [
    "3-1. 나이와 sector가 동일하다면 모기망을 사용할 때에 비해 사용하지 않을 때 뎅기열에 전염될 odds는 몇 % 증가하는가?"
   ]
  },
  {
   "cell_type": "code",
   "execution_count": 14,
   "metadata": {},
   "outputs": [],
   "source": [
    "data['MOSNET_reverse'] = 1-data.MOSNET"
   ]
  },
  {
   "cell_type": "code",
   "execution_count": 15,
   "metadata": {},
   "outputs": [
    {
     "data": {
      "text/html": [
       "<table class=\"simpletable\">\n",
       "<caption>Generalized Linear Model Regression Results</caption>\n",
       "<tr>\n",
       "  <th>Dep. Variable:</th>        <td>DENGUE</td>      <th>  No. Observations:  </th>  <td>   196</td> \n",
       "</tr>\n",
       "<tr>\n",
       "  <th>Model:</th>                  <td>GLM</td>       <th>  Df Residuals:      </th>  <td>   189</td> \n",
       "</tr>\n",
       "<tr>\n",
       "  <th>Model Family:</th>        <td>Binomial</td>     <th>  Df Model:          </th>  <td>     6</td> \n",
       "</tr>\n",
       "<tr>\n",
       "  <th>Link Function:</th>         <td>logit</td>      <th>  Scale:             </th> <td>  1.0000</td>\n",
       "</tr>\n",
       "<tr>\n",
       "  <th>Method:</th>                <td>IRLS</td>       <th>  Log-Likelihood:    </th> <td> -101.85</td>\n",
       "</tr>\n",
       "<tr>\n",
       "  <th>Date:</th>            <td>Mon, 26 Apr 2021</td> <th>  Deviance:          </th> <td>  203.71</td>\n",
       "</tr>\n",
       "<tr>\n",
       "  <th>Time:</th>                <td>16:50:40</td>     <th>  Pearson chi2:      </th>  <td>  188.</td> \n",
       "</tr>\n",
       "<tr>\n",
       "  <th>No. Iterations:</th>          <td>6</td>        <th>                     </th>     <td> </td>   \n",
       "</tr>\n",
       "<tr>\n",
       "  <th>Covariance Type:</th>     <td>nonrobust</td>    <th>                     </th>     <td> </td>   \n",
       "</tr>\n",
       "</table>\n",
       "<table class=\"simpletable\">\n",
       "<tr>\n",
       "         <td></td>           <th>coef</th>     <th>std err</th>      <th>z</th>      <th>P>|z|</th>  <th>[0.025</th>    <th>0.975]</th>  \n",
       "</tr>\n",
       "<tr>\n",
       "  <th>Intercept</th>      <td>   -4.1201</td> <td>    1.598</td> <td>   -2.578</td> <td> 0.010</td> <td>   -7.252</td> <td>   -0.988</td>\n",
       "</tr>\n",
       "<tr>\n",
       "  <th>C(SECTOR)[T.2]</th> <td>    1.5612</td> <td>    1.117</td> <td>    1.397</td> <td> 0.162</td> <td>   -0.629</td> <td>    3.751</td>\n",
       "</tr>\n",
       "<tr>\n",
       "  <th>C(SECTOR)[T.3]</th> <td>    3.0322</td> <td>    1.078</td> <td>    2.812</td> <td> 0.005</td> <td>    0.919</td> <td>    5.146</td>\n",
       "</tr>\n",
       "<tr>\n",
       "  <th>C(SECTOR)[T.4]</th> <td>    2.7510</td> <td>    1.077</td> <td>    2.553</td> <td> 0.011</td> <td>    0.639</td> <td>    4.863</td>\n",
       "</tr>\n",
       "<tr>\n",
       "  <th>C(SECTOR)[T.5]</th> <td>    2.2200</td> <td>    1.072</td> <td>    2.070</td> <td> 0.038</td> <td>    0.118</td> <td>    4.322</td>\n",
       "</tr>\n",
       "<tr>\n",
       "  <th>AGE</th>            <td>    0.0243</td> <td>    0.009</td> <td>    2.679</td> <td> 0.007</td> <td>    0.007</td> <td>    0.042</td>\n",
       "</tr>\n",
       "<tr>\n",
       "  <th>MOSNET_reverse</th> <td>    0.3335</td> <td>    1.272</td> <td>    0.262</td> <td> 0.793</td> <td>   -2.159</td> <td>    2.826</td>\n",
       "</tr>\n",
       "</table>"
      ],
      "text/plain": [
       "<class 'statsmodels.iolib.summary.Summary'>\n",
       "\"\"\"\n",
       "                 Generalized Linear Model Regression Results                  \n",
       "==============================================================================\n",
       "Dep. Variable:                 DENGUE   No. Observations:                  196\n",
       "Model:                            GLM   Df Residuals:                      189\n",
       "Model Family:                Binomial   Df Model:                            6\n",
       "Link Function:                  logit   Scale:                          1.0000\n",
       "Method:                          IRLS   Log-Likelihood:                -101.85\n",
       "Date:                Mon, 26 Apr 2021   Deviance:                       203.71\n",
       "Time:                        16:50:40   Pearson chi2:                     188.\n",
       "No. Iterations:                     6                                         \n",
       "Covariance Type:            nonrobust                                         \n",
       "==================================================================================\n",
       "                     coef    std err          z      P>|z|      [0.025      0.975]\n",
       "----------------------------------------------------------------------------------\n",
       "Intercept         -4.1201      1.598     -2.578      0.010      -7.252      -0.988\n",
       "C(SECTOR)[T.2]     1.5612      1.117      1.397      0.162      -0.629       3.751\n",
       "C(SECTOR)[T.3]     3.0322      1.078      2.812      0.005       0.919       5.146\n",
       "C(SECTOR)[T.4]     2.7510      1.077      2.553      0.011       0.639       4.863\n",
       "C(SECTOR)[T.5]     2.2200      1.072      2.070      0.038       0.118       4.322\n",
       "AGE                0.0243      0.009      2.679      0.007       0.007       0.042\n",
       "MOSNET_reverse     0.3335      1.272      0.262      0.793      -2.159       2.826\n",
       "==================================================================================\n",
       "\"\"\""
      ]
     },
     "execution_count": 15,
     "metadata": {},
     "output_type": "execute_result"
    }
   ],
   "source": [
    "model = smf.glm('DENGUE~AGE+MOSNET_reverse+C(SECTOR)', data, family = sm.families.Binomial()).fit()\n",
    "model.summary()"
   ]
  },
  {
   "cell_type": "code",
   "execution_count": 13,
   "metadata": {},
   "outputs": [
    {
     "data": {
      "text/plain": [
       "1.39584504654152"
      ]
     },
     "execution_count": 13,
     "metadata": {},
     "output_type": "execute_result"
    }
   ],
   "source": [
    "np.exp(0.3335) # 39.6% 증가, 값은 동일, 부호만 변경"
   ]
  },
  {
   "cell_type": "markdown",
   "metadata": {},
   "source": [
    "4. 다른 설명변수의 값이 동일하다면 나이가 1살 증가하면 뎅기열에 걸릴 odds가 몇 % 증가하는가? 5살 증가하면 몇 % 증가하는가? "
   ]
  },
  {
   "cell_type": "code",
   "execution_count": 10,
   "metadata": {},
   "outputs": [
    {
     "data": {
      "text/plain": [
       "1.0245976510836627"
      ]
     },
     "execution_count": 10,
     "metadata": {},
     "output_type": "execute_result"
    }
   ],
   "source": [
    "np.exp(0.0243) # 1살 증가시, 2.4% 증가"
   ]
  },
  {
   "cell_type": "code",
   "execution_count": 11,
   "metadata": {},
   "outputs": [
    {
     "data": {
      "text/plain": [
       "1.1291893659251577"
      ]
     },
     "execution_count": 11,
     "metadata": {},
     "output_type": "execute_result"
    }
   ],
   "source": [
    "np.exp(0.0243*5) # 5살 증가시 12.9% 증가"
   ]
  },
  {
   "cell_type": "markdown",
   "metadata": {},
   "source": [
    "5. 다른 설명변수의 값이 동일할 때 가장 뎅기열에 걸릴 위험이 높은 sector는 어디인가? 그곳의 위험은 sector 1에 비해 몇 배 높은가?"
   ]
  },
  {
   "cell_type": "markdown",
   "metadata": {},
   "source": [
    "- sector3이 제일 위험, sector1이 제일 안전"
   ]
  },
  {
   "cell_type": "code",
   "execution_count": 12,
   "metadata": {},
   "outputs": [
    {
     "data": {
      "text/plain": [
       "20.742816625139927"
      ]
     },
     "execution_count": 12,
     "metadata": {},
     "output_type": "execute_result"
    }
   ],
   "source": [
    "np.exp(3.0322) # 20.7배 위험하다."
   ]
  }
 ],
 "metadata": {
  "kernelspec": {
   "display_name": "Python3.8_DL",
   "language": "python",
   "name": "dl"
  },
  "language_info": {
   "codemirror_mode": {
    "name": "ipython",
    "version": 3
   },
   "file_extension": ".py",
   "mimetype": "text/x-python",
   "name": "python",
   "nbconvert_exporter": "python",
   "pygments_lexer": "ipython3",
   "version": "3.8.8"
  }
 },
 "nbformat": 4,
 "nbformat_minor": 4
}
